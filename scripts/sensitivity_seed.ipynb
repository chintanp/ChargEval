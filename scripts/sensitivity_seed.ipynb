{
 "cells": [
  {
   "cell_type": "markdown",
   "metadata": {},
   "source": [
    "## Sensitivity Analysis for Global Seed\n",
    "\n",
    "This jupyter notebook creates plots to study the impact of varying the global seed for base-case analysis"
   ]
  },
  {
   "cell_type": "markdown",
   "metadata": {},
   "source": [
    "### 0. Analysis IDs to compare"
   ]
  },
  {
   "cell_type": "code",
   "execution_count": 1,
   "metadata": {},
   "outputs": [],
   "source": [
    "# Define the analysis_ids that we want to compare\n",
    "analysis_ids = (162, 163)"
   ]
  },
  {
   "cell_type": "markdown",
   "metadata": {},
   "source": [
    "### 1. Package Installs"
   ]
  },
  {
   "cell_type": "code",
   "execution_count": 2,
   "metadata": {},
   "outputs": [],
   "source": [
    "# python-dtenv to read the env variables\n",
    "#!pip install python-dotenv"
   ]
  },
  {
   "cell_type": "code",
   "execution_count": 3,
   "metadata": {},
   "outputs": [],
   "source": [
    "# Seaborn for plotting\n",
    "#!pip install seaborn"
   ]
  },
  {
   "cell_type": "code",
   "execution_count": 4,
   "metadata": {},
   "outputs": [],
   "source": [
    "# Plotly for plotting \n",
    "#!pip install plotly"
   ]
  },
  {
   "cell_type": "code",
   "execution_count": 5,
   "metadata": {},
   "outputs": [],
   "source": [
    "import pandas as pd\n",
    "import seaborn as sns\n",
    "import matplotlib.pyplot as plt\n",
    "from dotenv import load_dotenv\n",
    "from pathlib import Path  # Python 3.6+ only\n",
    "import os\n",
    "import psycopg2\n",
    "from plotly import graph_objects as go\n",
    "from plotly.subplots import make_subplots\n",
    "import plotly.express as px"
   ]
  },
  {
   "cell_type": "markdown",
   "metadata": {},
   "source": [
    "### 2. Environment Variables"
   ]
  },
  {
   "cell_type": "code",
   "execution_count": 6,
   "metadata": {},
   "outputs": [
    {
     "data": {
      "text/plain": [
       "True"
      ]
     },
     "execution_count": 6,
     "metadata": {},
     "output_type": "execute_result"
    }
   ],
   "source": [
    "# Load the environment variables\n",
    "env_path = Path('..') / '.env'\n",
    "load_dotenv(dotenv_path=env_path)"
   ]
  },
  {
   "cell_type": "code",
   "execution_count": 7,
   "metadata": {},
   "outputs": [
    {
     "data": {
      "text/plain": [
       "'evidss'"
      ]
     },
     "execution_count": 7,
     "metadata": {},
     "output_type": "execute_result"
    }
   ],
   "source": [
    "# Print this to see if the env variables are read now\n",
    "os.getenv(\"COMPOSE_PROJECT_NAME\")"
   ]
  },
  {
   "cell_type": "markdown",
   "metadata": {},
   "source": [
    "### 3. Database connection"
   ]
  },
  {
   "cell_type": "code",
   "execution_count": 8,
   "metadata": {},
   "outputs": [],
   "source": [
    "# Generic function to test the connection to the database\n",
    "def connect():\n",
    "    \"\"\" Connect to the PostgreSQL database server \"\"\"\n",
    "    conn = None\n",
    "    try:\n",
    "\n",
    "        # connect to the PostgreSQL server\n",
    "        print('Connecting to the PostgreSQL database...')\n",
    "        conn = psycopg2.connect(    \n",
    "            host=os.getenv(\"MAIN_HOST\"),\n",
    "            database=os.getenv(\"MAIN_DB\"),\n",
    "            user=os.getenv(\"DBREAD_USER\"),\n",
    "            password=os.getenv(\"DBREAD_PWD\"), \n",
    "            port = os.getenv(\"MAIN_PORT\")\n",
    "        )\n",
    "\t\t\n",
    "        # create a cursor\n",
    "        cur = conn.cursor()\n",
    "        \n",
    "\t# execute a statement\n",
    "        print('PostgreSQL database version:')\n",
    "        cur.execute('SELECT version()')\n",
    "\n",
    "        # display the PostgreSQL database server version\n",
    "        db_version = cur.fetchone()\n",
    "        print(db_version)\n",
    "       \n",
    "\t# close the communication with the PostgreSQL\n",
    "        cur.close()\n",
    "    except (Exception, psycopg2.DatabaseError) as error:\n",
    "        print(error)\n",
    "    finally:\n",
    "        if conn is not None:\n",
    "            conn.close()\n",
    "            print('Database connection closed.')"
   ]
  },
  {
   "cell_type": "code",
   "execution_count": 9,
   "metadata": {},
   "outputs": [
    {
     "name": "stdout",
     "output_type": "stream",
     "text": [
      "Connecting to the PostgreSQL database...\n",
      "PostgreSQL database version:\n",
      "('PostgreSQL 12.3 on x86_64-pc-linux-gnu, compiled by gcc (GCC) 4.8.5 20150623 (Red Hat 4.8.5-11), 64-bit',)\n",
      "Database connection closed.\n"
     ]
    }
   ],
   "source": [
    "# Make the test database connection\n",
    "connect()"
   ]
  },
  {
   "cell_type": "code",
   "execution_count": 10,
   "metadata": {},
   "outputs": [],
   "source": [
    "conn = psycopg2.connect(    \n",
    "    host=os.getenv(\"MAIN_HOST\"),\n",
    "    database=os.getenv(\"MAIN_DB\"),\n",
    "    user=os.getenv(\"DBREAD_USER\"),\n",
    "    password=os.getenv(\"DBREAD_PWD\"), \n",
    "    port = os.getenv(\"MAIN_PORT\")\n",
    ")\n",
    "\n",
    "# create a cursor\n",
    "cur = conn.cursor()"
   ]
  },
  {
   "cell_type": "markdown",
   "metadata": {},
   "source": [
    "### 4. Database queries"
   ]
  },
  {
   "cell_type": "code",
   "execution_count": 11,
   "metadata": {},
   "outputs": [
    {
     "data": {
      "text/plain": [
       "(40667,)"
      ]
     },
     "execution_count": 11,
     "metadata": {},
     "output_type": "execute_result"
    }
   ],
   "source": [
    "cur.execute('select count(veh_id) from wa_bevs')\n",
    "evs_in_wa = cur.fetchone()\n",
    "evs_in_wa"
   ]
  },
  {
   "cell_type": "code",
   "execution_count": 12,
   "metadata": {},
   "outputs": [
    {
     "data": {
      "text/html": [
       "<div>\n",
       "<style scoped>\n",
       "    .dataframe tbody tr th:only-of-type {\n",
       "        vertical-align: middle;\n",
       "    }\n",
       "\n",
       "    .dataframe tbody tr th {\n",
       "        vertical-align: top;\n",
       "    }\n",
       "\n",
       "    .dataframe thead th {\n",
       "        text-align: right;\n",
       "    }\n",
       "</style>\n",
       "<table border=\"1\" class=\"dataframe\">\n",
       "  <thead>\n",
       "    <tr style=\"text-align: right;\">\n",
       "      <th></th>\n",
       "      <th>count</th>\n",
       "      <th>analysis_id</th>\n",
       "    </tr>\n",
       "  </thead>\n",
       "  <tbody>\n",
       "    <tr>\n",
       "      <th>0</th>\n",
       "      <td>1136</td>\n",
       "      <td>162</td>\n",
       "    </tr>\n",
       "    <tr>\n",
       "      <th>1</th>\n",
       "      <td>1125</td>\n",
       "      <td>163</td>\n",
       "    </tr>\n",
       "  </tbody>\n",
       "</table>\n",
       "</div>"
      ],
      "text/plain": [
       "   count  analysis_id\n",
       "0   1136          162\n",
       "1   1125          163"
      ]
     },
     "execution_count": 12,
     "metadata": {},
     "output_type": "execute_result"
    }
   ],
   "source": [
    "sql_evs_in_sim = 'select count(veh_id), analysis_id from evtrip_scenarios where analysis_id IN %s group by analysis_id;'\n",
    "# cur.mogrify(sql_evs_in_sim, (analysis_ids,))\n",
    "evs_in_sim = pd.read_sql_query(sql=sql_evs_in_sim, con=conn, params=(analysis_ids,))\n",
    "evs_in_sim"
   ]
  },
  {
   "cell_type": "code",
   "execution_count": 13,
   "metadata": {},
   "outputs": [
    {
     "data": {
      "text/html": [
       "<div>\n",
       "<style scoped>\n",
       "    .dataframe tbody tr th:only-of-type {\n",
       "        vertical-align: middle;\n",
       "    }\n",
       "\n",
       "    .dataframe tbody tr th {\n",
       "        vertical-align: top;\n",
       "    }\n",
       "\n",
       "    .dataframe thead th {\n",
       "        text-align: right;\n",
       "    }\n",
       "</style>\n",
       "<table border=\"1\" class=\"dataframe\">\n",
       "  <thead>\n",
       "    <tr style=\"text-align: right;\">\n",
       "      <th></th>\n",
       "      <th>count</th>\n",
       "      <th>analysis_id</th>\n",
       "    </tr>\n",
       "  </thead>\n",
       "  <tbody>\n",
       "    <tr>\n",
       "      <th>0</th>\n",
       "      <td>1114</td>\n",
       "      <td>162</td>\n",
       "    </tr>\n",
       "    <tr>\n",
       "      <th>1</th>\n",
       "      <td>1089</td>\n",
       "      <td>163</td>\n",
       "    </tr>\n",
       "  </tbody>\n",
       "</table>\n",
       "</div>"
      ],
      "text/plain": [
       "   count  analysis_id\n",
       "0   1114          162\n",
       "1   1089          163"
      ]
     },
     "execution_count": 13,
     "metadata": {},
     "output_type": "execute_result"
    }
   ],
   "source": [
    "sql_evs_fin = 'select count(veh_id), analysis_id from ev_finished where analysis_id IN %s group by analysis_id;'\n",
    "# cur.mogrify(sql_evs_fin, (analysis_ids,))\n",
    "evs_fin = pd.read_sql_query(sql=sql_evs_fin, con=conn, params=(analysis_ids,))\n",
    "evs_fin"
   ]
  },
  {
   "cell_type": "code",
   "execution_count": 14,
   "metadata": {},
   "outputs": [
    {
     "data": {
      "text/html": [
       "<div>\n",
       "<style scoped>\n",
       "    .dataframe tbody tr th:only-of-type {\n",
       "        vertical-align: middle;\n",
       "    }\n",
       "\n",
       "    .dataframe tbody tr th {\n",
       "        vertical-align: top;\n",
       "    }\n",
       "\n",
       "    .dataframe thead th {\n",
       "        text-align: right;\n",
       "    }\n",
       "</style>\n",
       "<table border=\"1\" class=\"dataframe\">\n",
       "  <thead>\n",
       "    <tr style=\"text-align: right;\">\n",
       "      <th></th>\n",
       "      <th>count</th>\n",
       "      <th>analysis_id</th>\n",
       "    </tr>\n",
       "  </thead>\n",
       "  <tbody>\n",
       "    <tr>\n",
       "      <th>0</th>\n",
       "      <td>22</td>\n",
       "      <td>162</td>\n",
       "    </tr>\n",
       "    <tr>\n",
       "      <th>1</th>\n",
       "      <td>36</td>\n",
       "      <td>163</td>\n",
       "    </tr>\n",
       "  </tbody>\n",
       "</table>\n",
       "</div>"
      ],
      "text/plain": [
       "   count  analysis_id\n",
       "0     22          162\n",
       "1     36          163"
      ]
     },
     "execution_count": 14,
     "metadata": {},
     "output_type": "execute_result"
    }
   ],
   "source": [
    "sql_evs_str = 'select count(veh_id), analysis_id from ev_stranded where analysis_id IN %s group by analysis_id;'\n",
    "# cur.mogrify(sql_evs_str, (analysis_ids,)) # Uncomment for debugging the query\n",
    "evs_str = pd.read_sql_query(sql=sql_evs_str, con=conn, params=(analysis_ids,))\n",
    "evs_str"
   ]
  },
  {
   "cell_type": "code",
   "execution_count": 15,
   "metadata": {},
   "outputs": [
    {
     "data": {
      "text/html": [
       "<div>\n",
       "<style scoped>\n",
       "    .dataframe tbody tr th:only-of-type {\n",
       "        vertical-align: middle;\n",
       "    }\n",
       "\n",
       "    .dataframe tbody tr th {\n",
       "        vertical-align: top;\n",
       "    }\n",
       "\n",
       "    .dataframe thead th {\n",
       "        text-align: right;\n",
       "    }\n",
       "</style>\n",
       "<table border=\"1\" class=\"dataframe\">\n",
       "  <thead>\n",
       "    <tr style=\"text-align: right;\">\n",
       "      <th></th>\n",
       "      <th>sum</th>\n",
       "      <th>analysis_id</th>\n",
       "    </tr>\n",
       "  </thead>\n",
       "  <tbody>\n",
       "    <tr>\n",
       "      <th>0</th>\n",
       "      <td>124748.0</td>\n",
       "      <td>162</td>\n",
       "    </tr>\n",
       "    <tr>\n",
       "      <th>1</th>\n",
       "      <td>119944.0</td>\n",
       "      <td>163</td>\n",
       "    </tr>\n",
       "  </tbody>\n",
       "</table>\n",
       "</div>"
      ],
      "text/plain": [
       "        sum  analysis_id\n",
       "0  124748.0          162\n",
       "1  119944.0          163"
      ]
     },
     "execution_count": 15,
     "metadata": {},
     "output_type": "execute_result"
    }
   ],
   "source": [
    "sql_evmt = 'select sum(distance_travelled), analysis_id from ev_finished where analysis_id IN %s group by analysis_id;'\n",
    "# cur.mogrify(sql_evmt, (analysis_ids,))\n",
    "evmt = pd.read_sql_query(sql=sql_evmt, con=conn, params=(analysis_ids,))\n",
    "evmt"
   ]
  },
  {
   "cell_type": "code",
   "execution_count": 16,
   "metadata": {},
   "outputs": [
    {
     "data": {
      "text/html": [
       "<div>\n",
       "<style scoped>\n",
       "    .dataframe tbody tr th:only-of-type {\n",
       "        vertical-align: middle;\n",
       "    }\n",
       "\n",
       "    .dataframe tbody tr th {\n",
       "        vertical-align: top;\n",
       "    }\n",
       "\n",
       "    .dataframe thead th {\n",
       "        text-align: right;\n",
       "    }\n",
       "</style>\n",
       "<table border=\"1\" class=\"dataframe\">\n",
       "  <thead>\n",
       "    <tr style=\"text-align: right;\">\n",
       "      <th></th>\n",
       "      <th>count</th>\n",
       "      <th>analysis_id</th>\n",
       "    </tr>\n",
       "  </thead>\n",
       "  <tbody>\n",
       "    <tr>\n",
       "      <th>0</th>\n",
       "      <td>734</td>\n",
       "      <td>162</td>\n",
       "    </tr>\n",
       "    <tr>\n",
       "      <th>1</th>\n",
       "      <td>777</td>\n",
       "      <td>163</td>\n",
       "    </tr>\n",
       "  </tbody>\n",
       "</table>\n",
       "</div>"
      ],
      "text/plain": [
       "   count  analysis_id\n",
       "0    734          162\n",
       "1    777          163"
      ]
     },
     "execution_count": 16,
     "metadata": {},
     "output_type": "execute_result"
    }
   ],
   "source": [
    "sql_cs = 'select count(cs_id), analysis_id from evse_charging_session where analysis_id IN %s group by analysis_id;'\n",
    "# cur.mogrify(sql_cs, (analysis_ids,))\n",
    "cs = pd.read_sql_query(sql=sql_cs, con=conn, params=(analysis_ids,))\n",
    "cs"
   ]
  },
  {
   "cell_type": "code",
   "execution_count": 17,
   "metadata": {},
   "outputs": [
    {
     "data": {
      "text/html": [
       "<div>\n",
       "<style scoped>\n",
       "    .dataframe tbody tr th:only-of-type {\n",
       "        vertical-align: middle;\n",
       "    }\n",
       "\n",
       "    .dataframe tbody tr th {\n",
       "        vertical-align: top;\n",
       "    }\n",
       "\n",
       "    .dataframe thead th {\n",
       "        text-align: right;\n",
       "    }\n",
       "</style>\n",
       "<table border=\"1\" class=\"dataframe\">\n",
       "  <thead>\n",
       "    <tr style=\"text-align: right;\">\n",
       "      <th></th>\n",
       "      <th>count</th>\n",
       "      <th>analysis_id</th>\n",
       "    </tr>\n",
       "  </thead>\n",
       "  <tbody>\n",
       "    <tr>\n",
       "      <th>0</th>\n",
       "      <td>425</td>\n",
       "      <td>162</td>\n",
       "    </tr>\n",
       "    <tr>\n",
       "      <th>1</th>\n",
       "      <td>434</td>\n",
       "      <td>163</td>\n",
       "    </tr>\n",
       "  </tbody>\n",
       "</table>\n",
       "</div>"
      ],
      "text/plain": [
       "   count  analysis_id\n",
       "0    425          162\n",
       "1    434          163"
      ]
     },
     "execution_count": 17,
     "metadata": {},
     "output_type": "execute_result"
    }
   ],
   "source": [
    "sql_ws = 'select count(wait_id), analysis_id from evse_evs_waiting where analysis_id IN %s group by analysis_id;'\n",
    "# cur.mogrify(sql_ws, (analysis_ids,))\n",
    "ws = pd.read_sql_query(sql=sql_ws, con=conn, params=(analysis_ids,))\n",
    "ws"
   ]
  },
  {
   "cell_type": "code",
   "execution_count": 18,
   "metadata": {},
   "outputs": [
    {
     "data": {
      "text/html": [
       "<div>\n",
       "<style scoped>\n",
       "    .dataframe tbody tr th:only-of-type {\n",
       "        vertical-align: middle;\n",
       "    }\n",
       "\n",
       "    .dataframe tbody tr th {\n",
       "        vertical-align: top;\n",
       "    }\n",
       "\n",
       "    .dataframe thead th {\n",
       "        text-align: right;\n",
       "    }\n",
       "</style>\n",
       "<table border=\"1\" class=\"dataframe\">\n",
       "  <thead>\n",
       "    <tr style=\"text-align: right;\">\n",
       "      <th></th>\n",
       "      <th>analysis_id</th>\n",
       "      <th>datetime</th>\n",
       "      <th>total_power</th>\n",
       "      <th>global_seed</th>\n",
       "    </tr>\n",
       "  </thead>\n",
       "  <tbody>\n",
       "    <tr>\n",
       "      <th>0</th>\n",
       "      <td>163</td>\n",
       "      <td>2019-07-01 12:16:36</td>\n",
       "      <td>0</td>\n",
       "      <td>0</td>\n",
       "    </tr>\n",
       "    <tr>\n",
       "      <th>1</th>\n",
       "      <td>163</td>\n",
       "      <td>2019-07-01 12:17:36</td>\n",
       "      <td>0</td>\n",
       "      <td>0</td>\n",
       "    </tr>\n",
       "    <tr>\n",
       "      <th>2</th>\n",
       "      <td>163</td>\n",
       "      <td>2019-07-01 12:18:36</td>\n",
       "      <td>0</td>\n",
       "      <td>0</td>\n",
       "    </tr>\n",
       "    <tr>\n",
       "      <th>3</th>\n",
       "      <td>163</td>\n",
       "      <td>2019-07-01 12:19:36</td>\n",
       "      <td>0</td>\n",
       "      <td>0</td>\n",
       "    </tr>\n",
       "    <tr>\n",
       "      <th>4</th>\n",
       "      <td>163</td>\n",
       "      <td>2019-07-01 12:20:36</td>\n",
       "      <td>0</td>\n",
       "      <td>0</td>\n",
       "    </tr>\n",
       "    <tr>\n",
       "      <th>...</th>\n",
       "      <td>...</td>\n",
       "      <td>...</td>\n",
       "      <td>...</td>\n",
       "      <td>...</td>\n",
       "    </tr>\n",
       "    <tr>\n",
       "      <th>2312</th>\n",
       "      <td>162</td>\n",
       "      <td>2019-07-01 23:21:31</td>\n",
       "      <td>0</td>\n",
       "      <td>123</td>\n",
       "    </tr>\n",
       "    <tr>\n",
       "      <th>2313</th>\n",
       "      <td>162</td>\n",
       "      <td>2019-07-01 23:22:31</td>\n",
       "      <td>0</td>\n",
       "      <td>123</td>\n",
       "    </tr>\n",
       "    <tr>\n",
       "      <th>2314</th>\n",
       "      <td>162</td>\n",
       "      <td>2019-07-01 23:23:31</td>\n",
       "      <td>0</td>\n",
       "      <td>123</td>\n",
       "    </tr>\n",
       "    <tr>\n",
       "      <th>2315</th>\n",
       "      <td>162</td>\n",
       "      <td>2019-07-01 23:24:31</td>\n",
       "      <td>0</td>\n",
       "      <td>123</td>\n",
       "    </tr>\n",
       "    <tr>\n",
       "      <th>2316</th>\n",
       "      <td>162</td>\n",
       "      <td>2019-07-01 23:25:31</td>\n",
       "      <td>0</td>\n",
       "      <td>123</td>\n",
       "    </tr>\n",
       "  </tbody>\n",
       "</table>\n",
       "<p>2317 rows × 4 columns</p>\n",
       "</div>"
      ],
      "text/plain": [
       "      analysis_id            datetime  total_power global_seed\n",
       "0             163 2019-07-01 12:16:36            0           0\n",
       "1             163 2019-07-01 12:17:36            0           0\n",
       "2             163 2019-07-01 12:18:36            0           0\n",
       "3             163 2019-07-01 12:19:36            0           0\n",
       "4             163 2019-07-01 12:20:36            0           0\n",
       "...           ...                 ...          ...         ...\n",
       "2312          162 2019-07-01 23:21:31            0         123\n",
       "2313          162 2019-07-01 23:22:31            0         123\n",
       "2314          162 2019-07-01 23:23:31            0         123\n",
       "2315          162 2019-07-01 23:24:31            0         123\n",
       "2316          162 2019-07-01 23:25:31            0         123\n",
       "\n",
       "[2317 rows x 4 columns]"
      ]
     },
     "execution_count": 18,
     "metadata": {},
     "output_type": "execute_result"
    }
   ],
   "source": [
    "sql_evse_util = \"\"\"SELECT epd.analysis_id,\n",
    "       epd.simulation_ts::timestamp as datetime,\n",
    "       sum(epd.power_val)           as total_power,\n",
    "       ap.param_value               as global_seed\n",
    "FROM evse_power_draw epd\n",
    "         join (select param_value, analysis_id from analysis_params where param_id = 1) as ap\n",
    "              on epd.analysis_id = ap.analysis_id\n",
    "WHERE epd.analysis_id IN %s\n",
    "GROUP BY epd.simulation_ts, epd.analysis_id, ap.param_value\n",
    "ORDER BY global_seed, epd.simulation_ts::timestamp;\"\"\"\n",
    "# cur.mogrify(sql_evse_util, (analysis_ids,))\n",
    "evse_util = pd.read_sql_query(sql=sql_evse_util, con=conn, params=(analysis_ids,))\n",
    "evse_util"
   ]
  },
  {
   "cell_type": "code",
   "execution_count": 19,
   "metadata": {},
   "outputs": [
    {
     "data": {
      "text/html": [
       "<div>\n",
       "<style scoped>\n",
       "    .dataframe tbody tr th:only-of-type {\n",
       "        vertical-align: middle;\n",
       "    }\n",
       "\n",
       "    .dataframe tbody tr th {\n",
       "        vertical-align: top;\n",
       "    }\n",
       "\n",
       "    .dataframe thead th {\n",
       "        text-align: right;\n",
       "    }\n",
       "</style>\n",
       "<table border=\"1\" class=\"dataframe\">\n",
       "  <thead>\n",
       "    <tr style=\"text-align: right;\">\n",
       "      <th></th>\n",
       "      <th>sim_count</th>\n",
       "      <th>analysis_id</th>\n",
       "      <th>param_value</th>\n",
       "      <th>fin_count</th>\n",
       "      <th>evmt</th>\n",
       "      <th>str_count</th>\n",
       "      <th>cs_count</th>\n",
       "      <th>wait_count</th>\n",
       "    </tr>\n",
       "  </thead>\n",
       "  <tbody>\n",
       "    <tr>\n",
       "      <th>0</th>\n",
       "      <td>1136</td>\n",
       "      <td>162</td>\n",
       "      <td>123</td>\n",
       "      <td>1114</td>\n",
       "      <td>124748.0</td>\n",
       "      <td>22</td>\n",
       "      <td>734</td>\n",
       "      <td>425</td>\n",
       "    </tr>\n",
       "    <tr>\n",
       "      <th>1</th>\n",
       "      <td>1125</td>\n",
       "      <td>163</td>\n",
       "      <td>0</td>\n",
       "      <td>1089</td>\n",
       "      <td>119944.0</td>\n",
       "      <td>36</td>\n",
       "      <td>777</td>\n",
       "      <td>434</td>\n",
       "    </tr>\n",
       "  </tbody>\n",
       "</table>\n",
       "</div>"
      ],
      "text/plain": [
       "   sim_count  analysis_id param_value  fin_count      evmt  str_count  \\\n",
       "0       1136          162         123       1114  124748.0         22   \n",
       "1       1125          163           0       1089  119944.0         36   \n",
       "\n",
       "   cs_count  wait_count  \n",
       "0       734         425  \n",
       "1       777         434  "
      ]
     },
     "execution_count": 19,
     "metadata": {},
     "output_type": "execute_result"
    }
   ],
   "source": [
    "sql_count_stats = \"\"\"select count(ets.veh_id) as sim_count,\n",
    "       ets.analysis_id,\n",
    "       ap.param_value,\n",
    "       ef.fin_count,\n",
    "       ef.evmt,\n",
    "       es.str_count,\n",
    "       ecs.cs_count,\n",
    "       ew.wait_count\n",
    "from evtrip_scenarios ets\n",
    "         join (select param_value, analysis_id from analysis_params where param_id = 1) as ap\n",
    "              on ets.analysis_id = ap.analysis_id\n",
    "         join (select count(veh_id) as fin_count, sum(distance_travelled) as evmt, analysis_id\n",
    "               from ev_finished\n",
    "               group by analysis_id) as ef\n",
    "              on ets.analysis_id = ef.analysis_id\n",
    "         join (select count(veh_id) as str_count, analysis_id from ev_stranded group by analysis_id) as es\n",
    "              on ets.analysis_id = es.analysis_id\n",
    "         join (select count(cs_id) as cs_count, analysis_id from evse_charging_session group by analysis_id) as ecs\n",
    "              on ets.analysis_id = ecs.analysis_id\n",
    "join (select count(wait_id) as wait_count, analysis_id from evse_evs_waiting group by analysis_id) as ew\n",
    "              on ets.analysis_id = ew.analysis_id\n",
    "where ets.analysis_id IN %s\n",
    "group by ets.analysis_id, ap.param_value, ef.fin_count, es.str_count, ef.evmt, ecs.cs_count, ew.wait_count\n",
    ";\"\"\"\n",
    "count_stats = pd.read_sql_query(sql=sql_count_stats, con=conn, params=(analysis_ids,))\n",
    "count_stats"
   ]
  },
  {
   "cell_type": "code",
   "execution_count": 20,
   "metadata": {},
   "outputs": [
    {
     "data": {
      "text/html": [
       "<div>\n",
       "<style scoped>\n",
       "    .dataframe tbody tr th:only-of-type {\n",
       "        vertical-align: middle;\n",
       "    }\n",
       "\n",
       "    .dataframe tbody tr th {\n",
       "        vertical-align: top;\n",
       "    }\n",
       "\n",
       "    .dataframe thead th {\n",
       "        text-align: right;\n",
       "    }\n",
       "</style>\n",
       "<table border=\"1\" class=\"dataframe\">\n",
       "  <thead>\n",
       "    <tr style=\"text-align: right;\">\n",
       "      <th></th>\n",
       "      <th>sim_count</th>\n",
       "      <th>analysis_id</th>\n",
       "      <th>param_value</th>\n",
       "      <th>fin_count</th>\n",
       "      <th>evmt</th>\n",
       "      <th>str_count</th>\n",
       "      <th>cs_count</th>\n",
       "      <th>wait_count</th>\n",
       "    </tr>\n",
       "  </thead>\n",
       "  <tbody>\n",
       "    <tr>\n",
       "      <th>1</th>\n",
       "      <td>1125</td>\n",
       "      <td>163</td>\n",
       "      <td>0</td>\n",
       "      <td>1089</td>\n",
       "      <td>119944.0</td>\n",
       "      <td>36</td>\n",
       "      <td>777</td>\n",
       "      <td>434</td>\n",
       "    </tr>\n",
       "    <tr>\n",
       "      <th>0</th>\n",
       "      <td>1136</td>\n",
       "      <td>162</td>\n",
       "      <td>123</td>\n",
       "      <td>1114</td>\n",
       "      <td>124748.0</td>\n",
       "      <td>22</td>\n",
       "      <td>734</td>\n",
       "      <td>425</td>\n",
       "    </tr>\n",
       "  </tbody>\n",
       "</table>\n",
       "</div>"
      ],
      "text/plain": [
       "   sim_count  analysis_id param_value  fin_count      evmt  str_count  \\\n",
       "1       1125          163           0       1089  119944.0         36   \n",
       "0       1136          162         123       1114  124748.0         22   \n",
       "\n",
       "   cs_count  wait_count  \n",
       "1       777         434  \n",
       "0       734         425  "
      ]
     },
     "execution_count": 20,
     "metadata": {},
     "output_type": "execute_result"
    }
   ],
   "source": [
    "count_stats.dtypes\n",
    "count_stats = count_stats.sort_values(by=['param_value'])\n",
    "count_stats"
   ]
  },
  {
   "cell_type": "code",
   "execution_count": 42,
   "metadata": {},
   "outputs": [
    {
     "data": {
      "text/html": [
       "<div>\n",
       "<style scoped>\n",
       "    .dataframe tbody tr th:only-of-type {\n",
       "        vertical-align: middle;\n",
       "    }\n",
       "\n",
       "    .dataframe tbody tr th {\n",
       "        vertical-align: top;\n",
       "    }\n",
       "\n",
       "    .dataframe thead th {\n",
       "        text-align: right;\n",
       "    }\n",
       "</style>\n",
       "<table border=\"1\" class=\"dataframe\">\n",
       "  <thead>\n",
       "    <tr style=\"text-align: right;\">\n",
       "      <th></th>\n",
       "      <th>start_time</th>\n",
       "      <th>aid</th>\n",
       "      <th>end_time_tripgen</th>\n",
       "      <th>action_tstamp_tx</th>\n",
       "      <th>ev_count</th>\n",
       "      <th>param_value</th>\n",
       "      <th>time_taken_tripgen</th>\n",
       "      <th>time_taken_eviabm</th>\n",
       "    </tr>\n",
       "  </thead>\n",
       "  <tbody>\n",
       "    <tr>\n",
       "      <th>0</th>\n",
       "      <td>2020-11-08 21:36:23.085453+00:00</td>\n",
       "      <td>163</td>\n",
       "      <td>2020-11-08 21:44:21.773965+00:00</td>\n",
       "      <td>2020-11-09 04:33:55.297260+00:00</td>\n",
       "      <td># EV: 1125</td>\n",
       "      <td>0</td>\n",
       "      <td>7.0</td>\n",
       "      <td>409.0</td>\n",
       "    </tr>\n",
       "    <tr>\n",
       "      <th>1</th>\n",
       "      <td>2020-11-08 21:36:09.115723+00:00</td>\n",
       "      <td>162</td>\n",
       "      <td>2020-11-08 21:44:06.267115+00:00</td>\n",
       "      <td>2020-11-09 04:30:54.546589+00:00</td>\n",
       "      <td># EV: 1136</td>\n",
       "      <td>123</td>\n",
       "      <td>7.0</td>\n",
       "      <td>406.0</td>\n",
       "    </tr>\n",
       "  </tbody>\n",
       "</table>\n",
       "</div>"
      ],
      "text/plain": [
       "                        start_time  aid                 end_time_tripgen  \\\n",
       "0 2020-11-08 21:36:23.085453+00:00  163 2020-11-08 21:44:21.773965+00:00   \n",
       "1 2020-11-08 21:36:09.115723+00:00  162 2020-11-08 21:44:06.267115+00:00   \n",
       "\n",
       "                  action_tstamp_tx    ev_count param_value  \\\n",
       "0 2020-11-09 04:33:55.297260+00:00  # EV: 1125           0   \n",
       "1 2020-11-09 04:30:54.546589+00:00  # EV: 1136         123   \n",
       "\n",
       "   time_taken_tripgen  time_taken_eviabm  \n",
       "0                 7.0              409.0  \n",
       "1                 7.0              406.0  "
      ]
     },
     "execution_count": 42,
     "metadata": {},
     "output_type": "execute_result"
    }
   ],
   "source": [
    "sql_comp_stats = \"\"\"select lai.action_tstamp_tx                                               as start_time,\n",
    "       lau.aid,\n",
    "       lau.action_tstamp_tx                                               as end_time_tripgen,\n",
    "       las.action_tstamp_tx,\n",
    "       '# EV: ' || es.ev_count as ev_count,\n",
    "       ap.param_value,\n",
    "       ((DATE_PART('day', lau.action_tstamp_tx - lai.action_tstamp_tx) * 24 +\n",
    "         DATE_PART('hour', lau.action_tstamp_tx - lai.action_tstamp_tx)) * 60 +\n",
    "        DATE_PART('minute', lau.action_tstamp_tx - lai.action_tstamp_tx)) as time_taken_tripgen,\n",
    "       ((DATE_PART('day', las.action_tstamp_tx - lau.action_tstamp_tx) * 24 +\n",
    "         DATE_PART('hour', las.action_tstamp_tx - lau.action_tstamp_tx)) * 60 +\n",
    "        DATE_PART('minute', las.action_tstamp_tx - lau.action_tstamp_tx)) as time_taken_eviabm\n",
    "from audit.logged_actions lai\n",
    "         join (select action_tstamp_tx, action, row_data -> 'analysis_id' as aid\n",
    "               from audit.logged_actions\n",
    "               where action = 'U'\n",
    "                 and changed_fields -> 'status' LIKE 'trips_generated') as lau\n",
    "              on lau.aid = lai.row_data -> 'analysis_id'\n",
    "         join (select action_tstamp_tx, action, row_data -> 'analysis_id' as aid\n",
    "               from audit.logged_actions\n",
    "               where action = 'U'\n",
    "                 and changed_fields -> 'status' LIKE 'solved') as las\n",
    "              on las.aid = lai.row_data -> 'analysis_id'\n",
    "         join (select count(veh_id) as ev_count, analysis_id from public.evtrip_scenarios group by analysis_id) as es\n",
    "              on es.analysis_id = (lai.row_data -> 'analysis_id')::int\n",
    "         join (select param_value, analysis_id from analysis_params where param_id = 1) as ap\n",
    "              on (lai.row_data -> 'analysis_id')::int = ap.analysis_id\n",
    "where lai.action = 'I'\n",
    "  and lai.row_data -> 'analysis_id' ~* %s\n",
    "ORDER BY ap.param_value\n",
    ";\"\"\"\n",
    "data = '|'.join(map(str,analysis_ids))\n",
    "comp_stats = pd.read_sql_query(sql=sql_comp_stats, con=conn, params=(data,))\n",
    "comp_stats"
   ]
  },
  {
   "cell_type": "markdown",
   "metadata": {},
   "source": [
    "### 5. Plotting"
   ]
  },
  {
   "cell_type": "markdown",
   "metadata": {},
   "source": [
    "#### 5.1 Vehicle Counts"
   ]
  },
  {
   "cell_type": "code",
   "execution_count": 43,
   "metadata": {},
   "outputs": [
    {
     "data": {
      "application/vnd.plotly.v1+json": {
       "config": {
        "plotlyServerURL": "https://plot.ly"
       },
       "data": [
        {
         "name": "# In Simulation",
         "offsetgroup": "0",
         "text": [
          1125,
          1136
         ],
         "textposition": "auto",
         "type": "bar",
         "x": [
          "0",
          "123"
         ],
         "y": [
          1125,
          1136
         ]
        },
        {
         "name": "# Finished",
         "offsetgroup": "1",
         "text": [
          1089,
          1114
         ],
         "textposition": "auto",
         "type": "bar",
         "x": [
          "0",
          "123"
         ],
         "y": [
          1089,
          1114
         ]
        },
        {
         "base": [
          1089,
          1114
         ],
         "name": "# Stranded",
         "offsetgroup": "1",
         "text": [
          36,
          22
         ],
         "textposition": "auto",
         "type": "bar",
         "x": [
          "0",
          "123"
         ],
         "y": [
          36,
          22
         ]
        }
       ],
       "layout": {
        "height": 400,
        "margin": {
         "b": 20,
         "l": 20,
         "r": 20,
         "t": 30
        },
        "template": {
         "data": {
          "bar": [
           {
            "error_x": {
             "color": "#2a3f5f"
            },
            "error_y": {
             "color": "#2a3f5f"
            },
            "marker": {
             "line": {
              "color": "white",
              "width": 0.5
             }
            },
            "type": "bar"
           }
          ],
          "barpolar": [
           {
            "marker": {
             "line": {
              "color": "white",
              "width": 0.5
             }
            },
            "type": "barpolar"
           }
          ],
          "carpet": [
           {
            "aaxis": {
             "endlinecolor": "#2a3f5f",
             "gridcolor": "#C8D4E3",
             "linecolor": "#C8D4E3",
             "minorgridcolor": "#C8D4E3",
             "startlinecolor": "#2a3f5f"
            },
            "baxis": {
             "endlinecolor": "#2a3f5f",
             "gridcolor": "#C8D4E3",
             "linecolor": "#C8D4E3",
             "minorgridcolor": "#C8D4E3",
             "startlinecolor": "#2a3f5f"
            },
            "type": "carpet"
           }
          ],
          "choropleth": [
           {
            "colorbar": {
             "outlinewidth": 0,
             "ticks": ""
            },
            "type": "choropleth"
           }
          ],
          "contour": [
           {
            "colorbar": {
             "outlinewidth": 0,
             "ticks": ""
            },
            "colorscale": [
             [
              0,
              "#0d0887"
             ],
             [
              0.1111111111111111,
              "#46039f"
             ],
             [
              0.2222222222222222,
              "#7201a8"
             ],
             [
              0.3333333333333333,
              "#9c179e"
             ],
             [
              0.4444444444444444,
              "#bd3786"
             ],
             [
              0.5555555555555556,
              "#d8576b"
             ],
             [
              0.6666666666666666,
              "#ed7953"
             ],
             [
              0.7777777777777778,
              "#fb9f3a"
             ],
             [
              0.8888888888888888,
              "#fdca26"
             ],
             [
              1,
              "#f0f921"
             ]
            ],
            "type": "contour"
           }
          ],
          "contourcarpet": [
           {
            "colorbar": {
             "outlinewidth": 0,
             "ticks": ""
            },
            "type": "contourcarpet"
           }
          ],
          "heatmap": [
           {
            "colorbar": {
             "outlinewidth": 0,
             "ticks": ""
            },
            "colorscale": [
             [
              0,
              "#0d0887"
             ],
             [
              0.1111111111111111,
              "#46039f"
             ],
             [
              0.2222222222222222,
              "#7201a8"
             ],
             [
              0.3333333333333333,
              "#9c179e"
             ],
             [
              0.4444444444444444,
              "#bd3786"
             ],
             [
              0.5555555555555556,
              "#d8576b"
             ],
             [
              0.6666666666666666,
              "#ed7953"
             ],
             [
              0.7777777777777778,
              "#fb9f3a"
             ],
             [
              0.8888888888888888,
              "#fdca26"
             ],
             [
              1,
              "#f0f921"
             ]
            ],
            "type": "heatmap"
           }
          ],
          "heatmapgl": [
           {
            "colorbar": {
             "outlinewidth": 0,
             "ticks": ""
            },
            "colorscale": [
             [
              0,
              "#0d0887"
             ],
             [
              0.1111111111111111,
              "#46039f"
             ],
             [
              0.2222222222222222,
              "#7201a8"
             ],
             [
              0.3333333333333333,
              "#9c179e"
             ],
             [
              0.4444444444444444,
              "#bd3786"
             ],
             [
              0.5555555555555556,
              "#d8576b"
             ],
             [
              0.6666666666666666,
              "#ed7953"
             ],
             [
              0.7777777777777778,
              "#fb9f3a"
             ],
             [
              0.8888888888888888,
              "#fdca26"
             ],
             [
              1,
              "#f0f921"
             ]
            ],
            "type": "heatmapgl"
           }
          ],
          "histogram": [
           {
            "marker": {
             "colorbar": {
              "outlinewidth": 0,
              "ticks": ""
             }
            },
            "type": "histogram"
           }
          ],
          "histogram2d": [
           {
            "colorbar": {
             "outlinewidth": 0,
             "ticks": ""
            },
            "colorscale": [
             [
              0,
              "#0d0887"
             ],
             [
              0.1111111111111111,
              "#46039f"
             ],
             [
              0.2222222222222222,
              "#7201a8"
             ],
             [
              0.3333333333333333,
              "#9c179e"
             ],
             [
              0.4444444444444444,
              "#bd3786"
             ],
             [
              0.5555555555555556,
              "#d8576b"
             ],
             [
              0.6666666666666666,
              "#ed7953"
             ],
             [
              0.7777777777777778,
              "#fb9f3a"
             ],
             [
              0.8888888888888888,
              "#fdca26"
             ],
             [
              1,
              "#f0f921"
             ]
            ],
            "type": "histogram2d"
           }
          ],
          "histogram2dcontour": [
           {
            "colorbar": {
             "outlinewidth": 0,
             "ticks": ""
            },
            "colorscale": [
             [
              0,
              "#0d0887"
             ],
             [
              0.1111111111111111,
              "#46039f"
             ],
             [
              0.2222222222222222,
              "#7201a8"
             ],
             [
              0.3333333333333333,
              "#9c179e"
             ],
             [
              0.4444444444444444,
              "#bd3786"
             ],
             [
              0.5555555555555556,
              "#d8576b"
             ],
             [
              0.6666666666666666,
              "#ed7953"
             ],
             [
              0.7777777777777778,
              "#fb9f3a"
             ],
             [
              0.8888888888888888,
              "#fdca26"
             ],
             [
              1,
              "#f0f921"
             ]
            ],
            "type": "histogram2dcontour"
           }
          ],
          "mesh3d": [
           {
            "colorbar": {
             "outlinewidth": 0,
             "ticks": ""
            },
            "type": "mesh3d"
           }
          ],
          "parcoords": [
           {
            "line": {
             "colorbar": {
              "outlinewidth": 0,
              "ticks": ""
             }
            },
            "type": "parcoords"
           }
          ],
          "pie": [
           {
            "automargin": true,
            "type": "pie"
           }
          ],
          "scatter": [
           {
            "marker": {
             "colorbar": {
              "outlinewidth": 0,
              "ticks": ""
             }
            },
            "type": "scatter"
           }
          ],
          "scatter3d": [
           {
            "line": {
             "colorbar": {
              "outlinewidth": 0,
              "ticks": ""
             }
            },
            "marker": {
             "colorbar": {
              "outlinewidth": 0,
              "ticks": ""
             }
            },
            "type": "scatter3d"
           }
          ],
          "scattercarpet": [
           {
            "marker": {
             "colorbar": {
              "outlinewidth": 0,
              "ticks": ""
             }
            },
            "type": "scattercarpet"
           }
          ],
          "scattergeo": [
           {
            "marker": {
             "colorbar": {
              "outlinewidth": 0,
              "ticks": ""
             }
            },
            "type": "scattergeo"
           }
          ],
          "scattergl": [
           {
            "marker": {
             "colorbar": {
              "outlinewidth": 0,
              "ticks": ""
             }
            },
            "type": "scattergl"
           }
          ],
          "scattermapbox": [
           {
            "marker": {
             "colorbar": {
              "outlinewidth": 0,
              "ticks": ""
             }
            },
            "type": "scattermapbox"
           }
          ],
          "scatterpolar": [
           {
            "marker": {
             "colorbar": {
              "outlinewidth": 0,
              "ticks": ""
             }
            },
            "type": "scatterpolar"
           }
          ],
          "scatterpolargl": [
           {
            "marker": {
             "colorbar": {
              "outlinewidth": 0,
              "ticks": ""
             }
            },
            "type": "scatterpolargl"
           }
          ],
          "scatterternary": [
           {
            "marker": {
             "colorbar": {
              "outlinewidth": 0,
              "ticks": ""
             }
            },
            "type": "scatterternary"
           }
          ],
          "surface": [
           {
            "colorbar": {
             "outlinewidth": 0,
             "ticks": ""
            },
            "colorscale": [
             [
              0,
              "#0d0887"
             ],
             [
              0.1111111111111111,
              "#46039f"
             ],
             [
              0.2222222222222222,
              "#7201a8"
             ],
             [
              0.3333333333333333,
              "#9c179e"
             ],
             [
              0.4444444444444444,
              "#bd3786"
             ],
             [
              0.5555555555555556,
              "#d8576b"
             ],
             [
              0.6666666666666666,
              "#ed7953"
             ],
             [
              0.7777777777777778,
              "#fb9f3a"
             ],
             [
              0.8888888888888888,
              "#fdca26"
             ],
             [
              1,
              "#f0f921"
             ]
            ],
            "type": "surface"
           }
          ],
          "table": [
           {
            "cells": {
             "fill": {
              "color": "#EBF0F8"
             },
             "line": {
              "color": "white"
             }
            },
            "header": {
             "fill": {
              "color": "#C8D4E3"
             },
             "line": {
              "color": "white"
             }
            },
            "type": "table"
           }
          ]
         },
         "layout": {
          "annotationdefaults": {
           "arrowcolor": "#2a3f5f",
           "arrowhead": 0,
           "arrowwidth": 1
          },
          "coloraxis": {
           "colorbar": {
            "outlinewidth": 0,
            "ticks": ""
           }
          },
          "colorscale": {
           "diverging": [
            [
             0,
             "#8e0152"
            ],
            [
             0.1,
             "#c51b7d"
            ],
            [
             0.2,
             "#de77ae"
            ],
            [
             0.3,
             "#f1b6da"
            ],
            [
             0.4,
             "#fde0ef"
            ],
            [
             0.5,
             "#f7f7f7"
            ],
            [
             0.6,
             "#e6f5d0"
            ],
            [
             0.7,
             "#b8e186"
            ],
            [
             0.8,
             "#7fbc41"
            ],
            [
             0.9,
             "#4d9221"
            ],
            [
             1,
             "#276419"
            ]
           ],
           "sequential": [
            [
             0,
             "#0d0887"
            ],
            [
             0.1111111111111111,
             "#46039f"
            ],
            [
             0.2222222222222222,
             "#7201a8"
            ],
            [
             0.3333333333333333,
             "#9c179e"
            ],
            [
             0.4444444444444444,
             "#bd3786"
            ],
            [
             0.5555555555555556,
             "#d8576b"
            ],
            [
             0.6666666666666666,
             "#ed7953"
            ],
            [
             0.7777777777777778,
             "#fb9f3a"
            ],
            [
             0.8888888888888888,
             "#fdca26"
            ],
            [
             1,
             "#f0f921"
            ]
           ],
           "sequentialminus": [
            [
             0,
             "#0d0887"
            ],
            [
             0.1111111111111111,
             "#46039f"
            ],
            [
             0.2222222222222222,
             "#7201a8"
            ],
            [
             0.3333333333333333,
             "#9c179e"
            ],
            [
             0.4444444444444444,
             "#bd3786"
            ],
            [
             0.5555555555555556,
             "#d8576b"
            ],
            [
             0.6666666666666666,
             "#ed7953"
            ],
            [
             0.7777777777777778,
             "#fb9f3a"
            ],
            [
             0.8888888888888888,
             "#fdca26"
            ],
            [
             1,
             "#f0f921"
            ]
           ]
          },
          "colorway": [
           "#636efa",
           "#EF553B",
           "#00cc96",
           "#ab63fa",
           "#FFA15A",
           "#19d3f3",
           "#FF6692",
           "#B6E880",
           "#FF97FF",
           "#FECB52"
          ],
          "font": {
           "color": "#2a3f5f"
          },
          "geo": {
           "bgcolor": "white",
           "lakecolor": "white",
           "landcolor": "white",
           "showlakes": true,
           "showland": true,
           "subunitcolor": "#C8D4E3"
          },
          "hoverlabel": {
           "align": "left"
          },
          "hovermode": "closest",
          "mapbox": {
           "style": "light"
          },
          "paper_bgcolor": "white",
          "plot_bgcolor": "white",
          "polar": {
           "angularaxis": {
            "gridcolor": "#EBF0F8",
            "linecolor": "#EBF0F8",
            "ticks": ""
           },
           "bgcolor": "white",
           "radialaxis": {
            "gridcolor": "#EBF0F8",
            "linecolor": "#EBF0F8",
            "ticks": ""
           }
          },
          "scene": {
           "xaxis": {
            "backgroundcolor": "white",
            "gridcolor": "#DFE8F3",
            "gridwidth": 2,
            "linecolor": "#EBF0F8",
            "showbackground": true,
            "ticks": "",
            "zerolinecolor": "#EBF0F8"
           },
           "yaxis": {
            "backgroundcolor": "white",
            "gridcolor": "#DFE8F3",
            "gridwidth": 2,
            "linecolor": "#EBF0F8",
            "showbackground": true,
            "ticks": "",
            "zerolinecolor": "#EBF0F8"
           },
           "zaxis": {
            "backgroundcolor": "white",
            "gridcolor": "#DFE8F3",
            "gridwidth": 2,
            "linecolor": "#EBF0F8",
            "showbackground": true,
            "ticks": "",
            "zerolinecolor": "#EBF0F8"
           }
          },
          "shapedefaults": {
           "line": {
            "color": "#2a3f5f"
           }
          },
          "ternary": {
           "aaxis": {
            "gridcolor": "#DFE8F3",
            "linecolor": "#A2B1C6",
            "ticks": ""
           },
           "baxis": {
            "gridcolor": "#DFE8F3",
            "linecolor": "#A2B1C6",
            "ticks": ""
           },
           "bgcolor": "white",
           "caxis": {
            "gridcolor": "#DFE8F3",
            "linecolor": "#A2B1C6",
            "ticks": ""
           }
          },
          "title": {
           "x": 0.05
          },
          "xaxis": {
           "automargin": true,
           "gridcolor": "#EBF0F8",
           "linecolor": "#EBF0F8",
           "ticks": "",
           "title": {
            "standoff": 15
           },
           "zerolinecolor": "#EBF0F8",
           "zerolinewidth": 2
          },
          "yaxis": {
           "automargin": true,
           "gridcolor": "#EBF0F8",
           "linecolor": "#EBF0F8",
           "ticks": "",
           "title": {
            "standoff": 15
           },
           "zerolinecolor": "#EBF0F8",
           "zerolinewidth": 2
          }
         }
        },
        "title": {
         "text": "Vehicle Counts"
        },
        "uniformtext": {
         "minsize": 8,
         "mode": "hide"
        },
        "width": 600,
        "xaxis": {
         "autorange": true,
         "range": [
          -0.5,
          1.5
         ],
         "title": {
          "text": "Seed"
         },
         "type": "category"
        },
        "yaxis": {
         "autorange": true,
         "range": [
          0,
          1195.7894736842106
         ],
         "title": {
          "text": "Counts"
         },
         "type": "linear"
        }
       }
      },
      "image/png": "[encoded data removed]",
      "text/html": [
       "<div>                            <div id=\"57342f33-70ab-4241-9357-110d3f47a226\" class=\"plotly-graph-div\" style=\"height:400px; width:600px;\"></div>            <script type=\"text/javascript\">                require([\"plotly\"], function(Plotly) {                    window.PLOTLYENV=window.PLOTLYENV || {};                                    if (document.getElementById(\"57342f33-70ab-4241-9357-110d3f47a226\")) {                    Plotly.newPlot(                        \"57342f33-70ab-4241-9357-110d3f47a226\",                        [{\"name\": \"# In Simulation\", \"offsetgroup\": \"0\", \"text\": [1125.0, 1136.0], \"textposition\": \"auto\", \"type\": \"bar\", \"x\": [\"0\", \"123\"], \"y\": [1125, 1136]}, {\"name\": \"# Finished\", \"offsetgroup\": \"1\", \"text\": [1089.0, 1114.0], \"textposition\": \"auto\", \"type\": \"bar\", \"x\": [\"0\", \"123\"], \"y\": [1089, 1114]}, {\"base\": [1089, 1114], \"name\": \"# Stranded\", \"offsetgroup\": \"1\", \"text\": [36.0, 22.0], \"textposition\": \"auto\", \"type\": \"bar\", \"x\": [\"0\", \"123\"], \"y\": [36, 22]}],                        {\"height\": 400, \"margin\": {\"b\": 20, \"l\": 20, \"r\": 20, \"t\": 30}, \"template\": {\"data\": {\"bar\": [{\"error_x\": {\"color\": \"#2a3f5f\"}, \"error_y\": {\"color\": \"#2a3f5f\"}, \"marker\": {\"line\": {\"color\": \"white\", \"width\": 0.5}}, \"type\": \"bar\"}], \"barpolar\": [{\"marker\": {\"line\": {\"color\": \"white\", \"width\": 0.5}}, \"type\": \"barpolar\"}], \"carpet\": [{\"aaxis\": {\"endlinecolor\": \"#2a3f5f\", \"gridcolor\": \"#C8D4E3\", \"linecolor\": \"#C8D4E3\", \"minorgridcolor\": \"#C8D4E3\", \"startlinecolor\": \"#2a3f5f\"}, \"baxis\": {\"endlinecolor\": \"#2a3f5f\", \"gridcolor\": \"#C8D4E3\", \"linecolor\": \"#C8D4E3\", \"minorgridcolor\": \"#C8D4E3\", \"startlinecolor\": \"#2a3f5f\"}, \"type\": \"carpet\"}], \"choropleth\": [{\"colorbar\": {\"outlinewidth\": 0, \"ticks\": \"\"}, \"type\": \"choropleth\"}], \"contour\": [{\"colorbar\": {\"outlinewidth\": 0, \"ticks\": \"\"}, \"colorscale\": [[0.0, \"#0d0887\"], [0.1111111111111111, \"#46039f\"], [0.2222222222222222, \"#7201a8\"], [0.3333333333333333, \"#9c179e\"], [0.4444444444444444, \"#bd3786\"], [0.5555555555555556, \"#d8576b\"], [0.6666666666666666, \"#ed7953\"], [0.7777777777777778, \"#fb9f3a\"], [0.8888888888888888, \"#fdca26\"], [1.0, \"#f0f921\"]], \"type\": \"contour\"}], \"contourcarpet\": [{\"colorbar\": {\"outlinewidth\": 0, \"ticks\": \"\"}, \"type\": \"contourcarpet\"}], \"heatmap\": [{\"colorbar\": {\"outlinewidth\": 0, \"ticks\": \"\"}, \"colorscale\": [[0.0, \"#0d0887\"], [0.1111111111111111, \"#46039f\"], [0.2222222222222222, \"#7201a8\"], [0.3333333333333333, \"#9c179e\"], [0.4444444444444444, \"#bd3786\"], [0.5555555555555556, \"#d8576b\"], [0.6666666666666666, \"#ed7953\"], [0.7777777777777778, \"#fb9f3a\"], [0.8888888888888888, \"#fdca26\"], [1.0, \"#f0f921\"]], \"type\": \"heatmap\"}], \"heatmapgl\": [{\"colorbar\": {\"outlinewidth\": 0, \"ticks\": \"\"}, \"colorscale\": [[0.0, \"#0d0887\"], [0.1111111111111111, \"#46039f\"], [0.2222222222222222, \"#7201a8\"], [0.3333333333333333, \"#9c179e\"], [0.4444444444444444, \"#bd3786\"], [0.5555555555555556, \"#d8576b\"], [0.6666666666666666, \"#ed7953\"], [0.7777777777777778, \"#fb9f3a\"], [0.8888888888888888, \"#fdca26\"], [1.0, \"#f0f921\"]], \"type\": \"heatmapgl\"}], \"histogram\": [{\"marker\": {\"colorbar\": {\"outlinewidth\": 0, \"ticks\": \"\"}}, \"type\": \"histogram\"}], \"histogram2d\": [{\"colorbar\": {\"outlinewidth\": 0, \"ticks\": \"\"}, \"colorscale\": [[0.0, \"#0d0887\"], [0.1111111111111111, \"#46039f\"], [0.2222222222222222, \"#7201a8\"], [0.3333333333333333, \"#9c179e\"], [0.4444444444444444, \"#bd3786\"], [0.5555555555555556, \"#d8576b\"], [0.6666666666666666, \"#ed7953\"], [0.7777777777777778, \"#fb9f3a\"], [0.8888888888888888, \"#fdca26\"], [1.0, \"#f0f921\"]], \"type\": \"histogram2d\"}], \"histogram2dcontour\": [{\"colorbar\": {\"outlinewidth\": 0, \"ticks\": \"\"}, \"colorscale\": [[0.0, \"#0d0887\"], [0.1111111111111111, \"#46039f\"], [0.2222222222222222, \"#7201a8\"], [0.3333333333333333, \"#9c179e\"], [0.4444444444444444, \"#bd3786\"], [0.5555555555555556, \"#d8576b\"], [0.6666666666666666, \"#ed7953\"], [0.7777777777777778, \"#fb9f3a\"], [0.8888888888888888, \"#fdca26\"], [1.0, \"#f0f921\"]], \"type\": \"histogram2dcontour\"}], \"mesh3d\": [{\"colorbar\": {\"outlinewidth\": 0, \"ticks\": \"\"}, \"type\": \"mesh3d\"}], \"parcoords\": [{\"line\": {\"colorbar\": {\"outlinewidth\": 0, \"ticks\": \"\"}}, \"type\": \"parcoords\"}], \"pie\": [{\"automargin\": true, \"type\": \"pie\"}], \"scatter\": [{\"marker\": {\"colorbar\": {\"outlinewidth\": 0, \"ticks\": \"\"}}, \"type\": \"scatter\"}], \"scatter3d\": [{\"line\": {\"colorbar\": {\"outlinewidth\": 0, \"ticks\": \"\"}}, \"marker\": {\"colorbar\": {\"outlinewidth\": 0, \"ticks\": \"\"}}, \"type\": \"scatter3d\"}], \"scattercarpet\": [{\"marker\": {\"colorbar\": {\"outlinewidth\": 0, \"ticks\": \"\"}}, \"type\": \"scattercarpet\"}], \"scattergeo\": [{\"marker\": {\"colorbar\": {\"outlinewidth\": 0, \"ticks\": \"\"}}, \"type\": \"scattergeo\"}], \"scattergl\": [{\"marker\": {\"colorbar\": {\"outlinewidth\": 0, \"ticks\": \"\"}}, \"type\": \"scattergl\"}], \"scattermapbox\": [{\"marker\": {\"colorbar\": {\"outlinewidth\": 0, \"ticks\": \"\"}}, \"type\": \"scattermapbox\"}], \"scatterpolar\": [{\"marker\": {\"colorbar\": {\"outlinewidth\": 0, \"ticks\": \"\"}}, \"type\": \"scatterpolar\"}], \"scatterpolargl\": [{\"marker\": {\"colorbar\": {\"outlinewidth\": 0, \"ticks\": \"\"}}, \"type\": \"scatterpolargl\"}], \"scatterternary\": [{\"marker\": {\"colorbar\": {\"outlinewidth\": 0, \"ticks\": \"\"}}, \"type\": \"scatterternary\"}], \"surface\": [{\"colorbar\": {\"outlinewidth\": 0, \"ticks\": \"\"}, \"colorscale\": [[0.0, \"#0d0887\"], [0.1111111111111111, \"#46039f\"], [0.2222222222222222, \"#7201a8\"], [0.3333333333333333, \"#9c179e\"], [0.4444444444444444, \"#bd3786\"], [0.5555555555555556, \"#d8576b\"], [0.6666666666666666, \"#ed7953\"], [0.7777777777777778, \"#fb9f3a\"], [0.8888888888888888, \"#fdca26\"], [1.0, \"#f0f921\"]], \"type\": \"surface\"}], \"table\": [{\"cells\": {\"fill\": {\"color\": \"#EBF0F8\"}, \"line\": {\"color\": \"white\"}}, \"header\": {\"fill\": {\"color\": \"#C8D4E3\"}, \"line\": {\"color\": \"white\"}}, \"type\": \"table\"}]}, \"layout\": {\"annotationdefaults\": {\"arrowcolor\": \"#2a3f5f\", \"arrowhead\": 0, \"arrowwidth\": 1}, \"coloraxis\": {\"colorbar\": {\"outlinewidth\": 0, \"ticks\": \"\"}}, \"colorscale\": {\"diverging\": [[0, \"#8e0152\"], [0.1, \"#c51b7d\"], [0.2, \"#de77ae\"], [0.3, \"#f1b6da\"], [0.4, \"#fde0ef\"], [0.5, \"#f7f7f7\"], [0.6, \"#e6f5d0\"], [0.7, \"#b8e186\"], [0.8, \"#7fbc41\"], [0.9, \"#4d9221\"], [1, \"#276419\"]], \"sequential\": [[0.0, \"#0d0887\"], [0.1111111111111111, \"#46039f\"], [0.2222222222222222, \"#7201a8\"], [0.3333333333333333, \"#9c179e\"], [0.4444444444444444, \"#bd3786\"], [0.5555555555555556, \"#d8576b\"], [0.6666666666666666, \"#ed7953\"], [0.7777777777777778, \"#fb9f3a\"], [0.8888888888888888, \"#fdca26\"], [1.0, \"#f0f921\"]], \"sequentialminus\": [[0.0, \"#0d0887\"], [0.1111111111111111, \"#46039f\"], [0.2222222222222222, \"#7201a8\"], [0.3333333333333333, \"#9c179e\"], [0.4444444444444444, \"#bd3786\"], [0.5555555555555556, \"#d8576b\"], [0.6666666666666666, \"#ed7953\"], [0.7777777777777778, \"#fb9f3a\"], [0.8888888888888888, \"#fdca26\"], [1.0, \"#f0f921\"]]}, \"colorway\": [\"#636efa\", \"#EF553B\", \"#00cc96\", \"#ab63fa\", \"#FFA15A\", \"#19d3f3\", \"#FF6692\", \"#B6E880\", \"#FF97FF\", \"#FECB52\"], \"font\": {\"color\": \"#2a3f5f\"}, \"geo\": {\"bgcolor\": \"white\", \"lakecolor\": \"white\", \"landcolor\": \"white\", \"showlakes\": true, \"showland\": true, \"subunitcolor\": \"#C8D4E3\"}, \"hoverlabel\": {\"align\": \"left\"}, \"hovermode\": \"closest\", \"mapbox\": {\"style\": \"light\"}, \"paper_bgcolor\": \"white\", \"plot_bgcolor\": \"white\", \"polar\": {\"angularaxis\": {\"gridcolor\": \"#EBF0F8\", \"linecolor\": \"#EBF0F8\", \"ticks\": \"\"}, \"bgcolor\": \"white\", \"radialaxis\": {\"gridcolor\": \"#EBF0F8\", \"linecolor\": \"#EBF0F8\", \"ticks\": \"\"}}, \"scene\": {\"xaxis\": {\"backgroundcolor\": \"white\", \"gridcolor\": \"#DFE8F3\", \"gridwidth\": 2, \"linecolor\": \"#EBF0F8\", \"showbackground\": true, \"ticks\": \"\", \"zerolinecolor\": \"#EBF0F8\"}, \"yaxis\": {\"backgroundcolor\": \"white\", \"gridcolor\": \"#DFE8F3\", \"gridwidth\": 2, \"linecolor\": \"#EBF0F8\", \"showbackground\": true, \"ticks\": \"\", \"zerolinecolor\": \"#EBF0F8\"}, \"zaxis\": {\"backgroundcolor\": \"white\", \"gridcolor\": \"#DFE8F3\", \"gridwidth\": 2, \"linecolor\": \"#EBF0F8\", \"showbackground\": true, \"ticks\": \"\", \"zerolinecolor\": \"#EBF0F8\"}}, \"shapedefaults\": {\"line\": {\"color\": \"#2a3f5f\"}}, \"ternary\": {\"aaxis\": {\"gridcolor\": \"#DFE8F3\", \"linecolor\": \"#A2B1C6\", \"ticks\": \"\"}, \"baxis\": {\"gridcolor\": \"#DFE8F3\", \"linecolor\": \"#A2B1C6\", \"ticks\": \"\"}, \"bgcolor\": \"white\", \"caxis\": {\"gridcolor\": \"#DFE8F3\", \"linecolor\": \"#A2B1C6\", \"ticks\": \"\"}}, \"title\": {\"x\": 0.05}, \"xaxis\": {\"automargin\": true, \"gridcolor\": \"#EBF0F8\", \"linecolor\": \"#EBF0F8\", \"ticks\": \"\", \"title\": {\"standoff\": 15}, \"zerolinecolor\": \"#EBF0F8\", \"zerolinewidth\": 2}, \"yaxis\": {\"automargin\": true, \"gridcolor\": \"#EBF0F8\", \"linecolor\": \"#EBF0F8\", \"ticks\": \"\", \"title\": {\"standoff\": 15}, \"zerolinecolor\": \"#EBF0F8\", \"zerolinewidth\": 2}}}, \"title\": {\"text\": \"Vehicle Counts\"}, \"uniformtext\": {\"minsize\": 8, \"mode\": \"hide\"}, \"width\": 600, \"xaxis\": {\"title\": {\"text\": \"Seed\"}, \"type\": \"category\"}, \"yaxis\": {\"title\": {\"text\": \"Counts\"}}},                        {\"responsive\": true}                    ).then(function(){\n",
       "                            \n",
       "var gd = document.getElementById('57342f33-70ab-4241-9357-110d3f47a226');\n",
       "var x = new MutationObserver(function (mutations, observer) {{\n",
       "        var display = window.getComputedStyle(gd).display;\n",
       "        if (!display || display === 'none') {{\n",
       "            console.log([gd, 'removed!']);\n",
       "            Plotly.purge(gd);\n",
       "            observer.disconnect();\n",
       "        }}\n",
       "}});\n",
       "\n",
       "// Listen for the removal of the full notebook cells\n",
       "var notebookContainer = gd.closest('#notebook-container');\n",
       "if (notebookContainer) {{\n",
       "    x.observe(notebookContainer, {childList: true});\n",
       "}}\n",
       "\n",
       "// Listen for the clearing of the current output cell\n",
       "var outputEl = gd.closest('.output');\n",
       "if (outputEl) {{\n",
       "    x.observe(outputEl, {childList: true});\n",
       "}}\n",
       "\n",
       "                        })                };                });            </script>        </div>"
      ]
     },
     "metadata": {},
     "output_type": "display_data"
    }
   ],
   "source": [
    "fig = go.Figure(\n",
    "    data=[\n",
    "        go.Bar(\n",
    "            name=\"# In Simulation\",\n",
    "            x=count_stats['param_value'],\n",
    "            y=count_stats['sim_count'],\n",
    "            offsetgroup=0,\n",
    "            text=count_stats['sim_count'],\n",
    "            textposition='auto',\n",
    "        ),\n",
    "        go.Bar(\n",
    "            name=\"# Finished\",\n",
    "            x=count_stats['param_value'],\n",
    "            y=count_stats['fin_count'],\n",
    "            offsetgroup=1,\n",
    "            text=count_stats['fin_count'],\n",
    "            textposition='auto',\n",
    "        ),\n",
    "        go.Bar(\n",
    "            name=\"# Stranded\",\n",
    "            x=count_stats['param_value'],\n",
    "            y=count_stats['str_count'],\n",
    "            offsetgroup=1,\n",
    "            base=count_stats['fin_count'],\n",
    "            text=count_stats['str_count'],\n",
    "            textposition='auto',\n",
    "        )\n",
    "    ],\n",
    "    layout=go.Layout(\n",
    "        title=\"Vehicle Counts\",\n",
    "        yaxis_title=\"Counts\", \n",
    "        xaxis_title=\"Seed\", width=600, height=400\n",
    "        \n",
    "    )\n",
    ")\n",
    "fig.update_xaxes(type='category')\n",
    "fig.update_layout(margin=dict(l=20, r=20, t=30, b=20), uniformtext_minsize=8, uniformtext_mode='hide', template='plotly_white')\n",
    "fig.show()"
   ]
  },
  {
   "cell_type": "markdown",
   "metadata": {},
   "source": [
    "#### 5.2 eVMT"
   ]
  },
  {
   "cell_type": "code",
   "execution_count": 44,
   "metadata": {},
   "outputs": [
    {
     "data": {
      "application/vnd.plotly.v1+json": {
       "config": {
        "plotlyServerURL": "https://plot.ly"
       },
       "data": [
        {
         "name": "eVMT",
         "offsetgroup": "1",
         "text": [
          119944,
          124748
         ],
         "textposition": "auto",
         "type": "bar",
         "x": [
          "0",
          "123"
         ],
         "y": [
          119944,
          124748
         ]
        }
       ],
       "layout": {
        "height": 400,
        "margin": {
         "b": 20,
         "l": 20,
         "r": 20,
         "t": 30
        },
        "template": {
         "data": {
          "bar": [
           {
            "error_x": {
             "color": "#2a3f5f"
            },
            "error_y": {
             "color": "#2a3f5f"
            },
            "marker": {
             "line": {
              "color": "white",
              "width": 0.5
             }
            },
            "type": "bar"
           }
          ],
          "barpolar": [
           {
            "marker": {
             "line": {
              "color": "white",
              "width": 0.5
             }
            },
            "type": "barpolar"
           }
          ],
          "carpet": [
           {
            "aaxis": {
             "endlinecolor": "#2a3f5f",
             "gridcolor": "#C8D4E3",
             "linecolor": "#C8D4E3",
             "minorgridcolor": "#C8D4E3",
             "startlinecolor": "#2a3f5f"
            },
            "baxis": {
             "endlinecolor": "#2a3f5f",
             "gridcolor": "#C8D4E3",
             "linecolor": "#C8D4E3",
             "minorgridcolor": "#C8D4E3",
             "startlinecolor": "#2a3f5f"
            },
            "type": "carpet"
           }
          ],
          "choropleth": [
           {
            "colorbar": {
             "outlinewidth": 0,
             "ticks": ""
            },
            "type": "choropleth"
           }
          ],
          "contour": [
           {
            "colorbar": {
             "outlinewidth": 0,
             "ticks": ""
            },
            "colorscale": [
             [
              0,
              "#0d0887"
             ],
             [
              0.1111111111111111,
              "#46039f"
             ],
             [
              0.2222222222222222,
              "#7201a8"
             ],
             [
              0.3333333333333333,
              "#9c179e"
             ],
             [
              0.4444444444444444,
              "#bd3786"
             ],
             [
              0.5555555555555556,
              "#d8576b"
             ],
             [
              0.6666666666666666,
              "#ed7953"
             ],
             [
              0.7777777777777778,
              "#fb9f3a"
             ],
             [
              0.8888888888888888,
              "#fdca26"
             ],
             [
              1,
              "#f0f921"
             ]
            ],
            "type": "contour"
           }
          ],
          "contourcarpet": [
           {
            "colorbar": {
             "outlinewidth": 0,
             "ticks": ""
            },
            "type": "contourcarpet"
           }
          ],
          "heatmap": [
           {
            "colorbar": {
             "outlinewidth": 0,
             "ticks": ""
            },
            "colorscale": [
             [
              0,
              "#0d0887"
             ],
             [
              0.1111111111111111,
              "#46039f"
             ],
             [
              0.2222222222222222,
              "#7201a8"
             ],
             [
              0.3333333333333333,
              "#9c179e"
             ],
             [
              0.4444444444444444,
              "#bd3786"
             ],
             [
              0.5555555555555556,
              "#d8576b"
             ],
             [
              0.6666666666666666,
              "#ed7953"
             ],
             [
              0.7777777777777778,
              "#fb9f3a"
             ],
             [
              0.8888888888888888,
              "#fdca26"
             ],
             [
              1,
              "#f0f921"
             ]
            ],
            "type": "heatmap"
           }
          ],
          "heatmapgl": [
           {
            "colorbar": {
             "outlinewidth": 0,
             "ticks": ""
            },
            "colorscale": [
             [
              0,
              "#0d0887"
             ],
             [
              0.1111111111111111,
              "#46039f"
             ],
             [
              0.2222222222222222,
              "#7201a8"
             ],
             [
              0.3333333333333333,
              "#9c179e"
             ],
             [
              0.4444444444444444,
              "#bd3786"
             ],
             [
              0.5555555555555556,
              "#d8576b"
             ],
             [
              0.6666666666666666,
              "#ed7953"
             ],
             [
              0.7777777777777778,
              "#fb9f3a"
             ],
             [
              0.8888888888888888,
              "#fdca26"
             ],
             [
              1,
              "#f0f921"
             ]
            ],
            "type": "heatmapgl"
           }
          ],
          "histogram": [
           {
            "marker": {
             "colorbar": {
              "outlinewidth": 0,
              "ticks": ""
             }
            },
            "type": "histogram"
           }
          ],
          "histogram2d": [
           {
            "colorbar": {
             "outlinewidth": 0,
             "ticks": ""
            },
            "colorscale": [
             [
              0,
              "#0d0887"
             ],
             [
              0.1111111111111111,
              "#46039f"
             ],
             [
              0.2222222222222222,
              "#7201a8"
             ],
             [
              0.3333333333333333,
              "#9c179e"
             ],
             [
              0.4444444444444444,
              "#bd3786"
             ],
             [
              0.5555555555555556,
              "#d8576b"
             ],
             [
              0.6666666666666666,
              "#ed7953"
             ],
             [
              0.7777777777777778,
              "#fb9f3a"
             ],
             [
              0.8888888888888888,
              "#fdca26"
             ],
             [
              1,
              "#f0f921"
             ]
            ],
            "type": "histogram2d"
           }
          ],
          "histogram2dcontour": [
           {
            "colorbar": {
             "outlinewidth": 0,
             "ticks": ""
            },
            "colorscale": [
             [
              0,
              "#0d0887"
             ],
             [
              0.1111111111111111,
              "#46039f"
             ],
             [
              0.2222222222222222,
              "#7201a8"
             ],
             [
              0.3333333333333333,
              "#9c179e"
             ],
             [
              0.4444444444444444,
              "#bd3786"
             ],
             [
              0.5555555555555556,
              "#d8576b"
             ],
             [
              0.6666666666666666,
              "#ed7953"
             ],
             [
              0.7777777777777778,
              "#fb9f3a"
             ],
             [
              0.8888888888888888,
              "#fdca26"
             ],
             [
              1,
              "#f0f921"
             ]
            ],
            "type": "histogram2dcontour"
           }
          ],
          "mesh3d": [
           {
            "colorbar": {
             "outlinewidth": 0,
             "ticks": ""
            },
            "type": "mesh3d"
           }
          ],
          "parcoords": [
           {
            "line": {
             "colorbar": {
              "outlinewidth": 0,
              "ticks": ""
             }
            },
            "type": "parcoords"
           }
          ],
          "pie": [
           {
            "automargin": true,
            "type": "pie"
           }
          ],
          "scatter": [
           {
            "marker": {
             "colorbar": {
              "outlinewidth": 0,
              "ticks": ""
             }
            },
            "type": "scatter"
           }
          ],
          "scatter3d": [
           {
            "line": {
             "colorbar": {
              "outlinewidth": 0,
              "ticks": ""
             }
            },
            "marker": {
             "colorbar": {
              "outlinewidth": 0,
              "ticks": ""
             }
            },
            "type": "scatter3d"
           }
          ],
          "scattercarpet": [
           {
            "marker": {
             "colorbar": {
              "outlinewidth": 0,
              "ticks": ""
             }
            },
            "type": "scattercarpet"
           }
          ],
          "scattergeo": [
           {
            "marker": {
             "colorbar": {
              "outlinewidth": 0,
              "ticks": ""
             }
            },
            "type": "scattergeo"
           }
          ],
          "scattergl": [
           {
            "marker": {
             "colorbar": {
              "outlinewidth": 0,
              "ticks": ""
             }
            },
            "type": "scattergl"
           }
          ],
          "scattermapbox": [
           {
            "marker": {
             "colorbar": {
              "outlinewidth": 0,
              "ticks": ""
             }
            },
            "type": "scattermapbox"
           }
          ],
          "scatterpolar": [
           {
            "marker": {
             "colorbar": {
              "outlinewidth": 0,
              "ticks": ""
             }
            },
            "type": "scatterpolar"
           }
          ],
          "scatterpolargl": [
           {
            "marker": {
             "colorbar": {
              "outlinewidth": 0,
              "ticks": ""
             }
            },
            "type": "scatterpolargl"
           }
          ],
          "scatterternary": [
           {
            "marker": {
             "colorbar": {
              "outlinewidth": 0,
              "ticks": ""
             }
            },
            "type": "scatterternary"
           }
          ],
          "surface": [
           {
            "colorbar": {
             "outlinewidth": 0,
             "ticks": ""
            },
            "colorscale": [
             [
              0,
              "#0d0887"
             ],
             [
              0.1111111111111111,
              "#46039f"
             ],
             [
              0.2222222222222222,
              "#7201a8"
             ],
             [
              0.3333333333333333,
              "#9c179e"
             ],
             [
              0.4444444444444444,
              "#bd3786"
             ],
             [
              0.5555555555555556,
              "#d8576b"
             ],
             [
              0.6666666666666666,
              "#ed7953"
             ],
             [
              0.7777777777777778,
              "#fb9f3a"
             ],
             [
              0.8888888888888888,
              "#fdca26"
             ],
             [
              1,
              "#f0f921"
             ]
            ],
            "type": "surface"
           }
          ],
          "table": [
           {
            "cells": {
             "fill": {
              "color": "#EBF0F8"
             },
             "line": {
              "color": "white"
             }
            },
            "header": {
             "fill": {
              "color": "#C8D4E3"
             },
             "line": {
              "color": "white"
             }
            },
            "type": "table"
           }
          ]
         },
         "layout": {
          "annotationdefaults": {
           "arrowcolor": "#2a3f5f",
           "arrowhead": 0,
           "arrowwidth": 1
          },
          "coloraxis": {
           "colorbar": {
            "outlinewidth": 0,
            "ticks": ""
           }
          },
          "colorscale": {
           "diverging": [
            [
             0,
             "#8e0152"
            ],
            [
             0.1,
             "#c51b7d"
            ],
            [
             0.2,
             "#de77ae"
            ],
            [
             0.3,
             "#f1b6da"
            ],
            [
             0.4,
             "#fde0ef"
            ],
            [
             0.5,
             "#f7f7f7"
            ],
            [
             0.6,
             "#e6f5d0"
            ],
            [
             0.7,
             "#b8e186"
            ],
            [
             0.8,
             "#7fbc41"
            ],
            [
             0.9,
             "#4d9221"
            ],
            [
             1,
             "#276419"
            ]
           ],
           "sequential": [
            [
             0,
             "#0d0887"
            ],
            [
             0.1111111111111111,
             "#46039f"
            ],
            [
             0.2222222222222222,
             "#7201a8"
            ],
            [
             0.3333333333333333,
             "#9c179e"
            ],
            [
             0.4444444444444444,
             "#bd3786"
            ],
            [
             0.5555555555555556,
             "#d8576b"
            ],
            [
             0.6666666666666666,
             "#ed7953"
            ],
            [
             0.7777777777777778,
             "#fb9f3a"
            ],
            [
             0.8888888888888888,
             "#fdca26"
            ],
            [
             1,
             "#f0f921"
            ]
           ],
           "sequentialminus": [
            [
             0,
             "#0d0887"
            ],
            [
             0.1111111111111111,
             "#46039f"
            ],
            [
             0.2222222222222222,
             "#7201a8"
            ],
            [
             0.3333333333333333,
             "#9c179e"
            ],
            [
             0.4444444444444444,
             "#bd3786"
            ],
            [
             0.5555555555555556,
             "#d8576b"
            ],
            [
             0.6666666666666666,
             "#ed7953"
            ],
            [
             0.7777777777777778,
             "#fb9f3a"
            ],
            [
             0.8888888888888888,
             "#fdca26"
            ],
            [
             1,
             "#f0f921"
            ]
           ]
          },
          "colorway": [
           "#636efa",
           "#EF553B",
           "#00cc96",
           "#ab63fa",
           "#FFA15A",
           "#19d3f3",
           "#FF6692",
           "#B6E880",
           "#FF97FF",
           "#FECB52"
          ],
          "font": {
           "color": "#2a3f5f"
          },
          "geo": {
           "bgcolor": "white",
           "lakecolor": "white",
           "landcolor": "white",
           "showlakes": true,
           "showland": true,
           "subunitcolor": "#C8D4E3"
          },
          "hoverlabel": {
           "align": "left"
          },
          "hovermode": "closest",
          "mapbox": {
           "style": "light"
          },
          "paper_bgcolor": "white",
          "plot_bgcolor": "white",
          "polar": {
           "angularaxis": {
            "gridcolor": "#EBF0F8",
            "linecolor": "#EBF0F8",
            "ticks": ""
           },
           "bgcolor": "white",
           "radialaxis": {
            "gridcolor": "#EBF0F8",
            "linecolor": "#EBF0F8",
            "ticks": ""
           }
          },
          "scene": {
           "xaxis": {
            "backgroundcolor": "white",
            "gridcolor": "#DFE8F3",
            "gridwidth": 2,
            "linecolor": "#EBF0F8",
            "showbackground": true,
            "ticks": "",
            "zerolinecolor": "#EBF0F8"
           },
           "yaxis": {
            "backgroundcolor": "white",
            "gridcolor": "#DFE8F3",
            "gridwidth": 2,
            "linecolor": "#EBF0F8",
            "showbackground": true,
            "ticks": "",
            "zerolinecolor": "#EBF0F8"
           },
           "zaxis": {
            "backgroundcolor": "white",
            "gridcolor": "#DFE8F3",
            "gridwidth": 2,
            "linecolor": "#EBF0F8",
            "showbackground": true,
            "ticks": "",
            "zerolinecolor": "#EBF0F8"
           }
          },
          "shapedefaults": {
           "line": {
            "color": "#2a3f5f"
           }
          },
          "ternary": {
           "aaxis": {
            "gridcolor": "#DFE8F3",
            "linecolor": "#A2B1C6",
            "ticks": ""
           },
           "baxis": {
            "gridcolor": "#DFE8F3",
            "linecolor": "#A2B1C6",
            "ticks": ""
           },
           "bgcolor": "white",
           "caxis": {
            "gridcolor": "#DFE8F3",
            "linecolor": "#A2B1C6",
            "ticks": ""
           }
          },
          "title": {
           "x": 0.05
          },
          "xaxis": {
           "automargin": true,
           "gridcolor": "#EBF0F8",
           "linecolor": "#EBF0F8",
           "ticks": "",
           "title": {
            "standoff": 15
           },
           "zerolinecolor": "#EBF0F8",
           "zerolinewidth": 2
          },
          "yaxis": {
           "automargin": true,
           "gridcolor": "#EBF0F8",
           "linecolor": "#EBF0F8",
           "ticks": "",
           "title": {
            "standoff": 15
           },
           "zerolinecolor": "#EBF0F8",
           "zerolinewidth": 2
          }
         }
        },
        "title": {
         "text": "eVMT"
        },
        "uniformtext": {
         "minsize": 8,
         "mode": "hide"
        },
        "width": 400,
        "xaxis": {
         "autorange": true,
         "range": [
          -0.5,
          1.5
         ],
         "title": {
          "text": "Seed"
         },
         "type": "category"
        },
        "yaxis": {
         "autorange": true,
         "range": [
          0,
          131313.68421052632
         ],
         "title": {
          "text": "eVMT (miles)"
         },
         "type": "linear"
        }
       }
      },
      "image/png": "[encoded data removed]",
      "text/html": [
       "<div>                            <div id=\"9b763b78-daea-42f2-885e-e2adabaf2338\" class=\"plotly-graph-div\" style=\"height:400px; width:400px;\"></div>            <script type=\"text/javascript\">                require([\"plotly\"], function(Plotly) {                    window.PLOTLYENV=window.PLOTLYENV || {};                                    if (document.getElementById(\"9b763b78-daea-42f2-885e-e2adabaf2338\")) {                    Plotly.newPlot(                        \"9b763b78-daea-42f2-885e-e2adabaf2338\",                        [{\"name\": \"eVMT\", \"offsetgroup\": \"1\", \"text\": [119944.0, 124748.0], \"textposition\": \"auto\", \"type\": \"bar\", \"x\": [\"0\", \"123\"], \"y\": [119944.0, 124748.0]}],                        {\"height\": 400, \"margin\": {\"b\": 20, \"l\": 20, \"r\": 20, \"t\": 30}, \"template\": {\"data\": {\"bar\": [{\"error_x\": {\"color\": \"#2a3f5f\"}, \"error_y\": {\"color\": \"#2a3f5f\"}, \"marker\": {\"line\": {\"color\": \"white\", \"width\": 0.5}}, \"type\": \"bar\"}], \"barpolar\": [{\"marker\": {\"line\": {\"color\": \"white\", \"width\": 0.5}}, \"type\": \"barpolar\"}], \"carpet\": [{\"aaxis\": {\"endlinecolor\": \"#2a3f5f\", \"gridcolor\": \"#C8D4E3\", \"linecolor\": \"#C8D4E3\", \"minorgridcolor\": \"#C8D4E3\", \"startlinecolor\": \"#2a3f5f\"}, \"baxis\": {\"endlinecolor\": \"#2a3f5f\", \"gridcolor\": \"#C8D4E3\", \"linecolor\": \"#C8D4E3\", \"minorgridcolor\": \"#C8D4E3\", \"startlinecolor\": \"#2a3f5f\"}, \"type\": \"carpet\"}], \"choropleth\": [{\"colorbar\": {\"outlinewidth\": 0, \"ticks\": \"\"}, \"type\": \"choropleth\"}], \"contour\": [{\"colorbar\": {\"outlinewidth\": 0, \"ticks\": \"\"}, \"colorscale\": [[0.0, \"#0d0887\"], [0.1111111111111111, \"#46039f\"], [0.2222222222222222, \"#7201a8\"], [0.3333333333333333, \"#9c179e\"], [0.4444444444444444, \"#bd3786\"], [0.5555555555555556, \"#d8576b\"], [0.6666666666666666, \"#ed7953\"], [0.7777777777777778, \"#fb9f3a\"], [0.8888888888888888, \"#fdca26\"], [1.0, \"#f0f921\"]], \"type\": \"contour\"}], \"contourcarpet\": [{\"colorbar\": {\"outlinewidth\": 0, \"ticks\": \"\"}, \"type\": \"contourcarpet\"}], \"heatmap\": [{\"colorbar\": {\"outlinewidth\": 0, \"ticks\": \"\"}, \"colorscale\": [[0.0, \"#0d0887\"], [0.1111111111111111, \"#46039f\"], [0.2222222222222222, \"#7201a8\"], [0.3333333333333333, \"#9c179e\"], [0.4444444444444444, \"#bd3786\"], [0.5555555555555556, \"#d8576b\"], [0.6666666666666666, \"#ed7953\"], [0.7777777777777778, \"#fb9f3a\"], [0.8888888888888888, \"#fdca26\"], [1.0, \"#f0f921\"]], \"type\": \"heatmap\"}], \"heatmapgl\": [{\"colorbar\": {\"outlinewidth\": 0, \"ticks\": \"\"}, \"colorscale\": [[0.0, \"#0d0887\"], [0.1111111111111111, \"#46039f\"], [0.2222222222222222, \"#7201a8\"], [0.3333333333333333, \"#9c179e\"], [0.4444444444444444, \"#bd3786\"], [0.5555555555555556, \"#d8576b\"], [0.6666666666666666, \"#ed7953\"], [0.7777777777777778, \"#fb9f3a\"], [0.8888888888888888, \"#fdca26\"], [1.0, \"#f0f921\"]], \"type\": \"heatmapgl\"}], \"histogram\": [{\"marker\": {\"colorbar\": {\"outlinewidth\": 0, \"ticks\": \"\"}}, \"type\": \"histogram\"}], \"histogram2d\": [{\"colorbar\": {\"outlinewidth\": 0, \"ticks\": \"\"}, \"colorscale\": [[0.0, \"#0d0887\"], [0.1111111111111111, \"#46039f\"], [0.2222222222222222, \"#7201a8\"], [0.3333333333333333, \"#9c179e\"], [0.4444444444444444, \"#bd3786\"], [0.5555555555555556, \"#d8576b\"], [0.6666666666666666, \"#ed7953\"], [0.7777777777777778, \"#fb9f3a\"], [0.8888888888888888, \"#fdca26\"], [1.0, \"#f0f921\"]], \"type\": \"histogram2d\"}], \"histogram2dcontour\": [{\"colorbar\": {\"outlinewidth\": 0, \"ticks\": \"\"}, \"colorscale\": [[0.0, \"#0d0887\"], [0.1111111111111111, \"#46039f\"], [0.2222222222222222, \"#7201a8\"], [0.3333333333333333, \"#9c179e\"], [0.4444444444444444, \"#bd3786\"], [0.5555555555555556, \"#d8576b\"], [0.6666666666666666, \"#ed7953\"], [0.7777777777777778, \"#fb9f3a\"], [0.8888888888888888, \"#fdca26\"], [1.0, \"#f0f921\"]], \"type\": \"histogram2dcontour\"}], \"mesh3d\": [{\"colorbar\": {\"outlinewidth\": 0, \"ticks\": \"\"}, \"type\": \"mesh3d\"}], \"parcoords\": [{\"line\": {\"colorbar\": {\"outlinewidth\": 0, \"ticks\": \"\"}}, \"type\": \"parcoords\"}], \"pie\": [{\"automargin\": true, \"type\": \"pie\"}], \"scatter\": [{\"marker\": {\"colorbar\": {\"outlinewidth\": 0, \"ticks\": \"\"}}, \"type\": \"scatter\"}], \"scatter3d\": [{\"line\": {\"colorbar\": {\"outlinewidth\": 0, \"ticks\": \"\"}}, \"marker\": {\"colorbar\": {\"outlinewidth\": 0, \"ticks\": \"\"}}, \"type\": \"scatter3d\"}], \"scattercarpet\": [{\"marker\": {\"colorbar\": {\"outlinewidth\": 0, \"ticks\": \"\"}}, \"type\": \"scattercarpet\"}], \"scattergeo\": [{\"marker\": {\"colorbar\": {\"outlinewidth\": 0, \"ticks\": \"\"}}, \"type\": \"scattergeo\"}], \"scattergl\": [{\"marker\": {\"colorbar\": {\"outlinewidth\": 0, \"ticks\": \"\"}}, \"type\": \"scattergl\"}], \"scattermapbox\": [{\"marker\": {\"colorbar\": {\"outlinewidth\": 0, \"ticks\": \"\"}}, \"type\": \"scattermapbox\"}], \"scatterpolar\": [{\"marker\": {\"colorbar\": {\"outlinewidth\": 0, \"ticks\": \"\"}}, \"type\": \"scatterpolar\"}], \"scatterpolargl\": [{\"marker\": {\"colorbar\": {\"outlinewidth\": 0, \"ticks\": \"\"}}, \"type\": \"scatterpolargl\"}], \"scatterternary\": [{\"marker\": {\"colorbar\": {\"outlinewidth\": 0, \"ticks\": \"\"}}, \"type\": \"scatterternary\"}], \"surface\": [{\"colorbar\": {\"outlinewidth\": 0, \"ticks\": \"\"}, \"colorscale\": [[0.0, \"#0d0887\"], [0.1111111111111111, \"#46039f\"], [0.2222222222222222, \"#7201a8\"], [0.3333333333333333, \"#9c179e\"], [0.4444444444444444, \"#bd3786\"], [0.5555555555555556, \"#d8576b\"], [0.6666666666666666, \"#ed7953\"], [0.7777777777777778, \"#fb9f3a\"], [0.8888888888888888, \"#fdca26\"], [1.0, \"#f0f921\"]], \"type\": \"surface\"}], \"table\": [{\"cells\": {\"fill\": {\"color\": \"#EBF0F8\"}, \"line\": {\"color\": \"white\"}}, \"header\": {\"fill\": {\"color\": \"#C8D4E3\"}, \"line\": {\"color\": \"white\"}}, \"type\": \"table\"}]}, \"layout\": {\"annotationdefaults\": {\"arrowcolor\": \"#2a3f5f\", \"arrowhead\": 0, \"arrowwidth\": 1}, \"coloraxis\": {\"colorbar\": {\"outlinewidth\": 0, \"ticks\": \"\"}}, \"colorscale\": {\"diverging\": [[0, \"#8e0152\"], [0.1, \"#c51b7d\"], [0.2, \"#de77ae\"], [0.3, \"#f1b6da\"], [0.4, \"#fde0ef\"], [0.5, \"#f7f7f7\"], [0.6, \"#e6f5d0\"], [0.7, \"#b8e186\"], [0.8, \"#7fbc41\"], [0.9, \"#4d9221\"], [1, \"#276419\"]], \"sequential\": [[0.0, \"#0d0887\"], [0.1111111111111111, \"#46039f\"], [0.2222222222222222, \"#7201a8\"], [0.3333333333333333, \"#9c179e\"], [0.4444444444444444, \"#bd3786\"], [0.5555555555555556, \"#d8576b\"], [0.6666666666666666, \"#ed7953\"], [0.7777777777777778, \"#fb9f3a\"], [0.8888888888888888, \"#fdca26\"], [1.0, \"#f0f921\"]], \"sequentialminus\": [[0.0, \"#0d0887\"], [0.1111111111111111, \"#46039f\"], [0.2222222222222222, \"#7201a8\"], [0.3333333333333333, \"#9c179e\"], [0.4444444444444444, \"#bd3786\"], [0.5555555555555556, \"#d8576b\"], [0.6666666666666666, \"#ed7953\"], [0.7777777777777778, \"#fb9f3a\"], [0.8888888888888888, \"#fdca26\"], [1.0, \"#f0f921\"]]}, \"colorway\": [\"#636efa\", \"#EF553B\", \"#00cc96\", \"#ab63fa\", \"#FFA15A\", \"#19d3f3\", \"#FF6692\", \"#B6E880\", \"#FF97FF\", \"#FECB52\"], \"font\": {\"color\": \"#2a3f5f\"}, \"geo\": {\"bgcolor\": \"white\", \"lakecolor\": \"white\", \"landcolor\": \"white\", \"showlakes\": true, \"showland\": true, \"subunitcolor\": \"#C8D4E3\"}, \"hoverlabel\": {\"align\": \"left\"}, \"hovermode\": \"closest\", \"mapbox\": {\"style\": \"light\"}, \"paper_bgcolor\": \"white\", \"plot_bgcolor\": \"white\", \"polar\": {\"angularaxis\": {\"gridcolor\": \"#EBF0F8\", \"linecolor\": \"#EBF0F8\", \"ticks\": \"\"}, \"bgcolor\": \"white\", \"radialaxis\": {\"gridcolor\": \"#EBF0F8\", \"linecolor\": \"#EBF0F8\", \"ticks\": \"\"}}, \"scene\": {\"xaxis\": {\"backgroundcolor\": \"white\", \"gridcolor\": \"#DFE8F3\", \"gridwidth\": 2, \"linecolor\": \"#EBF0F8\", \"showbackground\": true, \"ticks\": \"\", \"zerolinecolor\": \"#EBF0F8\"}, \"yaxis\": {\"backgroundcolor\": \"white\", \"gridcolor\": \"#DFE8F3\", \"gridwidth\": 2, \"linecolor\": \"#EBF0F8\", \"showbackground\": true, \"ticks\": \"\", \"zerolinecolor\": \"#EBF0F8\"}, \"zaxis\": {\"backgroundcolor\": \"white\", \"gridcolor\": \"#DFE8F3\", \"gridwidth\": 2, \"linecolor\": \"#EBF0F8\", \"showbackground\": true, \"ticks\": \"\", \"zerolinecolor\": \"#EBF0F8\"}}, \"shapedefaults\": {\"line\": {\"color\": \"#2a3f5f\"}}, \"ternary\": {\"aaxis\": {\"gridcolor\": \"#DFE8F3\", \"linecolor\": \"#A2B1C6\", \"ticks\": \"\"}, \"baxis\": {\"gridcolor\": \"#DFE8F3\", \"linecolor\": \"#A2B1C6\", \"ticks\": \"\"}, \"bgcolor\": \"white\", \"caxis\": {\"gridcolor\": \"#DFE8F3\", \"linecolor\": \"#A2B1C6\", \"ticks\": \"\"}}, \"title\": {\"x\": 0.05}, \"xaxis\": {\"automargin\": true, \"gridcolor\": \"#EBF0F8\", \"linecolor\": \"#EBF0F8\", \"ticks\": \"\", \"title\": {\"standoff\": 15}, \"zerolinecolor\": \"#EBF0F8\", \"zerolinewidth\": 2}, \"yaxis\": {\"automargin\": true, \"gridcolor\": \"#EBF0F8\", \"linecolor\": \"#EBF0F8\", \"ticks\": \"\", \"title\": {\"standoff\": 15}, \"zerolinecolor\": \"#EBF0F8\", \"zerolinewidth\": 2}}}, \"title\": {\"text\": \"eVMT\"}, \"uniformtext\": {\"minsize\": 8, \"mode\": \"hide\"}, \"width\": 400, \"xaxis\": {\"title\": {\"text\": \"Seed\"}, \"type\": \"category\"}, \"yaxis\": {\"title\": {\"text\": \"eVMT (miles)\"}}},                        {\"responsive\": true}                    ).then(function(){\n",
       "                            \n",
       "var gd = document.getElementById('9b763b78-daea-42f2-885e-e2adabaf2338');\n",
       "var x = new MutationObserver(function (mutations, observer) {{\n",
       "        var display = window.getComputedStyle(gd).display;\n",
       "        if (!display || display === 'none') {{\n",
       "            console.log([gd, 'removed!']);\n",
       "            Plotly.purge(gd);\n",
       "            observer.disconnect();\n",
       "        }}\n",
       "}});\n",
       "\n",
       "// Listen for the removal of the full notebook cells\n",
       "var notebookContainer = gd.closest('#notebook-container');\n",
       "if (notebookContainer) {{\n",
       "    x.observe(notebookContainer, {childList: true});\n",
       "}}\n",
       "\n",
       "// Listen for the clearing of the current output cell\n",
       "var outputEl = gd.closest('.output');\n",
       "if (outputEl) {{\n",
       "    x.observe(outputEl, {childList: true});\n",
       "}}\n",
       "\n",
       "                        })                };                });            </script>        </div>"
      ]
     },
     "metadata": {},
     "output_type": "display_data"
    }
   ],
   "source": [
    "fig = go.Figure(\n",
    "    data=[\n",
    "        go.Bar(\n",
    "            name=\"eVMT\",\n",
    "            x=count_stats['param_value'],\n",
    "            y=count_stats['evmt'],\n",
    "            offsetgroup=1,\n",
    "            text=count_stats['evmt'],\n",
    "            textposition='auto',\n",
    "        )\n",
    "    ],\n",
    "    layout=go.Layout(\n",
    "        title=\"eVMT\",\n",
    "        yaxis_title=\"eVMT (miles)\", \n",
    "        xaxis_title=\"Seed\", uniformtext_minsize=8, uniformtext_mode='hide', width=400, height=400\n",
    "        \n",
    "    )\n",
    ")\n",
    "fig.update_xaxes(type='category')\n",
    "fig.update_layout(margin=dict(l=20, r=20, t=30, b=20), uniformtext_minsize=8, uniformtext_mode='hide', template='plotly_white')\n",
    "fig.show()"
   ]
  },
  {
   "cell_type": "markdown",
   "metadata": {},
   "source": [
    "#### 5.3 Charging and Waiting Sessions"
   ]
  },
  {
   "cell_type": "code",
   "execution_count": 45,
   "metadata": {},
   "outputs": [
    {
     "data": {
      "application/vnd.plotly.v1+json": {
       "config": {
        "plotlyServerURL": "https://plot.ly"
       },
       "data": [
        {
         "name": "# Charging Sessions",
         "offsetgroup": "1",
         "text": [
          777,
          734
         ],
         "textposition": "auto",
         "type": "bar",
         "x": [
          "0",
          "123"
         ],
         "y": [
          777,
          734
         ]
        },
        {
         "base": [
          777,
          734
         ],
         "name": "# Waiting Sessions",
         "offsetgroup": "1",
         "text": [
          434,
          425
         ],
         "textposition": "auto",
         "type": "bar",
         "x": [
          "0",
          "123"
         ],
         "y": [
          434,
          425
         ]
        }
       ],
       "layout": {
        "height": 400,
        "margin": {
         "b": 20,
         "l": 20,
         "r": 20,
         "t": 30
        },
        "template": {
         "data": {
          "bar": [
           {
            "error_x": {
             "color": "#2a3f5f"
            },
            "error_y": {
             "color": "#2a3f5f"
            },
            "marker": {
             "line": {
              "color": "white",
              "width": 0.5
             }
            },
            "type": "bar"
           }
          ],
          "barpolar": [
           {
            "marker": {
             "line": {
              "color": "white",
              "width": 0.5
             }
            },
            "type": "barpolar"
           }
          ],
          "carpet": [
           {
            "aaxis": {
             "endlinecolor": "#2a3f5f",
             "gridcolor": "#C8D4E3",
             "linecolor": "#C8D4E3",
             "minorgridcolor": "#C8D4E3",
             "startlinecolor": "#2a3f5f"
            },
            "baxis": {
             "endlinecolor": "#2a3f5f",
             "gridcolor": "#C8D4E3",
             "linecolor": "#C8D4E3",
             "minorgridcolor": "#C8D4E3",
             "startlinecolor": "#2a3f5f"
            },
            "type": "carpet"
           }
          ],
          "choropleth": [
           {
            "colorbar": {
             "outlinewidth": 0,
             "ticks": ""
            },
            "type": "choropleth"
           }
          ],
          "contour": [
           {
            "colorbar": {
             "outlinewidth": 0,
             "ticks": ""
            },
            "colorscale": [
             [
              0,
              "#0d0887"
             ],
             [
              0.1111111111111111,
              "#46039f"
             ],
             [
              0.2222222222222222,
              "#7201a8"
             ],
             [
              0.3333333333333333,
              "#9c179e"
             ],
             [
              0.4444444444444444,
              "#bd3786"
             ],
             [
              0.5555555555555556,
              "#d8576b"
             ],
             [
              0.6666666666666666,
              "#ed7953"
             ],
             [
              0.7777777777777778,
              "#fb9f3a"
             ],
             [
              0.8888888888888888,
              "#fdca26"
             ],
             [
              1,
              "#f0f921"
             ]
            ],
            "type": "contour"
           }
          ],
          "contourcarpet": [
           {
            "colorbar": {
             "outlinewidth": 0,
             "ticks": ""
            },
            "type": "contourcarpet"
           }
          ],
          "heatmap": [
           {
            "colorbar": {
             "outlinewidth": 0,
             "ticks": ""
            },
            "colorscale": [
             [
              0,
              "#0d0887"
             ],
             [
              0.1111111111111111,
              "#46039f"
             ],
             [
              0.2222222222222222,
              "#7201a8"
             ],
             [
              0.3333333333333333,
              "#9c179e"
             ],
             [
              0.4444444444444444,
              "#bd3786"
             ],
             [
              0.5555555555555556,
              "#d8576b"
             ],
             [
              0.6666666666666666,
              "#ed7953"
             ],
             [
              0.7777777777777778,
              "#fb9f3a"
             ],
             [
              0.8888888888888888,
              "#fdca26"
             ],
             [
              1,
              "#f0f921"
             ]
            ],
            "type": "heatmap"
           }
          ],
          "heatmapgl": [
           {
            "colorbar": {
             "outlinewidth": 0,
             "ticks": ""
            },
            "colorscale": [
             [
              0,
              "#0d0887"
             ],
             [
              0.1111111111111111,
              "#46039f"
             ],
             [
              0.2222222222222222,
              "#7201a8"
             ],
             [
              0.3333333333333333,
              "#9c179e"
             ],
             [
              0.4444444444444444,
              "#bd3786"
             ],
             [
              0.5555555555555556,
              "#d8576b"
             ],
             [
              0.6666666666666666,
              "#ed7953"
             ],
             [
              0.7777777777777778,
              "#fb9f3a"
             ],
             [
              0.8888888888888888,
              "#fdca26"
             ],
             [
              1,
              "#f0f921"
             ]
            ],
            "type": "heatmapgl"
           }
          ],
          "histogram": [
           {
            "marker": {
             "colorbar": {
              "outlinewidth": 0,
              "ticks": ""
             }
            },
            "type": "histogram"
           }
          ],
          "histogram2d": [
           {
            "colorbar": {
             "outlinewidth": 0,
             "ticks": ""
            },
            "colorscale": [
             [
              0,
              "#0d0887"
             ],
             [
              0.1111111111111111,
              "#46039f"
             ],
             [
              0.2222222222222222,
              "#7201a8"
             ],
             [
              0.3333333333333333,
              "#9c179e"
             ],
             [
              0.4444444444444444,
              "#bd3786"
             ],
             [
              0.5555555555555556,
              "#d8576b"
             ],
             [
              0.6666666666666666,
              "#ed7953"
             ],
             [
              0.7777777777777778,
              "#fb9f3a"
             ],
             [
              0.8888888888888888,
              "#fdca26"
             ],
             [
              1,
              "#f0f921"
             ]
            ],
            "type": "histogram2d"
           }
          ],
          "histogram2dcontour": [
           {
            "colorbar": {
             "outlinewidth": 0,
             "ticks": ""
            },
            "colorscale": [
             [
              0,
              "#0d0887"
             ],
             [
              0.1111111111111111,
              "#46039f"
             ],
             [
              0.2222222222222222,
              "#7201a8"
             ],
             [
              0.3333333333333333,
              "#9c179e"
             ],
             [
              0.4444444444444444,
              "#bd3786"
             ],
             [
              0.5555555555555556,
              "#d8576b"
             ],
             [
              0.6666666666666666,
              "#ed7953"
             ],
             [
              0.7777777777777778,
              "#fb9f3a"
             ],
             [
              0.8888888888888888,
              "#fdca26"
             ],
             [
              1,
              "#f0f921"
             ]
            ],
            "type": "histogram2dcontour"
           }
          ],
          "mesh3d": [
           {
            "colorbar": {
             "outlinewidth": 0,
             "ticks": ""
            },
            "type": "mesh3d"
           }
          ],
          "parcoords": [
           {
            "line": {
             "colorbar": {
              "outlinewidth": 0,
              "ticks": ""
             }
            },
            "type": "parcoords"
           }
          ],
          "pie": [
           {
            "automargin": true,
            "type": "pie"
           }
          ],
          "scatter": [
           {
            "marker": {
             "colorbar": {
              "outlinewidth": 0,
              "ticks": ""
             }
            },
            "type": "scatter"
           }
          ],
          "scatter3d": [
           {
            "line": {
             "colorbar": {
              "outlinewidth": 0,
              "ticks": ""
             }
            },
            "marker": {
             "colorbar": {
              "outlinewidth": 0,
              "ticks": ""
             }
            },
            "type": "scatter3d"
           }
          ],
          "scattercarpet": [
           {
            "marker": {
             "colorbar": {
              "outlinewidth": 0,
              "ticks": ""
             }
            },
            "type": "scattercarpet"
           }
          ],
          "scattergeo": [
           {
            "marker": {
             "colorbar": {
              "outlinewidth": 0,
              "ticks": ""
             }
            },
            "type": "scattergeo"
           }
          ],
          "scattergl": [
           {
            "marker": {
             "colorbar": {
              "outlinewidth": 0,
              "ticks": ""
             }
            },
            "type": "scattergl"
           }
          ],
          "scattermapbox": [
           {
            "marker": {
             "colorbar": {
              "outlinewidth": 0,
              "ticks": ""
             }
            },
            "type": "scattermapbox"
           }
          ],
          "scatterpolar": [
           {
            "marker": {
             "colorbar": {
              "outlinewidth": 0,
              "ticks": ""
             }
            },
            "type": "scatterpolar"
           }
          ],
          "scatterpolargl": [
           {
            "marker": {
             "colorbar": {
              "outlinewidth": 0,
              "ticks": ""
             }
            },
            "type": "scatterpolargl"
           }
          ],
          "scatterternary": [
           {
            "marker": {
             "colorbar": {
              "outlinewidth": 0,
              "ticks": ""
             }
            },
            "type": "scatterternary"
           }
          ],
          "surface": [
           {
            "colorbar": {
             "outlinewidth": 0,
             "ticks": ""
            },
            "colorscale": [
             [
              0,
              "#0d0887"
             ],
             [
              0.1111111111111111,
              "#46039f"
             ],
             [
              0.2222222222222222,
              "#7201a8"
             ],
             [
              0.3333333333333333,
              "#9c179e"
             ],
             [
              0.4444444444444444,
              "#bd3786"
             ],
             [
              0.5555555555555556,
              "#d8576b"
             ],
             [
              0.6666666666666666,
              "#ed7953"
             ],
             [
              0.7777777777777778,
              "#fb9f3a"
             ],
             [
              0.8888888888888888,
              "#fdca26"
             ],
             [
              1,
              "#f0f921"
             ]
            ],
            "type": "surface"
           }
          ],
          "table": [
           {
            "cells": {
             "fill": {
              "color": "#EBF0F8"
             },
             "line": {
              "color": "white"
             }
            },
            "header": {
             "fill": {
              "color": "#C8D4E3"
             },
             "line": {
              "color": "white"
             }
            },
            "type": "table"
           }
          ]
         },
         "layout": {
          "annotationdefaults": {
           "arrowcolor": "#2a3f5f",
           "arrowhead": 0,
           "arrowwidth": 1
          },
          "coloraxis": {
           "colorbar": {
            "outlinewidth": 0,
            "ticks": ""
           }
          },
          "colorscale": {
           "diverging": [
            [
             0,
             "#8e0152"
            ],
            [
             0.1,
             "#c51b7d"
            ],
            [
             0.2,
             "#de77ae"
            ],
            [
             0.3,
             "#f1b6da"
            ],
            [
             0.4,
             "#fde0ef"
            ],
            [
             0.5,
             "#f7f7f7"
            ],
            [
             0.6,
             "#e6f5d0"
            ],
            [
             0.7,
             "#b8e186"
            ],
            [
             0.8,
             "#7fbc41"
            ],
            [
             0.9,
             "#4d9221"
            ],
            [
             1,
             "#276419"
            ]
           ],
           "sequential": [
            [
             0,
             "#0d0887"
            ],
            [
             0.1111111111111111,
             "#46039f"
            ],
            [
             0.2222222222222222,
             "#7201a8"
            ],
            [
             0.3333333333333333,
             "#9c179e"
            ],
            [
             0.4444444444444444,
             "#bd3786"
            ],
            [
             0.5555555555555556,
             "#d8576b"
            ],
            [
             0.6666666666666666,
             "#ed7953"
            ],
            [
             0.7777777777777778,
             "#fb9f3a"
            ],
            [
             0.8888888888888888,
             "#fdca26"
            ],
            [
             1,
             "#f0f921"
            ]
           ],
           "sequentialminus": [
            [
             0,
             "#0d0887"
            ],
            [
             0.1111111111111111,
             "#46039f"
            ],
            [
             0.2222222222222222,
             "#7201a8"
            ],
            [
             0.3333333333333333,
             "#9c179e"
            ],
            [
             0.4444444444444444,
             "#bd3786"
            ],
            [
             0.5555555555555556,
             "#d8576b"
            ],
            [
             0.6666666666666666,
             "#ed7953"
            ],
            [
             0.7777777777777778,
             "#fb9f3a"
            ],
            [
             0.8888888888888888,
             "#fdca26"
            ],
            [
             1,
             "#f0f921"
            ]
           ]
          },
          "colorway": [
           "#636efa",
           "#EF553B",
           "#00cc96",
           "#ab63fa",
           "#FFA15A",
           "#19d3f3",
           "#FF6692",
           "#B6E880",
           "#FF97FF",
           "#FECB52"
          ],
          "font": {
           "color": "#2a3f5f"
          },
          "geo": {
           "bgcolor": "white",
           "lakecolor": "white",
           "landcolor": "white",
           "showlakes": true,
           "showland": true,
           "subunitcolor": "#C8D4E3"
          },
          "hoverlabel": {
           "align": "left"
          },
          "hovermode": "closest",
          "mapbox": {
           "style": "light"
          },
          "paper_bgcolor": "white",
          "plot_bgcolor": "white",
          "polar": {
           "angularaxis": {
            "gridcolor": "#EBF0F8",
            "linecolor": "#EBF0F8",
            "ticks": ""
           },
           "bgcolor": "white",
           "radialaxis": {
            "gridcolor": "#EBF0F8",
            "linecolor": "#EBF0F8",
            "ticks": ""
           }
          },
          "scene": {
           "xaxis": {
            "backgroundcolor": "white",
            "gridcolor": "#DFE8F3",
            "gridwidth": 2,
            "linecolor": "#EBF0F8",
            "showbackground": true,
            "ticks": "",
            "zerolinecolor": "#EBF0F8"
           },
           "yaxis": {
            "backgroundcolor": "white",
            "gridcolor": "#DFE8F3",
            "gridwidth": 2,
            "linecolor": "#EBF0F8",
            "showbackground": true,
            "ticks": "",
            "zerolinecolor": "#EBF0F8"
           },
           "zaxis": {
            "backgroundcolor": "white",
            "gridcolor": "#DFE8F3",
            "gridwidth": 2,
            "linecolor": "#EBF0F8",
            "showbackground": true,
            "ticks": "",
            "zerolinecolor": "#EBF0F8"
           }
          },
          "shapedefaults": {
           "line": {
            "color": "#2a3f5f"
           }
          },
          "ternary": {
           "aaxis": {
            "gridcolor": "#DFE8F3",
            "linecolor": "#A2B1C6",
            "ticks": ""
           },
           "baxis": {
            "gridcolor": "#DFE8F3",
            "linecolor": "#A2B1C6",
            "ticks": ""
           },
           "bgcolor": "white",
           "caxis": {
            "gridcolor": "#DFE8F3",
            "linecolor": "#A2B1C6",
            "ticks": ""
           }
          },
          "title": {
           "x": 0.05
          },
          "xaxis": {
           "automargin": true,
           "gridcolor": "#EBF0F8",
           "linecolor": "#EBF0F8",
           "ticks": "",
           "title": {
            "standoff": 15
           },
           "zerolinecolor": "#EBF0F8",
           "zerolinewidth": 2
          },
          "yaxis": {
           "automargin": true,
           "gridcolor": "#EBF0F8",
           "linecolor": "#EBF0F8",
           "ticks": "",
           "title": {
            "standoff": 15
           },
           "zerolinecolor": "#EBF0F8",
           "zerolinewidth": 2
          }
         }
        },
        "title": {
         "text": "Waiting and Charging Session Counts"
        },
        "uniformtext": {
         "minsize": 8,
         "mode": "hide"
        },
        "width": 600,
        "xaxis": {
         "autorange": true,
         "range": [
          -0.5,
          1.5
         ],
         "title": {
          "text": "Seed"
         },
         "type": "category"
        },
        "yaxis": {
         "autorange": true,
         "range": [
          0,
          1274.7368421052631
         ],
         "title": {
          "text": "Counts"
         },
         "type": "linear"
        }
       }
      },
      "image/png": "[encoded data removed]",
      "text/html": [
       "<div>                            <div id=\"2c28b854-e7ad-4215-a450-00648321401c\" class=\"plotly-graph-div\" style=\"height:400px; width:600px;\"></div>            <script type=\"text/javascript\">                require([\"plotly\"], function(Plotly) {                    window.PLOTLYENV=window.PLOTLYENV || {};                                    if (document.getElementById(\"2c28b854-e7ad-4215-a450-00648321401c\")) {                    Plotly.newPlot(                        \"2c28b854-e7ad-4215-a450-00648321401c\",                        [{\"name\": \"# Charging Sessions\", \"offsetgroup\": \"1\", \"text\": [777.0, 734.0], \"textposition\": \"auto\", \"type\": \"bar\", \"x\": [\"0\", \"123\"], \"y\": [777, 734]}, {\"base\": [777, 734], \"name\": \"# Waiting Sessions\", \"offsetgroup\": \"1\", \"text\": [434.0, 425.0], \"textposition\": \"auto\", \"type\": \"bar\", \"x\": [\"0\", \"123\"], \"y\": [434, 425]}],                        {\"height\": 400, \"margin\": {\"b\": 20, \"l\": 20, \"r\": 20, \"t\": 30}, \"template\": {\"data\": {\"bar\": [{\"error_x\": {\"color\": \"#2a3f5f\"}, \"error_y\": {\"color\": \"#2a3f5f\"}, \"marker\": {\"line\": {\"color\": \"white\", \"width\": 0.5}}, \"type\": \"bar\"}], \"barpolar\": [{\"marker\": {\"line\": {\"color\": \"white\", \"width\": 0.5}}, \"type\": \"barpolar\"}], \"carpet\": [{\"aaxis\": {\"endlinecolor\": \"#2a3f5f\", \"gridcolor\": \"#C8D4E3\", \"linecolor\": \"#C8D4E3\", \"minorgridcolor\": \"#C8D4E3\", \"startlinecolor\": \"#2a3f5f\"}, \"baxis\": {\"endlinecolor\": \"#2a3f5f\", \"gridcolor\": \"#C8D4E3\", \"linecolor\": \"#C8D4E3\", \"minorgridcolor\": \"#C8D4E3\", \"startlinecolor\": \"#2a3f5f\"}, \"type\": \"carpet\"}], \"choropleth\": [{\"colorbar\": {\"outlinewidth\": 0, \"ticks\": \"\"}, \"type\": \"choropleth\"}], \"contour\": [{\"colorbar\": {\"outlinewidth\": 0, \"ticks\": \"\"}, \"colorscale\": [[0.0, \"#0d0887\"], [0.1111111111111111, \"#46039f\"], [0.2222222222222222, \"#7201a8\"], [0.3333333333333333, \"#9c179e\"], [0.4444444444444444, \"#bd3786\"], [0.5555555555555556, \"#d8576b\"], [0.6666666666666666, \"#ed7953\"], [0.7777777777777778, \"#fb9f3a\"], [0.8888888888888888, \"#fdca26\"], [1.0, \"#f0f921\"]], \"type\": \"contour\"}], \"contourcarpet\": [{\"colorbar\": {\"outlinewidth\": 0, \"ticks\": \"\"}, \"type\": \"contourcarpet\"}], \"heatmap\": [{\"colorbar\": {\"outlinewidth\": 0, \"ticks\": \"\"}, \"colorscale\": [[0.0, \"#0d0887\"], [0.1111111111111111, \"#46039f\"], [0.2222222222222222, \"#7201a8\"], [0.3333333333333333, \"#9c179e\"], [0.4444444444444444, \"#bd3786\"], [0.5555555555555556, \"#d8576b\"], [0.6666666666666666, \"#ed7953\"], [0.7777777777777778, \"#fb9f3a\"], [0.8888888888888888, \"#fdca26\"], [1.0, \"#f0f921\"]], \"type\": \"heatmap\"}], \"heatmapgl\": [{\"colorbar\": {\"outlinewidth\": 0, \"ticks\": \"\"}, \"colorscale\": [[0.0, \"#0d0887\"], [0.1111111111111111, \"#46039f\"], [0.2222222222222222, \"#7201a8\"], [0.3333333333333333, \"#9c179e\"], [0.4444444444444444, \"#bd3786\"], [0.5555555555555556, \"#d8576b\"], [0.6666666666666666, \"#ed7953\"], [0.7777777777777778, \"#fb9f3a\"], [0.8888888888888888, \"#fdca26\"], [1.0, \"#f0f921\"]], \"type\": \"heatmapgl\"}], \"histogram\": [{\"marker\": {\"colorbar\": {\"outlinewidth\": 0, \"ticks\": \"\"}}, \"type\": \"histogram\"}], \"histogram2d\": [{\"colorbar\": {\"outlinewidth\": 0, \"ticks\": \"\"}, \"colorscale\": [[0.0, \"#0d0887\"], [0.1111111111111111, \"#46039f\"], [0.2222222222222222, \"#7201a8\"], [0.3333333333333333, \"#9c179e\"], [0.4444444444444444, \"#bd3786\"], [0.5555555555555556, \"#d8576b\"], [0.6666666666666666, \"#ed7953\"], [0.7777777777777778, \"#fb9f3a\"], [0.8888888888888888, \"#fdca26\"], [1.0, \"#f0f921\"]], \"type\": \"histogram2d\"}], \"histogram2dcontour\": [{\"colorbar\": {\"outlinewidth\": 0, \"ticks\": \"\"}, \"colorscale\": [[0.0, \"#0d0887\"], [0.1111111111111111, \"#46039f\"], [0.2222222222222222, \"#7201a8\"], [0.3333333333333333, \"#9c179e\"], [0.4444444444444444, \"#bd3786\"], [0.5555555555555556, \"#d8576b\"], [0.6666666666666666, \"#ed7953\"], [0.7777777777777778, \"#fb9f3a\"], [0.8888888888888888, \"#fdca26\"], [1.0, \"#f0f921\"]], \"type\": \"histogram2dcontour\"}], \"mesh3d\": [{\"colorbar\": {\"outlinewidth\": 0, \"ticks\": \"\"}, \"type\": \"mesh3d\"}], \"parcoords\": [{\"line\": {\"colorbar\": {\"outlinewidth\": 0, \"ticks\": \"\"}}, \"type\": \"parcoords\"}], \"pie\": [{\"automargin\": true, \"type\": \"pie\"}], \"scatter\": [{\"marker\": {\"colorbar\": {\"outlinewidth\": 0, \"ticks\": \"\"}}, \"type\": \"scatter\"}], \"scatter3d\": [{\"line\": {\"colorbar\": {\"outlinewidth\": 0, \"ticks\": \"\"}}, \"marker\": {\"colorbar\": {\"outlinewidth\": 0, \"ticks\": \"\"}}, \"type\": \"scatter3d\"}], \"scattercarpet\": [{\"marker\": {\"colorbar\": {\"outlinewidth\": 0, \"ticks\": \"\"}}, \"type\": \"scattercarpet\"}], \"scattergeo\": [{\"marker\": {\"colorbar\": {\"outlinewidth\": 0, \"ticks\": \"\"}}, \"type\": \"scattergeo\"}], \"scattergl\": [{\"marker\": {\"colorbar\": {\"outlinewidth\": 0, \"ticks\": \"\"}}, \"type\": \"scattergl\"}], \"scattermapbox\": [{\"marker\": {\"colorbar\": {\"outlinewidth\": 0, \"ticks\": \"\"}}, \"type\": \"scattermapbox\"}], \"scatterpolar\": [{\"marker\": {\"colorbar\": {\"outlinewidth\": 0, \"ticks\": \"\"}}, \"type\": \"scatterpolar\"}], \"scatterpolargl\": [{\"marker\": {\"colorbar\": {\"outlinewidth\": 0, \"ticks\": \"\"}}, \"type\": \"scatterpolargl\"}], \"scatterternary\": [{\"marker\": {\"colorbar\": {\"outlinewidth\": 0, \"ticks\": \"\"}}, \"type\": \"scatterternary\"}], \"surface\": [{\"colorbar\": {\"outlinewidth\": 0, \"ticks\": \"\"}, \"colorscale\": [[0.0, \"#0d0887\"], [0.1111111111111111, \"#46039f\"], [0.2222222222222222, \"#7201a8\"], [0.3333333333333333, \"#9c179e\"], [0.4444444444444444, \"#bd3786\"], [0.5555555555555556, \"#d8576b\"], [0.6666666666666666, \"#ed7953\"], [0.7777777777777778, \"#fb9f3a\"], [0.8888888888888888, \"#fdca26\"], [1.0, \"#f0f921\"]], \"type\": \"surface\"}], \"table\": [{\"cells\": {\"fill\": {\"color\": \"#EBF0F8\"}, \"line\": {\"color\": \"white\"}}, \"header\": {\"fill\": {\"color\": \"#C8D4E3\"}, \"line\": {\"color\": \"white\"}}, \"type\": \"table\"}]}, \"layout\": {\"annotationdefaults\": {\"arrowcolor\": \"#2a3f5f\", \"arrowhead\": 0, \"arrowwidth\": 1}, \"coloraxis\": {\"colorbar\": {\"outlinewidth\": 0, \"ticks\": \"\"}}, \"colorscale\": {\"diverging\": [[0, \"#8e0152\"], [0.1, \"#c51b7d\"], [0.2, \"#de77ae\"], [0.3, \"#f1b6da\"], [0.4, \"#fde0ef\"], [0.5, \"#f7f7f7\"], [0.6, \"#e6f5d0\"], [0.7, \"#b8e186\"], [0.8, \"#7fbc41\"], [0.9, \"#4d9221\"], [1, \"#276419\"]], \"sequential\": [[0.0, \"#0d0887\"], [0.1111111111111111, \"#46039f\"], [0.2222222222222222, \"#7201a8\"], [0.3333333333333333, \"#9c179e\"], [0.4444444444444444, \"#bd3786\"], [0.5555555555555556, \"#d8576b\"], [0.6666666666666666, \"#ed7953\"], [0.7777777777777778, \"#fb9f3a\"], [0.8888888888888888, \"#fdca26\"], [1.0, \"#f0f921\"]], \"sequentialminus\": [[0.0, \"#0d0887\"], [0.1111111111111111, \"#46039f\"], [0.2222222222222222, \"#7201a8\"], [0.3333333333333333, \"#9c179e\"], [0.4444444444444444, \"#bd3786\"], [0.5555555555555556, \"#d8576b\"], [0.6666666666666666, \"#ed7953\"], [0.7777777777777778, \"#fb9f3a\"], [0.8888888888888888, \"#fdca26\"], [1.0, \"#f0f921\"]]}, \"colorway\": [\"#636efa\", \"#EF553B\", \"#00cc96\", \"#ab63fa\", \"#FFA15A\", \"#19d3f3\", \"#FF6692\", \"#B6E880\", \"#FF97FF\", \"#FECB52\"], \"font\": {\"color\": \"#2a3f5f\"}, \"geo\": {\"bgcolor\": \"white\", \"lakecolor\": \"white\", \"landcolor\": \"white\", \"showlakes\": true, \"showland\": true, \"subunitcolor\": \"#C8D4E3\"}, \"hoverlabel\": {\"align\": \"left\"}, \"hovermode\": \"closest\", \"mapbox\": {\"style\": \"light\"}, \"paper_bgcolor\": \"white\", \"plot_bgcolor\": \"white\", \"polar\": {\"angularaxis\": {\"gridcolor\": \"#EBF0F8\", \"linecolor\": \"#EBF0F8\", \"ticks\": \"\"}, \"bgcolor\": \"white\", \"radialaxis\": {\"gridcolor\": \"#EBF0F8\", \"linecolor\": \"#EBF0F8\", \"ticks\": \"\"}}, \"scene\": {\"xaxis\": {\"backgroundcolor\": \"white\", \"gridcolor\": \"#DFE8F3\", \"gridwidth\": 2, \"linecolor\": \"#EBF0F8\", \"showbackground\": true, \"ticks\": \"\", \"zerolinecolor\": \"#EBF0F8\"}, \"yaxis\": {\"backgroundcolor\": \"white\", \"gridcolor\": \"#DFE8F3\", \"gridwidth\": 2, \"linecolor\": \"#EBF0F8\", \"showbackground\": true, \"ticks\": \"\", \"zerolinecolor\": \"#EBF0F8\"}, \"zaxis\": {\"backgroundcolor\": \"white\", \"gridcolor\": \"#DFE8F3\", \"gridwidth\": 2, \"linecolor\": \"#EBF0F8\", \"showbackground\": true, \"ticks\": \"\", \"zerolinecolor\": \"#EBF0F8\"}}, \"shapedefaults\": {\"line\": {\"color\": \"#2a3f5f\"}}, \"ternary\": {\"aaxis\": {\"gridcolor\": \"#DFE8F3\", \"linecolor\": \"#A2B1C6\", \"ticks\": \"\"}, \"baxis\": {\"gridcolor\": \"#DFE8F3\", \"linecolor\": \"#A2B1C6\", \"ticks\": \"\"}, \"bgcolor\": \"white\", \"caxis\": {\"gridcolor\": \"#DFE8F3\", \"linecolor\": \"#A2B1C6\", \"ticks\": \"\"}}, \"title\": {\"x\": 0.05}, \"xaxis\": {\"automargin\": true, \"gridcolor\": \"#EBF0F8\", \"linecolor\": \"#EBF0F8\", \"ticks\": \"\", \"title\": {\"standoff\": 15}, \"zerolinecolor\": \"#EBF0F8\", \"zerolinewidth\": 2}, \"yaxis\": {\"automargin\": true, \"gridcolor\": \"#EBF0F8\", \"linecolor\": \"#EBF0F8\", \"ticks\": \"\", \"title\": {\"standoff\": 15}, \"zerolinecolor\": \"#EBF0F8\", \"zerolinewidth\": 2}}}, \"title\": {\"text\": \"Waiting and Charging Session Counts\"}, \"uniformtext\": {\"minsize\": 8, \"mode\": \"hide\"}, \"width\": 600, \"xaxis\": {\"title\": {\"text\": \"Seed\"}, \"type\": \"category\"}, \"yaxis\": {\"title\": {\"text\": \"Counts\"}}},                        {\"responsive\": true}                    ).then(function(){\n",
       "                            \n",
       "var gd = document.getElementById('2c28b854-e7ad-4215-a450-00648321401c');\n",
       "var x = new MutationObserver(function (mutations, observer) {{\n",
       "        var display = window.getComputedStyle(gd).display;\n",
       "        if (!display || display === 'none') {{\n",
       "            console.log([gd, 'removed!']);\n",
       "            Plotly.purge(gd);\n",
       "            observer.disconnect();\n",
       "        }}\n",
       "}});\n",
       "\n",
       "// Listen for the removal of the full notebook cells\n",
       "var notebookContainer = gd.closest('#notebook-container');\n",
       "if (notebookContainer) {{\n",
       "    x.observe(notebookContainer, {childList: true});\n",
       "}}\n",
       "\n",
       "// Listen for the clearing of the current output cell\n",
       "var outputEl = gd.closest('.output');\n",
       "if (outputEl) {{\n",
       "    x.observe(outputEl, {childList: true});\n",
       "}}\n",
       "\n",
       "                        })                };                });            </script>        </div>"
      ]
     },
     "metadata": {},
     "output_type": "display_data"
    }
   ],
   "source": [
    "fig = go.Figure(\n",
    "    data=[\n",
    "        go.Bar(\n",
    "            name=\"# Charging Sessions\",\n",
    "            x=count_stats['param_value'],\n",
    "            y=count_stats['cs_count'],\n",
    "            offsetgroup=1,\n",
    "            text=count_stats['cs_count'],\n",
    "            textposition='auto',\n",
    "        ),\n",
    "        go.Bar(\n",
    "            name=\"# Waiting Sessions\",\n",
    "            x=count_stats['param_value'],\n",
    "            y=count_stats['wait_count'],\n",
    "            offsetgroup=1,\n",
    "            base=count_stats['cs_count'],\n",
    "            text=count_stats['wait_count'],\n",
    "            textposition='auto',\n",
    "        )\n",
    "    ],\n",
    "    layout=go.Layout(\n",
    "        title=\"Waiting and Charging Session Counts\",\n",
    "        yaxis_title=\"Counts\", \n",
    "        xaxis_title=\"Seed\", width=600, height=400\n",
    "        \n",
    "    )\n",
    ")\n",
    "fig.update_xaxes(type='category')\n",
    "fig.update_layout(margin=dict(l=20, r=20, t=30, b=20), uniformtext_minsize=8, uniformtext_mode='hide', template='plotly_white')\n",
    "fig.show()"
   ]
  },
  {
   "cell_type": "markdown",
   "metadata": {},
   "source": [
    "#### 5.4 EVSE Utilization"
   ]
  },
  {
   "cell_type": "code",
   "execution_count": 46,
   "metadata": {},
   "outputs": [
    {
     "data": {
      "application/vnd.plotly.v1+json": {
       "config": {
        "plotlyServerURL": "https://plot.ly"
       },
       "data": [
        {
         "hovertemplate": "global_seed=0<br>datetime=%{x}<br>total_power=%{y}<extra></extra>",
         "legendgroup": "0",
         "line": {
          "color": "#636efa",
          "dash": "solid"
         },
         "mode": "lines",
         "name": "0",
         "showlegend": true,
         "type": "scattergl",
         "x": [
          "2019-07-01T12:16:36",
          "2019-07-01T12:17:36",
          "2019-07-01T12:18:36",
          "2019-07-01T12:19:36",
          "2019-07-01T12:20:36",
          "2019-07-01T12:21:36",
          "2019-07-01T12:22:36",
          "2019-07-01T12:23:36",
          "2019-07-01T12:24:36",
          "2019-07-01T12:25:36",
          "2019-07-01T12:26:36",
          "2019-07-01T12:27:36",
          "2019-07-01T12:28:36",
          "2019-07-01T12:29:36",
          "2019-07-01T12:30:36",
          "2019-07-01T12:31:36",
          "2019-07-01T12:32:36",
          "2019-07-01T12:33:36",
          "2019-07-01T12:34:36",
          "2019-07-01T12:35:36",
          "2019-07-01T12:36:36",
          "2019-07-01T12:37:36",
          "2019-07-01T12:38:36",
          "2019-07-01T12:39:36",
          "2019-07-01T12:40:36",
          "2019-07-01T12:41:36",
          "2019-07-01T12:42:36",
          "2019-07-01T12:43:36",
          "2019-07-01T12:44:36",
          "2019-07-01T12:45:36",
          "2019-07-01T12:46:36",
          "2019-07-01T12:47:36",
          "2019-07-01T12:48:36",
          "2019-07-01T12:49:36",
          "2019-07-01T12:50:36",
          "2019-07-01T12:51:36",
          "2019-07-01T12:52:36",
          "2019-07-01T12:53:36",
          "2019-07-01T12:54:36",
          "2019-07-01T12:55:36",
          "2019-07-01T12:56:36",
          "2019-07-01T12:57:36",
          "2019-07-01T12:58:36",
          "2019-07-01T12:59:36",
          "2019-07-01T13:00:36",
          "2019-07-01T13:01:36",
          "2019-07-01T13:02:36",
          "2019-07-01T13:03:36",
          "2019-07-01T13:04:36",
          "2019-07-01T13:05:36",
          "2019-07-01T13:06:36",
          "2019-07-01T13:07:36",
          "2019-07-01T13:08:36",
          "2019-07-01T13:09:36",
          "2019-07-01T13:10:36",
          "2019-07-01T13:11:36",
          "2019-07-01T13:12:36",
          "2019-07-01T13:13:36",
          "2019-07-01T13:14:36",
          "2019-07-01T13:15:36",
          "2019-07-01T13:16:36",
          "2019-07-01T13:17:36",
          "2019-07-01T13:18:36",
          "2019-07-01T13:19:36",
          "2019-07-01T13:20:36",
          "2019-07-01T13:21:36",
          "2019-07-01T13:22:36",
          "2019-07-01T13:23:36",
          "2019-07-01T13:24:36",
          "2019-07-01T13:25:36",
          "2019-07-01T13:26:36",
          "2019-07-01T13:27:36",
          "2019-07-01T13:28:36",
          "2019-07-01T13:29:36",
          "2019-07-01T13:30:36",
          "2019-07-01T13:31:36",
          "2019-07-01T13:32:36",
          "2019-07-01T13:33:36",
          "2019-07-01T13:34:36",
          "2019-07-01T13:35:36",
          "2019-07-01T13:36:36",
          "2019-07-01T13:37:36",
          "2019-07-01T13:38:36",
          "2019-07-01T13:39:36",
          "2019-07-01T13:40:36",
          "2019-07-01T13:41:36",
          "2019-07-01T13:42:36",
          "2019-07-01T13:43:36",
          "2019-07-01T13:44:36",
          "2019-07-01T13:45:36",
          "2019-07-01T13:46:36",
          "2019-07-01T13:47:36",
          "2019-07-01T13:48:36",
          "2019-07-01T13:49:36",
          "2019-07-01T13:50:36",
          "2019-07-01T13:51:36",
          "2019-07-01T13:52:36",
          "2019-07-01T13:53:36",
          "2019-07-01T13:54:36",
          "2019-07-01T13:55:36",
          "2019-07-01T13:56:36",
          "2019-07-01T13:57:36",
          "2019-07-01T13:58:36",
          "2019-07-01T13:59:36",
          "2019-07-01T14:00:36",
          "2019-07-01T14:01:36",
          "2019-07-01T14:02:36",
          "2019-07-01T14:03:36",
          "2019-07-01T14:04:36",
          "2019-07-01T14:05:36",
          "2019-07-01T14:06:36",
          "2019-07-01T14:07:36",
          "2019-07-01T14:08:36",
          "2019-07-01T14:09:36",
          "2019-07-01T14:10:36",
          "2019-07-01T14:11:36",
          "2019-07-01T14:12:36",
          "2019-07-01T14:13:36",
          "2019-07-01T14:14:36",
          "2019-07-01T14:15:36",
          "2019-07-01T14:16:36",
          "2019-07-01T14:17:36",
          "2019-07-01T14:18:36",
          "2019-07-01T14:19:36",
          "2019-07-01T14:20:36",
          "2019-07-01T14:21:36",
          "2019-07-01T14:22:36",
          "2019-07-01T14:23:36",
          "2019-07-01T14:24:36",
          "2019-07-01T14:25:36",
          "2019-07-01T14:26:36",
          "2019-07-01T14:27:36",
          "2019-07-01T14:28:36",
          "2019-07-01T14:29:36",
          "2019-07-01T14:30:36",
          "2019-07-01T14:31:36",
          "2019-07-01T14:32:36",
          "2019-07-01T14:33:36",
          "2019-07-01T14:34:36",
          "2019-07-01T14:35:36",
          "2019-07-01T14:36:36",
          "2019-07-01T14:37:36",
          "2019-07-01T14:38:36",
          "2019-07-01T14:39:36",
          "2019-07-01T14:40:36",
          "2019-07-01T14:41:36",
          "2019-07-01T14:42:36",
          "2019-07-01T14:43:36",
          "2019-07-01T14:44:36",
          "2019-07-01T14:45:36",
          "2019-07-01T14:46:36",
          "2019-07-01T14:47:36",
          "2019-07-01T14:48:36",
          "2019-07-01T14:49:36",
          "2019-07-01T14:50:36",
          "2019-07-01T14:51:36",
          "2019-07-01T14:52:36",
          "2019-07-01T14:53:36",
          "2019-07-01T14:54:36",
          "2019-07-01T14:55:36",
          "2019-07-01T14:56:36",
          "2019-07-01T14:57:36",
          "2019-07-01T14:58:36",
          "2019-07-01T14:59:36",
          "2019-07-01T15:00:36",
          "2019-07-01T15:01:36",
          "2019-07-01T15:02:36",
          "2019-07-01T15:03:36",
          "2019-07-01T15:04:36",
          "2019-07-01T15:05:36",
          "2019-07-01T15:06:36",
          "2019-07-01T15:07:36",
          "2019-07-01T15:08:36",
          "2019-07-01T15:09:36",
          "2019-07-01T15:10:36",
          "2019-07-01T15:11:36",
          "2019-07-01T15:12:36",
          "2019-07-01T15:13:36",
          "2019-07-01T15:14:36",
          "2019-07-01T15:15:36",
          "2019-07-01T15:16:36",
          "2019-07-01T15:17:36",
          "2019-07-01T15:18:36",
          "2019-07-01T15:19:36",
          "2019-07-01T15:20:36",
          "2019-07-01T15:21:36",
          "2019-07-01T15:22:36",
          "2019-07-01T15:23:36",
          "2019-07-01T15:24:36",
          "2019-07-01T15:25:36",
          "2019-07-01T15:26:36",
          "2019-07-01T15:27:36",
          "2019-07-01T15:28:36",
          "2019-07-01T15:29:36",
          "2019-07-01T15:30:36",
          "2019-07-01T15:31:36",
          "2019-07-01T15:32:36",
          "2019-07-01T15:33:36",
          "2019-07-01T15:34:36",
          "2019-07-01T15:35:36",
          "2019-07-01T15:36:36",
          "2019-07-01T15:37:36",
          "2019-07-01T15:38:36",
          "2019-07-01T15:39:36",
          "2019-07-01T15:40:36",
          "2019-07-01T15:41:36",
          "2019-07-01T15:42:36",
          "2019-07-01T15:43:36",
          "2019-07-01T15:44:36",
          "2019-07-01T15:45:36",
          "2019-07-01T15:46:36",
          "2019-07-01T15:47:36",
          "2019-07-01T15:48:36",
          "2019-07-01T15:49:36",
          "2019-07-01T15:50:36",
          "2019-07-01T15:51:36",
          "2019-07-01T15:52:36",
          "2019-07-01T15:53:36",
          "2019-07-01T15:54:36",
          "2019-07-01T15:55:36",
          "2019-07-01T15:56:36",
          "2019-07-01T15:57:36",
          "2019-07-01T15:58:36",
          "2019-07-01T15:59:36",
          "2019-07-01T16:00:36",
          "2019-07-01T16:01:36",
          "2019-07-01T16:02:36",
          "2019-07-01T16:03:36",
          "2019-07-01T16:04:36",
          "2019-07-01T16:05:36",
          "2019-07-01T16:06:36",
          "2019-07-01T16:07:36",
          "2019-07-01T16:08:36",
          "2019-07-01T16:09:36",
          "2019-07-01T16:10:36",
          "2019-07-01T16:11:36",
          "2019-07-01T16:12:36",
          "2019-07-01T16:13:36",
          "2019-07-01T16:14:36",
          "2019-07-01T16:15:36",
          "2019-07-01T16:16:36",
          "2019-07-01T16:17:36",
          "2019-07-01T16:18:36",
          "2019-07-01T16:19:36",
          "2019-07-01T16:20:36",
          "2019-07-01T16:21:36",
          "2019-07-01T16:22:36",
          "2019-07-01T16:23:36",
          "2019-07-01T16:24:36",
          "2019-07-01T16:25:36",
          "2019-07-01T16:26:36",
          "2019-07-01T16:27:36",
          "2019-07-01T16:28:36",
          "2019-07-01T16:29:36",
          "2019-07-01T16:30:36",
          "2019-07-01T16:31:36",
          "2019-07-01T16:32:36",
          "2019-07-01T16:33:36",
          "2019-07-01T16:34:36",
          "2019-07-01T16:35:36",
          "2019-07-01T16:36:36",
          "2019-07-01T16:37:36",
          "2019-07-01T16:38:36",
          "2019-07-01T16:39:36",
          "2019-07-01T16:40:36",
          "2019-07-01T16:41:36",
          "2019-07-01T16:42:36",
          "2019-07-01T16:43:36",
          "2019-07-01T16:44:36",
          "2019-07-01T16:45:36",
          "2019-07-01T16:46:36",
          "2019-07-01T16:47:36",
          "2019-07-01T16:48:36",
          "2019-07-01T16:49:36",
          "2019-07-01T16:50:36",
          "2019-07-01T16:51:36",
          "2019-07-01T16:52:36",
          "2019-07-01T16:53:36",
          "2019-07-01T16:54:36",
          "2019-07-01T16:55:36",
          "2019-07-01T16:56:36",
          "2019-07-01T16:57:36",
          "2019-07-01T16:58:36",
          "2019-07-01T16:59:36",
          "2019-07-01T17:00:36",
          "2019-07-01T17:01:36",
          "2019-07-01T17:02:36",
          "2019-07-01T17:03:36",
          "2019-07-01T17:04:36",
          "2019-07-01T17:05:36",
          "2019-07-01T17:06:36",
          "2019-07-01T17:07:36",
          "2019-07-01T17:08:36",
          "2019-07-01T17:09:36",
          "2019-07-01T17:10:36",
          "2019-07-01T17:11:36",
          "2019-07-01T17:12:36",
          "2019-07-01T17:13:36",
          "2019-07-01T17:14:36",
          "2019-07-01T17:15:36",
          "2019-07-01T17:16:36",
          "2019-07-01T17:17:36",
          "2019-07-01T17:18:36",
          "2019-07-01T17:19:36",
          "2019-07-01T17:20:36",
          "2019-07-01T17:21:36",
          "2019-07-01T17:22:36",
          "2019-07-01T17:23:36",
          "2019-07-01T17:24:36",
          "2019-07-01T17:25:36",
          "2019-07-01T17:26:36",
          "2019-07-01T17:27:36",
          "2019-07-01T17:28:36",
          "2019-07-01T17:29:36",
          "2019-07-01T17:30:36",
          "2019-07-01T17:31:36",
          "2019-07-01T17:32:36",
          "2019-07-01T17:33:36",
          "2019-07-01T17:34:36",
          "2019-07-01T17:35:36",
          "2019-07-01T17:36:36",
          "2019-07-01T17:37:36",
          "2019-07-01T17:38:36",
          "2019-07-01T17:39:36",
          "2019-07-01T17:40:36",
          "2019-07-01T17:41:36",
          "2019-07-01T17:42:36",
          "2019-07-01T17:43:36",
          "2019-07-01T17:44:36",
          "2019-07-01T17:45:36",
          "2019-07-01T17:46:36",
          "2019-07-01T17:47:36",
          "2019-07-01T17:48:36",
          "2019-07-01T17:49:36",
          "2019-07-01T17:50:36",
          "2019-07-01T17:51:36",
          "2019-07-01T17:52:36",
          "2019-07-01T17:53:36",
          "2019-07-01T17:54:36",
          "2019-07-01T17:55:36",
          "2019-07-01T17:56:36",
          "2019-07-01T17:57:36",
          "2019-07-01T17:58:36",
          "2019-07-01T17:59:36",
          "2019-07-01T18:00:36",
          "2019-07-01T18:01:36",
          "2019-07-01T18:02:36",
          "2019-07-01T18:03:36",
          "2019-07-01T18:04:36",
          "2019-07-01T18:05:36",
          "2019-07-01T18:06:36",
          "2019-07-01T18:07:36",
          "2019-07-01T18:08:36",
          "2019-07-01T18:09:36",
          "2019-07-01T18:10:36",
          "2019-07-01T18:11:36",
          "2019-07-01T18:12:36",
          "2019-07-01T18:13:36",
          "2019-07-01T18:14:36",
          "2019-07-01T18:15:36",
          "2019-07-01T18:16:36",
          "2019-07-01T18:17:36",
          "2019-07-01T18:18:36",
          "2019-07-01T18:19:36",
          "2019-07-01T18:20:36",
          "2019-07-01T18:21:36",
          "2019-07-01T18:22:36",
          "2019-07-01T18:23:36",
          "2019-07-01T18:24:36",
          "2019-07-01T18:25:36",
          "2019-07-01T18:26:36",
          "2019-07-01T18:27:36",
          "2019-07-01T18:28:36",
          "2019-07-01T18:29:36",
          "2019-07-01T18:30:36",
          "2019-07-01T18:31:36",
          "2019-07-01T18:32:36",
          "2019-07-01T18:33:36",
          "2019-07-01T18:34:36",
          "2019-07-01T18:35:36",
          "2019-07-01T18:36:36",
          "2019-07-01T18:37:36",
          "2019-07-01T18:38:36",
          "2019-07-01T18:39:36",
          "2019-07-01T18:40:36",
          "2019-07-01T18:41:36",
          "2019-07-01T18:42:36",
          "2019-07-01T18:43:36",
          "2019-07-01T18:44:36",
          "2019-07-01T18:45:36",
          "2019-07-01T18:46:36",
          "2019-07-01T18:47:36",
          "2019-07-01T18:48:36",
          "2019-07-01T18:49:36",
          "2019-07-01T18:50:36",
          "2019-07-01T18:51:36",
          "2019-07-01T18:52:36",
          "2019-07-01T18:53:36",
          "2019-07-01T18:54:36",
          "2019-07-01T18:55:36",
          "2019-07-01T18:56:36",
          "2019-07-01T18:57:36",
          "2019-07-01T18:58:36",
          "2019-07-01T18:59:36",
          "2019-07-01T19:00:36",
          "2019-07-01T19:01:36",
          "2019-07-01T19:02:36",
          "2019-07-01T19:03:36",
          "2019-07-01T19:04:36",
          "2019-07-01T19:05:36",
          "2019-07-01T19:06:36",
          "2019-07-01T19:07:36",
          "2019-07-01T19:08:36",
          "2019-07-01T19:09:36",
          "2019-07-01T19:10:36",
          "2019-07-01T19:11:36",
          "2019-07-01T19:12:36",
          "2019-07-01T19:13:36",
          "2019-07-01T19:14:36",
          "2019-07-01T19:15:36",
          "2019-07-01T19:16:36",
          "2019-07-01T19:17:36",
          "2019-07-01T19:18:36",
          "2019-07-01T19:19:36",
          "2019-07-01T19:20:36",
          "2019-07-01T19:21:36",
          "2019-07-01T19:22:36",
          "2019-07-01T19:23:36",
          "2019-07-01T19:24:36",
          "2019-07-01T19:25:36",
          "2019-07-01T19:26:36",
          "2019-07-01T19:27:36",
          "2019-07-01T19:28:36",
          "2019-07-01T19:29:36",
          "2019-07-01T19:30:36",
          "2019-07-01T19:31:36",
          "2019-07-01T19:32:36",
          "2019-07-01T19:33:36",
          "2019-07-01T19:34:36",
          "2019-07-01T19:35:36",
          "2019-07-01T19:36:36",
          "2019-07-01T19:37:36",
          "2019-07-01T19:38:36",
          "2019-07-01T19:39:36",
          "2019-07-01T19:40:36",
          "2019-07-01T19:41:36",
          "2019-07-01T19:42:36",
          "2019-07-01T19:43:36",
          "2019-07-01T19:44:36",
          "2019-07-01T19:45:36",
          "2019-07-01T19:46:36",
          "2019-07-01T19:47:36",
          "2019-07-01T19:48:36",
          "2019-07-01T19:49:36",
          "2019-07-01T19:50:36",
          "2019-07-01T19:51:36",
          "2019-07-01T19:52:36",
          "2019-07-01T19:53:36",
          "2019-07-01T19:54:36",
          "2019-07-01T19:55:36",
          "2019-07-01T19:56:36",
          "2019-07-01T19:57:36",
          "2019-07-01T19:58:36",
          "2019-07-01T19:59:36",
          "2019-07-01T20:00:36",
          "2019-07-01T20:01:36",
          "2019-07-01T20:02:36",
          "2019-07-01T20:03:36",
          "2019-07-01T20:04:36",
          "2019-07-01T20:05:36",
          "2019-07-01T20:06:36",
          "2019-07-01T20:07:36",
          "2019-07-01T20:08:36",
          "2019-07-01T20:09:36",
          "2019-07-01T20:10:36",
          "2019-07-01T20:11:36",
          "2019-07-01T20:12:36",
          "2019-07-01T20:13:36",
          "2019-07-01T20:14:36",
          "2019-07-01T20:15:36",
          "2019-07-01T20:16:36",
          "2019-07-01T20:17:36",
          "2019-07-01T20:18:36",
          "2019-07-01T20:19:36",
          "2019-07-01T20:20:36",
          "2019-07-01T20:21:36",
          "2019-07-01T20:22:36",
          "2019-07-01T20:23:36",
          "2019-07-01T20:24:36",
          "2019-07-01T20:25:36",
          "2019-07-01T20:26:36",
          "2019-07-01T20:27:36",
          "2019-07-01T20:28:36",
          "2019-07-01T20:29:36",
          "2019-07-01T20:30:36",
          "2019-07-01T20:31:36",
          "2019-07-01T20:32:36",
          "2019-07-01T20:33:36",
          "2019-07-01T20:34:36",
          "2019-07-01T20:35:36",
          "2019-07-01T20:36:36",
          "2019-07-01T20:37:36",
          "2019-07-01T20:38:36",
          "2019-07-01T20:39:36",
          "2019-07-01T20:40:36",
          "2019-07-01T20:41:36",
          "2019-07-01T20:42:36",
          "2019-07-01T20:43:36",
          "2019-07-01T20:44:36",
          "2019-07-01T20:45:36",
          "2019-07-01T20:46:36",
          "2019-07-01T20:47:36",
          "2019-07-01T20:48:36",
          "2019-07-01T20:49:36",
          "2019-07-01T20:50:36",
          "2019-07-01T20:51:36",
          "2019-07-01T20:52:36",
          "2019-07-01T20:53:36",
          "2019-07-01T20:54:36",
          "2019-07-01T20:55:36",
          "2019-07-01T20:56:36",
          "2019-07-01T20:57:36",
          "2019-07-01T20:58:36",
          "2019-07-01T20:59:36",
          "2019-07-01T21:00:36",
          "2019-07-01T21:01:36",
          "2019-07-01T21:02:36",
          "2019-07-01T21:03:36",
          "2019-07-01T21:04:36",
          "2019-07-01T21:05:36",
          "2019-07-01T21:06:36",
          "2019-07-01T21:07:36",
          "2019-07-01T21:08:36",
          "2019-07-01T21:09:36",
          "2019-07-01T21:10:36",
          "2019-07-01T21:11:36",
          "2019-07-01T21:12:36",
          "2019-07-01T21:13:36",
          "2019-07-01T21:14:36",
          "2019-07-01T21:15:36",
          "2019-07-01T21:16:36",
          "2019-07-01T21:17:36",
          "2019-07-01T21:18:36",
          "2019-07-01T21:19:36",
          "2019-07-01T21:20:36",
          "2019-07-01T21:21:36",
          "2019-07-01T21:22:36",
          "2019-07-01T21:23:36",
          "2019-07-01T21:24:36",
          "2019-07-01T21:25:36",
          "2019-07-01T21:26:36",
          "2019-07-01T21:27:36",
          "2019-07-01T21:28:36",
          "2019-07-01T21:29:36",
          "2019-07-01T21:30:36",
          "2019-07-01T21:31:36",
          "2019-07-01T21:32:36",
          "2019-07-01T21:33:36",
          "2019-07-01T21:34:36",
          "2019-07-01T21:35:36",
          "2019-07-01T21:36:36",
          "2019-07-01T21:37:36",
          "2019-07-01T21:38:36",
          "2019-07-01T21:39:36",
          "2019-07-01T21:40:36",
          "2019-07-01T21:41:36",
          "2019-07-01T21:42:36",
          "2019-07-01T21:43:36",
          "2019-07-01T21:44:36",
          "2019-07-01T21:45:36",
          "2019-07-01T21:46:36",
          "2019-07-01T21:47:36",
          "2019-07-01T21:48:36",
          "2019-07-01T21:49:36",
          "2019-07-01T21:50:36",
          "2019-07-01T21:51:36",
          "2019-07-01T21:52:36",
          "2019-07-01T21:53:36",
          "2019-07-01T21:54:36",
          "2019-07-01T21:55:36",
          "2019-07-01T21:56:36",
          "2019-07-01T21:57:36",
          "2019-07-01T21:58:36",
          "2019-07-01T21:59:36",
          "2019-07-01T22:00:36",
          "2019-07-01T22:01:36",
          "2019-07-01T22:02:36",
          "2019-07-01T22:03:36",
          "2019-07-01T22:04:36",
          "2019-07-01T22:05:36",
          "2019-07-01T22:06:36",
          "2019-07-01T22:07:36",
          "2019-07-01T22:08:36",
          "2019-07-01T22:09:36",
          "2019-07-01T22:10:36",
          "2019-07-01T22:11:36",
          "2019-07-01T22:12:36",
          "2019-07-01T22:13:36",
          "2019-07-01T22:14:36",
          "2019-07-01T22:15:36",
          "2019-07-01T22:16:36",
          "2019-07-01T22:17:36",
          "2019-07-01T22:18:36",
          "2019-07-01T22:19:36",
          "2019-07-01T22:20:36",
          "2019-07-01T22:21:36",
          "2019-07-01T22:22:36",
          "2019-07-01T22:23:36",
          "2019-07-01T22:24:36",
          "2019-07-01T22:25:36",
          "2019-07-01T22:26:36",
          "2019-07-01T22:27:36",
          "2019-07-01T22:28:36",
          "2019-07-01T22:29:36",
          "2019-07-01T22:30:36",
          "2019-07-01T22:31:36",
          "2019-07-01T22:32:36",
          "2019-07-01T22:33:36",
          "2019-07-01T22:34:36",
          "2019-07-01T22:35:36",
          "2019-07-01T22:36:36",
          "2019-07-01T22:37:36",
          "2019-07-01T22:38:36",
          "2019-07-01T22:39:36",
          "2019-07-01T22:40:36",
          "2019-07-01T22:41:36",
          "2019-07-01T22:42:36",
          "2019-07-01T22:43:36",
          "2019-07-01T22:44:36",
          "2019-07-01T22:45:36",
          "2019-07-01T22:46:36",
          "2019-07-01T22:47:36",
          "2019-07-01T22:48:36",
          "2019-07-01T22:49:36",
          "2019-07-01T22:50:36",
          "2019-07-01T22:51:36",
          "2019-07-01T22:52:36",
          "2019-07-01T22:53:36",
          "2019-07-01T22:54:36",
          "2019-07-01T22:55:36",
          "2019-07-01T22:56:36",
          "2019-07-01T22:57:36",
          "2019-07-01T22:58:36",
          "2019-07-01T22:59:36",
          "2019-07-01T23:00:36",
          "2019-07-01T23:01:36",
          "2019-07-01T23:02:36",
          "2019-07-01T23:03:36",
          "2019-07-01T23:04:36",
          "2019-07-01T23:05:36",
          "2019-07-01T23:06:36",
          "2019-07-01T23:07:36",
          "2019-07-01T23:08:36",
          "2019-07-01T23:09:36",
          "2019-07-01T23:10:36",
          "2019-07-01T23:11:36",
          "2019-07-01T23:12:36",
          "2019-07-01T23:13:36",
          "2019-07-01T23:14:36",
          "2019-07-01T23:15:36",
          "2019-07-01T23:16:36",
          "2019-07-01T23:17:36",
          "2019-07-01T23:18:36",
          "2019-07-01T23:19:36",
          "2019-07-01T23:20:36",
          "2019-07-01T23:21:36",
          "2019-07-01T23:22:36",
          "2019-07-01T23:23:36",
          "2019-07-01T23:24:36",
          "2019-07-01T23:25:36",
          "2019-07-01T23:26:36",
          "2019-07-01T23:27:36",
          "2019-07-01T23:28:36",
          "2019-07-01T23:29:36",
          "2019-07-01T23:30:36",
          "2019-07-01T23:31:36",
          "2019-07-01T23:32:36",
          "2019-07-01T23:33:36",
          "2019-07-01T23:34:36",
          "2019-07-01T23:35:36",
          "2019-07-01T23:36:36",
          "2019-07-01T23:37:36",
          "2019-07-01T23:38:36",
          "2019-07-01T23:39:36",
          "2019-07-01T23:40:36",
          "2019-07-01T23:41:36",
          "2019-07-01T23:42:36",
          "2019-07-01T23:43:36",
          "2019-07-01T23:44:36",
          "2019-07-01T23:45:36",
          "2019-07-01T23:46:36",
          "2019-07-01T23:47:36",
          "2019-07-01T23:48:36",
          "2019-07-01T23:49:36",
          "2019-07-01T23:50:36",
          "2019-07-01T23:51:36",
          "2019-07-01T23:52:36",
          "2019-07-01T23:53:36",
          "2019-07-01T23:54:36",
          "2019-07-01T23:55:36",
          "2019-07-01T23:56:36",
          "2019-07-01T23:57:36",
          "2019-07-01T23:58:36",
          "2019-07-01T23:59:36",
          "2019-07-02T00:00:36",
          "2019-07-02T00:01:36",
          "2019-07-02T00:02:36",
          "2019-07-02T00:03:36",
          "2019-07-02T00:04:36",
          "2019-07-02T00:05:36",
          "2019-07-02T00:06:36",
          "2019-07-02T00:07:36",
          "2019-07-02T00:08:36",
          "2019-07-02T00:09:36",
          "2019-07-02T00:10:36",
          "2019-07-02T00:11:36",
          "2019-07-02T00:12:36",
          "2019-07-02T00:13:36",
          "2019-07-02T00:14:36",
          "2019-07-02T00:15:36",
          "2019-07-02T00:16:36",
          "2019-07-02T00:17:36",
          "2019-07-02T00:18:36",
          "2019-07-02T00:19:36",
          "2019-07-02T00:20:36",
          "2019-07-02T00:21:36",
          "2019-07-02T00:22:36",
          "2019-07-02T00:23:36",
          "2019-07-02T00:24:36",
          "2019-07-02T00:25:36",
          "2019-07-02T00:26:36",
          "2019-07-02T00:27:36",
          "2019-07-02T00:28:36",
          "2019-07-02T00:29:36",
          "2019-07-02T00:30:36",
          "2019-07-02T00:31:36",
          "2019-07-02T00:32:36",
          "2019-07-02T00:33:36",
          "2019-07-02T00:34:36",
          "2019-07-02T00:35:36",
          "2019-07-02T00:36:36",
          "2019-07-02T00:37:36",
          "2019-07-02T00:38:36",
          "2019-07-02T00:39:36",
          "2019-07-02T00:40:36",
          "2019-07-02T00:41:36",
          "2019-07-02T00:42:36",
          "2019-07-02T00:43:36",
          "2019-07-02T00:44:36",
          "2019-07-02T00:45:36",
          "2019-07-02T00:46:36",
          "2019-07-02T00:47:36",
          "2019-07-02T00:48:36",
          "2019-07-02T00:49:36",
          "2019-07-02T00:50:36",
          "2019-07-02T00:51:36",
          "2019-07-02T00:52:36",
          "2019-07-02T00:53:36",
          "2019-07-02T00:54:36",
          "2019-07-02T00:55:36",
          "2019-07-02T00:56:36",
          "2019-07-02T00:57:36",
          "2019-07-02T00:58:36",
          "2019-07-02T00:59:36",
          "2019-07-02T01:00:36",
          "2019-07-02T01:01:36",
          "2019-07-02T01:02:36",
          "2019-07-02T01:03:36",
          "2019-07-02T01:04:36",
          "2019-07-02T01:05:36",
          "2019-07-02T01:06:36",
          "2019-07-02T01:07:36",
          "2019-07-02T01:08:36",
          "2019-07-02T01:09:36",
          "2019-07-02T01:10:36",
          "2019-07-02T01:11:36",
          "2019-07-02T01:12:36",
          "2019-07-02T01:13:36",
          "2019-07-02T01:14:36",
          "2019-07-02T01:15:36",
          "2019-07-02T01:16:36",
          "2019-07-02T01:17:36",
          "2019-07-02T01:18:36",
          "2019-07-02T01:19:36",
          "2019-07-02T01:20:36",
          "2019-07-02T01:21:36",
          "2019-07-02T01:22:36",
          "2019-07-02T01:23:36",
          "2019-07-02T01:24:36",
          "2019-07-02T01:25:36",
          "2019-07-02T01:26:36",
          "2019-07-02T01:27:36",
          "2019-07-02T01:28:36",
          "2019-07-02T01:29:36",
          "2019-07-02T01:30:36",
          "2019-07-02T01:31:36",
          "2019-07-02T01:32:36",
          "2019-07-02T01:33:36",
          "2019-07-02T01:34:36",
          "2019-07-02T01:35:36",
          "2019-07-02T01:36:36",
          "2019-07-02T01:37:36",
          "2019-07-02T01:38:36",
          "2019-07-02T01:39:36",
          "2019-07-02T01:40:36",
          "2019-07-02T01:41:36",
          "2019-07-02T01:42:36",
          "2019-07-02T01:43:36",
          "2019-07-02T01:44:36",
          "2019-07-02T01:45:36",
          "2019-07-02T01:46:36",
          "2019-07-02T01:47:36",
          "2019-07-02T01:48:36",
          "2019-07-02T01:49:36",
          "2019-07-02T01:50:36",
          "2019-07-02T01:51:36",
          "2019-07-02T01:52:36",
          "2019-07-02T01:53:36",
          "2019-07-02T01:54:36",
          "2019-07-02T01:55:36",
          "2019-07-02T01:56:36",
          "2019-07-02T01:57:36",
          "2019-07-02T01:58:36",
          "2019-07-02T01:59:36",
          "2019-07-02T02:00:36",
          "2019-07-02T02:01:36",
          "2019-07-02T02:02:36",
          "2019-07-02T02:03:36",
          "2019-07-02T02:04:36",
          "2019-07-02T02:05:36",
          "2019-07-02T02:06:36",
          "2019-07-02T02:07:36",
          "2019-07-02T02:08:36",
          "2019-07-02T02:09:36",
          "2019-07-02T02:10:36",
          "2019-07-02T02:11:36",
          "2019-07-02T02:12:36",
          "2019-07-02T02:13:36",
          "2019-07-02T02:14:36",
          "2019-07-02T02:15:36",
          "2019-07-02T02:16:36",
          "2019-07-02T02:17:36",
          "2019-07-02T02:18:36",
          "2019-07-02T02:19:36",
          "2019-07-02T02:20:36",
          "2019-07-02T02:21:36",
          "2019-07-02T02:22:36",
          "2019-07-02T02:23:36",
          "2019-07-02T02:24:36",
          "2019-07-02T02:25:36",
          "2019-07-02T02:26:36",
          "2019-07-02T02:27:36",
          "2019-07-02T02:28:36",
          "2019-07-02T02:29:36",
          "2019-07-02T02:30:36",
          "2019-07-02T02:31:36",
          "2019-07-02T02:32:36",
          "2019-07-02T02:33:36",
          "2019-07-02T02:34:36",
          "2019-07-02T02:35:36",
          "2019-07-02T02:36:36",
          "2019-07-02T02:37:36",
          "2019-07-02T02:38:36",
          "2019-07-02T02:39:36",
          "2019-07-02T02:40:36",
          "2019-07-02T02:41:36",
          "2019-07-02T02:42:36",
          "2019-07-02T02:43:36",
          "2019-07-02T02:44:36",
          "2019-07-02T02:45:36",
          "2019-07-02T02:46:36",
          "2019-07-02T02:47:36",
          "2019-07-02T02:48:36",
          "2019-07-02T02:49:36",
          "2019-07-02T02:50:36",
          "2019-07-02T02:51:36",
          "2019-07-02T02:52:36",
          "2019-07-02T02:53:36",
          "2019-07-02T02:54:36",
          "2019-07-02T02:55:36",
          "2019-07-02T02:56:36",
          "2019-07-02T02:57:36",
          "2019-07-02T02:58:36",
          "2019-07-02T02:59:36",
          "2019-07-02T03:00:36",
          "2019-07-02T03:01:36",
          "2019-07-02T03:02:36",
          "2019-07-02T03:03:36",
          "2019-07-02T03:04:36",
          "2019-07-02T03:05:36",
          "2019-07-02T03:06:36",
          "2019-07-02T03:07:36",
          "2019-07-02T03:08:36",
          "2019-07-02T03:09:36",
          "2019-07-02T03:10:36",
          "2019-07-02T03:11:36",
          "2019-07-02T03:12:36",
          "2019-07-02T03:13:36",
          "2019-07-02T03:14:36",
          "2019-07-02T03:15:36",
          "2019-07-02T03:16:36",
          "2019-07-02T03:17:36",
          "2019-07-02T03:18:36",
          "2019-07-02T03:19:36",
          "2019-07-02T03:20:36",
          "2019-07-02T03:21:36",
          "2019-07-02T03:22:36",
          "2019-07-02T03:23:36",
          "2019-07-02T03:24:36",
          "2019-07-02T03:25:36",
          "2019-07-02T03:26:36",
          "2019-07-02T03:27:36",
          "2019-07-02T03:28:36",
          "2019-07-02T03:29:36",
          "2019-07-02T03:30:36",
          "2019-07-02T03:31:36",
          "2019-07-02T03:32:36",
          "2019-07-02T03:33:36",
          "2019-07-02T03:34:36",
          "2019-07-02T03:35:36",
          "2019-07-02T03:36:36",
          "2019-07-02T03:37:36",
          "2019-07-02T03:38:36",
          "2019-07-02T03:39:36",
          "2019-07-02T03:40:36",
          "2019-07-02T03:41:36",
          "2019-07-02T03:42:36",
          "2019-07-02T03:43:36",
          "2019-07-02T03:44:36",
          "2019-07-02T03:45:36",
          "2019-07-02T03:46:36",
          "2019-07-02T03:47:36",
          "2019-07-02T03:48:36",
          "2019-07-02T03:49:36",
          "2019-07-02T03:50:36",
          "2019-07-02T03:51:36",
          "2019-07-02T03:52:36",
          "2019-07-02T03:53:36",
          "2019-07-02T03:54:36",
          "2019-07-02T03:55:36",
          "2019-07-02T03:56:36",
          "2019-07-02T03:57:36",
          "2019-07-02T03:58:36",
          "2019-07-02T03:59:36",
          "2019-07-02T04:00:36",
          "2019-07-02T04:01:36",
          "2019-07-02T04:02:36",
          "2019-07-02T04:03:36",
          "2019-07-02T04:04:36",
          "2019-07-02T04:05:36",
          "2019-07-02T04:06:36",
          "2019-07-02T04:07:36",
          "2019-07-02T04:08:36",
          "2019-07-02T04:09:36",
          "2019-07-02T04:10:36",
          "2019-07-02T04:11:36",
          "2019-07-02T04:12:36",
          "2019-07-02T04:13:36",
          "2019-07-02T04:14:36",
          "2019-07-02T04:15:36",
          "2019-07-02T04:16:36",
          "2019-07-02T04:17:36",
          "2019-07-02T04:18:36",
          "2019-07-02T04:19:36",
          "2019-07-02T04:20:36",
          "2019-07-02T04:21:36",
          "2019-07-02T04:22:36",
          "2019-07-02T04:23:36",
          "2019-07-02T04:24:36",
          "2019-07-02T04:25:36",
          "2019-07-02T04:26:36",
          "2019-07-02T04:27:36",
          "2019-07-02T04:28:36",
          "2019-07-02T04:29:36",
          "2019-07-02T04:30:36",
          "2019-07-02T04:31:36",
          "2019-07-02T04:32:36",
          "2019-07-02T04:33:36",
          "2019-07-02T04:34:36",
          "2019-07-02T04:35:36",
          "2019-07-02T04:36:36",
          "2019-07-02T04:37:36",
          "2019-07-02T04:38:36",
          "2019-07-02T04:39:36",
          "2019-07-02T04:40:36",
          "2019-07-02T04:41:36",
          "2019-07-02T04:42:36",
          "2019-07-02T04:43:36",
          "2019-07-02T04:44:36",
          "2019-07-02T04:45:36",
          "2019-07-02T04:46:36",
          "2019-07-02T04:47:36",
          "2019-07-02T04:48:36",
          "2019-07-02T04:49:36",
          "2019-07-02T04:50:36",
          "2019-07-02T04:51:36",
          "2019-07-02T04:52:36",
          "2019-07-02T04:53:36",
          "2019-07-02T04:54:36",
          "2019-07-02T04:55:36",
          "2019-07-02T04:56:36",
          "2019-07-02T04:57:36",
          "2019-07-02T04:58:36",
          "2019-07-02T04:59:36",
          "2019-07-02T05:00:36",
          "2019-07-02T05:01:36",
          "2019-07-02T05:02:36",
          "2019-07-02T05:03:36",
          "2019-07-02T05:04:36",
          "2019-07-02T05:05:36",
          "2019-07-02T05:06:36",
          "2019-07-02T05:07:36",
          "2019-07-02T05:08:36",
          "2019-07-02T05:09:36",
          "2019-07-02T05:10:36",
          "2019-07-02T05:11:36",
          "2019-07-02T05:12:36",
          "2019-07-02T05:13:36",
          "2019-07-02T05:14:36",
          "2019-07-02T05:15:36",
          "2019-07-02T05:16:36",
          "2019-07-02T05:17:36",
          "2019-07-02T05:18:36",
          "2019-07-02T05:19:36",
          "2019-07-02T05:20:36",
          "2019-07-02T05:21:36",
          "2019-07-02T05:22:36",
          "2019-07-02T05:23:36",
          "2019-07-02T05:24:36",
          "2019-07-02T05:25:36",
          "2019-07-02T05:26:36",
          "2019-07-02T05:27:36",
          "2019-07-02T05:28:36",
          "2019-07-02T05:29:36",
          "2019-07-02T05:30:36",
          "2019-07-02T05:31:36",
          "2019-07-02T05:32:36",
          "2019-07-02T05:33:36",
          "2019-07-02T05:34:36",
          "2019-07-02T05:35:36",
          "2019-07-02T05:36:36",
          "2019-07-02T05:37:36",
          "2019-07-02T05:38:36",
          "2019-07-02T05:39:36",
          "2019-07-02T05:40:36",
          "2019-07-02T05:41:36",
          "2019-07-02T05:42:36",
          "2019-07-02T05:43:36",
          "2019-07-02T05:44:36",
          "2019-07-02T05:45:36",
          "2019-07-02T05:46:36",
          "2019-07-02T05:47:36",
          "2019-07-02T05:48:36",
          "2019-07-02T05:49:36",
          "2019-07-02T05:50:36",
          "2019-07-02T05:51:36",
          "2019-07-02T05:52:36",
          "2019-07-02T05:53:36",
          "2019-07-02T05:54:36",
          "2019-07-02T05:55:36",
          "2019-07-02T05:56:36",
          "2019-07-02T05:57:36",
          "2019-07-02T05:58:36",
          "2019-07-02T05:59:36",
          "2019-07-02T06:00:36",
          "2019-07-02T06:01:36",
          "2019-07-02T06:02:36",
          "2019-07-02T06:03:36",
          "2019-07-02T06:04:36",
          "2019-07-02T06:05:36",
          "2019-07-02T06:06:36",
          "2019-07-02T06:07:36",
          "2019-07-02T06:08:36",
          "2019-07-02T06:09:36",
          "2019-07-02T06:10:36",
          "2019-07-02T06:11:36",
          "2019-07-02T06:12:36",
          "2019-07-02T06:13:36",
          "2019-07-02T06:14:36",
          "2019-07-02T06:15:36",
          "2019-07-02T06:16:36",
          "2019-07-02T06:17:36",
          "2019-07-02T06:18:36",
          "2019-07-02T06:19:36",
          "2019-07-02T06:20:36",
          "2019-07-02T06:21:36",
          "2019-07-02T06:22:36",
          "2019-07-02T06:23:36",
          "2019-07-02T06:24:36",
          "2019-07-02T06:25:36",
          "2019-07-02T06:26:36",
          "2019-07-02T06:27:36",
          "2019-07-02T06:28:36",
          "2019-07-02T06:29:36",
          "2019-07-02T06:30:36",
          "2019-07-02T06:31:36",
          "2019-07-02T06:32:36",
          "2019-07-02T06:33:36",
          "2019-07-02T06:34:36",
          "2019-07-02T06:35:36",
          "2019-07-02T06:36:36",
          "2019-07-02T06:37:36",
          "2019-07-02T06:38:36",
          "2019-07-02T06:39:36",
          "2019-07-02T06:40:36",
          "2019-07-02T06:41:36",
          "2019-07-02T06:42:36",
          "2019-07-02T06:43:36",
          "2019-07-02T06:44:36",
          "2019-07-02T06:45:36",
          "2019-07-02T06:46:36",
          "2019-07-02T06:47:36",
          "2019-07-02T06:48:36",
          "2019-07-02T06:49:36",
          "2019-07-02T06:50:36",
          "2019-07-02T06:51:36",
          "2019-07-02T06:52:36",
          "2019-07-02T06:53:36",
          "2019-07-02T06:54:36",
          "2019-07-02T06:55:36",
          "2019-07-02T06:56:36",
          "2019-07-02T06:57:36",
          "2019-07-02T06:58:36",
          "2019-07-02T06:59:36",
          "2019-07-02T07:00:36",
          "2019-07-02T07:01:36",
          "2019-07-02T07:02:36",
          "2019-07-02T07:03:36",
          "2019-07-02T07:04:36",
          "2019-07-02T07:05:36",
          "2019-07-02T07:06:36",
          "2019-07-02T07:07:36",
          "2019-07-02T07:08:36",
          "2019-07-02T07:09:36",
          "2019-07-02T07:10:36",
          "2019-07-02T07:11:36",
          "2019-07-02T07:12:36",
          "2019-07-02T07:13:36",
          "2019-07-02T07:14:36",
          "2019-07-02T07:15:36",
          "2019-07-02T07:16:36",
          "2019-07-02T07:17:36",
          "2019-07-02T07:18:36",
          "2019-07-02T07:19:36",
          "2019-07-02T07:20:36",
          "2019-07-02T07:21:36",
          "2019-07-02T07:22:36",
          "2019-07-02T07:23:36",
          "2019-07-02T07:24:36",
          "2019-07-02T07:25:36",
          "2019-07-02T07:26:36",
          "2019-07-02T07:27:36",
          "2019-07-02T07:28:36",
          "2019-07-02T07:29:36",
          "2019-07-02T07:30:36",
          "2019-07-02T07:31:36",
          "2019-07-02T07:32:36",
          "2019-07-02T07:33:36",
          "2019-07-02T07:34:36",
          "2019-07-02T07:35:36",
          "2019-07-02T07:36:36",
          "2019-07-02T07:37:36",
          "2019-07-02T07:38:36",
          "2019-07-02T07:39:36",
          "2019-07-02T07:40:36",
          "2019-07-02T07:41:36",
          "2019-07-02T07:42:36",
          "2019-07-02T07:43:36",
          "2019-07-02T07:44:36",
          "2019-07-02T07:45:36",
          "2019-07-02T07:46:36",
          "2019-07-02T07:47:36",
          "2019-07-02T07:48:36",
          "2019-07-02T07:49:36",
          "2019-07-02T07:50:36",
          "2019-07-02T07:51:36",
          "2019-07-02T07:52:36",
          "2019-07-02T07:53:36",
          "2019-07-02T07:54:36",
          "2019-07-02T07:55:36",
          "2019-07-02T07:56:36",
          "2019-07-02T07:57:36",
          "2019-07-02T07:58:36",
          "2019-07-02T07:59:36",
          "2019-07-02T08:00:36",
          "2019-07-02T08:01:36",
          "2019-07-02T08:02:36",
          "2019-07-02T08:03:36",
          "2019-07-02T08:04:36",
          "2019-07-02T08:05:36",
          "2019-07-02T08:06:36",
          "2019-07-02T08:07:36",
          "2019-07-02T08:08:36",
          "2019-07-02T08:09:36",
          "2019-07-02T08:10:36",
          "2019-07-02T08:11:36",
          "2019-07-02T08:12:36",
          "2019-07-02T08:13:36",
          "2019-07-02T08:14:36",
          "2019-07-02T08:15:36",
          "2019-07-02T08:16:36",
          "2019-07-02T08:17:36",
          "2019-07-02T08:18:36",
          "2019-07-02T08:19:36",
          "2019-07-02T08:20:36",
          "2019-07-02T08:21:36",
          "2019-07-02T08:22:36",
          "2019-07-02T08:23:36",
          "2019-07-02T08:24:36",
          "2019-07-02T08:25:36",
          "2019-07-02T08:26:36",
          "2019-07-02T08:27:36",
          "2019-07-02T08:28:36",
          "2019-07-02T08:29:36",
          "2019-07-02T08:30:36",
          "2019-07-02T08:31:36",
          "2019-07-02T08:32:36",
          "2019-07-02T08:33:36",
          "2019-07-02T08:34:36",
          "2019-07-02T08:35:36",
          "2019-07-02T08:36:36",
          "2019-07-02T08:37:36",
          "2019-07-02T08:38:36",
          "2019-07-02T08:39:36",
          "2019-07-02T08:40:36",
          "2019-07-02T08:41:36",
          "2019-07-02T08:42:36",
          "2019-07-02T08:43:36",
          "2019-07-02T08:44:36",
          "2019-07-02T08:45:36",
          "2019-07-02T08:46:36",
          "2019-07-02T08:47:36",
          "2019-07-02T08:48:36",
          "2019-07-02T08:49:36",
          "2019-07-02T08:50:36",
          "2019-07-02T08:51:36",
          "2019-07-02T08:52:36",
          "2019-07-02T08:53:36",
          "2019-07-02T08:54:36",
          "2019-07-02T08:55:36",
          "2019-07-02T08:56:36",
          "2019-07-02T08:57:36",
          "2019-07-02T08:58:36",
          "2019-07-02T08:59:36",
          "2019-07-02T09:00:36",
          "2019-07-02T09:01:36",
          "2019-07-02T09:02:36",
          "2019-07-02T09:03:36",
          "2019-07-02T09:04:36",
          "2019-07-02T09:05:36",
          "2019-07-02T09:06:36",
          "2019-07-02T09:07:36",
          "2019-07-02T09:08:36",
          "2019-07-02T09:09:36",
          "2019-07-02T09:10:36",
          "2019-07-02T09:11:36",
          "2019-07-02T09:12:36",
          "2019-07-02T09:13:36",
          "2019-07-02T09:14:36",
          "2019-07-02T09:15:36",
          "2019-07-02T09:16:36",
          "2019-07-02T09:17:36",
          "2019-07-02T09:18:36",
          "2019-07-02T09:19:36",
          "2019-07-02T09:20:36",
          "2019-07-02T09:21:36",
          "2019-07-02T09:22:36",
          "2019-07-02T09:23:36",
          "2019-07-02T09:24:36",
          "2019-07-02T09:25:36",
          "2019-07-02T09:26:36",
          "2019-07-02T09:27:36",
          "2019-07-02T09:28:36",
          "2019-07-02T09:29:36",
          "2019-07-02T09:30:36",
          "2019-07-02T09:31:36",
          "2019-07-02T09:32:36",
          "2019-07-02T09:33:36",
          "2019-07-02T09:34:36",
          "2019-07-02T09:35:36",
          "2019-07-02T09:36:36",
          "2019-07-02T09:37:36",
          "2019-07-02T09:38:36",
          "2019-07-02T09:39:36",
          "2019-07-02T09:40:36",
          "2019-07-02T09:41:36",
          "2019-07-02T09:42:36",
          "2019-07-02T09:43:36",
          "2019-07-02T09:44:36",
          "2019-07-02T09:45:36",
          "2019-07-02T09:46:36",
          "2019-07-02T09:47:36",
          "2019-07-02T09:48:36",
          "2019-07-02T09:49:36",
          "2019-07-02T09:50:36",
          "2019-07-02T09:51:36",
          "2019-07-02T09:52:36",
          "2019-07-02T09:53:36",
          "2019-07-02T09:54:36",
          "2019-07-02T09:55:36",
          "2019-07-02T09:56:36",
          "2019-07-02T09:57:36",
          "2019-07-02T09:58:36",
          "2019-07-02T09:59:36",
          "2019-07-02T10:00:36",
          "2019-07-02T10:01:36",
          "2019-07-02T10:02:36",
          "2019-07-02T10:03:36",
          "2019-07-02T10:04:36",
          "2019-07-02T10:05:36",
          "2019-07-02T10:06:36",
          "2019-07-02T10:07:36",
          "2019-07-02T10:08:36",
          "2019-07-02T10:09:36",
          "2019-07-02T10:10:36",
          "2019-07-02T10:11:36",
          "2019-07-02T10:12:36",
          "2019-07-02T10:13:36",
          "2019-07-02T10:14:36",
          "2019-07-02T10:15:36",
          "2019-07-02T10:16:36",
          "2019-07-02T10:17:36",
          "2019-07-02T10:18:36",
          "2019-07-02T10:19:36",
          "2019-07-02T10:20:36",
          "2019-07-02T10:21:36",
          "2019-07-02T10:22:36",
          "2019-07-02T10:23:36",
          "2019-07-02T10:24:36",
          "2019-07-02T10:25:36",
          "2019-07-02T10:26:36",
          "2019-07-02T10:27:36",
          "2019-07-02T10:28:36",
          "2019-07-02T10:29:36",
          "2019-07-02T10:30:36",
          "2019-07-02T10:31:36",
          "2019-07-02T10:32:36",
          "2019-07-02T10:33:36",
          "2019-07-02T10:34:36",
          "2019-07-02T10:35:36",
          "2019-07-02T10:36:36",
          "2019-07-02T10:37:36",
          "2019-07-02T10:38:36",
          "2019-07-02T10:39:36",
          "2019-07-02T10:40:36",
          "2019-07-02T10:41:36",
          "2019-07-02T10:42:36",
          "2019-07-02T10:43:36",
          "2019-07-02T10:44:36",
          "2019-07-02T10:45:36",
          "2019-07-02T10:46:36",
          "2019-07-02T10:47:36",
          "2019-07-02T10:48:36",
          "2019-07-02T10:49:36",
          "2019-07-02T10:50:36",
          "2019-07-02T10:51:36",
          "2019-07-02T10:52:36",
          "2019-07-02T10:53:36",
          "2019-07-02T10:54:36",
          "2019-07-02T10:55:36",
          "2019-07-02T10:56:36",
          "2019-07-02T10:57:36",
          "2019-07-02T10:58:36",
          "2019-07-02T10:59:36",
          "2019-07-02T11:00:36",
          "2019-07-02T11:01:36",
          "2019-07-02T11:02:36",
          "2019-07-02T11:03:36",
          "2019-07-02T11:04:36",
          "2019-07-02T11:05:36",
          "2019-07-02T11:06:36",
          "2019-07-02T11:07:36",
          "2019-07-02T11:08:36",
          "2019-07-02T11:09:36"
         ],
         "xaxis": "x",
         "y": [
          0,
          0,
          0,
          0,
          0,
          0,
          0,
          0,
          0,
          0,
          0,
          0,
          0,
          0,
          0,
          0,
          0,
          0,
          0,
          0,
          0,
          0,
          0,
          0,
          0,
          0,
          0,
          0,
          0,
          0,
          0,
          0,
          0,
          0,
          0,
          0,
          0,
          0,
          0,
          0,
          0,
          0,
          0,
          0,
          0,
          0,
          0,
          0,
          0,
          0,
          0,
          0,
          0,
          0,
          0,
          0,
          0,
          0,
          0,
          0,
          0,
          0,
          0,
          0,
          0,
          0,
          0,
          0,
          0,
          0,
          0,
          0,
          0,
          0,
          0,
          0,
          0,
          0,
          0,
          0,
          0,
          50,
          50,
          50,
          50,
          0,
          0,
          0,
          0,
          50,
          50,
          50,
          50,
          50,
          50,
          50,
          50,
          50,
          50,
          50,
          50,
          50,
          50,
          50,
          50,
          50,
          50,
          50,
          50,
          50,
          50,
          50,
          100,
          50,
          50,
          50,
          50,
          50,
          50,
          50,
          50,
          50,
          50,
          50,
          50,
          100,
          100,
          100,
          50,
          50,
          100,
          100,
          100,
          100,
          100,
          100,
          150,
          150,
          150,
          150,
          100,
          100,
          100,
          100,
          100,
          100,
          100,
          100,
          100,
          50,
          50,
          50,
          50,
          50,
          50,
          0,
          0,
          0,
          0,
          0,
          0,
          0,
          50,
          50,
          50,
          50,
          50,
          50,
          50,
          50,
          50,
          50,
          50,
          150,
          150,
          150,
          150,
          150,
          150,
          150,
          150,
          150,
          150,
          150,
          150,
          150,
          150,
          150,
          150,
          200,
          250,
          200,
          200,
          250,
          300,
          300,
          300,
          300,
          300,
          250,
          200,
          250,
          250,
          250,
          350,
          400,
          400,
          350,
          350,
          350,
          400,
          450,
          450,
          400,
          400,
          450,
          400,
          400,
          400,
          350,
          300,
          350,
          350,
          350,
          300,
          350,
          400,
          400,
          450,
          400,
          400,
          400,
          400,
          450,
          450,
          450,
          450,
          400,
          450,
          400,
          400,
          400,
          400,
          400,
          550,
          550,
          550,
          550,
          550,
          550,
          600,
          600,
          500,
          550,
          600,
          600,
          550,
          550,
          550,
          550,
          550,
          650,
          700,
          700,
          700,
          750,
          650,
          750,
          800,
          950,
          900,
          950,
          950,
          800,
          900,
          1150,
          1150,
          1150,
          1150,
          1100,
          1200,
          1250,
          1100,
          1000,
          1150,
          1250,
          1250,
          1200,
          1200,
          1300,
          1200,
          1250,
          1350,
          1400,
          1400,
          1250,
          1150,
          1100,
          1050,
          1100,
          1200,
          1250,
          1300,
          1350,
          1350,
          1350,
          1350,
          1300,
          1150,
          1200,
          1050,
          1000,
          1000,
          1200,
          1200,
          1300,
          1300,
          1100,
          1000,
          1000,
          1200,
          1100,
          1200,
          1200,
          1200,
          1200,
          1200,
          1150,
          1150,
          1200,
          1100,
          1100,
          1150,
          1150,
          1250,
          1300,
          1300,
          1450,
          1350,
          1450,
          1400,
          1450,
          1500,
          1450,
          1500,
          1450,
          1450,
          1500,
          1550,
          1400,
          1400,
          1600,
          1700,
          1800,
          1800,
          1800,
          1700,
          1650,
          1850,
          1800,
          1850,
          2100,
          2450,
          2400,
          2400,
          2350,
          2400,
          2300,
          2450,
          2550,
          2650,
          2650,
          3050,
          3000,
          2850,
          2800,
          2850,
          3000,
          2900,
          3050,
          2700,
          2950,
          2800,
          2800,
          2750,
          2850,
          2950,
          3450,
          3350,
          3200,
          2900,
          3050,
          3100,
          3150,
          3350,
          3100,
          3000,
          3100,
          2950,
          2950,
          2950,
          2650,
          2800,
          2950,
          3050,
          3100,
          3100,
          3200,
          3050,
          3100,
          3250,
          3250,
          3500,
          3400,
          3350,
          3350,
          3450,
          3450,
          3650,
          3550,
          3350,
          3250,
          3150,
          3150,
          3350,
          3000,
          2950,
          3000,
          2850,
          2850,
          2950,
          2800,
          2950,
          2950,
          2700,
          2500,
          2450,
          2400,
          2350,
          2300,
          2400,
          2550,
          2400,
          2200,
          2300,
          2350,
          2250,
          2250,
          2200,
          2250,
          2100,
          2000,
          1900,
          1950,
          2100,
          1950,
          2000,
          2150,
          2100,
          1900,
          1800,
          1800,
          1950,
          2050,
          2000,
          2000,
          2050,
          1950,
          1950,
          1950,
          1850,
          1850,
          2000,
          1900,
          1850,
          1850,
          1750,
          1600,
          1700,
          1700,
          1700,
          1550,
          1700,
          1550,
          1450,
          1550,
          1300,
          1350,
          1250,
          1400,
          1450,
          1400,
          1300,
          1300,
          1350,
          1300,
          1300,
          1150,
          1150,
          1150,
          1200,
          1250,
          1300,
          1200,
          1200,
          1100,
          1050,
          950,
          850,
          950,
          950,
          850,
          800,
          850,
          850,
          800,
          700,
          800,
          850,
          850,
          750,
          750,
          650,
          800,
          900,
          800,
          800,
          900,
          850,
          750,
          800,
          800,
          800,
          850,
          800,
          800,
          850,
          750,
          600,
          550,
          650,
          700,
          700,
          700,
          650,
          500,
          500,
          450,
          400,
          400,
          350,
          450,
          450,
          400,
          400,
          450,
          350,
          400,
          450,
          400,
          400,
          350,
          350,
          400,
          350,
          400,
          450,
          400,
          350,
          450,
          500,
          500,
          500,
          500,
          450,
          500,
          450,
          400,
          450,
          550,
          500,
          500,
          500,
          450,
          500,
          500,
          450,
          450,
          450,
          450,
          400,
          400,
          300,
          400,
          450,
          450,
          400,
          400,
          400,
          450,
          450,
          450,
          400,
          400,
          450,
          500,
          500,
          500,
          500,
          500,
          500,
          400,
          350,
          400,
          400,
          300,
          350,
          450,
          400,
          350,
          450,
          450,
          450,
          400,
          450,
          500,
          450,
          450,
          450,
          450,
          450,
          450,
          500,
          450,
          450,
          450,
          400,
          450,
          350,
          350,
          350,
          300,
          300,
          250,
          250,
          250,
          200,
          200,
          250,
          250,
          200,
          200,
          200,
          250,
          250,
          250,
          250,
          200,
          200,
          200,
          200,
          200,
          200,
          200,
          150,
          150,
          200,
          200,
          200,
          200,
          200,
          200,
          200,
          200,
          200,
          150,
          150,
          150,
          150,
          150,
          100,
          150,
          150,
          150,
          150,
          100,
          100,
          150,
          150,
          150,
          150,
          150,
          150,
          150,
          150,
          100,
          100,
          50,
          100,
          100,
          150,
          150,
          150,
          150,
          150,
          150,
          100,
          100,
          150,
          150,
          150,
          150,
          100,
          150,
          150,
          150,
          150,
          150,
          100,
          100,
          100,
          100,
          100,
          100,
          50,
          100,
          100,
          50,
          100,
          100,
          100,
          100,
          100,
          100,
          100,
          100,
          100,
          100,
          100,
          100,
          100,
          100,
          100,
          100,
          100,
          50,
          100,
          100,
          50,
          100,
          100,
          100,
          100,
          100,
          100,
          100,
          100,
          100,
          100,
          100,
          100,
          100,
          100,
          100,
          100,
          50,
          100,
          100,
          100,
          50,
          100,
          100,
          100,
          100,
          100,
          100,
          100,
          100,
          100,
          100,
          100,
          100,
          100,
          50,
          100,
          100,
          100,
          50,
          100,
          100,
          100,
          100,
          100,
          100,
          100,
          100,
          100,
          100,
          50,
          100,
          100,
          100,
          100,
          100,
          100,
          100,
          100,
          100,
          50,
          100,
          100,
          100,
          100,
          50,
          100,
          100,
          100,
          100,
          100,
          100,
          100,
          100,
          100,
          100,
          100,
          100,
          100,
          100,
          50,
          100,
          100,
          50,
          100,
          100,
          100,
          100,
          150,
          150,
          150,
          150,
          150,
          150,
          150,
          150,
          150,
          150,
          150,
          150,
          150,
          50,
          150,
          100,
          100,
          100,
          100,
          100,
          100,
          100,
          100,
          100,
          100,
          100,
          100,
          100,
          100,
          100,
          100,
          100,
          50,
          50,
          100,
          100,
          100,
          100,
          100,
          100,
          100,
          100,
          100,
          100,
          100,
          100,
          100,
          50,
          100,
          100,
          50,
          100,
          100,
          100,
          100,
          100,
          100,
          100,
          100,
          100,
          100,
          50,
          100,
          100,
          100,
          100,
          100,
          100,
          100,
          100,
          100,
          100,
          100,
          50,
          100,
          50,
          50,
          100,
          100,
          100,
          100,
          100,
          100,
          100,
          100,
          100,
          100,
          100,
          100,
          100,
          100,
          100,
          100,
          50,
          0,
          100,
          100,
          100,
          100,
          100,
          100,
          100,
          100,
          100,
          100,
          100,
          100,
          100,
          100,
          100,
          100,
          100,
          100,
          100,
          100,
          100,
          100,
          50,
          100,
          100,
          100,
          100,
          100,
          100,
          100,
          100,
          100,
          100,
          100,
          100,
          100,
          100,
          100,
          100,
          100,
          100,
          100,
          50,
          100,
          100,
          100,
          100,
          100,
          100,
          100,
          100,
          100,
          100,
          100,
          50,
          50,
          100,
          100,
          100,
          100,
          100,
          100,
          100,
          50,
          100,
          50,
          100,
          100,
          100,
          100,
          100,
          100,
          100,
          50,
          100,
          100,
          100,
          100,
          100,
          100,
          100,
          100,
          50,
          100,
          50,
          50,
          100,
          100,
          100,
          100,
          100,
          100,
          100,
          100,
          100,
          100,
          100,
          100,
          100,
          100,
          100,
          100,
          50,
          100,
          100,
          100,
          50,
          100,
          100,
          100,
          50,
          100,
          100,
          100,
          100,
          100,
          100,
          50,
          50,
          100,
          100,
          100,
          100,
          100,
          100,
          100,
          100,
          100,
          50,
          50,
          100,
          100,
          100,
          100,
          100,
          100,
          100,
          100,
          50,
          100,
          100,
          100,
          100,
          100,
          100,
          50,
          50,
          100,
          100,
          100,
          100,
          100,
          100,
          100,
          100,
          100,
          100,
          50,
          50,
          100,
          100,
          100,
          100,
          100,
          100,
          100,
          100,
          100,
          100,
          100,
          100,
          100,
          50,
          50,
          100,
          100,
          50,
          100,
          100,
          100,
          100,
          100,
          100,
          100,
          100,
          50,
          50,
          50,
          50,
          50,
          50,
          50,
          50,
          50,
          50,
          50,
          50,
          0,
          50,
          50,
          50,
          50,
          50,
          50,
          50,
          50,
          50,
          50,
          50,
          50,
          50,
          50,
          50,
          50,
          50,
          50,
          50,
          0,
          50,
          50,
          50,
          50,
          50,
          50,
          50,
          50,
          50,
          50,
          50,
          50,
          50,
          50,
          50,
          50,
          50,
          50,
          50,
          50,
          50,
          50,
          0,
          0,
          50,
          50,
          50,
          50,
          50,
          50,
          50,
          50,
          50,
          50,
          0,
          50,
          50,
          50,
          50,
          50,
          50,
          50,
          50,
          0,
          50,
          50,
          50,
          50,
          50,
          50,
          50,
          50,
          50,
          50,
          50,
          50,
          0,
          0,
          50,
          50,
          50,
          50,
          50,
          50,
          50,
          50,
          50,
          50,
          50,
          50,
          50,
          50,
          0,
          50,
          50,
          50,
          50,
          50,
          50,
          50,
          50,
          50,
          50,
          50,
          50,
          50,
          50,
          50,
          50,
          50,
          50,
          50,
          0,
          50,
          50,
          50,
          50,
          50,
          50,
          50,
          50,
          50,
          50,
          50,
          50,
          50,
          50,
          50,
          50,
          0,
          0,
          50,
          50,
          50,
          50,
          50,
          50,
          50,
          50,
          50,
          50,
          50,
          50,
          0,
          50,
          50,
          50,
          50,
          50,
          50,
          50,
          50,
          50,
          50,
          50,
          50,
          0,
          50,
          50,
          50,
          50,
          50,
          50,
          50,
          50,
          50,
          50,
          50,
          50,
          0,
          50,
          50,
          50,
          50,
          50,
          50,
          50,
          50,
          50,
          50,
          0,
          50,
          50,
          50,
          50,
          50,
          50,
          50,
          50,
          50,
          50,
          50,
          50,
          0,
          0,
          0,
          0,
          0,
          0,
          0,
          0,
          0,
          0,
          0,
          0,
          0,
          0,
          0,
          0,
          0,
          0,
          0,
          0,
          0,
          0,
          0,
          0,
          0,
          0,
          0,
          0,
          0,
          0,
          0,
          0,
          0,
          0,
          0,
          0,
          0,
          0,
          0,
          0,
          0,
          0,
          0,
          0,
          0,
          0,
          0,
          0,
          0,
          0,
          0,
          0
         ],
         "yaxis": "y"
        },
        {
         "hovertemplate": "global_seed=123<br>datetime=%{x}<br>total_power=%{y}<extra></extra>",
         "legendgroup": "123",
         "line": {
          "color": "#EF553B",
          "dash": "solid"
         },
         "mode": "lines",
         "name": "123",
         "showlegend": true,
         "type": "scattergl",
         "x": [
          "2019-07-01T07:43:31",
          "2019-07-01T07:44:31",
          "2019-07-01T07:45:31",
          "2019-07-01T07:46:31",
          "2019-07-01T07:47:31",
          "2019-07-01T07:48:31",
          "2019-07-01T07:49:31",
          "2019-07-01T07:50:31",
          "2019-07-01T07:51:31",
          "2019-07-01T07:52:31",
          "2019-07-01T07:53:31",
          "2019-07-01T07:54:31",
          "2019-07-01T07:55:31",
          "2019-07-01T07:56:31",
          "2019-07-01T07:57:31",
          "2019-07-01T07:58:31",
          "2019-07-01T07:59:31",
          "2019-07-01T08:00:31",
          "2019-07-01T08:01:31",
          "2019-07-01T08:02:31",
          "2019-07-01T08:03:31",
          "2019-07-01T08:04:31",
          "2019-07-01T08:05:31",
          "2019-07-01T08:06:31",
          "2019-07-01T08:07:31",
          "2019-07-01T08:08:31",
          "2019-07-01T08:09:31",
          "2019-07-01T08:10:31",
          "2019-07-01T08:11:31",
          "2019-07-01T08:12:31",
          "2019-07-01T08:13:31",
          "2019-07-01T08:14:31",
          "2019-07-01T08:15:31",
          "2019-07-01T08:16:31",
          "2019-07-01T08:17:31",
          "2019-07-01T08:18:31",
          "2019-07-01T08:19:31",
          "2019-07-01T08:20:31",
          "2019-07-01T08:21:31",
          "2019-07-01T08:22:31",
          "2019-07-01T08:23:31",
          "2019-07-01T08:24:31",
          "2019-07-01T08:25:31",
          "2019-07-01T08:26:31",
          "2019-07-01T08:27:31",
          "2019-07-01T08:28:31",
          "2019-07-01T08:29:31",
          "2019-07-01T08:30:31",
          "2019-07-01T08:31:31",
          "2019-07-01T08:32:31",
          "2019-07-01T08:33:31",
          "2019-07-01T08:34:31",
          "2019-07-01T08:35:31",
          "2019-07-01T08:36:31",
          "2019-07-01T08:37:31",
          "2019-07-01T08:38:31",
          "2019-07-01T08:39:31",
          "2019-07-01T08:40:31",
          "2019-07-01T08:41:31",
          "2019-07-01T08:42:31",
          "2019-07-01T08:43:31",
          "2019-07-01T08:44:31",
          "2019-07-01T08:45:31",
          "2019-07-01T08:46:31",
          "2019-07-01T08:47:31",
          "2019-07-01T08:48:31",
          "2019-07-01T08:49:31",
          "2019-07-01T08:50:31",
          "2019-07-01T08:51:31",
          "2019-07-01T08:52:31",
          "2019-07-01T08:53:31",
          "2019-07-01T08:54:31",
          "2019-07-01T08:55:31",
          "2019-07-01T08:56:31",
          "2019-07-01T08:57:31",
          "2019-07-01T08:58:31",
          "2019-07-01T08:59:31",
          "2019-07-01T09:00:31",
          "2019-07-01T09:01:31",
          "2019-07-01T09:02:31",
          "2019-07-01T09:03:31",
          "2019-07-01T09:04:31",
          "2019-07-01T09:05:31",
          "2019-07-01T09:06:31",
          "2019-07-01T09:07:31",
          "2019-07-01T09:08:31",
          "2019-07-01T09:09:31",
          "2019-07-01T09:10:31",
          "2019-07-01T09:11:31",
          "2019-07-01T09:12:31",
          "2019-07-01T09:13:31",
          "2019-07-01T09:14:31",
          "2019-07-01T09:15:31",
          "2019-07-01T09:16:31",
          "2019-07-01T09:17:31",
          "2019-07-01T09:18:31",
          "2019-07-01T09:19:31",
          "2019-07-01T09:20:31",
          "2019-07-01T09:21:31",
          "2019-07-01T09:22:31",
          "2019-07-01T09:23:31",
          "2019-07-01T09:24:31",
          "2019-07-01T09:25:31",
          "2019-07-01T09:26:31",
          "2019-07-01T09:27:31",
          "2019-07-01T09:28:31",
          "2019-07-01T09:29:31",
          "2019-07-01T09:30:31",
          "2019-07-01T09:31:31",
          "2019-07-01T09:32:31",
          "2019-07-01T09:33:31",
          "2019-07-01T09:34:31",
          "2019-07-01T09:35:31",
          "2019-07-01T09:36:31",
          "2019-07-01T09:37:31",
          "2019-07-01T09:38:31",
          "2019-07-01T09:39:31",
          "2019-07-01T09:40:31",
          "2019-07-01T09:41:31",
          "2019-07-01T09:42:31",
          "2019-07-01T09:43:31",
          "2019-07-01T09:44:31",
          "2019-07-01T09:45:31",
          "2019-07-01T09:46:31",
          "2019-07-01T09:47:31",
          "2019-07-01T09:48:31",
          "2019-07-01T09:49:31",
          "2019-07-01T09:50:31",
          "2019-07-01T09:51:31",
          "2019-07-01T09:52:31",
          "2019-07-01T09:53:31",
          "2019-07-01T09:54:31",
          "2019-07-01T09:55:31",
          "2019-07-01T09:56:31",
          "2019-07-01T09:57:31",
          "2019-07-01T09:58:31",
          "2019-07-01T09:59:31",
          "2019-07-01T10:00:31",
          "2019-07-01T10:01:31",
          "2019-07-01T10:02:31",
          "2019-07-01T10:03:31",
          "2019-07-01T10:04:31",
          "2019-07-01T10:05:31",
          "2019-07-01T10:06:31",
          "2019-07-01T10:07:31",
          "2019-07-01T10:08:31",
          "2019-07-01T10:09:31",
          "2019-07-01T10:10:31",
          "2019-07-01T10:11:31",
          "2019-07-01T10:12:31",
          "2019-07-01T10:13:31",
          "2019-07-01T10:14:31",
          "2019-07-01T10:15:31",
          "2019-07-01T10:16:31",
          "2019-07-01T10:17:31",
          "2019-07-01T10:18:31",
          "2019-07-01T10:19:31",
          "2019-07-01T10:20:31",
          "2019-07-01T10:21:31",
          "2019-07-01T10:22:31",
          "2019-07-01T10:23:31",
          "2019-07-01T10:24:31",
          "2019-07-01T10:25:31",
          "2019-07-01T10:26:31",
          "2019-07-01T10:27:31",
          "2019-07-01T10:28:31",
          "2019-07-01T10:29:31",
          "2019-07-01T10:30:31",
          "2019-07-01T10:31:31",
          "2019-07-01T10:32:31",
          "2019-07-01T10:33:31",
          "2019-07-01T10:34:31",
          "2019-07-01T10:35:31",
          "2019-07-01T10:36:31",
          "2019-07-01T10:37:31",
          "2019-07-01T10:38:31",
          "2019-07-01T10:39:31",
          "2019-07-01T10:40:31",
          "2019-07-01T10:41:31",
          "2019-07-01T10:42:31",
          "2019-07-01T10:43:31",
          "2019-07-01T10:44:31",
          "2019-07-01T10:45:31",
          "2019-07-01T10:46:31",
          "2019-07-01T10:47:31",
          "2019-07-01T10:48:31",
          "2019-07-01T10:49:31",
          "2019-07-01T10:50:31",
          "2019-07-01T10:51:31",
          "2019-07-01T10:52:31",
          "2019-07-01T10:53:31",
          "2019-07-01T10:54:31",
          "2019-07-01T10:55:31",
          "2019-07-01T10:56:31",
          "2019-07-01T10:57:31",
          "2019-07-01T10:58:31",
          "2019-07-01T10:59:31",
          "2019-07-01T11:00:31",
          "2019-07-01T11:01:31",
          "2019-07-01T11:02:31",
          "2019-07-01T11:03:31",
          "2019-07-01T11:04:31",
          "2019-07-01T11:05:31",
          "2019-07-01T11:06:31",
          "2019-07-01T11:07:31",
          "2019-07-01T11:08:31",
          "2019-07-01T11:09:31",
          "2019-07-01T11:10:31",
          "2019-07-01T11:11:31",
          "2019-07-01T11:12:31",
          "2019-07-01T11:13:31",
          "2019-07-01T11:14:31",
          "2019-07-01T11:15:31",
          "2019-07-01T11:16:31",
          "2019-07-01T11:17:31",
          "2019-07-01T11:18:31",
          "2019-07-01T11:19:31",
          "2019-07-01T11:20:31",
          "2019-07-01T11:21:31",
          "2019-07-01T11:22:31",
          "2019-07-01T11:23:31",
          "2019-07-01T11:24:31",
          "2019-07-01T11:25:31",
          "2019-07-01T11:26:31",
          "2019-07-01T11:27:31",
          "2019-07-01T11:28:31",
          "2019-07-01T11:29:31",
          "2019-07-01T11:30:31",
          "2019-07-01T11:31:31",
          "2019-07-01T11:32:31",
          "2019-07-01T11:33:31",
          "2019-07-01T11:34:31",
          "2019-07-01T11:35:31",
          "2019-07-01T11:36:31",
          "2019-07-01T11:37:31",
          "2019-07-01T11:38:31",
          "2019-07-01T11:39:31",
          "2019-07-01T11:40:31",
          "2019-07-01T11:41:31",
          "2019-07-01T11:42:31",
          "2019-07-01T11:43:31",
          "2019-07-01T11:44:31",
          "2019-07-01T11:45:31",
          "2019-07-01T11:46:31",
          "2019-07-01T11:47:31",
          "2019-07-01T11:48:31",
          "2019-07-01T11:49:31",
          "2019-07-01T11:50:31",
          "2019-07-01T11:51:31",
          "2019-07-01T11:52:31",
          "2019-07-01T11:53:31",
          "2019-07-01T11:54:31",
          "2019-07-01T11:55:31",
          "2019-07-01T11:56:31",
          "2019-07-01T11:57:31",
          "2019-07-01T11:58:31",
          "2019-07-01T11:59:31",
          "2019-07-01T12:00:31",
          "2019-07-01T12:01:31",
          "2019-07-01T12:02:31",
          "2019-07-01T12:03:31",
          "2019-07-01T12:04:31",
          "2019-07-01T12:05:31",
          "2019-07-01T12:06:31",
          "2019-07-01T12:07:31",
          "2019-07-01T12:08:31",
          "2019-07-01T12:09:31",
          "2019-07-01T12:10:31",
          "2019-07-01T12:11:31",
          "2019-07-01T12:12:31",
          "2019-07-01T12:13:31",
          "2019-07-01T12:14:31",
          "2019-07-01T12:15:31",
          "2019-07-01T12:16:31",
          "2019-07-01T12:17:31",
          "2019-07-01T12:18:31",
          "2019-07-01T12:19:31",
          "2019-07-01T12:20:31",
          "2019-07-01T12:21:31",
          "2019-07-01T12:22:31",
          "2019-07-01T12:23:31",
          "2019-07-01T12:24:31",
          "2019-07-01T12:25:31",
          "2019-07-01T12:26:31",
          "2019-07-01T12:27:31",
          "2019-07-01T12:28:31",
          "2019-07-01T12:29:31",
          "2019-07-01T12:30:31",
          "2019-07-01T12:31:31",
          "2019-07-01T12:32:31",
          "2019-07-01T12:33:31",
          "2019-07-01T12:34:31",
          "2019-07-01T12:35:31",
          "2019-07-01T12:36:31",
          "2019-07-01T12:37:31",
          "2019-07-01T12:38:31",
          "2019-07-01T12:39:31",
          "2019-07-01T12:40:31",
          "2019-07-01T12:41:31",
          "2019-07-01T12:42:31",
          "2019-07-01T12:43:31",
          "2019-07-01T12:44:31",
          "2019-07-01T12:45:31",
          "2019-07-01T12:46:31",
          "2019-07-01T12:47:31",
          "2019-07-01T12:48:31",
          "2019-07-01T12:49:31",
          "2019-07-01T12:50:31",
          "2019-07-01T12:51:31",
          "2019-07-01T12:52:31",
          "2019-07-01T12:53:31",
          "2019-07-01T12:54:31",
          "2019-07-01T12:55:31",
          "2019-07-01T12:56:31",
          "2019-07-01T12:57:31",
          "2019-07-01T12:58:31",
          "2019-07-01T12:59:31",
          "2019-07-01T13:00:31",
          "2019-07-01T13:01:31",
          "2019-07-01T13:02:31",
          "2019-07-01T13:03:31",
          "2019-07-01T13:04:31",
          "2019-07-01T13:05:31",
          "2019-07-01T13:06:31",
          "2019-07-01T13:07:31",
          "2019-07-01T13:08:31",
          "2019-07-01T13:09:31",
          "2019-07-01T13:10:31",
          "2019-07-01T13:11:31",
          "2019-07-01T13:12:31",
          "2019-07-01T13:13:31",
          "2019-07-01T13:14:31",
          "2019-07-01T13:15:31",
          "2019-07-01T13:16:31",
          "2019-07-01T13:17:31",
          "2019-07-01T13:18:31",
          "2019-07-01T13:19:31",
          "2019-07-01T13:20:31",
          "2019-07-01T13:21:31",
          "2019-07-01T13:22:31",
          "2019-07-01T13:23:31",
          "2019-07-01T13:24:31",
          "2019-07-01T13:25:31",
          "2019-07-01T13:26:31",
          "2019-07-01T13:27:31",
          "2019-07-01T13:28:31",
          "2019-07-01T13:29:31",
          "2019-07-01T13:30:31",
          "2019-07-01T13:31:31",
          "2019-07-01T13:32:31",
          "2019-07-01T13:33:31",
          "2019-07-01T13:34:31",
          "2019-07-01T13:35:31",
          "2019-07-01T13:36:31",
          "2019-07-01T13:37:31",
          "2019-07-01T13:38:31",
          "2019-07-01T13:39:31",
          "2019-07-01T13:40:31",
          "2019-07-01T13:41:31",
          "2019-07-01T13:42:31",
          "2019-07-01T13:43:31",
          "2019-07-01T13:44:31",
          "2019-07-01T13:45:31",
          "2019-07-01T13:46:31",
          "2019-07-01T13:47:31",
          "2019-07-01T13:48:31",
          "2019-07-01T13:49:31",
          "2019-07-01T13:50:31",
          "2019-07-01T13:51:31",
          "2019-07-01T13:52:31",
          "2019-07-01T13:53:31",
          "2019-07-01T13:54:31",
          "2019-07-01T13:55:31",
          "2019-07-01T13:56:31",
          "2019-07-01T13:57:31",
          "2019-07-01T13:58:31",
          "2019-07-01T13:59:31",
          "2019-07-01T14:00:31",
          "2019-07-01T14:01:31",
          "2019-07-01T14:02:31",
          "2019-07-01T14:03:31",
          "2019-07-01T14:04:31",
          "2019-07-01T14:05:31",
          "2019-07-01T14:06:31",
          "2019-07-01T14:07:31",
          "2019-07-01T14:08:31",
          "2019-07-01T14:09:31",
          "2019-07-01T14:10:31",
          "2019-07-01T14:11:31",
          "2019-07-01T14:12:31",
          "2019-07-01T14:13:31",
          "2019-07-01T14:14:31",
          "2019-07-01T14:15:31",
          "2019-07-01T14:16:31",
          "2019-07-01T14:17:31",
          "2019-07-01T14:18:31",
          "2019-07-01T14:19:31",
          "2019-07-01T14:20:31",
          "2019-07-01T14:21:31",
          "2019-07-01T14:22:31",
          "2019-07-01T14:23:31",
          "2019-07-01T14:24:31",
          "2019-07-01T14:25:31",
          "2019-07-01T14:26:31",
          "2019-07-01T14:27:31",
          "2019-07-01T14:28:31",
          "2019-07-01T14:29:31",
          "2019-07-01T14:30:31",
          "2019-07-01T14:31:31",
          "2019-07-01T14:32:31",
          "2019-07-01T14:33:31",
          "2019-07-01T14:34:31",
          "2019-07-01T14:35:31",
          "2019-07-01T14:36:31",
          "2019-07-01T14:37:31",
          "2019-07-01T14:38:31",
          "2019-07-01T14:39:31",
          "2019-07-01T14:40:31",
          "2019-07-01T14:41:31",
          "2019-07-01T14:42:31",
          "2019-07-01T14:43:31",
          "2019-07-01T14:44:31",
          "2019-07-01T14:45:31",
          "2019-07-01T14:46:31",
          "2019-07-01T14:47:31",
          "2019-07-01T14:48:31",
          "2019-07-01T14:49:31",
          "2019-07-01T14:50:31",
          "2019-07-01T14:51:31",
          "2019-07-01T14:52:31",
          "2019-07-01T14:53:31",
          "2019-07-01T14:54:31",
          "2019-07-01T14:55:31",
          "2019-07-01T14:56:31",
          "2019-07-01T14:57:31",
          "2019-07-01T14:58:31",
          "2019-07-01T14:59:31",
          "2019-07-01T15:00:31",
          "2019-07-01T15:01:31",
          "2019-07-01T15:02:31",
          "2019-07-01T15:03:31",
          "2019-07-01T15:04:31",
          "2019-07-01T15:05:31",
          "2019-07-01T15:06:31",
          "2019-07-01T15:07:31",
          "2019-07-01T15:08:31",
          "2019-07-01T15:09:31",
          "2019-07-01T15:10:31",
          "2019-07-01T15:11:31",
          "2019-07-01T15:12:31",
          "2019-07-01T15:13:31",
          "2019-07-01T15:14:31",
          "2019-07-01T15:15:31",
          "2019-07-01T15:16:31",
          "2019-07-01T15:17:31",
          "2019-07-01T15:18:31",
          "2019-07-01T15:19:31",
          "2019-07-01T15:20:31",
          "2019-07-01T15:21:31",
          "2019-07-01T15:22:31",
          "2019-07-01T15:23:31",
          "2019-07-01T15:24:31",
          "2019-07-01T15:25:31",
          "2019-07-01T15:26:31",
          "2019-07-01T15:27:31",
          "2019-07-01T15:28:31",
          "2019-07-01T15:29:31",
          "2019-07-01T15:30:31",
          "2019-07-01T15:31:31",
          "2019-07-01T15:32:31",
          "2019-07-01T15:33:31",
          "2019-07-01T15:34:31",
          "2019-07-01T15:35:31",
          "2019-07-01T15:36:31",
          "2019-07-01T15:37:31",
          "2019-07-01T15:38:31",
          "2019-07-01T15:39:31",
          "2019-07-01T15:40:31",
          "2019-07-01T15:41:31",
          "2019-07-01T15:42:31",
          "2019-07-01T15:43:31",
          "2019-07-01T15:44:31",
          "2019-07-01T15:45:31",
          "2019-07-01T15:46:31",
          "2019-07-01T15:47:31",
          "2019-07-01T15:48:31",
          "2019-07-01T15:49:31",
          "2019-07-01T15:50:31",
          "2019-07-01T15:51:31",
          "2019-07-01T15:52:31",
          "2019-07-01T15:53:31",
          "2019-07-01T15:54:31",
          "2019-07-01T15:55:31",
          "2019-07-01T15:56:31",
          "2019-07-01T15:57:31",
          "2019-07-01T15:58:31",
          "2019-07-01T15:59:31",
          "2019-07-01T16:00:31",
          "2019-07-01T16:01:31",
          "2019-07-01T16:02:31",
          "2019-07-01T16:03:31",
          "2019-07-01T16:04:31",
          "2019-07-01T16:05:31",
          "2019-07-01T16:06:31",
          "2019-07-01T16:07:31",
          "2019-07-01T16:08:31",
          "2019-07-01T16:09:31",
          "2019-07-01T16:10:31",
          "2019-07-01T16:11:31",
          "2019-07-01T16:12:31",
          "2019-07-01T16:13:31",
          "2019-07-01T16:14:31",
          "2019-07-01T16:15:31",
          "2019-07-01T16:16:31",
          "2019-07-01T16:17:31",
          "2019-07-01T16:18:31",
          "2019-07-01T16:19:31",
          "2019-07-01T16:20:31",
          "2019-07-01T16:21:31",
          "2019-07-01T16:22:31",
          "2019-07-01T16:23:31",
          "2019-07-01T16:24:31",
          "2019-07-01T16:25:31",
          "2019-07-01T16:26:31",
          "2019-07-01T16:27:31",
          "2019-07-01T16:28:31",
          "2019-07-01T16:29:31",
          "2019-07-01T16:30:31",
          "2019-07-01T16:31:31",
          "2019-07-01T16:32:31",
          "2019-07-01T16:33:31",
          "2019-07-01T16:34:31",
          "2019-07-01T16:35:31",
          "2019-07-01T16:36:31",
          "2019-07-01T16:37:31",
          "2019-07-01T16:38:31",
          "2019-07-01T16:39:31",
          "2019-07-01T16:40:31",
          "2019-07-01T16:41:31",
          "2019-07-01T16:42:31",
          "2019-07-01T16:43:31",
          "2019-07-01T16:44:31",
          "2019-07-01T16:45:31",
          "2019-07-01T16:46:31",
          "2019-07-01T16:47:31",
          "2019-07-01T16:48:31",
          "2019-07-01T16:49:31",
          "2019-07-01T16:50:31",
          "2019-07-01T16:51:31",
          "2019-07-01T16:52:31",
          "2019-07-01T16:53:31",
          "2019-07-01T16:54:31",
          "2019-07-01T16:55:31",
          "2019-07-01T16:56:31",
          "2019-07-01T16:57:31",
          "2019-07-01T16:58:31",
          "2019-07-01T16:59:31",
          "2019-07-01T17:00:31",
          "2019-07-01T17:01:31",
          "2019-07-01T17:02:31",
          "2019-07-01T17:03:31",
          "2019-07-01T17:04:31",
          "2019-07-01T17:05:31",
          "2019-07-01T17:06:31",
          "2019-07-01T17:07:31",
          "2019-07-01T17:08:31",
          "2019-07-01T17:09:31",
          "2019-07-01T17:10:31",
          "2019-07-01T17:11:31",
          "2019-07-01T17:12:31",
          "2019-07-01T17:13:31",
          "2019-07-01T17:14:31",
          "2019-07-01T17:15:31",
          "2019-07-01T17:16:31",
          "2019-07-01T17:17:31",
          "2019-07-01T17:18:31",
          "2019-07-01T17:19:31",
          "2019-07-01T17:20:31",
          "2019-07-01T17:21:31",
          "2019-07-01T17:22:31",
          "2019-07-01T17:23:31",
          "2019-07-01T17:24:31",
          "2019-07-01T17:25:31",
          "2019-07-01T17:26:31",
          "2019-07-01T17:27:31",
          "2019-07-01T17:28:31",
          "2019-07-01T17:29:31",
          "2019-07-01T17:30:31",
          "2019-07-01T17:31:31",
          "2019-07-01T17:32:31",
          "2019-07-01T17:33:31",
          "2019-07-01T17:34:31",
          "2019-07-01T17:35:31",
          "2019-07-01T17:36:31",
          "2019-07-01T17:37:31",
          "2019-07-01T17:38:31",
          "2019-07-01T17:39:31",
          "2019-07-01T17:40:31",
          "2019-07-01T17:41:31",
          "2019-07-01T17:42:31",
          "2019-07-01T17:43:31",
          "2019-07-01T17:44:31",
          "2019-07-01T17:45:31",
          "2019-07-01T17:46:31",
          "2019-07-01T17:47:31",
          "2019-07-01T17:48:31",
          "2019-07-01T17:49:31",
          "2019-07-01T17:50:31",
          "2019-07-01T17:51:31",
          "2019-07-01T17:52:31",
          "2019-07-01T17:53:31",
          "2019-07-01T17:54:31",
          "2019-07-01T17:55:31",
          "2019-07-01T17:56:31",
          "2019-07-01T17:57:31",
          "2019-07-01T17:58:31",
          "2019-07-01T17:59:31",
          "2019-07-01T18:00:31",
          "2019-07-01T18:01:31",
          "2019-07-01T18:02:31",
          "2019-07-01T18:03:31",
          "2019-07-01T18:04:31",
          "2019-07-01T18:05:31",
          "2019-07-01T18:06:31",
          "2019-07-01T18:07:31",
          "2019-07-01T18:08:31",
          "2019-07-01T18:09:31",
          "2019-07-01T18:10:31",
          "2019-07-01T18:11:31",
          "2019-07-01T18:12:31",
          "2019-07-01T18:13:31",
          "2019-07-01T18:14:31",
          "2019-07-01T18:15:31",
          "2019-07-01T18:16:31",
          "2019-07-01T18:17:31",
          "2019-07-01T18:18:31",
          "2019-07-01T18:19:31",
          "2019-07-01T18:20:31",
          "2019-07-01T18:21:31",
          "2019-07-01T18:22:31",
          "2019-07-01T18:23:31",
          "2019-07-01T18:24:31",
          "2019-07-01T18:25:31",
          "2019-07-01T18:26:31",
          "2019-07-01T18:27:31",
          "2019-07-01T18:28:31",
          "2019-07-01T18:29:31",
          "2019-07-01T18:30:31",
          "2019-07-01T18:31:31",
          "2019-07-01T18:32:31",
          "2019-07-01T18:33:31",
          "2019-07-01T18:34:31",
          "2019-07-01T18:35:31",
          "2019-07-01T18:36:31",
          "2019-07-01T18:37:31",
          "2019-07-01T18:38:31",
          "2019-07-01T18:39:31",
          "2019-07-01T18:40:31",
          "2019-07-01T18:41:31",
          "2019-07-01T18:42:31",
          "2019-07-01T18:43:31",
          "2019-07-01T18:44:31",
          "2019-07-01T18:45:31",
          "2019-07-01T18:46:31",
          "2019-07-01T18:47:31",
          "2019-07-01T18:48:31",
          "2019-07-01T18:49:31",
          "2019-07-01T18:50:31",
          "2019-07-01T18:51:31",
          "2019-07-01T18:52:31",
          "2019-07-01T18:53:31",
          "2019-07-01T18:54:31",
          "2019-07-01T18:55:31",
          "2019-07-01T18:56:31",
          "2019-07-01T18:57:31",
          "2019-07-01T18:58:31",
          "2019-07-01T18:59:31",
          "2019-07-01T19:00:31",
          "2019-07-01T19:01:31",
          "2019-07-01T19:02:31",
          "2019-07-01T19:03:31",
          "2019-07-01T19:04:31",
          "2019-07-01T19:05:31",
          "2019-07-01T19:06:31",
          "2019-07-01T19:07:31",
          "2019-07-01T19:08:31",
          "2019-07-01T19:09:31",
          "2019-07-01T19:10:31",
          "2019-07-01T19:11:31",
          "2019-07-01T19:12:31",
          "2019-07-01T19:13:31",
          "2019-07-01T19:14:31",
          "2019-07-01T19:15:31",
          "2019-07-01T19:16:31",
          "2019-07-01T19:17:31",
          "2019-07-01T19:18:31",
          "2019-07-01T19:19:31",
          "2019-07-01T19:20:31",
          "2019-07-01T19:21:31",
          "2019-07-01T19:22:31",
          "2019-07-01T19:23:31",
          "2019-07-01T19:24:31",
          "2019-07-01T19:25:31",
          "2019-07-01T19:26:31",
          "2019-07-01T19:27:31",
          "2019-07-01T19:28:31",
          "2019-07-01T19:29:31",
          "2019-07-01T19:30:31",
          "2019-07-01T19:31:31",
          "2019-07-01T19:32:31",
          "2019-07-01T19:33:31",
          "2019-07-01T19:34:31",
          "2019-07-01T19:35:31",
          "2019-07-01T19:36:31",
          "2019-07-01T19:37:31",
          "2019-07-01T19:38:31",
          "2019-07-01T19:39:31",
          "2019-07-01T19:40:31",
          "2019-07-01T19:41:31",
          "2019-07-01T19:42:31",
          "2019-07-01T19:43:31",
          "2019-07-01T19:44:31",
          "2019-07-01T19:45:31",
          "2019-07-01T19:46:31",
          "2019-07-01T19:47:31",
          "2019-07-01T19:48:31",
          "2019-07-01T19:49:31",
          "2019-07-01T19:50:31",
          "2019-07-01T19:51:31",
          "2019-07-01T19:52:31",
          "2019-07-01T19:53:31",
          "2019-07-01T19:54:31",
          "2019-07-01T19:55:31",
          "2019-07-01T19:56:31",
          "2019-07-01T19:57:31",
          "2019-07-01T19:58:31",
          "2019-07-01T19:59:31",
          "2019-07-01T20:00:31",
          "2019-07-01T20:01:31",
          "2019-07-01T20:02:31",
          "2019-07-01T20:03:31",
          "2019-07-01T20:04:31",
          "2019-07-01T20:05:31",
          "2019-07-01T20:06:31",
          "2019-07-01T20:07:31",
          "2019-07-01T20:08:31",
          "2019-07-01T20:09:31",
          "2019-07-01T20:10:31",
          "2019-07-01T20:11:31",
          "2019-07-01T20:12:31",
          "2019-07-01T20:13:31",
          "2019-07-01T20:14:31",
          "2019-07-01T20:15:31",
          "2019-07-01T20:16:31",
          "2019-07-01T20:17:31",
          "2019-07-01T20:18:31",
          "2019-07-01T20:19:31",
          "2019-07-01T20:20:31",
          "2019-07-01T20:21:31",
          "2019-07-01T20:22:31",
          "2019-07-01T20:23:31",
          "2019-07-01T20:24:31",
          "2019-07-01T20:25:31",
          "2019-07-01T20:26:31",
          "2019-07-01T20:27:31",
          "2019-07-01T20:28:31",
          "2019-07-01T20:29:31",
          "2019-07-01T20:30:31",
          "2019-07-01T20:31:31",
          "2019-07-01T20:32:31",
          "2019-07-01T20:33:31",
          "2019-07-01T20:34:31",
          "2019-07-01T20:35:31",
          "2019-07-01T20:36:31",
          "2019-07-01T20:37:31",
          "2019-07-01T20:38:31",
          "2019-07-01T20:39:31",
          "2019-07-01T20:40:31",
          "2019-07-01T20:41:31",
          "2019-07-01T20:42:31",
          "2019-07-01T20:43:31",
          "2019-07-01T20:44:31",
          "2019-07-01T20:45:31",
          "2019-07-01T20:46:31",
          "2019-07-01T20:47:31",
          "2019-07-01T20:48:31",
          "2019-07-01T20:49:31",
          "2019-07-01T20:50:31",
          "2019-07-01T20:51:31",
          "2019-07-01T20:52:31",
          "2019-07-01T20:53:31",
          "2019-07-01T20:54:31",
          "2019-07-01T20:55:31",
          "2019-07-01T20:56:31",
          "2019-07-01T20:57:31",
          "2019-07-01T20:58:31",
          "2019-07-01T20:59:31",
          "2019-07-01T21:00:31",
          "2019-07-01T21:01:31",
          "2019-07-01T21:02:31",
          "2019-07-01T21:03:31",
          "2019-07-01T21:04:31",
          "2019-07-01T21:05:31",
          "2019-07-01T21:06:31",
          "2019-07-01T21:07:31",
          "2019-07-01T21:08:31",
          "2019-07-01T21:09:31",
          "2019-07-01T21:10:31",
          "2019-07-01T21:11:31",
          "2019-07-01T21:12:31",
          "2019-07-01T21:13:31",
          "2019-07-01T21:14:31",
          "2019-07-01T21:15:31",
          "2019-07-01T21:16:31",
          "2019-07-01T21:17:31",
          "2019-07-01T21:18:31",
          "2019-07-01T21:19:31",
          "2019-07-01T21:20:31",
          "2019-07-01T21:21:31",
          "2019-07-01T21:22:31",
          "2019-07-01T21:23:31",
          "2019-07-01T21:24:31",
          "2019-07-01T21:25:31",
          "2019-07-01T21:26:31",
          "2019-07-01T21:27:31",
          "2019-07-01T21:28:31",
          "2019-07-01T21:29:31",
          "2019-07-01T21:30:31",
          "2019-07-01T21:31:31",
          "2019-07-01T21:32:31",
          "2019-07-01T21:33:31",
          "2019-07-01T21:34:31",
          "2019-07-01T21:35:31",
          "2019-07-01T21:36:31",
          "2019-07-01T21:37:31",
          "2019-07-01T21:38:31",
          "2019-07-01T21:39:31",
          "2019-07-01T21:40:31",
          "2019-07-01T21:41:31",
          "2019-07-01T21:42:31",
          "2019-07-01T21:43:31",
          "2019-07-01T21:44:31",
          "2019-07-01T21:45:31",
          "2019-07-01T21:46:31",
          "2019-07-01T21:47:31",
          "2019-07-01T21:48:31",
          "2019-07-01T21:49:31",
          "2019-07-01T21:50:31",
          "2019-07-01T21:51:31",
          "2019-07-01T21:52:31",
          "2019-07-01T21:53:31",
          "2019-07-01T21:54:31",
          "2019-07-01T21:55:31",
          "2019-07-01T21:56:31",
          "2019-07-01T21:57:31",
          "2019-07-01T21:58:31",
          "2019-07-01T21:59:31",
          "2019-07-01T22:00:31",
          "2019-07-01T22:01:31",
          "2019-07-01T22:02:31",
          "2019-07-01T22:03:31",
          "2019-07-01T22:04:31",
          "2019-07-01T22:05:31",
          "2019-07-01T22:06:31",
          "2019-07-01T22:07:31",
          "2019-07-01T22:08:31",
          "2019-07-01T22:09:31",
          "2019-07-01T22:10:31",
          "2019-07-01T22:11:31",
          "2019-07-01T22:12:31",
          "2019-07-01T22:13:31",
          "2019-07-01T22:14:31",
          "2019-07-01T22:15:31",
          "2019-07-01T22:16:31",
          "2019-07-01T22:17:31",
          "2019-07-01T22:18:31",
          "2019-07-01T22:19:31",
          "2019-07-01T22:20:31",
          "2019-07-01T22:21:31",
          "2019-07-01T22:22:31",
          "2019-07-01T22:23:31",
          "2019-07-01T22:24:31",
          "2019-07-01T22:25:31",
          "2019-07-01T22:26:31",
          "2019-07-01T22:27:31",
          "2019-07-01T22:28:31",
          "2019-07-01T22:29:31",
          "2019-07-01T22:30:31",
          "2019-07-01T22:31:31",
          "2019-07-01T22:32:31",
          "2019-07-01T22:33:31",
          "2019-07-01T22:34:31",
          "2019-07-01T22:35:31",
          "2019-07-01T22:36:31",
          "2019-07-01T22:37:31",
          "2019-07-01T22:38:31",
          "2019-07-01T22:39:31",
          "2019-07-01T22:40:31",
          "2019-07-01T22:41:31",
          "2019-07-01T22:42:31",
          "2019-07-01T22:43:31",
          "2019-07-01T22:44:31",
          "2019-07-01T22:45:31",
          "2019-07-01T22:46:31",
          "2019-07-01T22:47:31",
          "2019-07-01T22:48:31",
          "2019-07-01T22:49:31",
          "2019-07-01T22:50:31",
          "2019-07-01T22:51:31",
          "2019-07-01T22:52:31",
          "2019-07-01T22:53:31",
          "2019-07-01T22:54:31",
          "2019-07-01T22:55:31",
          "2019-07-01T22:56:31",
          "2019-07-01T22:57:31",
          "2019-07-01T22:58:31",
          "2019-07-01T22:59:31",
          "2019-07-01T23:00:31",
          "2019-07-01T23:01:31",
          "2019-07-01T23:02:31",
          "2019-07-01T23:03:31",
          "2019-07-01T23:04:31",
          "2019-07-01T23:05:31",
          "2019-07-01T23:06:31",
          "2019-07-01T23:07:31",
          "2019-07-01T23:08:31",
          "2019-07-01T23:09:31",
          "2019-07-01T23:10:31",
          "2019-07-01T23:11:31",
          "2019-07-01T23:12:31",
          "2019-07-01T23:13:31",
          "2019-07-01T23:14:31",
          "2019-07-01T23:15:31",
          "2019-07-01T23:16:31",
          "2019-07-01T23:17:31",
          "2019-07-01T23:18:31",
          "2019-07-01T23:19:31",
          "2019-07-01T23:20:31",
          "2019-07-01T23:21:31",
          "2019-07-01T23:22:31",
          "2019-07-01T23:23:31",
          "2019-07-01T23:24:31",
          "2019-07-01T23:25:31"
         ],
         "xaxis": "x",
         "y": [
          0,
          0,
          0,
          0,
          0,
          0,
          0,
          0,
          0,
          0,
          0,
          0,
          0,
          0,
          0,
          0,
          0,
          0,
          0,
          0,
          0,
          0,
          0,
          0,
          0,
          0,
          0,
          0,
          0,
          0,
          0,
          0,
          0,
          0,
          0,
          0,
          0,
          0,
          0,
          0,
          0,
          0,
          0,
          0,
          0,
          0,
          0,
          0,
          0,
          0,
          0,
          0,
          0,
          0,
          0,
          0,
          0,
          0,
          0,
          0,
          0,
          0,
          0,
          0,
          0,
          0,
          0,
          0,
          0,
          0,
          0,
          0,
          0,
          0,
          0,
          0,
          0,
          0,
          0,
          0,
          0,
          0,
          0,
          0,
          0,
          0,
          0,
          0,
          0,
          0,
          0,
          0,
          0,
          0,
          0,
          0,
          0,
          0,
          0,
          0,
          0,
          0,
          0,
          50,
          50,
          50,
          50,
          100,
          100,
          100,
          100,
          100,
          100,
          100,
          50,
          50,
          100,
          100,
          100,
          150,
          150,
          150,
          200,
          200,
          200,
          250,
          250,
          200,
          200,
          250,
          300,
          400,
          500,
          600,
          650,
          650,
          750,
          700,
          750,
          600,
          650,
          600,
          600,
          550,
          550,
          750,
          800,
          600,
          600,
          550,
          650,
          650,
          800,
          800,
          900,
          950,
          1100,
          1150,
          1300,
          1400,
          1550,
          1650,
          1600,
          1550,
          1400,
          1500,
          1700,
          1900,
          2000,
          2100,
          2250,
          2400,
          2700,
          2600,
          2400,
          2750,
          2700,
          2800,
          3100,
          3200,
          3100,
          2850,
          2950,
          2900,
          3000,
          3200,
          3300,
          3350,
          3200,
          3200,
          3200,
          3250,
          3250,
          3150,
          3300,
          3400,
          3500,
          3450,
          3100,
          3050,
          3100,
          3000,
          3200,
          3000,
          2950,
          3100,
          3500,
          3400,
          3250,
          3350,
          3650,
          3700,
          3700,
          3450,
          3450,
          3550,
          3600,
          3500,
          3450,
          3500,
          3650,
          3600,
          3250,
          3200,
          3250,
          3250,
          3300,
          3200,
          3300,
          3250,
          3300,
          3350,
          3150,
          3250,
          3350,
          3200,
          3200,
          2950,
          3000,
          2950,
          2850,
          2850,
          2800,
          2700,
          2800,
          2650,
          2600,
          2600,
          2500,
          2450,
          2400,
          2400,
          2250,
          2200,
          2200,
          2400,
          2450,
          2350,
          2300,
          2400,
          2350,
          2150,
          2050,
          2250,
          2200,
          1950,
          2000,
          2050,
          2200,
          2050,
          2000,
          2100,
          1950,
          1950,
          2000,
          2150,
          2100,
          2000,
          1900,
          2050,
          2050,
          2050,
          2100,
          2200,
          2100,
          2000,
          1950,
          2050,
          2000,
          2000,
          1850,
          1900,
          1900,
          1800,
          1850,
          1900,
          1800,
          1850,
          1850,
          1850,
          1800,
          1600,
          1700,
          1700,
          1600,
          1700,
          1750,
          1650,
          1650,
          1600,
          1700,
          1650,
          1500,
          1350,
          1500,
          1450,
          1400,
          1350,
          1450,
          1350,
          1400,
          1350,
          1550,
          1550,
          1350,
          1400,
          1300,
          1400,
          1400,
          1300,
          1300,
          1250,
          1200,
          1200,
          1150,
          1250,
          1200,
          1150,
          1150,
          1150,
          1000,
          900,
          850,
          950,
          1000,
          1000,
          1100,
          1100,
          1100,
          1200,
          1150,
          1150,
          1150,
          1100,
          1100,
          1100,
          1150,
          950,
          950,
          1000,
          950,
          1050,
          1050,
          1100,
          1050,
          1050,
          1150,
          1100,
          1100,
          1050,
          1000,
          1150,
          1100,
          1300,
          1250,
          1300,
          1200,
          1200,
          1250,
          1200,
          1250,
          1050,
          1050,
          1150,
          1050,
          1100,
          1000,
          1000,
          900,
          900,
          900,
          950,
          1000,
          950,
          750,
          700,
          550,
          650,
          650,
          600,
          550,
          550,
          750,
          750,
          700,
          700,
          700,
          700,
          700,
          650,
          600,
          650,
          650,
          600,
          500,
          550,
          500,
          400,
          350,
          400,
          400,
          450,
          450,
          450,
          450,
          450,
          500,
          450,
          450,
          500,
          500,
          450,
          400,
          400,
          450,
          450,
          450,
          450,
          450,
          400,
          350,
          400,
          400,
          350,
          250,
          300,
          300,
          350,
          300,
          400,
          350,
          400,
          400,
          350,
          350,
          350,
          350,
          350,
          350,
          300,
          350,
          350,
          400,
          400,
          350,
          350,
          350,
          350,
          350,
          350,
          350,
          400,
          400,
          350,
          350,
          350,
          350,
          400,
          450,
          400,
          450,
          450,
          400,
          450,
          450,
          400,
          450,
          450,
          450,
          400,
          300,
          400,
          400,
          400,
          400,
          400,
          350,
          400,
          400,
          350,
          350,
          300,
          300,
          250,
          250,
          250,
          250,
          250,
          250,
          300,
          300,
          300,
          250,
          250,
          200,
          250,
          300,
          300,
          250,
          250,
          200,
          350,
          350,
          350,
          350,
          350,
          300,
          350,
          300,
          300,
          300,
          300,
          250,
          300,
          300,
          200,
          300,
          300,
          250,
          300,
          250,
          200,
          250,
          200,
          200,
          200,
          200,
          200,
          150,
          150,
          200,
          200,
          200,
          200,
          200,
          200,
          150,
          100,
          100,
          100,
          200,
          150,
          150,
          200,
          200,
          200,
          200,
          200,
          150,
          150,
          150,
          150,
          150,
          150,
          150,
          100,
          100,
          50,
          100,
          100,
          100,
          100,
          50,
          100,
          100,
          100,
          100,
          100,
          100,
          100,
          100,
          100,
          150,
          100,
          150,
          150,
          150,
          150,
          150,
          150,
          150,
          150,
          150,
          100,
          150,
          150,
          100,
          100,
          150,
          150,
          100,
          100,
          100,
          100,
          50,
          50,
          100,
          100,
          100,
          100,
          100,
          100,
          150,
          150,
          100,
          150,
          150,
          150,
          150,
          150,
          150,
          150,
          150,
          150,
          150,
          150,
          150,
          150,
          150,
          150,
          150,
          150,
          50,
          100,
          100,
          100,
          100,
          50,
          100,
          100,
          100,
          100,
          100,
          150,
          150,
          150,
          150,
          150,
          150,
          50,
          100,
          50,
          100,
          100,
          100,
          100,
          100,
          100,
          100,
          100,
          100,
          100,
          100,
          100,
          100,
          100,
          100,
          100,
          100,
          100,
          100,
          0,
          50,
          100,
          100,
          100,
          100,
          100,
          100,
          100,
          100,
          100,
          100,
          100,
          50,
          100,
          100,
          100,
          100,
          100,
          100,
          100,
          100,
          100,
          50,
          50,
          100,
          100,
          100,
          100,
          100,
          100,
          100,
          100,
          100,
          150,
          150,
          150,
          150,
          150,
          200,
          200,
          200,
          200,
          150,
          150,
          200,
          200,
          150,
          100,
          100,
          100,
          100,
          100,
          100,
          100,
          100,
          100,
          100,
          100,
          100,
          100,
          100,
          100,
          50,
          100,
          100,
          100,
          100,
          100,
          50,
          50,
          100,
          100,
          100,
          50,
          50,
          100,
          100,
          100,
          100,
          100,
          100,
          50,
          50,
          50,
          100,
          100,
          100,
          100,
          100,
          100,
          100,
          100,
          100,
          100,
          0,
          100,
          100,
          100,
          100,
          100,
          100,
          100,
          100,
          100,
          100,
          50,
          0,
          50,
          50,
          50,
          50,
          50,
          50,
          50,
          50,
          50,
          50,
          50,
          50,
          0,
          50,
          50,
          50,
          50,
          50,
          50,
          50,
          50,
          50,
          50,
          0,
          100,
          100,
          100,
          100,
          100,
          50,
          50,
          50,
          50,
          50,
          0,
          50,
          50,
          50,
          50,
          50,
          50,
          50,
          50,
          50,
          50,
          50,
          50,
          0,
          50,
          100,
          100,
          100,
          100,
          100,
          50,
          50,
          50,
          50,
          0,
          50,
          50,
          50,
          50,
          50,
          50,
          50,
          50,
          50,
          50,
          0,
          0,
          50,
          50,
          50,
          50,
          50,
          50,
          50,
          100,
          100,
          50,
          50,
          50,
          0,
          0,
          0,
          0,
          50,
          50,
          50,
          50,
          50,
          50,
          50,
          50,
          50,
          50,
          50,
          50,
          50,
          50,
          50,
          0,
          0,
          0,
          0,
          0,
          0,
          0,
          0,
          0,
          0,
          0,
          0,
          0,
          0,
          0,
          0,
          0,
          0,
          0,
          0,
          0,
          0,
          0,
          0,
          0,
          0,
          0,
          0,
          0,
          0,
          0,
          0,
          0,
          0,
          0,
          0,
          0,
          0,
          0,
          0,
          0,
          0,
          0,
          0,
          0,
          0,
          0,
          0,
          0,
          0,
          0,
          0
         ],
         "yaxis": "y"
        }
       ],
       "layout": {
        "height": 400,
        "legend": {
         "title": {
          "text": "global_seed"
         },
         "tracegroupgap": 0
        },
        "margin": {
         "b": 20,
         "l": 20,
         "r": 20,
         "t": 30
        },
        "template": {
         "data": {
          "bar": [
           {
            "error_x": {
             "color": "#2a3f5f"
            },
            "error_y": {
             "color": "#2a3f5f"
            },
            "marker": {
             "line": {
              "color": "white",
              "width": 0.5
             }
            },
            "type": "bar"
           }
          ],
          "barpolar": [
           {
            "marker": {
             "line": {
              "color": "white",
              "width": 0.5
             }
            },
            "type": "barpolar"
           }
          ],
          "carpet": [
           {
            "aaxis": {
             "endlinecolor": "#2a3f5f",
             "gridcolor": "#C8D4E3",
             "linecolor": "#C8D4E3",
             "minorgridcolor": "#C8D4E3",
             "startlinecolor": "#2a3f5f"
            },
            "baxis": {
             "endlinecolor": "#2a3f5f",
             "gridcolor": "#C8D4E3",
             "linecolor": "#C8D4E3",
             "minorgridcolor": "#C8D4E3",
             "startlinecolor": "#2a3f5f"
            },
            "type": "carpet"
           }
          ],
          "choropleth": [
           {
            "colorbar": {
             "outlinewidth": 0,
             "ticks": ""
            },
            "type": "choropleth"
           }
          ],
          "contour": [
           {
            "colorbar": {
             "outlinewidth": 0,
             "ticks": ""
            },
            "colorscale": [
             [
              0,
              "#0d0887"
             ],
             [
              0.1111111111111111,
              "#46039f"
             ],
             [
              0.2222222222222222,
              "#7201a8"
             ],
             [
              0.3333333333333333,
              "#9c179e"
             ],
             [
              0.4444444444444444,
              "#bd3786"
             ],
             [
              0.5555555555555556,
              "#d8576b"
             ],
             [
              0.6666666666666666,
              "#ed7953"
             ],
             [
              0.7777777777777778,
              "#fb9f3a"
             ],
             [
              0.8888888888888888,
              "#fdca26"
             ],
             [
              1,
              "#f0f921"
             ]
            ],
            "type": "contour"
           }
          ],
          "contourcarpet": [
           {
            "colorbar": {
             "outlinewidth": 0,
             "ticks": ""
            },
            "type": "contourcarpet"
           }
          ],
          "heatmap": [
           {
            "colorbar": {
             "outlinewidth": 0,
             "ticks": ""
            },
            "colorscale": [
             [
              0,
              "#0d0887"
             ],
             [
              0.1111111111111111,
              "#46039f"
             ],
             [
              0.2222222222222222,
              "#7201a8"
             ],
             [
              0.3333333333333333,
              "#9c179e"
             ],
             [
              0.4444444444444444,
              "#bd3786"
             ],
             [
              0.5555555555555556,
              "#d8576b"
             ],
             [
              0.6666666666666666,
              "#ed7953"
             ],
             [
              0.7777777777777778,
              "#fb9f3a"
             ],
             [
              0.8888888888888888,
              "#fdca26"
             ],
             [
              1,
              "#f0f921"
             ]
            ],
            "type": "heatmap"
           }
          ],
          "heatmapgl": [
           {
            "colorbar": {
             "outlinewidth": 0,
             "ticks": ""
            },
            "colorscale": [
             [
              0,
              "#0d0887"
             ],
             [
              0.1111111111111111,
              "#46039f"
             ],
             [
              0.2222222222222222,
              "#7201a8"
             ],
             [
              0.3333333333333333,
              "#9c179e"
             ],
             [
              0.4444444444444444,
              "#bd3786"
             ],
             [
              0.5555555555555556,
              "#d8576b"
             ],
             [
              0.6666666666666666,
              "#ed7953"
             ],
             [
              0.7777777777777778,
              "#fb9f3a"
             ],
             [
              0.8888888888888888,
              "#fdca26"
             ],
             [
              1,
              "#f0f921"
             ]
            ],
            "type": "heatmapgl"
           }
          ],
          "histogram": [
           {
            "marker": {
             "colorbar": {
              "outlinewidth": 0,
              "ticks": ""
             }
            },
            "type": "histogram"
           }
          ],
          "histogram2d": [
           {
            "colorbar": {
             "outlinewidth": 0,
             "ticks": ""
            },
            "colorscale": [
             [
              0,
              "#0d0887"
             ],
             [
              0.1111111111111111,
              "#46039f"
             ],
             [
              0.2222222222222222,
              "#7201a8"
             ],
             [
              0.3333333333333333,
              "#9c179e"
             ],
             [
              0.4444444444444444,
              "#bd3786"
             ],
             [
              0.5555555555555556,
              "#d8576b"
             ],
             [
              0.6666666666666666,
              "#ed7953"
             ],
             [
              0.7777777777777778,
              "#fb9f3a"
             ],
             [
              0.8888888888888888,
              "#fdca26"
             ],
             [
              1,
              "#f0f921"
             ]
            ],
            "type": "histogram2d"
           }
          ],
          "histogram2dcontour": [
           {
            "colorbar": {
             "outlinewidth": 0,
             "ticks": ""
            },
            "colorscale": [
             [
              0,
              "#0d0887"
             ],
             [
              0.1111111111111111,
              "#46039f"
             ],
             [
              0.2222222222222222,
              "#7201a8"
             ],
             [
              0.3333333333333333,
              "#9c179e"
             ],
             [
              0.4444444444444444,
              "#bd3786"
             ],
             [
              0.5555555555555556,
              "#d8576b"
             ],
             [
              0.6666666666666666,
              "#ed7953"
             ],
             [
              0.7777777777777778,
              "#fb9f3a"
             ],
             [
              0.8888888888888888,
              "#fdca26"
             ],
             [
              1,
              "#f0f921"
             ]
            ],
            "type": "histogram2dcontour"
           }
          ],
          "mesh3d": [
           {
            "colorbar": {
             "outlinewidth": 0,
             "ticks": ""
            },
            "type": "mesh3d"
           }
          ],
          "parcoords": [
           {
            "line": {
             "colorbar": {
              "outlinewidth": 0,
              "ticks": ""
             }
            },
            "type": "parcoords"
           }
          ],
          "pie": [
           {
            "automargin": true,
            "type": "pie"
           }
          ],
          "scatter": [
           {
            "marker": {
             "colorbar": {
              "outlinewidth": 0,
              "ticks": ""
             }
            },
            "type": "scatter"
           }
          ],
          "scatter3d": [
           {
            "line": {
             "colorbar": {
              "outlinewidth": 0,
              "ticks": ""
             }
            },
            "marker": {
             "colorbar": {
              "outlinewidth": 0,
              "ticks": ""
             }
            },
            "type": "scatter3d"
           }
          ],
          "scattercarpet": [
           {
            "marker": {
             "colorbar": {
              "outlinewidth": 0,
              "ticks": ""
             }
            },
            "type": "scattercarpet"
           }
          ],
          "scattergeo": [
           {
            "marker": {
             "colorbar": {
              "outlinewidth": 0,
              "ticks": ""
             }
            },
            "type": "scattergeo"
           }
          ],
          "scattergl": [
           {
            "marker": {
             "colorbar": {
              "outlinewidth": 0,
              "ticks": ""
             }
            },
            "type": "scattergl"
           }
          ],
          "scattermapbox": [
           {
            "marker": {
             "colorbar": {
              "outlinewidth": 0,
              "ticks": ""
             }
            },
            "type": "scattermapbox"
           }
          ],
          "scatterpolar": [
           {
            "marker": {
             "colorbar": {
              "outlinewidth": 0,
              "ticks": ""
             }
            },
            "type": "scatterpolar"
           }
          ],
          "scatterpolargl": [
           {
            "marker": {
             "colorbar": {
              "outlinewidth": 0,
              "ticks": ""
             }
            },
            "type": "scatterpolargl"
           }
          ],
          "scatterternary": [
           {
            "marker": {
             "colorbar": {
              "outlinewidth": 0,
              "ticks": ""
             }
            },
            "type": "scatterternary"
           }
          ],
          "surface": [
           {
            "colorbar": {
             "outlinewidth": 0,
             "ticks": ""
            },
            "colorscale": [
             [
              0,
              "#0d0887"
             ],
             [
              0.1111111111111111,
              "#46039f"
             ],
             [
              0.2222222222222222,
              "#7201a8"
             ],
             [
              0.3333333333333333,
              "#9c179e"
             ],
             [
              0.4444444444444444,
              "#bd3786"
             ],
             [
              0.5555555555555556,
              "#d8576b"
             ],
             [
              0.6666666666666666,
              "#ed7953"
             ],
             [
              0.7777777777777778,
              "#fb9f3a"
             ],
             [
              0.8888888888888888,
              "#fdca26"
             ],
             [
              1,
              "#f0f921"
             ]
            ],
            "type": "surface"
           }
          ],
          "table": [
           {
            "cells": {
             "fill": {
              "color": "#EBF0F8"
             },
             "line": {
              "color": "white"
             }
            },
            "header": {
             "fill": {
              "color": "#C8D4E3"
             },
             "line": {
              "color": "white"
             }
            },
            "type": "table"
           }
          ]
         },
         "layout": {
          "annotationdefaults": {
           "arrowcolor": "#2a3f5f",
           "arrowhead": 0,
           "arrowwidth": 1
          },
          "coloraxis": {
           "colorbar": {
            "outlinewidth": 0,
            "ticks": ""
           }
          },
          "colorscale": {
           "diverging": [
            [
             0,
             "#8e0152"
            ],
            [
             0.1,
             "#c51b7d"
            ],
            [
             0.2,
             "#de77ae"
            ],
            [
             0.3,
             "#f1b6da"
            ],
            [
             0.4,
             "#fde0ef"
            ],
            [
             0.5,
             "#f7f7f7"
            ],
            [
             0.6,
             "#e6f5d0"
            ],
            [
             0.7,
             "#b8e186"
            ],
            [
             0.8,
             "#7fbc41"
            ],
            [
             0.9,
             "#4d9221"
            ],
            [
             1,
             "#276419"
            ]
           ],
           "sequential": [
            [
             0,
             "#0d0887"
            ],
            [
             0.1111111111111111,
             "#46039f"
            ],
            [
             0.2222222222222222,
             "#7201a8"
            ],
            [
             0.3333333333333333,
             "#9c179e"
            ],
            [
             0.4444444444444444,
             "#bd3786"
            ],
            [
             0.5555555555555556,
             "#d8576b"
            ],
            [
             0.6666666666666666,
             "#ed7953"
            ],
            [
             0.7777777777777778,
             "#fb9f3a"
            ],
            [
             0.8888888888888888,
             "#fdca26"
            ],
            [
             1,
             "#f0f921"
            ]
           ],
           "sequentialminus": [
            [
             0,
             "#0d0887"
            ],
            [
             0.1111111111111111,
             "#46039f"
            ],
            [
             0.2222222222222222,
             "#7201a8"
            ],
            [
             0.3333333333333333,
             "#9c179e"
            ],
            [
             0.4444444444444444,
             "#bd3786"
            ],
            [
             0.5555555555555556,
             "#d8576b"
            ],
            [
             0.6666666666666666,
             "#ed7953"
            ],
            [
             0.7777777777777778,
             "#fb9f3a"
            ],
            [
             0.8888888888888888,
             "#fdca26"
            ],
            [
             1,
             "#f0f921"
            ]
           ]
          },
          "colorway": [
           "#636efa",
           "#EF553B",
           "#00cc96",
           "#ab63fa",
           "#FFA15A",
           "#19d3f3",
           "#FF6692",
           "#B6E880",
           "#FF97FF",
           "#FECB52"
          ],
          "font": {
           "color": "#2a3f5f"
          },
          "geo": {
           "bgcolor": "white",
           "lakecolor": "white",
           "landcolor": "white",
           "showlakes": true,
           "showland": true,
           "subunitcolor": "#C8D4E3"
          },
          "hoverlabel": {
           "align": "left"
          },
          "hovermode": "closest",
          "mapbox": {
           "style": "light"
          },
          "paper_bgcolor": "white",
          "plot_bgcolor": "white",
          "polar": {
           "angularaxis": {
            "gridcolor": "#EBF0F8",
            "linecolor": "#EBF0F8",
            "ticks": ""
           },
           "bgcolor": "white",
           "radialaxis": {
            "gridcolor": "#EBF0F8",
            "linecolor": "#EBF0F8",
            "ticks": ""
           }
          },
          "scene": {
           "xaxis": {
            "backgroundcolor": "white",
            "gridcolor": "#DFE8F3",
            "gridwidth": 2,
            "linecolor": "#EBF0F8",
            "showbackground": true,
            "ticks": "",
            "zerolinecolor": "#EBF0F8"
           },
           "yaxis": {
            "backgroundcolor": "white",
            "gridcolor": "#DFE8F3",
            "gridwidth": 2,
            "linecolor": "#EBF0F8",
            "showbackground": true,
            "ticks": "",
            "zerolinecolor": "#EBF0F8"
           },
           "zaxis": {
            "backgroundcolor": "white",
            "gridcolor": "#DFE8F3",
            "gridwidth": 2,
            "linecolor": "#EBF0F8",
            "showbackground": true,
            "ticks": "",
            "zerolinecolor": "#EBF0F8"
           }
          },
          "shapedefaults": {
           "line": {
            "color": "#2a3f5f"
           }
          },
          "ternary": {
           "aaxis": {
            "gridcolor": "#DFE8F3",
            "linecolor": "#A2B1C6",
            "ticks": ""
           },
           "baxis": {
            "gridcolor": "#DFE8F3",
            "linecolor": "#A2B1C6",
            "ticks": ""
           },
           "bgcolor": "white",
           "caxis": {
            "gridcolor": "#DFE8F3",
            "linecolor": "#A2B1C6",
            "ticks": ""
           }
          },
          "title": {
           "x": 0.05
          },
          "xaxis": {
           "automargin": true,
           "gridcolor": "#EBF0F8",
           "linecolor": "#EBF0F8",
           "ticks": "",
           "title": {
            "standoff": 15
           },
           "zerolinecolor": "#EBF0F8",
           "zerolinewidth": 2
          },
          "yaxis": {
           "automargin": true,
           "gridcolor": "#EBF0F8",
           "linecolor": "#EBF0F8",
           "ticks": "",
           "title": {
            "standoff": 15
           },
           "zerolinecolor": "#EBF0F8",
           "zerolinewidth": 2
          }
         }
        },
        "title": {
         "text": "Total EVSE Utilization"
        },
        "uniformtext": {
         "minsize": 8,
         "mode": "hide"
        },
        "width": 1000,
        "xaxis": {
         "anchor": "y",
         "domain": [
          0,
          1
         ],
         "range": [
          "2019-07-01 06:00",
          "2019-07-02"
         ],
         "title": {
          "text": "Simulated Time"
         },
         "type": "date"
        },
        "yaxis": {
         "anchor": "x",
         "autorange": true,
         "domain": [
          0,
          1
         ],
         "range": [
          -205.55555555555557,
          3905.5555555555557
         ],
         "title": {
          "text": "Total Power (kW)"
         },
         "type": "linear"
        }
       }
      },
      "image/png": "[encoded data removed]",
      "text/html": [
       "<div>                            <div id=\"9aa1b485-442f-47bf-8b55-cb472606f201\" class=\"plotly-graph-div\" style=\"height:400px; width:1000px;\"></div>            <script type=\"text/javascript\">                require([\"plotly\"], function(Plotly) {                    window.PLOTLYENV=window.PLOTLYENV || {};                                    if (document.getElementById(\"9aa1b485-442f-47bf-8b55-cb472606f201\")) {                    Plotly.newPlot(                        \"9aa1b485-442f-47bf-8b55-cb472606f201\",                        [{\"hovertemplate\": \"global_seed=0<br>datetime=%{x}<br>total_power=%{y}<extra></extra>\", \"legendgroup\": \"0\", \"line\": {\"color\": \"#636efa\", \"dash\": \"solid\"}, \"mode\": \"lines\", \"name\": \"0\", \"showlegend\": true, \"type\": \"scattergl\", \"x\": [\"2019-07-01T12:16:36\", \"2019-07-01T12:17:36\", \"2019-07-01T12:18:36\", \"2019-07-01T12:19:36\", \"2019-07-01T12:20:36\", \"2019-07-01T12:21:36\", \"2019-07-01T12:22:36\", \"2019-07-01T12:23:36\", \"2019-07-01T12:24:36\", \"2019-07-01T12:25:36\", \"2019-07-01T12:26:36\", \"2019-07-01T12:27:36\", \"2019-07-01T12:28:36\", \"2019-07-01T12:29:36\", \"2019-07-01T12:30:36\", \"2019-07-01T12:31:36\", \"2019-07-01T12:32:36\", \"2019-07-01T12:33:36\", \"2019-07-01T12:34:36\", \"2019-07-01T12:35:36\", \"2019-07-01T12:36:36\", \"2019-07-01T12:37:36\", \"2019-07-01T12:38:36\", \"2019-07-01T12:39:36\", \"2019-07-01T12:40:36\", \"2019-07-01T12:41:36\", \"2019-07-01T12:42:36\", \"2019-07-01T12:43:36\", \"2019-07-01T12:44:36\", \"2019-07-01T12:45:36\", \"2019-07-01T12:46:36\", \"2019-07-01T12:47:36\", \"2019-07-01T12:48:36\", \"2019-07-01T12:49:36\", \"2019-07-01T12:50:36\", \"2019-07-01T12:51:36\", \"2019-07-01T12:52:36\", \"2019-07-01T12:53:36\", \"2019-07-01T12:54:36\", \"2019-07-01T12:55:36\", \"2019-07-01T12:56:36\", \"2019-07-01T12:57:36\", \"2019-07-01T12:58:36\", \"2019-07-01T12:59:36\", \"2019-07-01T13:00:36\", \"2019-07-01T13:01:36\", \"2019-07-01T13:02:36\", \"2019-07-01T13:03:36\", \"2019-07-01T13:04:36\", \"2019-07-01T13:05:36\", \"2019-07-01T13:06:36\", \"2019-07-01T13:07:36\", \"2019-07-01T13:08:36\", \"2019-07-01T13:09:36\", \"2019-07-01T13:10:36\", \"2019-07-01T13:11:36\", \"2019-07-01T13:12:36\", \"2019-07-01T13:13:36\", \"2019-07-01T13:14:36\", \"2019-07-01T13:15:36\", \"2019-07-01T13:16:36\", \"2019-07-01T13:17:36\", \"2019-07-01T13:18:36\", \"2019-07-01T13:19:36\", \"2019-07-01T13:20:36\", \"2019-07-01T13:21:36\", \"2019-07-01T13:22:36\", \"2019-07-01T13:23:36\", \"2019-07-01T13:24:36\", \"2019-07-01T13:25:36\", \"2019-07-01T13:26:36\", \"2019-07-01T13:27:36\", \"2019-07-01T13:28:36\", \"2019-07-01T13:29:36\", \"2019-07-01T13:30:36\", \"2019-07-01T13:31:36\", \"2019-07-01T13:32:36\", \"2019-07-01T13:33:36\", \"2019-07-01T13:34:36\", \"2019-07-01T13:35:36\", \"2019-07-01T13:36:36\", \"2019-07-01T13:37:36\", \"2019-07-01T13:38:36\", \"2019-07-01T13:39:36\", \"2019-07-01T13:40:36\", \"2019-07-01T13:41:36\", \"2019-07-01T13:42:36\", \"2019-07-01T13:43:36\", \"2019-07-01T13:44:36\", \"2019-07-01T13:45:36\", \"2019-07-01T13:46:36\", \"2019-07-01T13:47:36\", \"2019-07-01T13:48:36\", \"2019-07-01T13:49:36\", \"2019-07-01T13:50:36\", \"2019-07-01T13:51:36\", \"2019-07-01T13:52:36\", \"2019-07-01T13:53:36\", \"2019-07-01T13:54:36\", \"2019-07-01T13:55:36\", \"2019-07-01T13:56:36\", \"2019-07-01T13:57:36\", \"2019-07-01T13:58:36\", \"2019-07-01T13:59:36\", \"2019-07-01T14:00:36\", \"2019-07-01T14:01:36\", \"2019-07-01T14:02:36\", \"2019-07-01T14:03:36\", \"2019-07-01T14:04:36\", \"2019-07-01T14:05:36\", \"2019-07-01T14:06:36\", \"2019-07-01T14:07:36\", \"2019-07-01T14:08:36\", \"2019-07-01T14:09:36\", \"2019-07-01T14:10:36\", \"2019-07-01T14:11:36\", \"2019-07-01T14:12:36\", \"2019-07-01T14:13:36\", \"2019-07-01T14:14:36\", \"2019-07-01T14:15:36\", \"2019-07-01T14:16:36\", \"2019-07-01T14:17:36\", \"2019-07-01T14:18:36\", \"2019-07-01T14:19:36\", \"2019-07-01T14:20:36\", \"2019-07-01T14:21:36\", \"2019-07-01T14:22:36\", \"2019-07-01T14:23:36\", \"2019-07-01T14:24:36\", \"2019-07-01T14:25:36\", \"2019-07-01T14:26:36\", \"2019-07-01T14:27:36\", \"2019-07-01T14:28:36\", \"2019-07-01T14:29:36\", \"2019-07-01T14:30:36\", \"2019-07-01T14:31:36\", \"2019-07-01T14:32:36\", \"2019-07-01T14:33:36\", \"2019-07-01T14:34:36\", \"2019-07-01T14:35:36\", \"2019-07-01T14:36:36\", \"2019-07-01T14:37:36\", \"2019-07-01T14:38:36\", \"2019-07-01T14:39:36\", \"2019-07-01T14:40:36\", \"2019-07-01T14:41:36\", \"2019-07-01T14:42:36\", \"2019-07-01T14:43:36\", \"2019-07-01T14:44:36\", \"2019-07-01T14:45:36\", \"2019-07-01T14:46:36\", \"2019-07-01T14:47:36\", \"2019-07-01T14:48:36\", \"2019-07-01T14:49:36\", \"2019-07-01T14:50:36\", \"2019-07-01T14:51:36\", \"2019-07-01T14:52:36\", \"2019-07-01T14:53:36\", \"2019-07-01T14:54:36\", \"2019-07-01T14:55:36\", \"2019-07-01T14:56:36\", \"2019-07-01T14:57:36\", \"2019-07-01T14:58:36\", \"2019-07-01T14:59:36\", \"2019-07-01T15:00:36\", \"2019-07-01T15:01:36\", \"2019-07-01T15:02:36\", \"2019-07-01T15:03:36\", \"2019-07-01T15:04:36\", \"2019-07-01T15:05:36\", \"2019-07-01T15:06:36\", \"2019-07-01T15:07:36\", \"2019-07-01T15:08:36\", \"2019-07-01T15:09:36\", \"2019-07-01T15:10:36\", \"2019-07-01T15:11:36\", \"2019-07-01T15:12:36\", \"2019-07-01T15:13:36\", \"2019-07-01T15:14:36\", \"2019-07-01T15:15:36\", \"2019-07-01T15:16:36\", \"2019-07-01T15:17:36\", \"2019-07-01T15:18:36\", \"2019-07-01T15:19:36\", \"2019-07-01T15:20:36\", \"2019-07-01T15:21:36\", \"2019-07-01T15:22:36\", \"2019-07-01T15:23:36\", \"2019-07-01T15:24:36\", \"2019-07-01T15:25:36\", \"2019-07-01T15:26:36\", \"2019-07-01T15:27:36\", \"2019-07-01T15:28:36\", \"2019-07-01T15:29:36\", \"2019-07-01T15:30:36\", \"2019-07-01T15:31:36\", \"2019-07-01T15:32:36\", \"2019-07-01T15:33:36\", \"2019-07-01T15:34:36\", \"2019-07-01T15:35:36\", \"2019-07-01T15:36:36\", \"2019-07-01T15:37:36\", \"2019-07-01T15:38:36\", \"2019-07-01T15:39:36\", \"2019-07-01T15:40:36\", \"2019-07-01T15:41:36\", \"2019-07-01T15:42:36\", \"2019-07-01T15:43:36\", \"2019-07-01T15:44:36\", \"2019-07-01T15:45:36\", \"2019-07-01T15:46:36\", \"2019-07-01T15:47:36\", \"2019-07-01T15:48:36\", \"2019-07-01T15:49:36\", \"2019-07-01T15:50:36\", \"2019-07-01T15:51:36\", \"2019-07-01T15:52:36\", \"2019-07-01T15:53:36\", \"2019-07-01T15:54:36\", \"2019-07-01T15:55:36\", \"2019-07-01T15:56:36\", \"2019-07-01T15:57:36\", \"2019-07-01T15:58:36\", \"2019-07-01T15:59:36\", \"2019-07-01T16:00:36\", \"2019-07-01T16:01:36\", \"2019-07-01T16:02:36\", \"2019-07-01T16:03:36\", \"2019-07-01T16:04:36\", \"2019-07-01T16:05:36\", \"2019-07-01T16:06:36\", \"2019-07-01T16:07:36\", \"2019-07-01T16:08:36\", \"2019-07-01T16:09:36\", \"2019-07-01T16:10:36\", \"2019-07-01T16:11:36\", \"2019-07-01T16:12:36\", \"2019-07-01T16:13:36\", \"2019-07-01T16:14:36\", \"2019-07-01T16:15:36\", \"2019-07-01T16:16:36\", \"2019-07-01T16:17:36\", \"2019-07-01T16:18:36\", \"2019-07-01T16:19:36\", \"2019-07-01T16:20:36\", \"2019-07-01T16:21:36\", \"2019-07-01T16:22:36\", \"2019-07-01T16:23:36\", \"2019-07-01T16:24:36\", \"2019-07-01T16:25:36\", \"2019-07-01T16:26:36\", \"2019-07-01T16:27:36\", \"2019-07-01T16:28:36\", \"2019-07-01T16:29:36\", \"2019-07-01T16:30:36\", \"2019-07-01T16:31:36\", \"2019-07-01T16:32:36\", \"2019-07-01T16:33:36\", \"2019-07-01T16:34:36\", \"2019-07-01T16:35:36\", \"2019-07-01T16:36:36\", \"2019-07-01T16:37:36\", \"2019-07-01T16:38:36\", \"2019-07-01T16:39:36\", \"2019-07-01T16:40:36\", \"2019-07-01T16:41:36\", \"2019-07-01T16:42:36\", \"2019-07-01T16:43:36\", \"2019-07-01T16:44:36\", \"2019-07-01T16:45:36\", \"2019-07-01T16:46:36\", \"2019-07-01T16:47:36\", \"2019-07-01T16:48:36\", \"2019-07-01T16:49:36\", \"2019-07-01T16:50:36\", \"2019-07-01T16:51:36\", \"2019-07-01T16:52:36\", \"2019-07-01T16:53:36\", \"2019-07-01T16:54:36\", \"2019-07-01T16:55:36\", \"2019-07-01T16:56:36\", \"2019-07-01T16:57:36\", \"2019-07-01T16:58:36\", \"2019-07-01T16:59:36\", \"2019-07-01T17:00:36\", \"2019-07-01T17:01:36\", \"2019-07-01T17:02:36\", \"2019-07-01T17:03:36\", \"2019-07-01T17:04:36\", \"2019-07-01T17:05:36\", \"2019-07-01T17:06:36\", \"2019-07-01T17:07:36\", \"2019-07-01T17:08:36\", \"2019-07-01T17:09:36\", \"2019-07-01T17:10:36\", \"2019-07-01T17:11:36\", \"2019-07-01T17:12:36\", \"2019-07-01T17:13:36\", \"2019-07-01T17:14:36\", \"2019-07-01T17:15:36\", \"2019-07-01T17:16:36\", \"2019-07-01T17:17:36\", \"2019-07-01T17:18:36\", \"2019-07-01T17:19:36\", \"2019-07-01T17:20:36\", \"2019-07-01T17:21:36\", \"2019-07-01T17:22:36\", \"2019-07-01T17:23:36\", \"2019-07-01T17:24:36\", \"2019-07-01T17:25:36\", \"2019-07-01T17:26:36\", \"2019-07-01T17:27:36\", \"2019-07-01T17:28:36\", \"2019-07-01T17:29:36\", \"2019-07-01T17:30:36\", \"2019-07-01T17:31:36\", \"2019-07-01T17:32:36\", \"2019-07-01T17:33:36\", \"2019-07-01T17:34:36\", \"2019-07-01T17:35:36\", \"2019-07-01T17:36:36\", \"2019-07-01T17:37:36\", \"2019-07-01T17:38:36\", \"2019-07-01T17:39:36\", \"2019-07-01T17:40:36\", \"2019-07-01T17:41:36\", \"2019-07-01T17:42:36\", \"2019-07-01T17:43:36\", \"2019-07-01T17:44:36\", \"2019-07-01T17:45:36\", \"2019-07-01T17:46:36\", \"2019-07-01T17:47:36\", \"2019-07-01T17:48:36\", \"2019-07-01T17:49:36\", \"2019-07-01T17:50:36\", \"2019-07-01T17:51:36\", \"2019-07-01T17:52:36\", \"2019-07-01T17:53:36\", \"2019-07-01T17:54:36\", \"2019-07-01T17:55:36\", \"2019-07-01T17:56:36\", \"2019-07-01T17:57:36\", \"2019-07-01T17:58:36\", \"2019-07-01T17:59:36\", \"2019-07-01T18:00:36\", \"2019-07-01T18:01:36\", \"2019-07-01T18:02:36\", \"2019-07-01T18:03:36\", \"2019-07-01T18:04:36\", \"2019-07-01T18:05:36\", \"2019-07-01T18:06:36\", \"2019-07-01T18:07:36\", \"2019-07-01T18:08:36\", \"2019-07-01T18:09:36\", \"2019-07-01T18:10:36\", \"2019-07-01T18:11:36\", \"2019-07-01T18:12:36\", \"2019-07-01T18:13:36\", \"2019-07-01T18:14:36\", \"2019-07-01T18:15:36\", \"2019-07-01T18:16:36\", \"2019-07-01T18:17:36\", \"2019-07-01T18:18:36\", \"2019-07-01T18:19:36\", \"2019-07-01T18:20:36\", \"2019-07-01T18:21:36\", \"2019-07-01T18:22:36\", \"2019-07-01T18:23:36\", \"2019-07-01T18:24:36\", \"2019-07-01T18:25:36\", \"2019-07-01T18:26:36\", \"2019-07-01T18:27:36\", \"2019-07-01T18:28:36\", \"2019-07-01T18:29:36\", \"2019-07-01T18:30:36\", \"2019-07-01T18:31:36\", \"2019-07-01T18:32:36\", \"2019-07-01T18:33:36\", \"2019-07-01T18:34:36\", \"2019-07-01T18:35:36\", \"2019-07-01T18:36:36\", \"2019-07-01T18:37:36\", \"2019-07-01T18:38:36\", \"2019-07-01T18:39:36\", \"2019-07-01T18:40:36\", \"2019-07-01T18:41:36\", \"2019-07-01T18:42:36\", \"2019-07-01T18:43:36\", \"2019-07-01T18:44:36\", \"2019-07-01T18:45:36\", \"2019-07-01T18:46:36\", \"2019-07-01T18:47:36\", \"2019-07-01T18:48:36\", \"2019-07-01T18:49:36\", \"2019-07-01T18:50:36\", \"2019-07-01T18:51:36\", \"2019-07-01T18:52:36\", \"2019-07-01T18:53:36\", \"2019-07-01T18:54:36\", \"2019-07-01T18:55:36\", \"2019-07-01T18:56:36\", \"2019-07-01T18:57:36\", \"2019-07-01T18:58:36\", \"2019-07-01T18:59:36\", \"2019-07-01T19:00:36\", \"2019-07-01T19:01:36\", \"2019-07-01T19:02:36\", \"2019-07-01T19:03:36\", \"2019-07-01T19:04:36\", \"2019-07-01T19:05:36\", \"2019-07-01T19:06:36\", \"2019-07-01T19:07:36\", \"2019-07-01T19:08:36\", \"2019-07-01T19:09:36\", \"2019-07-01T19:10:36\", \"2019-07-01T19:11:36\", \"2019-07-01T19:12:36\", \"2019-07-01T19:13:36\", \"2019-07-01T19:14:36\", \"2019-07-01T19:15:36\", \"2019-07-01T19:16:36\", \"2019-07-01T19:17:36\", \"2019-07-01T19:18:36\", \"2019-07-01T19:19:36\", \"2019-07-01T19:20:36\", \"2019-07-01T19:21:36\", \"2019-07-01T19:22:36\", \"2019-07-01T19:23:36\", \"2019-07-01T19:24:36\", \"2019-07-01T19:25:36\", \"2019-07-01T19:26:36\", \"2019-07-01T19:27:36\", \"2019-07-01T19:28:36\", \"2019-07-01T19:29:36\", \"2019-07-01T19:30:36\", \"2019-07-01T19:31:36\", \"2019-07-01T19:32:36\", \"2019-07-01T19:33:36\", \"2019-07-01T19:34:36\", \"2019-07-01T19:35:36\", \"2019-07-01T19:36:36\", \"2019-07-01T19:37:36\", \"2019-07-01T19:38:36\", \"2019-07-01T19:39:36\", \"2019-07-01T19:40:36\", \"2019-07-01T19:41:36\", \"2019-07-01T19:42:36\", \"2019-07-01T19:43:36\", \"2019-07-01T19:44:36\", \"2019-07-01T19:45:36\", \"2019-07-01T19:46:36\", \"2019-07-01T19:47:36\", \"2019-07-01T19:48:36\", \"2019-07-01T19:49:36\", \"2019-07-01T19:50:36\", \"2019-07-01T19:51:36\", \"2019-07-01T19:52:36\", \"2019-07-01T19:53:36\", \"2019-07-01T19:54:36\", \"2019-07-01T19:55:36\", \"2019-07-01T19:56:36\", \"2019-07-01T19:57:36\", \"2019-07-01T19:58:36\", \"2019-07-01T19:59:36\", \"2019-07-01T20:00:36\", \"2019-07-01T20:01:36\", \"2019-07-01T20:02:36\", \"2019-07-01T20:03:36\", \"2019-07-01T20:04:36\", \"2019-07-01T20:05:36\", \"2019-07-01T20:06:36\", \"2019-07-01T20:07:36\", \"2019-07-01T20:08:36\", \"2019-07-01T20:09:36\", \"2019-07-01T20:10:36\", \"2019-07-01T20:11:36\", \"2019-07-01T20:12:36\", \"2019-07-01T20:13:36\", \"2019-07-01T20:14:36\", \"2019-07-01T20:15:36\", \"2019-07-01T20:16:36\", \"2019-07-01T20:17:36\", \"2019-07-01T20:18:36\", \"2019-07-01T20:19:36\", \"2019-07-01T20:20:36\", \"2019-07-01T20:21:36\", \"2019-07-01T20:22:36\", \"2019-07-01T20:23:36\", \"2019-07-01T20:24:36\", \"2019-07-01T20:25:36\", \"2019-07-01T20:26:36\", \"2019-07-01T20:27:36\", \"2019-07-01T20:28:36\", \"2019-07-01T20:29:36\", \"2019-07-01T20:30:36\", \"2019-07-01T20:31:36\", \"2019-07-01T20:32:36\", \"2019-07-01T20:33:36\", \"2019-07-01T20:34:36\", \"2019-07-01T20:35:36\", \"2019-07-01T20:36:36\", \"2019-07-01T20:37:36\", \"2019-07-01T20:38:36\", \"2019-07-01T20:39:36\", \"2019-07-01T20:40:36\", \"2019-07-01T20:41:36\", \"2019-07-01T20:42:36\", \"2019-07-01T20:43:36\", \"2019-07-01T20:44:36\", \"2019-07-01T20:45:36\", \"2019-07-01T20:46:36\", \"2019-07-01T20:47:36\", \"2019-07-01T20:48:36\", \"2019-07-01T20:49:36\", \"2019-07-01T20:50:36\", \"2019-07-01T20:51:36\", \"2019-07-01T20:52:36\", \"2019-07-01T20:53:36\", \"2019-07-01T20:54:36\", \"2019-07-01T20:55:36\", \"2019-07-01T20:56:36\", \"2019-07-01T20:57:36\", \"2019-07-01T20:58:36\", \"2019-07-01T20:59:36\", \"2019-07-01T21:00:36\", \"2019-07-01T21:01:36\", \"2019-07-01T21:02:36\", \"2019-07-01T21:03:36\", \"2019-07-01T21:04:36\", \"2019-07-01T21:05:36\", \"2019-07-01T21:06:36\", \"2019-07-01T21:07:36\", \"2019-07-01T21:08:36\", \"2019-07-01T21:09:36\", \"2019-07-01T21:10:36\", \"2019-07-01T21:11:36\", \"2019-07-01T21:12:36\", \"2019-07-01T21:13:36\", \"2019-07-01T21:14:36\", \"2019-07-01T21:15:36\", \"2019-07-01T21:16:36\", \"2019-07-01T21:17:36\", \"2019-07-01T21:18:36\", \"2019-07-01T21:19:36\", \"2019-07-01T21:20:36\", \"2019-07-01T21:21:36\", \"2019-07-01T21:22:36\", \"2019-07-01T21:23:36\", \"2019-07-01T21:24:36\", \"2019-07-01T21:25:36\", \"2019-07-01T21:26:36\", \"2019-07-01T21:27:36\", \"2019-07-01T21:28:36\", \"2019-07-01T21:29:36\", \"2019-07-01T21:30:36\", \"2019-07-01T21:31:36\", \"2019-07-01T21:32:36\", \"2019-07-01T21:33:36\", \"2019-07-01T21:34:36\", \"2019-07-01T21:35:36\", \"2019-07-01T21:36:36\", \"2019-07-01T21:37:36\", \"2019-07-01T21:38:36\", \"2019-07-01T21:39:36\", \"2019-07-01T21:40:36\", \"2019-07-01T21:41:36\", \"2019-07-01T21:42:36\", \"2019-07-01T21:43:36\", \"2019-07-01T21:44:36\", \"2019-07-01T21:45:36\", \"2019-07-01T21:46:36\", \"2019-07-01T21:47:36\", \"2019-07-01T21:48:36\", \"2019-07-01T21:49:36\", \"2019-07-01T21:50:36\", \"2019-07-01T21:51:36\", \"2019-07-01T21:52:36\", \"2019-07-01T21:53:36\", \"2019-07-01T21:54:36\", \"2019-07-01T21:55:36\", \"2019-07-01T21:56:36\", \"2019-07-01T21:57:36\", \"2019-07-01T21:58:36\", \"2019-07-01T21:59:36\", \"2019-07-01T22:00:36\", \"2019-07-01T22:01:36\", \"2019-07-01T22:02:36\", \"2019-07-01T22:03:36\", \"2019-07-01T22:04:36\", \"2019-07-01T22:05:36\", \"2019-07-01T22:06:36\", \"2019-07-01T22:07:36\", \"2019-07-01T22:08:36\", \"2019-07-01T22:09:36\", \"2019-07-01T22:10:36\", \"2019-07-01T22:11:36\", \"2019-07-01T22:12:36\", \"2019-07-01T22:13:36\", \"2019-07-01T22:14:36\", \"2019-07-01T22:15:36\", \"2019-07-01T22:16:36\", \"2019-07-01T22:17:36\", \"2019-07-01T22:18:36\", \"2019-07-01T22:19:36\", \"2019-07-01T22:20:36\", \"2019-07-01T22:21:36\", \"2019-07-01T22:22:36\", \"2019-07-01T22:23:36\", \"2019-07-01T22:24:36\", \"2019-07-01T22:25:36\", \"2019-07-01T22:26:36\", \"2019-07-01T22:27:36\", \"2019-07-01T22:28:36\", \"2019-07-01T22:29:36\", \"2019-07-01T22:30:36\", \"2019-07-01T22:31:36\", \"2019-07-01T22:32:36\", \"2019-07-01T22:33:36\", \"2019-07-01T22:34:36\", \"2019-07-01T22:35:36\", \"2019-07-01T22:36:36\", \"2019-07-01T22:37:36\", \"2019-07-01T22:38:36\", \"2019-07-01T22:39:36\", \"2019-07-01T22:40:36\", \"2019-07-01T22:41:36\", \"2019-07-01T22:42:36\", \"2019-07-01T22:43:36\", \"2019-07-01T22:44:36\", \"2019-07-01T22:45:36\", \"2019-07-01T22:46:36\", \"2019-07-01T22:47:36\", \"2019-07-01T22:48:36\", \"2019-07-01T22:49:36\", \"2019-07-01T22:50:36\", \"2019-07-01T22:51:36\", \"2019-07-01T22:52:36\", \"2019-07-01T22:53:36\", \"2019-07-01T22:54:36\", \"2019-07-01T22:55:36\", \"2019-07-01T22:56:36\", \"2019-07-01T22:57:36\", \"2019-07-01T22:58:36\", \"2019-07-01T22:59:36\", \"2019-07-01T23:00:36\", \"2019-07-01T23:01:36\", \"2019-07-01T23:02:36\", \"2019-07-01T23:03:36\", \"2019-07-01T23:04:36\", \"2019-07-01T23:05:36\", \"2019-07-01T23:06:36\", \"2019-07-01T23:07:36\", \"2019-07-01T23:08:36\", \"2019-07-01T23:09:36\", \"2019-07-01T23:10:36\", \"2019-07-01T23:11:36\", \"2019-07-01T23:12:36\", \"2019-07-01T23:13:36\", \"2019-07-01T23:14:36\", \"2019-07-01T23:15:36\", \"2019-07-01T23:16:36\", \"2019-07-01T23:17:36\", \"2019-07-01T23:18:36\", \"2019-07-01T23:19:36\", \"2019-07-01T23:20:36\", \"2019-07-01T23:21:36\", \"2019-07-01T23:22:36\", \"2019-07-01T23:23:36\", \"2019-07-01T23:24:36\", \"2019-07-01T23:25:36\", \"2019-07-01T23:26:36\", \"2019-07-01T23:27:36\", \"2019-07-01T23:28:36\", \"2019-07-01T23:29:36\", \"2019-07-01T23:30:36\", \"2019-07-01T23:31:36\", \"2019-07-01T23:32:36\", \"2019-07-01T23:33:36\", \"2019-07-01T23:34:36\", \"2019-07-01T23:35:36\", \"2019-07-01T23:36:36\", \"2019-07-01T23:37:36\", \"2019-07-01T23:38:36\", \"2019-07-01T23:39:36\", \"2019-07-01T23:40:36\", \"2019-07-01T23:41:36\", \"2019-07-01T23:42:36\", \"2019-07-01T23:43:36\", \"2019-07-01T23:44:36\", \"2019-07-01T23:45:36\", \"2019-07-01T23:46:36\", \"2019-07-01T23:47:36\", \"2019-07-01T23:48:36\", \"2019-07-01T23:49:36\", \"2019-07-01T23:50:36\", \"2019-07-01T23:51:36\", \"2019-07-01T23:52:36\", \"2019-07-01T23:53:36\", \"2019-07-01T23:54:36\", \"2019-07-01T23:55:36\", \"2019-07-01T23:56:36\", \"2019-07-01T23:57:36\", \"2019-07-01T23:58:36\", \"2019-07-01T23:59:36\", \"2019-07-02T00:00:36\", \"2019-07-02T00:01:36\", \"2019-07-02T00:02:36\", \"2019-07-02T00:03:36\", \"2019-07-02T00:04:36\", \"2019-07-02T00:05:36\", \"2019-07-02T00:06:36\", \"2019-07-02T00:07:36\", \"2019-07-02T00:08:36\", \"2019-07-02T00:09:36\", \"2019-07-02T00:10:36\", \"2019-07-02T00:11:36\", \"2019-07-02T00:12:36\", \"2019-07-02T00:13:36\", \"2019-07-02T00:14:36\", \"2019-07-02T00:15:36\", \"2019-07-02T00:16:36\", \"2019-07-02T00:17:36\", \"2019-07-02T00:18:36\", \"2019-07-02T00:19:36\", \"2019-07-02T00:20:36\", \"2019-07-02T00:21:36\", \"2019-07-02T00:22:36\", \"2019-07-02T00:23:36\", \"2019-07-02T00:24:36\", \"2019-07-02T00:25:36\", \"2019-07-02T00:26:36\", \"2019-07-02T00:27:36\", \"2019-07-02T00:28:36\", \"2019-07-02T00:29:36\", \"2019-07-02T00:30:36\", \"2019-07-02T00:31:36\", \"2019-07-02T00:32:36\", \"2019-07-02T00:33:36\", \"2019-07-02T00:34:36\", \"2019-07-02T00:35:36\", \"2019-07-02T00:36:36\", \"2019-07-02T00:37:36\", \"2019-07-02T00:38:36\", \"2019-07-02T00:39:36\", \"2019-07-02T00:40:36\", \"2019-07-02T00:41:36\", \"2019-07-02T00:42:36\", \"2019-07-02T00:43:36\", \"2019-07-02T00:44:36\", \"2019-07-02T00:45:36\", \"2019-07-02T00:46:36\", \"2019-07-02T00:47:36\", \"2019-07-02T00:48:36\", \"2019-07-02T00:49:36\", \"2019-07-02T00:50:36\", \"2019-07-02T00:51:36\", \"2019-07-02T00:52:36\", \"2019-07-02T00:53:36\", \"2019-07-02T00:54:36\", \"2019-07-02T00:55:36\", \"2019-07-02T00:56:36\", \"2019-07-02T00:57:36\", \"2019-07-02T00:58:36\", \"2019-07-02T00:59:36\", \"2019-07-02T01:00:36\", \"2019-07-02T01:01:36\", \"2019-07-02T01:02:36\", \"2019-07-02T01:03:36\", \"2019-07-02T01:04:36\", \"2019-07-02T01:05:36\", \"2019-07-02T01:06:36\", \"2019-07-02T01:07:36\", \"2019-07-02T01:08:36\", \"2019-07-02T01:09:36\", \"2019-07-02T01:10:36\", \"2019-07-02T01:11:36\", \"2019-07-02T01:12:36\", \"2019-07-02T01:13:36\", \"2019-07-02T01:14:36\", \"2019-07-02T01:15:36\", \"2019-07-02T01:16:36\", \"2019-07-02T01:17:36\", \"2019-07-02T01:18:36\", \"2019-07-02T01:19:36\", \"2019-07-02T01:20:36\", \"2019-07-02T01:21:36\", \"2019-07-02T01:22:36\", \"2019-07-02T01:23:36\", \"2019-07-02T01:24:36\", \"2019-07-02T01:25:36\", \"2019-07-02T01:26:36\", \"2019-07-02T01:27:36\", \"2019-07-02T01:28:36\", \"2019-07-02T01:29:36\", \"2019-07-02T01:30:36\", \"2019-07-02T01:31:36\", \"2019-07-02T01:32:36\", \"2019-07-02T01:33:36\", \"2019-07-02T01:34:36\", \"2019-07-02T01:35:36\", \"2019-07-02T01:36:36\", \"2019-07-02T01:37:36\", \"2019-07-02T01:38:36\", \"2019-07-02T01:39:36\", \"2019-07-02T01:40:36\", \"2019-07-02T01:41:36\", \"2019-07-02T01:42:36\", \"2019-07-02T01:43:36\", \"2019-07-02T01:44:36\", \"2019-07-02T01:45:36\", \"2019-07-02T01:46:36\", \"2019-07-02T01:47:36\", \"2019-07-02T01:48:36\", \"2019-07-02T01:49:36\", \"2019-07-02T01:50:36\", \"2019-07-02T01:51:36\", \"2019-07-02T01:52:36\", \"2019-07-02T01:53:36\", \"2019-07-02T01:54:36\", \"2019-07-02T01:55:36\", \"2019-07-02T01:56:36\", \"2019-07-02T01:57:36\", \"2019-07-02T01:58:36\", \"2019-07-02T01:59:36\", \"2019-07-02T02:00:36\", \"2019-07-02T02:01:36\", \"2019-07-02T02:02:36\", \"2019-07-02T02:03:36\", \"2019-07-02T02:04:36\", \"2019-07-02T02:05:36\", \"2019-07-02T02:06:36\", \"2019-07-02T02:07:36\", \"2019-07-02T02:08:36\", \"2019-07-02T02:09:36\", \"2019-07-02T02:10:36\", \"2019-07-02T02:11:36\", \"2019-07-02T02:12:36\", \"2019-07-02T02:13:36\", \"2019-07-02T02:14:36\", \"2019-07-02T02:15:36\", \"2019-07-02T02:16:36\", \"2019-07-02T02:17:36\", \"2019-07-02T02:18:36\", \"2019-07-02T02:19:36\", \"2019-07-02T02:20:36\", \"2019-07-02T02:21:36\", \"2019-07-02T02:22:36\", \"2019-07-02T02:23:36\", \"2019-07-02T02:24:36\", \"2019-07-02T02:25:36\", \"2019-07-02T02:26:36\", \"2019-07-02T02:27:36\", \"2019-07-02T02:28:36\", \"2019-07-02T02:29:36\", \"2019-07-02T02:30:36\", \"2019-07-02T02:31:36\", \"2019-07-02T02:32:36\", \"2019-07-02T02:33:36\", \"2019-07-02T02:34:36\", \"2019-07-02T02:35:36\", \"2019-07-02T02:36:36\", \"2019-07-02T02:37:36\", \"2019-07-02T02:38:36\", \"2019-07-02T02:39:36\", \"2019-07-02T02:40:36\", \"2019-07-02T02:41:36\", \"2019-07-02T02:42:36\", \"2019-07-02T02:43:36\", \"2019-07-02T02:44:36\", \"2019-07-02T02:45:36\", \"2019-07-02T02:46:36\", \"2019-07-02T02:47:36\", \"2019-07-02T02:48:36\", \"2019-07-02T02:49:36\", \"2019-07-02T02:50:36\", \"2019-07-02T02:51:36\", \"2019-07-02T02:52:36\", \"2019-07-02T02:53:36\", \"2019-07-02T02:54:36\", \"2019-07-02T02:55:36\", \"2019-07-02T02:56:36\", \"2019-07-02T02:57:36\", \"2019-07-02T02:58:36\", \"2019-07-02T02:59:36\", \"2019-07-02T03:00:36\", \"2019-07-02T03:01:36\", \"2019-07-02T03:02:36\", \"2019-07-02T03:03:36\", \"2019-07-02T03:04:36\", \"2019-07-02T03:05:36\", \"2019-07-02T03:06:36\", \"2019-07-02T03:07:36\", \"2019-07-02T03:08:36\", \"2019-07-02T03:09:36\", \"2019-07-02T03:10:36\", \"2019-07-02T03:11:36\", \"2019-07-02T03:12:36\", \"2019-07-02T03:13:36\", \"2019-07-02T03:14:36\", \"2019-07-02T03:15:36\", \"2019-07-02T03:16:36\", \"2019-07-02T03:17:36\", \"2019-07-02T03:18:36\", \"2019-07-02T03:19:36\", \"2019-07-02T03:20:36\", \"2019-07-02T03:21:36\", \"2019-07-02T03:22:36\", \"2019-07-02T03:23:36\", \"2019-07-02T03:24:36\", \"2019-07-02T03:25:36\", \"2019-07-02T03:26:36\", \"2019-07-02T03:27:36\", \"2019-07-02T03:28:36\", \"2019-07-02T03:29:36\", \"2019-07-02T03:30:36\", \"2019-07-02T03:31:36\", \"2019-07-02T03:32:36\", \"2019-07-02T03:33:36\", \"2019-07-02T03:34:36\", \"2019-07-02T03:35:36\", \"2019-07-02T03:36:36\", \"2019-07-02T03:37:36\", \"2019-07-02T03:38:36\", \"2019-07-02T03:39:36\", \"2019-07-02T03:40:36\", \"2019-07-02T03:41:36\", \"2019-07-02T03:42:36\", \"2019-07-02T03:43:36\", \"2019-07-02T03:44:36\", \"2019-07-02T03:45:36\", \"2019-07-02T03:46:36\", \"2019-07-02T03:47:36\", \"2019-07-02T03:48:36\", \"2019-07-02T03:49:36\", \"2019-07-02T03:50:36\", \"2019-07-02T03:51:36\", \"2019-07-02T03:52:36\", \"2019-07-02T03:53:36\", \"2019-07-02T03:54:36\", \"2019-07-02T03:55:36\", \"2019-07-02T03:56:36\", \"2019-07-02T03:57:36\", \"2019-07-02T03:58:36\", \"2019-07-02T03:59:36\", \"2019-07-02T04:00:36\", \"2019-07-02T04:01:36\", \"2019-07-02T04:02:36\", \"2019-07-02T04:03:36\", \"2019-07-02T04:04:36\", \"2019-07-02T04:05:36\", \"2019-07-02T04:06:36\", \"2019-07-02T04:07:36\", \"2019-07-02T04:08:36\", \"2019-07-02T04:09:36\", \"2019-07-02T04:10:36\", \"2019-07-02T04:11:36\", \"2019-07-02T04:12:36\", \"2019-07-02T04:13:36\", \"2019-07-02T04:14:36\", \"2019-07-02T04:15:36\", \"2019-07-02T04:16:36\", \"2019-07-02T04:17:36\", \"2019-07-02T04:18:36\", \"2019-07-02T04:19:36\", \"2019-07-02T04:20:36\", \"2019-07-02T04:21:36\", \"2019-07-02T04:22:36\", \"2019-07-02T04:23:36\", \"2019-07-02T04:24:36\", \"2019-07-02T04:25:36\", \"2019-07-02T04:26:36\", \"2019-07-02T04:27:36\", \"2019-07-02T04:28:36\", \"2019-07-02T04:29:36\", \"2019-07-02T04:30:36\", \"2019-07-02T04:31:36\", \"2019-07-02T04:32:36\", \"2019-07-02T04:33:36\", \"2019-07-02T04:34:36\", \"2019-07-02T04:35:36\", \"2019-07-02T04:36:36\", \"2019-07-02T04:37:36\", \"2019-07-02T04:38:36\", \"2019-07-02T04:39:36\", \"2019-07-02T04:40:36\", \"2019-07-02T04:41:36\", \"2019-07-02T04:42:36\", \"2019-07-02T04:43:36\", \"2019-07-02T04:44:36\", \"2019-07-02T04:45:36\", \"2019-07-02T04:46:36\", \"2019-07-02T04:47:36\", \"2019-07-02T04:48:36\", \"2019-07-02T04:49:36\", \"2019-07-02T04:50:36\", \"2019-07-02T04:51:36\", \"2019-07-02T04:52:36\", \"2019-07-02T04:53:36\", \"2019-07-02T04:54:36\", \"2019-07-02T04:55:36\", \"2019-07-02T04:56:36\", \"2019-07-02T04:57:36\", \"2019-07-02T04:58:36\", \"2019-07-02T04:59:36\", \"2019-07-02T05:00:36\", \"2019-07-02T05:01:36\", \"2019-07-02T05:02:36\", \"2019-07-02T05:03:36\", \"2019-07-02T05:04:36\", \"2019-07-02T05:05:36\", \"2019-07-02T05:06:36\", \"2019-07-02T05:07:36\", \"2019-07-02T05:08:36\", \"2019-07-02T05:09:36\", \"2019-07-02T05:10:36\", \"2019-07-02T05:11:36\", \"2019-07-02T05:12:36\", \"2019-07-02T05:13:36\", \"2019-07-02T05:14:36\", \"2019-07-02T05:15:36\", \"2019-07-02T05:16:36\", \"2019-07-02T05:17:36\", \"2019-07-02T05:18:36\", \"2019-07-02T05:19:36\", \"2019-07-02T05:20:36\", \"2019-07-02T05:21:36\", \"2019-07-02T05:22:36\", \"2019-07-02T05:23:36\", \"2019-07-02T05:24:36\", \"2019-07-02T05:25:36\", \"2019-07-02T05:26:36\", \"2019-07-02T05:27:36\", \"2019-07-02T05:28:36\", \"2019-07-02T05:29:36\", \"2019-07-02T05:30:36\", \"2019-07-02T05:31:36\", \"2019-07-02T05:32:36\", \"2019-07-02T05:33:36\", \"2019-07-02T05:34:36\", \"2019-07-02T05:35:36\", \"2019-07-02T05:36:36\", \"2019-07-02T05:37:36\", \"2019-07-02T05:38:36\", \"2019-07-02T05:39:36\", \"2019-07-02T05:40:36\", \"2019-07-02T05:41:36\", \"2019-07-02T05:42:36\", \"2019-07-02T05:43:36\", \"2019-07-02T05:44:36\", \"2019-07-02T05:45:36\", \"2019-07-02T05:46:36\", \"2019-07-02T05:47:36\", \"2019-07-02T05:48:36\", \"2019-07-02T05:49:36\", \"2019-07-02T05:50:36\", \"2019-07-02T05:51:36\", \"2019-07-02T05:52:36\", \"2019-07-02T05:53:36\", \"2019-07-02T05:54:36\", \"2019-07-02T05:55:36\", \"2019-07-02T05:56:36\", \"2019-07-02T05:57:36\", \"2019-07-02T05:58:36\", \"2019-07-02T05:59:36\", \"2019-07-02T06:00:36\", \"2019-07-02T06:01:36\", \"2019-07-02T06:02:36\", \"2019-07-02T06:03:36\", \"2019-07-02T06:04:36\", \"2019-07-02T06:05:36\", \"2019-07-02T06:06:36\", \"2019-07-02T06:07:36\", \"2019-07-02T06:08:36\", \"2019-07-02T06:09:36\", \"2019-07-02T06:10:36\", \"2019-07-02T06:11:36\", \"2019-07-02T06:12:36\", \"2019-07-02T06:13:36\", \"2019-07-02T06:14:36\", \"2019-07-02T06:15:36\", \"2019-07-02T06:16:36\", \"2019-07-02T06:17:36\", \"2019-07-02T06:18:36\", \"2019-07-02T06:19:36\", \"2019-07-02T06:20:36\", \"2019-07-02T06:21:36\", \"2019-07-02T06:22:36\", \"2019-07-02T06:23:36\", \"2019-07-02T06:24:36\", \"2019-07-02T06:25:36\", \"2019-07-02T06:26:36\", \"2019-07-02T06:27:36\", \"2019-07-02T06:28:36\", \"2019-07-02T06:29:36\", \"2019-07-02T06:30:36\", \"2019-07-02T06:31:36\", \"2019-07-02T06:32:36\", \"2019-07-02T06:33:36\", \"2019-07-02T06:34:36\", \"2019-07-02T06:35:36\", \"2019-07-02T06:36:36\", \"2019-07-02T06:37:36\", \"2019-07-02T06:38:36\", \"2019-07-02T06:39:36\", \"2019-07-02T06:40:36\", \"2019-07-02T06:41:36\", \"2019-07-02T06:42:36\", \"2019-07-02T06:43:36\", \"2019-07-02T06:44:36\", \"2019-07-02T06:45:36\", \"2019-07-02T06:46:36\", \"2019-07-02T06:47:36\", \"2019-07-02T06:48:36\", \"2019-07-02T06:49:36\", \"2019-07-02T06:50:36\", \"2019-07-02T06:51:36\", \"2019-07-02T06:52:36\", \"2019-07-02T06:53:36\", \"2019-07-02T06:54:36\", \"2019-07-02T06:55:36\", \"2019-07-02T06:56:36\", \"2019-07-02T06:57:36\", \"2019-07-02T06:58:36\", \"2019-07-02T06:59:36\", \"2019-07-02T07:00:36\", \"2019-07-02T07:01:36\", \"2019-07-02T07:02:36\", \"2019-07-02T07:03:36\", \"2019-07-02T07:04:36\", \"2019-07-02T07:05:36\", \"2019-07-02T07:06:36\", \"2019-07-02T07:07:36\", \"2019-07-02T07:08:36\", \"2019-07-02T07:09:36\", \"2019-07-02T07:10:36\", \"2019-07-02T07:11:36\", \"2019-07-02T07:12:36\", \"2019-07-02T07:13:36\", \"2019-07-02T07:14:36\", \"2019-07-02T07:15:36\", \"2019-07-02T07:16:36\", \"2019-07-02T07:17:36\", \"2019-07-02T07:18:36\", \"2019-07-02T07:19:36\", \"2019-07-02T07:20:36\", \"2019-07-02T07:21:36\", \"2019-07-02T07:22:36\", \"2019-07-02T07:23:36\", \"2019-07-02T07:24:36\", \"2019-07-02T07:25:36\", \"2019-07-02T07:26:36\", \"2019-07-02T07:27:36\", \"2019-07-02T07:28:36\", \"2019-07-02T07:29:36\", \"2019-07-02T07:30:36\", \"2019-07-02T07:31:36\", \"2019-07-02T07:32:36\", \"2019-07-02T07:33:36\", \"2019-07-02T07:34:36\", \"2019-07-02T07:35:36\", \"2019-07-02T07:36:36\", \"2019-07-02T07:37:36\", \"2019-07-02T07:38:36\", \"2019-07-02T07:39:36\", \"2019-07-02T07:40:36\", \"2019-07-02T07:41:36\", \"2019-07-02T07:42:36\", \"2019-07-02T07:43:36\", \"2019-07-02T07:44:36\", \"2019-07-02T07:45:36\", \"2019-07-02T07:46:36\", \"2019-07-02T07:47:36\", \"2019-07-02T07:48:36\", \"2019-07-02T07:49:36\", \"2019-07-02T07:50:36\", \"2019-07-02T07:51:36\", \"2019-07-02T07:52:36\", \"2019-07-02T07:53:36\", \"2019-07-02T07:54:36\", \"2019-07-02T07:55:36\", \"2019-07-02T07:56:36\", \"2019-07-02T07:57:36\", \"2019-07-02T07:58:36\", \"2019-07-02T07:59:36\", \"2019-07-02T08:00:36\", \"2019-07-02T08:01:36\", \"2019-07-02T08:02:36\", \"2019-07-02T08:03:36\", \"2019-07-02T08:04:36\", \"2019-07-02T08:05:36\", \"2019-07-02T08:06:36\", \"2019-07-02T08:07:36\", \"2019-07-02T08:08:36\", \"2019-07-02T08:09:36\", \"2019-07-02T08:10:36\", \"2019-07-02T08:11:36\", \"2019-07-02T08:12:36\", \"2019-07-02T08:13:36\", \"2019-07-02T08:14:36\", \"2019-07-02T08:15:36\", \"2019-07-02T08:16:36\", \"2019-07-02T08:17:36\", \"2019-07-02T08:18:36\", \"2019-07-02T08:19:36\", \"2019-07-02T08:20:36\", \"2019-07-02T08:21:36\", \"2019-07-02T08:22:36\", \"2019-07-02T08:23:36\", \"2019-07-02T08:24:36\", \"2019-07-02T08:25:36\", \"2019-07-02T08:26:36\", \"2019-07-02T08:27:36\", \"2019-07-02T08:28:36\", \"2019-07-02T08:29:36\", \"2019-07-02T08:30:36\", \"2019-07-02T08:31:36\", \"2019-07-02T08:32:36\", \"2019-07-02T08:33:36\", \"2019-07-02T08:34:36\", \"2019-07-02T08:35:36\", \"2019-07-02T08:36:36\", \"2019-07-02T08:37:36\", \"2019-07-02T08:38:36\", \"2019-07-02T08:39:36\", \"2019-07-02T08:40:36\", \"2019-07-02T08:41:36\", \"2019-07-02T08:42:36\", \"2019-07-02T08:43:36\", \"2019-07-02T08:44:36\", \"2019-07-02T08:45:36\", \"2019-07-02T08:46:36\", \"2019-07-02T08:47:36\", \"2019-07-02T08:48:36\", \"2019-07-02T08:49:36\", \"2019-07-02T08:50:36\", \"2019-07-02T08:51:36\", \"2019-07-02T08:52:36\", \"2019-07-02T08:53:36\", \"2019-07-02T08:54:36\", \"2019-07-02T08:55:36\", \"2019-07-02T08:56:36\", \"2019-07-02T08:57:36\", \"2019-07-02T08:58:36\", \"2019-07-02T08:59:36\", \"2019-07-02T09:00:36\", \"2019-07-02T09:01:36\", \"2019-07-02T09:02:36\", \"2019-07-02T09:03:36\", \"2019-07-02T09:04:36\", \"2019-07-02T09:05:36\", \"2019-07-02T09:06:36\", \"2019-07-02T09:07:36\", \"2019-07-02T09:08:36\", \"2019-07-02T09:09:36\", \"2019-07-02T09:10:36\", \"2019-07-02T09:11:36\", \"2019-07-02T09:12:36\", \"2019-07-02T09:13:36\", \"2019-07-02T09:14:36\", \"2019-07-02T09:15:36\", \"2019-07-02T09:16:36\", \"2019-07-02T09:17:36\", \"2019-07-02T09:18:36\", \"2019-07-02T09:19:36\", \"2019-07-02T09:20:36\", \"2019-07-02T09:21:36\", \"2019-07-02T09:22:36\", \"2019-07-02T09:23:36\", \"2019-07-02T09:24:36\", \"2019-07-02T09:25:36\", \"2019-07-02T09:26:36\", \"2019-07-02T09:27:36\", \"2019-07-02T09:28:36\", \"2019-07-02T09:29:36\", \"2019-07-02T09:30:36\", \"2019-07-02T09:31:36\", \"2019-07-02T09:32:36\", \"2019-07-02T09:33:36\", \"2019-07-02T09:34:36\", \"2019-07-02T09:35:36\", \"2019-07-02T09:36:36\", \"2019-07-02T09:37:36\", \"2019-07-02T09:38:36\", \"2019-07-02T09:39:36\", \"2019-07-02T09:40:36\", \"2019-07-02T09:41:36\", \"2019-07-02T09:42:36\", \"2019-07-02T09:43:36\", \"2019-07-02T09:44:36\", \"2019-07-02T09:45:36\", \"2019-07-02T09:46:36\", \"2019-07-02T09:47:36\", \"2019-07-02T09:48:36\", \"2019-07-02T09:49:36\", \"2019-07-02T09:50:36\", \"2019-07-02T09:51:36\", \"2019-07-02T09:52:36\", \"2019-07-02T09:53:36\", \"2019-07-02T09:54:36\", \"2019-07-02T09:55:36\", \"2019-07-02T09:56:36\", \"2019-07-02T09:57:36\", \"2019-07-02T09:58:36\", \"2019-07-02T09:59:36\", \"2019-07-02T10:00:36\", \"2019-07-02T10:01:36\", \"2019-07-02T10:02:36\", \"2019-07-02T10:03:36\", \"2019-07-02T10:04:36\", \"2019-07-02T10:05:36\", \"2019-07-02T10:06:36\", \"2019-07-02T10:07:36\", \"2019-07-02T10:08:36\", \"2019-07-02T10:09:36\", \"2019-07-02T10:10:36\", \"2019-07-02T10:11:36\", \"2019-07-02T10:12:36\", \"2019-07-02T10:13:36\", \"2019-07-02T10:14:36\", \"2019-07-02T10:15:36\", \"2019-07-02T10:16:36\", \"2019-07-02T10:17:36\", \"2019-07-02T10:18:36\", \"2019-07-02T10:19:36\", \"2019-07-02T10:20:36\", \"2019-07-02T10:21:36\", \"2019-07-02T10:22:36\", \"2019-07-02T10:23:36\", \"2019-07-02T10:24:36\", \"2019-07-02T10:25:36\", \"2019-07-02T10:26:36\", \"2019-07-02T10:27:36\", \"2019-07-02T10:28:36\", \"2019-07-02T10:29:36\", \"2019-07-02T10:30:36\", \"2019-07-02T10:31:36\", \"2019-07-02T10:32:36\", \"2019-07-02T10:33:36\", \"2019-07-02T10:34:36\", \"2019-07-02T10:35:36\", \"2019-07-02T10:36:36\", \"2019-07-02T10:37:36\", \"2019-07-02T10:38:36\", \"2019-07-02T10:39:36\", \"2019-07-02T10:40:36\", \"2019-07-02T10:41:36\", \"2019-07-02T10:42:36\", \"2019-07-02T10:43:36\", \"2019-07-02T10:44:36\", \"2019-07-02T10:45:36\", \"2019-07-02T10:46:36\", \"2019-07-02T10:47:36\", \"2019-07-02T10:48:36\", \"2019-07-02T10:49:36\", \"2019-07-02T10:50:36\", \"2019-07-02T10:51:36\", \"2019-07-02T10:52:36\", \"2019-07-02T10:53:36\", \"2019-07-02T10:54:36\", \"2019-07-02T10:55:36\", \"2019-07-02T10:56:36\", \"2019-07-02T10:57:36\", \"2019-07-02T10:58:36\", \"2019-07-02T10:59:36\", \"2019-07-02T11:00:36\", \"2019-07-02T11:01:36\", \"2019-07-02T11:02:36\", \"2019-07-02T11:03:36\", \"2019-07-02T11:04:36\", \"2019-07-02T11:05:36\", \"2019-07-02T11:06:36\", \"2019-07-02T11:07:36\", \"2019-07-02T11:08:36\", \"2019-07-02T11:09:36\"], \"xaxis\": \"x\", \"y\": [0, 0, 0, 0, 0, 0, 0, 0, 0, 0, 0, 0, 0, 0, 0, 0, 0, 0, 0, 0, 0, 0, 0, 0, 0, 0, 0, 0, 0, 0, 0, 0, 0, 0, 0, 0, 0, 0, 0, 0, 0, 0, 0, 0, 0, 0, 0, 0, 0, 0, 0, 0, 0, 0, 0, 0, 0, 0, 0, 0, 0, 0, 0, 0, 0, 0, 0, 0, 0, 0, 0, 0, 0, 0, 0, 0, 0, 0, 0, 0, 0, 50, 50, 50, 50, 0, 0, 0, 0, 50, 50, 50, 50, 50, 50, 50, 50, 50, 50, 50, 50, 50, 50, 50, 50, 50, 50, 50, 50, 50, 50, 50, 100, 50, 50, 50, 50, 50, 50, 50, 50, 50, 50, 50, 50, 100, 100, 100, 50, 50, 100, 100, 100, 100, 100, 100, 150, 150, 150, 150, 100, 100, 100, 100, 100, 100, 100, 100, 100, 50, 50, 50, 50, 50, 50, 0, 0, 0, 0, 0, 0, 0, 50, 50, 50, 50, 50, 50, 50, 50, 50, 50, 50, 150, 150, 150, 150, 150, 150, 150, 150, 150, 150, 150, 150, 150, 150, 150, 150, 200, 250, 200, 200, 250, 300, 300, 300, 300, 300, 250, 200, 250, 250, 250, 350, 400, 400, 350, 350, 350, 400, 450, 450, 400, 400, 450, 400, 400, 400, 350, 300, 350, 350, 350, 300, 350, 400, 400, 450, 400, 400, 400, 400, 450, 450, 450, 450, 400, 450, 400, 400, 400, 400, 400, 550, 550, 550, 550, 550, 550, 600, 600, 500, 550, 600, 600, 550, 550, 550, 550, 550, 650, 700, 700, 700, 750, 650, 750, 800, 950, 900, 950, 950, 800, 900, 1150, 1150, 1150, 1150, 1100, 1200, 1250, 1100, 1000, 1150, 1250, 1250, 1200, 1200, 1300, 1200, 1250, 1350, 1400, 1400, 1250, 1150, 1100, 1050, 1100, 1200, 1250, 1300, 1350, 1350, 1350, 1350, 1300, 1150, 1200, 1050, 1000, 1000, 1200, 1200, 1300, 1300, 1100, 1000, 1000, 1200, 1100, 1200, 1200, 1200, 1200, 1200, 1150, 1150, 1200, 1100, 1100, 1150, 1150, 1250, 1300, 1300, 1450, 1350, 1450, 1400, 1450, 1500, 1450, 1500, 1450, 1450, 1500, 1550, 1400, 1400, 1600, 1700, 1800, 1800, 1800, 1700, 1650, 1850, 1800, 1850, 2100, 2450, 2400, 2400, 2350, 2400, 2300, 2450, 2550, 2650, 2650, 3050, 3000, 2850, 2800, 2850, 3000, 2900, 3050, 2700, 2950, 2800, 2800, 2750, 2850, 2950, 3450, 3350, 3200, 2900, 3050, 3100, 3150, 3350, 3100, 3000, 3100, 2950, 2950, 2950, 2650, 2800, 2950, 3050, 3100, 3100, 3200, 3050, 3100, 3250, 3250, 3500, 3400, 3350, 3350, 3450, 3450, 3650, 3550, 3350, 3250, 3150, 3150, 3350, 3000, 2950, 3000, 2850, 2850, 2950, 2800, 2950, 2950, 2700, 2500, 2450, 2400, 2350, 2300, 2400, 2550, 2400, 2200, 2300, 2350, 2250, 2250, 2200, 2250, 2100, 2000, 1900, 1950, 2100, 1950, 2000, 2150, 2100, 1900, 1800, 1800, 1950, 2050, 2000, 2000, 2050, 1950, 1950, 1950, 1850, 1850, 2000, 1900, 1850, 1850, 1750, 1600, 1700, 1700, 1700, 1550, 1700, 1550, 1450, 1550, 1300, 1350, 1250, 1400, 1450, 1400, 1300, 1300, 1350, 1300, 1300, 1150, 1150, 1150, 1200, 1250, 1300, 1200, 1200, 1100, 1050, 950, 850, 950, 950, 850, 800, 850, 850, 800, 700, 800, 850, 850, 750, 750, 650, 800, 900, 800, 800, 900, 850, 750, 800, 800, 800, 850, 800, 800, 850, 750, 600, 550, 650, 700, 700, 700, 650, 500, 500, 450, 400, 400, 350, 450, 450, 400, 400, 450, 350, 400, 450, 400, 400, 350, 350, 400, 350, 400, 450, 400, 350, 450, 500, 500, 500, 500, 450, 500, 450, 400, 450, 550, 500, 500, 500, 450, 500, 500, 450, 450, 450, 450, 400, 400, 300, 400, 450, 450, 400, 400, 400, 450, 450, 450, 400, 400, 450, 500, 500, 500, 500, 500, 500, 400, 350, 400, 400, 300, 350, 450, 400, 350, 450, 450, 450, 400, 450, 500, 450, 450, 450, 450, 450, 450, 500, 450, 450, 450, 400, 450, 350, 350, 350, 300, 300, 250, 250, 250, 200, 200, 250, 250, 200, 200, 200, 250, 250, 250, 250, 200, 200, 200, 200, 200, 200, 200, 150, 150, 200, 200, 200, 200, 200, 200, 200, 200, 200, 150, 150, 150, 150, 150, 100, 150, 150, 150, 150, 100, 100, 150, 150, 150, 150, 150, 150, 150, 150, 100, 100, 50, 100, 100, 150, 150, 150, 150, 150, 150, 100, 100, 150, 150, 150, 150, 100, 150, 150, 150, 150, 150, 100, 100, 100, 100, 100, 100, 50, 100, 100, 50, 100, 100, 100, 100, 100, 100, 100, 100, 100, 100, 100, 100, 100, 100, 100, 100, 100, 50, 100, 100, 50, 100, 100, 100, 100, 100, 100, 100, 100, 100, 100, 100, 100, 100, 100, 100, 100, 50, 100, 100, 100, 50, 100, 100, 100, 100, 100, 100, 100, 100, 100, 100, 100, 100, 100, 50, 100, 100, 100, 50, 100, 100, 100, 100, 100, 100, 100, 100, 100, 100, 50, 100, 100, 100, 100, 100, 100, 100, 100, 100, 50, 100, 100, 100, 100, 50, 100, 100, 100, 100, 100, 100, 100, 100, 100, 100, 100, 100, 100, 100, 50, 100, 100, 50, 100, 100, 100, 100, 150, 150, 150, 150, 150, 150, 150, 150, 150, 150, 150, 150, 150, 50, 150, 100, 100, 100, 100, 100, 100, 100, 100, 100, 100, 100, 100, 100, 100, 100, 100, 100, 50, 50, 100, 100, 100, 100, 100, 100, 100, 100, 100, 100, 100, 100, 100, 50, 100, 100, 50, 100, 100, 100, 100, 100, 100, 100, 100, 100, 100, 50, 100, 100, 100, 100, 100, 100, 100, 100, 100, 100, 100, 50, 100, 50, 50, 100, 100, 100, 100, 100, 100, 100, 100, 100, 100, 100, 100, 100, 100, 100, 100, 50, 0, 100, 100, 100, 100, 100, 100, 100, 100, 100, 100, 100, 100, 100, 100, 100, 100, 100, 100, 100, 100, 100, 100, 50, 100, 100, 100, 100, 100, 100, 100, 100, 100, 100, 100, 100, 100, 100, 100, 100, 100, 100, 100, 50, 100, 100, 100, 100, 100, 100, 100, 100, 100, 100, 100, 50, 50, 100, 100, 100, 100, 100, 100, 100, 50, 100, 50, 100, 100, 100, 100, 100, 100, 100, 50, 100, 100, 100, 100, 100, 100, 100, 100, 50, 100, 50, 50, 100, 100, 100, 100, 100, 100, 100, 100, 100, 100, 100, 100, 100, 100, 100, 100, 50, 100, 100, 100, 50, 100, 100, 100, 50, 100, 100, 100, 100, 100, 100, 50, 50, 100, 100, 100, 100, 100, 100, 100, 100, 100, 50, 50, 100, 100, 100, 100, 100, 100, 100, 100, 50, 100, 100, 100, 100, 100, 100, 50, 50, 100, 100, 100, 100, 100, 100, 100, 100, 100, 100, 50, 50, 100, 100, 100, 100, 100, 100, 100, 100, 100, 100, 100, 100, 100, 50, 50, 100, 100, 50, 100, 100, 100, 100, 100, 100, 100, 100, 50, 50, 50, 50, 50, 50, 50, 50, 50, 50, 50, 50, 0, 50, 50, 50, 50, 50, 50, 50, 50, 50, 50, 50, 50, 50, 50, 50, 50, 50, 50, 50, 0, 50, 50, 50, 50, 50, 50, 50, 50, 50, 50, 50, 50, 50, 50, 50, 50, 50, 50, 50, 50, 50, 50, 0, 0, 50, 50, 50, 50, 50, 50, 50, 50, 50, 50, 0, 50, 50, 50, 50, 50, 50, 50, 50, 0, 50, 50, 50, 50, 50, 50, 50, 50, 50, 50, 50, 50, 0, 0, 50, 50, 50, 50, 50, 50, 50, 50, 50, 50, 50, 50, 50, 50, 0, 50, 50, 50, 50, 50, 50, 50, 50, 50, 50, 50, 50, 50, 50, 50, 50, 50, 50, 50, 0, 50, 50, 50, 50, 50, 50, 50, 50, 50, 50, 50, 50, 50, 50, 50, 50, 0, 0, 50, 50, 50, 50, 50, 50, 50, 50, 50, 50, 50, 50, 0, 50, 50, 50, 50, 50, 50, 50, 50, 50, 50, 50, 50, 0, 50, 50, 50, 50, 50, 50, 50, 50, 50, 50, 50, 50, 0, 50, 50, 50, 50, 50, 50, 50, 50, 50, 50, 0, 50, 50, 50, 50, 50, 50, 50, 50, 50, 50, 50, 50, 0, 0, 0, 0, 0, 0, 0, 0, 0, 0, 0, 0, 0, 0, 0, 0, 0, 0, 0, 0, 0, 0, 0, 0, 0, 0, 0, 0, 0, 0, 0, 0, 0, 0, 0, 0, 0, 0, 0, 0, 0, 0, 0, 0, 0, 0, 0, 0, 0, 0, 0, 0], \"yaxis\": \"y\"}, {\"hovertemplate\": \"global_seed=123<br>datetime=%{x}<br>total_power=%{y}<extra></extra>\", \"legendgroup\": \"123\", \"line\": {\"color\": \"#EF553B\", \"dash\": \"solid\"}, \"mode\": \"lines\", \"name\": \"123\", \"showlegend\": true, \"type\": \"scattergl\", \"x\": [\"2019-07-01T07:43:31\", \"2019-07-01T07:44:31\", \"2019-07-01T07:45:31\", \"2019-07-01T07:46:31\", \"2019-07-01T07:47:31\", \"2019-07-01T07:48:31\", \"2019-07-01T07:49:31\", \"2019-07-01T07:50:31\", \"2019-07-01T07:51:31\", \"2019-07-01T07:52:31\", \"2019-07-01T07:53:31\", \"2019-07-01T07:54:31\", \"2019-07-01T07:55:31\", \"2019-07-01T07:56:31\", \"2019-07-01T07:57:31\", \"2019-07-01T07:58:31\", \"2019-07-01T07:59:31\", \"2019-07-01T08:00:31\", \"2019-07-01T08:01:31\", \"2019-07-01T08:02:31\", \"2019-07-01T08:03:31\", \"2019-07-01T08:04:31\", \"2019-07-01T08:05:31\", \"2019-07-01T08:06:31\", \"2019-07-01T08:07:31\", \"2019-07-01T08:08:31\", \"2019-07-01T08:09:31\", \"2019-07-01T08:10:31\", \"2019-07-01T08:11:31\", \"2019-07-01T08:12:31\", \"2019-07-01T08:13:31\", \"2019-07-01T08:14:31\", \"2019-07-01T08:15:31\", \"2019-07-01T08:16:31\", \"2019-07-01T08:17:31\", \"2019-07-01T08:18:31\", \"2019-07-01T08:19:31\", \"2019-07-01T08:20:31\", \"2019-07-01T08:21:31\", \"2019-07-01T08:22:31\", \"2019-07-01T08:23:31\", \"2019-07-01T08:24:31\", \"2019-07-01T08:25:31\", \"2019-07-01T08:26:31\", \"2019-07-01T08:27:31\", \"2019-07-01T08:28:31\", \"2019-07-01T08:29:31\", \"2019-07-01T08:30:31\", \"2019-07-01T08:31:31\", \"2019-07-01T08:32:31\", \"2019-07-01T08:33:31\", \"2019-07-01T08:34:31\", \"2019-07-01T08:35:31\", \"2019-07-01T08:36:31\", \"2019-07-01T08:37:31\", \"2019-07-01T08:38:31\", \"2019-07-01T08:39:31\", \"2019-07-01T08:40:31\", \"2019-07-01T08:41:31\", \"2019-07-01T08:42:31\", \"2019-07-01T08:43:31\", \"2019-07-01T08:44:31\", \"2019-07-01T08:45:31\", \"2019-07-01T08:46:31\", \"2019-07-01T08:47:31\", \"2019-07-01T08:48:31\", \"2019-07-01T08:49:31\", \"2019-07-01T08:50:31\", \"2019-07-01T08:51:31\", \"2019-07-01T08:52:31\", \"2019-07-01T08:53:31\", \"2019-07-01T08:54:31\", \"2019-07-01T08:55:31\", \"2019-07-01T08:56:31\", \"2019-07-01T08:57:31\", \"2019-07-01T08:58:31\", \"2019-07-01T08:59:31\", \"2019-07-01T09:00:31\", \"2019-07-01T09:01:31\", \"2019-07-01T09:02:31\", \"2019-07-01T09:03:31\", \"2019-07-01T09:04:31\", \"2019-07-01T09:05:31\", \"2019-07-01T09:06:31\", \"2019-07-01T09:07:31\", \"2019-07-01T09:08:31\", \"2019-07-01T09:09:31\", \"2019-07-01T09:10:31\", \"2019-07-01T09:11:31\", \"2019-07-01T09:12:31\", \"2019-07-01T09:13:31\", \"2019-07-01T09:14:31\", \"2019-07-01T09:15:31\", \"2019-07-01T09:16:31\", \"2019-07-01T09:17:31\", \"2019-07-01T09:18:31\", \"2019-07-01T09:19:31\", \"2019-07-01T09:20:31\", \"2019-07-01T09:21:31\", \"2019-07-01T09:22:31\", \"2019-07-01T09:23:31\", \"2019-07-01T09:24:31\", \"2019-07-01T09:25:31\", \"2019-07-01T09:26:31\", \"2019-07-01T09:27:31\", \"2019-07-01T09:28:31\", \"2019-07-01T09:29:31\", \"2019-07-01T09:30:31\", \"2019-07-01T09:31:31\", \"2019-07-01T09:32:31\", \"2019-07-01T09:33:31\", \"2019-07-01T09:34:31\", \"2019-07-01T09:35:31\", \"2019-07-01T09:36:31\", \"2019-07-01T09:37:31\", \"2019-07-01T09:38:31\", \"2019-07-01T09:39:31\", \"2019-07-01T09:40:31\", \"2019-07-01T09:41:31\", \"2019-07-01T09:42:31\", \"2019-07-01T09:43:31\", \"2019-07-01T09:44:31\", \"2019-07-01T09:45:31\", \"2019-07-01T09:46:31\", \"2019-07-01T09:47:31\", \"2019-07-01T09:48:31\", \"2019-07-01T09:49:31\", \"2019-07-01T09:50:31\", \"2019-07-01T09:51:31\", \"2019-07-01T09:52:31\", \"2019-07-01T09:53:31\", \"2019-07-01T09:54:31\", \"2019-07-01T09:55:31\", \"2019-07-01T09:56:31\", \"2019-07-01T09:57:31\", \"2019-07-01T09:58:31\", \"2019-07-01T09:59:31\", \"2019-07-01T10:00:31\", \"2019-07-01T10:01:31\", \"2019-07-01T10:02:31\", \"2019-07-01T10:03:31\", \"2019-07-01T10:04:31\", \"2019-07-01T10:05:31\", \"2019-07-01T10:06:31\", \"2019-07-01T10:07:31\", \"2019-07-01T10:08:31\", \"2019-07-01T10:09:31\", \"2019-07-01T10:10:31\", \"2019-07-01T10:11:31\", \"2019-07-01T10:12:31\", \"2019-07-01T10:13:31\", \"2019-07-01T10:14:31\", \"2019-07-01T10:15:31\", \"2019-07-01T10:16:31\", \"2019-07-01T10:17:31\", \"2019-07-01T10:18:31\", \"2019-07-01T10:19:31\", \"2019-07-01T10:20:31\", \"2019-07-01T10:21:31\", \"2019-07-01T10:22:31\", \"2019-07-01T10:23:31\", \"2019-07-01T10:24:31\", \"2019-07-01T10:25:31\", \"2019-07-01T10:26:31\", \"2019-07-01T10:27:31\", \"2019-07-01T10:28:31\", \"2019-07-01T10:29:31\", \"2019-07-01T10:30:31\", \"2019-07-01T10:31:31\", \"2019-07-01T10:32:31\", \"2019-07-01T10:33:31\", \"2019-07-01T10:34:31\", \"2019-07-01T10:35:31\", \"2019-07-01T10:36:31\", \"2019-07-01T10:37:31\", \"2019-07-01T10:38:31\", \"2019-07-01T10:39:31\", \"2019-07-01T10:40:31\", \"2019-07-01T10:41:31\", \"2019-07-01T10:42:31\", \"2019-07-01T10:43:31\", \"2019-07-01T10:44:31\", \"2019-07-01T10:45:31\", \"2019-07-01T10:46:31\", \"2019-07-01T10:47:31\", \"2019-07-01T10:48:31\", \"2019-07-01T10:49:31\", \"2019-07-01T10:50:31\", \"2019-07-01T10:51:31\", \"2019-07-01T10:52:31\", \"2019-07-01T10:53:31\", \"2019-07-01T10:54:31\", \"2019-07-01T10:55:31\", \"2019-07-01T10:56:31\", \"2019-07-01T10:57:31\", \"2019-07-01T10:58:31\", \"2019-07-01T10:59:31\", \"2019-07-01T11:00:31\", \"2019-07-01T11:01:31\", \"2019-07-01T11:02:31\", \"2019-07-01T11:03:31\", \"2019-07-01T11:04:31\", \"2019-07-01T11:05:31\", \"2019-07-01T11:06:31\", \"2019-07-01T11:07:31\", \"2019-07-01T11:08:31\", \"2019-07-01T11:09:31\", \"2019-07-01T11:10:31\", \"2019-07-01T11:11:31\", \"2019-07-01T11:12:31\", \"2019-07-01T11:13:31\", \"2019-07-01T11:14:31\", \"2019-07-01T11:15:31\", \"2019-07-01T11:16:31\", \"2019-07-01T11:17:31\", \"2019-07-01T11:18:31\", \"2019-07-01T11:19:31\", \"2019-07-01T11:20:31\", \"2019-07-01T11:21:31\", \"2019-07-01T11:22:31\", \"2019-07-01T11:23:31\", \"2019-07-01T11:24:31\", \"2019-07-01T11:25:31\", \"2019-07-01T11:26:31\", \"2019-07-01T11:27:31\", \"2019-07-01T11:28:31\", \"2019-07-01T11:29:31\", \"2019-07-01T11:30:31\", \"2019-07-01T11:31:31\", \"2019-07-01T11:32:31\", \"2019-07-01T11:33:31\", \"2019-07-01T11:34:31\", \"2019-07-01T11:35:31\", \"2019-07-01T11:36:31\", \"2019-07-01T11:37:31\", \"2019-07-01T11:38:31\", \"2019-07-01T11:39:31\", \"2019-07-01T11:40:31\", \"2019-07-01T11:41:31\", \"2019-07-01T11:42:31\", \"2019-07-01T11:43:31\", \"2019-07-01T11:44:31\", \"2019-07-01T11:45:31\", \"2019-07-01T11:46:31\", \"2019-07-01T11:47:31\", \"2019-07-01T11:48:31\", \"2019-07-01T11:49:31\", \"2019-07-01T11:50:31\", \"2019-07-01T11:51:31\", \"2019-07-01T11:52:31\", \"2019-07-01T11:53:31\", \"2019-07-01T11:54:31\", \"2019-07-01T11:55:31\", \"2019-07-01T11:56:31\", \"2019-07-01T11:57:31\", \"2019-07-01T11:58:31\", \"2019-07-01T11:59:31\", \"2019-07-01T12:00:31\", \"2019-07-01T12:01:31\", \"2019-07-01T12:02:31\", \"2019-07-01T12:03:31\", \"2019-07-01T12:04:31\", \"2019-07-01T12:05:31\", \"2019-07-01T12:06:31\", \"2019-07-01T12:07:31\", \"2019-07-01T12:08:31\", \"2019-07-01T12:09:31\", \"2019-07-01T12:10:31\", \"2019-07-01T12:11:31\", \"2019-07-01T12:12:31\", \"2019-07-01T12:13:31\", \"2019-07-01T12:14:31\", \"2019-07-01T12:15:31\", \"2019-07-01T12:16:31\", \"2019-07-01T12:17:31\", \"2019-07-01T12:18:31\", \"2019-07-01T12:19:31\", \"2019-07-01T12:20:31\", \"2019-07-01T12:21:31\", \"2019-07-01T12:22:31\", \"2019-07-01T12:23:31\", \"2019-07-01T12:24:31\", \"2019-07-01T12:25:31\", \"2019-07-01T12:26:31\", \"2019-07-01T12:27:31\", \"2019-07-01T12:28:31\", \"2019-07-01T12:29:31\", \"2019-07-01T12:30:31\", \"2019-07-01T12:31:31\", \"2019-07-01T12:32:31\", \"2019-07-01T12:33:31\", \"2019-07-01T12:34:31\", \"2019-07-01T12:35:31\", \"2019-07-01T12:36:31\", \"2019-07-01T12:37:31\", \"2019-07-01T12:38:31\", \"2019-07-01T12:39:31\", \"2019-07-01T12:40:31\", \"2019-07-01T12:41:31\", \"2019-07-01T12:42:31\", \"2019-07-01T12:43:31\", \"2019-07-01T12:44:31\", \"2019-07-01T12:45:31\", \"2019-07-01T12:46:31\", \"2019-07-01T12:47:31\", \"2019-07-01T12:48:31\", \"2019-07-01T12:49:31\", \"2019-07-01T12:50:31\", \"2019-07-01T12:51:31\", \"2019-07-01T12:52:31\", \"2019-07-01T12:53:31\", \"2019-07-01T12:54:31\", \"2019-07-01T12:55:31\", \"2019-07-01T12:56:31\", \"2019-07-01T12:57:31\", \"2019-07-01T12:58:31\", \"2019-07-01T12:59:31\", \"2019-07-01T13:00:31\", \"2019-07-01T13:01:31\", \"2019-07-01T13:02:31\", \"2019-07-01T13:03:31\", \"2019-07-01T13:04:31\", \"2019-07-01T13:05:31\", \"2019-07-01T13:06:31\", \"2019-07-01T13:07:31\", \"2019-07-01T13:08:31\", \"2019-07-01T13:09:31\", \"2019-07-01T13:10:31\", \"2019-07-01T13:11:31\", \"2019-07-01T13:12:31\", \"2019-07-01T13:13:31\", \"2019-07-01T13:14:31\", \"2019-07-01T13:15:31\", \"2019-07-01T13:16:31\", \"2019-07-01T13:17:31\", \"2019-07-01T13:18:31\", \"2019-07-01T13:19:31\", \"2019-07-01T13:20:31\", \"2019-07-01T13:21:31\", \"2019-07-01T13:22:31\", \"2019-07-01T13:23:31\", \"2019-07-01T13:24:31\", \"2019-07-01T13:25:31\", \"2019-07-01T13:26:31\", \"2019-07-01T13:27:31\", \"2019-07-01T13:28:31\", \"2019-07-01T13:29:31\", \"2019-07-01T13:30:31\", \"2019-07-01T13:31:31\", \"2019-07-01T13:32:31\", \"2019-07-01T13:33:31\", \"2019-07-01T13:34:31\", \"2019-07-01T13:35:31\", \"2019-07-01T13:36:31\", \"2019-07-01T13:37:31\", \"2019-07-01T13:38:31\", \"2019-07-01T13:39:31\", \"2019-07-01T13:40:31\", \"2019-07-01T13:41:31\", \"2019-07-01T13:42:31\", \"2019-07-01T13:43:31\", \"2019-07-01T13:44:31\", \"2019-07-01T13:45:31\", \"2019-07-01T13:46:31\", \"2019-07-01T13:47:31\", \"2019-07-01T13:48:31\", \"2019-07-01T13:49:31\", \"2019-07-01T13:50:31\", \"2019-07-01T13:51:31\", \"2019-07-01T13:52:31\", \"2019-07-01T13:53:31\", \"2019-07-01T13:54:31\", \"2019-07-01T13:55:31\", \"2019-07-01T13:56:31\", \"2019-07-01T13:57:31\", \"2019-07-01T13:58:31\", \"2019-07-01T13:59:31\", \"2019-07-01T14:00:31\", \"2019-07-01T14:01:31\", \"2019-07-01T14:02:31\", \"2019-07-01T14:03:31\", \"2019-07-01T14:04:31\", \"2019-07-01T14:05:31\", \"2019-07-01T14:06:31\", \"2019-07-01T14:07:31\", \"2019-07-01T14:08:31\", \"2019-07-01T14:09:31\", \"2019-07-01T14:10:31\", \"2019-07-01T14:11:31\", \"2019-07-01T14:12:31\", \"2019-07-01T14:13:31\", \"2019-07-01T14:14:31\", \"2019-07-01T14:15:31\", \"2019-07-01T14:16:31\", \"2019-07-01T14:17:31\", \"2019-07-01T14:18:31\", \"2019-07-01T14:19:31\", \"2019-07-01T14:20:31\", \"2019-07-01T14:21:31\", \"2019-07-01T14:22:31\", \"2019-07-01T14:23:31\", \"2019-07-01T14:24:31\", \"2019-07-01T14:25:31\", \"2019-07-01T14:26:31\", \"2019-07-01T14:27:31\", \"2019-07-01T14:28:31\", \"2019-07-01T14:29:31\", \"2019-07-01T14:30:31\", \"2019-07-01T14:31:31\", \"2019-07-01T14:32:31\", \"2019-07-01T14:33:31\", \"2019-07-01T14:34:31\", \"2019-07-01T14:35:31\", \"2019-07-01T14:36:31\", \"2019-07-01T14:37:31\", \"2019-07-01T14:38:31\", \"2019-07-01T14:39:31\", \"2019-07-01T14:40:31\", \"2019-07-01T14:41:31\", \"2019-07-01T14:42:31\", \"2019-07-01T14:43:31\", \"2019-07-01T14:44:31\", \"2019-07-01T14:45:31\", \"2019-07-01T14:46:31\", \"2019-07-01T14:47:31\", \"2019-07-01T14:48:31\", \"2019-07-01T14:49:31\", \"2019-07-01T14:50:31\", \"2019-07-01T14:51:31\", \"2019-07-01T14:52:31\", \"2019-07-01T14:53:31\", \"2019-07-01T14:54:31\", \"2019-07-01T14:55:31\", \"2019-07-01T14:56:31\", \"2019-07-01T14:57:31\", \"2019-07-01T14:58:31\", \"2019-07-01T14:59:31\", \"2019-07-01T15:00:31\", \"2019-07-01T15:01:31\", \"2019-07-01T15:02:31\", \"2019-07-01T15:03:31\", \"2019-07-01T15:04:31\", \"2019-07-01T15:05:31\", \"2019-07-01T15:06:31\", \"2019-07-01T15:07:31\", \"2019-07-01T15:08:31\", \"2019-07-01T15:09:31\", \"2019-07-01T15:10:31\", \"2019-07-01T15:11:31\", \"2019-07-01T15:12:31\", \"2019-07-01T15:13:31\", \"2019-07-01T15:14:31\", \"2019-07-01T15:15:31\", \"2019-07-01T15:16:31\", \"2019-07-01T15:17:31\", \"2019-07-01T15:18:31\", \"2019-07-01T15:19:31\", \"2019-07-01T15:20:31\", \"2019-07-01T15:21:31\", \"2019-07-01T15:22:31\", \"2019-07-01T15:23:31\", \"2019-07-01T15:24:31\", \"2019-07-01T15:25:31\", \"2019-07-01T15:26:31\", \"2019-07-01T15:27:31\", \"2019-07-01T15:28:31\", \"2019-07-01T15:29:31\", \"2019-07-01T15:30:31\", \"2019-07-01T15:31:31\", \"2019-07-01T15:32:31\", \"2019-07-01T15:33:31\", \"2019-07-01T15:34:31\", \"2019-07-01T15:35:31\", \"2019-07-01T15:36:31\", \"2019-07-01T15:37:31\", \"2019-07-01T15:38:31\", \"2019-07-01T15:39:31\", \"2019-07-01T15:40:31\", \"2019-07-01T15:41:31\", \"2019-07-01T15:42:31\", \"2019-07-01T15:43:31\", \"2019-07-01T15:44:31\", \"2019-07-01T15:45:31\", \"2019-07-01T15:46:31\", \"2019-07-01T15:47:31\", \"2019-07-01T15:48:31\", \"2019-07-01T15:49:31\", \"2019-07-01T15:50:31\", \"2019-07-01T15:51:31\", \"2019-07-01T15:52:31\", \"2019-07-01T15:53:31\", \"2019-07-01T15:54:31\", \"2019-07-01T15:55:31\", \"2019-07-01T15:56:31\", \"2019-07-01T15:57:31\", \"2019-07-01T15:58:31\", \"2019-07-01T15:59:31\", \"2019-07-01T16:00:31\", \"2019-07-01T16:01:31\", \"2019-07-01T16:02:31\", \"2019-07-01T16:03:31\", \"2019-07-01T16:04:31\", \"2019-07-01T16:05:31\", \"2019-07-01T16:06:31\", \"2019-07-01T16:07:31\", \"2019-07-01T16:08:31\", \"2019-07-01T16:09:31\", \"2019-07-01T16:10:31\", \"2019-07-01T16:11:31\", \"2019-07-01T16:12:31\", \"2019-07-01T16:13:31\", \"2019-07-01T16:14:31\", \"2019-07-01T16:15:31\", \"2019-07-01T16:16:31\", \"2019-07-01T16:17:31\", \"2019-07-01T16:18:31\", \"2019-07-01T16:19:31\", \"2019-07-01T16:20:31\", \"2019-07-01T16:21:31\", \"2019-07-01T16:22:31\", \"2019-07-01T16:23:31\", \"2019-07-01T16:24:31\", \"2019-07-01T16:25:31\", \"2019-07-01T16:26:31\", \"2019-07-01T16:27:31\", \"2019-07-01T16:28:31\", \"2019-07-01T16:29:31\", \"2019-07-01T16:30:31\", \"2019-07-01T16:31:31\", \"2019-07-01T16:32:31\", \"2019-07-01T16:33:31\", \"2019-07-01T16:34:31\", \"2019-07-01T16:35:31\", \"2019-07-01T16:36:31\", \"2019-07-01T16:37:31\", \"2019-07-01T16:38:31\", \"2019-07-01T16:39:31\", \"2019-07-01T16:40:31\", \"2019-07-01T16:41:31\", \"2019-07-01T16:42:31\", \"2019-07-01T16:43:31\", \"2019-07-01T16:44:31\", \"2019-07-01T16:45:31\", \"2019-07-01T16:46:31\", \"2019-07-01T16:47:31\", \"2019-07-01T16:48:31\", \"2019-07-01T16:49:31\", \"2019-07-01T16:50:31\", \"2019-07-01T16:51:31\", \"2019-07-01T16:52:31\", \"2019-07-01T16:53:31\", \"2019-07-01T16:54:31\", \"2019-07-01T16:55:31\", \"2019-07-01T16:56:31\", \"2019-07-01T16:57:31\", \"2019-07-01T16:58:31\", \"2019-07-01T16:59:31\", \"2019-07-01T17:00:31\", \"2019-07-01T17:01:31\", \"2019-07-01T17:02:31\", \"2019-07-01T17:03:31\", \"2019-07-01T17:04:31\", \"2019-07-01T17:05:31\", \"2019-07-01T17:06:31\", \"2019-07-01T17:07:31\", \"2019-07-01T17:08:31\", \"2019-07-01T17:09:31\", \"2019-07-01T17:10:31\", \"2019-07-01T17:11:31\", \"2019-07-01T17:12:31\", \"2019-07-01T17:13:31\", \"2019-07-01T17:14:31\", \"2019-07-01T17:15:31\", \"2019-07-01T17:16:31\", \"2019-07-01T17:17:31\", \"2019-07-01T17:18:31\", \"2019-07-01T17:19:31\", \"2019-07-01T17:20:31\", \"2019-07-01T17:21:31\", \"2019-07-01T17:22:31\", \"2019-07-01T17:23:31\", \"2019-07-01T17:24:31\", \"2019-07-01T17:25:31\", \"2019-07-01T17:26:31\", \"2019-07-01T17:27:31\", \"2019-07-01T17:28:31\", \"2019-07-01T17:29:31\", \"2019-07-01T17:30:31\", \"2019-07-01T17:31:31\", \"2019-07-01T17:32:31\", \"2019-07-01T17:33:31\", \"2019-07-01T17:34:31\", \"2019-07-01T17:35:31\", \"2019-07-01T17:36:31\", \"2019-07-01T17:37:31\", \"2019-07-01T17:38:31\", \"2019-07-01T17:39:31\", \"2019-07-01T17:40:31\", \"2019-07-01T17:41:31\", \"2019-07-01T17:42:31\", \"2019-07-01T17:43:31\", \"2019-07-01T17:44:31\", \"2019-07-01T17:45:31\", \"2019-07-01T17:46:31\", \"2019-07-01T17:47:31\", \"2019-07-01T17:48:31\", \"2019-07-01T17:49:31\", \"2019-07-01T17:50:31\", \"2019-07-01T17:51:31\", \"2019-07-01T17:52:31\", \"2019-07-01T17:53:31\", \"2019-07-01T17:54:31\", \"2019-07-01T17:55:31\", \"2019-07-01T17:56:31\", \"2019-07-01T17:57:31\", \"2019-07-01T17:58:31\", \"2019-07-01T17:59:31\", \"2019-07-01T18:00:31\", \"2019-07-01T18:01:31\", \"2019-07-01T18:02:31\", \"2019-07-01T18:03:31\", \"2019-07-01T18:04:31\", \"2019-07-01T18:05:31\", \"2019-07-01T18:06:31\", \"2019-07-01T18:07:31\", \"2019-07-01T18:08:31\", \"2019-07-01T18:09:31\", \"2019-07-01T18:10:31\", \"2019-07-01T18:11:31\", \"2019-07-01T18:12:31\", \"2019-07-01T18:13:31\", \"2019-07-01T18:14:31\", \"2019-07-01T18:15:31\", \"2019-07-01T18:16:31\", \"2019-07-01T18:17:31\", \"2019-07-01T18:18:31\", \"2019-07-01T18:19:31\", \"2019-07-01T18:20:31\", \"2019-07-01T18:21:31\", \"2019-07-01T18:22:31\", \"2019-07-01T18:23:31\", \"2019-07-01T18:24:31\", \"2019-07-01T18:25:31\", \"2019-07-01T18:26:31\", \"2019-07-01T18:27:31\", \"2019-07-01T18:28:31\", \"2019-07-01T18:29:31\", \"2019-07-01T18:30:31\", \"2019-07-01T18:31:31\", \"2019-07-01T18:32:31\", \"2019-07-01T18:33:31\", \"2019-07-01T18:34:31\", \"2019-07-01T18:35:31\", \"2019-07-01T18:36:31\", \"2019-07-01T18:37:31\", \"2019-07-01T18:38:31\", \"2019-07-01T18:39:31\", \"2019-07-01T18:40:31\", \"2019-07-01T18:41:31\", \"2019-07-01T18:42:31\", \"2019-07-01T18:43:31\", \"2019-07-01T18:44:31\", \"2019-07-01T18:45:31\", \"2019-07-01T18:46:31\", \"2019-07-01T18:47:31\", \"2019-07-01T18:48:31\", \"2019-07-01T18:49:31\", \"2019-07-01T18:50:31\", \"2019-07-01T18:51:31\", \"2019-07-01T18:52:31\", \"2019-07-01T18:53:31\", \"2019-07-01T18:54:31\", \"2019-07-01T18:55:31\", \"2019-07-01T18:56:31\", \"2019-07-01T18:57:31\", \"2019-07-01T18:58:31\", \"2019-07-01T18:59:31\", \"2019-07-01T19:00:31\", \"2019-07-01T19:01:31\", \"2019-07-01T19:02:31\", \"2019-07-01T19:03:31\", \"2019-07-01T19:04:31\", \"2019-07-01T19:05:31\", \"2019-07-01T19:06:31\", \"2019-07-01T19:07:31\", \"2019-07-01T19:08:31\", \"2019-07-01T19:09:31\", \"2019-07-01T19:10:31\", \"2019-07-01T19:11:31\", \"2019-07-01T19:12:31\", \"2019-07-01T19:13:31\", \"2019-07-01T19:14:31\", \"2019-07-01T19:15:31\", \"2019-07-01T19:16:31\", \"2019-07-01T19:17:31\", \"2019-07-01T19:18:31\", \"2019-07-01T19:19:31\", \"2019-07-01T19:20:31\", \"2019-07-01T19:21:31\", \"2019-07-01T19:22:31\", \"2019-07-01T19:23:31\", \"2019-07-01T19:24:31\", \"2019-07-01T19:25:31\", \"2019-07-01T19:26:31\", \"2019-07-01T19:27:31\", \"2019-07-01T19:28:31\", \"2019-07-01T19:29:31\", \"2019-07-01T19:30:31\", \"2019-07-01T19:31:31\", \"2019-07-01T19:32:31\", \"2019-07-01T19:33:31\", \"2019-07-01T19:34:31\", \"2019-07-01T19:35:31\", \"2019-07-01T19:36:31\", \"2019-07-01T19:37:31\", \"2019-07-01T19:38:31\", \"2019-07-01T19:39:31\", \"2019-07-01T19:40:31\", \"2019-07-01T19:41:31\", \"2019-07-01T19:42:31\", \"2019-07-01T19:43:31\", \"2019-07-01T19:44:31\", \"2019-07-01T19:45:31\", \"2019-07-01T19:46:31\", \"2019-07-01T19:47:31\", \"2019-07-01T19:48:31\", \"2019-07-01T19:49:31\", \"2019-07-01T19:50:31\", \"2019-07-01T19:51:31\", \"2019-07-01T19:52:31\", \"2019-07-01T19:53:31\", \"2019-07-01T19:54:31\", \"2019-07-01T19:55:31\", \"2019-07-01T19:56:31\", \"2019-07-01T19:57:31\", \"2019-07-01T19:58:31\", \"2019-07-01T19:59:31\", \"2019-07-01T20:00:31\", \"2019-07-01T20:01:31\", \"2019-07-01T20:02:31\", \"2019-07-01T20:03:31\", \"2019-07-01T20:04:31\", \"2019-07-01T20:05:31\", \"2019-07-01T20:06:31\", \"2019-07-01T20:07:31\", \"2019-07-01T20:08:31\", \"2019-07-01T20:09:31\", \"2019-07-01T20:10:31\", \"2019-07-01T20:11:31\", \"2019-07-01T20:12:31\", \"2019-07-01T20:13:31\", \"2019-07-01T20:14:31\", \"2019-07-01T20:15:31\", \"2019-07-01T20:16:31\", \"2019-07-01T20:17:31\", \"2019-07-01T20:18:31\", \"2019-07-01T20:19:31\", \"2019-07-01T20:20:31\", \"2019-07-01T20:21:31\", \"2019-07-01T20:22:31\", \"2019-07-01T20:23:31\", \"2019-07-01T20:24:31\", \"2019-07-01T20:25:31\", \"2019-07-01T20:26:31\", \"2019-07-01T20:27:31\", \"2019-07-01T20:28:31\", \"2019-07-01T20:29:31\", \"2019-07-01T20:30:31\", \"2019-07-01T20:31:31\", \"2019-07-01T20:32:31\", \"2019-07-01T20:33:31\", \"2019-07-01T20:34:31\", \"2019-07-01T20:35:31\", \"2019-07-01T20:36:31\", \"2019-07-01T20:37:31\", \"2019-07-01T20:38:31\", \"2019-07-01T20:39:31\", \"2019-07-01T20:40:31\", \"2019-07-01T20:41:31\", \"2019-07-01T20:42:31\", \"2019-07-01T20:43:31\", \"2019-07-01T20:44:31\", \"2019-07-01T20:45:31\", \"2019-07-01T20:46:31\", \"2019-07-01T20:47:31\", \"2019-07-01T20:48:31\", \"2019-07-01T20:49:31\", \"2019-07-01T20:50:31\", \"2019-07-01T20:51:31\", \"2019-07-01T20:52:31\", \"2019-07-01T20:53:31\", \"2019-07-01T20:54:31\", \"2019-07-01T20:55:31\", \"2019-07-01T20:56:31\", \"2019-07-01T20:57:31\", \"2019-07-01T20:58:31\", \"2019-07-01T20:59:31\", \"2019-07-01T21:00:31\", \"2019-07-01T21:01:31\", \"2019-07-01T21:02:31\", \"2019-07-01T21:03:31\", \"2019-07-01T21:04:31\", \"2019-07-01T21:05:31\", \"2019-07-01T21:06:31\", \"2019-07-01T21:07:31\", \"2019-07-01T21:08:31\", \"2019-07-01T21:09:31\", \"2019-07-01T21:10:31\", \"2019-07-01T21:11:31\", \"2019-07-01T21:12:31\", \"2019-07-01T21:13:31\", \"2019-07-01T21:14:31\", \"2019-07-01T21:15:31\", \"2019-07-01T21:16:31\", \"2019-07-01T21:17:31\", \"2019-07-01T21:18:31\", \"2019-07-01T21:19:31\", \"2019-07-01T21:20:31\", \"2019-07-01T21:21:31\", \"2019-07-01T21:22:31\", \"2019-07-01T21:23:31\", \"2019-07-01T21:24:31\", \"2019-07-01T21:25:31\", \"2019-07-01T21:26:31\", \"2019-07-01T21:27:31\", \"2019-07-01T21:28:31\", \"2019-07-01T21:29:31\", \"2019-07-01T21:30:31\", \"2019-07-01T21:31:31\", \"2019-07-01T21:32:31\", \"2019-07-01T21:33:31\", \"2019-07-01T21:34:31\", \"2019-07-01T21:35:31\", \"2019-07-01T21:36:31\", \"2019-07-01T21:37:31\", \"2019-07-01T21:38:31\", \"2019-07-01T21:39:31\", \"2019-07-01T21:40:31\", \"2019-07-01T21:41:31\", \"2019-07-01T21:42:31\", \"2019-07-01T21:43:31\", \"2019-07-01T21:44:31\", \"2019-07-01T21:45:31\", \"2019-07-01T21:46:31\", \"2019-07-01T21:47:31\", \"2019-07-01T21:48:31\", \"2019-07-01T21:49:31\", \"2019-07-01T21:50:31\", \"2019-07-01T21:51:31\", \"2019-07-01T21:52:31\", \"2019-07-01T21:53:31\", \"2019-07-01T21:54:31\", \"2019-07-01T21:55:31\", \"2019-07-01T21:56:31\", \"2019-07-01T21:57:31\", \"2019-07-01T21:58:31\", \"2019-07-01T21:59:31\", \"2019-07-01T22:00:31\", \"2019-07-01T22:01:31\", \"2019-07-01T22:02:31\", \"2019-07-01T22:03:31\", \"2019-07-01T22:04:31\", \"2019-07-01T22:05:31\", \"2019-07-01T22:06:31\", \"2019-07-01T22:07:31\", \"2019-07-01T22:08:31\", \"2019-07-01T22:09:31\", \"2019-07-01T22:10:31\", \"2019-07-01T22:11:31\", \"2019-07-01T22:12:31\", \"2019-07-01T22:13:31\", \"2019-07-01T22:14:31\", \"2019-07-01T22:15:31\", \"2019-07-01T22:16:31\", \"2019-07-01T22:17:31\", \"2019-07-01T22:18:31\", \"2019-07-01T22:19:31\", \"2019-07-01T22:20:31\", \"2019-07-01T22:21:31\", \"2019-07-01T22:22:31\", \"2019-07-01T22:23:31\", \"2019-07-01T22:24:31\", \"2019-07-01T22:25:31\", \"2019-07-01T22:26:31\", \"2019-07-01T22:27:31\", \"2019-07-01T22:28:31\", \"2019-07-01T22:29:31\", \"2019-07-01T22:30:31\", \"2019-07-01T22:31:31\", \"2019-07-01T22:32:31\", \"2019-07-01T22:33:31\", \"2019-07-01T22:34:31\", \"2019-07-01T22:35:31\", \"2019-07-01T22:36:31\", \"2019-07-01T22:37:31\", \"2019-07-01T22:38:31\", \"2019-07-01T22:39:31\", \"2019-07-01T22:40:31\", \"2019-07-01T22:41:31\", \"2019-07-01T22:42:31\", \"2019-07-01T22:43:31\", \"2019-07-01T22:44:31\", \"2019-07-01T22:45:31\", \"2019-07-01T22:46:31\", \"2019-07-01T22:47:31\", \"2019-07-01T22:48:31\", \"2019-07-01T22:49:31\", \"2019-07-01T22:50:31\", \"2019-07-01T22:51:31\", \"2019-07-01T22:52:31\", \"2019-07-01T22:53:31\", \"2019-07-01T22:54:31\", \"2019-07-01T22:55:31\", \"2019-07-01T22:56:31\", \"2019-07-01T22:57:31\", \"2019-07-01T22:58:31\", \"2019-07-01T22:59:31\", \"2019-07-01T23:00:31\", \"2019-07-01T23:01:31\", \"2019-07-01T23:02:31\", \"2019-07-01T23:03:31\", \"2019-07-01T23:04:31\", \"2019-07-01T23:05:31\", \"2019-07-01T23:06:31\", \"2019-07-01T23:07:31\", \"2019-07-01T23:08:31\", \"2019-07-01T23:09:31\", \"2019-07-01T23:10:31\", \"2019-07-01T23:11:31\", \"2019-07-01T23:12:31\", \"2019-07-01T23:13:31\", \"2019-07-01T23:14:31\", \"2019-07-01T23:15:31\", \"2019-07-01T23:16:31\", \"2019-07-01T23:17:31\", \"2019-07-01T23:18:31\", \"2019-07-01T23:19:31\", \"2019-07-01T23:20:31\", \"2019-07-01T23:21:31\", \"2019-07-01T23:22:31\", \"2019-07-01T23:23:31\", \"2019-07-01T23:24:31\", \"2019-07-01T23:25:31\"], \"xaxis\": \"x\", \"y\": [0, 0, 0, 0, 0, 0, 0, 0, 0, 0, 0, 0, 0, 0, 0, 0, 0, 0, 0, 0, 0, 0, 0, 0, 0, 0, 0, 0, 0, 0, 0, 0, 0, 0, 0, 0, 0, 0, 0, 0, 0, 0, 0, 0, 0, 0, 0, 0, 0, 0, 0, 0, 0, 0, 0, 0, 0, 0, 0, 0, 0, 0, 0, 0, 0, 0, 0, 0, 0, 0, 0, 0, 0, 0, 0, 0, 0, 0, 0, 0, 0, 0, 0, 0, 0, 0, 0, 0, 0, 0, 0, 0, 0, 0, 0, 0, 0, 0, 0, 0, 0, 0, 0, 50, 50, 50, 50, 100, 100, 100, 100, 100, 100, 100, 50, 50, 100, 100, 100, 150, 150, 150, 200, 200, 200, 250, 250, 200, 200, 250, 300, 400, 500, 600, 650, 650, 750, 700, 750, 600, 650, 600, 600, 550, 550, 750, 800, 600, 600, 550, 650, 650, 800, 800, 900, 950, 1100, 1150, 1300, 1400, 1550, 1650, 1600, 1550, 1400, 1500, 1700, 1900, 2000, 2100, 2250, 2400, 2700, 2600, 2400, 2750, 2700, 2800, 3100, 3200, 3100, 2850, 2950, 2900, 3000, 3200, 3300, 3350, 3200, 3200, 3200, 3250, 3250, 3150, 3300, 3400, 3500, 3450, 3100, 3050, 3100, 3000, 3200, 3000, 2950, 3100, 3500, 3400, 3250, 3350, 3650, 3700, 3700, 3450, 3450, 3550, 3600, 3500, 3450, 3500, 3650, 3600, 3250, 3200, 3250, 3250, 3300, 3200, 3300, 3250, 3300, 3350, 3150, 3250, 3350, 3200, 3200, 2950, 3000, 2950, 2850, 2850, 2800, 2700, 2800, 2650, 2600, 2600, 2500, 2450, 2400, 2400, 2250, 2200, 2200, 2400, 2450, 2350, 2300, 2400, 2350, 2150, 2050, 2250, 2200, 1950, 2000, 2050, 2200, 2050, 2000, 2100, 1950, 1950, 2000, 2150, 2100, 2000, 1900, 2050, 2050, 2050, 2100, 2200, 2100, 2000, 1950, 2050, 2000, 2000, 1850, 1900, 1900, 1800, 1850, 1900, 1800, 1850, 1850, 1850, 1800, 1600, 1700, 1700, 1600, 1700, 1750, 1650, 1650, 1600, 1700, 1650, 1500, 1350, 1500, 1450, 1400, 1350, 1450, 1350, 1400, 1350, 1550, 1550, 1350, 1400, 1300, 1400, 1400, 1300, 1300, 1250, 1200, 1200, 1150, 1250, 1200, 1150, 1150, 1150, 1000, 900, 850, 950, 1000, 1000, 1100, 1100, 1100, 1200, 1150, 1150, 1150, 1100, 1100, 1100, 1150, 950, 950, 1000, 950, 1050, 1050, 1100, 1050, 1050, 1150, 1100, 1100, 1050, 1000, 1150, 1100, 1300, 1250, 1300, 1200, 1200, 1250, 1200, 1250, 1050, 1050, 1150, 1050, 1100, 1000, 1000, 900, 900, 900, 950, 1000, 950, 750, 700, 550, 650, 650, 600, 550, 550, 750, 750, 700, 700, 700, 700, 700, 650, 600, 650, 650, 600, 500, 550, 500, 400, 350, 400, 400, 450, 450, 450, 450, 450, 500, 450, 450, 500, 500, 450, 400, 400, 450, 450, 450, 450, 450, 400, 350, 400, 400, 350, 250, 300, 300, 350, 300, 400, 350, 400, 400, 350, 350, 350, 350, 350, 350, 300, 350, 350, 400, 400, 350, 350, 350, 350, 350, 350, 350, 400, 400, 350, 350, 350, 350, 400, 450, 400, 450, 450, 400, 450, 450, 400, 450, 450, 450, 400, 300, 400, 400, 400, 400, 400, 350, 400, 400, 350, 350, 300, 300, 250, 250, 250, 250, 250, 250, 300, 300, 300, 250, 250, 200, 250, 300, 300, 250, 250, 200, 350, 350, 350, 350, 350, 300, 350, 300, 300, 300, 300, 250, 300, 300, 200, 300, 300, 250, 300, 250, 200, 250, 200, 200, 200, 200, 200, 150, 150, 200, 200, 200, 200, 200, 200, 150, 100, 100, 100, 200, 150, 150, 200, 200, 200, 200, 200, 150, 150, 150, 150, 150, 150, 150, 100, 100, 50, 100, 100, 100, 100, 50, 100, 100, 100, 100, 100, 100, 100, 100, 100, 150, 100, 150, 150, 150, 150, 150, 150, 150, 150, 150, 100, 150, 150, 100, 100, 150, 150, 100, 100, 100, 100, 50, 50, 100, 100, 100, 100, 100, 100, 150, 150, 100, 150, 150, 150, 150, 150, 150, 150, 150, 150, 150, 150, 150, 150, 150, 150, 150, 150, 50, 100, 100, 100, 100, 50, 100, 100, 100, 100, 100, 150, 150, 150, 150, 150, 150, 50, 100, 50, 100, 100, 100, 100, 100, 100, 100, 100, 100, 100, 100, 100, 100, 100, 100, 100, 100, 100, 100, 0, 50, 100, 100, 100, 100, 100, 100, 100, 100, 100, 100, 100, 50, 100, 100, 100, 100, 100, 100, 100, 100, 100, 50, 50, 100, 100, 100, 100, 100, 100, 100, 100, 100, 150, 150, 150, 150, 150, 200, 200, 200, 200, 150, 150, 200, 200, 150, 100, 100, 100, 100, 100, 100, 100, 100, 100, 100, 100, 100, 100, 100, 100, 50, 100, 100, 100, 100, 100, 50, 50, 100, 100, 100, 50, 50, 100, 100, 100, 100, 100, 100, 50, 50, 50, 100, 100, 100, 100, 100, 100, 100, 100, 100, 100, 0, 100, 100, 100, 100, 100, 100, 100, 100, 100, 100, 50, 0, 50, 50, 50, 50, 50, 50, 50, 50, 50, 50, 50, 50, 0, 50, 50, 50, 50, 50, 50, 50, 50, 50, 50, 0, 100, 100, 100, 100, 100, 50, 50, 50, 50, 50, 0, 50, 50, 50, 50, 50, 50, 50, 50, 50, 50, 50, 50, 0, 50, 100, 100, 100, 100, 100, 50, 50, 50, 50, 0, 50, 50, 50, 50, 50, 50, 50, 50, 50, 50, 0, 0, 50, 50, 50, 50, 50, 50, 50, 100, 100, 50, 50, 50, 0, 0, 0, 0, 50, 50, 50, 50, 50, 50, 50, 50, 50, 50, 50, 50, 50, 50, 50, 0, 0, 0, 0, 0, 0, 0, 0, 0, 0, 0, 0, 0, 0, 0, 0, 0, 0, 0, 0, 0, 0, 0, 0, 0, 0, 0, 0, 0, 0, 0, 0, 0, 0, 0, 0, 0, 0, 0, 0, 0, 0, 0, 0, 0, 0, 0, 0, 0, 0, 0, 0], \"yaxis\": \"y\"}],                        {\"height\": 400, \"legend\": {\"title\": {\"text\": \"global_seed\"}, \"tracegroupgap\": 0}, \"margin\": {\"b\": 20, \"l\": 20, \"r\": 20, \"t\": 30}, \"template\": {\"data\": {\"bar\": [{\"error_x\": {\"color\": \"#2a3f5f\"}, \"error_y\": {\"color\": \"#2a3f5f\"}, \"marker\": {\"line\": {\"color\": \"white\", \"width\": 0.5}}, \"type\": \"bar\"}], \"barpolar\": [{\"marker\": {\"line\": {\"color\": \"white\", \"width\": 0.5}}, \"type\": \"barpolar\"}], \"carpet\": [{\"aaxis\": {\"endlinecolor\": \"#2a3f5f\", \"gridcolor\": \"#C8D4E3\", \"linecolor\": \"#C8D4E3\", \"minorgridcolor\": \"#C8D4E3\", \"startlinecolor\": \"#2a3f5f\"}, \"baxis\": {\"endlinecolor\": \"#2a3f5f\", \"gridcolor\": \"#C8D4E3\", \"linecolor\": \"#C8D4E3\", \"minorgridcolor\": \"#C8D4E3\", \"startlinecolor\": \"#2a3f5f\"}, \"type\": \"carpet\"}], \"choropleth\": [{\"colorbar\": {\"outlinewidth\": 0, \"ticks\": \"\"}, \"type\": \"choropleth\"}], \"contour\": [{\"colorbar\": {\"outlinewidth\": 0, \"ticks\": \"\"}, \"colorscale\": [[0.0, \"#0d0887\"], [0.1111111111111111, \"#46039f\"], [0.2222222222222222, \"#7201a8\"], [0.3333333333333333, \"#9c179e\"], [0.4444444444444444, \"#bd3786\"], [0.5555555555555556, \"#d8576b\"], [0.6666666666666666, \"#ed7953\"], [0.7777777777777778, \"#fb9f3a\"], [0.8888888888888888, \"#fdca26\"], [1.0, \"#f0f921\"]], \"type\": \"contour\"}], \"contourcarpet\": [{\"colorbar\": {\"outlinewidth\": 0, \"ticks\": \"\"}, \"type\": \"contourcarpet\"}], \"heatmap\": [{\"colorbar\": {\"outlinewidth\": 0, \"ticks\": \"\"}, \"colorscale\": [[0.0, \"#0d0887\"], [0.1111111111111111, \"#46039f\"], [0.2222222222222222, \"#7201a8\"], [0.3333333333333333, \"#9c179e\"], [0.4444444444444444, \"#bd3786\"], [0.5555555555555556, \"#d8576b\"], [0.6666666666666666, \"#ed7953\"], [0.7777777777777778, \"#fb9f3a\"], [0.8888888888888888, \"#fdca26\"], [1.0, \"#f0f921\"]], \"type\": \"heatmap\"}], \"heatmapgl\": [{\"colorbar\": {\"outlinewidth\": 0, \"ticks\": \"\"}, \"colorscale\": [[0.0, \"#0d0887\"], [0.1111111111111111, \"#46039f\"], [0.2222222222222222, \"#7201a8\"], [0.3333333333333333, \"#9c179e\"], [0.4444444444444444, \"#bd3786\"], [0.5555555555555556, \"#d8576b\"], [0.6666666666666666, \"#ed7953\"], [0.7777777777777778, \"#fb9f3a\"], [0.8888888888888888, \"#fdca26\"], [1.0, \"#f0f921\"]], \"type\": \"heatmapgl\"}], \"histogram\": [{\"marker\": {\"colorbar\": {\"outlinewidth\": 0, \"ticks\": \"\"}}, \"type\": \"histogram\"}], \"histogram2d\": [{\"colorbar\": {\"outlinewidth\": 0, \"ticks\": \"\"}, \"colorscale\": [[0.0, \"#0d0887\"], [0.1111111111111111, \"#46039f\"], [0.2222222222222222, \"#7201a8\"], [0.3333333333333333, \"#9c179e\"], [0.4444444444444444, \"#bd3786\"], [0.5555555555555556, \"#d8576b\"], [0.6666666666666666, \"#ed7953\"], [0.7777777777777778, \"#fb9f3a\"], [0.8888888888888888, \"#fdca26\"], [1.0, \"#f0f921\"]], \"type\": \"histogram2d\"}], \"histogram2dcontour\": [{\"colorbar\": {\"outlinewidth\": 0, \"ticks\": \"\"}, \"colorscale\": [[0.0, \"#0d0887\"], [0.1111111111111111, \"#46039f\"], [0.2222222222222222, \"#7201a8\"], [0.3333333333333333, \"#9c179e\"], [0.4444444444444444, \"#bd3786\"], [0.5555555555555556, \"#d8576b\"], [0.6666666666666666, \"#ed7953\"], [0.7777777777777778, \"#fb9f3a\"], [0.8888888888888888, \"#fdca26\"], [1.0, \"#f0f921\"]], \"type\": \"histogram2dcontour\"}], \"mesh3d\": [{\"colorbar\": {\"outlinewidth\": 0, \"ticks\": \"\"}, \"type\": \"mesh3d\"}], \"parcoords\": [{\"line\": {\"colorbar\": {\"outlinewidth\": 0, \"ticks\": \"\"}}, \"type\": \"parcoords\"}], \"pie\": [{\"automargin\": true, \"type\": \"pie\"}], \"scatter\": [{\"marker\": {\"colorbar\": {\"outlinewidth\": 0, \"ticks\": \"\"}}, \"type\": \"scatter\"}], \"scatter3d\": [{\"line\": {\"colorbar\": {\"outlinewidth\": 0, \"ticks\": \"\"}}, \"marker\": {\"colorbar\": {\"outlinewidth\": 0, \"ticks\": \"\"}}, \"type\": \"scatter3d\"}], \"scattercarpet\": [{\"marker\": {\"colorbar\": {\"outlinewidth\": 0, \"ticks\": \"\"}}, \"type\": \"scattercarpet\"}], \"scattergeo\": [{\"marker\": {\"colorbar\": {\"outlinewidth\": 0, \"ticks\": \"\"}}, \"type\": \"scattergeo\"}], \"scattergl\": [{\"marker\": {\"colorbar\": {\"outlinewidth\": 0, \"ticks\": \"\"}}, \"type\": \"scattergl\"}], \"scattermapbox\": [{\"marker\": {\"colorbar\": {\"outlinewidth\": 0, \"ticks\": \"\"}}, \"type\": \"scattermapbox\"}], \"scatterpolar\": [{\"marker\": {\"colorbar\": {\"outlinewidth\": 0, \"ticks\": \"\"}}, \"type\": \"scatterpolar\"}], \"scatterpolargl\": [{\"marker\": {\"colorbar\": {\"outlinewidth\": 0, \"ticks\": \"\"}}, \"type\": \"scatterpolargl\"}], \"scatterternary\": [{\"marker\": {\"colorbar\": {\"outlinewidth\": 0, \"ticks\": \"\"}}, \"type\": \"scatterternary\"}], \"surface\": [{\"colorbar\": {\"outlinewidth\": 0, \"ticks\": \"\"}, \"colorscale\": [[0.0, \"#0d0887\"], [0.1111111111111111, \"#46039f\"], [0.2222222222222222, \"#7201a8\"], [0.3333333333333333, \"#9c179e\"], [0.4444444444444444, \"#bd3786\"], [0.5555555555555556, \"#d8576b\"], [0.6666666666666666, \"#ed7953\"], [0.7777777777777778, \"#fb9f3a\"], [0.8888888888888888, \"#fdca26\"], [1.0, \"#f0f921\"]], \"type\": \"surface\"}], \"table\": [{\"cells\": {\"fill\": {\"color\": \"#EBF0F8\"}, \"line\": {\"color\": \"white\"}}, \"header\": {\"fill\": {\"color\": \"#C8D4E3\"}, \"line\": {\"color\": \"white\"}}, \"type\": \"table\"}]}, \"layout\": {\"annotationdefaults\": {\"arrowcolor\": \"#2a3f5f\", \"arrowhead\": 0, \"arrowwidth\": 1}, \"coloraxis\": {\"colorbar\": {\"outlinewidth\": 0, \"ticks\": \"\"}}, \"colorscale\": {\"diverging\": [[0, \"#8e0152\"], [0.1, \"#c51b7d\"], [0.2, \"#de77ae\"], [0.3, \"#f1b6da\"], [0.4, \"#fde0ef\"], [0.5, \"#f7f7f7\"], [0.6, \"#e6f5d0\"], [0.7, \"#b8e186\"], [0.8, \"#7fbc41\"], [0.9, \"#4d9221\"], [1, \"#276419\"]], \"sequential\": [[0.0, \"#0d0887\"], [0.1111111111111111, \"#46039f\"], [0.2222222222222222, \"#7201a8\"], [0.3333333333333333, \"#9c179e\"], [0.4444444444444444, \"#bd3786\"], [0.5555555555555556, \"#d8576b\"], [0.6666666666666666, \"#ed7953\"], [0.7777777777777778, \"#fb9f3a\"], [0.8888888888888888, \"#fdca26\"], [1.0, \"#f0f921\"]], \"sequentialminus\": [[0.0, \"#0d0887\"], [0.1111111111111111, \"#46039f\"], [0.2222222222222222, \"#7201a8\"], [0.3333333333333333, \"#9c179e\"], [0.4444444444444444, \"#bd3786\"], [0.5555555555555556, \"#d8576b\"], [0.6666666666666666, \"#ed7953\"], [0.7777777777777778, \"#fb9f3a\"], [0.8888888888888888, \"#fdca26\"], [1.0, \"#f0f921\"]]}, \"colorway\": [\"#636efa\", \"#EF553B\", \"#00cc96\", \"#ab63fa\", \"#FFA15A\", \"#19d3f3\", \"#FF6692\", \"#B6E880\", \"#FF97FF\", \"#FECB52\"], \"font\": {\"color\": \"#2a3f5f\"}, \"geo\": {\"bgcolor\": \"white\", \"lakecolor\": \"white\", \"landcolor\": \"white\", \"showlakes\": true, \"showland\": true, \"subunitcolor\": \"#C8D4E3\"}, \"hoverlabel\": {\"align\": \"left\"}, \"hovermode\": \"closest\", \"mapbox\": {\"style\": \"light\"}, \"paper_bgcolor\": \"white\", \"plot_bgcolor\": \"white\", \"polar\": {\"angularaxis\": {\"gridcolor\": \"#EBF0F8\", \"linecolor\": \"#EBF0F8\", \"ticks\": \"\"}, \"bgcolor\": \"white\", \"radialaxis\": {\"gridcolor\": \"#EBF0F8\", \"linecolor\": \"#EBF0F8\", \"ticks\": \"\"}}, \"scene\": {\"xaxis\": {\"backgroundcolor\": \"white\", \"gridcolor\": \"#DFE8F3\", \"gridwidth\": 2, \"linecolor\": \"#EBF0F8\", \"showbackground\": true, \"ticks\": \"\", \"zerolinecolor\": \"#EBF0F8\"}, \"yaxis\": {\"backgroundcolor\": \"white\", \"gridcolor\": \"#DFE8F3\", \"gridwidth\": 2, \"linecolor\": \"#EBF0F8\", \"showbackground\": true, \"ticks\": \"\", \"zerolinecolor\": \"#EBF0F8\"}, \"zaxis\": {\"backgroundcolor\": \"white\", \"gridcolor\": \"#DFE8F3\", \"gridwidth\": 2, \"linecolor\": \"#EBF0F8\", \"showbackground\": true, \"ticks\": \"\", \"zerolinecolor\": \"#EBF0F8\"}}, \"shapedefaults\": {\"line\": {\"color\": \"#2a3f5f\"}}, \"ternary\": {\"aaxis\": {\"gridcolor\": \"#DFE8F3\", \"linecolor\": \"#A2B1C6\", \"ticks\": \"\"}, \"baxis\": {\"gridcolor\": \"#DFE8F3\", \"linecolor\": \"#A2B1C6\", \"ticks\": \"\"}, \"bgcolor\": \"white\", \"caxis\": {\"gridcolor\": \"#DFE8F3\", \"linecolor\": \"#A2B1C6\", \"ticks\": \"\"}}, \"title\": {\"x\": 0.05}, \"xaxis\": {\"automargin\": true, \"gridcolor\": \"#EBF0F8\", \"linecolor\": \"#EBF0F8\", \"ticks\": \"\", \"title\": {\"standoff\": 15}, \"zerolinecolor\": \"#EBF0F8\", \"zerolinewidth\": 2}, \"yaxis\": {\"automargin\": true, \"gridcolor\": \"#EBF0F8\", \"linecolor\": \"#EBF0F8\", \"ticks\": \"\", \"title\": {\"standoff\": 15}, \"zerolinecolor\": \"#EBF0F8\", \"zerolinewidth\": 2}}}, \"title\": {\"text\": \"Total EVSE Utilization\"}, \"uniformtext\": {\"minsize\": 8, \"mode\": \"hide\"}, \"width\": 1000, \"xaxis\": {\"anchor\": \"y\", \"domain\": [0.0, 1.0], \"range\": [\"2019-07-01 06:00\", \"2019-07-02\"], \"title\": {\"text\": \"Simulated Time\"}}, \"yaxis\": {\"anchor\": \"x\", \"domain\": [0.0, 1.0], \"title\": {\"text\": \"Total Power (kW)\"}}},                        {\"responsive\": true}                    ).then(function(){\n",
       "                            \n",
       "var gd = document.getElementById('9aa1b485-442f-47bf-8b55-cb472606f201');\n",
       "var x = new MutationObserver(function (mutations, observer) {{\n",
       "        var display = window.getComputedStyle(gd).display;\n",
       "        if (!display || display === 'none') {{\n",
       "            console.log([gd, 'removed!']);\n",
       "            Plotly.purge(gd);\n",
       "            observer.disconnect();\n",
       "        }}\n",
       "}});\n",
       "\n",
       "// Listen for the removal of the full notebook cells\n",
       "var notebookContainer = gd.closest('#notebook-container');\n",
       "if (notebookContainer) {{\n",
       "    x.observe(notebookContainer, {childList: true});\n",
       "}}\n",
       "\n",
       "// Listen for the clearing of the current output cell\n",
       "var outputEl = gd.closest('.output');\n",
       "if (outputEl) {{\n",
       "    x.observe(outputEl, {childList: true});\n",
       "}}\n",
       "\n",
       "                        })                };                });            </script>        </div>"
      ]
     },
     "metadata": {},
     "output_type": "display_data"
    }
   ],
   "source": [
    "fig = px.line(evse_util, x=\"datetime\", y=\"total_power\", color='global_seed', labels='Global Seed', range_x=['2019-07-01 06:00','2019-07-02'])\n",
    "fig.update_layout(title=\"Total EVSE Utilization\",\n",
    "                  yaxis_title=\"Total Power (kW)\", \n",
    "                  xaxis_title=\"Simulated Time\", \n",
    "                  uniformtext_minsize=8, \n",
    "                  uniformtext_mode='hide', \n",
    "                  width=1000, \n",
    "                  height=400, \n",
    "                  margin=dict(l=20, r=20, t=30, b=20), template='plotly_white')\n",
    "fig.show()"
   ]
  },
  {
   "cell_type": "code",
   "execution_count": 55,
   "metadata": {},
   "outputs": [
    {
     "data": {
      "application/vnd.plotly.v1+json": {
       "config": {
        "plotlyServerURL": "https://plot.ly"
       },
       "data": [
        {
         "mode": "lines+markers+text",
         "name": "lines+markers",
         "text": [
          "# EV: 1125",
          "# EV: 1136"
         ],
         "textposition": "top right",
         "type": "scatter",
         "x": [
          "0",
          "123"
         ],
         "y": [
          7,
          7
         ]
        }
       ],
       "layout": {
        "height": 400,
        "margin": {
         "b": 20,
         "l": 20,
         "r": 0,
         "t": 30
        },
        "template": {
         "data": {
          "bar": [
           {
            "error_x": {
             "color": "#2a3f5f"
            },
            "error_y": {
             "color": "#2a3f5f"
            },
            "marker": {
             "line": {
              "color": "white",
              "width": 0.5
             }
            },
            "type": "bar"
           }
          ],
          "barpolar": [
           {
            "marker": {
             "line": {
              "color": "white",
              "width": 0.5
             }
            },
            "type": "barpolar"
           }
          ],
          "carpet": [
           {
            "aaxis": {
             "endlinecolor": "#2a3f5f",
             "gridcolor": "#C8D4E3",
             "linecolor": "#C8D4E3",
             "minorgridcolor": "#C8D4E3",
             "startlinecolor": "#2a3f5f"
            },
            "baxis": {
             "endlinecolor": "#2a3f5f",
             "gridcolor": "#C8D4E3",
             "linecolor": "#C8D4E3",
             "minorgridcolor": "#C8D4E3",
             "startlinecolor": "#2a3f5f"
            },
            "type": "carpet"
           }
          ],
          "choropleth": [
           {
            "colorbar": {
             "outlinewidth": 0,
             "ticks": ""
            },
            "type": "choropleth"
           }
          ],
          "contour": [
           {
            "colorbar": {
             "outlinewidth": 0,
             "ticks": ""
            },
            "colorscale": [
             [
              0,
              "#0d0887"
             ],
             [
              0.1111111111111111,
              "#46039f"
             ],
             [
              0.2222222222222222,
              "#7201a8"
             ],
             [
              0.3333333333333333,
              "#9c179e"
             ],
             [
              0.4444444444444444,
              "#bd3786"
             ],
             [
              0.5555555555555556,
              "#d8576b"
             ],
             [
              0.6666666666666666,
              "#ed7953"
             ],
             [
              0.7777777777777778,
              "#fb9f3a"
             ],
             [
              0.8888888888888888,
              "#fdca26"
             ],
             [
              1,
              "#f0f921"
             ]
            ],
            "type": "contour"
           }
          ],
          "contourcarpet": [
           {
            "colorbar": {
             "outlinewidth": 0,
             "ticks": ""
            },
            "type": "contourcarpet"
           }
          ],
          "heatmap": [
           {
            "colorbar": {
             "outlinewidth": 0,
             "ticks": ""
            },
            "colorscale": [
             [
              0,
              "#0d0887"
             ],
             [
              0.1111111111111111,
              "#46039f"
             ],
             [
              0.2222222222222222,
              "#7201a8"
             ],
             [
              0.3333333333333333,
              "#9c179e"
             ],
             [
              0.4444444444444444,
              "#bd3786"
             ],
             [
              0.5555555555555556,
              "#d8576b"
             ],
             [
              0.6666666666666666,
              "#ed7953"
             ],
             [
              0.7777777777777778,
              "#fb9f3a"
             ],
             [
              0.8888888888888888,
              "#fdca26"
             ],
             [
              1,
              "#f0f921"
             ]
            ],
            "type": "heatmap"
           }
          ],
          "heatmapgl": [
           {
            "colorbar": {
             "outlinewidth": 0,
             "ticks": ""
            },
            "colorscale": [
             [
              0,
              "#0d0887"
             ],
             [
              0.1111111111111111,
              "#46039f"
             ],
             [
              0.2222222222222222,
              "#7201a8"
             ],
             [
              0.3333333333333333,
              "#9c179e"
             ],
             [
              0.4444444444444444,
              "#bd3786"
             ],
             [
              0.5555555555555556,
              "#d8576b"
             ],
             [
              0.6666666666666666,
              "#ed7953"
             ],
             [
              0.7777777777777778,
              "#fb9f3a"
             ],
             [
              0.8888888888888888,
              "#fdca26"
             ],
             [
              1,
              "#f0f921"
             ]
            ],
            "type": "heatmapgl"
           }
          ],
          "histogram": [
           {
            "marker": {
             "colorbar": {
              "outlinewidth": 0,
              "ticks": ""
             }
            },
            "type": "histogram"
           }
          ],
          "histogram2d": [
           {
            "colorbar": {
             "outlinewidth": 0,
             "ticks": ""
            },
            "colorscale": [
             [
              0,
              "#0d0887"
             ],
             [
              0.1111111111111111,
              "#46039f"
             ],
             [
              0.2222222222222222,
              "#7201a8"
             ],
             [
              0.3333333333333333,
              "#9c179e"
             ],
             [
              0.4444444444444444,
              "#bd3786"
             ],
             [
              0.5555555555555556,
              "#d8576b"
             ],
             [
              0.6666666666666666,
              "#ed7953"
             ],
             [
              0.7777777777777778,
              "#fb9f3a"
             ],
             [
              0.8888888888888888,
              "#fdca26"
             ],
             [
              1,
              "#f0f921"
             ]
            ],
            "type": "histogram2d"
           }
          ],
          "histogram2dcontour": [
           {
            "colorbar": {
             "outlinewidth": 0,
             "ticks": ""
            },
            "colorscale": [
             [
              0,
              "#0d0887"
             ],
             [
              0.1111111111111111,
              "#46039f"
             ],
             [
              0.2222222222222222,
              "#7201a8"
             ],
             [
              0.3333333333333333,
              "#9c179e"
             ],
             [
              0.4444444444444444,
              "#bd3786"
             ],
             [
              0.5555555555555556,
              "#d8576b"
             ],
             [
              0.6666666666666666,
              "#ed7953"
             ],
             [
              0.7777777777777778,
              "#fb9f3a"
             ],
             [
              0.8888888888888888,
              "#fdca26"
             ],
             [
              1,
              "#f0f921"
             ]
            ],
            "type": "histogram2dcontour"
           }
          ],
          "mesh3d": [
           {
            "colorbar": {
             "outlinewidth": 0,
             "ticks": ""
            },
            "type": "mesh3d"
           }
          ],
          "parcoords": [
           {
            "line": {
             "colorbar": {
              "outlinewidth": 0,
              "ticks": ""
             }
            },
            "type": "parcoords"
           }
          ],
          "pie": [
           {
            "automargin": true,
            "type": "pie"
           }
          ],
          "scatter": [
           {
            "marker": {
             "colorbar": {
              "outlinewidth": 0,
              "ticks": ""
             }
            },
            "type": "scatter"
           }
          ],
          "scatter3d": [
           {
            "line": {
             "colorbar": {
              "outlinewidth": 0,
              "ticks": ""
             }
            },
            "marker": {
             "colorbar": {
              "outlinewidth": 0,
              "ticks": ""
             }
            },
            "type": "scatter3d"
           }
          ],
          "scattercarpet": [
           {
            "marker": {
             "colorbar": {
              "outlinewidth": 0,
              "ticks": ""
             }
            },
            "type": "scattercarpet"
           }
          ],
          "scattergeo": [
           {
            "marker": {
             "colorbar": {
              "outlinewidth": 0,
              "ticks": ""
             }
            },
            "type": "scattergeo"
           }
          ],
          "scattergl": [
           {
            "marker": {
             "colorbar": {
              "outlinewidth": 0,
              "ticks": ""
             }
            },
            "type": "scattergl"
           }
          ],
          "scattermapbox": [
           {
            "marker": {
             "colorbar": {
              "outlinewidth": 0,
              "ticks": ""
             }
            },
            "type": "scattermapbox"
           }
          ],
          "scatterpolar": [
           {
            "marker": {
             "colorbar": {
              "outlinewidth": 0,
              "ticks": ""
             }
            },
            "type": "scatterpolar"
           }
          ],
          "scatterpolargl": [
           {
            "marker": {
             "colorbar": {
              "outlinewidth": 0,
              "ticks": ""
             }
            },
            "type": "scatterpolargl"
           }
          ],
          "scatterternary": [
           {
            "marker": {
             "colorbar": {
              "outlinewidth": 0,
              "ticks": ""
             }
            },
            "type": "scatterternary"
           }
          ],
          "surface": [
           {
            "colorbar": {
             "outlinewidth": 0,
             "ticks": ""
            },
            "colorscale": [
             [
              0,
              "#0d0887"
             ],
             [
              0.1111111111111111,
              "#46039f"
             ],
             [
              0.2222222222222222,
              "#7201a8"
             ],
             [
              0.3333333333333333,
              "#9c179e"
             ],
             [
              0.4444444444444444,
              "#bd3786"
             ],
             [
              0.5555555555555556,
              "#d8576b"
             ],
             [
              0.6666666666666666,
              "#ed7953"
             ],
             [
              0.7777777777777778,
              "#fb9f3a"
             ],
             [
              0.8888888888888888,
              "#fdca26"
             ],
             [
              1,
              "#f0f921"
             ]
            ],
            "type": "surface"
           }
          ],
          "table": [
           {
            "cells": {
             "fill": {
              "color": "#EBF0F8"
             },
             "line": {
              "color": "white"
             }
            },
            "header": {
             "fill": {
              "color": "#C8D4E3"
             },
             "line": {
              "color": "white"
             }
            },
            "type": "table"
           }
          ]
         },
         "layout": {
          "annotationdefaults": {
           "arrowcolor": "#2a3f5f",
           "arrowhead": 0,
           "arrowwidth": 1
          },
          "coloraxis": {
           "colorbar": {
            "outlinewidth": 0,
            "ticks": ""
           }
          },
          "colorscale": {
           "diverging": [
            [
             0,
             "#8e0152"
            ],
            [
             0.1,
             "#c51b7d"
            ],
            [
             0.2,
             "#de77ae"
            ],
            [
             0.3,
             "#f1b6da"
            ],
            [
             0.4,
             "#fde0ef"
            ],
            [
             0.5,
             "#f7f7f7"
            ],
            [
             0.6,
             "#e6f5d0"
            ],
            [
             0.7,
             "#b8e186"
            ],
            [
             0.8,
             "#7fbc41"
            ],
            [
             0.9,
             "#4d9221"
            ],
            [
             1,
             "#276419"
            ]
           ],
           "sequential": [
            [
             0,
             "#0d0887"
            ],
            [
             0.1111111111111111,
             "#46039f"
            ],
            [
             0.2222222222222222,
             "#7201a8"
            ],
            [
             0.3333333333333333,
             "#9c179e"
            ],
            [
             0.4444444444444444,
             "#bd3786"
            ],
            [
             0.5555555555555556,
             "#d8576b"
            ],
            [
             0.6666666666666666,
             "#ed7953"
            ],
            [
             0.7777777777777778,
             "#fb9f3a"
            ],
            [
             0.8888888888888888,
             "#fdca26"
            ],
            [
             1,
             "#f0f921"
            ]
           ],
           "sequentialminus": [
            [
             0,
             "#0d0887"
            ],
            [
             0.1111111111111111,
             "#46039f"
            ],
            [
             0.2222222222222222,
             "#7201a8"
            ],
            [
             0.3333333333333333,
             "#9c179e"
            ],
            [
             0.4444444444444444,
             "#bd3786"
            ],
            [
             0.5555555555555556,
             "#d8576b"
            ],
            [
             0.6666666666666666,
             "#ed7953"
            ],
            [
             0.7777777777777778,
             "#fb9f3a"
            ],
            [
             0.8888888888888888,
             "#fdca26"
            ],
            [
             1,
             "#f0f921"
            ]
           ]
          },
          "colorway": [
           "#636efa",
           "#EF553B",
           "#00cc96",
           "#ab63fa",
           "#FFA15A",
           "#19d3f3",
           "#FF6692",
           "#B6E880",
           "#FF97FF",
           "#FECB52"
          ],
          "font": {
           "color": "#2a3f5f"
          },
          "geo": {
           "bgcolor": "white",
           "lakecolor": "white",
           "landcolor": "white",
           "showlakes": true,
           "showland": true,
           "subunitcolor": "#C8D4E3"
          },
          "hoverlabel": {
           "align": "left"
          },
          "hovermode": "closest",
          "mapbox": {
           "style": "light"
          },
          "paper_bgcolor": "white",
          "plot_bgcolor": "white",
          "polar": {
           "angularaxis": {
            "gridcolor": "#EBF0F8",
            "linecolor": "#EBF0F8",
            "ticks": ""
           },
           "bgcolor": "white",
           "radialaxis": {
            "gridcolor": "#EBF0F8",
            "linecolor": "#EBF0F8",
            "ticks": ""
           }
          },
          "scene": {
           "xaxis": {
            "backgroundcolor": "white",
            "gridcolor": "#DFE8F3",
            "gridwidth": 2,
            "linecolor": "#EBF0F8",
            "showbackground": true,
            "ticks": "",
            "zerolinecolor": "#EBF0F8"
           },
           "yaxis": {
            "backgroundcolor": "white",
            "gridcolor": "#DFE8F3",
            "gridwidth": 2,
            "linecolor": "#EBF0F8",
            "showbackground": true,
            "ticks": "",
            "zerolinecolor": "#EBF0F8"
           },
           "zaxis": {
            "backgroundcolor": "white",
            "gridcolor": "#DFE8F3",
            "gridwidth": 2,
            "linecolor": "#EBF0F8",
            "showbackground": true,
            "ticks": "",
            "zerolinecolor": "#EBF0F8"
           }
          },
          "shapedefaults": {
           "line": {
            "color": "#2a3f5f"
           }
          },
          "ternary": {
           "aaxis": {
            "gridcolor": "#DFE8F3",
            "linecolor": "#A2B1C6",
            "ticks": ""
           },
           "baxis": {
            "gridcolor": "#DFE8F3",
            "linecolor": "#A2B1C6",
            "ticks": ""
           },
           "bgcolor": "white",
           "caxis": {
            "gridcolor": "#DFE8F3",
            "linecolor": "#A2B1C6",
            "ticks": ""
           }
          },
          "title": {
           "x": 0.05
          },
          "xaxis": {
           "automargin": true,
           "gridcolor": "#EBF0F8",
           "linecolor": "#EBF0F8",
           "ticks": "",
           "title": {
            "standoff": 15
           },
           "zerolinecolor": "#EBF0F8",
           "zerolinewidth": 2
          },
          "yaxis": {
           "automargin": true,
           "gridcolor": "#EBF0F8",
           "linecolor": "#EBF0F8",
           "ticks": "",
           "title": {
            "standoff": 15
           },
           "zerolinecolor": "#EBF0F8",
           "zerolinewidth": 2
          }
         }
        },
        "title": {
         "text": "Time taken (tripgen)"
        },
        "uniformtext": {
         "minsize": 8,
         "mode": "hide"
        },
        "width": 400,
        "xaxis": {
         "autorange": false,
         "range": [
          -0.6380536695764629,
          1.638053669576463
         ],
         "title": {
          "text": "Seed"
         },
         "type": "category"
        },
        "yaxis": {
         "autorange": false,
         "range": [
          5,
          9
         ],
         "title": {
          "text": "Time taken (min)"
         },
         "type": "linear"
        }
       }
      },
      "image/png": "[encoded data removed]",
      "text/html": [
       "<div>                            <div id=\"e771e6c6-dd06-4d9d-baa5-c7d3b29eb107\" class=\"plotly-graph-div\" style=\"height:400px; width:400px;\"></div>            <script type=\"text/javascript\">                require([\"plotly\"], function(Plotly) {                    window.PLOTLYENV=window.PLOTLYENV || {};                                    if (document.getElementById(\"e771e6c6-dd06-4d9d-baa5-c7d3b29eb107\")) {                    Plotly.newPlot(                        \"e771e6c6-dd06-4d9d-baa5-c7d3b29eb107\",                        [{\"mode\": \"lines+markers+text\", \"name\": \"lines+markers\", \"text\": [\"# EV: 1125\", \"# EV: 1136\"], \"textposition\": \"top right\", \"type\": \"scatter\", \"x\": [\"0\", \"123\"], \"y\": [7.0, 7.0]}],                        {\"height\": 400, \"margin\": {\"b\": 20, \"l\": 20, \"r\": 0, \"t\": 30}, \"template\": {\"data\": {\"bar\": [{\"error_x\": {\"color\": \"#2a3f5f\"}, \"error_y\": {\"color\": \"#2a3f5f\"}, \"marker\": {\"line\": {\"color\": \"white\", \"width\": 0.5}}, \"type\": \"bar\"}], \"barpolar\": [{\"marker\": {\"line\": {\"color\": \"white\", \"width\": 0.5}}, \"type\": \"barpolar\"}], \"carpet\": [{\"aaxis\": {\"endlinecolor\": \"#2a3f5f\", \"gridcolor\": \"#C8D4E3\", \"linecolor\": \"#C8D4E3\", \"minorgridcolor\": \"#C8D4E3\", \"startlinecolor\": \"#2a3f5f\"}, \"baxis\": {\"endlinecolor\": \"#2a3f5f\", \"gridcolor\": \"#C8D4E3\", \"linecolor\": \"#C8D4E3\", \"minorgridcolor\": \"#C8D4E3\", \"startlinecolor\": \"#2a3f5f\"}, \"type\": \"carpet\"}], \"choropleth\": [{\"colorbar\": {\"outlinewidth\": 0, \"ticks\": \"\"}, \"type\": \"choropleth\"}], \"contour\": [{\"colorbar\": {\"outlinewidth\": 0, \"ticks\": \"\"}, \"colorscale\": [[0.0, \"#0d0887\"], [0.1111111111111111, \"#46039f\"], [0.2222222222222222, \"#7201a8\"], [0.3333333333333333, \"#9c179e\"], [0.4444444444444444, \"#bd3786\"], [0.5555555555555556, \"#d8576b\"], [0.6666666666666666, \"#ed7953\"], [0.7777777777777778, \"#fb9f3a\"], [0.8888888888888888, \"#fdca26\"], [1.0, \"#f0f921\"]], \"type\": \"contour\"}], \"contourcarpet\": [{\"colorbar\": {\"outlinewidth\": 0, \"ticks\": \"\"}, \"type\": \"contourcarpet\"}], \"heatmap\": [{\"colorbar\": {\"outlinewidth\": 0, \"ticks\": \"\"}, \"colorscale\": [[0.0, \"#0d0887\"], [0.1111111111111111, \"#46039f\"], [0.2222222222222222, \"#7201a8\"], [0.3333333333333333, \"#9c179e\"], [0.4444444444444444, \"#bd3786\"], [0.5555555555555556, \"#d8576b\"], [0.6666666666666666, \"#ed7953\"], [0.7777777777777778, \"#fb9f3a\"], [0.8888888888888888, \"#fdca26\"], [1.0, \"#f0f921\"]], \"type\": \"heatmap\"}], \"heatmapgl\": [{\"colorbar\": {\"outlinewidth\": 0, \"ticks\": \"\"}, \"colorscale\": [[0.0, \"#0d0887\"], [0.1111111111111111, \"#46039f\"], [0.2222222222222222, \"#7201a8\"], [0.3333333333333333, \"#9c179e\"], [0.4444444444444444, \"#bd3786\"], [0.5555555555555556, \"#d8576b\"], [0.6666666666666666, \"#ed7953\"], [0.7777777777777778, \"#fb9f3a\"], [0.8888888888888888, \"#fdca26\"], [1.0, \"#f0f921\"]], \"type\": \"heatmapgl\"}], \"histogram\": [{\"marker\": {\"colorbar\": {\"outlinewidth\": 0, \"ticks\": \"\"}}, \"type\": \"histogram\"}], \"histogram2d\": [{\"colorbar\": {\"outlinewidth\": 0, \"ticks\": \"\"}, \"colorscale\": [[0.0, \"#0d0887\"], [0.1111111111111111, \"#46039f\"], [0.2222222222222222, \"#7201a8\"], [0.3333333333333333, \"#9c179e\"], [0.4444444444444444, \"#bd3786\"], [0.5555555555555556, \"#d8576b\"], [0.6666666666666666, \"#ed7953\"], [0.7777777777777778, \"#fb9f3a\"], [0.8888888888888888, \"#fdca26\"], [1.0, \"#f0f921\"]], \"type\": \"histogram2d\"}], \"histogram2dcontour\": [{\"colorbar\": {\"outlinewidth\": 0, \"ticks\": \"\"}, \"colorscale\": [[0.0, \"#0d0887\"], [0.1111111111111111, \"#46039f\"], [0.2222222222222222, \"#7201a8\"], [0.3333333333333333, \"#9c179e\"], [0.4444444444444444, \"#bd3786\"], [0.5555555555555556, \"#d8576b\"], [0.6666666666666666, \"#ed7953\"], [0.7777777777777778, \"#fb9f3a\"], [0.8888888888888888, \"#fdca26\"], [1.0, \"#f0f921\"]], \"type\": \"histogram2dcontour\"}], \"mesh3d\": [{\"colorbar\": {\"outlinewidth\": 0, \"ticks\": \"\"}, \"type\": \"mesh3d\"}], \"parcoords\": [{\"line\": {\"colorbar\": {\"outlinewidth\": 0, \"ticks\": \"\"}}, \"type\": \"parcoords\"}], \"pie\": [{\"automargin\": true, \"type\": \"pie\"}], \"scatter\": [{\"marker\": {\"colorbar\": {\"outlinewidth\": 0, \"ticks\": \"\"}}, \"type\": \"scatter\"}], \"scatter3d\": [{\"line\": {\"colorbar\": {\"outlinewidth\": 0, \"ticks\": \"\"}}, \"marker\": {\"colorbar\": {\"outlinewidth\": 0, \"ticks\": \"\"}}, \"type\": \"scatter3d\"}], \"scattercarpet\": [{\"marker\": {\"colorbar\": {\"outlinewidth\": 0, \"ticks\": \"\"}}, \"type\": \"scattercarpet\"}], \"scattergeo\": [{\"marker\": {\"colorbar\": {\"outlinewidth\": 0, \"ticks\": \"\"}}, \"type\": \"scattergeo\"}], \"scattergl\": [{\"marker\": {\"colorbar\": {\"outlinewidth\": 0, \"ticks\": \"\"}}, \"type\": \"scattergl\"}], \"scattermapbox\": [{\"marker\": {\"colorbar\": {\"outlinewidth\": 0, \"ticks\": \"\"}}, \"type\": \"scattermapbox\"}], \"scatterpolar\": [{\"marker\": {\"colorbar\": {\"outlinewidth\": 0, \"ticks\": \"\"}}, \"type\": \"scatterpolar\"}], \"scatterpolargl\": [{\"marker\": {\"colorbar\": {\"outlinewidth\": 0, \"ticks\": \"\"}}, \"type\": \"scatterpolargl\"}], \"scatterternary\": [{\"marker\": {\"colorbar\": {\"outlinewidth\": 0, \"ticks\": \"\"}}, \"type\": \"scatterternary\"}], \"surface\": [{\"colorbar\": {\"outlinewidth\": 0, \"ticks\": \"\"}, \"colorscale\": [[0.0, \"#0d0887\"], [0.1111111111111111, \"#46039f\"], [0.2222222222222222, \"#7201a8\"], [0.3333333333333333, \"#9c179e\"], [0.4444444444444444, \"#bd3786\"], [0.5555555555555556, \"#d8576b\"], [0.6666666666666666, \"#ed7953\"], [0.7777777777777778, \"#fb9f3a\"], [0.8888888888888888, \"#fdca26\"], [1.0, \"#f0f921\"]], \"type\": \"surface\"}], \"table\": [{\"cells\": {\"fill\": {\"color\": \"#EBF0F8\"}, \"line\": {\"color\": \"white\"}}, \"header\": {\"fill\": {\"color\": \"#C8D4E3\"}, \"line\": {\"color\": \"white\"}}, \"type\": \"table\"}]}, \"layout\": {\"annotationdefaults\": {\"arrowcolor\": \"#2a3f5f\", \"arrowhead\": 0, \"arrowwidth\": 1}, \"coloraxis\": {\"colorbar\": {\"outlinewidth\": 0, \"ticks\": \"\"}}, \"colorscale\": {\"diverging\": [[0, \"#8e0152\"], [0.1, \"#c51b7d\"], [0.2, \"#de77ae\"], [0.3, \"#f1b6da\"], [0.4, \"#fde0ef\"], [0.5, \"#f7f7f7\"], [0.6, \"#e6f5d0\"], [0.7, \"#b8e186\"], [0.8, \"#7fbc41\"], [0.9, \"#4d9221\"], [1, \"#276419\"]], \"sequential\": [[0.0, \"#0d0887\"], [0.1111111111111111, \"#46039f\"], [0.2222222222222222, \"#7201a8\"], [0.3333333333333333, \"#9c179e\"], [0.4444444444444444, \"#bd3786\"], [0.5555555555555556, \"#d8576b\"], [0.6666666666666666, \"#ed7953\"], [0.7777777777777778, \"#fb9f3a\"], [0.8888888888888888, \"#fdca26\"], [1.0, \"#f0f921\"]], \"sequentialminus\": [[0.0, \"#0d0887\"], [0.1111111111111111, \"#46039f\"], [0.2222222222222222, \"#7201a8\"], [0.3333333333333333, \"#9c179e\"], [0.4444444444444444, \"#bd3786\"], [0.5555555555555556, \"#d8576b\"], [0.6666666666666666, \"#ed7953\"], [0.7777777777777778, \"#fb9f3a\"], [0.8888888888888888, \"#fdca26\"], [1.0, \"#f0f921\"]]}, \"colorway\": [\"#636efa\", \"#EF553B\", \"#00cc96\", \"#ab63fa\", \"#FFA15A\", \"#19d3f3\", \"#FF6692\", \"#B6E880\", \"#FF97FF\", \"#FECB52\"], \"font\": {\"color\": \"#2a3f5f\"}, \"geo\": {\"bgcolor\": \"white\", \"lakecolor\": \"white\", \"landcolor\": \"white\", \"showlakes\": true, \"showland\": true, \"subunitcolor\": \"#C8D4E3\"}, \"hoverlabel\": {\"align\": \"left\"}, \"hovermode\": \"closest\", \"mapbox\": {\"style\": \"light\"}, \"paper_bgcolor\": \"white\", \"plot_bgcolor\": \"white\", \"polar\": {\"angularaxis\": {\"gridcolor\": \"#EBF0F8\", \"linecolor\": \"#EBF0F8\", \"ticks\": \"\"}, \"bgcolor\": \"white\", \"radialaxis\": {\"gridcolor\": \"#EBF0F8\", \"linecolor\": \"#EBF0F8\", \"ticks\": \"\"}}, \"scene\": {\"xaxis\": {\"backgroundcolor\": \"white\", \"gridcolor\": \"#DFE8F3\", \"gridwidth\": 2, \"linecolor\": \"#EBF0F8\", \"showbackground\": true, \"ticks\": \"\", \"zerolinecolor\": \"#EBF0F8\"}, \"yaxis\": {\"backgroundcolor\": \"white\", \"gridcolor\": \"#DFE8F3\", \"gridwidth\": 2, \"linecolor\": \"#EBF0F8\", \"showbackground\": true, \"ticks\": \"\", \"zerolinecolor\": \"#EBF0F8\"}, \"zaxis\": {\"backgroundcolor\": \"white\", \"gridcolor\": \"#DFE8F3\", \"gridwidth\": 2, \"linecolor\": \"#EBF0F8\", \"showbackground\": true, \"ticks\": \"\", \"zerolinecolor\": \"#EBF0F8\"}}, \"shapedefaults\": {\"line\": {\"color\": \"#2a3f5f\"}}, \"ternary\": {\"aaxis\": {\"gridcolor\": \"#DFE8F3\", \"linecolor\": \"#A2B1C6\", \"ticks\": \"\"}, \"baxis\": {\"gridcolor\": \"#DFE8F3\", \"linecolor\": \"#A2B1C6\", \"ticks\": \"\"}, \"bgcolor\": \"white\", \"caxis\": {\"gridcolor\": \"#DFE8F3\", \"linecolor\": \"#A2B1C6\", \"ticks\": \"\"}}, \"title\": {\"x\": 0.05}, \"xaxis\": {\"automargin\": true, \"gridcolor\": \"#EBF0F8\", \"linecolor\": \"#EBF0F8\", \"ticks\": \"\", \"title\": {\"standoff\": 15}, \"zerolinecolor\": \"#EBF0F8\", \"zerolinewidth\": 2}, \"yaxis\": {\"automargin\": true, \"gridcolor\": \"#EBF0F8\", \"linecolor\": \"#EBF0F8\", \"ticks\": \"\", \"title\": {\"standoff\": 15}, \"zerolinecolor\": \"#EBF0F8\", \"zerolinewidth\": 2}}}, \"title\": {\"text\": \"Time taken (tripgen)\"}, \"uniformtext\": {\"minsize\": 8, \"mode\": \"hide\"}, \"width\": 400, \"xaxis\": {\"title\": {\"text\": \"Seed\"}, \"type\": \"category\"}, \"yaxis\": {\"title\": {\"text\": \"Time taken (min)\"}}},                        {\"responsive\": true}                    ).then(function(){\n",
       "                            \n",
       "var gd = document.getElementById('e771e6c6-dd06-4d9d-baa5-c7d3b29eb107');\n",
       "var x = new MutationObserver(function (mutations, observer) {{\n",
       "        var display = window.getComputedStyle(gd).display;\n",
       "        if (!display || display === 'none') {{\n",
       "            console.log([gd, 'removed!']);\n",
       "            Plotly.purge(gd);\n",
       "            observer.disconnect();\n",
       "        }}\n",
       "}});\n",
       "\n",
       "// Listen for the removal of the full notebook cells\n",
       "var notebookContainer = gd.closest('#notebook-container');\n",
       "if (notebookContainer) {{\n",
       "    x.observe(notebookContainer, {childList: true});\n",
       "}}\n",
       "\n",
       "// Listen for the clearing of the current output cell\n",
       "var outputEl = gd.closest('.output');\n",
       "if (outputEl) {{\n",
       "    x.observe(outputEl, {childList: true});\n",
       "}}\n",
       "\n",
       "                        })                };                });            </script>        </div>"
      ]
     },
     "metadata": {},
     "output_type": "display_data"
    }
   ],
   "source": [
    "fig = go.Figure()\n",
    "fig.add_trace(go.Scatter(x=comp_stats['param_value'], y=comp_stats['time_taken_tripgen'],\n",
    "                         mode='lines+markers+text',\n",
    "                         name='lines+markers', \n",
    "                         text=comp_stats['ev_count'],\n",
    "                         textposition=\"top right\"))\n",
    "fig.update_xaxes(type='category')\n",
    "fig.update_layout(title=\"Time taken (tripgen)\",\n",
    "                  yaxis_title=\"Time taken (min)\", \n",
    "                  xaxis_title=\"Seed\", \n",
    "                  uniformtext_minsize=8, \n",
    "                  uniformtext_mode='hide', \n",
    "                  width=400, \n",
    "                  height=400, \n",
    "                  margin=dict(l=20, r=0, t=30, b=20),\n",
    "                 template='plotly_white')\n",
    "fig.show()"
   ]
  },
  {
   "cell_type": "code",
   "execution_count": 48,
   "metadata": {},
   "outputs": [
    {
     "data": {
      "application/vnd.plotly.v1+json": {
       "config": {
        "plotlyServerURL": "https://plot.ly"
       },
       "data": [
        {
         "mode": "lines+markers+text",
         "name": "lines+markers",
         "type": "scatter",
         "x": [
          "0",
          "123"
         ],
         "y": [
          409,
          406
         ]
        }
       ],
       "layout": {
        "height": 400,
        "margin": {
         "b": 20,
         "l": 20,
         "r": 20,
         "t": 30
        },
        "template": {
         "data": {
          "bar": [
           {
            "error_x": {
             "color": "#2a3f5f"
            },
            "error_y": {
             "color": "#2a3f5f"
            },
            "marker": {
             "line": {
              "color": "white",
              "width": 0.5
             }
            },
            "type": "bar"
           }
          ],
          "barpolar": [
           {
            "marker": {
             "line": {
              "color": "white",
              "width": 0.5
             }
            },
            "type": "barpolar"
           }
          ],
          "carpet": [
           {
            "aaxis": {
             "endlinecolor": "#2a3f5f",
             "gridcolor": "#C8D4E3",
             "linecolor": "#C8D4E3",
             "minorgridcolor": "#C8D4E3",
             "startlinecolor": "#2a3f5f"
            },
            "baxis": {
             "endlinecolor": "#2a3f5f",
             "gridcolor": "#C8D4E3",
             "linecolor": "#C8D4E3",
             "minorgridcolor": "#C8D4E3",
             "startlinecolor": "#2a3f5f"
            },
            "type": "carpet"
           }
          ],
          "choropleth": [
           {
            "colorbar": {
             "outlinewidth": 0,
             "ticks": ""
            },
            "type": "choropleth"
           }
          ],
          "contour": [
           {
            "colorbar": {
             "outlinewidth": 0,
             "ticks": ""
            },
            "colorscale": [
             [
              0,
              "#0d0887"
             ],
             [
              0.1111111111111111,
              "#46039f"
             ],
             [
              0.2222222222222222,
              "#7201a8"
             ],
             [
              0.3333333333333333,
              "#9c179e"
             ],
             [
              0.4444444444444444,
              "#bd3786"
             ],
             [
              0.5555555555555556,
              "#d8576b"
             ],
             [
              0.6666666666666666,
              "#ed7953"
             ],
             [
              0.7777777777777778,
              "#fb9f3a"
             ],
             [
              0.8888888888888888,
              "#fdca26"
             ],
             [
              1,
              "#f0f921"
             ]
            ],
            "type": "contour"
           }
          ],
          "contourcarpet": [
           {
            "colorbar": {
             "outlinewidth": 0,
             "ticks": ""
            },
            "type": "contourcarpet"
           }
          ],
          "heatmap": [
           {
            "colorbar": {
             "outlinewidth": 0,
             "ticks": ""
            },
            "colorscale": [
             [
              0,
              "#0d0887"
             ],
             [
              0.1111111111111111,
              "#46039f"
             ],
             [
              0.2222222222222222,
              "#7201a8"
             ],
             [
              0.3333333333333333,
              "#9c179e"
             ],
             [
              0.4444444444444444,
              "#bd3786"
             ],
             [
              0.5555555555555556,
              "#d8576b"
             ],
             [
              0.6666666666666666,
              "#ed7953"
             ],
             [
              0.7777777777777778,
              "#fb9f3a"
             ],
             [
              0.8888888888888888,
              "#fdca26"
             ],
             [
              1,
              "#f0f921"
             ]
            ],
            "type": "heatmap"
           }
          ],
          "heatmapgl": [
           {
            "colorbar": {
             "outlinewidth": 0,
             "ticks": ""
            },
            "colorscale": [
             [
              0,
              "#0d0887"
             ],
             [
              0.1111111111111111,
              "#46039f"
             ],
             [
              0.2222222222222222,
              "#7201a8"
             ],
             [
              0.3333333333333333,
              "#9c179e"
             ],
             [
              0.4444444444444444,
              "#bd3786"
             ],
             [
              0.5555555555555556,
              "#d8576b"
             ],
             [
              0.6666666666666666,
              "#ed7953"
             ],
             [
              0.7777777777777778,
              "#fb9f3a"
             ],
             [
              0.8888888888888888,
              "#fdca26"
             ],
             [
              1,
              "#f0f921"
             ]
            ],
            "type": "heatmapgl"
           }
          ],
          "histogram": [
           {
            "marker": {
             "colorbar": {
              "outlinewidth": 0,
              "ticks": ""
             }
            },
            "type": "histogram"
           }
          ],
          "histogram2d": [
           {
            "colorbar": {
             "outlinewidth": 0,
             "ticks": ""
            },
            "colorscale": [
             [
              0,
              "#0d0887"
             ],
             [
              0.1111111111111111,
              "#46039f"
             ],
             [
              0.2222222222222222,
              "#7201a8"
             ],
             [
              0.3333333333333333,
              "#9c179e"
             ],
             [
              0.4444444444444444,
              "#bd3786"
             ],
             [
              0.5555555555555556,
              "#d8576b"
             ],
             [
              0.6666666666666666,
              "#ed7953"
             ],
             [
              0.7777777777777778,
              "#fb9f3a"
             ],
             [
              0.8888888888888888,
              "#fdca26"
             ],
             [
              1,
              "#f0f921"
             ]
            ],
            "type": "histogram2d"
           }
          ],
          "histogram2dcontour": [
           {
            "colorbar": {
             "outlinewidth": 0,
             "ticks": ""
            },
            "colorscale": [
             [
              0,
              "#0d0887"
             ],
             [
              0.1111111111111111,
              "#46039f"
             ],
             [
              0.2222222222222222,
              "#7201a8"
             ],
             [
              0.3333333333333333,
              "#9c179e"
             ],
             [
              0.4444444444444444,
              "#bd3786"
             ],
             [
              0.5555555555555556,
              "#d8576b"
             ],
             [
              0.6666666666666666,
              "#ed7953"
             ],
             [
              0.7777777777777778,
              "#fb9f3a"
             ],
             [
              0.8888888888888888,
              "#fdca26"
             ],
             [
              1,
              "#f0f921"
             ]
            ],
            "type": "histogram2dcontour"
           }
          ],
          "mesh3d": [
           {
            "colorbar": {
             "outlinewidth": 0,
             "ticks": ""
            },
            "type": "mesh3d"
           }
          ],
          "parcoords": [
           {
            "line": {
             "colorbar": {
              "outlinewidth": 0,
              "ticks": ""
             }
            },
            "type": "parcoords"
           }
          ],
          "pie": [
           {
            "automargin": true,
            "type": "pie"
           }
          ],
          "scatter": [
           {
            "marker": {
             "colorbar": {
              "outlinewidth": 0,
              "ticks": ""
             }
            },
            "type": "scatter"
           }
          ],
          "scatter3d": [
           {
            "line": {
             "colorbar": {
              "outlinewidth": 0,
              "ticks": ""
             }
            },
            "marker": {
             "colorbar": {
              "outlinewidth": 0,
              "ticks": ""
             }
            },
            "type": "scatter3d"
           }
          ],
          "scattercarpet": [
           {
            "marker": {
             "colorbar": {
              "outlinewidth": 0,
              "ticks": ""
             }
            },
            "type": "scattercarpet"
           }
          ],
          "scattergeo": [
           {
            "marker": {
             "colorbar": {
              "outlinewidth": 0,
              "ticks": ""
             }
            },
            "type": "scattergeo"
           }
          ],
          "scattergl": [
           {
            "marker": {
             "colorbar": {
              "outlinewidth": 0,
              "ticks": ""
             }
            },
            "type": "scattergl"
           }
          ],
          "scattermapbox": [
           {
            "marker": {
             "colorbar": {
              "outlinewidth": 0,
              "ticks": ""
             }
            },
            "type": "scattermapbox"
           }
          ],
          "scatterpolar": [
           {
            "marker": {
             "colorbar": {
              "outlinewidth": 0,
              "ticks": ""
             }
            },
            "type": "scatterpolar"
           }
          ],
          "scatterpolargl": [
           {
            "marker": {
             "colorbar": {
              "outlinewidth": 0,
              "ticks": ""
             }
            },
            "type": "scatterpolargl"
           }
          ],
          "scatterternary": [
           {
            "marker": {
             "colorbar": {
              "outlinewidth": 0,
              "ticks": ""
             }
            },
            "type": "scatterternary"
           }
          ],
          "surface": [
           {
            "colorbar": {
             "outlinewidth": 0,
             "ticks": ""
            },
            "colorscale": [
             [
              0,
              "#0d0887"
             ],
             [
              0.1111111111111111,
              "#46039f"
             ],
             [
              0.2222222222222222,
              "#7201a8"
             ],
             [
              0.3333333333333333,
              "#9c179e"
             ],
             [
              0.4444444444444444,
              "#bd3786"
             ],
             [
              0.5555555555555556,
              "#d8576b"
             ],
             [
              0.6666666666666666,
              "#ed7953"
             ],
             [
              0.7777777777777778,
              "#fb9f3a"
             ],
             [
              0.8888888888888888,
              "#fdca26"
             ],
             [
              1,
              "#f0f921"
             ]
            ],
            "type": "surface"
           }
          ],
          "table": [
           {
            "cells": {
             "fill": {
              "color": "#EBF0F8"
             },
             "line": {
              "color": "white"
             }
            },
            "header": {
             "fill": {
              "color": "#C8D4E3"
             },
             "line": {
              "color": "white"
             }
            },
            "type": "table"
           }
          ]
         },
         "layout": {
          "annotationdefaults": {
           "arrowcolor": "#2a3f5f",
           "arrowhead": 0,
           "arrowwidth": 1
          },
          "coloraxis": {
           "colorbar": {
            "outlinewidth": 0,
            "ticks": ""
           }
          },
          "colorscale": {
           "diverging": [
            [
             0,
             "#8e0152"
            ],
            [
             0.1,
             "#c51b7d"
            ],
            [
             0.2,
             "#de77ae"
            ],
            [
             0.3,
             "#f1b6da"
            ],
            [
             0.4,
             "#fde0ef"
            ],
            [
             0.5,
             "#f7f7f7"
            ],
            [
             0.6,
             "#e6f5d0"
            ],
            [
             0.7,
             "#b8e186"
            ],
            [
             0.8,
             "#7fbc41"
            ],
            [
             0.9,
             "#4d9221"
            ],
            [
             1,
             "#276419"
            ]
           ],
           "sequential": [
            [
             0,
             "#0d0887"
            ],
            [
             0.1111111111111111,
             "#46039f"
            ],
            [
             0.2222222222222222,
             "#7201a8"
            ],
            [
             0.3333333333333333,
             "#9c179e"
            ],
            [
             0.4444444444444444,
             "#bd3786"
            ],
            [
             0.5555555555555556,
             "#d8576b"
            ],
            [
             0.6666666666666666,
             "#ed7953"
            ],
            [
             0.7777777777777778,
             "#fb9f3a"
            ],
            [
             0.8888888888888888,
             "#fdca26"
            ],
            [
             1,
             "#f0f921"
            ]
           ],
           "sequentialminus": [
            [
             0,
             "#0d0887"
            ],
            [
             0.1111111111111111,
             "#46039f"
            ],
            [
             0.2222222222222222,
             "#7201a8"
            ],
            [
             0.3333333333333333,
             "#9c179e"
            ],
            [
             0.4444444444444444,
             "#bd3786"
            ],
            [
             0.5555555555555556,
             "#d8576b"
            ],
            [
             0.6666666666666666,
             "#ed7953"
            ],
            [
             0.7777777777777778,
             "#fb9f3a"
            ],
            [
             0.8888888888888888,
             "#fdca26"
            ],
            [
             1,
             "#f0f921"
            ]
           ]
          },
          "colorway": [
           "#636efa",
           "#EF553B",
           "#00cc96",
           "#ab63fa",
           "#FFA15A",
           "#19d3f3",
           "#FF6692",
           "#B6E880",
           "#FF97FF",
           "#FECB52"
          ],
          "font": {
           "color": "#2a3f5f"
          },
          "geo": {
           "bgcolor": "white",
           "lakecolor": "white",
           "landcolor": "white",
           "showlakes": true,
           "showland": true,
           "subunitcolor": "#C8D4E3"
          },
          "hoverlabel": {
           "align": "left"
          },
          "hovermode": "closest",
          "mapbox": {
           "style": "light"
          },
          "paper_bgcolor": "white",
          "plot_bgcolor": "white",
          "polar": {
           "angularaxis": {
            "gridcolor": "#EBF0F8",
            "linecolor": "#EBF0F8",
            "ticks": ""
           },
           "bgcolor": "white",
           "radialaxis": {
            "gridcolor": "#EBF0F8",
            "linecolor": "#EBF0F8",
            "ticks": ""
           }
          },
          "scene": {
           "xaxis": {
            "backgroundcolor": "white",
            "gridcolor": "#DFE8F3",
            "gridwidth": 2,
            "linecolor": "#EBF0F8",
            "showbackground": true,
            "ticks": "",
            "zerolinecolor": "#EBF0F8"
           },
           "yaxis": {
            "backgroundcolor": "white",
            "gridcolor": "#DFE8F3",
            "gridwidth": 2,
            "linecolor": "#EBF0F8",
            "showbackground": true,
            "ticks": "",
            "zerolinecolor": "#EBF0F8"
           },
           "zaxis": {
            "backgroundcolor": "white",
            "gridcolor": "#DFE8F3",
            "gridwidth": 2,
            "linecolor": "#EBF0F8",
            "showbackground": true,
            "ticks": "",
            "zerolinecolor": "#EBF0F8"
           }
          },
          "shapedefaults": {
           "line": {
            "color": "#2a3f5f"
           }
          },
          "ternary": {
           "aaxis": {
            "gridcolor": "#DFE8F3",
            "linecolor": "#A2B1C6",
            "ticks": ""
           },
           "baxis": {
            "gridcolor": "#DFE8F3",
            "linecolor": "#A2B1C6",
            "ticks": ""
           },
           "bgcolor": "white",
           "caxis": {
            "gridcolor": "#DFE8F3",
            "linecolor": "#A2B1C6",
            "ticks": ""
           }
          },
          "title": {
           "x": 0.05
          },
          "xaxis": {
           "automargin": true,
           "gridcolor": "#EBF0F8",
           "linecolor": "#EBF0F8",
           "ticks": "",
           "title": {
            "standoff": 15
           },
           "zerolinecolor": "#EBF0F8",
           "zerolinewidth": 2
          },
          "yaxis": {
           "automargin": true,
           "gridcolor": "#EBF0F8",
           "linecolor": "#EBF0F8",
           "ticks": "",
           "title": {
            "standoff": 15
           },
           "zerolinecolor": "#EBF0F8",
           "zerolinewidth": 2
          }
         }
        },
        "title": {
         "text": "Time taken (eviabm)"
        },
        "uniformtext": {
         "minsize": 8,
         "mode": "hide"
        },
        "width": 400,
        "xaxis": {
         "autorange": true,
         "range": [
          -0.07121382938744832,
          1.0712138293874482
         ],
         "title": {
          "text": "Analysis ID"
         },
         "type": "category"
        },
        "yaxis": {
         "autorange": true,
         "range": [
          405.7881906825569,
          409.2118093174431
         ],
         "title": {
          "text": "Time taken (min)"
         },
         "type": "linear"
        }
       }
      },
      "image/png": "[encoded data removed]",
      "text/html": [
       "<div>                            <div id=\"6d34a9dd-2647-4867-81c0-9b652892dd22\" class=\"plotly-graph-div\" style=\"height:400px; width:400px;\"></div>            <script type=\"text/javascript\">                require([\"plotly\"], function(Plotly) {                    window.PLOTLYENV=window.PLOTLYENV || {};                                    if (document.getElementById(\"6d34a9dd-2647-4867-81c0-9b652892dd22\")) {                    Plotly.newPlot(                        \"6d34a9dd-2647-4867-81c0-9b652892dd22\",                        [{\"mode\": \"lines+markers+text\", \"name\": \"lines+markers\", \"type\": \"scatter\", \"x\": [\"0\", \"123\"], \"y\": [409.0, 406.0]}],                        {\"height\": 400, \"margin\": {\"b\": 20, \"l\": 20, \"r\": 20, \"t\": 30}, \"template\": {\"data\": {\"bar\": [{\"error_x\": {\"color\": \"#2a3f5f\"}, \"error_y\": {\"color\": \"#2a3f5f\"}, \"marker\": {\"line\": {\"color\": \"white\", \"width\": 0.5}}, \"type\": \"bar\"}], \"barpolar\": [{\"marker\": {\"line\": {\"color\": \"white\", \"width\": 0.5}}, \"type\": \"barpolar\"}], \"carpet\": [{\"aaxis\": {\"endlinecolor\": \"#2a3f5f\", \"gridcolor\": \"#C8D4E3\", \"linecolor\": \"#C8D4E3\", \"minorgridcolor\": \"#C8D4E3\", \"startlinecolor\": \"#2a3f5f\"}, \"baxis\": {\"endlinecolor\": \"#2a3f5f\", \"gridcolor\": \"#C8D4E3\", \"linecolor\": \"#C8D4E3\", \"minorgridcolor\": \"#C8D4E3\", \"startlinecolor\": \"#2a3f5f\"}, \"type\": \"carpet\"}], \"choropleth\": [{\"colorbar\": {\"outlinewidth\": 0, \"ticks\": \"\"}, \"type\": \"choropleth\"}], \"contour\": [{\"colorbar\": {\"outlinewidth\": 0, \"ticks\": \"\"}, \"colorscale\": [[0.0, \"#0d0887\"], [0.1111111111111111, \"#46039f\"], [0.2222222222222222, \"#7201a8\"], [0.3333333333333333, \"#9c179e\"], [0.4444444444444444, \"#bd3786\"], [0.5555555555555556, \"#d8576b\"], [0.6666666666666666, \"#ed7953\"], [0.7777777777777778, \"#fb9f3a\"], [0.8888888888888888, \"#fdca26\"], [1.0, \"#f0f921\"]], \"type\": \"contour\"}], \"contourcarpet\": [{\"colorbar\": {\"outlinewidth\": 0, \"ticks\": \"\"}, \"type\": \"contourcarpet\"}], \"heatmap\": [{\"colorbar\": {\"outlinewidth\": 0, \"ticks\": \"\"}, \"colorscale\": [[0.0, \"#0d0887\"], [0.1111111111111111, \"#46039f\"], [0.2222222222222222, \"#7201a8\"], [0.3333333333333333, \"#9c179e\"], [0.4444444444444444, \"#bd3786\"], [0.5555555555555556, \"#d8576b\"], [0.6666666666666666, \"#ed7953\"], [0.7777777777777778, \"#fb9f3a\"], [0.8888888888888888, \"#fdca26\"], [1.0, \"#f0f921\"]], \"type\": \"heatmap\"}], \"heatmapgl\": [{\"colorbar\": {\"outlinewidth\": 0, \"ticks\": \"\"}, \"colorscale\": [[0.0, \"#0d0887\"], [0.1111111111111111, \"#46039f\"], [0.2222222222222222, \"#7201a8\"], [0.3333333333333333, \"#9c179e\"], [0.4444444444444444, \"#bd3786\"], [0.5555555555555556, \"#d8576b\"], [0.6666666666666666, \"#ed7953\"], [0.7777777777777778, \"#fb9f3a\"], [0.8888888888888888, \"#fdca26\"], [1.0, \"#f0f921\"]], \"type\": \"heatmapgl\"}], \"histogram\": [{\"marker\": {\"colorbar\": {\"outlinewidth\": 0, \"ticks\": \"\"}}, \"type\": \"histogram\"}], \"histogram2d\": [{\"colorbar\": {\"outlinewidth\": 0, \"ticks\": \"\"}, \"colorscale\": [[0.0, \"#0d0887\"], [0.1111111111111111, \"#46039f\"], [0.2222222222222222, \"#7201a8\"], [0.3333333333333333, \"#9c179e\"], [0.4444444444444444, \"#bd3786\"], [0.5555555555555556, \"#d8576b\"], [0.6666666666666666, \"#ed7953\"], [0.7777777777777778, \"#fb9f3a\"], [0.8888888888888888, \"#fdca26\"], [1.0, \"#f0f921\"]], \"type\": \"histogram2d\"}], \"histogram2dcontour\": [{\"colorbar\": {\"outlinewidth\": 0, \"ticks\": \"\"}, \"colorscale\": [[0.0, \"#0d0887\"], [0.1111111111111111, \"#46039f\"], [0.2222222222222222, \"#7201a8\"], [0.3333333333333333, \"#9c179e\"], [0.4444444444444444, \"#bd3786\"], [0.5555555555555556, \"#d8576b\"], [0.6666666666666666, \"#ed7953\"], [0.7777777777777778, \"#fb9f3a\"], [0.8888888888888888, \"#fdca26\"], [1.0, \"#f0f921\"]], \"type\": \"histogram2dcontour\"}], \"mesh3d\": [{\"colorbar\": {\"outlinewidth\": 0, \"ticks\": \"\"}, \"type\": \"mesh3d\"}], \"parcoords\": [{\"line\": {\"colorbar\": {\"outlinewidth\": 0, \"ticks\": \"\"}}, \"type\": \"parcoords\"}], \"pie\": [{\"automargin\": true, \"type\": \"pie\"}], \"scatter\": [{\"marker\": {\"colorbar\": {\"outlinewidth\": 0, \"ticks\": \"\"}}, \"type\": \"scatter\"}], \"scatter3d\": [{\"line\": {\"colorbar\": {\"outlinewidth\": 0, \"ticks\": \"\"}}, \"marker\": {\"colorbar\": {\"outlinewidth\": 0, \"ticks\": \"\"}}, \"type\": \"scatter3d\"}], \"scattercarpet\": [{\"marker\": {\"colorbar\": {\"outlinewidth\": 0, \"ticks\": \"\"}}, \"type\": \"scattercarpet\"}], \"scattergeo\": [{\"marker\": {\"colorbar\": {\"outlinewidth\": 0, \"ticks\": \"\"}}, \"type\": \"scattergeo\"}], \"scattergl\": [{\"marker\": {\"colorbar\": {\"outlinewidth\": 0, \"ticks\": \"\"}}, \"type\": \"scattergl\"}], \"scattermapbox\": [{\"marker\": {\"colorbar\": {\"outlinewidth\": 0, \"ticks\": \"\"}}, \"type\": \"scattermapbox\"}], \"scatterpolar\": [{\"marker\": {\"colorbar\": {\"outlinewidth\": 0, \"ticks\": \"\"}}, \"type\": \"scatterpolar\"}], \"scatterpolargl\": [{\"marker\": {\"colorbar\": {\"outlinewidth\": 0, \"ticks\": \"\"}}, \"type\": \"scatterpolargl\"}], \"scatterternary\": [{\"marker\": {\"colorbar\": {\"outlinewidth\": 0, \"ticks\": \"\"}}, \"type\": \"scatterternary\"}], \"surface\": [{\"colorbar\": {\"outlinewidth\": 0, \"ticks\": \"\"}, \"colorscale\": [[0.0, \"#0d0887\"], [0.1111111111111111, \"#46039f\"], [0.2222222222222222, \"#7201a8\"], [0.3333333333333333, \"#9c179e\"], [0.4444444444444444, \"#bd3786\"], [0.5555555555555556, \"#d8576b\"], [0.6666666666666666, \"#ed7953\"], [0.7777777777777778, \"#fb9f3a\"], [0.8888888888888888, \"#fdca26\"], [1.0, \"#f0f921\"]], \"type\": \"surface\"}], \"table\": [{\"cells\": {\"fill\": {\"color\": \"#EBF0F8\"}, \"line\": {\"color\": \"white\"}}, \"header\": {\"fill\": {\"color\": \"#C8D4E3\"}, \"line\": {\"color\": \"white\"}}, \"type\": \"table\"}]}, \"layout\": {\"annotationdefaults\": {\"arrowcolor\": \"#2a3f5f\", \"arrowhead\": 0, \"arrowwidth\": 1}, \"coloraxis\": {\"colorbar\": {\"outlinewidth\": 0, \"ticks\": \"\"}}, \"colorscale\": {\"diverging\": [[0, \"#8e0152\"], [0.1, \"#c51b7d\"], [0.2, \"#de77ae\"], [0.3, \"#f1b6da\"], [0.4, \"#fde0ef\"], [0.5, \"#f7f7f7\"], [0.6, \"#e6f5d0\"], [0.7, \"#b8e186\"], [0.8, \"#7fbc41\"], [0.9, \"#4d9221\"], [1, \"#276419\"]], \"sequential\": [[0.0, \"#0d0887\"], [0.1111111111111111, \"#46039f\"], [0.2222222222222222, \"#7201a8\"], [0.3333333333333333, \"#9c179e\"], [0.4444444444444444, \"#bd3786\"], [0.5555555555555556, \"#d8576b\"], [0.6666666666666666, \"#ed7953\"], [0.7777777777777778, \"#fb9f3a\"], [0.8888888888888888, \"#fdca26\"], [1.0, \"#f0f921\"]], \"sequentialminus\": [[0.0, \"#0d0887\"], [0.1111111111111111, \"#46039f\"], [0.2222222222222222, \"#7201a8\"], [0.3333333333333333, \"#9c179e\"], [0.4444444444444444, \"#bd3786\"], [0.5555555555555556, \"#d8576b\"], [0.6666666666666666, \"#ed7953\"], [0.7777777777777778, \"#fb9f3a\"], [0.8888888888888888, \"#fdca26\"], [1.0, \"#f0f921\"]]}, \"colorway\": [\"#636efa\", \"#EF553B\", \"#00cc96\", \"#ab63fa\", \"#FFA15A\", \"#19d3f3\", \"#FF6692\", \"#B6E880\", \"#FF97FF\", \"#FECB52\"], \"font\": {\"color\": \"#2a3f5f\"}, \"geo\": {\"bgcolor\": \"white\", \"lakecolor\": \"white\", \"landcolor\": \"white\", \"showlakes\": true, \"showland\": true, \"subunitcolor\": \"#C8D4E3\"}, \"hoverlabel\": {\"align\": \"left\"}, \"hovermode\": \"closest\", \"mapbox\": {\"style\": \"light\"}, \"paper_bgcolor\": \"white\", \"plot_bgcolor\": \"white\", \"polar\": {\"angularaxis\": {\"gridcolor\": \"#EBF0F8\", \"linecolor\": \"#EBF0F8\", \"ticks\": \"\"}, \"bgcolor\": \"white\", \"radialaxis\": {\"gridcolor\": \"#EBF0F8\", \"linecolor\": \"#EBF0F8\", \"ticks\": \"\"}}, \"scene\": {\"xaxis\": {\"backgroundcolor\": \"white\", \"gridcolor\": \"#DFE8F3\", \"gridwidth\": 2, \"linecolor\": \"#EBF0F8\", \"showbackground\": true, \"ticks\": \"\", \"zerolinecolor\": \"#EBF0F8\"}, \"yaxis\": {\"backgroundcolor\": \"white\", \"gridcolor\": \"#DFE8F3\", \"gridwidth\": 2, \"linecolor\": \"#EBF0F8\", \"showbackground\": true, \"ticks\": \"\", \"zerolinecolor\": \"#EBF0F8\"}, \"zaxis\": {\"backgroundcolor\": \"white\", \"gridcolor\": \"#DFE8F3\", \"gridwidth\": 2, \"linecolor\": \"#EBF0F8\", \"showbackground\": true, \"ticks\": \"\", \"zerolinecolor\": \"#EBF0F8\"}}, \"shapedefaults\": {\"line\": {\"color\": \"#2a3f5f\"}}, \"ternary\": {\"aaxis\": {\"gridcolor\": \"#DFE8F3\", \"linecolor\": \"#A2B1C6\", \"ticks\": \"\"}, \"baxis\": {\"gridcolor\": \"#DFE8F3\", \"linecolor\": \"#A2B1C6\", \"ticks\": \"\"}, \"bgcolor\": \"white\", \"caxis\": {\"gridcolor\": \"#DFE8F3\", \"linecolor\": \"#A2B1C6\", \"ticks\": \"\"}}, \"title\": {\"x\": 0.05}, \"xaxis\": {\"automargin\": true, \"gridcolor\": \"#EBF0F8\", \"linecolor\": \"#EBF0F8\", \"ticks\": \"\", \"title\": {\"standoff\": 15}, \"zerolinecolor\": \"#EBF0F8\", \"zerolinewidth\": 2}, \"yaxis\": {\"automargin\": true, \"gridcolor\": \"#EBF0F8\", \"linecolor\": \"#EBF0F8\", \"ticks\": \"\", \"title\": {\"standoff\": 15}, \"zerolinecolor\": \"#EBF0F8\", \"zerolinewidth\": 2}}}, \"title\": {\"text\": \"Time taken (eviabm)\"}, \"uniformtext\": {\"minsize\": 8, \"mode\": \"hide\"}, \"width\": 400, \"xaxis\": {\"title\": {\"text\": \"Analysis ID\"}, \"type\": \"category\"}, \"yaxis\": {\"title\": {\"text\": \"Time taken (min)\"}}},                        {\"responsive\": true}                    ).then(function(){\n",
       "                            \n",
       "var gd = document.getElementById('6d34a9dd-2647-4867-81c0-9b652892dd22');\n",
       "var x = new MutationObserver(function (mutations, observer) {{\n",
       "        var display = window.getComputedStyle(gd).display;\n",
       "        if (!display || display === 'none') {{\n",
       "            console.log([gd, 'removed!']);\n",
       "            Plotly.purge(gd);\n",
       "            observer.disconnect();\n",
       "        }}\n",
       "}});\n",
       "\n",
       "// Listen for the removal of the full notebook cells\n",
       "var notebookContainer = gd.closest('#notebook-container');\n",
       "if (notebookContainer) {{\n",
       "    x.observe(notebookContainer, {childList: true});\n",
       "}}\n",
       "\n",
       "// Listen for the clearing of the current output cell\n",
       "var outputEl = gd.closest('.output');\n",
       "if (outputEl) {{\n",
       "    x.observe(outputEl, {childList: true});\n",
       "}}\n",
       "\n",
       "                        })                };                });            </script>        </div>"
      ]
     },
     "metadata": {},
     "output_type": "display_data"
    }
   ],
   "source": [
    "fig = go.Figure()\n",
    "fig.add_trace(go.Scatter(x=comp_stats['param_value'], y=comp_stats['time_taken_eviabm'],\n",
    "                    mode='lines+markers+text',\n",
    "                    name='lines+markers'))\n",
    "fig.update_xaxes(type='category')\n",
    "fig.update_layout(title=\"Time taken (eviabm)\",\n",
    "                  yaxis_title=\"Time taken (min)\", \n",
    "                  xaxis_title=\"Analysis ID\", \n",
    "                  uniformtext_minsize=8, \n",
    "                  uniformtext_mode='hide', \n",
    "                  width=400, \n",
    "                  height=400, \n",
    "                  margin=dict(l=20, r=20, t=30, b=20),\n",
    "                  template='plotly_white')\n",
    "fig.show()"
   ]
  },
  {
   "cell_type": "markdown",
   "metadata": {},
   "source": [
    "____________\n",
    "____________"
   ]
  },
  {
   "cell_type": "markdown",
   "metadata": {},
   "source": [
    "Things to do the first time if the plotly plots not showing. Restart jupyter lab after. "
   ]
  },
  {
   "cell_type": "code",
   "execution_count": 1,
   "metadata": {},
   "outputs": [
    {
     "name": "stdout",
     "output_type": "stream",
     "text": [
      "JupyterLab v2.2.6\n",
      "Known labextensions:\n",
      "   app dir: /root/anaconda3/share/jupyter/lab\n",
      "        @jupyter-widgets/jupyterlab-manager v2.0.0 \u001b[32m enabled \u001b[0m \u001b[32mOK\u001b[0m\n",
      "        jupyterlab-plotly v4.12.0 \u001b[32m enabled \u001b[0m \u001b[32mOK\u001b[0m\n",
      "        plotlywidget v4.12.0 \u001b[32m enabled \u001b[0m \u001b[32mOK\u001b[0m\n"
     ]
    }
   ],
   "source": [
    "#!jupyter labextension list"
   ]
  },
  {
   "cell_type": "code",
   "execution_count": 26,
   "metadata": {},
   "outputs": [],
   "source": [
    "#!jupyter labextension uninstall jupyterlab-plotly"
   ]
  },
  {
   "cell_type": "code",
   "execution_count": 27,
   "metadata": {},
   "outputs": [],
   "source": [
    "#!jupyter labextension uninstall plotlywidget"
   ]
  },
  {
   "cell_type": "code",
   "execution_count": 28,
   "metadata": {},
   "outputs": [],
   "source": [
    "#!export NODE_OPTIONS=--max-old-space-size=4096"
   ]
  },
  {
   "cell_type": "code",
   "execution_count": 29,
   "metadata": {},
   "outputs": [],
   "source": [
    "#!pip show plotly"
   ]
  },
  {
   "cell_type": "code",
   "execution_count": 30,
   "metadata": {},
   "outputs": [],
   "source": [
    "#!pip install jupyterlab \"ipywidgets>=7.5\""
   ]
  },
  {
   "cell_type": "code",
   "execution_count": 31,
   "metadata": {},
   "outputs": [],
   "source": [
    "#!jupyter labextension install jupyterlab-plotly@4.12.0"
   ]
  },
  {
   "cell_type": "code",
   "execution_count": 32,
   "metadata": {},
   "outputs": [],
   "source": [
    "#!jupyter labextension install @jupyter-widgets/jupyterlab-manager plotlywidget@4.12.0"
   ]
  },
  {
   "cell_type": "code",
   "execution_count": 3,
   "metadata": {},
   "outputs": [],
   "source": [
    "#!pip install \"nbconvert<6\""
   ]
  },
  {
   "cell_type": "code",
   "execution_count": null,
   "metadata": {},
   "outputs": [],
   "source": []
  }
 ],
 "metadata": {
  "kernelspec": {
   "display_name": "Python 3",
   "language": "python",
   "name": "python3"
  },
  "language_info": {
   "codemirror_mode": {
    "name": "ipython",
    "version": 3
   },
   "file_extension": ".py",
   "mimetype": "text/x-python",
   "name": "python",
   "nbconvert_exporter": "python",
   "pygments_lexer": "ipython3",
   "version": "3.8.5"
  }
 },
 "nbformat": 4,
 "nbformat_minor": 4
}
