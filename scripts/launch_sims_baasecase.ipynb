{
 "cells": [
  {
   "cell_type": "markdown",
   "metadata": {},
   "source": [
    "# Sim-launcher\n",
    "This script show how to launch basecase sims"
   ]
  },
  {
   "cell_type": "markdown",
   "metadata": {},
   "source": [
    "### 1. Package imports"
   ]
  },
  {
   "cell_type": "code",
   "execution_count": 1,
   "metadata": {},
   "outputs": [],
   "source": [
    "import pandas as pd\n",
    "import seaborn as sns\n",
    "import matplotlib.pyplot as plt\n",
    "from dotenv import load_dotenv\n",
    "from pathlib import Path  # Python 3.6+ only\n",
    "import os\n",
    "import psycopg2\n",
    "from psycopg2.extras import execute_values\n",
    "import random\n",
    "import time"
   ]
  },
  {
   "cell_type": "markdown",
   "metadata": {},
   "source": [
    "### 2. Environment Variables"
   ]
  },
  {
   "cell_type": "code",
   "execution_count": 2,
   "metadata": {},
   "outputs": [
    {
     "name": "stdout",
     "output_type": "stream",
     "text": [
      "../.env\n"
     ]
    },
    {
     "data": {
      "text/plain": [
       "'chargeval_dev'"
      ]
     },
     "execution_count": 2,
     "metadata": {},
     "output_type": "execute_result"
    }
   ],
   "source": [
    "# Load the environment variables\n",
    "env_path = Path('..') / '.env'\n",
    "print(env_path)\n",
    "load_dotenv(dotenv_path=env_path)\n",
    "# Print this to see if the env variables are read now\n",
    "os.getenv(\"COMPOSE_PROJECT_NAME\")"
   ]
  },
  {
   "cell_type": "markdown",
   "metadata": {},
   "source": [
    "### 3. Database connection (writer)"
   ]
  },
  {
   "cell_type": "code",
   "execution_count": 3,
   "metadata": {},
   "outputs": [],
   "source": [
    "# Generic function to test the connection to the database\n",
    "def connect():\n",
    "    \"\"\" Connect to the PostgreSQL database server \"\"\"\n",
    "    conn = None\n",
    "    try:\n",
    "\n",
    "        # connect to the PostgreSQL server\n",
    "        print('Connecting to the PostgreSQL database...')\n",
    "        conn = psycopg2.connect(    \n",
    "            host=os.getenv(\"MAIN_HOST\"),\n",
    "            database=os.getenv(\"MAIN_DB\"),\n",
    "            user=os.getenv(\"DBWRITE_USER\"),\n",
    "            password=os.getenv(\"DBWRITE_PWD\"), \n",
    "            port = os.getenv(\"MAIN_PORT\")\n",
    "        )\n",
    "\t\t\n",
    "        # create a cursor\n",
    "        cur = conn.cursor()\n",
    "        \n",
    "\t# execute a statement\n",
    "        print('PostgreSQL database version:')\n",
    "        cur.execute('SELECT version()')\n",
    "\n",
    "        # display the PostgreSQL database server version\n",
    "        db_version = cur.fetchone()\n",
    "        print(db_version)\n",
    "       \n",
    "\t# close the communication with the PostgreSQL\n",
    "        cur.close()\n",
    "    except (Exception, psycopg2.DatabaseError) as error:\n",
    "        print(error)\n",
    "    finally:\n",
    "        if conn is not None:\n",
    "            conn.close()\n",
    "            print('Database connection closed.')"
   ]
  },
  {
   "cell_type": "code",
   "execution_count": 4,
   "metadata": {},
   "outputs": [
    {
     "name": "stdout",
     "output_type": "stream",
     "text": [
      "Connecting to the PostgreSQL database...\n",
      "PostgreSQL database version:\n",
      "('PostgreSQL 13.2 on x86_64-pc-linux-gnu, compiled by gcc (GCC) 4.8.5 20150623 (Red Hat 4.8.5-11), 64-bit',)\n",
      "Database connection closed.\n"
     ]
    }
   ],
   "source": [
    "# Make the test database connection\n",
    "connect()"
   ]
  },
  {
   "cell_type": "code",
   "execution_count": 5,
   "metadata": {},
   "outputs": [],
   "source": [
    "conn = psycopg2.connect(    \n",
    "    host=os.getenv(\"MAIN_HOST\"),\n",
    "    database=os.getenv(\"MAIN_DB\"),\n",
    "    user=os.getenv(\"DBWRITE_USER\"),\n",
    "    password=os.getenv(\"DBWRITE_PWD\"), \n",
    "    port = os.getenv(\"MAIN_PORT\")\n",
    ")\n",
    "\n",
    "# create a cursor\n",
    "cur = conn.cursor()"
   ]
  },
  {
   "cell_type": "markdown",
   "metadata": {},
   "source": [
    "### 4. Database queries"
   ]
  },
  {
   "cell_type": "markdown",
   "metadata": {},
   "source": [
    "#### 4.1 Base-case analysis - here refers to the data in the queries found in EVIDES"
   ]
  },
  {
   "cell_type": "code",
   "execution_count": 6,
   "metadata": {},
   "outputs": [],
   "source": [
    "sql_set = 'INSERT INTO analysis_sets (description) VALUES (%s);'\n",
    "set_data = 'Varying seed after upgrading max waiting # charger'"
   ]
  },
  {
   "cell_type": "code",
   "execution_count": 7,
   "metadata": {},
   "outputs": [],
   "source": [
    "sql_analysis = 'INSERT INTO analysis_record (user_id, status, include_tesla) VALUES (%s, %s, %s);'\n",
    "analysis_data = (os.getenv(\"AUTH0_USERID\"), 'inserted', 'FALSE')"
   ]
  },
  {
   "cell_type": "code",
   "execution_count": 8,
   "metadata": {},
   "outputs": [],
   "source": [
    "sql_user = 'INSERT INTO user_details (user_id, user_name, email_id) VALUES (%s, %s, %s) ON CONFLICT (user_id) DO UPDATE SET last_submit_date = NOW();'\n",
    "user_data = (os.getenv(\"AUTH0_USERID\"), os.getenv(\"AUTH0_USERNAME\"), os.getenv(\"AUTH0_EMAIL\"))"
   ]
  },
  {
   "cell_type": "code",
   "execution_count": 9,
   "metadata": {},
   "outputs": [],
   "source": [
    "sql_params = 'INSERT INTO analysis_params (param_id, param_value) VALUES %s'\n",
    "params_data = [(1, '123' ),(2, '70' ),(14, '10' ),(3, '80' ),(4, '100' ),(9, '40' ),(10, '50' ),(11, '25' ),(12, '23' ),(13, '20' ), (15, '1' ), ( 16, '10' ), (17, '80' ), (18, '0' ), (19, '60' ), (20, '20' ), (21, '200' )]"
   ]
  },
  {
   "cell_type": "markdown",
   "metadata": {},
   "source": [
    "Launch a set of analysis requests"
   ]
  },
  {
   "cell_type": "code",
   "execution_count": 10,
   "metadata": {},
   "outputs": [
    {
     "name": "stdout",
     "output_type": "stream",
     "text": [
      "sim with seed:31 launched\n",
      "sim with seed:386 launched\n",
      "sim with seed:259 launched\n",
      "sim with seed:420 launched\n",
      "sim with seed:369 launched\n"
     ]
    }
   ],
   "source": [
    "################### The following will launch 5 sims with varying seed \n",
    "#######################################################################\n",
    "create_new_set = True # a boolean to encode whether to create a new set for this analysis request or add this to the previous one \n",
    "number_of_sims = 5 # launch five sims\n",
    "\n",
    "for i in range(0, number_of_sims): \n",
    "    seed = random.randint(1, 1000)\n",
    "    if(create_new_set):\n",
    "        set_data = 'Varying seed for basecase'\n",
    "        cur.execute(sql_set, (set_data, ))\n",
    "    cur.execute(sql_analysis,  analysis_data)\n",
    "    cur.execute(sql_user,  user_data)\n",
    "    # change the seed \n",
    "    params_data.pop(0) # remove the current list element for parameter 'global_seed' (param_id = 1)\n",
    "    params_data.insert(0, (1, str(seed)))\n",
    "    execute_values(cur, sql_params, params_data)\n",
    "    create_new_set = False # since the next 4 simulations belong to the same set\n",
    "    time.sleep(3) # sleep for 3 seconds so the next analysis request is 3 seconds later\n",
    "    conn.commit()\n",
    "    print(\"sim with seed:\" + str(seed) + \" launched\")"
   ]
  },
  {
   "cell_type": "code",
   "execution_count": null,
   "metadata": {},
   "outputs": [],
   "source": []
  }
 ],
 "metadata": {
  "kernelspec": {
   "display_name": "Python 3",
   "language": "python",
   "name": "python3"
  },
  "language_info": {
   "codemirror_mode": {
    "name": "ipython",
    "version": 3
   },
   "file_extension": ".py",
   "mimetype": "text/x-python",
   "name": "python",
   "nbconvert_exporter": "python",
   "pygments_lexer": "ipython3",
   "version": "3.8.8"
  }
 },
 "nbformat": 4,
 "nbformat_minor": 4
}
