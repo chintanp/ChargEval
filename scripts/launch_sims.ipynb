{
 "cells": [
  {
   "cell_type": "markdown",
   "metadata": {},
   "source": [
    "# Sim-launcher\n",
    "This script show how to launch sims using Python"
   ]
  },
  {
   "cell_type": "markdown",
   "metadata": {},
   "source": [
    "### 1. Package imports"
   ]
  },
  {
   "cell_type": "code",
   "execution_count": 1,
   "metadata": {},
   "outputs": [],
   "source": [
    "import pandas as pd\n",
    "import seaborn as sns\n",
    "import matplotlib.pyplot as plt\n",
    "from dotenv import load_dotenv\n",
    "from pathlib import Path  # Python 3.6+ only\n",
    "import os\n",
    "import psycopg2\n",
    "from psycopg2.extras import execute_values\n",
    "import random\n",
    "import time"
   ]
  },
  {
   "cell_type": "markdown",
   "metadata": {},
   "source": [
    "### 2. Environment Variables"
   ]
  },
  {
   "cell_type": "code",
   "execution_count": 2,
   "metadata": {},
   "outputs": [
    {
     "name": "stdout",
     "output_type": "stream",
     "text": [
      "../.env\n"
     ]
    },
    {
     "data": {
      "text/plain": [
       "'chargeval_dev'"
      ]
     },
     "execution_count": 2,
     "metadata": {},
     "output_type": "execute_result"
    }
   ],
   "source": [
    "# Load the environment variables\n",
    "env_path = Path('..') / '.env'\n",
    "print(env_path)\n",
    "load_dotenv(dotenv_path=env_path)\n",
    "# Print this to see if the env variables are read now\n",
    "os.getenv(\"COMPOSE_PROJECT_NAME\")"
   ]
  },
  {
   "cell_type": "markdown",
   "metadata": {},
   "source": [
    "### 3. Database connection (writer)"
   ]
  },
  {
   "cell_type": "code",
   "execution_count": 3,
   "metadata": {},
   "outputs": [],
   "source": [
    "# Generic function to test the connection to the database\n",
    "def connect():\n",
    "    \"\"\" Connect to the PostgreSQL database server \"\"\"\n",
    "    conn = None\n",
    "    try:\n",
    "\n",
    "        # connect to the PostgreSQL server\n",
    "        print('Connecting to the PostgreSQL database...')\n",
    "        conn = psycopg2.connect(    \n",
    "            host=os.getenv(\"MAIN_HOST\"),\n",
    "            database=os.getenv(\"MAIN_DB\"),\n",
    "            user=os.getenv(\"DBWRITE_USER\"),\n",
    "            password=os.getenv(\"DBWRITE_PWD\"), \n",
    "            port = os.getenv(\"MAIN_PORT\")\n",
    "        )\n",
    "\t\t\n",
    "        # create a cursor\n",
    "        cur = conn.cursor()\n",
    "        \n",
    "\t# execute a statement\n",
    "        print('PostgreSQL database version:')\n",
    "        cur.execute('SELECT version()')\n",
    "\n",
    "        # display the PostgreSQL database server version\n",
    "        db_version = cur.fetchone()\n",
    "        print(db_version)\n",
    "       \n",
    "\t# close the communication with the PostgreSQL\n",
    "        cur.close()\n",
    "    except (Exception, psycopg2.DatabaseError) as error:\n",
    "        print(error)\n",
    "    finally:\n",
    "        if conn is not None:\n",
    "            conn.close()\n",
    "            print('Database connection closed.')"
   ]
  },
  {
   "cell_type": "code",
   "execution_count": 4,
   "metadata": {},
   "outputs": [
    {
     "name": "stdout",
     "output_type": "stream",
     "text": [
      "Connecting to the PostgreSQL database...\n",
      "PostgreSQL database version:\n",
      "('PostgreSQL 12.5 on x86_64-pc-linux-gnu, compiled by gcc (GCC) 4.8.5 20150623 (Red Hat 4.8.5-11), 64-bit',)\n",
      "Database connection closed.\n"
     ]
    }
   ],
   "source": [
    "# Make the test database connection\n",
    "connect()"
   ]
  },
  {
   "cell_type": "code",
   "execution_count": 5,
   "metadata": {},
   "outputs": [],
   "source": [
    "conn = psycopg2.connect(    \n",
    "    host=os.getenv(\"MAIN_HOST\"),\n",
    "    database=os.getenv(\"MAIN_DB\"),\n",
    "    user=os.getenv(\"DBWRITE_USER\"),\n",
    "    password=os.getenv(\"DBWRITE_PWD\"), \n",
    "    port = os.getenv(\"MAIN_PORT\")\n",
    ")\n",
    "\n",
    "# create a cursor\n",
    "cur = conn.cursor()"
   ]
  },
  {
   "cell_type": "markdown",
   "metadata": {},
   "source": [
    "### 4. Database queries"
   ]
  },
  {
   "cell_type": "markdown",
   "metadata": {},
   "source": [
    "#### 4.1 Base-case analysis"
   ]
  },
  {
   "cell_type": "code",
   "execution_count": 22,
   "metadata": {},
   "outputs": [],
   "source": [
    "sql_set = 'INSERT INTO analysis_sets (description) VALUES (%s);'\n",
    "set_data = 'first set as test'"
   ]
  },
  {
   "cell_type": "code",
   "execution_count": 23,
   "metadata": {},
   "outputs": [],
   "source": [
    "sql_analysis = 'INSERT INTO analysis_record (user_id, status, include_tesla) VALUES (%s, %s, %s);'\n",
    "analysis_data = (os.getenv(\"AUTH0_USERID\"), 'inserted', 'FALSE')"
   ]
  },
  {
   "cell_type": "code",
   "execution_count": 24,
   "metadata": {},
   "outputs": [],
   "source": [
    "sql_user = 'INSERT INTO user_details (user_id, user_name, email_id) VALUES (%s, %s, %s) ON CONFLICT (user_id) DO UPDATE SET last_submit_date = NOW();'\n",
    "user_data = (os.getenv(\"AUTH0_USERID\"), os.getenv(\"AUTH0_USERNAME\"), os.getenv(\"AUTH0_EMAIL\"))"
   ]
  },
  {
   "cell_type": "code",
   "execution_count": 25,
   "metadata": {},
   "outputs": [],
   "source": [
    "sql_params = 'INSERT INTO analysis_params (param_id, param_value) VALUES %s'\n",
    "params_data = [(1, '123' ),(2, '70' ),(14, '10' ),(3, '80' ),(4, '100' ),(9, '40' ),(10, '50' ),(11, '25' ),(12, '23' ),(13, '20' ), (15, '1' ), ( 16, '10' ), (17, '80' ), (18, '0' ), (19, '60' ), (20, '20' ), (21, '200' )]"
   ]
  },
  {
   "cell_type": "markdown",
   "metadata": {},
   "source": [
    "##### Launch an analysis"
   ]
  },
  {
   "cell_type": "code",
   "execution_count": 26,
   "metadata": {},
   "outputs": [],
   "source": [
    "# cur.mogrify(sql_set, (set_data,))"
   ]
  },
  {
   "cell_type": "code",
   "execution_count": 27,
   "metadata": {},
   "outputs": [],
   "source": [
    "# All these should be executed together as a transaction\n",
    "################### the following will launch a sim \n",
    "cur.execute(sql_set, (set_data, ))\n",
    "cur.execute(sql_analysis,  analysis_data)\n",
    "cur.execute(sql_user,  user_data)\n",
    "execute_values(cur, sql_params, params_data)\n",
    "conn.commit()"
   ]
  },
  {
   "cell_type": "markdown",
   "metadata": {},
   "source": [
    "Launch a set of analysis requests"
   ]
  },
  {
   "cell_type": "code",
   "execution_count": 28,
   "metadata": {},
   "outputs": [],
   "source": [
    "################### The following will launch 5 sims with varying seed \n",
    "#######################################################################\n",
    "create_new_set = True # a boolean to encode whether to create a new set for this analysis request or add this to the previous one \n",
    "number_of_sims = 5 # launch five sims\n",
    "\n",
    "for i in range(0, number_of_sims): \n",
    "    seed = random.randint(1, 1000)\n",
    "    if(create_new_set):\n",
    "        set_data = 'Testing the effect of varying seed with everything else constant'\n",
    "        cur.execute(sql_set, (set_data, ))\n",
    "    cur.execute(sql_analysis,  analysis_data)\n",
    "    cur.execute(sql_user,  user_data)\n",
    "    # change the seed \n",
    "    params_data.pop(0) # remove the current list element for parameter 'global_seed' (param_id = 1)\n",
    "    params_data.insert(0, (1, str(seed)))\n",
    "    execute_values(cur, sql_params, params_data)\n",
    "    create_new_set = False # since the next 4 simulations belong to the same set\n",
    "    time.sleep(3) # sleep for 3 seconds so the next analysis request is 3 seconds later\n",
    "    \n",
    "    conn.commit()"
   ]
  },
  {
   "cell_type": "markdown",
   "metadata": {},
   "source": [
    "Launch a set of analysis requests with different critical distance"
   ]
  },
  {
   "cell_type": "code",
   "execution_count": 12,
   "metadata": {},
   "outputs": [],
   "source": [
    "create_new_set = True # a boolean to encode whether to create a new set for this analysis request or add this to the previous one \n",
    "critical_dists = [50, 70, 90] # critical distance set\n",
    "\n",
    "for dist in critical_dists: \n",
    "    if(create_new_set):\n",
    "        set_data = 'Testing the effect of varying critical distance keeping everything else constant'\n",
    "        cur.execute(sql_set, (set_data, ))\n",
    "    cur.execute(sql_analysis,  analysis_data)\n",
    "    cur.execute(sql_user,  user_data)\n",
    "    # change the seed \n",
    "    params_data.pop(1) # remove the current list element for parameter 'critical_distance' (param_id = 2), list pos 1\n",
    "    params_data.insert(1, (2, str(dist)))\n",
    "    execute_values(cur, sql_params, params_data)\n",
    "    create_new_set = False # since the next 4 simulations belong to the same set\n",
    "    conn.commit()\n",
    "    time.sleep(3) # sleep for 3 seconds so the next analysis request is 3 seconds later"
   ]
  },
  {
   "cell_type": "markdown",
   "metadata": {},
   "source": [
    "#### 4.2 Adding new chargers"
   ]
  },
  {
   "cell_type": "code",
   "execution_count": 24,
   "metadata": {},
   "outputs": [
    {
     "data": {
      "text/html": [
       "<div>\n",
       "<style scoped>\n",
       "    .dataframe tbody tr th:only-of-type {\n",
       "        vertical-align: middle;\n",
       "    }\n",
       "\n",
       "    .dataframe tbody tr th {\n",
       "        vertical-align: top;\n",
       "    }\n",
       "\n",
       "    .dataframe thead th {\n",
       "        text-align: right;\n",
       "    }\n",
       "</style>\n",
       "<table border=\"1\" class=\"dataframe\">\n",
       "  <thead>\n",
       "    <tr style=\"text-align: right;\">\n",
       "      <th></th>\n",
       "      <th>latitude</th>\n",
       "      <th>longitude</th>\n",
       "      <th>dcfc_plug_count</th>\n",
       "      <th>dcfc_power</th>\n",
       "      <th>level2_plug_count</th>\n",
       "      <th>level2_power</th>\n",
       "      <th>dcfc_fixed_charging_price</th>\n",
       "      <th>dcfc_var_charging_price_unit</th>\n",
       "      <th>dcfc_var_charging_price</th>\n",
       "      <th>dcfc_fixed_parking_price</th>\n",
       "      <th>dcfc_var_parking_price_unit</th>\n",
       "      <th>dcfc_var_parking_price</th>\n",
       "      <th>level2_fixed_charging_price</th>\n",
       "      <th>level2_var_charging_price_unit</th>\n",
       "      <th>level2_var_charging_price</th>\n",
       "      <th>level2_fixed_parking_price</th>\n",
       "      <th>level2_var_parking_price_unit</th>\n",
       "      <th>level2_var_parking_price</th>\n",
       "      <th>connector_code</th>\n",
       "    </tr>\n",
       "  </thead>\n",
       "  <tbody>\n",
       "    <tr>\n",
       "      <th>0</th>\n",
       "      <td>48.370848</td>\n",
       "      <td>-118.768157</td>\n",
       "      <td>1</td>\n",
       "      <td>50</td>\n",
       "      <td>1</td>\n",
       "      <td>10</td>\n",
       "      <td>0.5</td>\n",
       "      <td>min</td>\n",
       "      <td>0.5</td>\n",
       "      <td>0.5</td>\n",
       "      <td>min</td>\n",
       "      <td>0.5</td>\n",
       "      <td>0.5</td>\n",
       "      <td>min</td>\n",
       "      <td>0.5</td>\n",
       "      <td>0.5</td>\n",
       "      <td>min</td>\n",
       "      <td>0.5</td>\n",
       "      <td>3</td>\n",
       "    </tr>\n",
       "  </tbody>\n",
       "</table>\n",
       "</div>"
      ],
      "text/plain": [
       "    latitude   longitude   dcfc_plug_count   dcfc_power   level2_plug_count  \\\n",
       "0  48.370848 -118.768157                 1           50                   1   \n",
       "\n",
       "    level2_power   dcfc_fixed_charging_price  dcfc_var_charging_price_unit  \\\n",
       "0             10                         0.5                           min   \n",
       "\n",
       "    dcfc_var_charging_price   dcfc_fixed_parking_price  \\\n",
       "0                       0.5                        0.5   \n",
       "\n",
       "   dcfc_var_parking_price_unit   dcfc_var_parking_price  \\\n",
       "0                          min                      0.5   \n",
       "\n",
       "    level2_fixed_charging_price  level2_var_charging_price_unit  \\\n",
       "0                           0.5                             min   \n",
       "\n",
       "    level2_var_charging_price   level2_fixed_parking_price  \\\n",
       "0                         0.5                          0.5   \n",
       "\n",
       "   level2_var_parking_price_unit   level2_var_parking_price   connector_code  \n",
       "0                            min                        0.5                3  "
      ]
     },
     "execution_count": 24,
     "metadata": {},
     "output_type": "execute_result"
    }
   ],
   "source": [
    "# The order of columns in the csv is important\n",
    "new_evse_scenario = pd.read_csv('new_evse_scenario.csv')\n",
    "new_evse_scenario"
   ]
  },
  {
   "cell_type": "code",
   "execution_count": 25,
   "metadata": {},
   "outputs": [
    {
     "data": {
      "text/plain": [
       "latitude                           float64\n",
       " longitude                         float64\n",
       " dcfc_plug_count                     int64\n",
       " dcfc_power                          int64\n",
       " level2_plug_count                   int64\n",
       " level2_power                        int64\n",
       " dcfc_fixed_charging_price         float64\n",
       " dcfc_var_charging_price_unit       object\n",
       " dcfc_var_charging_price           float64\n",
       " dcfc_fixed_parking_price          float64\n",
       " dcfc_var_parking_price_unit        object\n",
       " dcfc_var_parking_price            float64\n",
       " level2_fixed_charging_price       float64\n",
       " level2_var_charging_price_unit     object\n",
       " level2_var_charging_price         float64\n",
       " level2_fixed_parking_price        float64\n",
       " level2_var_parking_price_unit      object\n",
       " level2_var_parking_price          float64\n",
       " connector_code                      int64\n",
       "dtype: object"
      ]
     },
     "execution_count": 25,
     "metadata": {},
     "output_type": "execute_result"
    }
   ],
   "source": [
    "new_evse_scenario.dtypes"
   ]
  },
  {
   "cell_type": "code",
   "execution_count": 34,
   "metadata": {},
   "outputs": [],
   "source": [
    "new_evse_data = [tuple(row) for row in new_evse_scenario.itertuples(index=False)] "
   ]
  },
  {
   "cell_type": "code",
   "execution_count": 35,
   "metadata": {},
   "outputs": [],
   "source": [
    "sql_new_evse = \"\"\"INSERT INTO new_evses (latitude, longitude,\n",
    "                dcfc_plug_count, dcfc_power, level2_plug_count, level2_power,\n",
    "                dcfc_fixed_charging_price, dcfc_var_charging_price_unit,\n",
    "                dcfc_var_charging_price, dcfc_fixed_parking_price, dcfc_var_parking_price_unit,\n",
    "                dcfc_var_parking_price, level2_fixed_charging_price, level2_var_charging_price_unit,\n",
    "                level2_var_charging_price, level2_fixed_parking_price, level2_var_parking_price_unit,\n",
    "                level2_var_parking_price, connector_code) VALUES %s\"\"\""
   ]
  },
  {
   "cell_type": "code",
   "execution_count": 38,
   "metadata": {},
   "outputs": [],
   "source": [
    "# All these should be executed together as a transaction\n",
    "set_data = 'testing a new evse scenario using code'\n",
    "cur.execute(sql_set, (set_data, ))\n",
    "cur.execute(sql_analysis,  analysis_data)\n",
    "cur.execute(sql_user,  user_data)\n",
    "execute_values(cur, sql_params, params_data)\n",
    "if (len(new_evse_scenario.index) > 0):\n",
    "    execute_values(cur, sql_new_evse, new_evse_data)\n",
    "# use execute values with new evses by creating an array of tuples \n",
    "conn.commit()"
   ]
  },
  {
   "cell_type": "markdown",
   "metadata": {},
   "source": [
    "_____________________\n",
    "______________________"
   ]
  },
  {
   "cell_type": "markdown",
   "metadata": {},
   "source": [
    "### 4.3 Disabling chargers"
   ]
  },
  {
   "cell_type": "code",
   "execution_count": 6,
   "metadata": {},
   "outputs": [],
   "source": [
    "seeds = [123, 366, 495]\n",
    "disabled_charger_count = 10"
   ]
  },
  {
   "cell_type": "code",
   "execution_count": 7,
   "metadata": {},
   "outputs": [
    {
     "data": {
      "text/html": [
       "<div>\n",
       "<style scoped>\n",
       "    .dataframe tbody tr th:only-of-type {\n",
       "        vertical-align: middle;\n",
       "    }\n",
       "\n",
       "    .dataframe tbody tr th {\n",
       "        vertical-align: top;\n",
       "    }\n",
       "\n",
       "    .dataframe thead th {\n",
       "        text-align: right;\n",
       "    }\n",
       "</style>\n",
       "<table border=\"1\" class=\"dataframe\">\n",
       "  <thead>\n",
       "    <tr style=\"text-align: right;\">\n",
       "      <th></th>\n",
       "      <th>bevse_id</th>\n",
       "    </tr>\n",
       "  </thead>\n",
       "  <tbody>\n",
       "    <tr>\n",
       "      <th>0</th>\n",
       "      <td>39778.0</td>\n",
       "    </tr>\n",
       "    <tr>\n",
       "      <th>1</th>\n",
       "      <td>39780.0</td>\n",
       "    </tr>\n",
       "    <tr>\n",
       "      <th>2</th>\n",
       "      <td>39788.0</td>\n",
       "    </tr>\n",
       "    <tr>\n",
       "      <th>3</th>\n",
       "      <td>39789.0</td>\n",
       "    </tr>\n",
       "    <tr>\n",
       "      <th>4</th>\n",
       "      <td>39791.0</td>\n",
       "    </tr>\n",
       "    <tr>\n",
       "      <th>...</th>\n",
       "      <td>...</td>\n",
       "    </tr>\n",
       "    <tr>\n",
       "      <th>136</th>\n",
       "      <td>167523.0</td>\n",
       "    </tr>\n",
       "    <tr>\n",
       "      <th>137</th>\n",
       "      <td>167562.0</td>\n",
       "    </tr>\n",
       "    <tr>\n",
       "      <th>138</th>\n",
       "      <td>167758.0</td>\n",
       "    </tr>\n",
       "    <tr>\n",
       "      <th>139</th>\n",
       "      <td>168082.0</td>\n",
       "    </tr>\n",
       "    <tr>\n",
       "      <th>140</th>\n",
       "      <td>168088.0</td>\n",
       "    </tr>\n",
       "  </tbody>\n",
       "</table>\n",
       "<p>141 rows × 1 columns</p>\n",
       "</div>"
      ],
      "text/plain": [
       "     bevse_id\n",
       "0     39778.0\n",
       "1     39780.0\n",
       "2     39788.0\n",
       "3     39789.0\n",
       "4     39791.0\n",
       "..        ...\n",
       "136  167523.0\n",
       "137  167562.0\n",
       "138  167758.0\n",
       "139  168082.0\n",
       "140  168088.0\n",
       "\n",
       "[141 rows x 1 columns]"
      ]
     },
     "execution_count": 7,
     "metadata": {},
     "output_type": "execute_result"
    }
   ],
   "source": [
    "sql_bevse_id = \"\"\"select bevse_id from built_evse where dcfc_count >= 1 and in_service = 'true' and connector_code IN (1, 2, 3);\"\"\"\n",
    "bevse_ids = pd.read_sql_query(sql=sql_bevse_id, con=conn, params=())\n",
    "bevse_ids"
   ]
  },
  {
   "cell_type": "code",
   "execution_count": 8,
   "metadata": {},
   "outputs": [],
   "source": [
    "sql_set = 'INSERT INTO analysis_sets (description) VALUES (%s);'"
   ]
  },
  {
   "cell_type": "code",
   "execution_count": 9,
   "metadata": {},
   "outputs": [],
   "source": [
    "sql_analysis = 'INSERT INTO analysis_record (user_id, status, include_tesla) VALUES (%s, %s, %s);'\n",
    "analysis_data = (os.getenv(\"AUTH0_USERID\"), 'inserted', 'FALSE')"
   ]
  },
  {
   "cell_type": "code",
   "execution_count": 10,
   "metadata": {},
   "outputs": [],
   "source": [
    "sql_user = 'INSERT INTO user_details (user_id, user_name, email_id) VALUES (%s, %s, %s) ON CONFLICT (user_id) DO UPDATE SET last_submit_date = NOW();'\n",
    "user_data = (os.getenv(\"AUTH0_USERID\"), os.getenv(\"AUTH0_USERNAME\"), os.getenv(\"AUTH0_EMAIL\"))"
   ]
  },
  {
   "cell_type": "code",
   "execution_count": 11,
   "metadata": {},
   "outputs": [],
   "source": [
    "sql_params = 'INSERT INTO analysis_params (param_id, param_value) VALUES %s'\n",
    "params_data = [(1, '123' ),(2, '70' ),(14, '10' ),(3, '80' ),(4, '100' ),(9, '40' ),(10, '50' ),(11, '25' ),(12, '23' ),(13, '20' ), (15, '1' ), ( 16, '10' ), (17, '80' ), (18, '0' ), (19, '60' ), (20, '20' ), (21, '200' )]"
   ]
  },
  {
   "cell_type": "code",
   "execution_count": 12,
   "metadata": {},
   "outputs": [],
   "source": [
    "sql_bevse_subset = '''select bevse_id, longitude, latitude, connector_code, dcfc_count, dcfc_fixed_charging_price, dcfc_var_charging_price_unit, dcfc_var_charging_price, dcfc_fixed_parking_price, dcfc_var_parking_price_unit, dcfc_var_parking_price from built_evse where dcfc_count >= 1 and in_service = 'true' and connector_code IN (1, 2, 3) and bevse_id NOT IN %s '''"
   ]
  },
  {
   "cell_type": "code",
   "execution_count": 13,
   "metadata": {},
   "outputs": [],
   "source": [
    "sql_evses_now = 'INSERT INTO evses_now (evse_id, longitude, latitude, connector_code, dcfc_count, dcfc_fixed_charging_price, dcfc_var_charging_price_unit, dcfc_var_charging_price, dcfc_fixed_parking_price, dcfc_var_parking_price_unit, dcfc_var_parking_price) VALUES %s'"
   ]
  },
  {
   "cell_type": "code",
   "execution_count": 15,
   "metadata": {},
   "outputs": [
    {
     "name": "stdout",
     "output_type": "stream",
     "text": [
      "[72, 47, 0, 96, 128, 126, 99, 56, 45, 58]\n",
      "[103581.0, 95368.0, 39778.0, 143215.0, 156236.0, 155995.0, 143835.0, 96763.0, 93552.0, 99059.0]\n",
      "     evse_id   longitude   latitude  connector_code  dcfc_count  \\\n",
      "0     b39780 -122.333257  47.458466             1.0         1.0   \n",
      "1     b39788 -123.342273  48.102863             1.0         1.0   \n",
      "2     b39789 -122.294997  47.207367             1.0         1.0   \n",
      "3     b39791 -122.218800  47.448354             1.0         1.0   \n",
      "4     b39796 -117.312518  47.657264             1.0         1.0   \n",
      "..       ...         ...        ...             ...         ...   \n",
      "126  b167523 -118.861160  46.659027             3.0         2.0   \n",
      "127  b167562 -122.104565  47.671794             3.0         3.0   \n",
      "128  b167758 -122.297569  47.155976             3.0         4.0   \n",
      "129  b168082 -122.151151  47.754220             3.0         4.0   \n",
      "130  b168088 -122.512304  48.789282             3.0         4.0   \n",
      "\n",
      "     dcfc_fixed_charging_price dcfc_var_charging_price_unit  \\\n",
      "0                          0.0                          min   \n",
      "1                          0.0                          min   \n",
      "2                          0.0                          min   \n",
      "3                          0.0                          min   \n",
      "4                          0.0                          min   \n",
      "..                         ...                          ...   \n",
      "126                        0.0                                \n",
      "127                        0.0                                \n",
      "128                        0.0                                \n",
      "129                        0.0                                \n",
      "130                        0.0                                \n",
      "\n",
      "     dcfc_var_charging_price  dcfc_fixed_parking_price  \\\n",
      "0                        0.0                       0.0   \n",
      "1                        0.0                       0.0   \n",
      "2                        0.0                       0.0   \n",
      "3                        0.0                       0.0   \n",
      "4                        0.0                       0.0   \n",
      "..                       ...                       ...   \n",
      "126                      0.0                       0.0   \n",
      "127                      0.0                       0.0   \n",
      "128                      0.0                       0.0   \n",
      "129                      0.0                       0.0   \n",
      "130                      0.0                       0.0   \n",
      "\n",
      "    dcfc_var_parking_price_unit  dcfc_var_parking_price  \n",
      "0                           min                     0.0  \n",
      "1                           min                     0.0  \n",
      "2                           min                     0.0  \n",
      "3                           min                     0.0  \n",
      "4                           min                     0.0  \n",
      "..                          ...                     ...  \n",
      "126                                                 0.0  \n",
      "127                                                 0.0  \n",
      "128                                                 0.0  \n",
      "129                                                 0.0  \n",
      "130                                                 0.0  \n",
      "\n",
      "[131 rows x 11 columns]\n",
      "[('b39780', -122.333257, 47.458466, 1.0, 1.0, 0.0, 'min', 0.0, 0.0, 'min', 0.0), ('b39788', -123.342273, 48.102863, 1.0, 1.0, 0.0, 'min', 0.0, 0.0, 'min', 0.0), ('b39789', -122.294997, 47.207367, 1.0, 1.0, 0.0, 'min', 0.0, 0.0, 'min', 0.0), ('b39791', -122.2188, 47.448354, 1.0, 1.0, 0.0, 'min', 0.0, 0.0, 'min', 0.0), ('b39796', -117.312518, 47.657264, 1.0, 1.0, 0.0, 'min', 0.0, 0.0, 'min', 0.0), ('b61030', -122.59837, 45.648181, 1.0, 1.0, 0.0, 'min', 0.0, 0.0, 'min', 0.0), ('b63307', -122.3144085, 47.614911, 1.0, 1.0, 3.0, 'min', 0.0, 0.0, 'min', 1.0), ('b63444', -120.279071, 47.400783, 1.0, 1.0, 0.0, 'min', 0.0, 0.0, 'min', 0.0), ('b65551', -122.3448327, 47.7781913, 1.0, 1.0, 6.0, 'min', 0.0, 0.0, 'min', 0.0), ('b65859', -120.31231, 47.42758, 1.0, 1.0, 7.5, 'min', 0.0, 0.0, 'min', 0.0), ('b65861', -122.974224, 46.725274, 1.0, 1.0, 7.5, 'min', 0.0, 0.0, 'min', 0.0), ('b65862', -122.470706, 48.731457, 1.0, 1.0, 7.5, 'min', 0.0, 0.0, 'min', 0.0), ('b65864', -122.910167, 46.276122, 1.0, 1.0, 7.5, 'min', 0.0, 0.0, 'min', 0.0), ('b65865', -122.335866, 48.457448, 1.0, 1.0, 7.5, 'min', 0.0, 0.0, 'min', 0.0), ('b65866', -122.683594, 45.817526, 1.0, 1.0, 7.5, 'min', 0.0, 0.0, 'min', 0.0), ('b65869', -121.360495, 47.711268, 1.0, 1.0, 7.5, 'min', 0.0, 0.0, 'min', 0.0), ('b73412', -122.908081, 46.99353, 1.0, 1.0, 7.5, 'min', 0.0, 0.0, 'min', 0.0), ('b73413', -120.664684, 47.59501, 1.0, 1.0, 7.5, 'min', 0.0, 0.0, 'min', 0.0), ('b73415', -121.816597, 47.862157, 1.0, 1.0, 7.5, 'min', 0.0, 0.0, 'min', 0.0), ('b73431', -121.019582, 47.208469, 1.0, 1.0, 7.5, 'min', 0.0, 0.0, 'min', 0.0), ('b73433', -121.4113, 47.42094, 1.0, 1.0, 7.5, 'min', 0.0, 0.0, 'min', 0.0), ('b74196', -122.237601, 47.906308, 3.0, 1.0, 5.0, 'min', 0.0, 0.0, 'min', 0.0), ('b75094', -122.24699, 47.902753, 3.0, 6.0, 6.0, 'min', 0.0, 0.0, 'min', 0.0), ('b75997', -122.174855, 47.707294, 1.0, 3.0, 0.0, '', 0.0, 0.0, '', 0.0), ('b76253', -122.182402, 47.677725, 3.0, 1.0, 0.0, 'min', 0.25, 0.0, 'min', 0.0), ('b76926', -122.374558, 47.239188, 2.0, 1.0, 0.0, 'min', 0.0, 0.0, 'min', 0.0), ('b78795', -122.32451, 47.59366, 2.0, 2.0, 5.0, 'min', 0.0, 0.0, 'min', 0.0), ('b82083', -122.3442599, 47.778399, 3.0, 2.0, 6.0, 'min', 0.0, 0.0, 'min', 0.0), ('b88018', -122.296325, 47.436037, 3.0, 4.0, 4.95, 'min', 0.0, 0.0, 'min', 0.2), ('b92472', -122.3228502, 47.6155533, 3.0, 2.0, 4.95, 'min', 0.0, 0.0, 'min', 0.2), ('b92487', -122.3457541, 47.7811507, 3.0, 2.0, 6.0, 'min', 0.0, 0.0, 'min', 0.0), ('b93034', -122.143066, 47.580845, 1.0, 5.0, 0.0, 'min', 0.29, 0.0, 'min', 0.0), ('b93038', -122.14364, 47.58083, 1.0, 3.0, 0.0, 'min', 0.29, 0.0, 'min', 0.0), ('b93088', -122.11949, 47.67137, 3.0, 2.0, 0.0, 'min', 0.29, 0.0, 'min', 0.0), ('b93146', -122.32952, 47.62066, 3.0, 2.0, 0.0, 'min', 0.29, 0.0, 'min', 0.0), ('b93172', -118.365561, 47.118605, 3.0, 1.0, 0.0, 'min', 0.29, 0.0, 'min', 0.0), ('b93339', -122.47068, 47.21543, 3.0, 3.0, 0.0, 'min', 0.29, 0.0, 'min', 0.0), ('b93343', -122.1897, 48.09264, 3.0, 1.0, 0.0, 'min', 0.29, 0.0, 'min', 0.0), ('b93352', -121.79308, 47.49132, 3.0, 2.0, 0.0, 'min', 0.29, 0.0, 'min', 0.0), ('b93364', -122.32519, 47.7033, 3.0, 1.0, 0.0, 'min', 0.29, 0.0, 'min', 0.0), ('b93443', -122.321919, 47.613457, 3.0, 1.0, 0.0, 'min', 0.29, 0.0, 'min', 0.0), ('b93483', -122.20461, 47.49845, 3.0, 2.0, 0.0, 'min', 0.29, 0.0, 'min', 0.0), ('b93531', -122.76205, 45.92845, 3.0, 1.0, 0.0, 'min', 0.29, 0.0, 'min', 0.0), ('b93550', -122.23611, 47.58489, 3.0, 2.0, 0.0, 'min', 0.29, 0.0, 'min', 0.0), ('b95063', -122.663254, 45.629398, 1.0, 2.0, 0.0, 'kwh', 0.49, 0.0, 'min', 0.0), ('b95621', -122.212814, 47.293216, 1.0, 2.0, 0.0, 'kwh', 0.59, 0.0, 'min', 0.0), ('b96282', -122.66705, 47.56825, 1.0, 2.0, 0.0, 'kwh', 0.59, 0.0, 'min', 0.0), ('b96400', -122.15043, 47.58495, 1.0, 2.0, 0.0, '', 0.0, 0.0, '', 0.0), ('b96405', -122.663135, 45.720603, 1.0, 2.0, 0.0, 'kwh', 0.59, 0.0, 'min', 0.0), ('b96407', -122.183522, 47.708482, 1.0, 2.0, 0.0, 'kwh', 0.59, 0.0, 'min', 0.0), ('b96412', -122.292383, 47.723689, 1.0, 2.0, 0.0, 'kwh', 0.59, 0.0, 'min', 0.0), ('b96505', -122.206909, 47.245269, 1.0, 2.0, 0.0, 'kwh', 0.59, 0.0, 'min', 0.0), ('b96628', -122.348098, 47.24198, 1.0, 2.0, 0.0, 'kwh', 0.59, 0.0, 'min', 0.0), ('b98770', -122.3346258, 47.6992271, 3.0, 2.0, 4.95, 'min', 0.0, 0.0, 'min', 0.2), ('b99067', -122.29222869873047, 47.20663833618164, 3.0, 2.0, 0.0, 'min', 0.167, 0.0, 'min', 0.0), ('b99070', -122.48442077636719, 47.190608978271484, 3.0, 2.0, 0.0, 'min', 0.117, 0.0, 'min', 0.0), ('b99183', -117.37006378173828, 47.23467254638672, 3.0, 2.0, 0.0, 'kwh', 0.35, 0.0, 'min', 0.0), ('b99263', -117.431889, 47.662197, 3.0, 2.0, 0.0, 'kwh', 0.35, 0.0, 'min', 0.0), ('b99277', -117.174757, 46.729729, 3.0, 2.0, 0.0, 'kwh', 0.35, 0.0, 'min', 0.0), ('b99280', -117.10325622558594, 47.6705436706543, 3.0, 2.0, 0.0, 'kwh', 0.35, 0.0, 'min', 0.0), ('b99282', -122.312333, 47.579971, 3.0, 4.0, 0.0, 'kwh', 0.43, 0.0, 'min', 0.0), ('b99296', -119.184406, 46.181372, 3.0, 2.0, 0.0, 'min', 0.35, 0.0, 'min', 0.0), ('b99297', -120.548798, 46.994109, 3.0, 2.0, 0.0, 'min', 0.35, 0.0, 'min', 0.0), ('b99358', -119.188128, 46.179735, 3.0, 1.0, 0.0, 'kwh', 0.59, 0.0, 'min', 0.0), ('b99591', -122.3304563, 47.5974463, 3.0, 8.0, 4.95, 'min', 0.0, 0.0, 'min', 0.2), ('b100242', -122.429536, 47.234898, 3.0, 2.0, 0.0, 'min', 0.29, 0.0, 'min', 0.0), ('b103573', -122.32406, 47.700101, 3.0, 4.0, 4.95, 'min', 0.0, 0.0, 'min', 0.2), ('b103586', -119.124176, 46.241729, 3.0, 2.0, 0.0, 'min', 0.35, 0.0, 'min', 0.0), ('b103612', -117.401944, 47.768802, 3.0, 2.0, 0.0, 'kwh', 0.35, 0.0, 'min', 0.0), ('b104285', -122.2984152, 47.7132239, 3.0, 2.0, 4.95, 'min', 0.0, 0.0, 'min', 0.2), ('b104286', -122.350639, 47.619964, 3.0, 4.0, 4.95, 'min', 0.0, 0.0, 'min', 0.2), ('b105361', -120.481583, 46.604239, 2.0, 1.0, 0.0, 'min', 0.0, 0.0, 'min', 0.0), ('b105362', -120.336918, 47.467463, 2.0, 1.0, 0.0, 'min', 0.0, 0.0, 'min', 0.0), ('b119039', -122.155852, 47.626541, 2.0, 1.0, 0.0, 'min', 0.0, 0.0, 'min', 0.0), ('b121703', -117.190123, 47.665596, 3.0, 8.0, 1.0, 'min', 0.25, 0.0, 'min', 0.0), ('b121704', -121.793559, 47.491288, 3.0, 4.0, 1.0, 'min', 0.25, 0.0, 'min', 0.0), ('b121709', -122.660913, 45.687387, 3.0, 6.0, 1.0, 'min', 0.25, 0.0, 'min', 0.0), ('b122833', -117.56153106689453, 47.58805847167969, 3.0, 2.0, 0.0, '', 0.0, 0.0, '', 0.0), ('b123004', -122.344757, 48.44174, 3.0, 4.0, 1.0, 'min', 0.25, 0.0, 'min', 0.0), ('b123050', -122.199295, 47.497292, 3.0, 3.0, 1.0, 'min', 0.25, 0.0, 'min', 0.0), ('b123446', -122.267332, 47.831991, 3.0, 3.0, 1.0, 'min', 0.25, 0.0, 'min', 0.0), ('b123479', -122.77201, 47.059659, 3.0, 6.0, 1.0, 'min', 0.25, 0.0, 'min', 0.0), ('b124057', -122.110209, 47.360982, 3.0, 3.0, 1.0, 'min', 0.25, 0.0, 'min', 0.0), ('b124683', -122.186896, 48.095461, 3.0, 4.0, 1.0, 'min', 0.25, 0.0, 'min', 0.0), ('b124684', -122.901263, 46.139875, 3.0, 4.0, 1.0, 'min', 0.25, 0.0, 'min', 0.0), ('b135872', -122.480252, 47.239472, 3.0, 3.0, 1.0, 'min', 0.25, 0.0, 'min', 0.0), ('b136697', -120.47924, 46.60252, 3.0, 4.0, 1.0, 'min', 0.25, 0.0, 'min', 0.0), ('b138537', -122.461854, 48.74393, 3.0, 2.0, 0.0, 'min', 0.29, 0.0, 'min', 0.0), ('b143152', -117.1493042, 47.6674691, 2.0, 1.0, 0.0, 'min', 0.0, 0.0, 'min', 0.0), ('b143212', -122.310875, 47.828644, 2.0, 1.0, 0.0, 'kwh', 0.16, 0.0, 'min', 0.0167), ('b143313', -122.15664, 47.630585, 2.0, 1.0, 1.0, 'min', 0.0, 0.0, 'min', 0.0), ('b143782', -122.945746, 48.599217, 1.0, 1.0, 0.0, '', 0.0, 0.0, '', 0.0), ('b143939', -117.4004898071289, 47.66310501098633, 3.0, 2.0, 0.0, 'kwh', 0.35, 0.0, 'min', 0.0), ('b143969', -122.644253, 47.092582, 3.0, 2.0, 0.0, 'min', 0.29, 0.0, 'min', 0.0), ('b143970', -122.213314, 47.913486, 3.0, 10.0, 1.0, 'min', 0.25, 0.0, 'min', 0.0), ('b143971', -118.362709, 47.119482, 3.0, 4.0, 1.0, 'min', 0.25, 0.0, 'min', 0.0), ('b144074', -122.3448322, 47.778256, 3.0, 2.0, 6.0, 'min', 0.0, 0.0, 'min', 0.0), ('b144090', -122.478138, 45.617755, 3.0, 3.0, 1.0, 'min', 0.25, 0.0, 'min', 0.0), ('b144984', -122.299448, 47.450258, 3.0, 2.0, 0.0, 'min', 0.29, 0.0, 'min', 0.0), ('b145151', -122.3502919, 47.6654703, 3.0, 2.0, 4.95, 'min', 0.0, 0.0, 'min', 0.2), ('b145684', -122.100638, 47.998233, 3.0, 3.0, 1.0, 'min', 0.25, 0.0, 'min', 0.0), ('b146804', -122.2196648, 47.4463797, 2.0, 1.0, 0.0, 'kwh', 0.1, 0.0, 'min', 0.0), ('b146948', -122.324887, 47.708457, 3.0, 3.0, 1.0, 'min', 0.25, 0.0, 'min', 0.0), ('b147131', -122.25738, 47.455711, 3.0, 5.0, 0.0, '', 0.0, 0.0, '', 0.0), ('b147227', -122.052032, 47.541874, 3.0, 3.0, 0.0, '', 0.0, 0.0, '', 0.0), ('b147648', -121.973176, 47.865164, 3.0, 3.0, 0.0, '', 0.0, 0.0, '', 0.0), ('b149281', -122.20711, 47.80832, 3.0, 3.0, 0.0, '', 0.0, 0.0, '', 0.0), ('b149609', -122.327878, 47.571235, 3.0, 8.0, 0.0, '', 0.0, 0.0, '', 0.0), ('b149893', -119.265577, 46.195494, 3.0, 4.0, 0.0, '', 0.0, 0.0, '', 0.0), ('b152574', -122.3243279, 47.5419455, 3.0, 2.0, 0.0, '', 0.0, 0.0, '', 0.0), ('b153614', -119.785172, 46.219978, 3.0, 2.0, 0.0, '', 0.0, 0.0, '', 0.0), ('b153615', -119.303543, 46.266739, 3.0, 2.0, 0.0, '', 0.0, 0.0, '', 0.0), ('b153616', -119.284584, 47.1269, 3.0, 2.0, 0.0, '', 0.0, 0.0, '', 0.0), ('b154308', -122.271361, 47.820256, 3.0, 2.0, 0.0, '', 0.0, 0.0, '', 0.0), ('b154419', -122.25875091552734, 47.68138122558594, 3.0, 4.0, 0.0, '', 0.0, 0.0, '', 0.0), ('b155264', -122.7708595, 47.0616742, 2.0, 1.0, 0.0, '', 0.0, 0.0, '', 0.0), ('b155325', -122.236183, 47.383298, 3.0, 3.0, 0.0, '', 0.0, 0.0, '', 0.0), ('b155497', -123.4312744140625, 48.11968994140625, 3.0, 2.0, 0.0, '', 0.0, 0.0, '', 0.0), ('b156215', -119.7902603149414, 46.21937942504883, 3.0, 2.0, 0.0, '', 0.0, 0.0, '', 0.0), ('b163338', -122.593406, 45.649918, 3.0, 4.0, 0.0, '', 0.0, 0.0, '', 0.0), ('b164163', -122.936182, 47.045446, 3.0, 4.0, 0.0, '', 0.0, 0.0, '', 0.0), ('b165647', -122.256001, 47.893501, 3.0, 3.0, 0.0, '', 0.0, 0.0, '', 0.0), ('b166231', -122.303938, 47.616852, 3.0, 4.0, 0.0, '', 0.0, 0.0, '', 0.0), ('b166926', -122.825987, 47.042001, 3.0, 4.0, 0.0, '', 0.0, 0.0, '', 0.0), ('b167474', -122.381658, 47.561705, 3.0, 4.0, 0.0, '', 0.0, 0.0, '', 0.0), ('b167497', -120.9030990600586, 47.18890380859375, 3.0, 2.0, 0.0, '', 0.0, 0.0, '', 0.0), ('b167523', -118.86116027832031, 46.659027099609375, 3.0, 2.0, 0.0, '', 0.0, 0.0, '', 0.0), ('b167562', -122.104565, 47.671794, 3.0, 3.0, 0.0, '', 0.0, 0.0, '', 0.0), ('b167758', -122.297569, 47.155976, 3.0, 4.0, 0.0, '', 0.0, 0.0, '', 0.0), ('b168082', -122.151151, 47.75422, 3.0, 4.0, 0.0, '', 0.0, 0.0, '', 0.0), ('b168088', -122.512304, 48.789282, 3.0, 4.0, 0.0, '', 0.0, 0.0, '', 0.0)]\n",
      "b\"INSERT INTO evses_now (evse_id, longitude, latitude, connector_code, dcfc_count, dcfc_fixed_charging_price, dcfc_var_charging_price_unit, dcfc_var_charging_price, dcfc_fixed_parking_price, dcfc_var_parking_price_unit, dcfc_var_parking_price) VALUES ARRAY[('b39780',  -122.333257, 47.458466, 1.0, 1.0, 0.0, 'min', 0.0, 0.0, 'min', 0.0),('b39788',  -123.342273, 48.102863, 1.0, 1.0, 0.0, 'min', 0.0, 0.0, 'min', 0.0),('b39789',  -122.294997, 47.207367, 1.0, 1.0, 0.0, 'min', 0.0, 0.0, 'min', 0.0),('b39791',  -122.2188, 47.448354, 1.0, 1.0, 0.0, 'min', 0.0, 0.0, 'min', 0.0),('b39796',  -117.312518, 47.657264, 1.0, 1.0, 0.0, 'min', 0.0, 0.0, 'min', 0.0),('b61030',  -122.59837, 45.648181, 1.0, 1.0, 0.0, 'min', 0.0, 0.0, 'min', 0.0),('b63307',  -122.3144085, 47.614911, 1.0, 1.0, 3.0, 'min', 0.0, 0.0, 'min', 1.0),('b63444',  -120.279071, 47.400783, 1.0, 1.0, 0.0, 'min', 0.0, 0.0, 'min', 0.0),('b65551',  -122.3448327, 47.7781913, 1.0, 1.0, 6.0, 'min', 0.0, 0.0, 'min', 0.0),('b65859',  -120.31231, 47.42758, 1.0, 1.0, 7.5, 'min', 0.0, 0.0, 'min', 0.0),('b65861',  -122.974224, 46.725274, 1.0, 1.0, 7.5, 'min', 0.0, 0.0, 'min', 0.0),('b65862',  -122.470706, 48.731457, 1.0, 1.0, 7.5, 'min', 0.0, 0.0, 'min', 0.0),('b65864',  -122.910167, 46.276122, 1.0, 1.0, 7.5, 'min', 0.0, 0.0, 'min', 0.0),('b65865',  -122.335866, 48.457448, 1.0, 1.0, 7.5, 'min', 0.0, 0.0, 'min', 0.0),('b65866',  -122.683594, 45.817526, 1.0, 1.0, 7.5, 'min', 0.0, 0.0, 'min', 0.0),('b65869',  -121.360495, 47.711268, 1.0, 1.0, 7.5, 'min', 0.0, 0.0, 'min', 0.0),('b73412',  -122.908081, 46.99353, 1.0, 1.0, 7.5, 'min', 0.0, 0.0, 'min', 0.0),('b73413',  -120.664684, 47.59501, 1.0, 1.0, 7.5, 'min', 0.0, 0.0, 'min', 0.0),('b73415',  -121.816597, 47.862157, 1.0, 1.0, 7.5, 'min', 0.0, 0.0, 'min', 0.0),('b73431',  -121.019582, 47.208469, 1.0, 1.0, 7.5, 'min', 0.0, 0.0, 'min', 0.0),('b73433',  -121.4113, 47.42094, 1.0, 1.0, 7.5, 'min', 0.0, 0.0, 'min', 0.0),('b74196',  -122.237601, 47.906308, 3.0, 1.0, 5.0, 'min', 0.0, 0.0, 'min', 0.0),('b75094',  -122.24699, 47.902753, 3.0, 6.0, 6.0, 'min', 0.0, 0.0, 'min', 0.0),('b75997',  -122.174855, 47.707294, 1.0, 3.0, 0.0, '', 0.0, 0.0, '', 0.0),('b76253',  -122.182402, 47.677725, 3.0, 1.0, 0.0, 'min', 0.25, 0.0, 'min', 0.0),('b76926',  -122.374558, 47.239188, 2.0, 1.0, 0.0, 'min', 0.0, 0.0, 'min', 0.0),('b78795',  -122.32451, 47.59366, 2.0, 2.0, 5.0, 'min', 0.0, 0.0, 'min', 0.0),('b82083',  -122.3442599, 47.778399, 3.0, 2.0, 6.0, 'min', 0.0, 0.0, 'min', 0.0),('b88018',  -122.296325, 47.436037, 3.0, 4.0, 4.95, 'min', 0.0, 0.0, 'min', 0.2),('b92472',  -122.3228502, 47.6155533, 3.0, 2.0, 4.95, 'min', 0.0, 0.0, 'min', 0.2),('b92487',  -122.3457541, 47.7811507, 3.0, 2.0, 6.0, 'min', 0.0, 0.0, 'min', 0.0),('b93034',  -122.143066, 47.580845, 1.0, 5.0, 0.0, 'min', 0.29, 0.0, 'min', 0.0),('b93038',  -122.14364, 47.58083, 1.0, 3.0, 0.0, 'min', 0.29, 0.0, 'min', 0.0),('b93088',  -122.11949, 47.67137, 3.0, 2.0, 0.0, 'min', 0.29, 0.0, 'min', 0.0),('b93146',  -122.32952, 47.62066, 3.0, 2.0, 0.0, 'min', 0.29, 0.0, 'min', 0.0),('b93172',  -118.365561, 47.118605, 3.0, 1.0, 0.0, 'min', 0.29, 0.0, 'min', 0.0),('b93339',  -122.47068, 47.21543, 3.0, 3.0, 0.0, 'min', 0.29, 0.0, 'min', 0.0),('b93343',  -122.1897, 48.09264, 3.0, 1.0, 0.0, 'min', 0.29, 0.0, 'min', 0.0),('b93352',  -121.79308, 47.49132, 3.0, 2.0, 0.0, 'min', 0.29, 0.0, 'min', 0.0),('b93364',  -122.32519, 47.7033, 3.0, 1.0, 0.0, 'min', 0.29, 0.0, 'min', 0.0),('b93443',  -122.321919, 47.613457, 3.0, 1.0, 0.0, 'min', 0.29, 0.0, 'min', 0.0),('b93483',  -122.20461, 47.49845, 3.0, 2.0, 0.0, 'min', 0.29, 0.0, 'min', 0.0),('b93531',  -122.76205, 45.92845, 3.0, 1.0, 0.0, 'min', 0.29, 0.0, 'min', 0.0),('b93550',  -122.23611, 47.58489, 3.0, 2.0, 0.0, 'min', 0.29, 0.0, 'min', 0.0),('b95063',  -122.663254, 45.629398, 1.0, 2.0, 0.0, 'kwh', 0.49, 0.0, 'min', 0.0),('b95621',  -122.212814, 47.293216, 1.0, 2.0, 0.0, 'kwh', 0.59, 0.0, 'min', 0.0),('b96282',  -122.66705, 47.56825, 1.0, 2.0, 0.0, 'kwh', 0.59, 0.0, 'min', 0.0),('b96400',  -122.15043, 47.58495, 1.0, 2.0, 0.0, '', 0.0, 0.0, '', 0.0),('b96405',  -122.663135, 45.720603, 1.0, 2.0, 0.0, 'kwh', 0.59, 0.0, 'min', 0.0),('b96407',  -122.183522, 47.708482, 1.0, 2.0, 0.0, 'kwh', 0.59, 0.0, 'min', 0.0),('b96412',  -122.292383, 47.723689, 1.0, 2.0, 0.0, 'kwh', 0.59, 0.0, 'min', 0.0),('b96505',  -122.206909, 47.245269, 1.0, 2.0, 0.0, 'kwh', 0.59, 0.0, 'min', 0.0),('b96628',  -122.348098, 47.24198, 1.0, 2.0, 0.0, 'kwh', 0.59, 0.0, 'min', 0.0),('b98770',  -122.3346258, 47.6992271, 3.0, 2.0, 4.95, 'min', 0.0, 0.0, 'min', 0.2),('b99067',  -122.29222869873047, 47.20663833618164, 3.0, 2.0, 0.0, 'min', 0.167, 0.0, 'min', 0.0),('b99070',  -122.48442077636719, 47.190608978271484, 3.0, 2.0, 0.0, 'min', 0.117, 0.0, 'min', 0.0),('b99183',  -117.37006378173828, 47.23467254638672, 3.0, 2.0, 0.0, 'kwh', 0.35, 0.0, 'min', 0.0),('b99263',  -117.431889, 47.662197, 3.0, 2.0, 0.0, 'kwh', 0.35, 0.0, 'min', 0.0),('b99277',  -117.174757, 46.729729, 3.0, 2.0, 0.0, 'kwh', 0.35, 0.0, 'min', 0.0),('b99280',  -117.10325622558594, 47.6705436706543, 3.0, 2.0, 0.0, 'kwh', 0.35, 0.0, 'min', 0.0),('b99282',  -122.312333, 47.579971, 3.0, 4.0, 0.0, 'kwh', 0.43, 0.0, 'min', 0.0),('b99296',  -119.184406, 46.181372, 3.0, 2.0, 0.0, 'min', 0.35, 0.0, 'min', 0.0),('b99297',  -120.548798, 46.994109, 3.0, 2.0, 0.0, 'min', 0.35, 0.0, 'min', 0.0),('b99358',  -119.188128, 46.179735, 3.0, 1.0, 0.0, 'kwh', 0.59, 0.0, 'min', 0.0),('b99591',  -122.3304563, 47.5974463, 3.0, 8.0, 4.95, 'min', 0.0, 0.0, 'min', 0.2),('b100242',  -122.429536, 47.234898, 3.0, 2.0, 0.0, 'min', 0.29, 0.0, 'min', 0.0),('b103573',  -122.32406, 47.700101, 3.0, 4.0, 4.95, 'min', 0.0, 0.0, 'min', 0.2),('b103586',  -119.124176, 46.241729, 3.0, 2.0, 0.0, 'min', 0.35, 0.0, 'min', 0.0),('b103612',  -117.401944, 47.768802, 3.0, 2.0, 0.0, 'kwh', 0.35, 0.0, 'min', 0.0),('b104285',  -122.2984152, 47.7132239, 3.0, 2.0, 4.95, 'min', 0.0, 0.0, 'min', 0.2),('b104286',  -122.350639, 47.619964, 3.0, 4.0, 4.95, 'min', 0.0, 0.0, 'min', 0.2),('b105361',  -120.481583, 46.604239, 2.0, 1.0, 0.0, 'min', 0.0, 0.0, 'min', 0.0),('b105362',  -120.336918, 47.467463, 2.0, 1.0, 0.0, 'min', 0.0, 0.0, 'min', 0.0),('b119039',  -122.155852, 47.626541, 2.0, 1.0, 0.0, 'min', 0.0, 0.0, 'min', 0.0),('b121703',  -117.190123, 47.665596, 3.0, 8.0, 1.0, 'min', 0.25, 0.0, 'min', 0.0),('b121704',  -121.793559, 47.491288, 3.0, 4.0, 1.0, 'min', 0.25, 0.0, 'min', 0.0),('b121709',  -122.660913, 45.687387, 3.0, 6.0, 1.0, 'min', 0.25, 0.0, 'min', 0.0),('b122833',  -117.56153106689453, 47.58805847167969, 3.0, 2.0, 0.0, '', 0.0, 0.0, '', 0.0),('b123004',  -122.344757, 48.44174, 3.0, 4.0, 1.0, 'min', 0.25, 0.0, 'min', 0.0),('b123050',  -122.199295, 47.497292, 3.0, 3.0, 1.0, 'min', 0.25, 0.0, 'min', 0.0),('b123446',  -122.267332, 47.831991, 3.0, 3.0, 1.0, 'min', 0.25, 0.0, 'min', 0.0),('b123479',  -122.77201, 47.059659, 3.0, 6.0, 1.0, 'min', 0.25, 0.0, 'min', 0.0),('b124057',  -122.110209, 47.360982, 3.0, 3.0, 1.0, 'min', 0.25, 0.0, 'min', 0.0),('b124683',  -122.186896, 48.095461, 3.0, 4.0, 1.0, 'min', 0.25, 0.0, 'min', 0.0),('b124684',  -122.901263, 46.139875, 3.0, 4.0, 1.0, 'min', 0.25, 0.0, 'min', 0.0),('b135872',  -122.480252, 47.239472, 3.0, 3.0, 1.0, 'min', 0.25, 0.0, 'min', 0.0),('b136697',  -120.47924, 46.60252, 3.0, 4.0, 1.0, 'min', 0.25, 0.0, 'min', 0.0),('b138537',  -122.461854, 48.74393, 3.0, 2.0, 0.0, 'min', 0.29, 0.0, 'min', 0.0),('b143152',  -117.1493042, 47.6674691, 2.0, 1.0, 0.0, 'min', 0.0, 0.0, 'min', 0.0),('b143212',  -122.310875, 47.828644, 2.0, 1.0, 0.0, 'kwh', 0.16, 0.0, 'min', 0.0167),('b143313',  -122.15664, 47.630585, 2.0, 1.0, 1.0, 'min', 0.0, 0.0, 'min', 0.0),('b143782',  -122.945746, 48.599217, 1.0, 1.0, 0.0, '', 0.0, 0.0, '', 0.0),('b143939',  -117.4004898071289, 47.66310501098633, 3.0, 2.0, 0.0, 'kwh', 0.35, 0.0, 'min', 0.0),('b143969',  -122.644253, 47.092582, 3.0, 2.0, 0.0, 'min', 0.29, 0.0, 'min', 0.0),('b143970',  -122.213314, 47.913486, 3.0, 10.0, 1.0, 'min', 0.25, 0.0, 'min', 0.0),('b143971',  -118.362709, 47.119482, 3.0, 4.0, 1.0, 'min', 0.25, 0.0, 'min', 0.0),('b144074',  -122.3448322, 47.778256, 3.0, 2.0, 6.0, 'min', 0.0, 0.0, 'min', 0.0),('b144090',  -122.478138, 45.617755, 3.0, 3.0, 1.0, 'min', 0.25, 0.0, 'min', 0.0),('b144984',  -122.299448, 47.450258, 3.0, 2.0, 0.0, 'min', 0.29, 0.0, 'min', 0.0),('b145151',  -122.3502919, 47.6654703, 3.0, 2.0, 4.95, 'min', 0.0, 0.0, 'min', 0.2),('b145684',  -122.100638, 47.998233, 3.0, 3.0, 1.0, 'min', 0.25, 0.0, 'min', 0.0),('b146804',  -122.2196648, 47.4463797, 2.0, 1.0, 0.0, 'kwh', 0.1, 0.0, 'min', 0.0),('b146948',  -122.324887, 47.708457, 3.0, 3.0, 1.0, 'min', 0.25, 0.0, 'min', 0.0),('b147131',  -122.25738, 47.455711, 3.0, 5.0, 0.0, '', 0.0, 0.0, '', 0.0),('b147227',  -122.052032, 47.541874, 3.0, 3.0, 0.0, '', 0.0, 0.0, '', 0.0),('b147648',  -121.973176, 47.865164, 3.0, 3.0, 0.0, '', 0.0, 0.0, '', 0.0),('b149281',  -122.20711, 47.80832, 3.0, 3.0, 0.0, '', 0.0, 0.0, '', 0.0),('b149609',  -122.327878, 47.571235, 3.0, 8.0, 0.0, '', 0.0, 0.0, '', 0.0),('b149893',  -119.265577, 46.195494, 3.0, 4.0, 0.0, '', 0.0, 0.0, '', 0.0),('b152574',  -122.3243279, 47.5419455, 3.0, 2.0, 0.0, '', 0.0, 0.0, '', 0.0),('b153614',  -119.785172, 46.219978, 3.0, 2.0, 0.0, '', 0.0, 0.0, '', 0.0),('b153615',  -119.303543, 46.266739, 3.0, 2.0, 0.0, '', 0.0, 0.0, '', 0.0),('b153616',  -119.284584, 47.1269, 3.0, 2.0, 0.0, '', 0.0, 0.0, '', 0.0),('b154308',  -122.271361, 47.820256, 3.0, 2.0, 0.0, '', 0.0, 0.0, '', 0.0),('b154419',  -122.25875091552734, 47.68138122558594, 3.0, 4.0, 0.0, '', 0.0, 0.0, '', 0.0),('b155264',  -122.7708595, 47.0616742, 2.0, 1.0, 0.0, '', 0.0, 0.0, '', 0.0),('b155325',  -122.236183, 47.383298, 3.0, 3.0, 0.0, '', 0.0, 0.0, '', 0.0),('b155497',  -123.4312744140625, 48.11968994140625, 3.0, 2.0, 0.0, '', 0.0, 0.0, '', 0.0),('b156215',  -119.7902603149414, 46.21937942504883, 3.0, 2.0, 0.0, '', 0.0, 0.0, '', 0.0),('b163338',  -122.593406, 45.649918, 3.0, 4.0, 0.0, '', 0.0, 0.0, '', 0.0),('b164163',  -122.936182, 47.045446, 3.0, 4.0, 0.0, '', 0.0, 0.0, '', 0.0),('b165647',  -122.256001, 47.893501, 3.0, 3.0, 0.0, '', 0.0, 0.0, '', 0.0),('b166231',  -122.303938, 47.616852, 3.0, 4.0, 0.0, '', 0.0, 0.0, '', 0.0),('b166926',  -122.825987, 47.042001, 3.0, 4.0, 0.0, '', 0.0, 0.0, '', 0.0),('b167474',  -122.381658, 47.561705, 3.0, 4.0, 0.0, '', 0.0, 0.0, '', 0.0),('b167497',  -120.9030990600586, 47.18890380859375, 3.0, 2.0, 0.0, '', 0.0, 0.0, '', 0.0),('b167523',  -118.86116027832031, 46.659027099609375, 3.0, 2.0, 0.0, '', 0.0, 0.0, '', 0.0),('b167562',  -122.104565, 47.671794, 3.0, 3.0, 0.0, '', 0.0, 0.0, '', 0.0),('b167758',  -122.297569, 47.155976, 3.0, 4.0, 0.0, '', 0.0, 0.0, '', 0.0),('b168082',  -122.151151, 47.75422, 3.0, 4.0, 0.0, '', 0.0, 0.0, '', 0.0),('b168088',  -122.512304, 48.789282, 3.0, 4.0, 0.0, '', 0.0, 0.0, '', 0.0)]\"\n",
      "[100, 45, 53, 33, 103, 88, 61, 63, 74, 121]\n",
      "[143939.0, 93552.0, 96412.0, 93038.0, 143971.0, 124057.0, 99183.0, 99277.0, 103612.0, 154308.0]\n",
      "     evse_id   longitude   latitude  connector_code  dcfc_count  \\\n",
      "0     b39778 -122.454132  48.755607             1.0         1.0   \n",
      "1     b39780 -122.333257  47.458466             1.0         1.0   \n",
      "2     b39788 -123.342273  48.102863             1.0         1.0   \n",
      "3     b39789 -122.294997  47.207367             1.0         1.0   \n",
      "4     b39791 -122.218800  47.448354             1.0         1.0   \n",
      "..       ...         ...        ...             ...         ...   \n",
      "126  b167523 -118.861160  46.659027             3.0         2.0   \n",
      "127  b167562 -122.104565  47.671794             3.0         3.0   \n",
      "128  b167758 -122.297569  47.155976             3.0         4.0   \n",
      "129  b168082 -122.151151  47.754220             3.0         4.0   \n",
      "130  b168088 -122.512304  48.789282             3.0         4.0   \n",
      "\n",
      "     dcfc_fixed_charging_price dcfc_var_charging_price_unit  \\\n",
      "0                          0.0                          min   \n",
      "1                          0.0                          min   \n",
      "2                          0.0                          min   \n",
      "3                          0.0                          min   \n",
      "4                          0.0                          min   \n",
      "..                         ...                          ...   \n",
      "126                        0.0                                \n",
      "127                        0.0                                \n",
      "128                        0.0                                \n",
      "129                        0.0                                \n",
      "130                        0.0                                \n",
      "\n",
      "     dcfc_var_charging_price  dcfc_fixed_parking_price  \\\n",
      "0                        0.0                       0.0   \n",
      "1                        0.0                       0.0   \n",
      "2                        0.0                       0.0   \n",
      "3                        0.0                       0.0   \n",
      "4                        0.0                       0.0   \n",
      "..                       ...                       ...   \n",
      "126                      0.0                       0.0   \n",
      "127                      0.0                       0.0   \n",
      "128                      0.0                       0.0   \n",
      "129                      0.0                       0.0   \n",
      "130                      0.0                       0.0   \n",
      "\n",
      "    dcfc_var_parking_price_unit  dcfc_var_parking_price  \n",
      "0                           min                     0.0  \n",
      "1                           min                     0.0  \n",
      "2                           min                     0.0  \n",
      "3                           min                     0.0  \n",
      "4                           min                     0.0  \n",
      "..                          ...                     ...  \n",
      "126                                                 0.0  \n",
      "127                                                 0.0  \n",
      "128                                                 0.0  \n",
      "129                                                 0.0  \n",
      "130                                                 0.0  \n",
      "\n",
      "[131 rows x 11 columns]\n",
      "[('b39778', -122.454132, 48.755607, 1.0, 1.0, 0.0, 'min', 0.0, 0.0, 'min', 0.0), ('b39780', -122.333257, 47.458466, 1.0, 1.0, 0.0, 'min', 0.0, 0.0, 'min', 0.0), ('b39788', -123.342273, 48.102863, 1.0, 1.0, 0.0, 'min', 0.0, 0.0, 'min', 0.0), ('b39789', -122.294997, 47.207367, 1.0, 1.0, 0.0, 'min', 0.0, 0.0, 'min', 0.0), ('b39791', -122.2188, 47.448354, 1.0, 1.0, 0.0, 'min', 0.0, 0.0, 'min', 0.0), ('b39796', -117.312518, 47.657264, 1.0, 1.0, 0.0, 'min', 0.0, 0.0, 'min', 0.0), ('b61030', -122.59837, 45.648181, 1.0, 1.0, 0.0, 'min', 0.0, 0.0, 'min', 0.0), ('b63307', -122.3144085, 47.614911, 1.0, 1.0, 3.0, 'min', 0.0, 0.0, 'min', 1.0), ('b63444', -120.279071, 47.400783, 1.0, 1.0, 0.0, 'min', 0.0, 0.0, 'min', 0.0), ('b65551', -122.3448327, 47.7781913, 1.0, 1.0, 6.0, 'min', 0.0, 0.0, 'min', 0.0), ('b65859', -120.31231, 47.42758, 1.0, 1.0, 7.5, 'min', 0.0, 0.0, 'min', 0.0), ('b65861', -122.974224, 46.725274, 1.0, 1.0, 7.5, 'min', 0.0, 0.0, 'min', 0.0), ('b65862', -122.470706, 48.731457, 1.0, 1.0, 7.5, 'min', 0.0, 0.0, 'min', 0.0), ('b65864', -122.910167, 46.276122, 1.0, 1.0, 7.5, 'min', 0.0, 0.0, 'min', 0.0), ('b65865', -122.335866, 48.457448, 1.0, 1.0, 7.5, 'min', 0.0, 0.0, 'min', 0.0), ('b65866', -122.683594, 45.817526, 1.0, 1.0, 7.5, 'min', 0.0, 0.0, 'min', 0.0), ('b65869', -121.360495, 47.711268, 1.0, 1.0, 7.5, 'min', 0.0, 0.0, 'min', 0.0), ('b73412', -122.908081, 46.99353, 1.0, 1.0, 7.5, 'min', 0.0, 0.0, 'min', 0.0), ('b73413', -120.664684, 47.59501, 1.0, 1.0, 7.5, 'min', 0.0, 0.0, 'min', 0.0), ('b73415', -121.816597, 47.862157, 1.0, 1.0, 7.5, 'min', 0.0, 0.0, 'min', 0.0), ('b73431', -121.019582, 47.208469, 1.0, 1.0, 7.5, 'min', 0.0, 0.0, 'min', 0.0), ('b73433', -121.4113, 47.42094, 1.0, 1.0, 7.5, 'min', 0.0, 0.0, 'min', 0.0), ('b74196', -122.237601, 47.906308, 3.0, 1.0, 5.0, 'min', 0.0, 0.0, 'min', 0.0), ('b75094', -122.24699, 47.902753, 3.0, 6.0, 6.0, 'min', 0.0, 0.0, 'min', 0.0), ('b75997', -122.174855, 47.707294, 1.0, 3.0, 0.0, '', 0.0, 0.0, '', 0.0), ('b76253', -122.182402, 47.677725, 3.0, 1.0, 0.0, 'min', 0.25, 0.0, 'min', 0.0), ('b76926', -122.374558, 47.239188, 2.0, 1.0, 0.0, 'min', 0.0, 0.0, 'min', 0.0), ('b78795', -122.32451, 47.59366, 2.0, 2.0, 5.0, 'min', 0.0, 0.0, 'min', 0.0), ('b82083', -122.3442599, 47.778399, 3.0, 2.0, 6.0, 'min', 0.0, 0.0, 'min', 0.0), ('b88018', -122.296325, 47.436037, 3.0, 4.0, 4.95, 'min', 0.0, 0.0, 'min', 0.2), ('b92472', -122.3228502, 47.6155533, 3.0, 2.0, 4.95, 'min', 0.0, 0.0, 'min', 0.2), ('b92487', -122.3457541, 47.7811507, 3.0, 2.0, 6.0, 'min', 0.0, 0.0, 'min', 0.0), ('b93034', -122.143066, 47.580845, 1.0, 5.0, 0.0, 'min', 0.29, 0.0, 'min', 0.0), ('b93088', -122.11949, 47.67137, 3.0, 2.0, 0.0, 'min', 0.29, 0.0, 'min', 0.0), ('b93146', -122.32952, 47.62066, 3.0, 2.0, 0.0, 'min', 0.29, 0.0, 'min', 0.0), ('b93172', -118.365561, 47.118605, 3.0, 1.0, 0.0, 'min', 0.29, 0.0, 'min', 0.0), ('b93339', -122.47068, 47.21543, 3.0, 3.0, 0.0, 'min', 0.29, 0.0, 'min', 0.0), ('b93343', -122.1897, 48.09264, 3.0, 1.0, 0.0, 'min', 0.29, 0.0, 'min', 0.0), ('b93352', -121.79308, 47.49132, 3.0, 2.0, 0.0, 'min', 0.29, 0.0, 'min', 0.0), ('b93364', -122.32519, 47.7033, 3.0, 1.0, 0.0, 'min', 0.29, 0.0, 'min', 0.0), ('b93443', -122.321919, 47.613457, 3.0, 1.0, 0.0, 'min', 0.29, 0.0, 'min', 0.0), ('b93483', -122.20461, 47.49845, 3.0, 2.0, 0.0, 'min', 0.29, 0.0, 'min', 0.0), ('b93531', -122.76205, 45.92845, 3.0, 1.0, 0.0, 'min', 0.29, 0.0, 'min', 0.0), ('b93550', -122.23611, 47.58489, 3.0, 2.0, 0.0, 'min', 0.29, 0.0, 'min', 0.0), ('b95063', -122.663254, 45.629398, 1.0, 2.0, 0.0, 'kwh', 0.49, 0.0, 'min', 0.0), ('b95368', -122.694367, 47.652505, 1.0, 2.0, 0.0, 'kwh', 0.59, 0.0, 'min', 0.0), ('b95621', -122.212814, 47.293216, 1.0, 2.0, 0.0, 'kwh', 0.59, 0.0, 'min', 0.0), ('b96282', -122.66705, 47.56825, 1.0, 2.0, 0.0, 'kwh', 0.59, 0.0, 'min', 0.0), ('b96400', -122.15043, 47.58495, 1.0, 2.0, 0.0, '', 0.0, 0.0, '', 0.0), ('b96405', -122.663135, 45.720603, 1.0, 2.0, 0.0, 'kwh', 0.59, 0.0, 'min', 0.0), ('b96407', -122.183522, 47.708482, 1.0, 2.0, 0.0, 'kwh', 0.59, 0.0, 'min', 0.0), ('b96505', -122.206909, 47.245269, 1.0, 2.0, 0.0, 'kwh', 0.59, 0.0, 'min', 0.0), ('b96628', -122.348098, 47.24198, 1.0, 2.0, 0.0, 'kwh', 0.59, 0.0, 'min', 0.0), ('b96763', -122.3527083, 47.547708, 3.0, 2.0, 4.95, 'min', 0.0, 0.0, 'min', 0.2), ('b98770', -122.3346258, 47.6992271, 3.0, 2.0, 4.95, 'min', 0.0, 0.0, 'min', 0.2), ('b99059', -122.22020721435547, 47.47077178955078, 3.0, 2.0, 0.0, 'min', 0.058, 0.0, 'min', 0.0), ('b99067', -122.29222869873047, 47.20663833618164, 3.0, 2.0, 0.0, 'min', 0.167, 0.0, 'min', 0.0), ('b99070', -122.48442077636719, 47.190608978271484, 3.0, 2.0, 0.0, 'min', 0.117, 0.0, 'min', 0.0), ('b99263', -117.431889, 47.662197, 3.0, 2.0, 0.0, 'kwh', 0.35, 0.0, 'min', 0.0), ('b99280', -117.10325622558594, 47.6705436706543, 3.0, 2.0, 0.0, 'kwh', 0.35, 0.0, 'min', 0.0), ('b99282', -122.312333, 47.579971, 3.0, 4.0, 0.0, 'kwh', 0.43, 0.0, 'min', 0.0), ('b99296', -119.184406, 46.181372, 3.0, 2.0, 0.0, 'min', 0.35, 0.0, 'min', 0.0), ('b99297', -120.548798, 46.994109, 3.0, 2.0, 0.0, 'min', 0.35, 0.0, 'min', 0.0), ('b99358', -119.188128, 46.179735, 3.0, 1.0, 0.0, 'kwh', 0.59, 0.0, 'min', 0.0), ('b99591', -122.3304563, 47.5974463, 3.0, 8.0, 4.95, 'min', 0.0, 0.0, 'min', 0.2), ('b100242', -122.429536, 47.234898, 3.0, 2.0, 0.0, 'min', 0.29, 0.0, 'min', 0.0), ('b103573', -122.32406, 47.700101, 3.0, 4.0, 4.95, 'min', 0.0, 0.0, 'min', 0.2), ('b103581', -120.478546, 46.677105, 3.0, 2.0, 0.0, 'min', 0.35, 0.0, 'min', 0.0), ('b103586', -119.124176, 46.241729, 3.0, 2.0, 0.0, 'min', 0.35, 0.0, 'min', 0.0), ('b104285', -122.2984152, 47.7132239, 3.0, 2.0, 4.95, 'min', 0.0, 0.0, 'min', 0.2), ('b104286', -122.350639, 47.619964, 3.0, 4.0, 4.95, 'min', 0.0, 0.0, 'min', 0.2), ('b105361', -120.481583, 46.604239, 2.0, 1.0, 0.0, 'min', 0.0, 0.0, 'min', 0.0), ('b105362', -120.336918, 47.467463, 2.0, 1.0, 0.0, 'min', 0.0, 0.0, 'min', 0.0), ('b119039', -122.155852, 47.626541, 2.0, 1.0, 0.0, 'min', 0.0, 0.0, 'min', 0.0), ('b121703', -117.190123, 47.665596, 3.0, 8.0, 1.0, 'min', 0.25, 0.0, 'min', 0.0), ('b121704', -121.793559, 47.491288, 3.0, 4.0, 1.0, 'min', 0.25, 0.0, 'min', 0.0), ('b121709', -122.660913, 45.687387, 3.0, 6.0, 1.0, 'min', 0.25, 0.0, 'min', 0.0), ('b122833', -117.56153106689453, 47.58805847167969, 3.0, 2.0, 0.0, '', 0.0, 0.0, '', 0.0), ('b123004', -122.344757, 48.44174, 3.0, 4.0, 1.0, 'min', 0.25, 0.0, 'min', 0.0), ('b123050', -122.199295, 47.497292, 3.0, 3.0, 1.0, 'min', 0.25, 0.0, 'min', 0.0), ('b123446', -122.267332, 47.831991, 3.0, 3.0, 1.0, 'min', 0.25, 0.0, 'min', 0.0), ('b123479', -122.77201, 47.059659, 3.0, 6.0, 1.0, 'min', 0.25, 0.0, 'min', 0.0), ('b124683', -122.186896, 48.095461, 3.0, 4.0, 1.0, 'min', 0.25, 0.0, 'min', 0.0), ('b124684', -122.901263, 46.139875, 3.0, 4.0, 1.0, 'min', 0.25, 0.0, 'min', 0.0), ('b135872', -122.480252, 47.239472, 3.0, 3.0, 1.0, 'min', 0.25, 0.0, 'min', 0.0), ('b136697', -120.47924, 46.60252, 3.0, 4.0, 1.0, 'min', 0.25, 0.0, 'min', 0.0), ('b138537', -122.461854, 48.74393, 3.0, 2.0, 0.0, 'min', 0.29, 0.0, 'min', 0.0), ('b143152', -117.1493042, 47.6674691, 2.0, 1.0, 0.0, 'min', 0.0, 0.0, 'min', 0.0), ('b143212', -122.310875, 47.828644, 2.0, 1.0, 0.0, 'kwh', 0.16, 0.0, 'min', 0.0167), ('b143215', -122.39677, 47.24293, 2.0, 1.0, 0.0, 'min', 0.0, 0.0, 'min', 0.1), ('b143313', -122.15664, 47.630585, 2.0, 1.0, 1.0, 'min', 0.0, 0.0, 'min', 0.0), ('b143782', -122.945746, 48.599217, 1.0, 1.0, 0.0, '', 0.0, 0.0, '', 0.0), ('b143835', -122.975256, 46.67925, 3.0, 1.0, 0.0, 'min', 0.29, 0.0, 'min', 0.0), ('b143969', -122.644253, 47.092582, 3.0, 2.0, 0.0, 'min', 0.29, 0.0, 'min', 0.0), ('b143970', -122.213314, 47.913486, 3.0, 10.0, 1.0, 'min', 0.25, 0.0, 'min', 0.0), ('b144074', -122.3448322, 47.778256, 3.0, 2.0, 6.0, 'min', 0.0, 0.0, 'min', 0.0), ('b144090', -122.478138, 45.617755, 3.0, 3.0, 1.0, 'min', 0.25, 0.0, 'min', 0.0), ('b144984', -122.299448, 47.450258, 3.0, 2.0, 0.0, 'min', 0.29, 0.0, 'min', 0.0), ('b145151', -122.3502919, 47.6654703, 3.0, 2.0, 4.95, 'min', 0.0, 0.0, 'min', 0.2), ('b145684', -122.100638, 47.998233, 3.0, 3.0, 1.0, 'min', 0.25, 0.0, 'min', 0.0), ('b146804', -122.2196648, 47.4463797, 2.0, 1.0, 0.0, 'kwh', 0.1, 0.0, 'min', 0.0), ('b146948', -122.324887, 47.708457, 3.0, 3.0, 1.0, 'min', 0.25, 0.0, 'min', 0.0), ('b147131', -122.25738, 47.455711, 3.0, 5.0, 0.0, '', 0.0, 0.0, '', 0.0), ('b147227', -122.052032, 47.541874, 3.0, 3.0, 0.0, '', 0.0, 0.0, '', 0.0), ('b147648', -121.973176, 47.865164, 3.0, 3.0, 0.0, '', 0.0, 0.0, '', 0.0), ('b149281', -122.20711, 47.80832, 3.0, 3.0, 0.0, '', 0.0, 0.0, '', 0.0), ('b149609', -122.327878, 47.571235, 3.0, 8.0, 0.0, '', 0.0, 0.0, '', 0.0), ('b149893', -119.265577, 46.195494, 3.0, 4.0, 0.0, '', 0.0, 0.0, '', 0.0), ('b152574', -122.3243279, 47.5419455, 3.0, 2.0, 0.0, '', 0.0, 0.0, '', 0.0), ('b153614', -119.785172, 46.219978, 3.0, 2.0, 0.0, '', 0.0, 0.0, '', 0.0), ('b153615', -119.303543, 46.266739, 3.0, 2.0, 0.0, '', 0.0, 0.0, '', 0.0), ('b153616', -119.284584, 47.1269, 3.0, 2.0, 0.0, '', 0.0, 0.0, '', 0.0), ('b154419', -122.25875091552734, 47.68138122558594, 3.0, 4.0, 0.0, '', 0.0, 0.0, '', 0.0), ('b155264', -122.7708595, 47.0616742, 2.0, 1.0, 0.0, '', 0.0, 0.0, '', 0.0), ('b155325', -122.236183, 47.383298, 3.0, 3.0, 0.0, '', 0.0, 0.0, '', 0.0), ('b155497', -123.4312744140625, 48.11968994140625, 3.0, 2.0, 0.0, '', 0.0, 0.0, '', 0.0), ('b155995', -122.64478, 45.619627, 1.0, 2.0, 0.0, '', 0.0, 0.0, '', 0.0), ('b156215', -119.7902603149414, 46.21937942504883, 3.0, 2.0, 0.0, '', 0.0, 0.0, '', 0.0), ('b156236', -119.28158569335938, 47.12852096557617, 3.0, 2.0, 0.0, '', 0.0, 0.0, '', 0.0), ('b163338', -122.593406, 45.649918, 3.0, 4.0, 0.0, '', 0.0, 0.0, '', 0.0), ('b164163', -122.936182, 47.045446, 3.0, 4.0, 0.0, '', 0.0, 0.0, '', 0.0), ('b165647', -122.256001, 47.893501, 3.0, 3.0, 0.0, '', 0.0, 0.0, '', 0.0), ('b166231', -122.303938, 47.616852, 3.0, 4.0, 0.0, '', 0.0, 0.0, '', 0.0), ('b166926', -122.825987, 47.042001, 3.0, 4.0, 0.0, '', 0.0, 0.0, '', 0.0), ('b167474', -122.381658, 47.561705, 3.0, 4.0, 0.0, '', 0.0, 0.0, '', 0.0), ('b167497', -120.9030990600586, 47.18890380859375, 3.0, 2.0, 0.0, '', 0.0, 0.0, '', 0.0), ('b167523', -118.86116027832031, 46.659027099609375, 3.0, 2.0, 0.0, '', 0.0, 0.0, '', 0.0), ('b167562', -122.104565, 47.671794, 3.0, 3.0, 0.0, '', 0.0, 0.0, '', 0.0), ('b167758', -122.297569, 47.155976, 3.0, 4.0, 0.0, '', 0.0, 0.0, '', 0.0), ('b168082', -122.151151, 47.75422, 3.0, 4.0, 0.0, '', 0.0, 0.0, '', 0.0), ('b168088', -122.512304, 48.789282, 3.0, 4.0, 0.0, '', 0.0, 0.0, '', 0.0)]\n",
      "b\"INSERT INTO evses_now (evse_id, longitude, latitude, connector_code, dcfc_count, dcfc_fixed_charging_price, dcfc_var_charging_price_unit, dcfc_var_charging_price, dcfc_fixed_parking_price, dcfc_var_parking_price_unit, dcfc_var_parking_price) VALUES ARRAY[('b39778',  -122.454132, 48.755607, 1.0, 1.0, 0.0, 'min', 0.0, 0.0, 'min', 0.0),('b39780',  -122.333257, 47.458466, 1.0, 1.0, 0.0, 'min', 0.0, 0.0, 'min', 0.0),('b39788',  -123.342273, 48.102863, 1.0, 1.0, 0.0, 'min', 0.0, 0.0, 'min', 0.0),('b39789',  -122.294997, 47.207367, 1.0, 1.0, 0.0, 'min', 0.0, 0.0, 'min', 0.0),('b39791',  -122.2188, 47.448354, 1.0, 1.0, 0.0, 'min', 0.0, 0.0, 'min', 0.0),('b39796',  -117.312518, 47.657264, 1.0, 1.0, 0.0, 'min', 0.0, 0.0, 'min', 0.0),('b61030',  -122.59837, 45.648181, 1.0, 1.0, 0.0, 'min', 0.0, 0.0, 'min', 0.0),('b63307',  -122.3144085, 47.614911, 1.0, 1.0, 3.0, 'min', 0.0, 0.0, 'min', 1.0),('b63444',  -120.279071, 47.400783, 1.0, 1.0, 0.0, 'min', 0.0, 0.0, 'min', 0.0),('b65551',  -122.3448327, 47.7781913, 1.0, 1.0, 6.0, 'min', 0.0, 0.0, 'min', 0.0),('b65859',  -120.31231, 47.42758, 1.0, 1.0, 7.5, 'min', 0.0, 0.0, 'min', 0.0),('b65861',  -122.974224, 46.725274, 1.0, 1.0, 7.5, 'min', 0.0, 0.0, 'min', 0.0),('b65862',  -122.470706, 48.731457, 1.0, 1.0, 7.5, 'min', 0.0, 0.0, 'min', 0.0),('b65864',  -122.910167, 46.276122, 1.0, 1.0, 7.5, 'min', 0.0, 0.0, 'min', 0.0),('b65865',  -122.335866, 48.457448, 1.0, 1.0, 7.5, 'min', 0.0, 0.0, 'min', 0.0),('b65866',  -122.683594, 45.817526, 1.0, 1.0, 7.5, 'min', 0.0, 0.0, 'min', 0.0),('b65869',  -121.360495, 47.711268, 1.0, 1.0, 7.5, 'min', 0.0, 0.0, 'min', 0.0),('b73412',  -122.908081, 46.99353, 1.0, 1.0, 7.5, 'min', 0.0, 0.0, 'min', 0.0),('b73413',  -120.664684, 47.59501, 1.0, 1.0, 7.5, 'min', 0.0, 0.0, 'min', 0.0),('b73415',  -121.816597, 47.862157, 1.0, 1.0, 7.5, 'min', 0.0, 0.0, 'min', 0.0),('b73431',  -121.019582, 47.208469, 1.0, 1.0, 7.5, 'min', 0.0, 0.0, 'min', 0.0),('b73433',  -121.4113, 47.42094, 1.0, 1.0, 7.5, 'min', 0.0, 0.0, 'min', 0.0),('b74196',  -122.237601, 47.906308, 3.0, 1.0, 5.0, 'min', 0.0, 0.0, 'min', 0.0),('b75094',  -122.24699, 47.902753, 3.0, 6.0, 6.0, 'min', 0.0, 0.0, 'min', 0.0),('b75997',  -122.174855, 47.707294, 1.0, 3.0, 0.0, '', 0.0, 0.0, '', 0.0),('b76253',  -122.182402, 47.677725, 3.0, 1.0, 0.0, 'min', 0.25, 0.0, 'min', 0.0),('b76926',  -122.374558, 47.239188, 2.0, 1.0, 0.0, 'min', 0.0, 0.0, 'min', 0.0),('b78795',  -122.32451, 47.59366, 2.0, 2.0, 5.0, 'min', 0.0, 0.0, 'min', 0.0),('b82083',  -122.3442599, 47.778399, 3.0, 2.0, 6.0, 'min', 0.0, 0.0, 'min', 0.0),('b88018',  -122.296325, 47.436037, 3.0, 4.0, 4.95, 'min', 0.0, 0.0, 'min', 0.2),('b92472',  -122.3228502, 47.6155533, 3.0, 2.0, 4.95, 'min', 0.0, 0.0, 'min', 0.2),('b92487',  -122.3457541, 47.7811507, 3.0, 2.0, 6.0, 'min', 0.0, 0.0, 'min', 0.0),('b93034',  -122.143066, 47.580845, 1.0, 5.0, 0.0, 'min', 0.29, 0.0, 'min', 0.0),('b93088',  -122.11949, 47.67137, 3.0, 2.0, 0.0, 'min', 0.29, 0.0, 'min', 0.0),('b93146',  -122.32952, 47.62066, 3.0, 2.0, 0.0, 'min', 0.29, 0.0, 'min', 0.0),('b93172',  -118.365561, 47.118605, 3.0, 1.0, 0.0, 'min', 0.29, 0.0, 'min', 0.0),('b93339',  -122.47068, 47.21543, 3.0, 3.0, 0.0, 'min', 0.29, 0.0, 'min', 0.0),('b93343',  -122.1897, 48.09264, 3.0, 1.0, 0.0, 'min', 0.29, 0.0, 'min', 0.0),('b93352',  -121.79308, 47.49132, 3.0, 2.0, 0.0, 'min', 0.29, 0.0, 'min', 0.0),('b93364',  -122.32519, 47.7033, 3.0, 1.0, 0.0, 'min', 0.29, 0.0, 'min', 0.0),('b93443',  -122.321919, 47.613457, 3.0, 1.0, 0.0, 'min', 0.29, 0.0, 'min', 0.0),('b93483',  -122.20461, 47.49845, 3.0, 2.0, 0.0, 'min', 0.29, 0.0, 'min', 0.0),('b93531',  -122.76205, 45.92845, 3.0, 1.0, 0.0, 'min', 0.29, 0.0, 'min', 0.0),('b93550',  -122.23611, 47.58489, 3.0, 2.0, 0.0, 'min', 0.29, 0.0, 'min', 0.0),('b95063',  -122.663254, 45.629398, 1.0, 2.0, 0.0, 'kwh', 0.49, 0.0, 'min', 0.0),('b95368',  -122.694367, 47.652505, 1.0, 2.0, 0.0, 'kwh', 0.59, 0.0, 'min', 0.0),('b95621',  -122.212814, 47.293216, 1.0, 2.0, 0.0, 'kwh', 0.59, 0.0, 'min', 0.0),('b96282',  -122.66705, 47.56825, 1.0, 2.0, 0.0, 'kwh', 0.59, 0.0, 'min', 0.0),('b96400',  -122.15043, 47.58495, 1.0, 2.0, 0.0, '', 0.0, 0.0, '', 0.0),('b96405',  -122.663135, 45.720603, 1.0, 2.0, 0.0, 'kwh', 0.59, 0.0, 'min', 0.0),('b96407',  -122.183522, 47.708482, 1.0, 2.0, 0.0, 'kwh', 0.59, 0.0, 'min', 0.0),('b96505',  -122.206909, 47.245269, 1.0, 2.0, 0.0, 'kwh', 0.59, 0.0, 'min', 0.0),('b96628',  -122.348098, 47.24198, 1.0, 2.0, 0.0, 'kwh', 0.59, 0.0, 'min', 0.0),('b96763',  -122.3527083, 47.547708, 3.0, 2.0, 4.95, 'min', 0.0, 0.0, 'min', 0.2),('b98770',  -122.3346258, 47.6992271, 3.0, 2.0, 4.95, 'min', 0.0, 0.0, 'min', 0.2),('b99059',  -122.22020721435547, 47.47077178955078, 3.0, 2.0, 0.0, 'min', 0.058, 0.0, 'min', 0.0),('b99067',  -122.29222869873047, 47.20663833618164, 3.0, 2.0, 0.0, 'min', 0.167, 0.0, 'min', 0.0),('b99070',  -122.48442077636719, 47.190608978271484, 3.0, 2.0, 0.0, 'min', 0.117, 0.0, 'min', 0.0),('b99263',  -117.431889, 47.662197, 3.0, 2.0, 0.0, 'kwh', 0.35, 0.0, 'min', 0.0),('b99280',  -117.10325622558594, 47.6705436706543, 3.0, 2.0, 0.0, 'kwh', 0.35, 0.0, 'min', 0.0),('b99282',  -122.312333, 47.579971, 3.0, 4.0, 0.0, 'kwh', 0.43, 0.0, 'min', 0.0),('b99296',  -119.184406, 46.181372, 3.0, 2.0, 0.0, 'min', 0.35, 0.0, 'min', 0.0),('b99297',  -120.548798, 46.994109, 3.0, 2.0, 0.0, 'min', 0.35, 0.0, 'min', 0.0),('b99358',  -119.188128, 46.179735, 3.0, 1.0, 0.0, 'kwh', 0.59, 0.0, 'min', 0.0),('b99591',  -122.3304563, 47.5974463, 3.0, 8.0, 4.95, 'min', 0.0, 0.0, 'min', 0.2),('b100242',  -122.429536, 47.234898, 3.0, 2.0, 0.0, 'min', 0.29, 0.0, 'min', 0.0),('b103573',  -122.32406, 47.700101, 3.0, 4.0, 4.95, 'min', 0.0, 0.0, 'min', 0.2),('b103581',  -120.478546, 46.677105, 3.0, 2.0, 0.0, 'min', 0.35, 0.0, 'min', 0.0),('b103586',  -119.124176, 46.241729, 3.0, 2.0, 0.0, 'min', 0.35, 0.0, 'min', 0.0),('b104285',  -122.2984152, 47.7132239, 3.0, 2.0, 4.95, 'min', 0.0, 0.0, 'min', 0.2),('b104286',  -122.350639, 47.619964, 3.0, 4.0, 4.95, 'min', 0.0, 0.0, 'min', 0.2),('b105361',  -120.481583, 46.604239, 2.0, 1.0, 0.0, 'min', 0.0, 0.0, 'min', 0.0),('b105362',  -120.336918, 47.467463, 2.0, 1.0, 0.0, 'min', 0.0, 0.0, 'min', 0.0),('b119039',  -122.155852, 47.626541, 2.0, 1.0, 0.0, 'min', 0.0, 0.0, 'min', 0.0),('b121703',  -117.190123, 47.665596, 3.0, 8.0, 1.0, 'min', 0.25, 0.0, 'min', 0.0),('b121704',  -121.793559, 47.491288, 3.0, 4.0, 1.0, 'min', 0.25, 0.0, 'min', 0.0),('b121709',  -122.660913, 45.687387, 3.0, 6.0, 1.0, 'min', 0.25, 0.0, 'min', 0.0),('b122833',  -117.56153106689453, 47.58805847167969, 3.0, 2.0, 0.0, '', 0.0, 0.0, '', 0.0),('b123004',  -122.344757, 48.44174, 3.0, 4.0, 1.0, 'min', 0.25, 0.0, 'min', 0.0),('b123050',  -122.199295, 47.497292, 3.0, 3.0, 1.0, 'min', 0.25, 0.0, 'min', 0.0),('b123446',  -122.267332, 47.831991, 3.0, 3.0, 1.0, 'min', 0.25, 0.0, 'min', 0.0),('b123479',  -122.77201, 47.059659, 3.0, 6.0, 1.0, 'min', 0.25, 0.0, 'min', 0.0),('b124683',  -122.186896, 48.095461, 3.0, 4.0, 1.0, 'min', 0.25, 0.0, 'min', 0.0),('b124684',  -122.901263, 46.139875, 3.0, 4.0, 1.0, 'min', 0.25, 0.0, 'min', 0.0),('b135872',  -122.480252, 47.239472, 3.0, 3.0, 1.0, 'min', 0.25, 0.0, 'min', 0.0),('b136697',  -120.47924, 46.60252, 3.0, 4.0, 1.0, 'min', 0.25, 0.0, 'min', 0.0),('b138537',  -122.461854, 48.74393, 3.0, 2.0, 0.0, 'min', 0.29, 0.0, 'min', 0.0),('b143152',  -117.1493042, 47.6674691, 2.0, 1.0, 0.0, 'min', 0.0, 0.0, 'min', 0.0),('b143212',  -122.310875, 47.828644, 2.0, 1.0, 0.0, 'kwh', 0.16, 0.0, 'min', 0.0167),('b143215',  -122.39677, 47.24293, 2.0, 1.0, 0.0, 'min', 0.0, 0.0, 'min', 0.1),('b143313',  -122.15664, 47.630585, 2.0, 1.0, 1.0, 'min', 0.0, 0.0, 'min', 0.0),('b143782',  -122.945746, 48.599217, 1.0, 1.0, 0.0, '', 0.0, 0.0, '', 0.0),('b143835',  -122.975256, 46.67925, 3.0, 1.0, 0.0, 'min', 0.29, 0.0, 'min', 0.0),('b143969',  -122.644253, 47.092582, 3.0, 2.0, 0.0, 'min', 0.29, 0.0, 'min', 0.0),('b143970',  -122.213314, 47.913486, 3.0, 10.0, 1.0, 'min', 0.25, 0.0, 'min', 0.0),('b144074',  -122.3448322, 47.778256, 3.0, 2.0, 6.0, 'min', 0.0, 0.0, 'min', 0.0),('b144090',  -122.478138, 45.617755, 3.0, 3.0, 1.0, 'min', 0.25, 0.0, 'min', 0.0),('b144984',  -122.299448, 47.450258, 3.0, 2.0, 0.0, 'min', 0.29, 0.0, 'min', 0.0),('b145151',  -122.3502919, 47.6654703, 3.0, 2.0, 4.95, 'min', 0.0, 0.0, 'min', 0.2),('b145684',  -122.100638, 47.998233, 3.0, 3.0, 1.0, 'min', 0.25, 0.0, 'min', 0.0),('b146804',  -122.2196648, 47.4463797, 2.0, 1.0, 0.0, 'kwh', 0.1, 0.0, 'min', 0.0),('b146948',  -122.324887, 47.708457, 3.0, 3.0, 1.0, 'min', 0.25, 0.0, 'min', 0.0),('b147131',  -122.25738, 47.455711, 3.0, 5.0, 0.0, '', 0.0, 0.0, '', 0.0),('b147227',  -122.052032, 47.541874, 3.0, 3.0, 0.0, '', 0.0, 0.0, '', 0.0),('b147648',  -121.973176, 47.865164, 3.0, 3.0, 0.0, '', 0.0, 0.0, '', 0.0),('b149281',  -122.20711, 47.80832, 3.0, 3.0, 0.0, '', 0.0, 0.0, '', 0.0),('b149609',  -122.327878, 47.571235, 3.0, 8.0, 0.0, '', 0.0, 0.0, '', 0.0),('b149893',  -119.265577, 46.195494, 3.0, 4.0, 0.0, '', 0.0, 0.0, '', 0.0),('b152574',  -122.3243279, 47.5419455, 3.0, 2.0, 0.0, '', 0.0, 0.0, '', 0.0),('b153614',  -119.785172, 46.219978, 3.0, 2.0, 0.0, '', 0.0, 0.0, '', 0.0),('b153615',  -119.303543, 46.266739, 3.0, 2.0, 0.0, '', 0.0, 0.0, '', 0.0),('b153616',  -119.284584, 47.1269, 3.0, 2.0, 0.0, '', 0.0, 0.0, '', 0.0),('b154419',  -122.25875091552734, 47.68138122558594, 3.0, 4.0, 0.0, '', 0.0, 0.0, '', 0.0),('b155264',  -122.7708595, 47.0616742, 2.0, 1.0, 0.0, '', 0.0, 0.0, '', 0.0),('b155325',  -122.236183, 47.383298, 3.0, 3.0, 0.0, '', 0.0, 0.0, '', 0.0),('b155497',  -123.4312744140625, 48.11968994140625, 3.0, 2.0, 0.0, '', 0.0, 0.0, '', 0.0),('b155995',  -122.64478, 45.619627, 1.0, 2.0, 0.0, '', 0.0, 0.0, '', 0.0),('b156215',  -119.7902603149414, 46.21937942504883, 3.0, 2.0, 0.0, '', 0.0, 0.0, '', 0.0),('b156236',  -119.28158569335938, 47.12852096557617, 3.0, 2.0, 0.0, '', 0.0, 0.0, '', 0.0),('b163338',  -122.593406, 45.649918, 3.0, 4.0, 0.0, '', 0.0, 0.0, '', 0.0),('b164163',  -122.936182, 47.045446, 3.0, 4.0, 0.0, '', 0.0, 0.0, '', 0.0),('b165647',  -122.256001, 47.893501, 3.0, 3.0, 0.0, '', 0.0, 0.0, '', 0.0),('b166231',  -122.303938, 47.616852, 3.0, 4.0, 0.0, '', 0.0, 0.0, '', 0.0),('b166926',  -122.825987, 47.042001, 3.0, 4.0, 0.0, '', 0.0, 0.0, '', 0.0),('b167474',  -122.381658, 47.561705, 3.0, 4.0, 0.0, '', 0.0, 0.0, '', 0.0),('b167497',  -120.9030990600586, 47.18890380859375, 3.0, 2.0, 0.0, '', 0.0, 0.0, '', 0.0),('b167523',  -118.86116027832031, 46.659027099609375, 3.0, 2.0, 0.0, '', 0.0, 0.0, '', 0.0),('b167562',  -122.104565, 47.671794, 3.0, 3.0, 0.0, '', 0.0, 0.0, '', 0.0),('b167758',  -122.297569, 47.155976, 3.0, 4.0, 0.0, '', 0.0, 0.0, '', 0.0),('b168082',  -122.151151, 47.75422, 3.0, 4.0, 0.0, '', 0.0, 0.0, '', 0.0),('b168088',  -122.512304, 48.789282, 3.0, 4.0, 0.0, '', 0.0, 0.0, '', 0.0)]\"\n",
      "[46, 9, 1, 77, 47, 135, 14, 32, 73, 82]\n",
      "[95063.0, 65551.0, 39780.0, 105361.0, 95368.0, 167497.0, 65865.0, 93034.0, 103586.0, 121709.0]\n",
      "     evse_id   longitude   latitude  connector_code  dcfc_count  \\\n",
      "0     b39778 -122.454132  48.755607             1.0         1.0   \n",
      "1     b39788 -123.342273  48.102863             1.0         1.0   \n",
      "2     b39789 -122.294997  47.207367             1.0         1.0   \n",
      "3     b39791 -122.218800  47.448354             1.0         1.0   \n",
      "4     b39796 -117.312518  47.657264             1.0         1.0   \n",
      "..       ...         ...        ...             ...         ...   \n",
      "126  b167523 -118.861160  46.659027             3.0         2.0   \n",
      "127  b167562 -122.104565  47.671794             3.0         3.0   \n",
      "128  b167758 -122.297569  47.155976             3.0         4.0   \n",
      "129  b168082 -122.151151  47.754220             3.0         4.0   \n",
      "130  b168088 -122.512304  48.789282             3.0         4.0   \n",
      "\n",
      "     dcfc_fixed_charging_price dcfc_var_charging_price_unit  \\\n",
      "0                          0.0                          min   \n",
      "1                          0.0                          min   \n",
      "2                          0.0                          min   \n",
      "3                          0.0                          min   \n",
      "4                          0.0                          min   \n",
      "..                         ...                          ...   \n",
      "126                        0.0                                \n",
      "127                        0.0                                \n",
      "128                        0.0                                \n",
      "129                        0.0                                \n",
      "130                        0.0                                \n",
      "\n",
      "     dcfc_var_charging_price  dcfc_fixed_parking_price  \\\n",
      "0                        0.0                       0.0   \n",
      "1                        0.0                       0.0   \n",
      "2                        0.0                       0.0   \n",
      "3                        0.0                       0.0   \n",
      "4                        0.0                       0.0   \n",
      "..                       ...                       ...   \n",
      "126                      0.0                       0.0   \n",
      "127                      0.0                       0.0   \n",
      "128                      0.0                       0.0   \n",
      "129                      0.0                       0.0   \n",
      "130                      0.0                       0.0   \n",
      "\n",
      "    dcfc_var_parking_price_unit  dcfc_var_parking_price  \n",
      "0                           min                     0.0  \n",
      "1                           min                     0.0  \n",
      "2                           min                     0.0  \n",
      "3                           min                     0.0  \n",
      "4                           min                     0.0  \n",
      "..                          ...                     ...  \n",
      "126                                                 0.0  \n",
      "127                                                 0.0  \n",
      "128                                                 0.0  \n",
      "129                                                 0.0  \n",
      "130                                                 0.0  \n",
      "\n",
      "[131 rows x 11 columns]\n",
      "[('b39778', -122.454132, 48.755607, 1.0, 1.0, 0.0, 'min', 0.0, 0.0, 'min', 0.0), ('b39788', -123.342273, 48.102863, 1.0, 1.0, 0.0, 'min', 0.0, 0.0, 'min', 0.0), ('b39789', -122.294997, 47.207367, 1.0, 1.0, 0.0, 'min', 0.0, 0.0, 'min', 0.0), ('b39791', -122.2188, 47.448354, 1.0, 1.0, 0.0, 'min', 0.0, 0.0, 'min', 0.0), ('b39796', -117.312518, 47.657264, 1.0, 1.0, 0.0, 'min', 0.0, 0.0, 'min', 0.0), ('b61030', -122.59837, 45.648181, 1.0, 1.0, 0.0, 'min', 0.0, 0.0, 'min', 0.0), ('b63307', -122.3144085, 47.614911, 1.0, 1.0, 3.0, 'min', 0.0, 0.0, 'min', 1.0), ('b63444', -120.279071, 47.400783, 1.0, 1.0, 0.0, 'min', 0.0, 0.0, 'min', 0.0), ('b65859', -120.31231, 47.42758, 1.0, 1.0, 7.5, 'min', 0.0, 0.0, 'min', 0.0), ('b65861', -122.974224, 46.725274, 1.0, 1.0, 7.5, 'min', 0.0, 0.0, 'min', 0.0), ('b65862', -122.470706, 48.731457, 1.0, 1.0, 7.5, 'min', 0.0, 0.0, 'min', 0.0), ('b65864', -122.910167, 46.276122, 1.0, 1.0, 7.5, 'min', 0.0, 0.0, 'min', 0.0), ('b65866', -122.683594, 45.817526, 1.0, 1.0, 7.5, 'min', 0.0, 0.0, 'min', 0.0), ('b65869', -121.360495, 47.711268, 1.0, 1.0, 7.5, 'min', 0.0, 0.0, 'min', 0.0), ('b73412', -122.908081, 46.99353, 1.0, 1.0, 7.5, 'min', 0.0, 0.0, 'min', 0.0), ('b73413', -120.664684, 47.59501, 1.0, 1.0, 7.5, 'min', 0.0, 0.0, 'min', 0.0), ('b73415', -121.816597, 47.862157, 1.0, 1.0, 7.5, 'min', 0.0, 0.0, 'min', 0.0), ('b73431', -121.019582, 47.208469, 1.0, 1.0, 7.5, 'min', 0.0, 0.0, 'min', 0.0), ('b73433', -121.4113, 47.42094, 1.0, 1.0, 7.5, 'min', 0.0, 0.0, 'min', 0.0), ('b74196', -122.237601, 47.906308, 3.0, 1.0, 5.0, 'min', 0.0, 0.0, 'min', 0.0), ('b75094', -122.24699, 47.902753, 3.0, 6.0, 6.0, 'min', 0.0, 0.0, 'min', 0.0), ('b75997', -122.174855, 47.707294, 1.0, 3.0, 0.0, '', 0.0, 0.0, '', 0.0), ('b76253', -122.182402, 47.677725, 3.0, 1.0, 0.0, 'min', 0.25, 0.0, 'min', 0.0), ('b76926', -122.374558, 47.239188, 2.0, 1.0, 0.0, 'min', 0.0, 0.0, 'min', 0.0), ('b78795', -122.32451, 47.59366, 2.0, 2.0, 5.0, 'min', 0.0, 0.0, 'min', 0.0), ('b82083', -122.3442599, 47.778399, 3.0, 2.0, 6.0, 'min', 0.0, 0.0, 'min', 0.0), ('b88018', -122.296325, 47.436037, 3.0, 4.0, 4.95, 'min', 0.0, 0.0, 'min', 0.2), ('b92472', -122.3228502, 47.6155533, 3.0, 2.0, 4.95, 'min', 0.0, 0.0, 'min', 0.2), ('b92487', -122.3457541, 47.7811507, 3.0, 2.0, 6.0, 'min', 0.0, 0.0, 'min', 0.0), ('b93038', -122.14364, 47.58083, 1.0, 3.0, 0.0, 'min', 0.29, 0.0, 'min', 0.0), ('b93088', -122.11949, 47.67137, 3.0, 2.0, 0.0, 'min', 0.29, 0.0, 'min', 0.0), ('b93146', -122.32952, 47.62066, 3.0, 2.0, 0.0, 'min', 0.29, 0.0, 'min', 0.0), ('b93172', -118.365561, 47.118605, 3.0, 1.0, 0.0, 'min', 0.29, 0.0, 'min', 0.0), ('b93339', -122.47068, 47.21543, 3.0, 3.0, 0.0, 'min', 0.29, 0.0, 'min', 0.0), ('b93343', -122.1897, 48.09264, 3.0, 1.0, 0.0, 'min', 0.29, 0.0, 'min', 0.0), ('b93352', -121.79308, 47.49132, 3.0, 2.0, 0.0, 'min', 0.29, 0.0, 'min', 0.0), ('b93364', -122.32519, 47.7033, 3.0, 1.0, 0.0, 'min', 0.29, 0.0, 'min', 0.0), ('b93443', -122.321919, 47.613457, 3.0, 1.0, 0.0, 'min', 0.29, 0.0, 'min', 0.0), ('b93483', -122.20461, 47.49845, 3.0, 2.0, 0.0, 'min', 0.29, 0.0, 'min', 0.0), ('b93531', -122.76205, 45.92845, 3.0, 1.0, 0.0, 'min', 0.29, 0.0, 'min', 0.0), ('b93550', -122.23611, 47.58489, 3.0, 2.0, 0.0, 'min', 0.29, 0.0, 'min', 0.0), ('b93552', -122.273567, 47.820568, 3.0, 1.0, 0.0, 'min', 0.29, 0.0, 'min', 0.0), ('b95621', -122.212814, 47.293216, 1.0, 2.0, 0.0, 'kwh', 0.59, 0.0, 'min', 0.0), ('b96282', -122.66705, 47.56825, 1.0, 2.0, 0.0, 'kwh', 0.59, 0.0, 'min', 0.0), ('b96400', -122.15043, 47.58495, 1.0, 2.0, 0.0, '', 0.0, 0.0, '', 0.0), ('b96405', -122.663135, 45.720603, 1.0, 2.0, 0.0, 'kwh', 0.59, 0.0, 'min', 0.0), ('b96407', -122.183522, 47.708482, 1.0, 2.0, 0.0, 'kwh', 0.59, 0.0, 'min', 0.0), ('b96412', -122.292383, 47.723689, 1.0, 2.0, 0.0, 'kwh', 0.59, 0.0, 'min', 0.0), ('b96505', -122.206909, 47.245269, 1.0, 2.0, 0.0, 'kwh', 0.59, 0.0, 'min', 0.0), ('b96628', -122.348098, 47.24198, 1.0, 2.0, 0.0, 'kwh', 0.59, 0.0, 'min', 0.0), ('b96763', -122.3527083, 47.547708, 3.0, 2.0, 4.95, 'min', 0.0, 0.0, 'min', 0.2), ('b98770', -122.3346258, 47.6992271, 3.0, 2.0, 4.95, 'min', 0.0, 0.0, 'min', 0.2), ('b99059', -122.22020721435547, 47.47077178955078, 3.0, 2.0, 0.0, 'min', 0.058, 0.0, 'min', 0.0), ('b99067', -122.29222869873047, 47.20663833618164, 3.0, 2.0, 0.0, 'min', 0.167, 0.0, 'min', 0.0), ('b99070', -122.48442077636719, 47.190608978271484, 3.0, 2.0, 0.0, 'min', 0.117, 0.0, 'min', 0.0), ('b99183', -117.37006378173828, 47.23467254638672, 3.0, 2.0, 0.0, 'kwh', 0.35, 0.0, 'min', 0.0), ('b99263', -117.431889, 47.662197, 3.0, 2.0, 0.0, 'kwh', 0.35, 0.0, 'min', 0.0), ('b99277', -117.174757, 46.729729, 3.0, 2.0, 0.0, 'kwh', 0.35, 0.0, 'min', 0.0), ('b99280', -117.10325622558594, 47.6705436706543, 3.0, 2.0, 0.0, 'kwh', 0.35, 0.0, 'min', 0.0), ('b99282', -122.312333, 47.579971, 3.0, 4.0, 0.0, 'kwh', 0.43, 0.0, 'min', 0.0), ('b99296', -119.184406, 46.181372, 3.0, 2.0, 0.0, 'min', 0.35, 0.0, 'min', 0.0), ('b99297', -120.548798, 46.994109, 3.0, 2.0, 0.0, 'min', 0.35, 0.0, 'min', 0.0), ('b99358', -119.188128, 46.179735, 3.0, 1.0, 0.0, 'kwh', 0.59, 0.0, 'min', 0.0), ('b99591', -122.3304563, 47.5974463, 3.0, 8.0, 4.95, 'min', 0.0, 0.0, 'min', 0.2), ('b100242', -122.429536, 47.234898, 3.0, 2.0, 0.0, 'min', 0.29, 0.0, 'min', 0.0), ('b103573', -122.32406, 47.700101, 3.0, 4.0, 4.95, 'min', 0.0, 0.0, 'min', 0.2), ('b103581', -120.478546, 46.677105, 3.0, 2.0, 0.0, 'min', 0.35, 0.0, 'min', 0.0), ('b103612', -117.401944, 47.768802, 3.0, 2.0, 0.0, 'kwh', 0.35, 0.0, 'min', 0.0), ('b104285', -122.2984152, 47.7132239, 3.0, 2.0, 4.95, 'min', 0.0, 0.0, 'min', 0.2), ('b104286', -122.350639, 47.619964, 3.0, 4.0, 4.95, 'min', 0.0, 0.0, 'min', 0.2), ('b105362', -120.336918, 47.467463, 2.0, 1.0, 0.0, 'min', 0.0, 0.0, 'min', 0.0), ('b119039', -122.155852, 47.626541, 2.0, 1.0, 0.0, 'min', 0.0, 0.0, 'min', 0.0), ('b121703', -117.190123, 47.665596, 3.0, 8.0, 1.0, 'min', 0.25, 0.0, 'min', 0.0), ('b121704', -121.793559, 47.491288, 3.0, 4.0, 1.0, 'min', 0.25, 0.0, 'min', 0.0), ('b122833', -117.56153106689453, 47.58805847167969, 3.0, 2.0, 0.0, '', 0.0, 0.0, '', 0.0), ('b123004', -122.344757, 48.44174, 3.0, 4.0, 1.0, 'min', 0.25, 0.0, 'min', 0.0), ('b123050', -122.199295, 47.497292, 3.0, 3.0, 1.0, 'min', 0.25, 0.0, 'min', 0.0), ('b123446', -122.267332, 47.831991, 3.0, 3.0, 1.0, 'min', 0.25, 0.0, 'min', 0.0), ('b123479', -122.77201, 47.059659, 3.0, 6.0, 1.0, 'min', 0.25, 0.0, 'min', 0.0), ('b124057', -122.110209, 47.360982, 3.0, 3.0, 1.0, 'min', 0.25, 0.0, 'min', 0.0), ('b124683', -122.186896, 48.095461, 3.0, 4.0, 1.0, 'min', 0.25, 0.0, 'min', 0.0), ('b124684', -122.901263, 46.139875, 3.0, 4.0, 1.0, 'min', 0.25, 0.0, 'min', 0.0), ('b135872', -122.480252, 47.239472, 3.0, 3.0, 1.0, 'min', 0.25, 0.0, 'min', 0.0), ('b136697', -120.47924, 46.60252, 3.0, 4.0, 1.0, 'min', 0.25, 0.0, 'min', 0.0), ('b138537', -122.461854, 48.74393, 3.0, 2.0, 0.0, 'min', 0.29, 0.0, 'min', 0.0), ('b143152', -117.1493042, 47.6674691, 2.0, 1.0, 0.0, 'min', 0.0, 0.0, 'min', 0.0), ('b143212', -122.310875, 47.828644, 2.0, 1.0, 0.0, 'kwh', 0.16, 0.0, 'min', 0.0167), ('b143215', -122.39677, 47.24293, 2.0, 1.0, 0.0, 'min', 0.0, 0.0, 'min', 0.1), ('b143313', -122.15664, 47.630585, 2.0, 1.0, 1.0, 'min', 0.0, 0.0, 'min', 0.0), ('b143782', -122.945746, 48.599217, 1.0, 1.0, 0.0, '', 0.0, 0.0, '', 0.0), ('b143835', -122.975256, 46.67925, 3.0, 1.0, 0.0, 'min', 0.29, 0.0, 'min', 0.0), ('b143939', -117.4004898071289, 47.66310501098633, 3.0, 2.0, 0.0, 'kwh', 0.35, 0.0, 'min', 0.0), ('b143969', -122.644253, 47.092582, 3.0, 2.0, 0.0, 'min', 0.29, 0.0, 'min', 0.0), ('b143970', -122.213314, 47.913486, 3.0, 10.0, 1.0, 'min', 0.25, 0.0, 'min', 0.0), ('b143971', -118.362709, 47.119482, 3.0, 4.0, 1.0, 'min', 0.25, 0.0, 'min', 0.0), ('b144074', -122.3448322, 47.778256, 3.0, 2.0, 6.0, 'min', 0.0, 0.0, 'min', 0.0), ('b144090', -122.478138, 45.617755, 3.0, 3.0, 1.0, 'min', 0.25, 0.0, 'min', 0.0), ('b144984', -122.299448, 47.450258, 3.0, 2.0, 0.0, 'min', 0.29, 0.0, 'min', 0.0), ('b145151', -122.3502919, 47.6654703, 3.0, 2.0, 4.95, 'min', 0.0, 0.0, 'min', 0.2), ('b145684', -122.100638, 47.998233, 3.0, 3.0, 1.0, 'min', 0.25, 0.0, 'min', 0.0), ('b146804', -122.2196648, 47.4463797, 2.0, 1.0, 0.0, 'kwh', 0.1, 0.0, 'min', 0.0), ('b146948', -122.324887, 47.708457, 3.0, 3.0, 1.0, 'min', 0.25, 0.0, 'min', 0.0), ('b147131', -122.25738, 47.455711, 3.0, 5.0, 0.0, '', 0.0, 0.0, '', 0.0), ('b147227', -122.052032, 47.541874, 3.0, 3.0, 0.0, '', 0.0, 0.0, '', 0.0), ('b147648', -121.973176, 47.865164, 3.0, 3.0, 0.0, '', 0.0, 0.0, '', 0.0), ('b149281', -122.20711, 47.80832, 3.0, 3.0, 0.0, '', 0.0, 0.0, '', 0.0), ('b149609', -122.327878, 47.571235, 3.0, 8.0, 0.0, '', 0.0, 0.0, '', 0.0), ('b149893', -119.265577, 46.195494, 3.0, 4.0, 0.0, '', 0.0, 0.0, '', 0.0), ('b152574', -122.3243279, 47.5419455, 3.0, 2.0, 0.0, '', 0.0, 0.0, '', 0.0), ('b153614', -119.785172, 46.219978, 3.0, 2.0, 0.0, '', 0.0, 0.0, '', 0.0), ('b153615', -119.303543, 46.266739, 3.0, 2.0, 0.0, '', 0.0, 0.0, '', 0.0), ('b153616', -119.284584, 47.1269, 3.0, 2.0, 0.0, '', 0.0, 0.0, '', 0.0), ('b154308', -122.271361, 47.820256, 3.0, 2.0, 0.0, '', 0.0, 0.0, '', 0.0), ('b154419', -122.25875091552734, 47.68138122558594, 3.0, 4.0, 0.0, '', 0.0, 0.0, '', 0.0), ('b155264', -122.7708595, 47.0616742, 2.0, 1.0, 0.0, '', 0.0, 0.0, '', 0.0), ('b155325', -122.236183, 47.383298, 3.0, 3.0, 0.0, '', 0.0, 0.0, '', 0.0), ('b155497', -123.4312744140625, 48.11968994140625, 3.0, 2.0, 0.0, '', 0.0, 0.0, '', 0.0), ('b155995', -122.64478, 45.619627, 1.0, 2.0, 0.0, '', 0.0, 0.0, '', 0.0), ('b156215', -119.7902603149414, 46.21937942504883, 3.0, 2.0, 0.0, '', 0.0, 0.0, '', 0.0), ('b156236', -119.28158569335938, 47.12852096557617, 3.0, 2.0, 0.0, '', 0.0, 0.0, '', 0.0), ('b163338', -122.593406, 45.649918, 3.0, 4.0, 0.0, '', 0.0, 0.0, '', 0.0), ('b164163', -122.936182, 47.045446, 3.0, 4.0, 0.0, '', 0.0, 0.0, '', 0.0), ('b165647', -122.256001, 47.893501, 3.0, 3.0, 0.0, '', 0.0, 0.0, '', 0.0), ('b166231', -122.303938, 47.616852, 3.0, 4.0, 0.0, '', 0.0, 0.0, '', 0.0), ('b166926', -122.825987, 47.042001, 3.0, 4.0, 0.0, '', 0.0, 0.0, '', 0.0), ('b167474', -122.381658, 47.561705, 3.0, 4.0, 0.0, '', 0.0, 0.0, '', 0.0), ('b167523', -118.86116027832031, 46.659027099609375, 3.0, 2.0, 0.0, '', 0.0, 0.0, '', 0.0), ('b167562', -122.104565, 47.671794, 3.0, 3.0, 0.0, '', 0.0, 0.0, '', 0.0), ('b167758', -122.297569, 47.155976, 3.0, 4.0, 0.0, '', 0.0, 0.0, '', 0.0), ('b168082', -122.151151, 47.75422, 3.0, 4.0, 0.0, '', 0.0, 0.0, '', 0.0), ('b168088', -122.512304, 48.789282, 3.0, 4.0, 0.0, '', 0.0, 0.0, '', 0.0)]\n",
      "b\"INSERT INTO evses_now (evse_id, longitude, latitude, connector_code, dcfc_count, dcfc_fixed_charging_price, dcfc_var_charging_price_unit, dcfc_var_charging_price, dcfc_fixed_parking_price, dcfc_var_parking_price_unit, dcfc_var_parking_price) VALUES ARRAY[('b39778',  -122.454132, 48.755607, 1.0, 1.0, 0.0, 'min', 0.0, 0.0, 'min', 0.0),('b39788',  -123.342273, 48.102863, 1.0, 1.0, 0.0, 'min', 0.0, 0.0, 'min', 0.0),('b39789',  -122.294997, 47.207367, 1.0, 1.0, 0.0, 'min', 0.0, 0.0, 'min', 0.0),('b39791',  -122.2188, 47.448354, 1.0, 1.0, 0.0, 'min', 0.0, 0.0, 'min', 0.0),('b39796',  -117.312518, 47.657264, 1.0, 1.0, 0.0, 'min', 0.0, 0.0, 'min', 0.0),('b61030',  -122.59837, 45.648181, 1.0, 1.0, 0.0, 'min', 0.0, 0.0, 'min', 0.0),('b63307',  -122.3144085, 47.614911, 1.0, 1.0, 3.0, 'min', 0.0, 0.0, 'min', 1.0),('b63444',  -120.279071, 47.400783, 1.0, 1.0, 0.0, 'min', 0.0, 0.0, 'min', 0.0),('b65859',  -120.31231, 47.42758, 1.0, 1.0, 7.5, 'min', 0.0, 0.0, 'min', 0.0),('b65861',  -122.974224, 46.725274, 1.0, 1.0, 7.5, 'min', 0.0, 0.0, 'min', 0.0),('b65862',  -122.470706, 48.731457, 1.0, 1.0, 7.5, 'min', 0.0, 0.0, 'min', 0.0),('b65864',  -122.910167, 46.276122, 1.0, 1.0, 7.5, 'min', 0.0, 0.0, 'min', 0.0),('b65866',  -122.683594, 45.817526, 1.0, 1.0, 7.5, 'min', 0.0, 0.0, 'min', 0.0),('b65869',  -121.360495, 47.711268, 1.0, 1.0, 7.5, 'min', 0.0, 0.0, 'min', 0.0),('b73412',  -122.908081, 46.99353, 1.0, 1.0, 7.5, 'min', 0.0, 0.0, 'min', 0.0),('b73413',  -120.664684, 47.59501, 1.0, 1.0, 7.5, 'min', 0.0, 0.0, 'min', 0.0),('b73415',  -121.816597, 47.862157, 1.0, 1.0, 7.5, 'min', 0.0, 0.0, 'min', 0.0),('b73431',  -121.019582, 47.208469, 1.0, 1.0, 7.5, 'min', 0.0, 0.0, 'min', 0.0),('b73433',  -121.4113, 47.42094, 1.0, 1.0, 7.5, 'min', 0.0, 0.0, 'min', 0.0),('b74196',  -122.237601, 47.906308, 3.0, 1.0, 5.0, 'min', 0.0, 0.0, 'min', 0.0),('b75094',  -122.24699, 47.902753, 3.0, 6.0, 6.0, 'min', 0.0, 0.0, 'min', 0.0),('b75997',  -122.174855, 47.707294, 1.0, 3.0, 0.0, '', 0.0, 0.0, '', 0.0),('b76253',  -122.182402, 47.677725, 3.0, 1.0, 0.0, 'min', 0.25, 0.0, 'min', 0.0),('b76926',  -122.374558, 47.239188, 2.0, 1.0, 0.0, 'min', 0.0, 0.0, 'min', 0.0),('b78795',  -122.32451, 47.59366, 2.0, 2.0, 5.0, 'min', 0.0, 0.0, 'min', 0.0),('b82083',  -122.3442599, 47.778399, 3.0, 2.0, 6.0, 'min', 0.0, 0.0, 'min', 0.0),('b88018',  -122.296325, 47.436037, 3.0, 4.0, 4.95, 'min', 0.0, 0.0, 'min', 0.2),('b92472',  -122.3228502, 47.6155533, 3.0, 2.0, 4.95, 'min', 0.0, 0.0, 'min', 0.2),('b92487',  -122.3457541, 47.7811507, 3.0, 2.0, 6.0, 'min', 0.0, 0.0, 'min', 0.0),('b93038',  -122.14364, 47.58083, 1.0, 3.0, 0.0, 'min', 0.29, 0.0, 'min', 0.0),('b93088',  -122.11949, 47.67137, 3.0, 2.0, 0.0, 'min', 0.29, 0.0, 'min', 0.0),('b93146',  -122.32952, 47.62066, 3.0, 2.0, 0.0, 'min', 0.29, 0.0, 'min', 0.0),('b93172',  -118.365561, 47.118605, 3.0, 1.0, 0.0, 'min', 0.29, 0.0, 'min', 0.0),('b93339',  -122.47068, 47.21543, 3.0, 3.0, 0.0, 'min', 0.29, 0.0, 'min', 0.0),('b93343',  -122.1897, 48.09264, 3.0, 1.0, 0.0, 'min', 0.29, 0.0, 'min', 0.0),('b93352',  -121.79308, 47.49132, 3.0, 2.0, 0.0, 'min', 0.29, 0.0, 'min', 0.0),('b93364',  -122.32519, 47.7033, 3.0, 1.0, 0.0, 'min', 0.29, 0.0, 'min', 0.0),('b93443',  -122.321919, 47.613457, 3.0, 1.0, 0.0, 'min', 0.29, 0.0, 'min', 0.0),('b93483',  -122.20461, 47.49845, 3.0, 2.0, 0.0, 'min', 0.29, 0.0, 'min', 0.0),('b93531',  -122.76205, 45.92845, 3.0, 1.0, 0.0, 'min', 0.29, 0.0, 'min', 0.0),('b93550',  -122.23611, 47.58489, 3.0, 2.0, 0.0, 'min', 0.29, 0.0, 'min', 0.0),('b93552',  -122.273567, 47.820568, 3.0, 1.0, 0.0, 'min', 0.29, 0.0, 'min', 0.0),('b95621',  -122.212814, 47.293216, 1.0, 2.0, 0.0, 'kwh', 0.59, 0.0, 'min', 0.0),('b96282',  -122.66705, 47.56825, 1.0, 2.0, 0.0, 'kwh', 0.59, 0.0, 'min', 0.0),('b96400',  -122.15043, 47.58495, 1.0, 2.0, 0.0, '', 0.0, 0.0, '', 0.0),('b96405',  -122.663135, 45.720603, 1.0, 2.0, 0.0, 'kwh', 0.59, 0.0, 'min', 0.0),('b96407',  -122.183522, 47.708482, 1.0, 2.0, 0.0, 'kwh', 0.59, 0.0, 'min', 0.0),('b96412',  -122.292383, 47.723689, 1.0, 2.0, 0.0, 'kwh', 0.59, 0.0, 'min', 0.0),('b96505',  -122.206909, 47.245269, 1.0, 2.0, 0.0, 'kwh', 0.59, 0.0, 'min', 0.0),('b96628',  -122.348098, 47.24198, 1.0, 2.0, 0.0, 'kwh', 0.59, 0.0, 'min', 0.0),('b96763',  -122.3527083, 47.547708, 3.0, 2.0, 4.95, 'min', 0.0, 0.0, 'min', 0.2),('b98770',  -122.3346258, 47.6992271, 3.0, 2.0, 4.95, 'min', 0.0, 0.0, 'min', 0.2),('b99059',  -122.22020721435547, 47.47077178955078, 3.0, 2.0, 0.0, 'min', 0.058, 0.0, 'min', 0.0),('b99067',  -122.29222869873047, 47.20663833618164, 3.0, 2.0, 0.0, 'min', 0.167, 0.0, 'min', 0.0),('b99070',  -122.48442077636719, 47.190608978271484, 3.0, 2.0, 0.0, 'min', 0.117, 0.0, 'min', 0.0),('b99183',  -117.37006378173828, 47.23467254638672, 3.0, 2.0, 0.0, 'kwh', 0.35, 0.0, 'min', 0.0),('b99263',  -117.431889, 47.662197, 3.0, 2.0, 0.0, 'kwh', 0.35, 0.0, 'min', 0.0),('b99277',  -117.174757, 46.729729, 3.0, 2.0, 0.0, 'kwh', 0.35, 0.0, 'min', 0.0),('b99280',  -117.10325622558594, 47.6705436706543, 3.0, 2.0, 0.0, 'kwh', 0.35, 0.0, 'min', 0.0),('b99282',  -122.312333, 47.579971, 3.0, 4.0, 0.0, 'kwh', 0.43, 0.0, 'min', 0.0),('b99296',  -119.184406, 46.181372, 3.0, 2.0, 0.0, 'min', 0.35, 0.0, 'min', 0.0),('b99297',  -120.548798, 46.994109, 3.0, 2.0, 0.0, 'min', 0.35, 0.0, 'min', 0.0),('b99358',  -119.188128, 46.179735, 3.0, 1.0, 0.0, 'kwh', 0.59, 0.0, 'min', 0.0),('b99591',  -122.3304563, 47.5974463, 3.0, 8.0, 4.95, 'min', 0.0, 0.0, 'min', 0.2),('b100242',  -122.429536, 47.234898, 3.0, 2.0, 0.0, 'min', 0.29, 0.0, 'min', 0.0),('b103573',  -122.32406, 47.700101, 3.0, 4.0, 4.95, 'min', 0.0, 0.0, 'min', 0.2),('b103581',  -120.478546, 46.677105, 3.0, 2.0, 0.0, 'min', 0.35, 0.0, 'min', 0.0),('b103612',  -117.401944, 47.768802, 3.0, 2.0, 0.0, 'kwh', 0.35, 0.0, 'min', 0.0),('b104285',  -122.2984152, 47.7132239, 3.0, 2.0, 4.95, 'min', 0.0, 0.0, 'min', 0.2),('b104286',  -122.350639, 47.619964, 3.0, 4.0, 4.95, 'min', 0.0, 0.0, 'min', 0.2),('b105362',  -120.336918, 47.467463, 2.0, 1.0, 0.0, 'min', 0.0, 0.0, 'min', 0.0),('b119039',  -122.155852, 47.626541, 2.0, 1.0, 0.0, 'min', 0.0, 0.0, 'min', 0.0),('b121703',  -117.190123, 47.665596, 3.0, 8.0, 1.0, 'min', 0.25, 0.0, 'min', 0.0),('b121704',  -121.793559, 47.491288, 3.0, 4.0, 1.0, 'min', 0.25, 0.0, 'min', 0.0),('b122833',  -117.56153106689453, 47.58805847167969, 3.0, 2.0, 0.0, '', 0.0, 0.0, '', 0.0),('b123004',  -122.344757, 48.44174, 3.0, 4.0, 1.0, 'min', 0.25, 0.0, 'min', 0.0),('b123050',  -122.199295, 47.497292, 3.0, 3.0, 1.0, 'min', 0.25, 0.0, 'min', 0.0),('b123446',  -122.267332, 47.831991, 3.0, 3.0, 1.0, 'min', 0.25, 0.0, 'min', 0.0),('b123479',  -122.77201, 47.059659, 3.0, 6.0, 1.0, 'min', 0.25, 0.0, 'min', 0.0),('b124057',  -122.110209, 47.360982, 3.0, 3.0, 1.0, 'min', 0.25, 0.0, 'min', 0.0),('b124683',  -122.186896, 48.095461, 3.0, 4.0, 1.0, 'min', 0.25, 0.0, 'min', 0.0),('b124684',  -122.901263, 46.139875, 3.0, 4.0, 1.0, 'min', 0.25, 0.0, 'min', 0.0),('b135872',  -122.480252, 47.239472, 3.0, 3.0, 1.0, 'min', 0.25, 0.0, 'min', 0.0),('b136697',  -120.47924, 46.60252, 3.0, 4.0, 1.0, 'min', 0.25, 0.0, 'min', 0.0),('b138537',  -122.461854, 48.74393, 3.0, 2.0, 0.0, 'min', 0.29, 0.0, 'min', 0.0),('b143152',  -117.1493042, 47.6674691, 2.0, 1.0, 0.0, 'min', 0.0, 0.0, 'min', 0.0),('b143212',  -122.310875, 47.828644, 2.0, 1.0, 0.0, 'kwh', 0.16, 0.0, 'min', 0.0167),('b143215',  -122.39677, 47.24293, 2.0, 1.0, 0.0, 'min', 0.0, 0.0, 'min', 0.1),('b143313',  -122.15664, 47.630585, 2.0, 1.0, 1.0, 'min', 0.0, 0.0, 'min', 0.0),('b143782',  -122.945746, 48.599217, 1.0, 1.0, 0.0, '', 0.0, 0.0, '', 0.0),('b143835',  -122.975256, 46.67925, 3.0, 1.0, 0.0, 'min', 0.29, 0.0, 'min', 0.0),('b143939',  -117.4004898071289, 47.66310501098633, 3.0, 2.0, 0.0, 'kwh', 0.35, 0.0, 'min', 0.0),('b143969',  -122.644253, 47.092582, 3.0, 2.0, 0.0, 'min', 0.29, 0.0, 'min', 0.0),('b143970',  -122.213314, 47.913486, 3.0, 10.0, 1.0, 'min', 0.25, 0.0, 'min', 0.0),('b143971',  -118.362709, 47.119482, 3.0, 4.0, 1.0, 'min', 0.25, 0.0, 'min', 0.0),('b144074',  -122.3448322, 47.778256, 3.0, 2.0, 6.0, 'min', 0.0, 0.0, 'min', 0.0),('b144090',  -122.478138, 45.617755, 3.0, 3.0, 1.0, 'min', 0.25, 0.0, 'min', 0.0),('b144984',  -122.299448, 47.450258, 3.0, 2.0, 0.0, 'min', 0.29, 0.0, 'min', 0.0),('b145151',  -122.3502919, 47.6654703, 3.0, 2.0, 4.95, 'min', 0.0, 0.0, 'min', 0.2),('b145684',  -122.100638, 47.998233, 3.0, 3.0, 1.0, 'min', 0.25, 0.0, 'min', 0.0),('b146804',  -122.2196648, 47.4463797, 2.0, 1.0, 0.0, 'kwh', 0.1, 0.0, 'min', 0.0),('b146948',  -122.324887, 47.708457, 3.0, 3.0, 1.0, 'min', 0.25, 0.0, 'min', 0.0),('b147131',  -122.25738, 47.455711, 3.0, 5.0, 0.0, '', 0.0, 0.0, '', 0.0),('b147227',  -122.052032, 47.541874, 3.0, 3.0, 0.0, '', 0.0, 0.0, '', 0.0),('b147648',  -121.973176, 47.865164, 3.0, 3.0, 0.0, '', 0.0, 0.0, '', 0.0),('b149281',  -122.20711, 47.80832, 3.0, 3.0, 0.0, '', 0.0, 0.0, '', 0.0),('b149609',  -122.327878, 47.571235, 3.0, 8.0, 0.0, '', 0.0, 0.0, '', 0.0),('b149893',  -119.265577, 46.195494, 3.0, 4.0, 0.0, '', 0.0, 0.0, '', 0.0),('b152574',  -122.3243279, 47.5419455, 3.0, 2.0, 0.0, '', 0.0, 0.0, '', 0.0),('b153614',  -119.785172, 46.219978, 3.0, 2.0, 0.0, '', 0.0, 0.0, '', 0.0),('b153615',  -119.303543, 46.266739, 3.0, 2.0, 0.0, '', 0.0, 0.0, '', 0.0),('b153616',  -119.284584, 47.1269, 3.0, 2.0, 0.0, '', 0.0, 0.0, '', 0.0),('b154308',  -122.271361, 47.820256, 3.0, 2.0, 0.0, '', 0.0, 0.0, '', 0.0),('b154419',  -122.25875091552734, 47.68138122558594, 3.0, 4.0, 0.0, '', 0.0, 0.0, '', 0.0),('b155264',  -122.7708595, 47.0616742, 2.0, 1.0, 0.0, '', 0.0, 0.0, '', 0.0),('b155325',  -122.236183, 47.383298, 3.0, 3.0, 0.0, '', 0.0, 0.0, '', 0.0),('b155497',  -123.4312744140625, 48.11968994140625, 3.0, 2.0, 0.0, '', 0.0, 0.0, '', 0.0),('b155995',  -122.64478, 45.619627, 1.0, 2.0, 0.0, '', 0.0, 0.0, '', 0.0),('b156215',  -119.7902603149414, 46.21937942504883, 3.0, 2.0, 0.0, '', 0.0, 0.0, '', 0.0),('b156236',  -119.28158569335938, 47.12852096557617, 3.0, 2.0, 0.0, '', 0.0, 0.0, '', 0.0),('b163338',  -122.593406, 45.649918, 3.0, 4.0, 0.0, '', 0.0, 0.0, '', 0.0),('b164163',  -122.936182, 47.045446, 3.0, 4.0, 0.0, '', 0.0, 0.0, '', 0.0),('b165647',  -122.256001, 47.893501, 3.0, 3.0, 0.0, '', 0.0, 0.0, '', 0.0),('b166231',  -122.303938, 47.616852, 3.0, 4.0, 0.0, '', 0.0, 0.0, '', 0.0),('b166926',  -122.825987, 47.042001, 3.0, 4.0, 0.0, '', 0.0, 0.0, '', 0.0),('b167474',  -122.381658, 47.561705, 3.0, 4.0, 0.0, '', 0.0, 0.0, '', 0.0),('b167523',  -118.86116027832031, 46.659027099609375, 3.0, 2.0, 0.0, '', 0.0, 0.0, '', 0.0),('b167562',  -122.104565, 47.671794, 3.0, 3.0, 0.0, '', 0.0, 0.0, '', 0.0),('b167758',  -122.297569, 47.155976, 3.0, 4.0, 0.0, '', 0.0, 0.0, '', 0.0),('b168082',  -122.151151, 47.75422, 3.0, 4.0, 0.0, '', 0.0, 0.0, '', 0.0),('b168088',  -122.512304, 48.789282, 3.0, 4.0, 0.0, '', 0.0, 0.0, '', 0.0)]\"\n",
      "[64, 78, 65, 56, 16, 121, 87, 51, 119, 92]\n",
      "[99280.0, 105362.0, 99282.0, 96763.0, 65869.0, 154308.0, 123479.0, 96405.0, 153615.0, 136697.0]\n",
      "     evse_id   longitude   latitude  connector_code  dcfc_count  \\\n",
      "0     b39778 -122.454132  48.755607             1.0         1.0   \n",
      "1     b39780 -122.333257  47.458466             1.0         1.0   \n",
      "2     b39788 -123.342273  48.102863             1.0         1.0   \n",
      "3     b39789 -122.294997  47.207367             1.0         1.0   \n",
      "4     b39791 -122.218800  47.448354             1.0         1.0   \n",
      "..       ...         ...        ...             ...         ...   \n",
      "126  b167523 -118.861160  46.659027             3.0         2.0   \n",
      "127  b167562 -122.104565  47.671794             3.0         3.0   \n",
      "128  b167758 -122.297569  47.155976             3.0         4.0   \n",
      "129  b168082 -122.151151  47.754220             3.0         4.0   \n",
      "130  b168088 -122.512304  48.789282             3.0         4.0   \n",
      "\n",
      "     dcfc_fixed_charging_price dcfc_var_charging_price_unit  \\\n",
      "0                          0.0                          min   \n",
      "1                          0.0                          min   \n",
      "2                          0.0                          min   \n",
      "3                          0.0                          min   \n",
      "4                          0.0                          min   \n",
      "..                         ...                          ...   \n",
      "126                        0.0                                \n",
      "127                        0.0                                \n",
      "128                        0.0                                \n",
      "129                        0.0                                \n",
      "130                        0.0                                \n",
      "\n",
      "     dcfc_var_charging_price  dcfc_fixed_parking_price  \\\n",
      "0                        0.0                       0.0   \n",
      "1                        0.0                       0.0   \n",
      "2                        0.0                       0.0   \n",
      "3                        0.0                       0.0   \n",
      "4                        0.0                       0.0   \n",
      "..                       ...                       ...   \n",
      "126                      0.0                       0.0   \n",
      "127                      0.0                       0.0   \n",
      "128                      0.0                       0.0   \n",
      "129                      0.0                       0.0   \n",
      "130                      0.0                       0.0   \n",
      "\n",
      "    dcfc_var_parking_price_unit  dcfc_var_parking_price  \n",
      "0                           min                     0.0  \n",
      "1                           min                     0.0  \n",
      "2                           min                     0.0  \n",
      "3                           min                     0.0  \n",
      "4                           min                     0.0  \n",
      "..                          ...                     ...  \n",
      "126                                                 0.0  \n",
      "127                                                 0.0  \n",
      "128                                                 0.0  \n",
      "129                                                 0.0  \n",
      "130                                                 0.0  \n",
      "\n",
      "[131 rows x 11 columns]\n",
      "[('b39778', -122.454132, 48.755607, 1.0, 1.0, 0.0, 'min', 0.0, 0.0, 'min', 0.0), ('b39780', -122.333257, 47.458466, 1.0, 1.0, 0.0, 'min', 0.0, 0.0, 'min', 0.0), ('b39788', -123.342273, 48.102863, 1.0, 1.0, 0.0, 'min', 0.0, 0.0, 'min', 0.0), ('b39789', -122.294997, 47.207367, 1.0, 1.0, 0.0, 'min', 0.0, 0.0, 'min', 0.0), ('b39791', -122.2188, 47.448354, 1.0, 1.0, 0.0, 'min', 0.0, 0.0, 'min', 0.0), ('b39796', -117.312518, 47.657264, 1.0, 1.0, 0.0, 'min', 0.0, 0.0, 'min', 0.0), ('b61030', -122.59837, 45.648181, 1.0, 1.0, 0.0, 'min', 0.0, 0.0, 'min', 0.0), ('b63307', -122.3144085, 47.614911, 1.0, 1.0, 3.0, 'min', 0.0, 0.0, 'min', 1.0), ('b63444', -120.279071, 47.400783, 1.0, 1.0, 0.0, 'min', 0.0, 0.0, 'min', 0.0), ('b65551', -122.3448327, 47.7781913, 1.0, 1.0, 6.0, 'min', 0.0, 0.0, 'min', 0.0), ('b65859', -120.31231, 47.42758, 1.0, 1.0, 7.5, 'min', 0.0, 0.0, 'min', 0.0), ('b65861', -122.974224, 46.725274, 1.0, 1.0, 7.5, 'min', 0.0, 0.0, 'min', 0.0), ('b65862', -122.470706, 48.731457, 1.0, 1.0, 7.5, 'min', 0.0, 0.0, 'min', 0.0), ('b65864', -122.910167, 46.276122, 1.0, 1.0, 7.5, 'min', 0.0, 0.0, 'min', 0.0), ('b65865', -122.335866, 48.457448, 1.0, 1.0, 7.5, 'min', 0.0, 0.0, 'min', 0.0), ('b65866', -122.683594, 45.817526, 1.0, 1.0, 7.5, 'min', 0.0, 0.0, 'min', 0.0), ('b73412', -122.908081, 46.99353, 1.0, 1.0, 7.5, 'min', 0.0, 0.0, 'min', 0.0), ('b73413', -120.664684, 47.59501, 1.0, 1.0, 7.5, 'min', 0.0, 0.0, 'min', 0.0), ('b73415', -121.816597, 47.862157, 1.0, 1.0, 7.5, 'min', 0.0, 0.0, 'min', 0.0), ('b73431', -121.019582, 47.208469, 1.0, 1.0, 7.5, 'min', 0.0, 0.0, 'min', 0.0), ('b73433', -121.4113, 47.42094, 1.0, 1.0, 7.5, 'min', 0.0, 0.0, 'min', 0.0), ('b74196', -122.237601, 47.906308, 3.0, 1.0, 5.0, 'min', 0.0, 0.0, 'min', 0.0), ('b75094', -122.24699, 47.902753, 3.0, 6.0, 6.0, 'min', 0.0, 0.0, 'min', 0.0), ('b75997', -122.174855, 47.707294, 1.0, 3.0, 0.0, '', 0.0, 0.0, '', 0.0), ('b76253', -122.182402, 47.677725, 3.0, 1.0, 0.0, 'min', 0.25, 0.0, 'min', 0.0), ('b76926', -122.374558, 47.239188, 2.0, 1.0, 0.0, 'min', 0.0, 0.0, 'min', 0.0), ('b78795', -122.32451, 47.59366, 2.0, 2.0, 5.0, 'min', 0.0, 0.0, 'min', 0.0), ('b82083', -122.3442599, 47.778399, 3.0, 2.0, 6.0, 'min', 0.0, 0.0, 'min', 0.0), ('b88018', -122.296325, 47.436037, 3.0, 4.0, 4.95, 'min', 0.0, 0.0, 'min', 0.2), ('b92472', -122.3228502, 47.6155533, 3.0, 2.0, 4.95, 'min', 0.0, 0.0, 'min', 0.2), ('b92487', -122.3457541, 47.7811507, 3.0, 2.0, 6.0, 'min', 0.0, 0.0, 'min', 0.0), ('b93034', -122.143066, 47.580845, 1.0, 5.0, 0.0, 'min', 0.29, 0.0, 'min', 0.0), ('b93038', -122.14364, 47.58083, 1.0, 3.0, 0.0, 'min', 0.29, 0.0, 'min', 0.0), ('b93088', -122.11949, 47.67137, 3.0, 2.0, 0.0, 'min', 0.29, 0.0, 'min', 0.0), ('b93146', -122.32952, 47.62066, 3.0, 2.0, 0.0, 'min', 0.29, 0.0, 'min', 0.0), ('b93172', -118.365561, 47.118605, 3.0, 1.0, 0.0, 'min', 0.29, 0.0, 'min', 0.0), ('b93339', -122.47068, 47.21543, 3.0, 3.0, 0.0, 'min', 0.29, 0.0, 'min', 0.0), ('b93343', -122.1897, 48.09264, 3.0, 1.0, 0.0, 'min', 0.29, 0.0, 'min', 0.0), ('b93352', -121.79308, 47.49132, 3.0, 2.0, 0.0, 'min', 0.29, 0.0, 'min', 0.0), ('b93364', -122.32519, 47.7033, 3.0, 1.0, 0.0, 'min', 0.29, 0.0, 'min', 0.0), ('b93443', -122.321919, 47.613457, 3.0, 1.0, 0.0, 'min', 0.29, 0.0, 'min', 0.0), ('b93483', -122.20461, 47.49845, 3.0, 2.0, 0.0, 'min', 0.29, 0.0, 'min', 0.0), ('b93531', -122.76205, 45.92845, 3.0, 1.0, 0.0, 'min', 0.29, 0.0, 'min', 0.0), ('b93550', -122.23611, 47.58489, 3.0, 2.0, 0.0, 'min', 0.29, 0.0, 'min', 0.0), ('b93552', -122.273567, 47.820568, 3.0, 1.0, 0.0, 'min', 0.29, 0.0, 'min', 0.0), ('b95063', -122.663254, 45.629398, 1.0, 2.0, 0.0, 'kwh', 0.49, 0.0, 'min', 0.0), ('b95368', -122.694367, 47.652505, 1.0, 2.0, 0.0, 'kwh', 0.59, 0.0, 'min', 0.0), ('b95621', -122.212814, 47.293216, 1.0, 2.0, 0.0, 'kwh', 0.59, 0.0, 'min', 0.0), ('b96282', -122.66705, 47.56825, 1.0, 2.0, 0.0, 'kwh', 0.59, 0.0, 'min', 0.0), ('b96400', -122.15043, 47.58495, 1.0, 2.0, 0.0, '', 0.0, 0.0, '', 0.0), ('b96407', -122.183522, 47.708482, 1.0, 2.0, 0.0, 'kwh', 0.59, 0.0, 'min', 0.0), ('b96412', -122.292383, 47.723689, 1.0, 2.0, 0.0, 'kwh', 0.59, 0.0, 'min', 0.0), ('b96505', -122.206909, 47.245269, 1.0, 2.0, 0.0, 'kwh', 0.59, 0.0, 'min', 0.0), ('b96628', -122.348098, 47.24198, 1.0, 2.0, 0.0, 'kwh', 0.59, 0.0, 'min', 0.0), ('b98770', -122.3346258, 47.6992271, 3.0, 2.0, 4.95, 'min', 0.0, 0.0, 'min', 0.2), ('b99059', -122.22020721435547, 47.47077178955078, 3.0, 2.0, 0.0, 'min', 0.058, 0.0, 'min', 0.0), ('b99067', -122.29222869873047, 47.20663833618164, 3.0, 2.0, 0.0, 'min', 0.167, 0.0, 'min', 0.0), ('b99070', -122.48442077636719, 47.190608978271484, 3.0, 2.0, 0.0, 'min', 0.117, 0.0, 'min', 0.0), ('b99183', -117.37006378173828, 47.23467254638672, 3.0, 2.0, 0.0, 'kwh', 0.35, 0.0, 'min', 0.0), ('b99263', -117.431889, 47.662197, 3.0, 2.0, 0.0, 'kwh', 0.35, 0.0, 'min', 0.0), ('b99277', -117.174757, 46.729729, 3.0, 2.0, 0.0, 'kwh', 0.35, 0.0, 'min', 0.0), ('b99296', -119.184406, 46.181372, 3.0, 2.0, 0.0, 'min', 0.35, 0.0, 'min', 0.0), ('b99297', -120.548798, 46.994109, 3.0, 2.0, 0.0, 'min', 0.35, 0.0, 'min', 0.0), ('b99358', -119.188128, 46.179735, 3.0, 1.0, 0.0, 'kwh', 0.59, 0.0, 'min', 0.0), ('b99591', -122.3304563, 47.5974463, 3.0, 8.0, 4.95, 'min', 0.0, 0.0, 'min', 0.2), ('b100242', -122.429536, 47.234898, 3.0, 2.0, 0.0, 'min', 0.29, 0.0, 'min', 0.0), ('b103573', -122.32406, 47.700101, 3.0, 4.0, 4.95, 'min', 0.0, 0.0, 'min', 0.2), ('b103581', -120.478546, 46.677105, 3.0, 2.0, 0.0, 'min', 0.35, 0.0, 'min', 0.0), ('b103586', -119.124176, 46.241729, 3.0, 2.0, 0.0, 'min', 0.35, 0.0, 'min', 0.0), ('b103612', -117.401944, 47.768802, 3.0, 2.0, 0.0, 'kwh', 0.35, 0.0, 'min', 0.0), ('b104285', -122.2984152, 47.7132239, 3.0, 2.0, 4.95, 'min', 0.0, 0.0, 'min', 0.2), ('b104286', -122.350639, 47.619964, 3.0, 4.0, 4.95, 'min', 0.0, 0.0, 'min', 0.2), ('b105361', -120.481583, 46.604239, 2.0, 1.0, 0.0, 'min', 0.0, 0.0, 'min', 0.0), ('b119039', -122.155852, 47.626541, 2.0, 1.0, 0.0, 'min', 0.0, 0.0, 'min', 0.0), ('b121703', -117.190123, 47.665596, 3.0, 8.0, 1.0, 'min', 0.25, 0.0, 'min', 0.0), ('b121704', -121.793559, 47.491288, 3.0, 4.0, 1.0, 'min', 0.25, 0.0, 'min', 0.0), ('b121709', -122.660913, 45.687387, 3.0, 6.0, 1.0, 'min', 0.25, 0.0, 'min', 0.0), ('b122833', -117.56153106689453, 47.58805847167969, 3.0, 2.0, 0.0, '', 0.0, 0.0, '', 0.0), ('b123004', -122.344757, 48.44174, 3.0, 4.0, 1.0, 'min', 0.25, 0.0, 'min', 0.0), ('b123050', -122.199295, 47.497292, 3.0, 3.0, 1.0, 'min', 0.25, 0.0, 'min', 0.0), ('b123446', -122.267332, 47.831991, 3.0, 3.0, 1.0, 'min', 0.25, 0.0, 'min', 0.0), ('b124057', -122.110209, 47.360982, 3.0, 3.0, 1.0, 'min', 0.25, 0.0, 'min', 0.0), ('b124683', -122.186896, 48.095461, 3.0, 4.0, 1.0, 'min', 0.25, 0.0, 'min', 0.0), ('b124684', -122.901263, 46.139875, 3.0, 4.0, 1.0, 'min', 0.25, 0.0, 'min', 0.0), ('b135872', -122.480252, 47.239472, 3.0, 3.0, 1.0, 'min', 0.25, 0.0, 'min', 0.0), ('b138537', -122.461854, 48.74393, 3.0, 2.0, 0.0, 'min', 0.29, 0.0, 'min', 0.0), ('b143152', -117.1493042, 47.6674691, 2.0, 1.0, 0.0, 'min', 0.0, 0.0, 'min', 0.0), ('b143212', -122.310875, 47.828644, 2.0, 1.0, 0.0, 'kwh', 0.16, 0.0, 'min', 0.0167), ('b143215', -122.39677, 47.24293, 2.0, 1.0, 0.0, 'min', 0.0, 0.0, 'min', 0.1), ('b143313', -122.15664, 47.630585, 2.0, 1.0, 1.0, 'min', 0.0, 0.0, 'min', 0.0), ('b143782', -122.945746, 48.599217, 1.0, 1.0, 0.0, '', 0.0, 0.0, '', 0.0), ('b143835', -122.975256, 46.67925, 3.0, 1.0, 0.0, 'min', 0.29, 0.0, 'min', 0.0), ('b143939', -117.4004898071289, 47.66310501098633, 3.0, 2.0, 0.0, 'kwh', 0.35, 0.0, 'min', 0.0), ('b143969', -122.644253, 47.092582, 3.0, 2.0, 0.0, 'min', 0.29, 0.0, 'min', 0.0), ('b143970', -122.213314, 47.913486, 3.0, 10.0, 1.0, 'min', 0.25, 0.0, 'min', 0.0), ('b143971', -118.362709, 47.119482, 3.0, 4.0, 1.0, 'min', 0.25, 0.0, 'min', 0.0), ('b144074', -122.3448322, 47.778256, 3.0, 2.0, 6.0, 'min', 0.0, 0.0, 'min', 0.0), ('b144090', -122.478138, 45.617755, 3.0, 3.0, 1.0, 'min', 0.25, 0.0, 'min', 0.0), ('b144984', -122.299448, 47.450258, 3.0, 2.0, 0.0, 'min', 0.29, 0.0, 'min', 0.0), ('b145151', -122.3502919, 47.6654703, 3.0, 2.0, 4.95, 'min', 0.0, 0.0, 'min', 0.2), ('b145684', -122.100638, 47.998233, 3.0, 3.0, 1.0, 'min', 0.25, 0.0, 'min', 0.0), ('b146804', -122.2196648, 47.4463797, 2.0, 1.0, 0.0, 'kwh', 0.1, 0.0, 'min', 0.0), ('b146948', -122.324887, 47.708457, 3.0, 3.0, 1.0, 'min', 0.25, 0.0, 'min', 0.0), ('b147131', -122.25738, 47.455711, 3.0, 5.0, 0.0, '', 0.0, 0.0, '', 0.0), ('b147227', -122.052032, 47.541874, 3.0, 3.0, 0.0, '', 0.0, 0.0, '', 0.0), ('b147648', -121.973176, 47.865164, 3.0, 3.0, 0.0, '', 0.0, 0.0, '', 0.0), ('b149281', -122.20711, 47.80832, 3.0, 3.0, 0.0, '', 0.0, 0.0, '', 0.0), ('b149609', -122.327878, 47.571235, 3.0, 8.0, 0.0, '', 0.0, 0.0, '', 0.0), ('b149893', -119.265577, 46.195494, 3.0, 4.0, 0.0, '', 0.0, 0.0, '', 0.0), ('b152574', -122.3243279, 47.5419455, 3.0, 2.0, 0.0, '', 0.0, 0.0, '', 0.0), ('b153614', -119.785172, 46.219978, 3.0, 2.0, 0.0, '', 0.0, 0.0, '', 0.0), ('b153616', -119.284584, 47.1269, 3.0, 2.0, 0.0, '', 0.0, 0.0, '', 0.0), ('b154419', -122.25875091552734, 47.68138122558594, 3.0, 4.0, 0.0, '', 0.0, 0.0, '', 0.0), ('b155264', -122.7708595, 47.0616742, 2.0, 1.0, 0.0, '', 0.0, 0.0, '', 0.0), ('b155325', -122.236183, 47.383298, 3.0, 3.0, 0.0, '', 0.0, 0.0, '', 0.0), ('b155497', -123.4312744140625, 48.11968994140625, 3.0, 2.0, 0.0, '', 0.0, 0.0, '', 0.0), ('b155995', -122.64478, 45.619627, 1.0, 2.0, 0.0, '', 0.0, 0.0, '', 0.0), ('b156215', -119.7902603149414, 46.21937942504883, 3.0, 2.0, 0.0, '', 0.0, 0.0, '', 0.0), ('b156236', -119.28158569335938, 47.12852096557617, 3.0, 2.0, 0.0, '', 0.0, 0.0, '', 0.0), ('b163338', -122.593406, 45.649918, 3.0, 4.0, 0.0, '', 0.0, 0.0, '', 0.0), ('b164163', -122.936182, 47.045446, 3.0, 4.0, 0.0, '', 0.0, 0.0, '', 0.0), ('b165647', -122.256001, 47.893501, 3.0, 3.0, 0.0, '', 0.0, 0.0, '', 0.0), ('b166231', -122.303938, 47.616852, 3.0, 4.0, 0.0, '', 0.0, 0.0, '', 0.0), ('b166926', -122.825987, 47.042001, 3.0, 4.0, 0.0, '', 0.0, 0.0, '', 0.0), ('b167474', -122.381658, 47.561705, 3.0, 4.0, 0.0, '', 0.0, 0.0, '', 0.0), ('b167497', -120.9030990600586, 47.18890380859375, 3.0, 2.0, 0.0, '', 0.0, 0.0, '', 0.0), ('b167523', -118.86116027832031, 46.659027099609375, 3.0, 2.0, 0.0, '', 0.0, 0.0, '', 0.0), ('b167562', -122.104565, 47.671794, 3.0, 3.0, 0.0, '', 0.0, 0.0, '', 0.0), ('b167758', -122.297569, 47.155976, 3.0, 4.0, 0.0, '', 0.0, 0.0, '', 0.0), ('b168082', -122.151151, 47.75422, 3.0, 4.0, 0.0, '', 0.0, 0.0, '', 0.0), ('b168088', -122.512304, 48.789282, 3.0, 4.0, 0.0, '', 0.0, 0.0, '', 0.0)]\n",
      "b\"INSERT INTO evses_now (evse_id, longitude, latitude, connector_code, dcfc_count, dcfc_fixed_charging_price, dcfc_var_charging_price_unit, dcfc_var_charging_price, dcfc_fixed_parking_price, dcfc_var_parking_price_unit, dcfc_var_parking_price) VALUES ARRAY[('b39778',  -122.454132, 48.755607, 1.0, 1.0, 0.0, 'min', 0.0, 0.0, 'min', 0.0),('b39780',  -122.333257, 47.458466, 1.0, 1.0, 0.0, 'min', 0.0, 0.0, 'min', 0.0),('b39788',  -123.342273, 48.102863, 1.0, 1.0, 0.0, 'min', 0.0, 0.0, 'min', 0.0),('b39789',  -122.294997, 47.207367, 1.0, 1.0, 0.0, 'min', 0.0, 0.0, 'min', 0.0),('b39791',  -122.2188, 47.448354, 1.0, 1.0, 0.0, 'min', 0.0, 0.0, 'min', 0.0),('b39796',  -117.312518, 47.657264, 1.0, 1.0, 0.0, 'min', 0.0, 0.0, 'min', 0.0),('b61030',  -122.59837, 45.648181, 1.0, 1.0, 0.0, 'min', 0.0, 0.0, 'min', 0.0),('b63307',  -122.3144085, 47.614911, 1.0, 1.0, 3.0, 'min', 0.0, 0.0, 'min', 1.0),('b63444',  -120.279071, 47.400783, 1.0, 1.0, 0.0, 'min', 0.0, 0.0, 'min', 0.0),('b65551',  -122.3448327, 47.7781913, 1.0, 1.0, 6.0, 'min', 0.0, 0.0, 'min', 0.0),('b65859',  -120.31231, 47.42758, 1.0, 1.0, 7.5, 'min', 0.0, 0.0, 'min', 0.0),('b65861',  -122.974224, 46.725274, 1.0, 1.0, 7.5, 'min', 0.0, 0.0, 'min', 0.0),('b65862',  -122.470706, 48.731457, 1.0, 1.0, 7.5, 'min', 0.0, 0.0, 'min', 0.0),('b65864',  -122.910167, 46.276122, 1.0, 1.0, 7.5, 'min', 0.0, 0.0, 'min', 0.0),('b65865',  -122.335866, 48.457448, 1.0, 1.0, 7.5, 'min', 0.0, 0.0, 'min', 0.0),('b65866',  -122.683594, 45.817526, 1.0, 1.0, 7.5, 'min', 0.0, 0.0, 'min', 0.0),('b73412',  -122.908081, 46.99353, 1.0, 1.0, 7.5, 'min', 0.0, 0.0, 'min', 0.0),('b73413',  -120.664684, 47.59501, 1.0, 1.0, 7.5, 'min', 0.0, 0.0, 'min', 0.0),('b73415',  -121.816597, 47.862157, 1.0, 1.0, 7.5, 'min', 0.0, 0.0, 'min', 0.0),('b73431',  -121.019582, 47.208469, 1.0, 1.0, 7.5, 'min', 0.0, 0.0, 'min', 0.0),('b73433',  -121.4113, 47.42094, 1.0, 1.0, 7.5, 'min', 0.0, 0.0, 'min', 0.0),('b74196',  -122.237601, 47.906308, 3.0, 1.0, 5.0, 'min', 0.0, 0.0, 'min', 0.0),('b75094',  -122.24699, 47.902753, 3.0, 6.0, 6.0, 'min', 0.0, 0.0, 'min', 0.0),('b75997',  -122.174855, 47.707294, 1.0, 3.0, 0.0, '', 0.0, 0.0, '', 0.0),('b76253',  -122.182402, 47.677725, 3.0, 1.0, 0.0, 'min', 0.25, 0.0, 'min', 0.0),('b76926',  -122.374558, 47.239188, 2.0, 1.0, 0.0, 'min', 0.0, 0.0, 'min', 0.0),('b78795',  -122.32451, 47.59366, 2.0, 2.0, 5.0, 'min', 0.0, 0.0, 'min', 0.0),('b82083',  -122.3442599, 47.778399, 3.0, 2.0, 6.0, 'min', 0.0, 0.0, 'min', 0.0),('b88018',  -122.296325, 47.436037, 3.0, 4.0, 4.95, 'min', 0.0, 0.0, 'min', 0.2),('b92472',  -122.3228502, 47.6155533, 3.0, 2.0, 4.95, 'min', 0.0, 0.0, 'min', 0.2),('b92487',  -122.3457541, 47.7811507, 3.0, 2.0, 6.0, 'min', 0.0, 0.0, 'min', 0.0),('b93034',  -122.143066, 47.580845, 1.0, 5.0, 0.0, 'min', 0.29, 0.0, 'min', 0.0),('b93038',  -122.14364, 47.58083, 1.0, 3.0, 0.0, 'min', 0.29, 0.0, 'min', 0.0),('b93088',  -122.11949, 47.67137, 3.0, 2.0, 0.0, 'min', 0.29, 0.0, 'min', 0.0),('b93146',  -122.32952, 47.62066, 3.0, 2.0, 0.0, 'min', 0.29, 0.0, 'min', 0.0),('b93172',  -118.365561, 47.118605, 3.0, 1.0, 0.0, 'min', 0.29, 0.0, 'min', 0.0),('b93339',  -122.47068, 47.21543, 3.0, 3.0, 0.0, 'min', 0.29, 0.0, 'min', 0.0),('b93343',  -122.1897, 48.09264, 3.0, 1.0, 0.0, 'min', 0.29, 0.0, 'min', 0.0),('b93352',  -121.79308, 47.49132, 3.0, 2.0, 0.0, 'min', 0.29, 0.0, 'min', 0.0),('b93364',  -122.32519, 47.7033, 3.0, 1.0, 0.0, 'min', 0.29, 0.0, 'min', 0.0),('b93443',  -122.321919, 47.613457, 3.0, 1.0, 0.0, 'min', 0.29, 0.0, 'min', 0.0),('b93483',  -122.20461, 47.49845, 3.0, 2.0, 0.0, 'min', 0.29, 0.0, 'min', 0.0),('b93531',  -122.76205, 45.92845, 3.0, 1.0, 0.0, 'min', 0.29, 0.0, 'min', 0.0),('b93550',  -122.23611, 47.58489, 3.0, 2.0, 0.0, 'min', 0.29, 0.0, 'min', 0.0),('b93552',  -122.273567, 47.820568, 3.0, 1.0, 0.0, 'min', 0.29, 0.0, 'min', 0.0),('b95063',  -122.663254, 45.629398, 1.0, 2.0, 0.0, 'kwh', 0.49, 0.0, 'min', 0.0),('b95368',  -122.694367, 47.652505, 1.0, 2.0, 0.0, 'kwh', 0.59, 0.0, 'min', 0.0),('b95621',  -122.212814, 47.293216, 1.0, 2.0, 0.0, 'kwh', 0.59, 0.0, 'min', 0.0),('b96282',  -122.66705, 47.56825, 1.0, 2.0, 0.0, 'kwh', 0.59, 0.0, 'min', 0.0),('b96400',  -122.15043, 47.58495, 1.0, 2.0, 0.0, '', 0.0, 0.0, '', 0.0),('b96407',  -122.183522, 47.708482, 1.0, 2.0, 0.0, 'kwh', 0.59, 0.0, 'min', 0.0),('b96412',  -122.292383, 47.723689, 1.0, 2.0, 0.0, 'kwh', 0.59, 0.0, 'min', 0.0),('b96505',  -122.206909, 47.245269, 1.0, 2.0, 0.0, 'kwh', 0.59, 0.0, 'min', 0.0),('b96628',  -122.348098, 47.24198, 1.0, 2.0, 0.0, 'kwh', 0.59, 0.0, 'min', 0.0),('b98770',  -122.3346258, 47.6992271, 3.0, 2.0, 4.95, 'min', 0.0, 0.0, 'min', 0.2),('b99059',  -122.22020721435547, 47.47077178955078, 3.0, 2.0, 0.0, 'min', 0.058, 0.0, 'min', 0.0),('b99067',  -122.29222869873047, 47.20663833618164, 3.0, 2.0, 0.0, 'min', 0.167, 0.0, 'min', 0.0),('b99070',  -122.48442077636719, 47.190608978271484, 3.0, 2.0, 0.0, 'min', 0.117, 0.0, 'min', 0.0),('b99183',  -117.37006378173828, 47.23467254638672, 3.0, 2.0, 0.0, 'kwh', 0.35, 0.0, 'min', 0.0),('b99263',  -117.431889, 47.662197, 3.0, 2.0, 0.0, 'kwh', 0.35, 0.0, 'min', 0.0),('b99277',  -117.174757, 46.729729, 3.0, 2.0, 0.0, 'kwh', 0.35, 0.0, 'min', 0.0),('b99296',  -119.184406, 46.181372, 3.0, 2.0, 0.0, 'min', 0.35, 0.0, 'min', 0.0),('b99297',  -120.548798, 46.994109, 3.0, 2.0, 0.0, 'min', 0.35, 0.0, 'min', 0.0),('b99358',  -119.188128, 46.179735, 3.0, 1.0, 0.0, 'kwh', 0.59, 0.0, 'min', 0.0),('b99591',  -122.3304563, 47.5974463, 3.0, 8.0, 4.95, 'min', 0.0, 0.0, 'min', 0.2),('b100242',  -122.429536, 47.234898, 3.0, 2.0, 0.0, 'min', 0.29, 0.0, 'min', 0.0),('b103573',  -122.32406, 47.700101, 3.0, 4.0, 4.95, 'min', 0.0, 0.0, 'min', 0.2),('b103581',  -120.478546, 46.677105, 3.0, 2.0, 0.0, 'min', 0.35, 0.0, 'min', 0.0),('b103586',  -119.124176, 46.241729, 3.0, 2.0, 0.0, 'min', 0.35, 0.0, 'min', 0.0),('b103612',  -117.401944, 47.768802, 3.0, 2.0, 0.0, 'kwh', 0.35, 0.0, 'min', 0.0),('b104285',  -122.2984152, 47.7132239, 3.0, 2.0, 4.95, 'min', 0.0, 0.0, 'min', 0.2),('b104286',  -122.350639, 47.619964, 3.0, 4.0, 4.95, 'min', 0.0, 0.0, 'min', 0.2),('b105361',  -120.481583, 46.604239, 2.0, 1.0, 0.0, 'min', 0.0, 0.0, 'min', 0.0),('b119039',  -122.155852, 47.626541, 2.0, 1.0, 0.0, 'min', 0.0, 0.0, 'min', 0.0),('b121703',  -117.190123, 47.665596, 3.0, 8.0, 1.0, 'min', 0.25, 0.0, 'min', 0.0),('b121704',  -121.793559, 47.491288, 3.0, 4.0, 1.0, 'min', 0.25, 0.0, 'min', 0.0),('b121709',  -122.660913, 45.687387, 3.0, 6.0, 1.0, 'min', 0.25, 0.0, 'min', 0.0),('b122833',  -117.56153106689453, 47.58805847167969, 3.0, 2.0, 0.0, '', 0.0, 0.0, '', 0.0),('b123004',  -122.344757, 48.44174, 3.0, 4.0, 1.0, 'min', 0.25, 0.0, 'min', 0.0),('b123050',  -122.199295, 47.497292, 3.0, 3.0, 1.0, 'min', 0.25, 0.0, 'min', 0.0),('b123446',  -122.267332, 47.831991, 3.0, 3.0, 1.0, 'min', 0.25, 0.0, 'min', 0.0),('b124057',  -122.110209, 47.360982, 3.0, 3.0, 1.0, 'min', 0.25, 0.0, 'min', 0.0),('b124683',  -122.186896, 48.095461, 3.0, 4.0, 1.0, 'min', 0.25, 0.0, 'min', 0.0),('b124684',  -122.901263, 46.139875, 3.0, 4.0, 1.0, 'min', 0.25, 0.0, 'min', 0.0),('b135872',  -122.480252, 47.239472, 3.0, 3.0, 1.0, 'min', 0.25, 0.0, 'min', 0.0),('b138537',  -122.461854, 48.74393, 3.0, 2.0, 0.0, 'min', 0.29, 0.0, 'min', 0.0),('b143152',  -117.1493042, 47.6674691, 2.0, 1.0, 0.0, 'min', 0.0, 0.0, 'min', 0.0),('b143212',  -122.310875, 47.828644, 2.0, 1.0, 0.0, 'kwh', 0.16, 0.0, 'min', 0.0167),('b143215',  -122.39677, 47.24293, 2.0, 1.0, 0.0, 'min', 0.0, 0.0, 'min', 0.1),('b143313',  -122.15664, 47.630585, 2.0, 1.0, 1.0, 'min', 0.0, 0.0, 'min', 0.0),('b143782',  -122.945746, 48.599217, 1.0, 1.0, 0.0, '', 0.0, 0.0, '', 0.0),('b143835',  -122.975256, 46.67925, 3.0, 1.0, 0.0, 'min', 0.29, 0.0, 'min', 0.0),('b143939',  -117.4004898071289, 47.66310501098633, 3.0, 2.0, 0.0, 'kwh', 0.35, 0.0, 'min', 0.0),('b143969',  -122.644253, 47.092582, 3.0, 2.0, 0.0, 'min', 0.29, 0.0, 'min', 0.0),('b143970',  -122.213314, 47.913486, 3.0, 10.0, 1.0, 'min', 0.25, 0.0, 'min', 0.0),('b143971',  -118.362709, 47.119482, 3.0, 4.0, 1.0, 'min', 0.25, 0.0, 'min', 0.0),('b144074',  -122.3448322, 47.778256, 3.0, 2.0, 6.0, 'min', 0.0, 0.0, 'min', 0.0),('b144090',  -122.478138, 45.617755, 3.0, 3.0, 1.0, 'min', 0.25, 0.0, 'min', 0.0),('b144984',  -122.299448, 47.450258, 3.0, 2.0, 0.0, 'min', 0.29, 0.0, 'min', 0.0),('b145151',  -122.3502919, 47.6654703, 3.0, 2.0, 4.95, 'min', 0.0, 0.0, 'min', 0.2),('b145684',  -122.100638, 47.998233, 3.0, 3.0, 1.0, 'min', 0.25, 0.0, 'min', 0.0),('b146804',  -122.2196648, 47.4463797, 2.0, 1.0, 0.0, 'kwh', 0.1, 0.0, 'min', 0.0),('b146948',  -122.324887, 47.708457, 3.0, 3.0, 1.0, 'min', 0.25, 0.0, 'min', 0.0),('b147131',  -122.25738, 47.455711, 3.0, 5.0, 0.0, '', 0.0, 0.0, '', 0.0),('b147227',  -122.052032, 47.541874, 3.0, 3.0, 0.0, '', 0.0, 0.0, '', 0.0),('b147648',  -121.973176, 47.865164, 3.0, 3.0, 0.0, '', 0.0, 0.0, '', 0.0),('b149281',  -122.20711, 47.80832, 3.0, 3.0, 0.0, '', 0.0, 0.0, '', 0.0),('b149609',  -122.327878, 47.571235, 3.0, 8.0, 0.0, '', 0.0, 0.0, '', 0.0),('b149893',  -119.265577, 46.195494, 3.0, 4.0, 0.0, '', 0.0, 0.0, '', 0.0),('b152574',  -122.3243279, 47.5419455, 3.0, 2.0, 0.0, '', 0.0, 0.0, '', 0.0),('b153614',  -119.785172, 46.219978, 3.0, 2.0, 0.0, '', 0.0, 0.0, '', 0.0),('b153616',  -119.284584, 47.1269, 3.0, 2.0, 0.0, '', 0.0, 0.0, '', 0.0),('b154419',  -122.25875091552734, 47.68138122558594, 3.0, 4.0, 0.0, '', 0.0, 0.0, '', 0.0),('b155264',  -122.7708595, 47.0616742, 2.0, 1.0, 0.0, '', 0.0, 0.0, '', 0.0),('b155325',  -122.236183, 47.383298, 3.0, 3.0, 0.0, '', 0.0, 0.0, '', 0.0),('b155497',  -123.4312744140625, 48.11968994140625, 3.0, 2.0, 0.0, '', 0.0, 0.0, '', 0.0),('b155995',  -122.64478, 45.619627, 1.0, 2.0, 0.0, '', 0.0, 0.0, '', 0.0),('b156215',  -119.7902603149414, 46.21937942504883, 3.0, 2.0, 0.0, '', 0.0, 0.0, '', 0.0),('b156236',  -119.28158569335938, 47.12852096557617, 3.0, 2.0, 0.0, '', 0.0, 0.0, '', 0.0),('b163338',  -122.593406, 45.649918, 3.0, 4.0, 0.0, '', 0.0, 0.0, '', 0.0),('b164163',  -122.936182, 47.045446, 3.0, 4.0, 0.0, '', 0.0, 0.0, '', 0.0),('b165647',  -122.256001, 47.893501, 3.0, 3.0, 0.0, '', 0.0, 0.0, '', 0.0),('b166231',  -122.303938, 47.616852, 3.0, 4.0, 0.0, '', 0.0, 0.0, '', 0.0),('b166926',  -122.825987, 47.042001, 3.0, 4.0, 0.0, '', 0.0, 0.0, '', 0.0),('b167474',  -122.381658, 47.561705, 3.0, 4.0, 0.0, '', 0.0, 0.0, '', 0.0),('b167497',  -120.9030990600586, 47.18890380859375, 3.0, 2.0, 0.0, '', 0.0, 0.0, '', 0.0),('b167523',  -118.86116027832031, 46.659027099609375, 3.0, 2.0, 0.0, '', 0.0, 0.0, '', 0.0),('b167562',  -122.104565, 47.671794, 3.0, 3.0, 0.0, '', 0.0, 0.0, '', 0.0),('b167758',  -122.297569, 47.155976, 3.0, 4.0, 0.0, '', 0.0, 0.0, '', 0.0),('b168082',  -122.151151, 47.75422, 3.0, 4.0, 0.0, '', 0.0, 0.0, '', 0.0),('b168088',  -122.512304, 48.789282, 3.0, 4.0, 0.0, '', 0.0, 0.0, '', 0.0)]\"\n",
      "[119, 43, 49, 128, 17, 62, 53, 95, 3, 7]\n",
      "[153615.0, 93531.0, 96282.0, 156236.0, 73412.0, 99263.0, 96412.0, 143212.0, 39789.0, 63307.0]\n",
      "     evse_id   longitude   latitude  connector_code  dcfc_count  \\\n",
      "0     b39778 -122.454132  48.755607             1.0         1.0   \n",
      "1     b39780 -122.333257  47.458466             1.0         1.0   \n",
      "2     b39788 -123.342273  48.102863             1.0         1.0   \n",
      "3     b39791 -122.218800  47.448354             1.0         1.0   \n",
      "4     b39796 -117.312518  47.657264             1.0         1.0   \n",
      "..       ...         ...        ...             ...         ...   \n",
      "126  b167523 -118.861160  46.659027             3.0         2.0   \n",
      "127  b167562 -122.104565  47.671794             3.0         3.0   \n",
      "128  b167758 -122.297569  47.155976             3.0         4.0   \n",
      "129  b168082 -122.151151  47.754220             3.0         4.0   \n",
      "130  b168088 -122.512304  48.789282             3.0         4.0   \n",
      "\n",
      "     dcfc_fixed_charging_price dcfc_var_charging_price_unit  \\\n",
      "0                          0.0                          min   \n",
      "1                          0.0                          min   \n",
      "2                          0.0                          min   \n",
      "3                          0.0                          min   \n",
      "4                          0.0                          min   \n",
      "..                         ...                          ...   \n",
      "126                        0.0                                \n",
      "127                        0.0                                \n",
      "128                        0.0                                \n",
      "129                        0.0                                \n",
      "130                        0.0                                \n",
      "\n",
      "     dcfc_var_charging_price  dcfc_fixed_parking_price  \\\n",
      "0                        0.0                       0.0   \n",
      "1                        0.0                       0.0   \n",
      "2                        0.0                       0.0   \n",
      "3                        0.0                       0.0   \n",
      "4                        0.0                       0.0   \n",
      "..                       ...                       ...   \n",
      "126                      0.0                       0.0   \n",
      "127                      0.0                       0.0   \n",
      "128                      0.0                       0.0   \n",
      "129                      0.0                       0.0   \n",
      "130                      0.0                       0.0   \n",
      "\n",
      "    dcfc_var_parking_price_unit  dcfc_var_parking_price  \n",
      "0                           min                     0.0  \n",
      "1                           min                     0.0  \n",
      "2                           min                     0.0  \n",
      "3                           min                     0.0  \n",
      "4                           min                     0.0  \n",
      "..                          ...                     ...  \n",
      "126                                                 0.0  \n",
      "127                                                 0.0  \n",
      "128                                                 0.0  \n",
      "129                                                 0.0  \n",
      "130                                                 0.0  \n",
      "\n",
      "[131 rows x 11 columns]\n",
      "[('b39778', -122.454132, 48.755607, 1.0, 1.0, 0.0, 'min', 0.0, 0.0, 'min', 0.0), ('b39780', -122.333257, 47.458466, 1.0, 1.0, 0.0, 'min', 0.0, 0.0, 'min', 0.0), ('b39788', -123.342273, 48.102863, 1.0, 1.0, 0.0, 'min', 0.0, 0.0, 'min', 0.0), ('b39791', -122.2188, 47.448354, 1.0, 1.0, 0.0, 'min', 0.0, 0.0, 'min', 0.0), ('b39796', -117.312518, 47.657264, 1.0, 1.0, 0.0, 'min', 0.0, 0.0, 'min', 0.0), ('b61030', -122.59837, 45.648181, 1.0, 1.0, 0.0, 'min', 0.0, 0.0, 'min', 0.0), ('b63444', -120.279071, 47.400783, 1.0, 1.0, 0.0, 'min', 0.0, 0.0, 'min', 0.0), ('b65551', -122.3448327, 47.7781913, 1.0, 1.0, 6.0, 'min', 0.0, 0.0, 'min', 0.0), ('b65859', -120.31231, 47.42758, 1.0, 1.0, 7.5, 'min', 0.0, 0.0, 'min', 0.0), ('b65861', -122.974224, 46.725274, 1.0, 1.0, 7.5, 'min', 0.0, 0.0, 'min', 0.0), ('b65862', -122.470706, 48.731457, 1.0, 1.0, 7.5, 'min', 0.0, 0.0, 'min', 0.0), ('b65864', -122.910167, 46.276122, 1.0, 1.0, 7.5, 'min', 0.0, 0.0, 'min', 0.0), ('b65865', -122.335866, 48.457448, 1.0, 1.0, 7.5, 'min', 0.0, 0.0, 'min', 0.0), ('b65866', -122.683594, 45.817526, 1.0, 1.0, 7.5, 'min', 0.0, 0.0, 'min', 0.0), ('b65869', -121.360495, 47.711268, 1.0, 1.0, 7.5, 'min', 0.0, 0.0, 'min', 0.0), ('b73413', -120.664684, 47.59501, 1.0, 1.0, 7.5, 'min', 0.0, 0.0, 'min', 0.0), ('b73415', -121.816597, 47.862157, 1.0, 1.0, 7.5, 'min', 0.0, 0.0, 'min', 0.0), ('b73431', -121.019582, 47.208469, 1.0, 1.0, 7.5, 'min', 0.0, 0.0, 'min', 0.0), ('b73433', -121.4113, 47.42094, 1.0, 1.0, 7.5, 'min', 0.0, 0.0, 'min', 0.0), ('b74196', -122.237601, 47.906308, 3.0, 1.0, 5.0, 'min', 0.0, 0.0, 'min', 0.0), ('b75094', -122.24699, 47.902753, 3.0, 6.0, 6.0, 'min', 0.0, 0.0, 'min', 0.0), ('b75997', -122.174855, 47.707294, 1.0, 3.0, 0.0, '', 0.0, 0.0, '', 0.0), ('b76253', -122.182402, 47.677725, 3.0, 1.0, 0.0, 'min', 0.25, 0.0, 'min', 0.0), ('b76926', -122.374558, 47.239188, 2.0, 1.0, 0.0, 'min', 0.0, 0.0, 'min', 0.0), ('b78795', -122.32451, 47.59366, 2.0, 2.0, 5.0, 'min', 0.0, 0.0, 'min', 0.0), ('b82083', -122.3442599, 47.778399, 3.0, 2.0, 6.0, 'min', 0.0, 0.0, 'min', 0.0), ('b88018', -122.296325, 47.436037, 3.0, 4.0, 4.95, 'min', 0.0, 0.0, 'min', 0.2), ('b92472', -122.3228502, 47.6155533, 3.0, 2.0, 4.95, 'min', 0.0, 0.0, 'min', 0.2), ('b92487', -122.3457541, 47.7811507, 3.0, 2.0, 6.0, 'min', 0.0, 0.0, 'min', 0.0), ('b93034', -122.143066, 47.580845, 1.0, 5.0, 0.0, 'min', 0.29, 0.0, 'min', 0.0), ('b93038', -122.14364, 47.58083, 1.0, 3.0, 0.0, 'min', 0.29, 0.0, 'min', 0.0), ('b93088', -122.11949, 47.67137, 3.0, 2.0, 0.0, 'min', 0.29, 0.0, 'min', 0.0), ('b93146', -122.32952, 47.62066, 3.0, 2.0, 0.0, 'min', 0.29, 0.0, 'min', 0.0), ('b93172', -118.365561, 47.118605, 3.0, 1.0, 0.0, 'min', 0.29, 0.0, 'min', 0.0), ('b93339', -122.47068, 47.21543, 3.0, 3.0, 0.0, 'min', 0.29, 0.0, 'min', 0.0), ('b93343', -122.1897, 48.09264, 3.0, 1.0, 0.0, 'min', 0.29, 0.0, 'min', 0.0), ('b93352', -121.79308, 47.49132, 3.0, 2.0, 0.0, 'min', 0.29, 0.0, 'min', 0.0), ('b93364', -122.32519, 47.7033, 3.0, 1.0, 0.0, 'min', 0.29, 0.0, 'min', 0.0), ('b93443', -122.321919, 47.613457, 3.0, 1.0, 0.0, 'min', 0.29, 0.0, 'min', 0.0), ('b93483', -122.20461, 47.49845, 3.0, 2.0, 0.0, 'min', 0.29, 0.0, 'min', 0.0), ('b93550', -122.23611, 47.58489, 3.0, 2.0, 0.0, 'min', 0.29, 0.0, 'min', 0.0), ('b93552', -122.273567, 47.820568, 3.0, 1.0, 0.0, 'min', 0.29, 0.0, 'min', 0.0), ('b95063', -122.663254, 45.629398, 1.0, 2.0, 0.0, 'kwh', 0.49, 0.0, 'min', 0.0), ('b95368', -122.694367, 47.652505, 1.0, 2.0, 0.0, 'kwh', 0.59, 0.0, 'min', 0.0), ('b95621', -122.212814, 47.293216, 1.0, 2.0, 0.0, 'kwh', 0.59, 0.0, 'min', 0.0), ('b96400', -122.15043, 47.58495, 1.0, 2.0, 0.0, '', 0.0, 0.0, '', 0.0), ('b96405', -122.663135, 45.720603, 1.0, 2.0, 0.0, 'kwh', 0.59, 0.0, 'min', 0.0), ('b96407', -122.183522, 47.708482, 1.0, 2.0, 0.0, 'kwh', 0.59, 0.0, 'min', 0.0), ('b96505', -122.206909, 47.245269, 1.0, 2.0, 0.0, 'kwh', 0.59, 0.0, 'min', 0.0), ('b96628', -122.348098, 47.24198, 1.0, 2.0, 0.0, 'kwh', 0.59, 0.0, 'min', 0.0), ('b96763', -122.3527083, 47.547708, 3.0, 2.0, 4.95, 'min', 0.0, 0.0, 'min', 0.2), ('b98770', -122.3346258, 47.6992271, 3.0, 2.0, 4.95, 'min', 0.0, 0.0, 'min', 0.2), ('b99059', -122.22020721435547, 47.47077178955078, 3.0, 2.0, 0.0, 'min', 0.058, 0.0, 'min', 0.0), ('b99067', -122.29222869873047, 47.20663833618164, 3.0, 2.0, 0.0, 'min', 0.167, 0.0, 'min', 0.0), ('b99070', -122.48442077636719, 47.190608978271484, 3.0, 2.0, 0.0, 'min', 0.117, 0.0, 'min', 0.0), ('b99183', -117.37006378173828, 47.23467254638672, 3.0, 2.0, 0.0, 'kwh', 0.35, 0.0, 'min', 0.0), ('b99277', -117.174757, 46.729729, 3.0, 2.0, 0.0, 'kwh', 0.35, 0.0, 'min', 0.0), ('b99280', -117.10325622558594, 47.6705436706543, 3.0, 2.0, 0.0, 'kwh', 0.35, 0.0, 'min', 0.0), ('b99282', -122.312333, 47.579971, 3.0, 4.0, 0.0, 'kwh', 0.43, 0.0, 'min', 0.0), ('b99296', -119.184406, 46.181372, 3.0, 2.0, 0.0, 'min', 0.35, 0.0, 'min', 0.0), ('b99297', -120.548798, 46.994109, 3.0, 2.0, 0.0, 'min', 0.35, 0.0, 'min', 0.0), ('b99358', -119.188128, 46.179735, 3.0, 1.0, 0.0, 'kwh', 0.59, 0.0, 'min', 0.0), ('b99591', -122.3304563, 47.5974463, 3.0, 8.0, 4.95, 'min', 0.0, 0.0, 'min', 0.2), ('b100242', -122.429536, 47.234898, 3.0, 2.0, 0.0, 'min', 0.29, 0.0, 'min', 0.0), ('b103573', -122.32406, 47.700101, 3.0, 4.0, 4.95, 'min', 0.0, 0.0, 'min', 0.2), ('b103581', -120.478546, 46.677105, 3.0, 2.0, 0.0, 'min', 0.35, 0.0, 'min', 0.0), ('b103586', -119.124176, 46.241729, 3.0, 2.0, 0.0, 'min', 0.35, 0.0, 'min', 0.0), ('b103612', -117.401944, 47.768802, 3.0, 2.0, 0.0, 'kwh', 0.35, 0.0, 'min', 0.0), ('b104285', -122.2984152, 47.7132239, 3.0, 2.0, 4.95, 'min', 0.0, 0.0, 'min', 0.2), ('b104286', -122.350639, 47.619964, 3.0, 4.0, 4.95, 'min', 0.0, 0.0, 'min', 0.2), ('b105361', -120.481583, 46.604239, 2.0, 1.0, 0.0, 'min', 0.0, 0.0, 'min', 0.0), ('b105362', -120.336918, 47.467463, 2.0, 1.0, 0.0, 'min', 0.0, 0.0, 'min', 0.0), ('b119039', -122.155852, 47.626541, 2.0, 1.0, 0.0, 'min', 0.0, 0.0, 'min', 0.0), ('b121703', -117.190123, 47.665596, 3.0, 8.0, 1.0, 'min', 0.25, 0.0, 'min', 0.0), ('b121704', -121.793559, 47.491288, 3.0, 4.0, 1.0, 'min', 0.25, 0.0, 'min', 0.0), ('b121709', -122.660913, 45.687387, 3.0, 6.0, 1.0, 'min', 0.25, 0.0, 'min', 0.0), ('b122833', -117.56153106689453, 47.58805847167969, 3.0, 2.0, 0.0, '', 0.0, 0.0, '', 0.0), ('b123004', -122.344757, 48.44174, 3.0, 4.0, 1.0, 'min', 0.25, 0.0, 'min', 0.0), ('b123050', -122.199295, 47.497292, 3.0, 3.0, 1.0, 'min', 0.25, 0.0, 'min', 0.0), ('b123446', -122.267332, 47.831991, 3.0, 3.0, 1.0, 'min', 0.25, 0.0, 'min', 0.0), ('b123479', -122.77201, 47.059659, 3.0, 6.0, 1.0, 'min', 0.25, 0.0, 'min', 0.0), ('b124057', -122.110209, 47.360982, 3.0, 3.0, 1.0, 'min', 0.25, 0.0, 'min', 0.0), ('b124683', -122.186896, 48.095461, 3.0, 4.0, 1.0, 'min', 0.25, 0.0, 'min', 0.0), ('b124684', -122.901263, 46.139875, 3.0, 4.0, 1.0, 'min', 0.25, 0.0, 'min', 0.0), ('b135872', -122.480252, 47.239472, 3.0, 3.0, 1.0, 'min', 0.25, 0.0, 'min', 0.0), ('b136697', -120.47924, 46.60252, 3.0, 4.0, 1.0, 'min', 0.25, 0.0, 'min', 0.0), ('b138537', -122.461854, 48.74393, 3.0, 2.0, 0.0, 'min', 0.29, 0.0, 'min', 0.0), ('b143152', -117.1493042, 47.6674691, 2.0, 1.0, 0.0, 'min', 0.0, 0.0, 'min', 0.0), ('b143215', -122.39677, 47.24293, 2.0, 1.0, 0.0, 'min', 0.0, 0.0, 'min', 0.1), ('b143313', -122.15664, 47.630585, 2.0, 1.0, 1.0, 'min', 0.0, 0.0, 'min', 0.0), ('b143782', -122.945746, 48.599217, 1.0, 1.0, 0.0, '', 0.0, 0.0, '', 0.0), ('b143835', -122.975256, 46.67925, 3.0, 1.0, 0.0, 'min', 0.29, 0.0, 'min', 0.0), ('b143939', -117.4004898071289, 47.66310501098633, 3.0, 2.0, 0.0, 'kwh', 0.35, 0.0, 'min', 0.0), ('b143969', -122.644253, 47.092582, 3.0, 2.0, 0.0, 'min', 0.29, 0.0, 'min', 0.0), ('b143970', -122.213314, 47.913486, 3.0, 10.0, 1.0, 'min', 0.25, 0.0, 'min', 0.0), ('b143971', -118.362709, 47.119482, 3.0, 4.0, 1.0, 'min', 0.25, 0.0, 'min', 0.0), ('b144074', -122.3448322, 47.778256, 3.0, 2.0, 6.0, 'min', 0.0, 0.0, 'min', 0.0), ('b144090', -122.478138, 45.617755, 3.0, 3.0, 1.0, 'min', 0.25, 0.0, 'min', 0.0), ('b144984', -122.299448, 47.450258, 3.0, 2.0, 0.0, 'min', 0.29, 0.0, 'min', 0.0), ('b145151', -122.3502919, 47.6654703, 3.0, 2.0, 4.95, 'min', 0.0, 0.0, 'min', 0.2), ('b145684', -122.100638, 47.998233, 3.0, 3.0, 1.0, 'min', 0.25, 0.0, 'min', 0.0), ('b146804', -122.2196648, 47.4463797, 2.0, 1.0, 0.0, 'kwh', 0.1, 0.0, 'min', 0.0), ('b146948', -122.324887, 47.708457, 3.0, 3.0, 1.0, 'min', 0.25, 0.0, 'min', 0.0), ('b147131', -122.25738, 47.455711, 3.0, 5.0, 0.0, '', 0.0, 0.0, '', 0.0), ('b147227', -122.052032, 47.541874, 3.0, 3.0, 0.0, '', 0.0, 0.0, '', 0.0), ('b147648', -121.973176, 47.865164, 3.0, 3.0, 0.0, '', 0.0, 0.0, '', 0.0), ('b149281', -122.20711, 47.80832, 3.0, 3.0, 0.0, '', 0.0, 0.0, '', 0.0), ('b149609', -122.327878, 47.571235, 3.0, 8.0, 0.0, '', 0.0, 0.0, '', 0.0), ('b149893', -119.265577, 46.195494, 3.0, 4.0, 0.0, '', 0.0, 0.0, '', 0.0), ('b152574', -122.3243279, 47.5419455, 3.0, 2.0, 0.0, '', 0.0, 0.0, '', 0.0), ('b153614', -119.785172, 46.219978, 3.0, 2.0, 0.0, '', 0.0, 0.0, '', 0.0), ('b153616', -119.284584, 47.1269, 3.0, 2.0, 0.0, '', 0.0, 0.0, '', 0.0), ('b154308', -122.271361, 47.820256, 3.0, 2.0, 0.0, '', 0.0, 0.0, '', 0.0), ('b154419', -122.25875091552734, 47.68138122558594, 3.0, 4.0, 0.0, '', 0.0, 0.0, '', 0.0), ('b155264', -122.7708595, 47.0616742, 2.0, 1.0, 0.0, '', 0.0, 0.0, '', 0.0), ('b155325', -122.236183, 47.383298, 3.0, 3.0, 0.0, '', 0.0, 0.0, '', 0.0), ('b155497', -123.4312744140625, 48.11968994140625, 3.0, 2.0, 0.0, '', 0.0, 0.0, '', 0.0), ('b155995', -122.64478, 45.619627, 1.0, 2.0, 0.0, '', 0.0, 0.0, '', 0.0), ('b156215', -119.7902603149414, 46.21937942504883, 3.0, 2.0, 0.0, '', 0.0, 0.0, '', 0.0), ('b163338', -122.593406, 45.649918, 3.0, 4.0, 0.0, '', 0.0, 0.0, '', 0.0), ('b164163', -122.936182, 47.045446, 3.0, 4.0, 0.0, '', 0.0, 0.0, '', 0.0), ('b165647', -122.256001, 47.893501, 3.0, 3.0, 0.0, '', 0.0, 0.0, '', 0.0), ('b166231', -122.303938, 47.616852, 3.0, 4.0, 0.0, '', 0.0, 0.0, '', 0.0), ('b166926', -122.825987, 47.042001, 3.0, 4.0, 0.0, '', 0.0, 0.0, '', 0.0), ('b167474', -122.381658, 47.561705, 3.0, 4.0, 0.0, '', 0.0, 0.0, '', 0.0), ('b167497', -120.9030990600586, 47.18890380859375, 3.0, 2.0, 0.0, '', 0.0, 0.0, '', 0.0), ('b167523', -118.86116027832031, 46.659027099609375, 3.0, 2.0, 0.0, '', 0.0, 0.0, '', 0.0), ('b167562', -122.104565, 47.671794, 3.0, 3.0, 0.0, '', 0.0, 0.0, '', 0.0), ('b167758', -122.297569, 47.155976, 3.0, 4.0, 0.0, '', 0.0, 0.0, '', 0.0), ('b168082', -122.151151, 47.75422, 3.0, 4.0, 0.0, '', 0.0, 0.0, '', 0.0), ('b168088', -122.512304, 48.789282, 3.0, 4.0, 0.0, '', 0.0, 0.0, '', 0.0)]\n",
      "b\"INSERT INTO evses_now (evse_id, longitude, latitude, connector_code, dcfc_count, dcfc_fixed_charging_price, dcfc_var_charging_price_unit, dcfc_var_charging_price, dcfc_fixed_parking_price, dcfc_var_parking_price_unit, dcfc_var_parking_price) VALUES ARRAY[('b39778',  -122.454132, 48.755607, 1.0, 1.0, 0.0, 'min', 0.0, 0.0, 'min', 0.0),('b39780',  -122.333257, 47.458466, 1.0, 1.0, 0.0, 'min', 0.0, 0.0, 'min', 0.0),('b39788',  -123.342273, 48.102863, 1.0, 1.0, 0.0, 'min', 0.0, 0.0, 'min', 0.0),('b39791',  -122.2188, 47.448354, 1.0, 1.0, 0.0, 'min', 0.0, 0.0, 'min', 0.0),('b39796',  -117.312518, 47.657264, 1.0, 1.0, 0.0, 'min', 0.0, 0.0, 'min', 0.0),('b61030',  -122.59837, 45.648181, 1.0, 1.0, 0.0, 'min', 0.0, 0.0, 'min', 0.0),('b63444',  -120.279071, 47.400783, 1.0, 1.0, 0.0, 'min', 0.0, 0.0, 'min', 0.0),('b65551',  -122.3448327, 47.7781913, 1.0, 1.0, 6.0, 'min', 0.0, 0.0, 'min', 0.0),('b65859',  -120.31231, 47.42758, 1.0, 1.0, 7.5, 'min', 0.0, 0.0, 'min', 0.0),('b65861',  -122.974224, 46.725274, 1.0, 1.0, 7.5, 'min', 0.0, 0.0, 'min', 0.0),('b65862',  -122.470706, 48.731457, 1.0, 1.0, 7.5, 'min', 0.0, 0.0, 'min', 0.0),('b65864',  -122.910167, 46.276122, 1.0, 1.0, 7.5, 'min', 0.0, 0.0, 'min', 0.0),('b65865',  -122.335866, 48.457448, 1.0, 1.0, 7.5, 'min', 0.0, 0.0, 'min', 0.0),('b65866',  -122.683594, 45.817526, 1.0, 1.0, 7.5, 'min', 0.0, 0.0, 'min', 0.0),('b65869',  -121.360495, 47.711268, 1.0, 1.0, 7.5, 'min', 0.0, 0.0, 'min', 0.0),('b73413',  -120.664684, 47.59501, 1.0, 1.0, 7.5, 'min', 0.0, 0.0, 'min', 0.0),('b73415',  -121.816597, 47.862157, 1.0, 1.0, 7.5, 'min', 0.0, 0.0, 'min', 0.0),('b73431',  -121.019582, 47.208469, 1.0, 1.0, 7.5, 'min', 0.0, 0.0, 'min', 0.0),('b73433',  -121.4113, 47.42094, 1.0, 1.0, 7.5, 'min', 0.0, 0.0, 'min', 0.0),('b74196',  -122.237601, 47.906308, 3.0, 1.0, 5.0, 'min', 0.0, 0.0, 'min', 0.0),('b75094',  -122.24699, 47.902753, 3.0, 6.0, 6.0, 'min', 0.0, 0.0, 'min', 0.0),('b75997',  -122.174855, 47.707294, 1.0, 3.0, 0.0, '', 0.0, 0.0, '', 0.0),('b76253',  -122.182402, 47.677725, 3.0, 1.0, 0.0, 'min', 0.25, 0.0, 'min', 0.0),('b76926',  -122.374558, 47.239188, 2.0, 1.0, 0.0, 'min', 0.0, 0.0, 'min', 0.0),('b78795',  -122.32451, 47.59366, 2.0, 2.0, 5.0, 'min', 0.0, 0.0, 'min', 0.0),('b82083',  -122.3442599, 47.778399, 3.0, 2.0, 6.0, 'min', 0.0, 0.0, 'min', 0.0),('b88018',  -122.296325, 47.436037, 3.0, 4.0, 4.95, 'min', 0.0, 0.0, 'min', 0.2),('b92472',  -122.3228502, 47.6155533, 3.0, 2.0, 4.95, 'min', 0.0, 0.0, 'min', 0.2),('b92487',  -122.3457541, 47.7811507, 3.0, 2.0, 6.0, 'min', 0.0, 0.0, 'min', 0.0),('b93034',  -122.143066, 47.580845, 1.0, 5.0, 0.0, 'min', 0.29, 0.0, 'min', 0.0),('b93038',  -122.14364, 47.58083, 1.0, 3.0, 0.0, 'min', 0.29, 0.0, 'min', 0.0),('b93088',  -122.11949, 47.67137, 3.0, 2.0, 0.0, 'min', 0.29, 0.0, 'min', 0.0),('b93146',  -122.32952, 47.62066, 3.0, 2.0, 0.0, 'min', 0.29, 0.0, 'min', 0.0),('b93172',  -118.365561, 47.118605, 3.0, 1.0, 0.0, 'min', 0.29, 0.0, 'min', 0.0),('b93339',  -122.47068, 47.21543, 3.0, 3.0, 0.0, 'min', 0.29, 0.0, 'min', 0.0),('b93343',  -122.1897, 48.09264, 3.0, 1.0, 0.0, 'min', 0.29, 0.0, 'min', 0.0),('b93352',  -121.79308, 47.49132, 3.0, 2.0, 0.0, 'min', 0.29, 0.0, 'min', 0.0),('b93364',  -122.32519, 47.7033, 3.0, 1.0, 0.0, 'min', 0.29, 0.0, 'min', 0.0),('b93443',  -122.321919, 47.613457, 3.0, 1.0, 0.0, 'min', 0.29, 0.0, 'min', 0.0),('b93483',  -122.20461, 47.49845, 3.0, 2.0, 0.0, 'min', 0.29, 0.0, 'min', 0.0),('b93550',  -122.23611, 47.58489, 3.0, 2.0, 0.0, 'min', 0.29, 0.0, 'min', 0.0),('b93552',  -122.273567, 47.820568, 3.0, 1.0, 0.0, 'min', 0.29, 0.0, 'min', 0.0),('b95063',  -122.663254, 45.629398, 1.0, 2.0, 0.0, 'kwh', 0.49, 0.0, 'min', 0.0),('b95368',  -122.694367, 47.652505, 1.0, 2.0, 0.0, 'kwh', 0.59, 0.0, 'min', 0.0),('b95621',  -122.212814, 47.293216, 1.0, 2.0, 0.0, 'kwh', 0.59, 0.0, 'min', 0.0),('b96400',  -122.15043, 47.58495, 1.0, 2.0, 0.0, '', 0.0, 0.0, '', 0.0),('b96405',  -122.663135, 45.720603, 1.0, 2.0, 0.0, 'kwh', 0.59, 0.0, 'min', 0.0),('b96407',  -122.183522, 47.708482, 1.0, 2.0, 0.0, 'kwh', 0.59, 0.0, 'min', 0.0),('b96505',  -122.206909, 47.245269, 1.0, 2.0, 0.0, 'kwh', 0.59, 0.0, 'min', 0.0),('b96628',  -122.348098, 47.24198, 1.0, 2.0, 0.0, 'kwh', 0.59, 0.0, 'min', 0.0),('b96763',  -122.3527083, 47.547708, 3.0, 2.0, 4.95, 'min', 0.0, 0.0, 'min', 0.2),('b98770',  -122.3346258, 47.6992271, 3.0, 2.0, 4.95, 'min', 0.0, 0.0, 'min', 0.2),('b99059',  -122.22020721435547, 47.47077178955078, 3.0, 2.0, 0.0, 'min', 0.058, 0.0, 'min', 0.0),('b99067',  -122.29222869873047, 47.20663833618164, 3.0, 2.0, 0.0, 'min', 0.167, 0.0, 'min', 0.0),('b99070',  -122.48442077636719, 47.190608978271484, 3.0, 2.0, 0.0, 'min', 0.117, 0.0, 'min', 0.0),('b99183',  -117.37006378173828, 47.23467254638672, 3.0, 2.0, 0.0, 'kwh', 0.35, 0.0, 'min', 0.0),('b99277',  -117.174757, 46.729729, 3.0, 2.0, 0.0, 'kwh', 0.35, 0.0, 'min', 0.0),('b99280',  -117.10325622558594, 47.6705436706543, 3.0, 2.0, 0.0, 'kwh', 0.35, 0.0, 'min', 0.0),('b99282',  -122.312333, 47.579971, 3.0, 4.0, 0.0, 'kwh', 0.43, 0.0, 'min', 0.0),('b99296',  -119.184406, 46.181372, 3.0, 2.0, 0.0, 'min', 0.35, 0.0, 'min', 0.0),('b99297',  -120.548798, 46.994109, 3.0, 2.0, 0.0, 'min', 0.35, 0.0, 'min', 0.0),('b99358',  -119.188128, 46.179735, 3.0, 1.0, 0.0, 'kwh', 0.59, 0.0, 'min', 0.0),('b99591',  -122.3304563, 47.5974463, 3.0, 8.0, 4.95, 'min', 0.0, 0.0, 'min', 0.2),('b100242',  -122.429536, 47.234898, 3.0, 2.0, 0.0, 'min', 0.29, 0.0, 'min', 0.0),('b103573',  -122.32406, 47.700101, 3.0, 4.0, 4.95, 'min', 0.0, 0.0, 'min', 0.2),('b103581',  -120.478546, 46.677105, 3.0, 2.0, 0.0, 'min', 0.35, 0.0, 'min', 0.0),('b103586',  -119.124176, 46.241729, 3.0, 2.0, 0.0, 'min', 0.35, 0.0, 'min', 0.0),('b103612',  -117.401944, 47.768802, 3.0, 2.0, 0.0, 'kwh', 0.35, 0.0, 'min', 0.0),('b104285',  -122.2984152, 47.7132239, 3.0, 2.0, 4.95, 'min', 0.0, 0.0, 'min', 0.2),('b104286',  -122.350639, 47.619964, 3.0, 4.0, 4.95, 'min', 0.0, 0.0, 'min', 0.2),('b105361',  -120.481583, 46.604239, 2.0, 1.0, 0.0, 'min', 0.0, 0.0, 'min', 0.0),('b105362',  -120.336918, 47.467463, 2.0, 1.0, 0.0, 'min', 0.0, 0.0, 'min', 0.0),('b119039',  -122.155852, 47.626541, 2.0, 1.0, 0.0, 'min', 0.0, 0.0, 'min', 0.0),('b121703',  -117.190123, 47.665596, 3.0, 8.0, 1.0, 'min', 0.25, 0.0, 'min', 0.0),('b121704',  -121.793559, 47.491288, 3.0, 4.0, 1.0, 'min', 0.25, 0.0, 'min', 0.0),('b121709',  -122.660913, 45.687387, 3.0, 6.0, 1.0, 'min', 0.25, 0.0, 'min', 0.0),('b122833',  -117.56153106689453, 47.58805847167969, 3.0, 2.0, 0.0, '', 0.0, 0.0, '', 0.0),('b123004',  -122.344757, 48.44174, 3.0, 4.0, 1.0, 'min', 0.25, 0.0, 'min', 0.0),('b123050',  -122.199295, 47.497292, 3.0, 3.0, 1.0, 'min', 0.25, 0.0, 'min', 0.0),('b123446',  -122.267332, 47.831991, 3.0, 3.0, 1.0, 'min', 0.25, 0.0, 'min', 0.0),('b123479',  -122.77201, 47.059659, 3.0, 6.0, 1.0, 'min', 0.25, 0.0, 'min', 0.0),('b124057',  -122.110209, 47.360982, 3.0, 3.0, 1.0, 'min', 0.25, 0.0, 'min', 0.0),('b124683',  -122.186896, 48.095461, 3.0, 4.0, 1.0, 'min', 0.25, 0.0, 'min', 0.0),('b124684',  -122.901263, 46.139875, 3.0, 4.0, 1.0, 'min', 0.25, 0.0, 'min', 0.0),('b135872',  -122.480252, 47.239472, 3.0, 3.0, 1.0, 'min', 0.25, 0.0, 'min', 0.0),('b136697',  -120.47924, 46.60252, 3.0, 4.0, 1.0, 'min', 0.25, 0.0, 'min', 0.0),('b138537',  -122.461854, 48.74393, 3.0, 2.0, 0.0, 'min', 0.29, 0.0, 'min', 0.0),('b143152',  -117.1493042, 47.6674691, 2.0, 1.0, 0.0, 'min', 0.0, 0.0, 'min', 0.0),('b143215',  -122.39677, 47.24293, 2.0, 1.0, 0.0, 'min', 0.0, 0.0, 'min', 0.1),('b143313',  -122.15664, 47.630585, 2.0, 1.0, 1.0, 'min', 0.0, 0.0, 'min', 0.0),('b143782',  -122.945746, 48.599217, 1.0, 1.0, 0.0, '', 0.0, 0.0, '', 0.0),('b143835',  -122.975256, 46.67925, 3.0, 1.0, 0.0, 'min', 0.29, 0.0, 'min', 0.0),('b143939',  -117.4004898071289, 47.66310501098633, 3.0, 2.0, 0.0, 'kwh', 0.35, 0.0, 'min', 0.0),('b143969',  -122.644253, 47.092582, 3.0, 2.0, 0.0, 'min', 0.29, 0.0, 'min', 0.0),('b143970',  -122.213314, 47.913486, 3.0, 10.0, 1.0, 'min', 0.25, 0.0, 'min', 0.0),('b143971',  -118.362709, 47.119482, 3.0, 4.0, 1.0, 'min', 0.25, 0.0, 'min', 0.0),('b144074',  -122.3448322, 47.778256, 3.0, 2.0, 6.0, 'min', 0.0, 0.0, 'min', 0.0),('b144090',  -122.478138, 45.617755, 3.0, 3.0, 1.0, 'min', 0.25, 0.0, 'min', 0.0),('b144984',  -122.299448, 47.450258, 3.0, 2.0, 0.0, 'min', 0.29, 0.0, 'min', 0.0),('b145151',  -122.3502919, 47.6654703, 3.0, 2.0, 4.95, 'min', 0.0, 0.0, 'min', 0.2),('b145684',  -122.100638, 47.998233, 3.0, 3.0, 1.0, 'min', 0.25, 0.0, 'min', 0.0),('b146804',  -122.2196648, 47.4463797, 2.0, 1.0, 0.0, 'kwh', 0.1, 0.0, 'min', 0.0),('b146948',  -122.324887, 47.708457, 3.0, 3.0, 1.0, 'min', 0.25, 0.0, 'min', 0.0),('b147131',  -122.25738, 47.455711, 3.0, 5.0, 0.0, '', 0.0, 0.0, '', 0.0),('b147227',  -122.052032, 47.541874, 3.0, 3.0, 0.0, '', 0.0, 0.0, '', 0.0),('b147648',  -121.973176, 47.865164, 3.0, 3.0, 0.0, '', 0.0, 0.0, '', 0.0),('b149281',  -122.20711, 47.80832, 3.0, 3.0, 0.0, '', 0.0, 0.0, '', 0.0),('b149609',  -122.327878, 47.571235, 3.0, 8.0, 0.0, '', 0.0, 0.0, '', 0.0),('b149893',  -119.265577, 46.195494, 3.0, 4.0, 0.0, '', 0.0, 0.0, '', 0.0),('b152574',  -122.3243279, 47.5419455, 3.0, 2.0, 0.0, '', 0.0, 0.0, '', 0.0),('b153614',  -119.785172, 46.219978, 3.0, 2.0, 0.0, '', 0.0, 0.0, '', 0.0),('b153616',  -119.284584, 47.1269, 3.0, 2.0, 0.0, '', 0.0, 0.0, '', 0.0),('b154308',  -122.271361, 47.820256, 3.0, 2.0, 0.0, '', 0.0, 0.0, '', 0.0),('b154419',  -122.25875091552734, 47.68138122558594, 3.0, 4.0, 0.0, '', 0.0, 0.0, '', 0.0),('b155264',  -122.7708595, 47.0616742, 2.0, 1.0, 0.0, '', 0.0, 0.0, '', 0.0),('b155325',  -122.236183, 47.383298, 3.0, 3.0, 0.0, '', 0.0, 0.0, '', 0.0),('b155497',  -123.4312744140625, 48.11968994140625, 3.0, 2.0, 0.0, '', 0.0, 0.0, '', 0.0),('b155995',  -122.64478, 45.619627, 1.0, 2.0, 0.0, '', 0.0, 0.0, '', 0.0),('b156215',  -119.7902603149414, 46.21937942504883, 3.0, 2.0, 0.0, '', 0.0, 0.0, '', 0.0),('b163338',  -122.593406, 45.649918, 3.0, 4.0, 0.0, '', 0.0, 0.0, '', 0.0),('b164163',  -122.936182, 47.045446, 3.0, 4.0, 0.0, '', 0.0, 0.0, '', 0.0),('b165647',  -122.256001, 47.893501, 3.0, 3.0, 0.0, '', 0.0, 0.0, '', 0.0),('b166231',  -122.303938, 47.616852, 3.0, 4.0, 0.0, '', 0.0, 0.0, '', 0.0),('b166926',  -122.825987, 47.042001, 3.0, 4.0, 0.0, '', 0.0, 0.0, '', 0.0),('b167474',  -122.381658, 47.561705, 3.0, 4.0, 0.0, '', 0.0, 0.0, '', 0.0),('b167497',  -120.9030990600586, 47.18890380859375, 3.0, 2.0, 0.0, '', 0.0, 0.0, '', 0.0),('b167523',  -118.86116027832031, 46.659027099609375, 3.0, 2.0, 0.0, '', 0.0, 0.0, '', 0.0),('b167562',  -122.104565, 47.671794, 3.0, 3.0, 0.0, '', 0.0, 0.0, '', 0.0),('b167758',  -122.297569, 47.155976, 3.0, 4.0, 0.0, '', 0.0, 0.0, '', 0.0),('b168082',  -122.151151, 47.75422, 3.0, 4.0, 0.0, '', 0.0, 0.0, '', 0.0),('b168088',  -122.512304, 48.789282, 3.0, 4.0, 0.0, '', 0.0, 0.0, '', 0.0)]\"\n"
     ]
    }
   ],
   "source": [
    "################### The following will launch 3 sims with varying disabled chargers \n",
    "#######################################################################\n",
    "create_new_set = True # a boolean to encode whether to create a new set for this analysis request or add this to the previous one \n",
    "number_of_sims = 5 # len(seeds) # launch five sims\n",
    "\n",
    "for i in range(0, number_of_sims): \n",
    "    # seed = seeds[i]\n",
    "    disable_bevse_ids = []\n",
    "    rints = random.sample(range(len(bevse_ids)), disabled_charger_count)\n",
    "    print(rints)\n",
    "    disable_bevse_ids = bevse_ids['bevse_id'].take(rints)\n",
    "    print(disable_bevse_ids.tolist())\n",
    "    # get evses that have not been disabled\n",
    "    bevses_subset = pd.read_sql_query(sql=sql_bevse_subset, con=conn, params=(tuple(disable_bevse_ids.tolist()),))\n",
    "    # Rename columns and add 'b' to id\n",
    "    bevses_subset.rename(columns={\"bevse_id\": \"evse_id\"}, inplace=True)\n",
    "    bevses_subset['evse_id'] = 'b' + bevses_subset['evse_id'].astype(int).astype(str)\n",
    "    print(bevses_subset)\n",
    "    bevses_list = []\n",
    "    for index, row in bevses_subset.iterrows():\n",
    "        bevses_list.append((row['evse_id'], row['longitude'], row['latitude'], row['connector_code'], row['dcfc_count'], row['dcfc_fixed_charging_price'], row['dcfc_var_charging_price_unit'], row['dcfc_var_charging_price'], row['dcfc_fixed_parking_price'], row['dcfc_var_parking_price_unit'], row['dcfc_var_parking_price']))\n",
    "    print(bevses_list)\n",
    "    query = cur.mogrify(sql_evses_now, (bevses_list,))\n",
    "    print(query)\n",
    "    if(create_new_set):\n",
    "        set_data = 'Testing the effect of disabling chargers'\n",
    "        cur.execute(sql_set, (set_data, ))\n",
    "    cur.execute(sql_analysis,  analysis_data)\n",
    "    cur.execute(sql_user,  user_data)\n",
    "    execute_values(cur, sql_params, params_data)\n",
    "    execute_values(cur, sql_evses_now, bevses_list)\n",
    "  \n",
    "    create_new_set = False # since the next 4 simulations belong to the same set\n",
    "    conn.commit()\n",
    "    time.sleep(3) # sleep for 3 seconds so the next analysis request is 3 seconds later"
   ]
  },
  {
   "cell_type": "code",
   "execution_count": 60,
   "metadata": {},
   "outputs": [
    {
     "name": "stdout",
     "output_type": "stream",
     "text": [
      "[(1, 2)]\n"
     ]
    }
   ],
   "source": [
    "a = []\n",
    "a.append((1, 2))\n",
    "print(a)"
   ]
  },
  {
   "cell_type": "code",
   "execution_count": 65,
   "metadata": {},
   "outputs": [],
   "source": [
    "a.append((3,))"
   ]
  },
  {
   "cell_type": "code",
   "execution_count": 66,
   "metadata": {},
   "outputs": [
    {
     "name": "stdout",
     "output_type": "stream",
     "text": [
      "[(1, 2), 3, 3, (3,)]\n"
     ]
    }
   ],
   "source": [
    "print(a)"
   ]
  },
  {
   "cell_type": "code",
   "execution_count": 91,
   "metadata": {},
   "outputs": [
    {
     "ename": "AttributeError",
     "evalue": "'float' object has no attribute 'astype'",
     "output_type": "error",
     "traceback": [
      "\u001b[0;31m---------------------------------------------------------------------------\u001b[0m",
      "\u001b[0;31mAttributeError\u001b[0m                            Traceback (most recent call last)",
      "\u001b[0;32m<ipython-input-91-6e248ded6ac6>\u001b[0m in \u001b[0;36m<module>\u001b[0;34m\u001b[0m\n\u001b[0;32m----> 1\u001b[0;31m \u001b[0;34m(\u001b[0m\u001b[0;36m1.0\u001b[0m\u001b[0;34m)\u001b[0m\u001b[0;34m.\u001b[0m\u001b[0mastype\u001b[0m\u001b[0;34m(\u001b[0m\u001b[0mint\u001b[0m\u001b[0;34m)\u001b[0m\u001b[0;34m\u001b[0m\u001b[0;34m\u001b[0m\u001b[0m\n\u001b[0m",
      "\u001b[0;31mAttributeError\u001b[0m: 'float' object has no attribute 'astype'"
     ]
    }
   ],
   "source": [
    "(1.0).astype(int)"
   ]
  },
  {
   "cell_type": "code",
   "execution_count": null,
   "metadata": {},
   "outputs": [],
   "source": []
  }
 ],
 "metadata": {
  "kernelspec": {
   "display_name": "Python 3",
   "language": "python",
   "name": "python3"
  },
  "language_info": {
   "codemirror_mode": {
    "name": "ipython",
    "version": 3
   },
   "file_extension": ".py",
   "mimetype": "text/x-python",
   "name": "python",
   "nbconvert_exporter": "python",
   "pygments_lexer": "ipython3",
   "version": "3.8.5"
  }
 },
 "nbformat": 4,
 "nbformat_minor": 4
}
