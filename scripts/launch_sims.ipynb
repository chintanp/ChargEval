{
 "cells": [
  {
   "cell_type": "markdown",
   "metadata": {},
   "source": [
    "# Sim-launcher\n",
    "This script show how to launch sims using Python"
   ]
  },
  {
   "cell_type": "markdown",
   "metadata": {},
   "source": [
    "### 1. Package imports"
   ]
  },
  {
   "cell_type": "code",
   "execution_count": 6,
   "metadata": {},
   "outputs": [],
   "source": [
    "import pandas as pd\n",
    "import seaborn as sns\n",
    "import matplotlib.pyplot as plt\n",
    "from dotenv import load_dotenv\n",
    "from pathlib import Path  # Python 3.6+ only\n",
    "import os\n",
    "import psycopg2\n",
    "from psycopg2.extras import execute_values\n",
    "import random\n",
    "import time"
   ]
  },
  {
   "cell_type": "markdown",
   "metadata": {},
   "source": [
    "### 2. Environment Variables"
   ]
  },
  {
   "cell_type": "code",
   "execution_count": 7,
   "metadata": {},
   "outputs": [
    {
     "data": {
      "text/plain": [
       "'evidss'"
      ]
     },
     "execution_count": 7,
     "metadata": {},
     "output_type": "execute_result"
    }
   ],
   "source": [
    "# Load the environment variables\n",
    "env_path = Path('..') / '.env'\n",
    "load_dotenv(dotenv_path=env_path)\n",
    "# Print this to see if the env variables are read now\n",
    "os.getenv(\"COMPOSE_PROJECT_NAME\")"
   ]
  },
  {
   "cell_type": "markdown",
   "metadata": {},
   "source": [
    "### 3. Database connection (writer)"
   ]
  },
  {
   "cell_type": "code",
   "execution_count": 8,
   "metadata": {},
   "outputs": [],
   "source": [
    "# Generic function to test the connection to the database\n",
    "def connect():\n",
    "    \"\"\" Connect to the PostgreSQL database server \"\"\"\n",
    "    conn = None\n",
    "    try:\n",
    "\n",
    "        # connect to the PostgreSQL server\n",
    "        print('Connecting to the PostgreSQL database...')\n",
    "        conn = psycopg2.connect(    \n",
    "            host=os.getenv(\"MAIN_HOST\"),\n",
    "            database=os.getenv(\"MAIN_DB\"),\n",
    "            user=os.getenv(\"DBWRITE_USER\"),\n",
    "            password=os.getenv(\"DBWRITE_PWD\"), \n",
    "            port = os.getenv(\"MAIN_PORT\")\n",
    "        )\n",
    "\t\t\n",
    "        # create a cursor\n",
    "        cur = conn.cursor()\n",
    "        \n",
    "\t# execute a statement\n",
    "        print('PostgreSQL database version:')\n",
    "        cur.execute('SELECT version()')\n",
    "\n",
    "        # display the PostgreSQL database server version\n",
    "        db_version = cur.fetchone()\n",
    "        print(db_version)\n",
    "       \n",
    "\t# close the communication with the PostgreSQL\n",
    "        cur.close()\n",
    "    except (Exception, psycopg2.DatabaseError) as error:\n",
    "        print(error)\n",
    "    finally:\n",
    "        if conn is not None:\n",
    "            conn.close()\n",
    "            print('Database connection closed.')"
   ]
  },
  {
   "cell_type": "code",
   "execution_count": 9,
   "metadata": {},
   "outputs": [
    {
     "name": "stdout",
     "output_type": "stream",
     "text": [
      "Connecting to the PostgreSQL database...\n",
      "PostgreSQL database version:\n",
      "('PostgreSQL 12.5 (Ubuntu 12.5-1.pgdg20.04+1) on x86_64-pc-linux-gnu, compiled by gcc (Ubuntu 9.3.0-17ubuntu1~20.04) 9.3.0, 64-bit',)\n",
      "Database connection closed.\n"
     ]
    }
   ],
   "source": [
    "# Make the test database connection\n",
    "connect()"
   ]
  },
  {
   "cell_type": "code",
   "execution_count": 10,
   "metadata": {},
   "outputs": [],
   "source": [
    "conn = psycopg2.connect(    \n",
    "    host=os.getenv(\"MAIN_HOST\"),\n",
    "    database=os.getenv(\"MAIN_DB\"),\n",
    "    user=os.getenv(\"DBWRITE_USER\"),\n",
    "    password=os.getenv(\"DBWRITE_PWD\"), \n",
    "    port = os.getenv(\"MAIN_PORT\")\n",
    ")\n",
    "\n",
    "# create a cursor\n",
    "cur = conn.cursor()"
   ]
  },
  {
   "cell_type": "markdown",
   "metadata": {},
   "source": [
    "### 4. Database queries"
   ]
  },
  {
   "cell_type": "markdown",
   "metadata": {},
   "source": [
    "#### 4.1 Base-case analysis"
   ]
  },
  {
   "cell_type": "code",
   "execution_count": 8,
   "metadata": {},
   "outputs": [],
   "source": [
    "sql_set = 'INSERT INTO analysis_sets (description) VALUES (%s);'\n",
    "set_data = 'first set as test'"
   ]
  },
  {
   "cell_type": "code",
   "execution_count": 9,
   "metadata": {},
   "outputs": [],
   "source": [
    "sql_analysis = 'INSERT INTO analysis_record (user_id, status, include_tesla) VALUES (%s, %s, %s);'\n",
    "analysis_data = (os.getenv(\"AUTH0_USERID\"), 'inserted', 'FALSE')"
   ]
  },
  {
   "cell_type": "code",
   "execution_count": 10,
   "metadata": {},
   "outputs": [],
   "source": [
    "sql_user = 'INSERT INTO user_details (user_id, user_name, email_id) VALUES (%s, %s, %s) ON CONFLICT (user_id) DO UPDATE SET last_submit_date = NOW();'\n",
    "user_data = (os.getenv(\"AUTH0_USERID\"), os.getenv(\"AUTH0_USERNAME\"), os.getenv(\"AUTH0_EMAIL\"))"
   ]
  },
  {
   "cell_type": "code",
   "execution_count": 11,
   "metadata": {},
   "outputs": [],
   "source": [
    "sql_params = 'INSERT INTO analysis_params (param_id, param_value) VALUES %s'\n",
    "params_data = [(1, '123' ),(2, '70' ),(14, '10' ),(3, '80' ),(4, '100' ),(9, '40' ),(10, '50' ),(11, '25' ),(12, '23' ),(13, '20' ), (15, '1' ), ( 16, '10' ), (17, '80' ), (18, '0' ), (19, '60' ), (20, '20' ), (21, '200' )]"
   ]
  },
  {
   "cell_type": "markdown",
   "metadata": {},
   "source": [
    "##### Launch an analysis"
   ]
  },
  {
   "cell_type": "code",
   "execution_count": 14,
   "metadata": {},
   "outputs": [],
   "source": [
    "# cur.mogrify(sql_set, (set_data,))"
   ]
  },
  {
   "cell_type": "code",
   "execution_count": 11,
   "metadata": {},
   "outputs": [],
   "source": [
    "# All these should be executed together as a transaction\n",
    "################### the following will launch a sim \n",
    "cur.execute(sql_set, (set_data, ))\n",
    "cur.execute(sql_analysis,  analysis_data)\n",
    "cur.execute(sql_user,  user_data)\n",
    "execute_values(cur, sql_params, params_data)\n",
    "conn.commit()"
   ]
  },
  {
   "cell_type": "markdown",
   "metadata": {},
   "source": [
    "Launch a set of analysis requests"
   ]
  },
  {
   "cell_type": "code",
   "execution_count": 25,
   "metadata": {},
   "outputs": [],
   "source": [
    "################### The following will launch 5 sims with varying seed \n",
    "#######################################################################\n",
    "create_new_set = True # a boolean to encode whether to create a new set for this analysis request or add this to the previous one \n",
    "number_of_sims = 5 # launch five sims\n",
    "\n",
    "for i in range(0, number_of_sims): \n",
    "    seed = random.randint(1, 1000)\n",
    "    if(create_new_set):\n",
    "        set_data = 'Testing the effect of varying seed with everything else constant'\n",
    "        cur.execute(sql_set, (set_data, ))\n",
    "    cur.execute(sql_analysis,  analysis_data)\n",
    "    cur.execute(sql_user,  user_data)\n",
    "    # change the seed \n",
    "    params_data.pop(0) # remove the current list element for parameter 'global_seed' (param_id = 1)\n",
    "    params_data.insert(0, (1, str(seed)))\n",
    "    execute_values(cur, sql_params, params_data)\n",
    "    create_new_set = False # since the next 4 simulations belong to the same set\n",
    "    conn.commit()"
   ]
  },
  {
   "cell_type": "markdown",
   "metadata": {},
   "source": [
    "Launch a set of analysis requests with different critical distance"
   ]
  },
  {
   "cell_type": "code",
   "execution_count": 12,
   "metadata": {},
   "outputs": [],
   "source": [
    "create_new_set = True # a boolean to encode whether to create a new set for this analysis request or add this to the previous one \n",
    "critical_dists = [50, 70, 90] # critical distance set\n",
    "\n",
    "for dist in critical_dists: \n",
    "    if(create_new_set):\n",
    "        set_data = 'Testing the effect of varying critical distance keeping everything else constant'\n",
    "        cur.execute(sql_set, (set_data, ))\n",
    "    cur.execute(sql_analysis,  analysis_data)\n",
    "    cur.execute(sql_user,  user_data)\n",
    "    # change the seed \n",
    "    params_data.pop(1) # remove the current list element for parameter 'critical_distance' (param_id = 2), list pos 1\n",
    "    params_data.insert(1, (2, str(dist)))\n",
    "    execute_values(cur, sql_params, params_data)\n",
    "    create_new_set = False # since the next 4 simulations belong to the same set\n",
    "    conn.commit()\n",
    "    time.sleep(3) # sleep for 3 seconds so the next analysis request is 3 seconds later"
   ]
  },
  {
   "cell_type": "markdown",
   "metadata": {},
   "source": [
    "#### 4.2 Adding new chargers"
   ]
  },
  {
   "cell_type": "code",
   "execution_count": 24,
   "metadata": {},
   "outputs": [
    {
     "data": {
      "text/html": [
       "<div>\n",
       "<style scoped>\n",
       "    .dataframe tbody tr th:only-of-type {\n",
       "        vertical-align: middle;\n",
       "    }\n",
       "\n",
       "    .dataframe tbody tr th {\n",
       "        vertical-align: top;\n",
       "    }\n",
       "\n",
       "    .dataframe thead th {\n",
       "        text-align: right;\n",
       "    }\n",
       "</style>\n",
       "<table border=\"1\" class=\"dataframe\">\n",
       "  <thead>\n",
       "    <tr style=\"text-align: right;\">\n",
       "      <th></th>\n",
       "      <th>latitude</th>\n",
       "      <th>longitude</th>\n",
       "      <th>dcfc_plug_count</th>\n",
       "      <th>dcfc_power</th>\n",
       "      <th>level2_plug_count</th>\n",
       "      <th>level2_power</th>\n",
       "      <th>dcfc_fixed_charging_price</th>\n",
       "      <th>dcfc_var_charging_price_unit</th>\n",
       "      <th>dcfc_var_charging_price</th>\n",
       "      <th>dcfc_fixed_parking_price</th>\n",
       "      <th>dcfc_var_parking_price_unit</th>\n",
       "      <th>dcfc_var_parking_price</th>\n",
       "      <th>level2_fixed_charging_price</th>\n",
       "      <th>level2_var_charging_price_unit</th>\n",
       "      <th>level2_var_charging_price</th>\n",
       "      <th>level2_fixed_parking_price</th>\n",
       "      <th>level2_var_parking_price_unit</th>\n",
       "      <th>level2_var_parking_price</th>\n",
       "      <th>connector_code</th>\n",
       "    </tr>\n",
       "  </thead>\n",
       "  <tbody>\n",
       "    <tr>\n",
       "      <th>0</th>\n",
       "      <td>48.370848</td>\n",
       "      <td>-118.768157</td>\n",
       "      <td>1</td>\n",
       "      <td>50</td>\n",
       "      <td>1</td>\n",
       "      <td>10</td>\n",
       "      <td>0.5</td>\n",
       "      <td>min</td>\n",
       "      <td>0.5</td>\n",
       "      <td>0.5</td>\n",
       "      <td>min</td>\n",
       "      <td>0.5</td>\n",
       "      <td>0.5</td>\n",
       "      <td>min</td>\n",
       "      <td>0.5</td>\n",
       "      <td>0.5</td>\n",
       "      <td>min</td>\n",
       "      <td>0.5</td>\n",
       "      <td>3</td>\n",
       "    </tr>\n",
       "  </tbody>\n",
       "</table>\n",
       "</div>"
      ],
      "text/plain": [
       "    latitude   longitude   dcfc_plug_count   dcfc_power   level2_plug_count  \\\n",
       "0  48.370848 -118.768157                 1           50                   1   \n",
       "\n",
       "    level2_power   dcfc_fixed_charging_price  dcfc_var_charging_price_unit  \\\n",
       "0             10                         0.5                           min   \n",
       "\n",
       "    dcfc_var_charging_price   dcfc_fixed_parking_price  \\\n",
       "0                       0.5                        0.5   \n",
       "\n",
       "   dcfc_var_parking_price_unit   dcfc_var_parking_price  \\\n",
       "0                          min                      0.5   \n",
       "\n",
       "    level2_fixed_charging_price  level2_var_charging_price_unit  \\\n",
       "0                           0.5                             min   \n",
       "\n",
       "    level2_var_charging_price   level2_fixed_parking_price  \\\n",
       "0                         0.5                          0.5   \n",
       "\n",
       "   level2_var_parking_price_unit   level2_var_parking_price   connector_code  \n",
       "0                            min                        0.5                3  "
      ]
     },
     "execution_count": 24,
     "metadata": {},
     "output_type": "execute_result"
    }
   ],
   "source": [
    "# The order of columns in the csv is important\n",
    "new_evse_scenario = pd.read_csv('new_evse_scenario.csv')\n",
    "new_evse_scenario"
   ]
  },
  {
   "cell_type": "code",
   "execution_count": 25,
   "metadata": {},
   "outputs": [
    {
     "data": {
      "text/plain": [
       "latitude                           float64\n",
       " longitude                         float64\n",
       " dcfc_plug_count                     int64\n",
       " dcfc_power                          int64\n",
       " level2_plug_count                   int64\n",
       " level2_power                        int64\n",
       " dcfc_fixed_charging_price         float64\n",
       " dcfc_var_charging_price_unit       object\n",
       " dcfc_var_charging_price           float64\n",
       " dcfc_fixed_parking_price          float64\n",
       " dcfc_var_parking_price_unit        object\n",
       " dcfc_var_parking_price            float64\n",
       " level2_fixed_charging_price       float64\n",
       " level2_var_charging_price_unit     object\n",
       " level2_var_charging_price         float64\n",
       " level2_fixed_parking_price        float64\n",
       " level2_var_parking_price_unit      object\n",
       " level2_var_parking_price          float64\n",
       " connector_code                      int64\n",
       "dtype: object"
      ]
     },
     "execution_count": 25,
     "metadata": {},
     "output_type": "execute_result"
    }
   ],
   "source": [
    "new_evse_scenario.dtypes"
   ]
  },
  {
   "cell_type": "code",
   "execution_count": 34,
   "metadata": {},
   "outputs": [],
   "source": [
    "new_evse_data = [tuple(row) for row in new_evse_scenario.itertuples(index=False)] "
   ]
  },
  {
   "cell_type": "code",
   "execution_count": 35,
   "metadata": {},
   "outputs": [],
   "source": [
    "sql_new_evse = \"\"\"INSERT INTO new_evses (latitude, longitude,\n",
    "                dcfc_plug_count, dcfc_power, level2_plug_count, level2_power,\n",
    "                dcfc_fixed_charging_price, dcfc_var_charging_price_unit,\n",
    "                dcfc_var_charging_price, dcfc_fixed_parking_price, dcfc_var_parking_price_unit,\n",
    "                dcfc_var_parking_price, level2_fixed_charging_price, level2_var_charging_price_unit,\n",
    "                level2_var_charging_price, level2_fixed_parking_price, level2_var_parking_price_unit,\n",
    "                level2_var_parking_price, connector_code) VALUES %s\"\"\""
   ]
  },
  {
   "cell_type": "code",
   "execution_count": 38,
   "metadata": {},
   "outputs": [],
   "source": [
    "# All these should be executed together as a transaction\n",
    "set_data = 'testing a new evse scenario using code'\n",
    "cur.execute(sql_set, (set_data, ))\n",
    "cur.execute(sql_analysis,  analysis_data)\n",
    "cur.execute(sql_user,  user_data)\n",
    "execute_values(cur, sql_params, params_data)\n",
    "if (len(new_evse_scenario.index) > 0):\n",
    "    execute_values(cur, sql_new_evse, new_evse_data)\n",
    "# use execute values with new evses by creating an array of tuples \n",
    "conn.commit()"
   ]
  },
  {
   "cell_type": "markdown",
   "metadata": {},
   "source": [
    "_____________________\n",
    "______________________"
   ]
  },
  {
   "cell_type": "markdown",
   "metadata": {},
   "source": [
    "### 4.3 Disabling chargers"
   ]
  },
  {
   "cell_type": "code",
   "execution_count": 16,
   "metadata": {},
   "outputs": [],
   "source": [
    "seeds = [123, 366, 495]\n",
    "disabled_charger_count = 10"
   ]
  },
  {
   "cell_type": "code",
   "execution_count": 25,
   "metadata": {},
   "outputs": [
    {
     "data": {
      "text/html": [
       "<div>\n",
       "<style scoped>\n",
       "    .dataframe tbody tr th:only-of-type {\n",
       "        vertical-align: middle;\n",
       "    }\n",
       "\n",
       "    .dataframe tbody tr th {\n",
       "        vertical-align: top;\n",
       "    }\n",
       "\n",
       "    .dataframe thead th {\n",
       "        text-align: right;\n",
       "    }\n",
       "</style>\n",
       "<table border=\"1\" class=\"dataframe\">\n",
       "  <thead>\n",
       "    <tr style=\"text-align: right;\">\n",
       "      <th></th>\n",
       "      <th>bevse_id</th>\n",
       "    </tr>\n",
       "  </thead>\n",
       "  <tbody>\n",
       "    <tr>\n",
       "      <th>0</th>\n",
       "      <td>39778.0</td>\n",
       "    </tr>\n",
       "    <tr>\n",
       "      <th>1</th>\n",
       "      <td>39780.0</td>\n",
       "    </tr>\n",
       "    <tr>\n",
       "      <th>2</th>\n",
       "      <td>39788.0</td>\n",
       "    </tr>\n",
       "    <tr>\n",
       "      <th>3</th>\n",
       "      <td>39789.0</td>\n",
       "    </tr>\n",
       "    <tr>\n",
       "      <th>4</th>\n",
       "      <td>39791.0</td>\n",
       "    </tr>\n",
       "    <tr>\n",
       "      <th>...</th>\n",
       "      <td>...</td>\n",
       "    </tr>\n",
       "    <tr>\n",
       "      <th>136</th>\n",
       "      <td>167523.0</td>\n",
       "    </tr>\n",
       "    <tr>\n",
       "      <th>137</th>\n",
       "      <td>167562.0</td>\n",
       "    </tr>\n",
       "    <tr>\n",
       "      <th>138</th>\n",
       "      <td>167758.0</td>\n",
       "    </tr>\n",
       "    <tr>\n",
       "      <th>139</th>\n",
       "      <td>168082.0</td>\n",
       "    </tr>\n",
       "    <tr>\n",
       "      <th>140</th>\n",
       "      <td>168088.0</td>\n",
       "    </tr>\n",
       "  </tbody>\n",
       "</table>\n",
       "<p>141 rows × 1 columns</p>\n",
       "</div>"
      ],
      "text/plain": [
       "     bevse_id\n",
       "0     39778.0\n",
       "1     39780.0\n",
       "2     39788.0\n",
       "3     39789.0\n",
       "4     39791.0\n",
       "..        ...\n",
       "136  167523.0\n",
       "137  167562.0\n",
       "138  167758.0\n",
       "139  168082.0\n",
       "140  168088.0\n",
       "\n",
       "[141 rows x 1 columns]"
      ]
     },
     "execution_count": 25,
     "metadata": {},
     "output_type": "execute_result"
    }
   ],
   "source": [
    "sql_bevse_id = \"\"\"select bevse_id from built_evse where dcfc_count >= 1 and in_service = 'true' and connector_code IN (1, 2, 3);\"\"\"\n",
    "bevse_ids = pd.read_sql_query(sql=sql_bevse_id, con=conn, params=())\n",
    "bevse_ids"
   ]
  },
  {
   "cell_type": "code",
   "execution_count": 34,
   "metadata": {},
   "outputs": [],
   "source": [
    "sql_set = 'INSERT INTO analysis_sets (description) VALUES (%s);'"
   ]
  },
  {
   "cell_type": "code",
   "execution_count": 35,
   "metadata": {},
   "outputs": [],
   "source": [
    "sql_analysis = 'INSERT INTO analysis_record (user_id, status, include_tesla) VALUES (%s, %s, %s);'\n",
    "analysis_data = (os.getenv(\"AUTH0_USERID\"), 'inserted', 'FALSE')"
   ]
  },
  {
   "cell_type": "code",
   "execution_count": 36,
   "metadata": {},
   "outputs": [],
   "source": [
    "sql_user = 'INSERT INTO user_details (user_id, user_name, email_id) VALUES (%s, %s, %s) ON CONFLICT (user_id) DO UPDATE SET last_submit_date = NOW();'\n",
    "user_data = (os.getenv(\"AUTH0_USERID\"), os.getenv(\"AUTH0_USERNAME\"), os.getenv(\"AUTH0_EMAIL\"))"
   ]
  },
  {
   "cell_type": "code",
   "execution_count": 37,
   "metadata": {},
   "outputs": [],
   "source": [
    "sql_params = 'INSERT INTO analysis_params (param_id, param_value) VALUES %s'\n",
    "params_data = [(1, '123' ),(2, '70' ),(14, '10' ),(3, '80' ),(4, '100' ),(9, '40' ),(10, '50' ),(11, '25' ),(12, '23' ),(13, '20' ), (15, '1' ), ( 16, '10' ), (17, '80' ), (18, '0' ), (19, '60' ), (20, '20' ), (21, '200' )]"
   ]
  },
  {
   "cell_type": "code",
   "execution_count": 55,
   "metadata": {},
   "outputs": [],
   "source": [
    "sql_bevse_subset = '''select bevse_id, longitude, latitude, connector_code, dcfc_count, dcfc_fixed_charging_price, dcfc_var_charging_price_unit, dcfc_var_charging_price, dcfc_fixed_parking_price, dcfc_var_parking_price_unit, dcfc_var_parking_price from built_evse where dcfc_count >= 1 and in_service = 'true' and connector_code IN (1, 2, 3) and bevse_id NOT IN %s '''"
   ]
  },
  {
   "cell_type": "code",
   "execution_count": null,
   "metadata": {},
   "outputs": [],
   "source": [
    "sql_evses_now = 'INSERT INTO evses_now (evse_id, latitude, longitude, dcfc_plug_count)'"
   ]
  },
  {
   "cell_type": "code",
   "execution_count": 59,
   "metadata": {},
   "outputs": [
    {
     "name": "stdout",
     "output_type": "stream",
     "text": [
      "[44, 2, 10, 65, 6, 96, 31, 95, 37, 122]\n",
      "[93550.0, 39788.0, 65859.0, 99282.0, 61030.0, 143215.0, 92487.0, 143212.0, 93339.0, 154419.0]\n",
      "       evse_id   longitude   latitude  connector_code  dcfc_count  \\\n",
      "0     b39778.0 -122.454132  48.755607             1.0         1.0   \n",
      "1     b39780.0 -122.333257  47.458466             1.0         1.0   \n",
      "2     b39789.0 -122.294997  47.207367             1.0         1.0   \n",
      "3     b39791.0 -122.218800  47.448354             1.0         1.0   \n",
      "4     b39796.0 -117.312518  47.657264             1.0         1.0   \n",
      "..         ...         ...        ...             ...         ...   \n",
      "126  b167523.0 -118.861160  46.659027             3.0         2.0   \n",
      "127  b167562.0 -122.104565  47.671794             3.0         3.0   \n",
      "128  b167758.0 -122.297569  47.155976             3.0         4.0   \n",
      "129  b168082.0 -122.151151  47.754220             3.0         4.0   \n",
      "130  b168088.0 -122.512304  48.789282             3.0         4.0   \n",
      "\n",
      "     dcfc_fixed_charging_price dcfc_var_charging_price_unit  \\\n",
      "0                          0.0                          min   \n",
      "1                          0.0                          min   \n",
      "2                          0.0                          min   \n",
      "3                          0.0                          min   \n",
      "4                          0.0                          min   \n",
      "..                         ...                          ...   \n",
      "126                        0.0                                \n",
      "127                        0.0                                \n",
      "128                        0.0                                \n",
      "129                        0.0                                \n",
      "130                        0.0                                \n",
      "\n",
      "     dcfc_var_charging_price  dcfc_fixed_parking_price  \\\n",
      "0                        0.0                       0.0   \n",
      "1                        0.0                       0.0   \n",
      "2                        0.0                       0.0   \n",
      "3                        0.0                       0.0   \n",
      "4                        0.0                       0.0   \n",
      "..                       ...                       ...   \n",
      "126                      0.0                       0.0   \n",
      "127                      0.0                       0.0   \n",
      "128                      0.0                       0.0   \n",
      "129                      0.0                       0.0   \n",
      "130                      0.0                       0.0   \n",
      "\n",
      "    dcfc_var_parking_price_unit  dcfc_var_parking_price  \n",
      "0                           min                     0.0  \n",
      "1                           min                     0.0  \n",
      "2                           min                     0.0  \n",
      "3                           min                     0.0  \n",
      "4                           min                     0.0  \n",
      "..                          ...                     ...  \n",
      "126                                                 0.0  \n",
      "127                                                 0.0  \n",
      "128                                                 0.0  \n",
      "129                                                 0.0  \n",
      "130                                                 0.0  \n",
      "\n",
      "[131 rows x 11 columns]\n",
      "[6, 94, 47, 105, 33, 120, 127, 102, 27, 113]\n",
      "[61030.0, 143152.0, 95368.0, 144090.0, 93038.0, 153616.0, 156215.0, 143970.0, 78795.0, 147648.0]\n",
      "       evse_id   longitude   latitude  connector_code  dcfc_count  \\\n",
      "0     b39778.0 -122.454132  48.755607             1.0         1.0   \n",
      "1     b39780.0 -122.333257  47.458466             1.0         1.0   \n",
      "2     b39788.0 -123.342273  48.102863             1.0         1.0   \n",
      "3     b39789.0 -122.294997  47.207367             1.0         1.0   \n",
      "4     b39791.0 -122.218800  47.448354             1.0         1.0   \n",
      "..         ...         ...        ...             ...         ...   \n",
      "126  b167523.0 -118.861160  46.659027             3.0         2.0   \n",
      "127  b167562.0 -122.104565  47.671794             3.0         3.0   \n",
      "128  b167758.0 -122.297569  47.155976             3.0         4.0   \n",
      "129  b168082.0 -122.151151  47.754220             3.0         4.0   \n",
      "130  b168088.0 -122.512304  48.789282             3.0         4.0   \n",
      "\n",
      "     dcfc_fixed_charging_price dcfc_var_charging_price_unit  \\\n",
      "0                          0.0                          min   \n",
      "1                          0.0                          min   \n",
      "2                          0.0                          min   \n",
      "3                          0.0                          min   \n",
      "4                          0.0                          min   \n",
      "..                         ...                          ...   \n",
      "126                        0.0                                \n",
      "127                        0.0                                \n",
      "128                        0.0                                \n",
      "129                        0.0                                \n",
      "130                        0.0                                \n",
      "\n",
      "     dcfc_var_charging_price  dcfc_fixed_parking_price  \\\n",
      "0                        0.0                       0.0   \n",
      "1                        0.0                       0.0   \n",
      "2                        0.0                       0.0   \n",
      "3                        0.0                       0.0   \n",
      "4                        0.0                       0.0   \n",
      "..                       ...                       ...   \n",
      "126                      0.0                       0.0   \n",
      "127                      0.0                       0.0   \n",
      "128                      0.0                       0.0   \n",
      "129                      0.0                       0.0   \n",
      "130                      0.0                       0.0   \n",
      "\n",
      "    dcfc_var_parking_price_unit  dcfc_var_parking_price  \n",
      "0                           min                     0.0  \n",
      "1                           min                     0.0  \n",
      "2                           min                     0.0  \n",
      "3                           min                     0.0  \n",
      "4                           min                     0.0  \n",
      "..                          ...                     ...  \n",
      "126                                                 0.0  \n",
      "127                                                 0.0  \n",
      "128                                                 0.0  \n",
      "129                                                 0.0  \n",
      "130                                                 0.0  \n",
      "\n",
      "[131 rows x 11 columns]\n",
      "[87, 27, 82, 99, 124, 56, 32, 22, 16, 102]\n",
      "[123479.0, 78795.0, 121709.0, 143835.0, 155325.0, 96763.0, 93034.0, 74196.0, 65869.0, 143970.0]\n",
      "       evse_id   longitude   latitude  connector_code  dcfc_count  \\\n",
      "0     b39778.0 -122.454132  48.755607             1.0         1.0   \n",
      "1     b39780.0 -122.333257  47.458466             1.0         1.0   \n",
      "2     b39788.0 -123.342273  48.102863             1.0         1.0   \n",
      "3     b39789.0 -122.294997  47.207367             1.0         1.0   \n",
      "4     b39791.0 -122.218800  47.448354             1.0         1.0   \n",
      "..         ...         ...        ...             ...         ...   \n",
      "126  b167523.0 -118.861160  46.659027             3.0         2.0   \n",
      "127  b167562.0 -122.104565  47.671794             3.0         3.0   \n",
      "128  b167758.0 -122.297569  47.155976             3.0         4.0   \n",
      "129  b168082.0 -122.151151  47.754220             3.0         4.0   \n",
      "130  b168088.0 -122.512304  48.789282             3.0         4.0   \n",
      "\n",
      "     dcfc_fixed_charging_price dcfc_var_charging_price_unit  \\\n",
      "0                          0.0                          min   \n",
      "1                          0.0                          min   \n",
      "2                          0.0                          min   \n",
      "3                          0.0                          min   \n",
      "4                          0.0                          min   \n",
      "..                         ...                          ...   \n",
      "126                        0.0                                \n",
      "127                        0.0                                \n",
      "128                        0.0                                \n",
      "129                        0.0                                \n",
      "130                        0.0                                \n",
      "\n",
      "     dcfc_var_charging_price  dcfc_fixed_parking_price  \\\n",
      "0                        0.0                       0.0   \n",
      "1                        0.0                       0.0   \n",
      "2                        0.0                       0.0   \n",
      "3                        0.0                       0.0   \n",
      "4                        0.0                       0.0   \n",
      "..                       ...                       ...   \n",
      "126                      0.0                       0.0   \n",
      "127                      0.0                       0.0   \n",
      "128                      0.0                       0.0   \n",
      "129                      0.0                       0.0   \n",
      "130                      0.0                       0.0   \n",
      "\n",
      "    dcfc_var_parking_price_unit  dcfc_var_parking_price  \n",
      "0                           min                     0.0  \n",
      "1                           min                     0.0  \n",
      "2                           min                     0.0  \n",
      "3                           min                     0.0  \n",
      "4                           min                     0.0  \n",
      "..                          ...                     ...  \n",
      "126                                                 0.0  \n",
      "127                                                 0.0  \n",
      "128                                                 0.0  \n",
      "129                                                 0.0  \n",
      "130                                                 0.0  \n",
      "\n",
      "[131 rows x 11 columns]\n"
     ]
    }
   ],
   "source": [
    "################### The following will launch 3 sims with varying disabled chargers \n",
    "#######################################################################\n",
    "create_new_set = True # a boolean to encode whether to create a new set for this analysis request or add this to the previous one \n",
    "number_of_sims = len(seeds) # launch five sims\n",
    "\n",
    "for i in range(0, number_of_sims): \n",
    "    seed = seeds[i]\n",
    "    disable_bevse_ids = []\n",
    "    rints = random.sample(range(len(bevse_ids)), disabled_charger_count)\n",
    "    print(rints)\n",
    "    disable_bevse_ids = bevse_ids['bevse_id'].take(rints)\n",
    "    # for j in range(0, disabled_charger_count):\n",
    "    #    rint = random.randint(0, len(bevse_ids) - 1)\n",
    "    #    rbevse_id = bevse_ids['bevse_id'][rint]\n",
    "    #    disable_bevse_ids.append(rbevse_id)\n",
    "    print(disable_bevse_ids.tolist())\n",
    "    # get evses that have not been disabled\n",
    "    bevses_subset = pd.read_sql_query(sql=sql_bevse_subset, con=conn, params=(tuple(disable_bevse_ids.tolist()),))\n",
    "    # Rename columns and add 'b' to id\n",
    "    bevses_subset.rename(columns={\"bevse_id\": \"evse_id\"}, inplace=True)\n",
    "    bevses_subset['evse_id'] = 'b' + bevses_subset['evse_id'].astype(str)\n",
    "    print(bevses_subset)\n",
    "    for index, row in bevses_subset.iterrows():\n",
    "        \n",
    "    if(create_new_set):\n",
    "        set_data = 'Testing the effect of disabling chargers'\n",
    "        # cur.execute(sql_set, (set_data, ))\n",
    "    # cur.execute(sql_analysis,  analysis_data)\n",
    "    # cur.execute(sql_user,  user_data)\n",
    "    # change the seed \n",
    "    params_data.pop(0) # remove the current list element for parameter 'global_seed' (param_id = 1)\n",
    "    params_data.insert(0, (1, str(seed)))\n",
    "    # execute_values(cur, sql_params, params_data)\n",
    "    \n",
    "    create_new_set = False # since the next 4 simulations belong to the same set\n",
    "    # conn.commit()"
   ]
  },
  {
   "cell_type": "code",
   "execution_count": null,
   "metadata": {},
   "outputs": [],
   "source": []
  }
 ],
 "metadata": {
  "kernelspec": {
   "display_name": "Python 3",
   "language": "python",
   "name": "python3"
  },
  "language_info": {
   "codemirror_mode": {
    "name": "ipython",
    "version": 3
   },
   "file_extension": ".py",
   "mimetype": "text/x-python",
   "name": "python",
   "nbconvert_exporter": "python",
   "pygments_lexer": "ipython3",
   "version": "3.8.5"
  }
 },
 "nbformat": 4,
 "nbformat_minor": 4
}
