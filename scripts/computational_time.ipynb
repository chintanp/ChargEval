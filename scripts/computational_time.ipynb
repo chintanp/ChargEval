{
 "cells": [
  {
   "cell_type": "markdown",
   "metadata": {},
   "source": [
    "## Computation Time\n",
    "\n",
    "This jupyter notebook creates plots to study the impact of EVs on computational time"
   ]
  },
  {
   "cell_type": "markdown",
   "metadata": {},
   "source": [
    "### 0. Analysis IDs to compare"
   ]
  },
  {
   "cell_type": "code",
   "execution_count": 1,
   "metadata": {},
   "outputs": [],
   "source": [
    "# Define the analysis_ids that we want to compare\n",
    "analysis_ids = (162, 163)"
   ]
  },
  {
   "cell_type": "markdown",
   "metadata": {},
   "source": [
    "### 1. Package Installs"
   ]
  },
  {
   "cell_type": "code",
   "execution_count": 2,
   "metadata": {},
   "outputs": [],
   "source": [
    "# python-dtenv to read the env variables\n",
    "#!pip install python-dotenv"
   ]
  },
  {
   "cell_type": "code",
   "execution_count": 3,
   "metadata": {},
   "outputs": [],
   "source": [
    "# Seaborn for plotting\n",
    "#!pip install seaborn"
   ]
  },
  {
   "cell_type": "code",
   "execution_count": 4,
   "metadata": {},
   "outputs": [],
   "source": [
    "# Plotly for plotting \n",
    "#!pip install plotly"
   ]
  },
  {
   "cell_type": "code",
   "execution_count": 5,
   "metadata": {},
   "outputs": [],
   "source": [
    "import pandas as pd\n",
    "import seaborn as sns\n",
    "import matplotlib.pyplot as plt\n",
    "from dotenv import load_dotenv\n",
    "from pathlib import Path  # Python 3.6+ only\n",
    "import os\n",
    "import psycopg2\n",
    "from plotly import graph_objects as go\n",
    "from plotly.subplots import make_subplots\n",
    "import plotly.express as px"
   ]
  },
  {
   "cell_type": "markdown",
   "metadata": {},
   "source": [
    "### 2. Environment Variables"
   ]
  },
  {
   "cell_type": "code",
   "execution_count": 6,
   "metadata": {},
   "outputs": [
    {
     "data": {
      "text/plain": [
       "True"
      ]
     },
     "execution_count": 6,
     "metadata": {},
     "output_type": "execute_result"
    }
   ],
   "source": [
    "# Load the environment variables\n",
    "env_path = Path('..') / '.env'\n",
    "load_dotenv(dotenv_path=env_path)"
   ]
  },
  {
   "cell_type": "code",
   "execution_count": 7,
   "metadata": {},
   "outputs": [
    {
     "data": {
      "text/plain": [
       "'chargeval_dev'"
      ]
     },
     "execution_count": 7,
     "metadata": {},
     "output_type": "execute_result"
    }
   ],
   "source": [
    "# Print this to see if the env variables are read now\n",
    "os.getenv(\"COMPOSE_PROJECT_NAME\")"
   ]
  },
  {
   "cell_type": "markdown",
   "metadata": {},
   "source": [
    "### 3. Database connection"
   ]
  },
  {
   "cell_type": "code",
   "execution_count": 8,
   "metadata": {},
   "outputs": [],
   "source": [
    "# Generic function to test the connection to the database\n",
    "def connect():\n",
    "    \"\"\" Connect to the PostgreSQL database server \"\"\"\n",
    "    conn = None\n",
    "    try:\n",
    "\n",
    "        # connect to the PostgreSQL server\n",
    "        print('Connecting to the PostgreSQL database...')\n",
    "        conn = psycopg2.connect(    \n",
    "            host=os.getenv(\"MAIN_HOST\"),\n",
    "            database=os.getenv(\"MAIN_DB\"),\n",
    "            user=os.getenv(\"DBREAD_USER\"),\n",
    "            password=os.getenv(\"DBREAD_PWD\"), \n",
    "            port = os.getenv(\"MAIN_PORT\")\n",
    "        )\n",
    "\t\t\n",
    "        # create a cursor\n",
    "        cur = conn.cursor()\n",
    "        \n",
    "\t# execute a statement\n",
    "        print('PostgreSQL database version:')\n",
    "        cur.execute('SELECT version()')\n",
    "\n",
    "        # display the PostgreSQL database server version\n",
    "        db_version = cur.fetchone()\n",
    "        print(db_version)\n",
    "       \n",
    "\t# close the communication with the PostgreSQL\n",
    "        cur.close()\n",
    "    except (Exception, psycopg2.DatabaseError) as error:\n",
    "        print(error)\n",
    "    finally:\n",
    "        if conn is not None:\n",
    "            conn.close()\n",
    "            print('Database connection closed.')"
   ]
  },
  {
   "cell_type": "code",
   "execution_count": 9,
   "metadata": {},
   "outputs": [
    {
     "name": "stdout",
     "output_type": "stream",
     "text": [
      "Connecting to the PostgreSQL database...\n",
      "PostgreSQL database version:\n",
      "('PostgreSQL 12.5 on x86_64-pc-linux-gnu, compiled by gcc (GCC) 4.8.5 20150623 (Red Hat 4.8.5-11), 64-bit',)\n",
      "Database connection closed.\n"
     ]
    }
   ],
   "source": [
    "# Make the test database connection\n",
    "connect()"
   ]
  },
  {
   "cell_type": "code",
   "execution_count": 10,
   "metadata": {},
   "outputs": [],
   "source": [
    "conn = psycopg2.connect(    \n",
    "    host=os.getenv(\"MAIN_HOST\"),\n",
    "    database=os.getenv(\"MAIN_DB\"),\n",
    "    user=os.getenv(\"DBREAD_USER\"),\n",
    "    password=os.getenv(\"DBREAD_PWD\"), \n",
    "    port = os.getenv(\"MAIN_PORT\")\n",
    ")\n",
    "\n",
    "# create a cursor\n",
    "cur = conn.cursor()"
   ]
  },
  {
   "cell_type": "markdown",
   "metadata": {},
   "source": [
    "### 4. Database queries"
   ]
  },
  {
   "cell_type": "code",
   "execution_count": 14,
   "metadata": {},
   "outputs": [
    {
     "data": {
      "text/html": [
       "<div>\n",
       "<style scoped>\n",
       "    .dataframe tbody tr th:only-of-type {\n",
       "        vertical-align: middle;\n",
       "    }\n",
       "\n",
       "    .dataframe tbody tr th {\n",
       "        vertical-align: top;\n",
       "    }\n",
       "\n",
       "    .dataframe thead th {\n",
       "        text-align: right;\n",
       "    }\n",
       "</style>\n",
       "<table border=\"1\" class=\"dataframe\">\n",
       "  <thead>\n",
       "    <tr style=\"text-align: right;\">\n",
       "      <th></th>\n",
       "      <th>start_time</th>\n",
       "      <th>aid</th>\n",
       "      <th>end_time_tripgen</th>\n",
       "      <th>action_tstamp_tx</th>\n",
       "      <th>ev_count</th>\n",
       "      <th>time_taken_tripgen</th>\n",
       "      <th>time_taken_eviabm</th>\n",
       "    </tr>\n",
       "  </thead>\n",
       "  <tbody>\n",
       "    <tr>\n",
       "      <th>0</th>\n",
       "      <td>2020-08-16 07:12:12.244418+00:00</td>\n",
       "      <td>57</td>\n",
       "      <td>2020-08-16 07:18:57.795066+00:00</td>\n",
       "      <td>2020-08-22 21:37:57.954841+00:00</td>\n",
       "      <td># EV: 1201</td>\n",
       "      <td>6.0</td>\n",
       "      <td>9499.0</td>\n",
       "    </tr>\n",
       "    <tr>\n",
       "      <th>1</th>\n",
       "      <td>2020-08-17 22:29:04.973577+00:00</td>\n",
       "      <td>60</td>\n",
       "      <td>2020-08-17 22:36:30.877933+00:00</td>\n",
       "      <td>2020-08-23 07:05:51.762363+00:00</td>\n",
       "      <td># EV: 1146</td>\n",
       "      <td>7.0</td>\n",
       "      <td>7709.0</td>\n",
       "    </tr>\n",
       "    <tr>\n",
       "      <th>2</th>\n",
       "      <td>2020-08-18 05:57:50.040039+00:00</td>\n",
       "      <td>67</td>\n",
       "      <td>2020-08-18 06:06:09.875607+00:00</td>\n",
       "      <td>2020-08-24 04:06:52.607810+00:00</td>\n",
       "      <td># EV: 1139</td>\n",
       "      <td>8.0</td>\n",
       "      <td>8520.0</td>\n",
       "    </tr>\n",
       "    <tr>\n",
       "      <th>3</th>\n",
       "      <td>2020-08-20 19:58:34.950347+00:00</td>\n",
       "      <td>70</td>\n",
       "      <td>2020-08-20 20:06:50.958464+00:00</td>\n",
       "      <td>2020-08-26 16:31:10.735190+00:00</td>\n",
       "      <td># EV: 1302</td>\n",
       "      <td>8.0</td>\n",
       "      <td>8424.0</td>\n",
       "    </tr>\n",
       "    <tr>\n",
       "      <th>4</th>\n",
       "      <td>2020-08-25 18:06:52.133531+00:00</td>\n",
       "      <td>71</td>\n",
       "      <td>2020-08-25 18:17:33.929126+00:00</td>\n",
       "      <td>2020-08-27 05:23:16.715010+00:00</td>\n",
       "      <td># EV: 1302</td>\n",
       "      <td>10.0</td>\n",
       "      <td>2105.0</td>\n",
       "    </tr>\n",
       "    <tr>\n",
       "      <th>...</th>\n",
       "      <td>...</td>\n",
       "      <td>...</td>\n",
       "      <td>...</td>\n",
       "      <td>...</td>\n",
       "      <td>...</td>\n",
       "      <td>...</td>\n",
       "      <td>...</td>\n",
       "    </tr>\n",
       "    <tr>\n",
       "      <th>294</th>\n",
       "      <td>2021-03-03 17:53:18.687592+00:00</td>\n",
       "      <td>450</td>\n",
       "      <td>2021-03-03 19:23:37.960528+00:00</td>\n",
       "      <td>2021-03-03 23:14:36.072073+00:00</td>\n",
       "      <td># EV: 915</td>\n",
       "      <td>90.0</td>\n",
       "      <td>230.0</td>\n",
       "    </tr>\n",
       "    <tr>\n",
       "      <th>295</th>\n",
       "      <td>2021-03-03 17:53:54.275461+00:00</td>\n",
       "      <td>452</td>\n",
       "      <td>2021-03-03 19:24:21.744338+00:00</td>\n",
       "      <td>2021-03-03 23:27:49.357542+00:00</td>\n",
       "      <td># EV: 900</td>\n",
       "      <td>90.0</td>\n",
       "      <td>243.0</td>\n",
       "    </tr>\n",
       "    <tr>\n",
       "      <th>296</th>\n",
       "      <td>2021-03-03 17:54:20.846145+00:00</td>\n",
       "      <td>454</td>\n",
       "      <td>2021-03-03 19:25:59.116426+00:00</td>\n",
       "      <td>2021-03-03 23:06:29.150673+00:00</td>\n",
       "      <td># EV: 886</td>\n",
       "      <td>91.0</td>\n",
       "      <td>220.0</td>\n",
       "    </tr>\n",
       "    <tr>\n",
       "      <th>297</th>\n",
       "      <td>2021-03-04 01:34:18.380897+00:00</td>\n",
       "      <td>459</td>\n",
       "      <td>2021-03-04 02:42:46.999587+00:00</td>\n",
       "      <td>2021-03-04 06:08:04.247369+00:00</td>\n",
       "      <td># EV: 890</td>\n",
       "      <td>68.0</td>\n",
       "      <td>205.0</td>\n",
       "    </tr>\n",
       "    <tr>\n",
       "      <th>298</th>\n",
       "      <td>2021-03-04 01:33:06.678523+00:00</td>\n",
       "      <td>458</td>\n",
       "      <td>2021-03-04 02:49:38.466133+00:00</td>\n",
       "      <td>2021-03-04 06:32:00.230986+00:00</td>\n",
       "      <td># EV: 871</td>\n",
       "      <td>76.0</td>\n",
       "      <td>222.0</td>\n",
       "    </tr>\n",
       "  </tbody>\n",
       "</table>\n",
       "<p>299 rows × 7 columns</p>\n",
       "</div>"
      ],
      "text/plain": [
       "                          start_time  aid                 end_time_tripgen  \\\n",
       "0   2020-08-16 07:12:12.244418+00:00   57 2020-08-16 07:18:57.795066+00:00   \n",
       "1   2020-08-17 22:29:04.973577+00:00   60 2020-08-17 22:36:30.877933+00:00   \n",
       "2   2020-08-18 05:57:50.040039+00:00   67 2020-08-18 06:06:09.875607+00:00   \n",
       "3   2020-08-20 19:58:34.950347+00:00   70 2020-08-20 20:06:50.958464+00:00   \n",
       "4   2020-08-25 18:06:52.133531+00:00   71 2020-08-25 18:17:33.929126+00:00   \n",
       "..                               ...  ...                              ...   \n",
       "294 2021-03-03 17:53:18.687592+00:00  450 2021-03-03 19:23:37.960528+00:00   \n",
       "295 2021-03-03 17:53:54.275461+00:00  452 2021-03-03 19:24:21.744338+00:00   \n",
       "296 2021-03-03 17:54:20.846145+00:00  454 2021-03-03 19:25:59.116426+00:00   \n",
       "297 2021-03-04 01:34:18.380897+00:00  459 2021-03-04 02:42:46.999587+00:00   \n",
       "298 2021-03-04 01:33:06.678523+00:00  458 2021-03-04 02:49:38.466133+00:00   \n",
       "\n",
       "                    action_tstamp_tx    ev_count  time_taken_tripgen  \\\n",
       "0   2020-08-22 21:37:57.954841+00:00  # EV: 1201                 6.0   \n",
       "1   2020-08-23 07:05:51.762363+00:00  # EV: 1146                 7.0   \n",
       "2   2020-08-24 04:06:52.607810+00:00  # EV: 1139                 8.0   \n",
       "3   2020-08-26 16:31:10.735190+00:00  # EV: 1302                 8.0   \n",
       "4   2020-08-27 05:23:16.715010+00:00  # EV: 1302                10.0   \n",
       "..                               ...         ...                 ...   \n",
       "294 2021-03-03 23:14:36.072073+00:00   # EV: 915                90.0   \n",
       "295 2021-03-03 23:27:49.357542+00:00   # EV: 900                90.0   \n",
       "296 2021-03-03 23:06:29.150673+00:00   # EV: 886                91.0   \n",
       "297 2021-03-04 06:08:04.247369+00:00   # EV: 890                68.0   \n",
       "298 2021-03-04 06:32:00.230986+00:00   # EV: 871                76.0   \n",
       "\n",
       "     time_taken_eviabm  \n",
       "0               9499.0  \n",
       "1               7709.0  \n",
       "2               8520.0  \n",
       "3               8424.0  \n",
       "4               2105.0  \n",
       "..                 ...  \n",
       "294              230.0  \n",
       "295              243.0  \n",
       "296              220.0  \n",
       "297              205.0  \n",
       "298              222.0  \n",
       "\n",
       "[299 rows x 7 columns]"
      ]
     },
     "execution_count": 14,
     "metadata": {},
     "output_type": "execute_result"
    }
   ],
   "source": [
    "sql_count_stats = \"\"\"select lai.action_tstamp_tx                                                   as start_time,\n",
    "       lau.aid,\n",
    "       lau.action_tstamp_tx                                                   as end_time_tripgen,\n",
    "       las.action_tstamp_tx,\n",
    "       '# EV: ' || es.ev_count as ev_count,\n",
    "           ((DATE_PART('day', lau.action_tstamp_tx - lai.action_tstamp_tx) * 24 +\n",
    "             DATE_PART('hour', lau.action_tstamp_tx - lai.action_tstamp_tx)) * 60 +\n",
    "            DATE_PART('minute', lau.action_tstamp_tx - lai.action_tstamp_tx)) as time_taken_tripgen,\n",
    "       ((DATE_PART('day', las.action_tstamp_tx - lau.action_tstamp_tx) * 24 +\n",
    "         DATE_PART('hour', las.action_tstamp_tx - lau.action_tstamp_tx)) * 60 +\n",
    "        DATE_PART('minute', las.action_tstamp_tx - lau.action_tstamp_tx))     as time_taken_eviabm\n",
    "from audit.logged_actions lai\n",
    "         join (select action_tstamp_tx, action, row_data -> 'analysis_id' as aid\n",
    "               from audit.logged_actions\n",
    "               where action = 'U'\n",
    "                 and changed_fields -> 'status' LIKE 'trips_generated') as lau\n",
    "              on lau.aid = lai.row_data -> 'analysis_id'\n",
    "         join (select action_tstamp_tx, action, row_data -> 'analysis_id' as aid\n",
    "               from audit.logged_actions\n",
    "               where action = 'U'\n",
    "                 and changed_fields -> 'status' LIKE 'solved') as las\n",
    "              on las.aid = lai.row_data -> 'analysis_id'\n",
    "         join (select count(veh_id) as ev_count, analysis_id from public.evtrip_scenarios group by analysis_id) as es\n",
    "              on es.analysis_id = (lai.row_data -> 'analysis_id')::int\n",
    "where lai.action = 'I'\n",
    ";\"\"\"\n",
    "data = '|'.join(map(str,analysis_ids))\n",
    "count_stats = pd.read_sql_query(sql=sql_count_stats, con=conn, params=())\n",
    "count_stats"
   ]
  },
  {
   "cell_type": "markdown",
   "metadata": {},
   "source": [
    "### 5. Plotting"
   ]
  },
  {
   "cell_type": "markdown",
   "metadata": {},
   "source": [
    "#### 5.1 Time taken trigen"
   ]
  },
  {
   "cell_type": "code",
   "execution_count": 15,
   "metadata": {},
   "outputs": [
    {
     "data": {
      "text/plain": [
       "0      # EV: 1201\n",
       "1      # EV: 1146\n",
       "2      # EV: 1139\n",
       "3      # EV: 1302\n",
       "4      # EV: 1302\n",
       "          ...    \n",
       "294     # EV: 915\n",
       "295     # EV: 900\n",
       "296     # EV: 886\n",
       "297     # EV: 890\n",
       "298     # EV: 871\n",
       "Name: ev_count, Length: 299, dtype: object"
      ]
     },
     "execution_count": 15,
     "metadata": {},
     "output_type": "execute_result"
    }
   ],
   "source": [
    "count_stats['ev_count']"
   ]
  },
  {
   "cell_type": "code",
   "execution_count": 19,
   "metadata": {},
   "outputs": [
    {
     "data": {
      "application/vnd.plotly.v1+json": {
       "config": {
        "plotlyServerURL": "https://plot.ly"
       },
       "data": [
        {
         "text": [
          "# EV: 1201",
          "# EV: 1146",
          "# EV: 1139",
          "# EV: 1302",
          "# EV: 1302",
          "# EV: 1302",
          "# EV: 1302",
          "# EV: 1327",
          "# EV: 1305",
          "# EV: 1320",
          "# EV: 1321",
          "# EV: 1305",
          "# EV: 1336",
          "# EV: 1330",
          "# EV: 1305",
          "# EV: 1333",
          "# EV: 1337",
          "# EV: 1310",
          "# EV: 1305",
          "# EV: 1305",
          "# EV: 1305",
          "# EV: 1305",
          "# EV: 1305",
          "# EV: 1355",
          "# EV: 1154",
          "# EV: 1154",
          "# EV: 1176",
          "# EV: 1136",
          "# EV: 1136",
          "# EV: 1241",
          "# EV: 1136",
          "# EV: 1248",
          "# EV: 1136",
          "# EV: 1265",
          "# EV: 1136",
          "# EV: 1252",
          "# EV: 1136",
          "# EV: 1222",
          "# EV: 1136",
          "# EV: 1129",
          "# EV: 1154",
          "# EV: 1136",
          "# EV: 1094",
          "# EV: 1125",
          "# EV: 1129",
          "# EV: 1136",
          "# EV: 1125",
          "# EV: 1094",
          "# EV: 1157",
          "# EV: 1136",
          "# EV: 1136",
          "# EV: 1164",
          "# EV: 1136",
          "# EV: 1136",
          "# EV: 1125",
          "# EV: 533",
          "# EV: 591",
          "# EV: 1188",
          "# EV: 1136",
          "# EV: 1214",
          "# EV: 1136",
          "# EV: 1125",
          "# EV: 1201",
          "# EV: 1136",
          "# EV: 1136",
          "# EV: 1125",
          "# EV: 1176",
          "# EV: 1136",
          "# EV: 1136",
          "# EV: 1136",
          "# EV: 1136",
          "# EV: 1158",
          "# EV: 1158",
          "# EV: 1136",
          "# EV: 1136",
          "# EV: 1132",
          "# EV: 1132",
          "# EV: 1136",
          "# EV: 1136",
          "# EV: 1136",
          "# EV: 1136",
          "# EV: 1136",
          "# EV: 1136",
          "# EV: 1136",
          "# EV: 1136",
          "# EV: 1212",
          "# EV: 1212",
          "# EV: 1136",
          "# EV: 1136",
          "# EV: 1140",
          "# EV: 1141",
          "# EV: 1136",
          "# EV: 1136",
          "# EV: 1141",
          "# EV: 1140",
          "# EV: 1136",
          "# EV: 1141",
          "# EV: 1138",
          "# EV: 1136",
          "# EV: 1136",
          "# EV: 1136",
          "# EV: 1136",
          "# EV: 1136",
          "# EV: 1141",
          "# EV: 1141",
          "# EV: 1141",
          "# EV: 1141",
          "# EV: 1141",
          "# EV: 1141",
          "# EV: 1141",
          "# EV: 1136",
          "# EV: 1136",
          "# EV: 1161",
          "# EV: 1161",
          "# EV: 1136",
          "# EV: 1136",
          "# EV: 1172",
          "# EV: 1172",
          "# EV: 1136",
          "# EV: 1136",
          "# EV: 1145",
          "# EV: 1149",
          "# EV: 1149",
          "# EV: 1145",
          "# EV: 1136",
          "# EV: 1136",
          "# EV: 1145",
          "# EV: 1145",
          "# EV: 1149",
          "# EV: 1149",
          "# EV: 1138",
          "# EV: 1254",
          "# EV: 1138",
          "# EV: 1148",
          "# EV: 1155",
          "# EV: 1141",
          "# EV: 1158",
          "# EV: 1139",
          "# EV: 1139",
          "# EV: 1136",
          "# EV: 1205",
          "# EV: 1205",
          "# EV: 1204",
          "# EV: 1204",
          "# EV: 1228",
          "# EV: 1228",
          "# EV: 1204",
          "# EV: 1204",
          "# EV: 1219",
          "# EV: 1239",
          "# EV: 1290",
          "# EV: 1283",
          "# EV: 1262",
          "# EV: 1204",
          "# EV: 1204",
          "# EV: 747",
          "# EV: 1204",
          "# EV: 2047",
          "# EV: 1204",
          "# EV: 1224",
          "# EV: 1233",
          "# EV: 1263",
          "# EV: 1274",
          "# EV: 1240",
          "# EV: 1229",
          "# EV: 1240",
          "# EV: 1208",
          "# EV: 1204",
          "# EV: 1204",
          "# EV: 1208",
          "# EV: 1284",
          "# EV: 1239",
          "# EV: 1203",
          "# EV: 1203",
          "# EV: 1203",
          "# EV: 1183",
          "# EV: 1204",
          "# EV: 1443",
          "# EV: 1443",
          "# EV: 1443",
          "# EV: 1443",
          "# EV: 1443",
          "# EV: 1466",
          "# EV: 1481",
          "# EV: 1516",
          "# EV: 1518",
          "# EV: 1433",
          "# EV: 1204",
          "# EV: 851",
          "# EV: 851",
          "# EV: 854",
          "# EV: 855",
          "# EV: 858",
          "# EV: 854",
          "# EV: 853",
          "# EV: 855",
          "# EV: 855",
          "# EV: 867",
          "# EV: 851",
          "# EV: 853",
          "# EV: 854",
          "# EV: 784",
          "# EV: 873",
          "# EV: 886",
          "# EV: 869",
          "# EV: 844",
          "# EV: 854",
          "# EV: 851",
          "# EV: 890",
          "# EV: 861",
          "# EV: 851",
          "# EV: 851",
          "# EV: 409",
          "# EV: 548",
          "# EV: 676",
          "# EV: 851",
          "# EV: 857",
          "# EV: 1105",
          "# EV: 1537",
          "# EV: 2381",
          "# EV: 4530",
          "# EV: 9575",
          "# EV: 851",
          "# EV: 854",
          "# EV: 854",
          "# EV: 854",
          "# EV: 855",
          "# EV: 867",
          "# EV: 868",
          "# EV: 869",
          "# EV: 831",
          "# EV: 853",
          "# EV: 856",
          "# EV: 862",
          "# EV: 858",
          "# EV: 866",
          "# EV: 857",
          "# EV: 838",
          "# EV: 863",
          "# EV: 857",
          "# EV: 869",
          "# EV: 856",
          "# EV: 871",
          "# EV: 855",
          "# EV: 879",
          "# EV: 855",
          "# EV: 884",
          "# EV: 911",
          "# EV: 870",
          "# EV: 860",
          "# EV: 872",
          "# EV: 916",
          "# EV: 910",
          "# EV: 899",
          "# EV: 398",
          "# EV: 518",
          "# EV: 672",
          "# EV: 872",
          "# EV: 1175",
          "# EV: 1603",
          "# EV: 2412",
          "# EV: 4670",
          "# EV: 869",
          "# EV: 888",
          "# EV: 906",
          "# EV: 917",
          "# EV: 942",
          "# EV: 787",
          "# EV: 853",
          "# EV: 828",
          "# EV: 866",
          "# EV: 852",
          "# EV: 834",
          "# EV: 804",
          "# EV: 851",
          "# EV: 824",
          "# EV: 860",
          "# EV: 869",
          "# EV: 895",
          "# EV: 908",
          "# EV: 922",
          "# EV: 939",
          "# EV: 917",
          "# EV: 904",
          "# EV: 920",
          "# EV: 886",
          "# EV: 899",
          "# EV: 869",
          "# EV: 883",
          "# EV: 857",
          "# EV: 878",
          "# EV: 925",
          "# EV: 888",
          "# EV: 921",
          "# EV: 915",
          "# EV: 900",
          "# EV: 886",
          "# EV: 890",
          "# EV: 871"
         ],
         "textposition": "top center",
         "type": "scatter",
         "x": [
          "57",
          "60",
          "67",
          "70",
          "71",
          "78",
          "79",
          "80",
          "81",
          "82",
          "83",
          "84",
          "85",
          "87",
          "88",
          "90",
          "91",
          "92",
          "110",
          "111",
          "112",
          "113",
          "114",
          "115",
          "116",
          "117",
          "118",
          "120",
          "119",
          "121",
          "123",
          "122",
          "124",
          "125",
          "126",
          "127",
          "132",
          "133",
          "134",
          "148",
          "149",
          "150",
          "152",
          "151",
          "153",
          "154",
          "155",
          "156",
          "159",
          "157",
          "158",
          "160",
          "161",
          "162",
          "163",
          "170",
          "171",
          "173",
          "174",
          "175",
          "176",
          "177",
          "178",
          "183",
          "184",
          "185",
          "186",
          "188",
          "187",
          "189",
          "190",
          "191",
          "192",
          "193",
          "194",
          "195",
          "196",
          "197",
          "198",
          "200",
          "199",
          "201",
          "202",
          "203",
          "204",
          "205",
          "206",
          "211",
          "212",
          "217",
          "216",
          "213",
          "214",
          "215",
          "218",
          "219",
          "220",
          "221",
          "222",
          "223",
          "224",
          "226",
          "225",
          "227",
          "228",
          "231",
          "230",
          "229",
          "232",
          "233",
          "234",
          "235",
          "236",
          "237",
          "238",
          "239",
          "240",
          "241",
          "243",
          "242",
          "245",
          "246",
          "247",
          "244",
          "249",
          "248",
          "250",
          "251",
          "252",
          "253",
          "256",
          "254",
          "255",
          "257",
          "258",
          "259",
          "260",
          "261",
          "262",
          "263",
          "264",
          "265",
          "267",
          "266",
          "268",
          "269",
          "271",
          "272",
          "273",
          "275",
          "276",
          "277",
          "274",
          "281",
          "282",
          "286",
          "285",
          "284",
          "295",
          "296",
          "297",
          "298",
          "299",
          "300",
          "301",
          "302",
          "306",
          "305",
          "307",
          "308",
          "310",
          "309",
          "313",
          "317",
          "315",
          "316",
          "314",
          "319",
          "322",
          "320",
          "321",
          "323",
          "327",
          "326",
          "324",
          "328",
          "325",
          "330",
          "332",
          "331",
          "334",
          "335",
          "336",
          "337",
          "338",
          "340",
          "341",
          "342",
          "344",
          "343",
          "345",
          "350",
          "349",
          "347",
          "346",
          "348",
          "351",
          "353",
          "352",
          "354",
          "355",
          "356",
          "369",
          "368",
          "367",
          "366",
          "358",
          "365",
          "364",
          "363",
          "362",
          "361",
          "370",
          "371",
          "378",
          "379",
          "380",
          "389",
          "388",
          "390",
          "392",
          "391",
          "395",
          "397",
          "396",
          "386",
          "393",
          "398",
          "400",
          "394",
          "387",
          "399",
          "402",
          "406",
          "403",
          "407",
          "405",
          "404",
          "408",
          "412",
          "413",
          "410",
          "409",
          "411",
          "422",
          "421",
          "420",
          "419",
          "418",
          "417",
          "416",
          "415",
          "423",
          "424",
          "425",
          "426",
          "427",
          "428",
          "429",
          "430",
          "432",
          "431",
          "434",
          "435",
          "433",
          "436",
          "437",
          "438",
          "439",
          "440",
          "441",
          "442",
          "443",
          "444",
          "445",
          "446",
          "449",
          "448",
          "447",
          "455",
          "456",
          "453",
          "457",
          "451",
          "450",
          "452",
          "454",
          "459",
          "458"
         ],
         "y": [
          6,
          7,
          8,
          8,
          10,
          8,
          7,
          7,
          8,
          9,
          9,
          9,
          9,
          10,
          7,
          9,
          8,
          7,
          8,
          8,
          8,
          8,
          8,
          9,
          9,
          8,
          8,
          10,
          10,
          9,
          14,
          14,
          12,
          11,
          9,
          10,
          7,
          8,
          8,
          8,
          8,
          9,
          9,
          9,
          9,
          7,
          7,
          7,
          8,
          9,
          9,
          9,
          8,
          7,
          7,
          6,
          6,
          9,
          10,
          10,
          8,
          8,
          8,
          9,
          10,
          9,
          10,
          8,
          9,
          9,
          9,
          9,
          9,
          9,
          9,
          9,
          9,
          7,
          7,
          8,
          8,
          7,
          7,
          9,
          9,
          9,
          9,
          17,
          17,
          15,
          15,
          16,
          16,
          16,
          15,
          8,
          8,
          8,
          7,
          7,
          8,
          7,
          8,
          18,
          18,
          12,
          13,
          13,
          11,
          11,
          12,
          12,
          12,
          12,
          9,
          9,
          9,
          9,
          12,
          12,
          12,
          12,
          12,
          13,
          13,
          14,
          14,
          14,
          14,
          14,
          13,
          14,
          13,
          14,
          13,
          13,
          13,
          10,
          8,
          12,
          13,
          8,
          10,
          10,
          10,
          10,
          8,
          8,
          12,
          12,
          13,
          13,
          13,
          17,
          9,
          7,
          9,
          12,
          10,
          11,
          11,
          11,
          11,
          15,
          13,
          12,
          14,
          14,
          10,
          10,
          16,
          18,
          16,
          16,
          16,
          16,
          16,
          23,
          39,
          40,
          40,
          77,
          79,
          79,
          80,
          80,
          80,
          9,
          8,
          8,
          7,
          7,
          6,
          7,
          7,
          7,
          9,
          11,
          11,
          11,
          16,
          16,
          16,
          16,
          17,
          17,
          6,
          7,
          8,
          7,
          6,
          14,
          13,
          15,
          16,
          18,
          19,
          19,
          21,
          25,
          33,
          46,
          6,
          12,
          10,
          6,
          7,
          23,
          24,
          25,
          25,
          25,
          25,
          25,
          25,
          26,
          25,
          25,
          25,
          26,
          26,
          26,
          8,
          13,
          13,
          14,
          14,
          14,
          10,
          14,
          14,
          15,
          15,
          15,
          11,
          12,
          13,
          14,
          15,
          17,
          20,
          26,
          11,
          11,
          11,
          11,
          11,
          10,
          10,
          10,
          10,
          10,
          14,
          13,
          15,
          14,
          14,
          15,
          15,
          15,
          14,
          14,
          17,
          7,
          35,
          56,
          28,
          28,
          28,
          75,
          78,
          81,
          84,
          89,
          90,
          90,
          91,
          68,
          76
         ]
        }
       ],
       "layout": {
        "height": 500,
        "hovermode": "closest",
        "margin": {
         "b": 20,
         "l": 20,
         "r": 100,
         "t": 30
        },
        "template": {
         "data": {
          "bar": [
           {
            "error_x": {
             "color": "#2a3f5f"
            },
            "error_y": {
             "color": "#2a3f5f"
            },
            "marker": {
             "line": {
              "color": "white",
              "width": 0.5
             }
            },
            "type": "bar"
           }
          ],
          "barpolar": [
           {
            "marker": {
             "line": {
              "color": "white",
              "width": 0.5
             }
            },
            "type": "barpolar"
           }
          ],
          "carpet": [
           {
            "aaxis": {
             "endlinecolor": "#2a3f5f",
             "gridcolor": "#C8D4E3",
             "linecolor": "#C8D4E3",
             "minorgridcolor": "#C8D4E3",
             "startlinecolor": "#2a3f5f"
            },
            "baxis": {
             "endlinecolor": "#2a3f5f",
             "gridcolor": "#C8D4E3",
             "linecolor": "#C8D4E3",
             "minorgridcolor": "#C8D4E3",
             "startlinecolor": "#2a3f5f"
            },
            "type": "carpet"
           }
          ],
          "choropleth": [
           {
            "colorbar": {
             "outlinewidth": 0,
             "ticks": ""
            },
            "type": "choropleth"
           }
          ],
          "contour": [
           {
            "colorbar": {
             "outlinewidth": 0,
             "ticks": ""
            },
            "colorscale": [
             [
              0,
              "#0d0887"
             ],
             [
              0.1111111111111111,
              "#46039f"
             ],
             [
              0.2222222222222222,
              "#7201a8"
             ],
             [
              0.3333333333333333,
              "#9c179e"
             ],
             [
              0.4444444444444444,
              "#bd3786"
             ],
             [
              0.5555555555555556,
              "#d8576b"
             ],
             [
              0.6666666666666666,
              "#ed7953"
             ],
             [
              0.7777777777777778,
              "#fb9f3a"
             ],
             [
              0.8888888888888888,
              "#fdca26"
             ],
             [
              1,
              "#f0f921"
             ]
            ],
            "type": "contour"
           }
          ],
          "contourcarpet": [
           {
            "colorbar": {
             "outlinewidth": 0,
             "ticks": ""
            },
            "type": "contourcarpet"
           }
          ],
          "heatmap": [
           {
            "colorbar": {
             "outlinewidth": 0,
             "ticks": ""
            },
            "colorscale": [
             [
              0,
              "#0d0887"
             ],
             [
              0.1111111111111111,
              "#46039f"
             ],
             [
              0.2222222222222222,
              "#7201a8"
             ],
             [
              0.3333333333333333,
              "#9c179e"
             ],
             [
              0.4444444444444444,
              "#bd3786"
             ],
             [
              0.5555555555555556,
              "#d8576b"
             ],
             [
              0.6666666666666666,
              "#ed7953"
             ],
             [
              0.7777777777777778,
              "#fb9f3a"
             ],
             [
              0.8888888888888888,
              "#fdca26"
             ],
             [
              1,
              "#f0f921"
             ]
            ],
            "type": "heatmap"
           }
          ],
          "heatmapgl": [
           {
            "colorbar": {
             "outlinewidth": 0,
             "ticks": ""
            },
            "colorscale": [
             [
              0,
              "#0d0887"
             ],
             [
              0.1111111111111111,
              "#46039f"
             ],
             [
              0.2222222222222222,
              "#7201a8"
             ],
             [
              0.3333333333333333,
              "#9c179e"
             ],
             [
              0.4444444444444444,
              "#bd3786"
             ],
             [
              0.5555555555555556,
              "#d8576b"
             ],
             [
              0.6666666666666666,
              "#ed7953"
             ],
             [
              0.7777777777777778,
              "#fb9f3a"
             ],
             [
              0.8888888888888888,
              "#fdca26"
             ],
             [
              1,
              "#f0f921"
             ]
            ],
            "type": "heatmapgl"
           }
          ],
          "histogram": [
           {
            "marker": {
             "colorbar": {
              "outlinewidth": 0,
              "ticks": ""
             }
            },
            "type": "histogram"
           }
          ],
          "histogram2d": [
           {
            "colorbar": {
             "outlinewidth": 0,
             "ticks": ""
            },
            "colorscale": [
             [
              0,
              "#0d0887"
             ],
             [
              0.1111111111111111,
              "#46039f"
             ],
             [
              0.2222222222222222,
              "#7201a8"
             ],
             [
              0.3333333333333333,
              "#9c179e"
             ],
             [
              0.4444444444444444,
              "#bd3786"
             ],
             [
              0.5555555555555556,
              "#d8576b"
             ],
             [
              0.6666666666666666,
              "#ed7953"
             ],
             [
              0.7777777777777778,
              "#fb9f3a"
             ],
             [
              0.8888888888888888,
              "#fdca26"
             ],
             [
              1,
              "#f0f921"
             ]
            ],
            "type": "histogram2d"
           }
          ],
          "histogram2dcontour": [
           {
            "colorbar": {
             "outlinewidth": 0,
             "ticks": ""
            },
            "colorscale": [
             [
              0,
              "#0d0887"
             ],
             [
              0.1111111111111111,
              "#46039f"
             ],
             [
              0.2222222222222222,
              "#7201a8"
             ],
             [
              0.3333333333333333,
              "#9c179e"
             ],
             [
              0.4444444444444444,
              "#bd3786"
             ],
             [
              0.5555555555555556,
              "#d8576b"
             ],
             [
              0.6666666666666666,
              "#ed7953"
             ],
             [
              0.7777777777777778,
              "#fb9f3a"
             ],
             [
              0.8888888888888888,
              "#fdca26"
             ],
             [
              1,
              "#f0f921"
             ]
            ],
            "type": "histogram2dcontour"
           }
          ],
          "mesh3d": [
           {
            "colorbar": {
             "outlinewidth": 0,
             "ticks": ""
            },
            "type": "mesh3d"
           }
          ],
          "parcoords": [
           {
            "line": {
             "colorbar": {
              "outlinewidth": 0,
              "ticks": ""
             }
            },
            "type": "parcoords"
           }
          ],
          "pie": [
           {
            "automargin": true,
            "type": "pie"
           }
          ],
          "scatter": [
           {
            "marker": {
             "colorbar": {
              "outlinewidth": 0,
              "ticks": ""
             }
            },
            "type": "scatter"
           }
          ],
          "scatter3d": [
           {
            "line": {
             "colorbar": {
              "outlinewidth": 0,
              "ticks": ""
             }
            },
            "marker": {
             "colorbar": {
              "outlinewidth": 0,
              "ticks": ""
             }
            },
            "type": "scatter3d"
           }
          ],
          "scattercarpet": [
           {
            "marker": {
             "colorbar": {
              "outlinewidth": 0,
              "ticks": ""
             }
            },
            "type": "scattercarpet"
           }
          ],
          "scattergeo": [
           {
            "marker": {
             "colorbar": {
              "outlinewidth": 0,
              "ticks": ""
             }
            },
            "type": "scattergeo"
           }
          ],
          "scattergl": [
           {
            "marker": {
             "colorbar": {
              "outlinewidth": 0,
              "ticks": ""
             }
            },
            "type": "scattergl"
           }
          ],
          "scattermapbox": [
           {
            "marker": {
             "colorbar": {
              "outlinewidth": 0,
              "ticks": ""
             }
            },
            "type": "scattermapbox"
           }
          ],
          "scatterpolar": [
           {
            "marker": {
             "colorbar": {
              "outlinewidth": 0,
              "ticks": ""
             }
            },
            "type": "scatterpolar"
           }
          ],
          "scatterpolargl": [
           {
            "marker": {
             "colorbar": {
              "outlinewidth": 0,
              "ticks": ""
             }
            },
            "type": "scatterpolargl"
           }
          ],
          "scatterternary": [
           {
            "marker": {
             "colorbar": {
              "outlinewidth": 0,
              "ticks": ""
             }
            },
            "type": "scatterternary"
           }
          ],
          "surface": [
           {
            "colorbar": {
             "outlinewidth": 0,
             "ticks": ""
            },
            "colorscale": [
             [
              0,
              "#0d0887"
             ],
             [
              0.1111111111111111,
              "#46039f"
             ],
             [
              0.2222222222222222,
              "#7201a8"
             ],
             [
              0.3333333333333333,
              "#9c179e"
             ],
             [
              0.4444444444444444,
              "#bd3786"
             ],
             [
              0.5555555555555556,
              "#d8576b"
             ],
             [
              0.6666666666666666,
              "#ed7953"
             ],
             [
              0.7777777777777778,
              "#fb9f3a"
             ],
             [
              0.8888888888888888,
              "#fdca26"
             ],
             [
              1,
              "#f0f921"
             ]
            ],
            "type": "surface"
           }
          ],
          "table": [
           {
            "cells": {
             "fill": {
              "color": "#EBF0F8"
             },
             "line": {
              "color": "white"
             }
            },
            "header": {
             "fill": {
              "color": "#C8D4E3"
             },
             "line": {
              "color": "white"
             }
            },
            "type": "table"
           }
          ]
         },
         "layout": {
          "annotationdefaults": {
           "arrowcolor": "#2a3f5f",
           "arrowhead": 0,
           "arrowwidth": 1
          },
          "coloraxis": {
           "colorbar": {
            "outlinewidth": 0,
            "ticks": ""
           }
          },
          "colorscale": {
           "diverging": [
            [
             0,
             "#8e0152"
            ],
            [
             0.1,
             "#c51b7d"
            ],
            [
             0.2,
             "#de77ae"
            ],
            [
             0.3,
             "#f1b6da"
            ],
            [
             0.4,
             "#fde0ef"
            ],
            [
             0.5,
             "#f7f7f7"
            ],
            [
             0.6,
             "#e6f5d0"
            ],
            [
             0.7,
             "#b8e186"
            ],
            [
             0.8,
             "#7fbc41"
            ],
            [
             0.9,
             "#4d9221"
            ],
            [
             1,
             "#276419"
            ]
           ],
           "sequential": [
            [
             0,
             "#0d0887"
            ],
            [
             0.1111111111111111,
             "#46039f"
            ],
            [
             0.2222222222222222,
             "#7201a8"
            ],
            [
             0.3333333333333333,
             "#9c179e"
            ],
            [
             0.4444444444444444,
             "#bd3786"
            ],
            [
             0.5555555555555556,
             "#d8576b"
            ],
            [
             0.6666666666666666,
             "#ed7953"
            ],
            [
             0.7777777777777778,
             "#fb9f3a"
            ],
            [
             0.8888888888888888,
             "#fdca26"
            ],
            [
             1,
             "#f0f921"
            ]
           ],
           "sequentialminus": [
            [
             0,
             "#0d0887"
            ],
            [
             0.1111111111111111,
             "#46039f"
            ],
            [
             0.2222222222222222,
             "#7201a8"
            ],
            [
             0.3333333333333333,
             "#9c179e"
            ],
            [
             0.4444444444444444,
             "#bd3786"
            ],
            [
             0.5555555555555556,
             "#d8576b"
            ],
            [
             0.6666666666666666,
             "#ed7953"
            ],
            [
             0.7777777777777778,
             "#fb9f3a"
            ],
            [
             0.8888888888888888,
             "#fdca26"
            ],
            [
             1,
             "#f0f921"
            ]
           ]
          },
          "colorway": [
           "#636efa",
           "#EF553B",
           "#00cc96",
           "#ab63fa",
           "#FFA15A",
           "#19d3f3",
           "#FF6692",
           "#B6E880",
           "#FF97FF",
           "#FECB52"
          ],
          "font": {
           "color": "#2a3f5f"
          },
          "geo": {
           "bgcolor": "white",
           "lakecolor": "white",
           "landcolor": "white",
           "showlakes": true,
           "showland": true,
           "subunitcolor": "#C8D4E3"
          },
          "hoverlabel": {
           "align": "left"
          },
          "hovermode": "closest",
          "mapbox": {
           "style": "light"
          },
          "paper_bgcolor": "white",
          "plot_bgcolor": "white",
          "polar": {
           "angularaxis": {
            "gridcolor": "#EBF0F8",
            "linecolor": "#EBF0F8",
            "ticks": ""
           },
           "bgcolor": "white",
           "radialaxis": {
            "gridcolor": "#EBF0F8",
            "linecolor": "#EBF0F8",
            "ticks": ""
           }
          },
          "scene": {
           "xaxis": {
            "backgroundcolor": "white",
            "gridcolor": "#DFE8F3",
            "gridwidth": 2,
            "linecolor": "#EBF0F8",
            "showbackground": true,
            "ticks": "",
            "zerolinecolor": "#EBF0F8"
           },
           "yaxis": {
            "backgroundcolor": "white",
            "gridcolor": "#DFE8F3",
            "gridwidth": 2,
            "linecolor": "#EBF0F8",
            "showbackground": true,
            "ticks": "",
            "zerolinecolor": "#EBF0F8"
           },
           "zaxis": {
            "backgroundcolor": "white",
            "gridcolor": "#DFE8F3",
            "gridwidth": 2,
            "linecolor": "#EBF0F8",
            "showbackground": true,
            "ticks": "",
            "zerolinecolor": "#EBF0F8"
           }
          },
          "shapedefaults": {
           "line": {
            "color": "#2a3f5f"
           }
          },
          "ternary": {
           "aaxis": {
            "gridcolor": "#DFE8F3",
            "linecolor": "#A2B1C6",
            "ticks": ""
           },
           "baxis": {
            "gridcolor": "#DFE8F3",
            "linecolor": "#A2B1C6",
            "ticks": ""
           },
           "bgcolor": "white",
           "caxis": {
            "gridcolor": "#DFE8F3",
            "linecolor": "#A2B1C6",
            "ticks": ""
           }
          },
          "title": {
           "x": 0.05
          },
          "xaxis": {
           "automargin": true,
           "gridcolor": "#EBF0F8",
           "linecolor": "#EBF0F8",
           "ticks": "",
           "title": {
            "standoff": 15
           },
           "zerolinecolor": "#EBF0F8",
           "zerolinewidth": 2
          },
          "yaxis": {
           "automargin": true,
           "gridcolor": "#EBF0F8",
           "linecolor": "#EBF0F8",
           "ticks": "",
           "title": {
            "standoff": 15
           },
           "zerolinecolor": "#EBF0F8",
           "zerolinewidth": 2
          }
         }
        },
        "title": {
         "text": "Time taken (tripgen)"
        },
        "uniformtext": {
         "minsize": 8,
         "mode": "hide"
        },
        "width": 1500,
        "xaxis": {
         "autorange": true,
         "range": [
          0,
          298
         ],
         "showspikes": false,
         "title": {
          "text": "Analysis ID"
         },
         "type": "category"
        },
        "yaxis": {
         "autorange": true,
         "range": [
          1.2777777777777786,
          95.72222222222223
         ],
         "showspikes": false,
         "title": {
          "text": "Time taken (min)"
         },
         "type": "linear"
        }
       }
      },
      "image/png": "[encoded data removed]",
      "text/html": [
       "<div>                            <div id=\"af60e9b7-05b4-4923-83c2-0785678e778b\" class=\"plotly-graph-div\" style=\"height:500px; width:1500px;\"></div>            <script type=\"text/javascript\">                require([\"plotly\"], function(Plotly) {                    window.PLOTLYENV=window.PLOTLYENV || {};                                    if (document.getElementById(\"af60e9b7-05b4-4923-83c2-0785678e778b\")) {                    Plotly.newPlot(                        \"af60e9b7-05b4-4923-83c2-0785678e778b\",                        [{\"text\": [\"# EV: 1201\", \"# EV: 1146\", \"# EV: 1139\", \"# EV: 1302\", \"# EV: 1302\", \"# EV: 1302\", \"# EV: 1302\", \"# EV: 1327\", \"# EV: 1305\", \"# EV: 1320\", \"# EV: 1321\", \"# EV: 1305\", \"# EV: 1336\", \"# EV: 1330\", \"# EV: 1305\", \"# EV: 1333\", \"# EV: 1337\", \"# EV: 1310\", \"# EV: 1305\", \"# EV: 1305\", \"# EV: 1305\", \"# EV: 1305\", \"# EV: 1305\", \"# EV: 1355\", \"# EV: 1154\", \"# EV: 1154\", \"# EV: 1176\", \"# EV: 1136\", \"# EV: 1136\", \"# EV: 1241\", \"# EV: 1136\", \"# EV: 1248\", \"# EV: 1136\", \"# EV: 1265\", \"# EV: 1136\", \"# EV: 1252\", \"# EV: 1136\", \"# EV: 1222\", \"# EV: 1136\", \"# EV: 1129\", \"# EV: 1154\", \"# EV: 1136\", \"# EV: 1094\", \"# EV: 1125\", \"# EV: 1129\", \"# EV: 1136\", \"# EV: 1125\", \"# EV: 1094\", \"# EV: 1157\", \"# EV: 1136\", \"# EV: 1136\", \"# EV: 1164\", \"# EV: 1136\", \"# EV: 1136\", \"# EV: 1125\", \"# EV: 533\", \"# EV: 591\", \"# EV: 1188\", \"# EV: 1136\", \"# EV: 1214\", \"# EV: 1136\", \"# EV: 1125\", \"# EV: 1201\", \"# EV: 1136\", \"# EV: 1136\", \"# EV: 1125\", \"# EV: 1176\", \"# EV: 1136\", \"# EV: 1136\", \"# EV: 1136\", \"# EV: 1136\", \"# EV: 1158\", \"# EV: 1158\", \"# EV: 1136\", \"# EV: 1136\", \"# EV: 1132\", \"# EV: 1132\", \"# EV: 1136\", \"# EV: 1136\", \"# EV: 1136\", \"# EV: 1136\", \"# EV: 1136\", \"# EV: 1136\", \"# EV: 1136\", \"# EV: 1136\", \"# EV: 1212\", \"# EV: 1212\", \"# EV: 1136\", \"# EV: 1136\", \"# EV: 1140\", \"# EV: 1141\", \"# EV: 1136\", \"# EV: 1136\", \"# EV: 1141\", \"# EV: 1140\", \"# EV: 1136\", \"# EV: 1141\", \"# EV: 1138\", \"# EV: 1136\", \"# EV: 1136\", \"# EV: 1136\", \"# EV: 1136\", \"# EV: 1136\", \"# EV: 1141\", \"# EV: 1141\", \"# EV: 1141\", \"# EV: 1141\", \"# EV: 1141\", \"# EV: 1141\", \"# EV: 1141\", \"# EV: 1136\", \"# EV: 1136\", \"# EV: 1161\", \"# EV: 1161\", \"# EV: 1136\", \"# EV: 1136\", \"# EV: 1172\", \"# EV: 1172\", \"# EV: 1136\", \"# EV: 1136\", \"# EV: 1145\", \"# EV: 1149\", \"# EV: 1149\", \"# EV: 1145\", \"# EV: 1136\", \"# EV: 1136\", \"# EV: 1145\", \"# EV: 1145\", \"# EV: 1149\", \"# EV: 1149\", \"# EV: 1138\", \"# EV: 1254\", \"# EV: 1138\", \"# EV: 1148\", \"# EV: 1155\", \"# EV: 1141\", \"# EV: 1158\", \"# EV: 1139\", \"# EV: 1139\", \"# EV: 1136\", \"# EV: 1205\", \"# EV: 1205\", \"# EV: 1204\", \"# EV: 1204\", \"# EV: 1228\", \"# EV: 1228\", \"# EV: 1204\", \"# EV: 1204\", \"# EV: 1219\", \"# EV: 1239\", \"# EV: 1290\", \"# EV: 1283\", \"# EV: 1262\", \"# EV: 1204\", \"# EV: 1204\", \"# EV: 747\", \"# EV: 1204\", \"# EV: 2047\", \"# EV: 1204\", \"# EV: 1224\", \"# EV: 1233\", \"# EV: 1263\", \"# EV: 1274\", \"# EV: 1240\", \"# EV: 1229\", \"# EV: 1240\", \"# EV: 1208\", \"# EV: 1204\", \"# EV: 1204\", \"# EV: 1208\", \"# EV: 1284\", \"# EV: 1239\", \"# EV: 1203\", \"# EV: 1203\", \"# EV: 1203\", \"# EV: 1183\", \"# EV: 1204\", \"# EV: 1443\", \"# EV: 1443\", \"# EV: 1443\", \"# EV: 1443\", \"# EV: 1443\", \"# EV: 1466\", \"# EV: 1481\", \"# EV: 1516\", \"# EV: 1518\", \"# EV: 1433\", \"# EV: 1204\", \"# EV: 851\", \"# EV: 851\", \"# EV: 854\", \"# EV: 855\", \"# EV: 858\", \"# EV: 854\", \"# EV: 853\", \"# EV: 855\", \"# EV: 855\", \"# EV: 867\", \"# EV: 851\", \"# EV: 853\", \"# EV: 854\", \"# EV: 784\", \"# EV: 873\", \"# EV: 886\", \"# EV: 869\", \"# EV: 844\", \"# EV: 854\", \"# EV: 851\", \"# EV: 890\", \"# EV: 861\", \"# EV: 851\", \"# EV: 851\", \"# EV: 409\", \"# EV: 548\", \"# EV: 676\", \"# EV: 851\", \"# EV: 857\", \"# EV: 1105\", \"# EV: 1537\", \"# EV: 2381\", \"# EV: 4530\", \"# EV: 9575\", \"# EV: 851\", \"# EV: 854\", \"# EV: 854\", \"# EV: 854\", \"# EV: 855\", \"# EV: 867\", \"# EV: 868\", \"# EV: 869\", \"# EV: 831\", \"# EV: 853\", \"# EV: 856\", \"# EV: 862\", \"# EV: 858\", \"# EV: 866\", \"# EV: 857\", \"# EV: 838\", \"# EV: 863\", \"# EV: 857\", \"# EV: 869\", \"# EV: 856\", \"# EV: 871\", \"# EV: 855\", \"# EV: 879\", \"# EV: 855\", \"# EV: 884\", \"# EV: 911\", \"# EV: 870\", \"# EV: 860\", \"# EV: 872\", \"# EV: 916\", \"# EV: 910\", \"# EV: 899\", \"# EV: 398\", \"# EV: 518\", \"# EV: 672\", \"# EV: 872\", \"# EV: 1175\", \"# EV: 1603\", \"# EV: 2412\", \"# EV: 4670\", \"# EV: 869\", \"# EV: 888\", \"# EV: 906\", \"# EV: 917\", \"# EV: 942\", \"# EV: 787\", \"# EV: 853\", \"# EV: 828\", \"# EV: 866\", \"# EV: 852\", \"# EV: 834\", \"# EV: 804\", \"# EV: 851\", \"# EV: 824\", \"# EV: 860\", \"# EV: 869\", \"# EV: 895\", \"# EV: 908\", \"# EV: 922\", \"# EV: 939\", \"# EV: 917\", \"# EV: 904\", \"# EV: 920\", \"# EV: 886\", \"# EV: 899\", \"# EV: 869\", \"# EV: 883\", \"# EV: 857\", \"# EV: 878\", \"# EV: 925\", \"# EV: 888\", \"# EV: 921\", \"# EV: 915\", \"# EV: 900\", \"# EV: 886\", \"# EV: 890\", \"# EV: 871\"], \"textposition\": \"top center\", \"type\": \"scatter\", \"x\": [\"57\", \"60\", \"67\", \"70\", \"71\", \"78\", \"79\", \"80\", \"81\", \"82\", \"83\", \"84\", \"85\", \"87\", \"88\", \"90\", \"91\", \"92\", \"110\", \"111\", \"112\", \"113\", \"114\", \"115\", \"116\", \"117\", \"118\", \"120\", \"119\", \"121\", \"123\", \"122\", \"124\", \"125\", \"126\", \"127\", \"132\", \"133\", \"134\", \"148\", \"149\", \"150\", \"152\", \"151\", \"153\", \"154\", \"155\", \"156\", \"159\", \"157\", \"158\", \"160\", \"161\", \"162\", \"163\", \"170\", \"171\", \"173\", \"174\", \"175\", \"176\", \"177\", \"178\", \"183\", \"184\", \"185\", \"186\", \"188\", \"187\", \"189\", \"190\", \"191\", \"192\", \"193\", \"194\", \"195\", \"196\", \"197\", \"198\", \"200\", \"199\", \"201\", \"202\", \"203\", \"204\", \"205\", \"206\", \"211\", \"212\", \"217\", \"216\", \"213\", \"214\", \"215\", \"218\", \"219\", \"220\", \"221\", \"222\", \"223\", \"224\", \"226\", \"225\", \"227\", \"228\", \"231\", \"230\", \"229\", \"232\", \"233\", \"234\", \"235\", \"236\", \"237\", \"238\", \"239\", \"240\", \"241\", \"243\", \"242\", \"245\", \"246\", \"247\", \"244\", \"249\", \"248\", \"250\", \"251\", \"252\", \"253\", \"256\", \"254\", \"255\", \"257\", \"258\", \"259\", \"260\", \"261\", \"262\", \"263\", \"264\", \"265\", \"267\", \"266\", \"268\", \"269\", \"271\", \"272\", \"273\", \"275\", \"276\", \"277\", \"274\", \"281\", \"282\", \"286\", \"285\", \"284\", \"295\", \"296\", \"297\", \"298\", \"299\", \"300\", \"301\", \"302\", \"306\", \"305\", \"307\", \"308\", \"310\", \"309\", \"313\", \"317\", \"315\", \"316\", \"314\", \"319\", \"322\", \"320\", \"321\", \"323\", \"327\", \"326\", \"324\", \"328\", \"325\", \"330\", \"332\", \"331\", \"334\", \"335\", \"336\", \"337\", \"338\", \"340\", \"341\", \"342\", \"344\", \"343\", \"345\", \"350\", \"349\", \"347\", \"346\", \"348\", \"351\", \"353\", \"352\", \"354\", \"355\", \"356\", \"369\", \"368\", \"367\", \"366\", \"358\", \"365\", \"364\", \"363\", \"362\", \"361\", \"370\", \"371\", \"378\", \"379\", \"380\", \"389\", \"388\", \"390\", \"392\", \"391\", \"395\", \"397\", \"396\", \"386\", \"393\", \"398\", \"400\", \"394\", \"387\", \"399\", \"402\", \"406\", \"403\", \"407\", \"405\", \"404\", \"408\", \"412\", \"413\", \"410\", \"409\", \"411\", \"422\", \"421\", \"420\", \"419\", \"418\", \"417\", \"416\", \"415\", \"423\", \"424\", \"425\", \"426\", \"427\", \"428\", \"429\", \"430\", \"432\", \"431\", \"434\", \"435\", \"433\", \"436\", \"437\", \"438\", \"439\", \"440\", \"441\", \"442\", \"443\", \"444\", \"445\", \"446\", \"449\", \"448\", \"447\", \"455\", \"456\", \"453\", \"457\", \"451\", \"450\", \"452\", \"454\", \"459\", \"458\"], \"y\": [6.0, 7.0, 8.0, 8.0, 10.0, 8.0, 7.0, 7.0, 8.0, 9.0, 9.0, 9.0, 9.0, 10.0, 7.0, 9.0, 8.0, 7.0, 8.0, 8.0, 8.0, 8.0, 8.0, 9.0, 9.0, 8.0, 8.0, 10.0, 10.0, 9.0, 14.0, 14.0, 12.0, 11.0, 9.0, 10.0, 7.0, 8.0, 8.0, 8.0, 8.0, 9.0, 9.0, 9.0, 9.0, 7.0, 7.0, 7.0, 8.0, 9.0, 9.0, 9.0, 8.0, 7.0, 7.0, 6.0, 6.0, 9.0, 10.0, 10.0, 8.0, 8.0, 8.0, 9.0, 10.0, 9.0, 10.0, 8.0, 9.0, 9.0, 9.0, 9.0, 9.0, 9.0, 9.0, 9.0, 9.0, 7.0, 7.0, 8.0, 8.0, 7.0, 7.0, 9.0, 9.0, 9.0, 9.0, 17.0, 17.0, 15.0, 15.0, 16.0, 16.0, 16.0, 15.0, 8.0, 8.0, 8.0, 7.0, 7.0, 8.0, 7.0, 8.0, 18.0, 18.0, 12.0, 13.0, 13.0, 11.0, 11.0, 12.0, 12.0, 12.0, 12.0, 9.0, 9.0, 9.0, 9.0, 12.0, 12.0, 12.0, 12.0, 12.0, 13.0, 13.0, 14.0, 14.0, 14.0, 14.0, 14.0, 13.0, 14.0, 13.0, 14.0, 13.0, 13.0, 13.0, 10.0, 8.0, 12.0, 13.0, 8.0, 10.0, 10.0, 10.0, 10.0, 8.0, 8.0, 12.0, 12.0, 13.0, 13.0, 13.0, 17.0, 9.0, 7.0, 9.0, 12.0, 10.0, 11.0, 11.0, 11.0, 11.0, 15.0, 13.0, 12.0, 14.0, 14.0, 10.0, 10.0, 16.0, 18.0, 16.0, 16.0, 16.0, 16.0, 16.0, 23.0, 39.0, 40.0, 40.0, 77.0, 79.0, 79.0, 80.0, 80.0, 80.0, 9.0, 8.0, 8.0, 7.0, 7.0, 6.0, 7.0, 7.0, 7.0, 9.0, 11.0, 11.0, 11.0, 16.0, 16.0, 16.0, 16.0, 17.0, 17.0, 6.0, 7.0, 8.0, 7.0, 6.0, 14.0, 13.0, 15.0, 16.0, 18.0, 19.0, 19.0, 21.0, 25.0, 33.0, 46.0, 6.0, 12.0, 10.0, 6.0, 7.0, 23.0, 24.0, 25.0, 25.0, 25.0, 25.0, 25.0, 25.0, 26.0, 25.0, 25.0, 25.0, 26.0, 26.0, 26.0, 8.0, 13.0, 13.0, 14.0, 14.0, 14.0, 10.0, 14.0, 14.0, 15.0, 15.0, 15.0, 11.0, 12.0, 13.0, 14.0, 15.0, 17.0, 20.0, 26.0, 11.0, 11.0, 11.0, 11.0, 11.0, 10.0, 10.0, 10.0, 10.0, 10.0, 14.0, 13.0, 15.0, 14.0, 14.0, 15.0, 15.0, 15.0, 14.0, 14.0, 17.0, 7.0, 35.0, 56.0, 28.0, 28.0, 28.0, 75.0, 78.0, 81.0, 84.0, 89.0, 90.0, 90.0, 91.0, 68.0, 76.0]}],                        {\"height\": 500, \"margin\": {\"b\": 20, \"l\": 20, \"r\": 100, \"t\": 30}, \"template\": {\"data\": {\"bar\": [{\"error_x\": {\"color\": \"#2a3f5f\"}, \"error_y\": {\"color\": \"#2a3f5f\"}, \"marker\": {\"line\": {\"color\": \"white\", \"width\": 0.5}}, \"type\": \"bar\"}], \"barpolar\": [{\"marker\": {\"line\": {\"color\": \"white\", \"width\": 0.5}}, \"type\": \"barpolar\"}], \"carpet\": [{\"aaxis\": {\"endlinecolor\": \"#2a3f5f\", \"gridcolor\": \"#C8D4E3\", \"linecolor\": \"#C8D4E3\", \"minorgridcolor\": \"#C8D4E3\", \"startlinecolor\": \"#2a3f5f\"}, \"baxis\": {\"endlinecolor\": \"#2a3f5f\", \"gridcolor\": \"#C8D4E3\", \"linecolor\": \"#C8D4E3\", \"minorgridcolor\": \"#C8D4E3\", \"startlinecolor\": \"#2a3f5f\"}, \"type\": \"carpet\"}], \"choropleth\": [{\"colorbar\": {\"outlinewidth\": 0, \"ticks\": \"\"}, \"type\": \"choropleth\"}], \"contour\": [{\"colorbar\": {\"outlinewidth\": 0, \"ticks\": \"\"}, \"colorscale\": [[0.0, \"#0d0887\"], [0.1111111111111111, \"#46039f\"], [0.2222222222222222, \"#7201a8\"], [0.3333333333333333, \"#9c179e\"], [0.4444444444444444, \"#bd3786\"], [0.5555555555555556, \"#d8576b\"], [0.6666666666666666, \"#ed7953\"], [0.7777777777777778, \"#fb9f3a\"], [0.8888888888888888, \"#fdca26\"], [1.0, \"#f0f921\"]], \"type\": \"contour\"}], \"contourcarpet\": [{\"colorbar\": {\"outlinewidth\": 0, \"ticks\": \"\"}, \"type\": \"contourcarpet\"}], \"heatmap\": [{\"colorbar\": {\"outlinewidth\": 0, \"ticks\": \"\"}, \"colorscale\": [[0.0, \"#0d0887\"], [0.1111111111111111, \"#46039f\"], [0.2222222222222222, \"#7201a8\"], [0.3333333333333333, \"#9c179e\"], [0.4444444444444444, \"#bd3786\"], [0.5555555555555556, \"#d8576b\"], [0.6666666666666666, \"#ed7953\"], [0.7777777777777778, \"#fb9f3a\"], [0.8888888888888888, \"#fdca26\"], [1.0, \"#f0f921\"]], \"type\": \"heatmap\"}], \"heatmapgl\": [{\"colorbar\": {\"outlinewidth\": 0, \"ticks\": \"\"}, \"colorscale\": [[0.0, \"#0d0887\"], [0.1111111111111111, \"#46039f\"], [0.2222222222222222, \"#7201a8\"], [0.3333333333333333, \"#9c179e\"], [0.4444444444444444, \"#bd3786\"], [0.5555555555555556, \"#d8576b\"], [0.6666666666666666, \"#ed7953\"], [0.7777777777777778, \"#fb9f3a\"], [0.8888888888888888, \"#fdca26\"], [1.0, \"#f0f921\"]], \"type\": \"heatmapgl\"}], \"histogram\": [{\"marker\": {\"colorbar\": {\"outlinewidth\": 0, \"ticks\": \"\"}}, \"type\": \"histogram\"}], \"histogram2d\": [{\"colorbar\": {\"outlinewidth\": 0, \"ticks\": \"\"}, \"colorscale\": [[0.0, \"#0d0887\"], [0.1111111111111111, \"#46039f\"], [0.2222222222222222, \"#7201a8\"], [0.3333333333333333, \"#9c179e\"], [0.4444444444444444, \"#bd3786\"], [0.5555555555555556, \"#d8576b\"], [0.6666666666666666, \"#ed7953\"], [0.7777777777777778, \"#fb9f3a\"], [0.8888888888888888, \"#fdca26\"], [1.0, \"#f0f921\"]], \"type\": \"histogram2d\"}], \"histogram2dcontour\": [{\"colorbar\": {\"outlinewidth\": 0, \"ticks\": \"\"}, \"colorscale\": [[0.0, \"#0d0887\"], [0.1111111111111111, \"#46039f\"], [0.2222222222222222, \"#7201a8\"], [0.3333333333333333, \"#9c179e\"], [0.4444444444444444, \"#bd3786\"], [0.5555555555555556, \"#d8576b\"], [0.6666666666666666, \"#ed7953\"], [0.7777777777777778, \"#fb9f3a\"], [0.8888888888888888, \"#fdca26\"], [1.0, \"#f0f921\"]], \"type\": \"histogram2dcontour\"}], \"mesh3d\": [{\"colorbar\": {\"outlinewidth\": 0, \"ticks\": \"\"}, \"type\": \"mesh3d\"}], \"parcoords\": [{\"line\": {\"colorbar\": {\"outlinewidth\": 0, \"ticks\": \"\"}}, \"type\": \"parcoords\"}], \"pie\": [{\"automargin\": true, \"type\": \"pie\"}], \"scatter\": [{\"marker\": {\"colorbar\": {\"outlinewidth\": 0, \"ticks\": \"\"}}, \"type\": \"scatter\"}], \"scatter3d\": [{\"line\": {\"colorbar\": {\"outlinewidth\": 0, \"ticks\": \"\"}}, \"marker\": {\"colorbar\": {\"outlinewidth\": 0, \"ticks\": \"\"}}, \"type\": \"scatter3d\"}], \"scattercarpet\": [{\"marker\": {\"colorbar\": {\"outlinewidth\": 0, \"ticks\": \"\"}}, \"type\": \"scattercarpet\"}], \"scattergeo\": [{\"marker\": {\"colorbar\": {\"outlinewidth\": 0, \"ticks\": \"\"}}, \"type\": \"scattergeo\"}], \"scattergl\": [{\"marker\": {\"colorbar\": {\"outlinewidth\": 0, \"ticks\": \"\"}}, \"type\": \"scattergl\"}], \"scattermapbox\": [{\"marker\": {\"colorbar\": {\"outlinewidth\": 0, \"ticks\": \"\"}}, \"type\": \"scattermapbox\"}], \"scatterpolar\": [{\"marker\": {\"colorbar\": {\"outlinewidth\": 0, \"ticks\": \"\"}}, \"type\": \"scatterpolar\"}], \"scatterpolargl\": [{\"marker\": {\"colorbar\": {\"outlinewidth\": 0, \"ticks\": \"\"}}, \"type\": \"scatterpolargl\"}], \"scatterternary\": [{\"marker\": {\"colorbar\": {\"outlinewidth\": 0, \"ticks\": \"\"}}, \"type\": \"scatterternary\"}], \"surface\": [{\"colorbar\": {\"outlinewidth\": 0, \"ticks\": \"\"}, \"colorscale\": [[0.0, \"#0d0887\"], [0.1111111111111111, \"#46039f\"], [0.2222222222222222, \"#7201a8\"], [0.3333333333333333, \"#9c179e\"], [0.4444444444444444, \"#bd3786\"], [0.5555555555555556, \"#d8576b\"], [0.6666666666666666, \"#ed7953\"], [0.7777777777777778, \"#fb9f3a\"], [0.8888888888888888, \"#fdca26\"], [1.0, \"#f0f921\"]], \"type\": \"surface\"}], \"table\": [{\"cells\": {\"fill\": {\"color\": \"#EBF0F8\"}, \"line\": {\"color\": \"white\"}}, \"header\": {\"fill\": {\"color\": \"#C8D4E3\"}, \"line\": {\"color\": \"white\"}}, \"type\": \"table\"}]}, \"layout\": {\"annotationdefaults\": {\"arrowcolor\": \"#2a3f5f\", \"arrowhead\": 0, \"arrowwidth\": 1}, \"coloraxis\": {\"colorbar\": {\"outlinewidth\": 0, \"ticks\": \"\"}}, \"colorscale\": {\"diverging\": [[0, \"#8e0152\"], [0.1, \"#c51b7d\"], [0.2, \"#de77ae\"], [0.3, \"#f1b6da\"], [0.4, \"#fde0ef\"], [0.5, \"#f7f7f7\"], [0.6, \"#e6f5d0\"], [0.7, \"#b8e186\"], [0.8, \"#7fbc41\"], [0.9, \"#4d9221\"], [1, \"#276419\"]], \"sequential\": [[0.0, \"#0d0887\"], [0.1111111111111111, \"#46039f\"], [0.2222222222222222, \"#7201a8\"], [0.3333333333333333, \"#9c179e\"], [0.4444444444444444, \"#bd3786\"], [0.5555555555555556, \"#d8576b\"], [0.6666666666666666, \"#ed7953\"], [0.7777777777777778, \"#fb9f3a\"], [0.8888888888888888, \"#fdca26\"], [1.0, \"#f0f921\"]], \"sequentialminus\": [[0.0, \"#0d0887\"], [0.1111111111111111, \"#46039f\"], [0.2222222222222222, \"#7201a8\"], [0.3333333333333333, \"#9c179e\"], [0.4444444444444444, \"#bd3786\"], [0.5555555555555556, \"#d8576b\"], [0.6666666666666666, \"#ed7953\"], [0.7777777777777778, \"#fb9f3a\"], [0.8888888888888888, \"#fdca26\"], [1.0, \"#f0f921\"]]}, \"colorway\": [\"#636efa\", \"#EF553B\", \"#00cc96\", \"#ab63fa\", \"#FFA15A\", \"#19d3f3\", \"#FF6692\", \"#B6E880\", \"#FF97FF\", \"#FECB52\"], \"font\": {\"color\": \"#2a3f5f\"}, \"geo\": {\"bgcolor\": \"white\", \"lakecolor\": \"white\", \"landcolor\": \"white\", \"showlakes\": true, \"showland\": true, \"subunitcolor\": \"#C8D4E3\"}, \"hoverlabel\": {\"align\": \"left\"}, \"hovermode\": \"closest\", \"mapbox\": {\"style\": \"light\"}, \"paper_bgcolor\": \"white\", \"plot_bgcolor\": \"white\", \"polar\": {\"angularaxis\": {\"gridcolor\": \"#EBF0F8\", \"linecolor\": \"#EBF0F8\", \"ticks\": \"\"}, \"bgcolor\": \"white\", \"radialaxis\": {\"gridcolor\": \"#EBF0F8\", \"linecolor\": \"#EBF0F8\", \"ticks\": \"\"}}, \"scene\": {\"xaxis\": {\"backgroundcolor\": \"white\", \"gridcolor\": \"#DFE8F3\", \"gridwidth\": 2, \"linecolor\": \"#EBF0F8\", \"showbackground\": true, \"ticks\": \"\", \"zerolinecolor\": \"#EBF0F8\"}, \"yaxis\": {\"backgroundcolor\": \"white\", \"gridcolor\": \"#DFE8F3\", \"gridwidth\": 2, \"linecolor\": \"#EBF0F8\", \"showbackground\": true, \"ticks\": \"\", \"zerolinecolor\": \"#EBF0F8\"}, \"zaxis\": {\"backgroundcolor\": \"white\", \"gridcolor\": \"#DFE8F3\", \"gridwidth\": 2, \"linecolor\": \"#EBF0F8\", \"showbackground\": true, \"ticks\": \"\", \"zerolinecolor\": \"#EBF0F8\"}}, \"shapedefaults\": {\"line\": {\"color\": \"#2a3f5f\"}}, \"ternary\": {\"aaxis\": {\"gridcolor\": \"#DFE8F3\", \"linecolor\": \"#A2B1C6\", \"ticks\": \"\"}, \"baxis\": {\"gridcolor\": \"#DFE8F3\", \"linecolor\": \"#A2B1C6\", \"ticks\": \"\"}, \"bgcolor\": \"white\", \"caxis\": {\"gridcolor\": \"#DFE8F3\", \"linecolor\": \"#A2B1C6\", \"ticks\": \"\"}}, \"title\": {\"x\": 0.05}, \"xaxis\": {\"automargin\": true, \"gridcolor\": \"#EBF0F8\", \"linecolor\": \"#EBF0F8\", \"ticks\": \"\", \"title\": {\"standoff\": 15}, \"zerolinecolor\": \"#EBF0F8\", \"zerolinewidth\": 2}, \"yaxis\": {\"automargin\": true, \"gridcolor\": \"#EBF0F8\", \"linecolor\": \"#EBF0F8\", \"ticks\": \"\", \"title\": {\"standoff\": 15}, \"zerolinecolor\": \"#EBF0F8\", \"zerolinewidth\": 2}}}, \"title\": {\"text\": \"Time taken (tripgen)\"}, \"uniformtext\": {\"minsize\": 8, \"mode\": \"hide\"}, \"width\": 1500, \"xaxis\": {\"title\": {\"text\": \"Analysis ID\"}, \"type\": \"category\"}, \"yaxis\": {\"title\": {\"text\": \"Time taken (min)\"}}},                        {\"responsive\": true}                    ).then(function(){\n",
       "                            \n",
       "var gd = document.getElementById('af60e9b7-05b4-4923-83c2-0785678e778b');\n",
       "var x = new MutationObserver(function (mutations, observer) {{\n",
       "        var display = window.getComputedStyle(gd).display;\n",
       "        if (!display || display === 'none') {{\n",
       "            console.log([gd, 'removed!']);\n",
       "            Plotly.purge(gd);\n",
       "            observer.disconnect();\n",
       "        }}\n",
       "}});\n",
       "\n",
       "// Listen for the removal of the full notebook cells\n",
       "var notebookContainer = gd.closest('#notebook-container');\n",
       "if (notebookContainer) {{\n",
       "    x.observe(notebookContainer, {childList: true});\n",
       "}}\n",
       "\n",
       "// Listen for the clearing of the current output cell\n",
       "var outputEl = gd.closest('.output');\n",
       "if (outputEl) {{\n",
       "    x.observe(outputEl, {childList: true});\n",
       "}}\n",
       "\n",
       "                        })                };                });            </script>        </div>"
      ]
     },
     "metadata": {},
     "output_type": "display_data"
    }
   ],
   "source": [
    "fig = go.Figure()\n",
    "fig.add_trace(go.Scatter(x=count_stats['aid'], y=count_stats['time_taken_tripgen'],\n",
    "                         \n",
    "                         text=count_stats['ev_count'],\n",
    "                         textposition=\"top center\"))\n",
    "fig.update_xaxes(type='category')\n",
    "fig.update_layout(title=\"Time taken (tripgen)\",\n",
    "                  yaxis_title=\"Time taken (min)\", \n",
    "                  xaxis_title=\"Analysis ID\", \n",
    "                  uniformtext_minsize=8, \n",
    "                  uniformtext_mode='hide', \n",
    "                  width=1500, \n",
    "                  height=500, \n",
    "                  margin=dict(l=20, r=100, t=30, b=20),\n",
    "                 template='plotly_white')\n",
    "fig.show()"
   ]
  },
  {
   "cell_type": "code",
   "execution_count": 20,
   "metadata": {},
   "outputs": [
    {
     "data": {
      "application/vnd.plotly.v1+json": {
       "config": {
        "plotlyServerURL": "https://plot.ly"
       },
       "data": [
        {
         "mode": "lines+markers+text",
         "name": "lines+markers",
         "type": "scatter",
         "x": [
          "57",
          "60",
          "67",
          "70",
          "71",
          "78",
          "79",
          "80",
          "81",
          "82",
          "83",
          "84",
          "85",
          "87",
          "88",
          "90",
          "91",
          "92",
          "110",
          "111",
          "112",
          "113",
          "114",
          "115",
          "116",
          "117",
          "118",
          "120",
          "119",
          "121",
          "123",
          "122",
          "124",
          "125",
          "126",
          "127",
          "132",
          "133",
          "134",
          "148",
          "149",
          "150",
          "152",
          "151",
          "153",
          "154",
          "155",
          "156",
          "159",
          "157",
          "158",
          "160",
          "161",
          "162",
          "163",
          "170",
          "171",
          "173",
          "174",
          "175",
          "176",
          "177",
          "178",
          "183",
          "184",
          "185",
          "186",
          "188",
          "187",
          "189",
          "190",
          "191",
          "192",
          "193",
          "194",
          "195",
          "196",
          "197",
          "198",
          "200",
          "199",
          "201",
          "202",
          "203",
          "204",
          "205",
          "206",
          "211",
          "212",
          "217",
          "216",
          "213",
          "214",
          "215",
          "218",
          "219",
          "220",
          "221",
          "222",
          "223",
          "224",
          "226",
          "225",
          "227",
          "228",
          "231",
          "230",
          "229",
          "232",
          "233",
          "234",
          "235",
          "236",
          "237",
          "238",
          "239",
          "240",
          "241",
          "243",
          "242",
          "245",
          "246",
          "247",
          "244",
          "249",
          "248",
          "250",
          "251",
          "252",
          "253",
          "256",
          "254",
          "255",
          "257",
          "258",
          "259",
          "260",
          "261",
          "262",
          "263",
          "264",
          "265",
          "267",
          "266",
          "268",
          "269",
          "271",
          "272",
          "273",
          "275",
          "276",
          "277",
          "274",
          "281",
          "282",
          "286",
          "285",
          "284",
          "295",
          "296",
          "297",
          "298",
          "299",
          "300",
          "301",
          "302",
          "306",
          "305",
          "307",
          "308",
          "310",
          "309",
          "313",
          "317",
          "315",
          "316",
          "314",
          "319",
          "322",
          "320",
          "321",
          "323",
          "327",
          "326",
          "324",
          "328",
          "325",
          "330",
          "332",
          "331",
          "334",
          "335",
          "336",
          "337",
          "338",
          "340",
          "341",
          "342",
          "344",
          "343",
          "345",
          "350",
          "349",
          "347",
          "346",
          "348",
          "351",
          "353",
          "352",
          "354",
          "355",
          "356",
          "369",
          "368",
          "367",
          "366",
          "358",
          "365",
          "364",
          "363",
          "362",
          "361",
          "370",
          "371",
          "378",
          "379",
          "380",
          "389",
          "388",
          "390",
          "392",
          "391",
          "395",
          "397",
          "396",
          "386",
          "393",
          "398",
          "400",
          "394",
          "387",
          "399",
          "402",
          "406",
          "403",
          "407",
          "405",
          "404",
          "408",
          "412",
          "413",
          "410",
          "409",
          "411",
          "422",
          "421",
          "420",
          "419",
          "418",
          "417",
          "416",
          "415",
          "423",
          "424",
          "425",
          "426",
          "427",
          "428",
          "429",
          "430",
          "432",
          "431",
          "434",
          "435",
          "433",
          "436",
          "437",
          "438",
          "439",
          "440",
          "441",
          "442",
          "443",
          "444",
          "445",
          "446",
          "449",
          "448",
          "447",
          "455",
          "456",
          "453",
          "457",
          "451",
          "450",
          "452",
          "454",
          "459",
          "458"
         ],
         "y": [
          9499,
          7709,
          8520,
          8424,
          2105,
          248,
          223,
          250,
          258,
          236,
          248,
          249,
          239,
          239,
          232,
          258,
          270,
          247,
          241,
          232,
          246,
          271,
          262,
          250,
          153,
          152,
          158,
          148,
          172,
          221,
          172,
          215,
          146,
          211,
          160,
          199,
          143,
          180,
          150,
          142,
          152,
          139,
          176,
          186,
          137,
          128,
          163,
          155,
          477,
          441,
          514,
          562,
          393,
          406,
          409,
          200,
          230,
          433,
          252,
          303,
          361,
          393,
          415,
          998,
          1100,
          830,
          836,
          815,
          843,
          385,
          446,
          475,
          454,
          122,
          109,
          107,
          92,
          146,
          147,
          156,
          151,
          152,
          175,
          152,
          149,
          196,
          190,
          156,
          160,
          175,
          152,
          149,
          153,
          147,
          153,
          171,
          149,
          163,
          146,
          180,
          162,
          146,
          179,
          150,
          143,
          174,
          153,
          147,
          150,
          147,
          149,
          144,
          132,
          133,
          149,
          149,
          172,
          168,
          146,
          154,
          199,
          184,
          181,
          191,
          154,
          152,
          224,
          202,
          194,
          193,
          148,
          200,
          163,
          183,
          177,
          169,
          190,
          158,
          168,
          158,
          201,
          182,
          175,
          181,
          153,
          150,
          163,
          175,
          188,
          164,
          151,
          205,
          177,
          169,
          176,
          112,
          169,
          325,
          161,
          172,
          164,
          186,
          187,
          182,
          182,
          173,
          205,
          199,
          175,
          204,
          211,
          171,
          174,
          174,
          182,
          167,
          171,
          235,
          248,
          250,
          238,
          241,
          311,
          240,
          306,
          334,
          350,
          209,
          141,
          157,
          145,
          171,
          168,
          154,
          147,
          154,
          141,
          167,
          140,
          160,
          152,
          165,
          166,
          159,
          168,
          188,
          154,
          145,
          180,
          135,
          164,
          148,
          88,
          114,
          129,
          145,
          150,
          198,
          245,
          423,
          1084,
          4474,
          147,
          155,
          732,
          150,
          168,
          173,
          161,
          150,
          134,
          150,
          150,
          129,
          136,
          160,
          152,
          149,
          160,
          154,
          169,
          147,
          183,
          153,
          171,
          152,
          183,
          164,
          181,
          185,
          201,
          213,
          222,
          211,
          101,
          129,
          145,
          199,
          268,
          407,
          758,
          2182,
          249,
          263,
          271,
          282,
          300,
          218,
          212,
          219,
          232,
          224,
          163,
          128,
          143,
          142,
          153,
          206,
          220,
          239,
          225,
          222,
          214,
          226,
          264,
          231,
          200,
          186,
          209,
          192,
          189,
          222,
          218,
          227,
          230,
          243,
          220,
          205,
          222
         ]
        }
       ],
       "layout": {
        "height": 400,
        "margin": {
         "b": 20,
         "l": 20,
         "r": 20,
         "t": 30
        },
        "template": {
         "data": {
          "bar": [
           {
            "error_x": {
             "color": "#2a3f5f"
            },
            "error_y": {
             "color": "#2a3f5f"
            },
            "marker": {
             "line": {
              "color": "white",
              "width": 0.5
             }
            },
            "type": "bar"
           }
          ],
          "barpolar": [
           {
            "marker": {
             "line": {
              "color": "white",
              "width": 0.5
             }
            },
            "type": "barpolar"
           }
          ],
          "carpet": [
           {
            "aaxis": {
             "endlinecolor": "#2a3f5f",
             "gridcolor": "#C8D4E3",
             "linecolor": "#C8D4E3",
             "minorgridcolor": "#C8D4E3",
             "startlinecolor": "#2a3f5f"
            },
            "baxis": {
             "endlinecolor": "#2a3f5f",
             "gridcolor": "#C8D4E3",
             "linecolor": "#C8D4E3",
             "minorgridcolor": "#C8D4E3",
             "startlinecolor": "#2a3f5f"
            },
            "type": "carpet"
           }
          ],
          "choropleth": [
           {
            "colorbar": {
             "outlinewidth": 0,
             "ticks": ""
            },
            "type": "choropleth"
           }
          ],
          "contour": [
           {
            "colorbar": {
             "outlinewidth": 0,
             "ticks": ""
            },
            "colorscale": [
             [
              0,
              "#0d0887"
             ],
             [
              0.1111111111111111,
              "#46039f"
             ],
             [
              0.2222222222222222,
              "#7201a8"
             ],
             [
              0.3333333333333333,
              "#9c179e"
             ],
             [
              0.4444444444444444,
              "#bd3786"
             ],
             [
              0.5555555555555556,
              "#d8576b"
             ],
             [
              0.6666666666666666,
              "#ed7953"
             ],
             [
              0.7777777777777778,
              "#fb9f3a"
             ],
             [
              0.8888888888888888,
              "#fdca26"
             ],
             [
              1,
              "#f0f921"
             ]
            ],
            "type": "contour"
           }
          ],
          "contourcarpet": [
           {
            "colorbar": {
             "outlinewidth": 0,
             "ticks": ""
            },
            "type": "contourcarpet"
           }
          ],
          "heatmap": [
           {
            "colorbar": {
             "outlinewidth": 0,
             "ticks": ""
            },
            "colorscale": [
             [
              0,
              "#0d0887"
             ],
             [
              0.1111111111111111,
              "#46039f"
             ],
             [
              0.2222222222222222,
              "#7201a8"
             ],
             [
              0.3333333333333333,
              "#9c179e"
             ],
             [
              0.4444444444444444,
              "#bd3786"
             ],
             [
              0.5555555555555556,
              "#d8576b"
             ],
             [
              0.6666666666666666,
              "#ed7953"
             ],
             [
              0.7777777777777778,
              "#fb9f3a"
             ],
             [
              0.8888888888888888,
              "#fdca26"
             ],
             [
              1,
              "#f0f921"
             ]
            ],
            "type": "heatmap"
           }
          ],
          "heatmapgl": [
           {
            "colorbar": {
             "outlinewidth": 0,
             "ticks": ""
            },
            "colorscale": [
             [
              0,
              "#0d0887"
             ],
             [
              0.1111111111111111,
              "#46039f"
             ],
             [
              0.2222222222222222,
              "#7201a8"
             ],
             [
              0.3333333333333333,
              "#9c179e"
             ],
             [
              0.4444444444444444,
              "#bd3786"
             ],
             [
              0.5555555555555556,
              "#d8576b"
             ],
             [
              0.6666666666666666,
              "#ed7953"
             ],
             [
              0.7777777777777778,
              "#fb9f3a"
             ],
             [
              0.8888888888888888,
              "#fdca26"
             ],
             [
              1,
              "#f0f921"
             ]
            ],
            "type": "heatmapgl"
           }
          ],
          "histogram": [
           {
            "marker": {
             "colorbar": {
              "outlinewidth": 0,
              "ticks": ""
             }
            },
            "type": "histogram"
           }
          ],
          "histogram2d": [
           {
            "colorbar": {
             "outlinewidth": 0,
             "ticks": ""
            },
            "colorscale": [
             [
              0,
              "#0d0887"
             ],
             [
              0.1111111111111111,
              "#46039f"
             ],
             [
              0.2222222222222222,
              "#7201a8"
             ],
             [
              0.3333333333333333,
              "#9c179e"
             ],
             [
              0.4444444444444444,
              "#bd3786"
             ],
             [
              0.5555555555555556,
              "#d8576b"
             ],
             [
              0.6666666666666666,
              "#ed7953"
             ],
             [
              0.7777777777777778,
              "#fb9f3a"
             ],
             [
              0.8888888888888888,
              "#fdca26"
             ],
             [
              1,
              "#f0f921"
             ]
            ],
            "type": "histogram2d"
           }
          ],
          "histogram2dcontour": [
           {
            "colorbar": {
             "outlinewidth": 0,
             "ticks": ""
            },
            "colorscale": [
             [
              0,
              "#0d0887"
             ],
             [
              0.1111111111111111,
              "#46039f"
             ],
             [
              0.2222222222222222,
              "#7201a8"
             ],
             [
              0.3333333333333333,
              "#9c179e"
             ],
             [
              0.4444444444444444,
              "#bd3786"
             ],
             [
              0.5555555555555556,
              "#d8576b"
             ],
             [
              0.6666666666666666,
              "#ed7953"
             ],
             [
              0.7777777777777778,
              "#fb9f3a"
             ],
             [
              0.8888888888888888,
              "#fdca26"
             ],
             [
              1,
              "#f0f921"
             ]
            ],
            "type": "histogram2dcontour"
           }
          ],
          "mesh3d": [
           {
            "colorbar": {
             "outlinewidth": 0,
             "ticks": ""
            },
            "type": "mesh3d"
           }
          ],
          "parcoords": [
           {
            "line": {
             "colorbar": {
              "outlinewidth": 0,
              "ticks": ""
             }
            },
            "type": "parcoords"
           }
          ],
          "pie": [
           {
            "automargin": true,
            "type": "pie"
           }
          ],
          "scatter": [
           {
            "marker": {
             "colorbar": {
              "outlinewidth": 0,
              "ticks": ""
             }
            },
            "type": "scatter"
           }
          ],
          "scatter3d": [
           {
            "line": {
             "colorbar": {
              "outlinewidth": 0,
              "ticks": ""
             }
            },
            "marker": {
             "colorbar": {
              "outlinewidth": 0,
              "ticks": ""
             }
            },
            "type": "scatter3d"
           }
          ],
          "scattercarpet": [
           {
            "marker": {
             "colorbar": {
              "outlinewidth": 0,
              "ticks": ""
             }
            },
            "type": "scattercarpet"
           }
          ],
          "scattergeo": [
           {
            "marker": {
             "colorbar": {
              "outlinewidth": 0,
              "ticks": ""
             }
            },
            "type": "scattergeo"
           }
          ],
          "scattergl": [
           {
            "marker": {
             "colorbar": {
              "outlinewidth": 0,
              "ticks": ""
             }
            },
            "type": "scattergl"
           }
          ],
          "scattermapbox": [
           {
            "marker": {
             "colorbar": {
              "outlinewidth": 0,
              "ticks": ""
             }
            },
            "type": "scattermapbox"
           }
          ],
          "scatterpolar": [
           {
            "marker": {
             "colorbar": {
              "outlinewidth": 0,
              "ticks": ""
             }
            },
            "type": "scatterpolar"
           }
          ],
          "scatterpolargl": [
           {
            "marker": {
             "colorbar": {
              "outlinewidth": 0,
              "ticks": ""
             }
            },
            "type": "scatterpolargl"
           }
          ],
          "scatterternary": [
           {
            "marker": {
             "colorbar": {
              "outlinewidth": 0,
              "ticks": ""
             }
            },
            "type": "scatterternary"
           }
          ],
          "surface": [
           {
            "colorbar": {
             "outlinewidth": 0,
             "ticks": ""
            },
            "colorscale": [
             [
              0,
              "#0d0887"
             ],
             [
              0.1111111111111111,
              "#46039f"
             ],
             [
              0.2222222222222222,
              "#7201a8"
             ],
             [
              0.3333333333333333,
              "#9c179e"
             ],
             [
              0.4444444444444444,
              "#bd3786"
             ],
             [
              0.5555555555555556,
              "#d8576b"
             ],
             [
              0.6666666666666666,
              "#ed7953"
             ],
             [
              0.7777777777777778,
              "#fb9f3a"
             ],
             [
              0.8888888888888888,
              "#fdca26"
             ],
             [
              1,
              "#f0f921"
             ]
            ],
            "type": "surface"
           }
          ],
          "table": [
           {
            "cells": {
             "fill": {
              "color": "#EBF0F8"
             },
             "line": {
              "color": "white"
             }
            },
            "header": {
             "fill": {
              "color": "#C8D4E3"
             },
             "line": {
              "color": "white"
             }
            },
            "type": "table"
           }
          ]
         },
         "layout": {
          "annotationdefaults": {
           "arrowcolor": "#2a3f5f",
           "arrowhead": 0,
           "arrowwidth": 1
          },
          "coloraxis": {
           "colorbar": {
            "outlinewidth": 0,
            "ticks": ""
           }
          },
          "colorscale": {
           "diverging": [
            [
             0,
             "#8e0152"
            ],
            [
             0.1,
             "#c51b7d"
            ],
            [
             0.2,
             "#de77ae"
            ],
            [
             0.3,
             "#f1b6da"
            ],
            [
             0.4,
             "#fde0ef"
            ],
            [
             0.5,
             "#f7f7f7"
            ],
            [
             0.6,
             "#e6f5d0"
            ],
            [
             0.7,
             "#b8e186"
            ],
            [
             0.8,
             "#7fbc41"
            ],
            [
             0.9,
             "#4d9221"
            ],
            [
             1,
             "#276419"
            ]
           ],
           "sequential": [
            [
             0,
             "#0d0887"
            ],
            [
             0.1111111111111111,
             "#46039f"
            ],
            [
             0.2222222222222222,
             "#7201a8"
            ],
            [
             0.3333333333333333,
             "#9c179e"
            ],
            [
             0.4444444444444444,
             "#bd3786"
            ],
            [
             0.5555555555555556,
             "#d8576b"
            ],
            [
             0.6666666666666666,
             "#ed7953"
            ],
            [
             0.7777777777777778,
             "#fb9f3a"
            ],
            [
             0.8888888888888888,
             "#fdca26"
            ],
            [
             1,
             "#f0f921"
            ]
           ],
           "sequentialminus": [
            [
             0,
             "#0d0887"
            ],
            [
             0.1111111111111111,
             "#46039f"
            ],
            [
             0.2222222222222222,
             "#7201a8"
            ],
            [
             0.3333333333333333,
             "#9c179e"
            ],
            [
             0.4444444444444444,
             "#bd3786"
            ],
            [
             0.5555555555555556,
             "#d8576b"
            ],
            [
             0.6666666666666666,
             "#ed7953"
            ],
            [
             0.7777777777777778,
             "#fb9f3a"
            ],
            [
             0.8888888888888888,
             "#fdca26"
            ],
            [
             1,
             "#f0f921"
            ]
           ]
          },
          "colorway": [
           "#636efa",
           "#EF553B",
           "#00cc96",
           "#ab63fa",
           "#FFA15A",
           "#19d3f3",
           "#FF6692",
           "#B6E880",
           "#FF97FF",
           "#FECB52"
          ],
          "font": {
           "color": "#2a3f5f"
          },
          "geo": {
           "bgcolor": "white",
           "lakecolor": "white",
           "landcolor": "white",
           "showlakes": true,
           "showland": true,
           "subunitcolor": "#C8D4E3"
          },
          "hoverlabel": {
           "align": "left"
          },
          "hovermode": "closest",
          "mapbox": {
           "style": "light"
          },
          "paper_bgcolor": "white",
          "plot_bgcolor": "white",
          "polar": {
           "angularaxis": {
            "gridcolor": "#EBF0F8",
            "linecolor": "#EBF0F8",
            "ticks": ""
           },
           "bgcolor": "white",
           "radialaxis": {
            "gridcolor": "#EBF0F8",
            "linecolor": "#EBF0F8",
            "ticks": ""
           }
          },
          "scene": {
           "xaxis": {
            "backgroundcolor": "white",
            "gridcolor": "#DFE8F3",
            "gridwidth": 2,
            "linecolor": "#EBF0F8",
            "showbackground": true,
            "ticks": "",
            "zerolinecolor": "#EBF0F8"
           },
           "yaxis": {
            "backgroundcolor": "white",
            "gridcolor": "#DFE8F3",
            "gridwidth": 2,
            "linecolor": "#EBF0F8",
            "showbackground": true,
            "ticks": "",
            "zerolinecolor": "#EBF0F8"
           },
           "zaxis": {
            "backgroundcolor": "white",
            "gridcolor": "#DFE8F3",
            "gridwidth": 2,
            "linecolor": "#EBF0F8",
            "showbackground": true,
            "ticks": "",
            "zerolinecolor": "#EBF0F8"
           }
          },
          "shapedefaults": {
           "line": {
            "color": "#2a3f5f"
           }
          },
          "ternary": {
           "aaxis": {
            "gridcolor": "#DFE8F3",
            "linecolor": "#A2B1C6",
            "ticks": ""
           },
           "baxis": {
            "gridcolor": "#DFE8F3",
            "linecolor": "#A2B1C6",
            "ticks": ""
           },
           "bgcolor": "white",
           "caxis": {
            "gridcolor": "#DFE8F3",
            "linecolor": "#A2B1C6",
            "ticks": ""
           }
          },
          "title": {
           "x": 0.05
          },
          "xaxis": {
           "automargin": true,
           "gridcolor": "#EBF0F8",
           "linecolor": "#EBF0F8",
           "ticks": "",
           "title": {
            "standoff": 15
           },
           "zerolinecolor": "#EBF0F8",
           "zerolinewidth": 2
          },
          "yaxis": {
           "automargin": true,
           "gridcolor": "#EBF0F8",
           "linecolor": "#EBF0F8",
           "ticks": "",
           "title": {
            "standoff": 15
           },
           "zerolinecolor": "#EBF0F8",
           "zerolinewidth": 2
          }
         }
        },
        "title": {
         "text": "Time taken (eviabm)"
        },
        "uniformtext": {
         "minsize": 8,
         "mode": "hide"
        },
        "width": 400,
        "xaxis": {
         "autorange": true,
         "range": [
          -21.025197984161274,
          319.02519798416125
         ],
         "title": {
          "text": "Analysis ID"
         },
         "type": "category"
        },
        "yaxis": {
         "autorange": true,
         "range": [
          -584.7282110091743,
          10171.728211009175
         ],
         "title": {
          "text": "Time taken (min)"
         },
         "type": "linear"
        }
       }
      },
      "image/png": "[encoded data removed]",
      "text/html": [
       "<div>                            <div id=\"0abc7406-bb3b-426f-8197-15c66fc041fb\" class=\"plotly-graph-div\" style=\"height:400px; width:400px;\"></div>            <script type=\"text/javascript\">                require([\"plotly\"], function(Plotly) {                    window.PLOTLYENV=window.PLOTLYENV || {};                                    if (document.getElementById(\"0abc7406-bb3b-426f-8197-15c66fc041fb\")) {                    Plotly.newPlot(                        \"0abc7406-bb3b-426f-8197-15c66fc041fb\",                        [{\"mode\": \"lines+markers+text\", \"name\": \"lines+markers\", \"type\": \"scatter\", \"x\": [\"57\", \"60\", \"67\", \"70\", \"71\", \"78\", \"79\", \"80\", \"81\", \"82\", \"83\", \"84\", \"85\", \"87\", \"88\", \"90\", \"91\", \"92\", \"110\", \"111\", \"112\", \"113\", \"114\", \"115\", \"116\", \"117\", \"118\", \"120\", \"119\", \"121\", \"123\", \"122\", \"124\", \"125\", \"126\", \"127\", \"132\", \"133\", \"134\", \"148\", \"149\", \"150\", \"152\", \"151\", \"153\", \"154\", \"155\", \"156\", \"159\", \"157\", \"158\", \"160\", \"161\", \"162\", \"163\", \"170\", \"171\", \"173\", \"174\", \"175\", \"176\", \"177\", \"178\", \"183\", \"184\", \"185\", \"186\", \"188\", \"187\", \"189\", \"190\", \"191\", \"192\", \"193\", \"194\", \"195\", \"196\", \"197\", \"198\", \"200\", \"199\", \"201\", \"202\", \"203\", \"204\", \"205\", \"206\", \"211\", \"212\", \"217\", \"216\", \"213\", \"214\", \"215\", \"218\", \"219\", \"220\", \"221\", \"222\", \"223\", \"224\", \"226\", \"225\", \"227\", \"228\", \"231\", \"230\", \"229\", \"232\", \"233\", \"234\", \"235\", \"236\", \"237\", \"238\", \"239\", \"240\", \"241\", \"243\", \"242\", \"245\", \"246\", \"247\", \"244\", \"249\", \"248\", \"250\", \"251\", \"252\", \"253\", \"256\", \"254\", \"255\", \"257\", \"258\", \"259\", \"260\", \"261\", \"262\", \"263\", \"264\", \"265\", \"267\", \"266\", \"268\", \"269\", \"271\", \"272\", \"273\", \"275\", \"276\", \"277\", \"274\", \"281\", \"282\", \"286\", \"285\", \"284\", \"295\", \"296\", \"297\", \"298\", \"299\", \"300\", \"301\", \"302\", \"306\", \"305\", \"307\", \"308\", \"310\", \"309\", \"313\", \"317\", \"315\", \"316\", \"314\", \"319\", \"322\", \"320\", \"321\", \"323\", \"327\", \"326\", \"324\", \"328\", \"325\", \"330\", \"332\", \"331\", \"334\", \"335\", \"336\", \"337\", \"338\", \"340\", \"341\", \"342\", \"344\", \"343\", \"345\", \"350\", \"349\", \"347\", \"346\", \"348\", \"351\", \"353\", \"352\", \"354\", \"355\", \"356\", \"369\", \"368\", \"367\", \"366\", \"358\", \"365\", \"364\", \"363\", \"362\", \"361\", \"370\", \"371\", \"378\", \"379\", \"380\", \"389\", \"388\", \"390\", \"392\", \"391\", \"395\", \"397\", \"396\", \"386\", \"393\", \"398\", \"400\", \"394\", \"387\", \"399\", \"402\", \"406\", \"403\", \"407\", \"405\", \"404\", \"408\", \"412\", \"413\", \"410\", \"409\", \"411\", \"422\", \"421\", \"420\", \"419\", \"418\", \"417\", \"416\", \"415\", \"423\", \"424\", \"425\", \"426\", \"427\", \"428\", \"429\", \"430\", \"432\", \"431\", \"434\", \"435\", \"433\", \"436\", \"437\", \"438\", \"439\", \"440\", \"441\", \"442\", \"443\", \"444\", \"445\", \"446\", \"449\", \"448\", \"447\", \"455\", \"456\", \"453\", \"457\", \"451\", \"450\", \"452\", \"454\", \"459\", \"458\"], \"y\": [9499.0, 7709.0, 8520.0, 8424.0, 2105.0, 248.0, 223.0, 250.0, 258.0, 236.0, 248.0, 249.0, 239.0, 239.0, 232.0, 258.0, 270.0, 247.0, 241.0, 232.0, 246.0, 271.0, 262.0, 250.0, 153.0, 152.0, 158.0, 148.0, 172.0, 221.0, 172.0, 215.0, 146.0, 211.0, 160.0, 199.0, 143.0, 180.0, 150.0, 142.0, 152.0, 139.0, 176.0, 186.0, 137.0, 128.0, 163.0, 155.0, 477.0, 441.0, 514.0, 562.0, 393.0, 406.0, 409.0, 200.0, 230.0, 433.0, 252.0, 303.0, 361.0, 393.0, 415.0, 998.0, 1100.0, 830.0, 836.0, 815.0, 843.0, 385.0, 446.0, 475.0, 454.0, 122.0, 109.0, 107.0, 92.0, 146.0, 147.0, 156.0, 151.0, 152.0, 175.0, 152.0, 149.0, 196.0, 190.0, 156.0, 160.0, 175.0, 152.0, 149.0, 153.0, 147.0, 153.0, 171.0, 149.0, 163.0, 146.0, 180.0, 162.0, 146.0, 179.0, 150.0, 143.0, 174.0, 153.0, 147.0, 150.0, 147.0, 149.0, 144.0, 132.0, 133.0, 149.0, 149.0, 172.0, 168.0, 146.0, 154.0, 199.0, 184.0, 181.0, 191.0, 154.0, 152.0, 224.0, 202.0, 194.0, 193.0, 148.0, 200.0, 163.0, 183.0, 177.0, 169.0, 190.0, 158.0, 168.0, 158.0, 201.0, 182.0, 175.0, 181.0, 153.0, 150.0, 163.0, 175.0, 188.0, 164.0, 151.0, 205.0, 177.0, 169.0, 176.0, 112.0, 169.0, 325.0, 161.0, 172.0, 164.0, 186.0, 187.0, 182.0, 182.0, 173.0, 205.0, 199.0, 175.0, 204.0, 211.0, 171.0, 174.0, 174.0, 182.0, 167.0, 171.0, 235.0, 248.0, 250.0, 238.0, 241.0, 311.0, 240.0, 306.0, 334.0, 350.0, 209.0, 141.0, 157.0, 145.0, 171.0, 168.0, 154.0, 147.0, 154.0, 141.0, 167.0, 140.0, 160.0, 152.0, 165.0, 166.0, 159.0, 168.0, 188.0, 154.0, 145.0, 180.0, 135.0, 164.0, 148.0, 88.0, 114.0, 129.0, 145.0, 150.0, 198.0, 245.0, 423.0, 1084.0, 4474.0, 147.0, 155.0, 732.0, 150.0, 168.0, 173.0, 161.0, 150.0, 134.0, 150.0, 150.0, 129.0, 136.0, 160.0, 152.0, 149.0, 160.0, 154.0, 169.0, 147.0, 183.0, 153.0, 171.0, 152.0, 183.0, 164.0, 181.0, 185.0, 201.0, 213.0, 222.0, 211.0, 101.0, 129.0, 145.0, 199.0, 268.0, 407.0, 758.0, 2182.0, 249.0, 263.0, 271.0, 282.0, 300.0, 218.0, 212.0, 219.0, 232.0, 224.0, 163.0, 128.0, 143.0, 142.0, 153.0, 206.0, 220.0, 239.0, 225.0, 222.0, 214.0, 226.0, 264.0, 231.0, 200.0, 186.0, 209.0, 192.0, 189.0, 222.0, 218.0, 227.0, 230.0, 243.0, 220.0, 205.0, 222.0]}],                        {\"height\": 400, \"margin\": {\"b\": 20, \"l\": 20, \"r\": 20, \"t\": 30}, \"template\": {\"data\": {\"bar\": [{\"error_x\": {\"color\": \"#2a3f5f\"}, \"error_y\": {\"color\": \"#2a3f5f\"}, \"marker\": {\"line\": {\"color\": \"white\", \"width\": 0.5}}, \"type\": \"bar\"}], \"barpolar\": [{\"marker\": {\"line\": {\"color\": \"white\", \"width\": 0.5}}, \"type\": \"barpolar\"}], \"carpet\": [{\"aaxis\": {\"endlinecolor\": \"#2a3f5f\", \"gridcolor\": \"#C8D4E3\", \"linecolor\": \"#C8D4E3\", \"minorgridcolor\": \"#C8D4E3\", \"startlinecolor\": \"#2a3f5f\"}, \"baxis\": {\"endlinecolor\": \"#2a3f5f\", \"gridcolor\": \"#C8D4E3\", \"linecolor\": \"#C8D4E3\", \"minorgridcolor\": \"#C8D4E3\", \"startlinecolor\": \"#2a3f5f\"}, \"type\": \"carpet\"}], \"choropleth\": [{\"colorbar\": {\"outlinewidth\": 0, \"ticks\": \"\"}, \"type\": \"choropleth\"}], \"contour\": [{\"colorbar\": {\"outlinewidth\": 0, \"ticks\": \"\"}, \"colorscale\": [[0.0, \"#0d0887\"], [0.1111111111111111, \"#46039f\"], [0.2222222222222222, \"#7201a8\"], [0.3333333333333333, \"#9c179e\"], [0.4444444444444444, \"#bd3786\"], [0.5555555555555556, \"#d8576b\"], [0.6666666666666666, \"#ed7953\"], [0.7777777777777778, \"#fb9f3a\"], [0.8888888888888888, \"#fdca26\"], [1.0, \"#f0f921\"]], \"type\": \"contour\"}], \"contourcarpet\": [{\"colorbar\": {\"outlinewidth\": 0, \"ticks\": \"\"}, \"type\": \"contourcarpet\"}], \"heatmap\": [{\"colorbar\": {\"outlinewidth\": 0, \"ticks\": \"\"}, \"colorscale\": [[0.0, \"#0d0887\"], [0.1111111111111111, \"#46039f\"], [0.2222222222222222, \"#7201a8\"], [0.3333333333333333, \"#9c179e\"], [0.4444444444444444, \"#bd3786\"], [0.5555555555555556, \"#d8576b\"], [0.6666666666666666, \"#ed7953\"], [0.7777777777777778, \"#fb9f3a\"], [0.8888888888888888, \"#fdca26\"], [1.0, \"#f0f921\"]], \"type\": \"heatmap\"}], \"heatmapgl\": [{\"colorbar\": {\"outlinewidth\": 0, \"ticks\": \"\"}, \"colorscale\": [[0.0, \"#0d0887\"], [0.1111111111111111, \"#46039f\"], [0.2222222222222222, \"#7201a8\"], [0.3333333333333333, \"#9c179e\"], [0.4444444444444444, \"#bd3786\"], [0.5555555555555556, \"#d8576b\"], [0.6666666666666666, \"#ed7953\"], [0.7777777777777778, \"#fb9f3a\"], [0.8888888888888888, \"#fdca26\"], [1.0, \"#f0f921\"]], \"type\": \"heatmapgl\"}], \"histogram\": [{\"marker\": {\"colorbar\": {\"outlinewidth\": 0, \"ticks\": \"\"}}, \"type\": \"histogram\"}], \"histogram2d\": [{\"colorbar\": {\"outlinewidth\": 0, \"ticks\": \"\"}, \"colorscale\": [[0.0, \"#0d0887\"], [0.1111111111111111, \"#46039f\"], [0.2222222222222222, \"#7201a8\"], [0.3333333333333333, \"#9c179e\"], [0.4444444444444444, \"#bd3786\"], [0.5555555555555556, \"#d8576b\"], [0.6666666666666666, \"#ed7953\"], [0.7777777777777778, \"#fb9f3a\"], [0.8888888888888888, \"#fdca26\"], [1.0, \"#f0f921\"]], \"type\": \"histogram2d\"}], \"histogram2dcontour\": [{\"colorbar\": {\"outlinewidth\": 0, \"ticks\": \"\"}, \"colorscale\": [[0.0, \"#0d0887\"], [0.1111111111111111, \"#46039f\"], [0.2222222222222222, \"#7201a8\"], [0.3333333333333333, \"#9c179e\"], [0.4444444444444444, \"#bd3786\"], [0.5555555555555556, \"#d8576b\"], [0.6666666666666666, \"#ed7953\"], [0.7777777777777778, \"#fb9f3a\"], [0.8888888888888888, \"#fdca26\"], [1.0, \"#f0f921\"]], \"type\": \"histogram2dcontour\"}], \"mesh3d\": [{\"colorbar\": {\"outlinewidth\": 0, \"ticks\": \"\"}, \"type\": \"mesh3d\"}], \"parcoords\": [{\"line\": {\"colorbar\": {\"outlinewidth\": 0, \"ticks\": \"\"}}, \"type\": \"parcoords\"}], \"pie\": [{\"automargin\": true, \"type\": \"pie\"}], \"scatter\": [{\"marker\": {\"colorbar\": {\"outlinewidth\": 0, \"ticks\": \"\"}}, \"type\": \"scatter\"}], \"scatter3d\": [{\"line\": {\"colorbar\": {\"outlinewidth\": 0, \"ticks\": \"\"}}, \"marker\": {\"colorbar\": {\"outlinewidth\": 0, \"ticks\": \"\"}}, \"type\": \"scatter3d\"}], \"scattercarpet\": [{\"marker\": {\"colorbar\": {\"outlinewidth\": 0, \"ticks\": \"\"}}, \"type\": \"scattercarpet\"}], \"scattergeo\": [{\"marker\": {\"colorbar\": {\"outlinewidth\": 0, \"ticks\": \"\"}}, \"type\": \"scattergeo\"}], \"scattergl\": [{\"marker\": {\"colorbar\": {\"outlinewidth\": 0, \"ticks\": \"\"}}, \"type\": \"scattergl\"}], \"scattermapbox\": [{\"marker\": {\"colorbar\": {\"outlinewidth\": 0, \"ticks\": \"\"}}, \"type\": \"scattermapbox\"}], \"scatterpolar\": [{\"marker\": {\"colorbar\": {\"outlinewidth\": 0, \"ticks\": \"\"}}, \"type\": \"scatterpolar\"}], \"scatterpolargl\": [{\"marker\": {\"colorbar\": {\"outlinewidth\": 0, \"ticks\": \"\"}}, \"type\": \"scatterpolargl\"}], \"scatterternary\": [{\"marker\": {\"colorbar\": {\"outlinewidth\": 0, \"ticks\": \"\"}}, \"type\": \"scatterternary\"}], \"surface\": [{\"colorbar\": {\"outlinewidth\": 0, \"ticks\": \"\"}, \"colorscale\": [[0.0, \"#0d0887\"], [0.1111111111111111, \"#46039f\"], [0.2222222222222222, \"#7201a8\"], [0.3333333333333333, \"#9c179e\"], [0.4444444444444444, \"#bd3786\"], [0.5555555555555556, \"#d8576b\"], [0.6666666666666666, \"#ed7953\"], [0.7777777777777778, \"#fb9f3a\"], [0.8888888888888888, \"#fdca26\"], [1.0, \"#f0f921\"]], \"type\": \"surface\"}], \"table\": [{\"cells\": {\"fill\": {\"color\": \"#EBF0F8\"}, \"line\": {\"color\": \"white\"}}, \"header\": {\"fill\": {\"color\": \"#C8D4E3\"}, \"line\": {\"color\": \"white\"}}, \"type\": \"table\"}]}, \"layout\": {\"annotationdefaults\": {\"arrowcolor\": \"#2a3f5f\", \"arrowhead\": 0, \"arrowwidth\": 1}, \"coloraxis\": {\"colorbar\": {\"outlinewidth\": 0, \"ticks\": \"\"}}, \"colorscale\": {\"diverging\": [[0, \"#8e0152\"], [0.1, \"#c51b7d\"], [0.2, \"#de77ae\"], [0.3, \"#f1b6da\"], [0.4, \"#fde0ef\"], [0.5, \"#f7f7f7\"], [0.6, \"#e6f5d0\"], [0.7, \"#b8e186\"], [0.8, \"#7fbc41\"], [0.9, \"#4d9221\"], [1, \"#276419\"]], \"sequential\": [[0.0, \"#0d0887\"], [0.1111111111111111, \"#46039f\"], [0.2222222222222222, \"#7201a8\"], [0.3333333333333333, \"#9c179e\"], [0.4444444444444444, \"#bd3786\"], [0.5555555555555556, \"#d8576b\"], [0.6666666666666666, \"#ed7953\"], [0.7777777777777778, \"#fb9f3a\"], [0.8888888888888888, \"#fdca26\"], [1.0, \"#f0f921\"]], \"sequentialminus\": [[0.0, \"#0d0887\"], [0.1111111111111111, \"#46039f\"], [0.2222222222222222, \"#7201a8\"], [0.3333333333333333, \"#9c179e\"], [0.4444444444444444, \"#bd3786\"], [0.5555555555555556, \"#d8576b\"], [0.6666666666666666, \"#ed7953\"], [0.7777777777777778, \"#fb9f3a\"], [0.8888888888888888, \"#fdca26\"], [1.0, \"#f0f921\"]]}, \"colorway\": [\"#636efa\", \"#EF553B\", \"#00cc96\", \"#ab63fa\", \"#FFA15A\", \"#19d3f3\", \"#FF6692\", \"#B6E880\", \"#FF97FF\", \"#FECB52\"], \"font\": {\"color\": \"#2a3f5f\"}, \"geo\": {\"bgcolor\": \"white\", \"lakecolor\": \"white\", \"landcolor\": \"white\", \"showlakes\": true, \"showland\": true, \"subunitcolor\": \"#C8D4E3\"}, \"hoverlabel\": {\"align\": \"left\"}, \"hovermode\": \"closest\", \"mapbox\": {\"style\": \"light\"}, \"paper_bgcolor\": \"white\", \"plot_bgcolor\": \"white\", \"polar\": {\"angularaxis\": {\"gridcolor\": \"#EBF0F8\", \"linecolor\": \"#EBF0F8\", \"ticks\": \"\"}, \"bgcolor\": \"white\", \"radialaxis\": {\"gridcolor\": \"#EBF0F8\", \"linecolor\": \"#EBF0F8\", \"ticks\": \"\"}}, \"scene\": {\"xaxis\": {\"backgroundcolor\": \"white\", \"gridcolor\": \"#DFE8F3\", \"gridwidth\": 2, \"linecolor\": \"#EBF0F8\", \"showbackground\": true, \"ticks\": \"\", \"zerolinecolor\": \"#EBF0F8\"}, \"yaxis\": {\"backgroundcolor\": \"white\", \"gridcolor\": \"#DFE8F3\", \"gridwidth\": 2, \"linecolor\": \"#EBF0F8\", \"showbackground\": true, \"ticks\": \"\", \"zerolinecolor\": \"#EBF0F8\"}, \"zaxis\": {\"backgroundcolor\": \"white\", \"gridcolor\": \"#DFE8F3\", \"gridwidth\": 2, \"linecolor\": \"#EBF0F8\", \"showbackground\": true, \"ticks\": \"\", \"zerolinecolor\": \"#EBF0F8\"}}, \"shapedefaults\": {\"line\": {\"color\": \"#2a3f5f\"}}, \"ternary\": {\"aaxis\": {\"gridcolor\": \"#DFE8F3\", \"linecolor\": \"#A2B1C6\", \"ticks\": \"\"}, \"baxis\": {\"gridcolor\": \"#DFE8F3\", \"linecolor\": \"#A2B1C6\", \"ticks\": \"\"}, \"bgcolor\": \"white\", \"caxis\": {\"gridcolor\": \"#DFE8F3\", \"linecolor\": \"#A2B1C6\", \"ticks\": \"\"}}, \"title\": {\"x\": 0.05}, \"xaxis\": {\"automargin\": true, \"gridcolor\": \"#EBF0F8\", \"linecolor\": \"#EBF0F8\", \"ticks\": \"\", \"title\": {\"standoff\": 15}, \"zerolinecolor\": \"#EBF0F8\", \"zerolinewidth\": 2}, \"yaxis\": {\"automargin\": true, \"gridcolor\": \"#EBF0F8\", \"linecolor\": \"#EBF0F8\", \"ticks\": \"\", \"title\": {\"standoff\": 15}, \"zerolinecolor\": \"#EBF0F8\", \"zerolinewidth\": 2}}}, \"title\": {\"text\": \"Time taken (eviabm)\"}, \"uniformtext\": {\"minsize\": 8, \"mode\": \"hide\"}, \"width\": 400, \"xaxis\": {\"title\": {\"text\": \"Analysis ID\"}, \"type\": \"category\"}, \"yaxis\": {\"title\": {\"text\": \"Time taken (min)\"}}},                        {\"responsive\": true}                    ).then(function(){\n",
       "                            \n",
       "var gd = document.getElementById('0abc7406-bb3b-426f-8197-15c66fc041fb');\n",
       "var x = new MutationObserver(function (mutations, observer) {{\n",
       "        var display = window.getComputedStyle(gd).display;\n",
       "        if (!display || display === 'none') {{\n",
       "            console.log([gd, 'removed!']);\n",
       "            Plotly.purge(gd);\n",
       "            observer.disconnect();\n",
       "        }}\n",
       "}});\n",
       "\n",
       "// Listen for the removal of the full notebook cells\n",
       "var notebookContainer = gd.closest('#notebook-container');\n",
       "if (notebookContainer) {{\n",
       "    x.observe(notebookContainer, {childList: true});\n",
       "}}\n",
       "\n",
       "// Listen for the clearing of the current output cell\n",
       "var outputEl = gd.closest('.output');\n",
       "if (outputEl) {{\n",
       "    x.observe(outputEl, {childList: true});\n",
       "}}\n",
       "\n",
       "                        })                };                });            </script>        </div>"
      ]
     },
     "metadata": {},
     "output_type": "display_data"
    }
   ],
   "source": [
    "fig = go.Figure()\n",
    "fig.add_trace(go.Scatter(x=count_stats['aid'], y=count_stats['time_taken_eviabm'],\n",
    "                    mode='lines+markers+text',\n",
    "                    name='lines+markers'))\n",
    "fig.update_xaxes(type='category')\n",
    "fig.update_layout(title=\"Time taken (eviabm)\",\n",
    "                  yaxis_title=\"Time taken (min)\", \n",
    "                  xaxis_title=\"Analysis ID\", \n",
    "                  uniformtext_minsize=8, \n",
    "                  uniformtext_mode='hide', \n",
    "                  width=400, \n",
    "                  height=400, \n",
    "                  margin=dict(l=20, r=20, t=30, b=20),\n",
    "                  template='plotly_white')\n",
    "fig.show()"
   ]
  },
  {
   "cell_type": "code",
   "execution_count": null,
   "metadata": {},
   "outputs": [],
   "source": []
  }
 ],
 "metadata": {
  "kernelspec": {
   "display_name": "Python 3",
   "language": "python",
   "name": "python3"
  },
  "language_info": {
   "codemirror_mode": {
    "name": "ipython",
    "version": 3
   },
   "file_extension": ".py",
   "mimetype": "text/x-python",
   "name": "python",
   "nbconvert_exporter": "python",
   "pygments_lexer": "ipython3",
   "version": "3.8.8"
  }
 },
 "nbformat": 4,
 "nbformat_minor": 4
}
